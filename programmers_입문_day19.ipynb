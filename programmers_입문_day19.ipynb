{
  "nbformat": 4,
  "nbformat_minor": 0,
  "metadata": {
    "colab": {
      "provenance": [],
      "authorship_tag": "ABX9TyPrwk3XQdrRo9UkQi9CZL88",
      "include_colab_link": true
    },
    "kernelspec": {
      "name": "python3",
      "display_name": "Python 3"
    },
    "language_info": {
      "name": "python"
    }
  },
  "cells": [
    {
      "cell_type": "markdown",
      "metadata": {
        "id": "view-in-github",
        "colab_type": "text"
      },
      "source": [
        "<a href=\"https://colab.research.google.com/github/neysin/orm/blob/main/programmers_%EC%9E%85%EB%AC%B8_day19.ipynb\" target=\"_parent\"><img src=\"https://colab.research.google.com/assets/colab-badge.svg\" alt=\"Open In Colab\"/></a>"
      ]
    },
    {
      "cell_type": "code",
      "execution_count": 1,
      "metadata": {
        "colab": {
          "base_uri": "https://localhost:8080/"
        },
        "id": "6_ICu4Ai_Eq6",
        "outputId": "0af5517f-7e1b-4df1-b453-98a4a7c9de8b"
      },
      "outputs": [
        {
          "output_type": "execute_result",
          "data": {
            "text/plain": [
              "4"
            ]
          },
          "metadata": {},
          "execution_count": 1
        }
      ],
      "source": [
        "# 7의 개수\n",
        "def solution(array):\n",
        "    count = 0\n",
        "    for i in array:\n",
        "        for j in str(i):\n",
        "            if j == str(7):\n",
        "                count += 1\n",
        "\n",
        "    return count\n",
        "\n",
        "\n",
        "array = [7, 77, 17]\n",
        "solution(array)"
      ]
    },
    {
      "cell_type": "markdown",
      "source": [
        "잘라서 배열로 저장하기"
      ],
      "metadata": {
        "id": "iIwxrw8lEzDu"
      }
    },
    {
      "cell_type": "code",
      "source": [
        "# 잘라서 배열로 저장하기\n",
        "def solution(my_str, n):\n",
        "    l = []\n",
        "    while len(my_str) >= n:\n",
        "        l.append(my_str[0:n])\n",
        "        my_str = my_str[n:]\n",
        "\n",
        "    if 0 < len(my_str) < n:\n",
        "        l.append(my_str)\n",
        "\n",
        "    return l\n",
        "\n",
        "\n",
        "\n",
        "my_str = \"abc1Addfggg4556b\"\n",
        "n = 6\n",
        "solution(my_str, n)"
      ],
      "metadata": {
        "colab": {
          "base_uri": "https://localhost:8080/"
        },
        "id": "fg3T5Vgh_pk_",
        "outputId": "cc10bcd4-fea5-4633-c5af-4414421c3668"
      },
      "execution_count": 4,
      "outputs": [
        {
          "output_type": "execute_result",
          "data": {
            "text/plain": [
              "['abc1Ad', 'dfggg4', '556b']"
            ]
          },
          "metadata": {},
          "execution_count": 4
        }
      ]
    },
    {
      "cell_type": "code",
      "source": [
        "# range를 통해 n의 간격으로 i를 추출, 이를 통해 n의 배수 만큼 슬라이싱을 시작할 수 있게 됨\n",
        "# i: i+n 으로 슬라이싱을 하여 n개수 만큼 추출되게 반환\n",
        "def solution(my_str, n):\n",
        "    return [my_str[i: i + n] for i in range(0, len(my_str), n)]"
      ],
      "metadata": {
        "id": "rxj2M7OZDtR8"
      },
      "execution_count": null,
      "outputs": []
    },
    {
      "cell_type": "code",
      "source": [
        "# 중복된 숫자 개수\n",
        "def solution(array, n):\n",
        "    count = 0\n",
        "    for i in array:\n",
        "        if i == n:\n",
        "            count += 1\n",
        "\n",
        "    return count\n",
        "\n",
        "array = [1, 1, 2, 3, 4, 5]\n",
        "n = 1\n",
        "solution(array, n)"
      ],
      "metadata": {
        "colab": {
          "base_uri": "https://localhost:8080/"
        },
        "id": "mE9yvZ9pE4SU",
        "outputId": "fb79e3a0-6211-455a-a534-cfb1f1739ff0"
      },
      "execution_count": 6,
      "outputs": [
        {
          "output_type": "execute_result",
          "data": {
            "text/plain": [
              "2"
            ]
          },
          "metadata": {},
          "execution_count": 6
        }
      ]
    },
    {
      "cell_type": "code",
      "source": [
        "# 머쓱이보다 키 큰 사람\n",
        "def solution(array, height):\n",
        "    array.append(height)\n",
        "    sort_array = sorted(array, reverse = True)\n",
        "    return sort_array.index(height)\n",
        "\n",
        "array = [149, 180, 192, 170]\n",
        "height = 167\n",
        "solution(array, height)"
      ],
      "metadata": {
        "colab": {
          "base_uri": "https://localhost:8080/"
        },
        "id": "Slr8zEOMFH0a",
        "outputId": "c1a2405f-6140-4e01-ede8-e3bdd9c76608"
      },
      "execution_count": 10,
      "outputs": [
        {
          "output_type": "execute_result",
          "data": {
            "text/plain": [
              "3"
            ]
          },
          "metadata": {},
          "execution_count": 10
        }
      ]
    }
  ]
}