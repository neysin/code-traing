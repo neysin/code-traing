{
  "nbformat": 4,
  "nbformat_minor": 0,
  "metadata": {
    "colab": {
      "provenance": [],
      "authorship_tag": "ABX9TyNsCKEfvDdtahq2TIgavZKf",
      "include_colab_link": true
    },
    "kernelspec": {
      "name": "python3",
      "display_name": "Python 3"
    },
    "language_info": {
      "name": "python"
    }
  },
  "cells": [
    {
      "cell_type": "markdown",
      "metadata": {
        "id": "view-in-github",
        "colab_type": "text"
      },
      "source": [
        "<a href=\"https://colab.research.google.com/github/neysin/orm/blob/main/pyalgo_19~20.ipynb\" target=\"_parent\"><img src=\"https://colab.research.google.com/assets/colab-badge.svg\" alt=\"Open In Colab\"/></a>"
      ]
    },
    {
      "cell_type": "code",
      "source": [
        "# 문제 19번\n",
        "def solution(data):\n",
        "    l = []\n",
        "    for i in data:\n",
        "        l.append(str(type(i))[8:-2])\n",
        "    return l\n",
        "\n",
        "data = [123, 4.56, 'hello', [1, 2, 3], (4, 5), {'a': 1, 'b': 2}]\n",
        "solution(data)"
      ],
      "metadata": {
        "colab": {
          "base_uri": "https://localhost:8080/"
        },
        "id": "SpnxGP1qRyOx",
        "outputId": "0e80d966-89b3-4a26-d14f-e35eedf9d795"
      },
      "execution_count": 14,
      "outputs": [
        {
          "output_type": "execute_result",
          "data": {
            "text/plain": [
              "['int', 'float', 'str', 'list', 'tuple', 'dict']"
            ]
          },
          "metadata": {},
          "execution_count": 14
        }
      ]
    },
    {
      "cell_type": "code",
      "source": [
        "# 문제 20번\n",
        "def solution(data):\n",
        "    l =[]\n",
        "    for i in data:\n",
        "        # 튜플의 0번째 요소에서 '' 을 제거\n",
        "        # 튜플의 1번째 요소에서 타입을 확인 후 타입의 이름만 인덱싱\n",
        "        data_str = i[0].replace(\"'\", \"\")\n",
        "        data_type = str(type(i[1]))[8:-2]\n",
        "\n",
        "        # 위의 두 요소가 일치하면 True, 아니면 False를 리스트 l에 반환\n",
        "        if data_type == data_str:\n",
        "            l.append(True)\n",
        "        else:\n",
        "            l.append(False)\n",
        "\n",
        "    # 리스트 l에 False가 있다면 결과로 False를 반환, 아니면 True를 반환\n",
        "    if False in l:\n",
        "        return False\n",
        "    else:\n",
        "        return True\n",
        "\n",
        "\n",
        "data = [('list', [1, 2, 3]), ('int', 4), ('str', 'hello')]\n",
        "solution(data)"
      ],
      "metadata": {
        "colab": {
          "base_uri": "https://localhost:8080/"
        },
        "id": "hx6OA-oiUYTH",
        "outputId": "84b64984-6242-4238-bfb1-a71777ea6cc7"
      },
      "execution_count": 92,
      "outputs": [
        {
          "output_type": "execute_result",
          "data": {
            "text/plain": [
              "True"
            ]
          },
          "metadata": {},
          "execution_count": 92
        }
      ]
    }
  ]
}