{
  "nbformat": 4,
  "nbformat_minor": 0,
  "metadata": {
    "colab": {
      "provenance": [],
      "authorship_tag": "ABX9TyNVA4UGZ9nPMvD7AFrvNB9w",
      "include_colab_link": true
    },
    "kernelspec": {
      "name": "python3",
      "display_name": "Python 3"
    },
    "language_info": {
      "name": "python"
    }
  },
  "cells": [
    {
      "cell_type": "markdown",
      "metadata": {
        "id": "view-in-github",
        "colab_type": "text"
      },
      "source": [
        "<a href=\"https://colab.research.google.com/github/neysin/orm/blob/main/programmers_%EC%9E%85%EB%AC%B8_day17.ipynb\" target=\"_parent\"><img src=\"https://colab.research.google.com/assets/colab-badge.svg\" alt=\"Open In Colab\"/></a>"
      ]
    },
    {
      "cell_type": "code",
      "execution_count": 4,
      "metadata": {
        "colab": {
          "base_uri": "https://localhost:8080/"
        },
        "id": "Nj57rdOe9w9e",
        "outputId": "38eea83d-3c9f-4687-82e0-79e6c8740b68"
      },
      "outputs": [
        {
          "output_type": "execute_result",
          "data": {
            "text/plain": [
              "3"
            ]
          },
          "metadata": {},
          "execution_count": 4
        }
      ],
      "source": [
        "# 숫자 찾기\n",
        "def solution(num, k):\n",
        "    for i in str(num):\n",
        "        if str(k) == i:\n",
        "            return str(num).index(i) + 1\n",
        "\n",
        "    return -1\n",
        "\n",
        "num = 29183\n",
        "k = 1\n",
        "solution(num, k)"
      ]
    },
    {
      "cell_type": "markdown",
      "source": [
        "n의 배수 고르기"
      ],
      "metadata": {
        "id": "-bF_JpwO_Dzs"
      }
    },
    {
      "cell_type": "code",
      "source": [
        "# n의 배수 고르기\n",
        "def solution(n, numlist):\n",
        "    l = []\n",
        "    for i in numlist:\n",
        "        if i % n == 0:\n",
        "            l.append(i)\n",
        "\n",
        "    return l\n",
        "\n",
        "n = 3\n",
        "numlist = [4, 5, 6, 7, 8, 9, 10, 11, 12]\n",
        "solution(n, numlist)"
      ],
      "metadata": {
        "colab": {
          "base_uri": "https://localhost:8080/"
        },
        "id": "GLX57WUV-WCh",
        "outputId": "5ca5ddb8-b583-4458-8f2f-d4d3c230e10d"
      },
      "execution_count": 5,
      "outputs": [
        {
          "output_type": "execute_result",
          "data": {
            "text/plain": [
              "[6, 9, 12]"
            ]
          },
          "metadata": {},
          "execution_count": 5
        }
      ]
    },
    {
      "cell_type": "code",
      "source": [
        "# 하나씩 지정하기보다 필터를 사용\n",
        "def solution(n, numlist):\n",
        "    return list(filter(lambda v: v%n==0, numlist))"
      ],
      "metadata": {
        "id": "3l_Lz3JE-6Wl"
      },
      "execution_count": null,
      "outputs": []
    },
    {
      "cell_type": "code",
      "source": [
        "# 자릿수 더하기\n",
        "def solution(n):\n",
        "    result = 0\n",
        "    for i in str(n):\n",
        "        result += int(i)\n",
        "    return result\n",
        "\n",
        "n = 1234\n",
        "solution(n)"
      ],
      "metadata": {
        "colab": {
          "base_uri": "https://localhost:8080/"
        },
        "id": "Dn9ThQ6i_GeG",
        "outputId": "eeaf7489-85d1-48a5-a9ab-263f1b133e17"
      },
      "execution_count": 6,
      "outputs": [
        {
          "output_type": "execute_result",
          "data": {
            "text/plain": [
              "10"
            ]
          },
          "metadata": {},
          "execution_count": 6
        }
      ]
    },
    {
      "cell_type": "code",
      "source": [
        "# OX퀴즈\n",
        "def solution(quiz):\n",
        "    l = []\n",
        "    for i in quiz:\n",
        "        str_i = i.split('=')\n",
        "        if eval(str_i[0]) == int(str_i[1]) :\n",
        "            l.append(\"O\")\n",
        "        else:\n",
        "            l.append(\"X\")\n",
        "\n",
        "    return l\n",
        "\n",
        "quiz = [\"3 - 4 = -3\", \"5 + 6 = 11\"]\n",
        "solution(quiz)"
      ],
      "metadata": {
        "colab": {
          "base_uri": "https://localhost:8080/"
        },
        "id": "q2Cyj53m_LDv",
        "outputId": "f6aacdbd-d7ec-41a0-8ca8-6b5ce505ff01"
      },
      "execution_count": 16,
      "outputs": [
        {
          "output_type": "execute_result",
          "data": {
            "text/plain": [
              "['X', 'O']"
            ]
          },
          "metadata": {},
          "execution_count": 16
        }
      ]
    }
  ]
}