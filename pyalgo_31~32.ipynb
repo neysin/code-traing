{
  "nbformat": 4,
  "nbformat_minor": 0,
  "metadata": {
    "colab": {
      "provenance": [],
      "authorship_tag": "ABX9TyNOoZJPas9CLiHfg3becduo",
      "include_colab_link": true
    },
    "kernelspec": {
      "name": "python3",
      "display_name": "Python 3"
    },
    "language_info": {
      "name": "python"
    }
  },
  "cells": [
    {
      "cell_type": "markdown",
      "metadata": {
        "id": "view-in-github",
        "colab_type": "text"
      },
      "source": [
        "<a href=\"https://colab.research.google.com/github/neysin/orm/blob/main/pyalgo_31~32.ipynb\" target=\"_parent\"><img src=\"https://colab.research.google.com/assets/colab-badge.svg\" alt=\"Open In Colab\"/></a>"
      ]
    },
    {
      "cell_type": "code",
      "execution_count": 23,
      "metadata": {
        "colab": {
          "base_uri": "https://localhost:8080/"
        },
        "id": "GcVmKWvxWUh-",
        "outputId": "48f7b984-1647-48d6-f97a-cce6a84b52e9"
      },
      "outputs": [
        {
          "output_type": "execute_result",
          "data": {
            "text/plain": [
              "1014"
            ]
          },
          "metadata": {},
          "execution_count": 23
        }
      ],
      "source": [
        "# 문제 31번\n",
        "\n",
        "def solution(data):\n",
        "    binary = f'{data:010b}'\n",
        "    s = ''\n",
        "    for i in binary:\n",
        "        if i == '0':\n",
        "            s += '1'\n",
        "        else:\n",
        "            s += '0'\n",
        "    return int(s, 2)\n",
        "\n",
        "data = 9\n",
        "solution(data)"
      ]
    },
    {
      "cell_type": "code",
      "source": [
        "# 문제 32번\n",
        "\n",
        "def solution(data):\n",
        "    and_result = data[0]\n",
        "    or_result = data[0]\n",
        "    for i in data[1:]:\n",
        "        and_result = i & and_result\n",
        "        or_result = i | or_result\n",
        "\n",
        "    return (and_result, or_result)\n",
        "\n",
        "\n",
        "data = [12, 5, 6]\n",
        "solution(data)"
      ],
      "metadata": {
        "colab": {
          "base_uri": "https://localhost:8080/"
        },
        "id": "vl8qQ0e2Xc5v",
        "outputId": "25d004e6-57e6-48d7-872a-1c7d52bbeaf2"
      },
      "execution_count": 28,
      "outputs": [
        {
          "output_type": "execute_result",
          "data": {
            "text/plain": [
              "(4, 15)"
            ]
          },
          "metadata": {},
          "execution_count": 28
        }
      ]
    }
  ]
}