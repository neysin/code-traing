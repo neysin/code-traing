{
  "nbformat": 4,
  "nbformat_minor": 0,
  "metadata": {
    "colab": {
      "provenance": [],
      "authorship_tag": "ABX9TyM/IYwL340dVcKggiRxKgSL",
      "include_colab_link": true
    },
    "kernelspec": {
      "name": "python3",
      "display_name": "Python 3"
    },
    "language_info": {
      "name": "python"
    }
  },
  "cells": [
    {
      "cell_type": "markdown",
      "metadata": {
        "id": "view-in-github",
        "colab_type": "text"
      },
      "source": [
        "<a href=\"https://colab.research.google.com/github/neysin/orm/blob/main/0103_%EC%82%B0%EC%88%A0%EC%97%B0%EC%82%B0.ipynb\" target=\"_parent\"><img src=\"https://colab.research.google.com/assets/colab-badge.svg\" alt=\"Open In Colab\"/></a>"
      ]
    },
    {
      "cell_type": "markdown",
      "source": [
        "# 1. 산술연산"
      ],
      "metadata": {
        "id": "TpCDhvl0-tXi"
      }
    },
    {
      "cell_type": "code",
      "source": [
        "# 1. 나누기 / 소수점 2자리\n",
        "\n",
        "a = 10\n",
        "b = 3\n",
        "divide = a / b\n",
        "print(f'{a} ÷ {b} = {divide:.2f}')  # 결과: 10 ÷ 3 = 3.33"
      ],
      "metadata": {
        "colab": {
          "base_uri": "https://localhost:8080/"
        },
        "id": "mvyDLrc--v3x",
        "outputId": "03e9455b-8cbd-42f0-f612-ed11ff5d9940"
      },
      "execution_count": 4,
      "outputs": [
        {
          "output_type": "stream",
          "name": "stdout",
          "text": [
            "10 ÷ 3 = 3.33\n"
          ]
        }
      ]
    },
    {
      "cell_type": "code",
      "source": [
        "print(divide)"
      ],
      "metadata": {
        "colab": {
          "base_uri": "https://localhost:8080/"
        },
        "id": "E_Dli_dc-0bq",
        "outputId": "9fe6096c-4227-4905-d805-7cad37a0844d"
      },
      "execution_count": 5,
      "outputs": [
        {
          "output_type": "stream",
          "name": "stdout",
          "text": [
            "3.3333333333333335\n"
          ]
        }
      ]
    },
    {
      "cell_type": "code",
      "source": [
        "# 1.2 나머지\n",
        "\n",
        "print(10/3) # 소수 몫\n",
        "print(10//3) # 정수 몫\n",
        "print(10%3) # 나머지"
      ],
      "metadata": {
        "colab": {
          "base_uri": "https://localhost:8080/"
        },
        "id": "LxUYgwE5-3_q",
        "outputId": "a5f01541-8d21-42ec-c7a9-da1b3e325eab"
      },
      "execution_count": 6,
      "outputs": [
        {
          "output_type": "stream",
          "name": "stdout",
          "text": [
            "3.3333333333333335\n",
            "3\n",
            "1\n"
          ]
        }
      ]
    },
    {
      "cell_type": "markdown",
      "source": [
        "# 2. 비교연산"
      ],
      "metadata": {
        "id": "5bnQdfau_Y60"
      }
    },
    {
      "cell_type": "code",
      "source": [
        "# 1. 비교연산자\n",
        "\n",
        "print(5 == 5) # 결과: True\n",
        "print(5 != 3) # 결과: True\n",
        "print(3 < 5) # 결과: True\n",
        "print(5 <= 5) # 결과: True\n",
        "print(6 > 5)  # 결과: True\n",
        "print(5 >= 5) # 결과: True"
      ],
      "metadata": {
        "id": "C-DUAPaQDDKo"
      },
      "execution_count": null,
      "outputs": []
    }
  ]
}