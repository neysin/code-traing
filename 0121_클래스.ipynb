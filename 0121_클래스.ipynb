{
  "nbformat": 4,
  "nbformat_minor": 0,
  "metadata": {
    "colab": {
      "provenance": [],
      "authorship_tag": "ABX9TyPt8F3Oyr/SXeXvSHwp5GkB",
      "include_colab_link": true
    },
    "kernelspec": {
      "name": "python3",
      "display_name": "Python 3"
    },
    "language_info": {
      "name": "python"
    }
  },
  "cells": [
    {
      "cell_type": "markdown",
      "metadata": {
        "id": "view-in-github",
        "colab_type": "text"
      },
      "source": [
        "<a href=\"https://colab.research.google.com/github/neysin/orm/blob/main/0121_%ED%81%B4%EB%9E%98%EC%8A%A4.ipynb\" target=\"_parent\"><img src=\"https://colab.research.google.com/assets/colab-badge.svg\" alt=\"Open In Colab\"/></a>"
      ]
    },
    {
      "cell_type": "code",
      "execution_count": 2,
      "metadata": {
        "id": "ui45aIX7h1vX"
      },
      "outputs": [],
      "source": [
        "이름 = '캣'\n",
        "설명 = '위니브 월드에서 가장 성공한 사업가 라이캣, 현재 어디있는지 알 수 없음.'\n",
        "나이 = 21\n",
        "오늘_잡은_물고기 = '9999999'\n",
        "직원수 = 124\n",
        "키 = '46.1cm'\n",
        "몸무게 = 1.8\n",
        "잡식 = True\n",
        "돈 = 9999999\n",
        "정치 = 21\n",
        "야망 = 2\n",
        "훈장 = [\n",
        "    '백상아리를 잡은 고양이',\n",
        "    '성실한 납세자',\n",
        "    '해골섬 낚시꾼',\n",
        "    '청년 고용 착한 기업',\n",
        "    '회사를 설립한 자',\n",
        "    '혈통의 인정을 받은 자',\n",
        "    '천민을 위한 병원을 세운 자'\n",
        "]\n",
        "기술 = {\n",
        "    '회사운영': 99,\n",
        "    '낚시': 96,\n",
        "    '통발': 93,\n",
        "    '큰그물': 95,\n",
        "    '재무': 34\n",
        "}"
      ]
    },
    {
      "cell_type": "code",
      "source": [
        "class 대리인(object):\n",
        "    이름 = '라이캣의 대리인'\n",
        "    대리인_목록= []\n",
        "    훈장 = [\n",
        "    '백상아리를 잡은 고양이',\n",
        "    '성실한 납세자',\n",
        "    '해골섬 낚시꾼',\n",
        "    '청년 고용 착한 기업',\n",
        "    '회사를 설립한 자',\n",
        "    '혈통의 인정을 받은 자',\n",
        "    '천민을 위한 병원을 세운 자'\n",
        "    ]\n",
        "    기술 = {\n",
        "    '회사운영': 99,\n",
        "    '낚시': 96,\n",
        "    '통발': 93,\n",
        "    '큰그물': 95,\n",
        "    '재무': 34\n",
        "    }\n",
        "\n",
        "    def 계산하기(self, x):\n",
        "        print(f'{int(x)*5000}원입니다.')\n",
        "\n",
        "    def 이름_변경하기(self, name):\n",
        "        self.이름 = name\n",
        "\n",
        "    def 포장하기(self):\n",
        "        print('포장이 완료되었습니다.')\n",
        "\n",
        "대리인1 = 대리인()\n",
        "대리인.대리인_목록.append('대리인1')\n",
        "대리인2 = 대리인()\n",
        "대리인.대리인_목록.append('대리인2')\n",
        "\n",
        "대리인1.계산하기(5) #list.append()에 형태입니다.\n",
        "대리인1.포장하기()\n",
        "대리인2.계산하기(10)\n",
        "대리인2.포장하기()\n",
        "\n",
        "print(대리인1.이름)\n",
        "print(대리인1.훈장)\n",
        "\n",
        "print(대리인2.이름)\n",
        "print(대리인2.훈장)\n",
        "\n",
        "print(대리인.대리인_목록)"
      ],
      "metadata": {
        "colab": {
          "base_uri": "https://localhost:8080/"
        },
        "id": "LwmZu0nmimFB",
        "outputId": "925da617-ce25-444a-ed3e-dfe0b05cf924"
      },
      "execution_count": 3,
      "outputs": [
        {
          "output_type": "stream",
          "name": "stdout",
          "text": [
            "25000원입니다.\n",
            "포장이 완료되었습니다.\n",
            "50000원입니다.\n",
            "포장이 완료되었습니다.\n",
            "라이캣의 대리인\n",
            "['백상아리를 잡은 고양이', '성실한 납세자', '해골섬 낚시꾼', '청년 고용 착한 기업', '회사를 설립한 자', '혈통의 인정을 받은 자', '천민을 위한 병원을 세운 자']\n",
            "라이캣의 대리인\n",
            "['백상아리를 잡은 고양이', '성실한 납세자', '해골섬 낚시꾼', '청년 고용 착한 기업', '회사를 설립한 자', '혈통의 인정을 받은 자', '천민을 위한 병원을 세운 자']\n",
            "['대리인1', '대리인2']\n"
          ]
        }
      ]
    },
    {
      "cell_type": "code",
      "source": [
        "class 대리인(object):\n",
        "    이름 = '라이캣의 대리인'\n",
        "    대리인_목록= []\n",
        "    훈장 = [\n",
        "    '백상아리를 잡은 고양이',\n",
        "    '성실한 납세자',\n",
        "    '해골섬 낚시꾼',\n",
        "    '청년 고용 착한 기업',\n",
        "    '회사를 설립한 자',\n",
        "    '혈통의 인정을 받은 자',\n",
        "    '천민을 위한 병원을 세운 자'\n",
        "    ]\n",
        "    기술 = {\n",
        "    '회사운영': 99,\n",
        "    '낚시': 96,\n",
        "    '통발': 93,\n",
        "    '큰그물': 95,\n",
        "    '재무': 34\n",
        "    }\n",
        "\n",
        "    def __init__(self, name):\n",
        "        self.이름 = name\n",
        "        self.대리인_목록.append(name)\n",
        "\n",
        "    def 계산하기(self, x):\n",
        "        print(f'{int(x)*5000}원입니다.')\n",
        "\n",
        "    def 포장하기(self):\n",
        "        print('포장이 완료되었습니다.')\n",
        "\n",
        "대리인1 = 대리인('라이캣_분신_하나')\n",
        "대리인2 = 대리인('라이캣_분신_둘')\n",
        "\n",
        "print(대리인1.이름)\n",
        "print(대리인2.이름)\n",
        "\n",
        "print(대리인1.대리인_목록)\n",
        "print(대리인2.대리인_목록)\n"
      ],
      "metadata": {
        "colab": {
          "base_uri": "https://localhost:8080/"
        },
        "id": "lSjrmQ13jrYW",
        "outputId": "80348179-59d4-45c4-f07a-2d90298a2f1e"
      },
      "execution_count": 5,
      "outputs": [
        {
          "output_type": "stream",
          "name": "stdout",
          "text": [
            "라이캣_분신_하나\n",
            "라이캣_분신_둘\n",
            "['라이캣_분신_하나', '라이캣_분신_둘']\n",
            "['라이캣_분신_하나', '라이캣_분신_둘']\n"
          ]
        }
      ]
    },
    {
      "cell_type": "code",
      "source": [
        "class 대리인(object):\n",
        "    이름 = '라이캣의 대리인'\n",
        "    대리인_목록= []\n",
        "    훈장 = [\n",
        "    '백상아리를 잡은 고양이',\n",
        "    '성실한 납세자',\n",
        "    '해골섬 낚시꾼',\n",
        "    '청년 고용 착한 기업',\n",
        "    '회사를 설립한 자',\n",
        "    '혈통의 인정을 받은 자',\n",
        "    '천민을 위한 병원을 세운 자'\n",
        "    ]\n",
        "    기술 = {\n",
        "    '회사운영': 99,\n",
        "    '낚시': 96,\n",
        "    '통발': 93,\n",
        "    '큰그물': 95,\n",
        "    '재무': 34\n",
        "    }\n",
        "\n",
        "    def __init__(self, name):\n",
        "        self.이름 = name\n",
        "        self.대리인_목록.append(name)\n",
        "\n",
        "    def 계산하기(self, x):\n",
        "        print(f'{int(x)*5000}원입니다.')\n",
        "\n",
        "    def 포장하기(self):\n",
        "        print('포장이 완료되었습니다.')\n",
        "\n",
        "class 진화된_대리인(대리인):\n",
        "    # 이제 위니브 월드에 있는 대리인들 끼리는 서로 협업합니다.\n",
        "    추가_서로협업하기 = True\n",
        "\n",
        "    def 추가된_기능_청소기능(self):\n",
        "        print('청소기능이 추가되었습니다.')\n",
        "        return('hello world')\n",
        "\n",
        "대리인1 = 대리인('라이캣하나')\n",
        "대리인2 = 진화된_대리인('라이캣둘')\n",
        "\n",
        "print(대리인2.추가된_기능_청소기능())\n",
        "print(대리인2.이름)"
      ],
      "metadata": {
        "colab": {
          "base_uri": "https://localhost:8080/"
        },
        "id": "fhngcKwUklgY",
        "outputId": "6fb37f2c-552e-431a-ecb5-50418ed1b57e"
      },
      "execution_count": 7,
      "outputs": [
        {
          "output_type": "stream",
          "name": "stdout",
          "text": [
            "청소기능이 추가되었습니다.\n",
            "hello world\n",
            "라이캣둘\n"
          ]
        }
      ]
    },
    {
      "cell_type": "code",
      "source": [
        "class 배터리_영구_증가():\n",
        "    pass\n",
        "\n",
        "class 효율_극대화():\n",
        "    pass\n",
        "\n",
        "class 대리인(object):\n",
        "    이름 = '라이캣의 대리인'\n",
        "    대리인_목록= []\n",
        "\n",
        "    def __init__(self, name):\n",
        "        self.이름 = name\n",
        "        self.대리인_목록.append(name)\n",
        "\n",
        "    def 계산하기(self, x):\n",
        "        print(f'{int(x)*5000}원입니다.')\n",
        "\n",
        "    def 포장하기(self):\n",
        "        print('포장이 완료되었습니다.')\n",
        "\n",
        "class 진화된_대리인(대리인, 배터리_영구_증가, 효율_극대):\n",
        "    # 이제 위니브 월드에 있는 대리인들 끼리는 서로 협업합니다.\n",
        "    추가_서로협업하기 = True\n",
        "\n",
        "    def 추가된_기능_청소기능(self):\n",
        "        print('청소기능이 추가되었습니다.')\n",
        "        return('hello world')"
      ],
      "metadata": {
        "id": "brAMB5-OlQO8"
      },
      "execution_count": null,
      "outputs": []
    },
    {
      "cell_type": "code",
      "source": [
        "class 신규_로봇(object):\n",
        "\n",
        "    로봇의_기능 = ['포장하기', '낚시하기']\n",
        "\n",
        "    def __init__(self, name):\n",
        "        self.name = name\n",
        "\n",
        "    def __getattr_(self, item):\n",
        "        print(item + '속성은 존재하지 않습니다.')\n",
        "\n",
        "    def start(self):\n",
        "        print('로봇이 동작합니다.')\n",
        "\n",
        "로봇1 = 신규_로봇('로봇_하나')\n",
        "print(로봇1)\n",
        "# print(로봇1.name)\n",
        "# print(로봇1.청소하기)\n",
        "print(type(로봇1))\n",
        "print(dir(로봇1))"
      ],
      "metadata": {
        "colab": {
          "base_uri": "https://localhost:8080/"
        },
        "id": "HwchPM_glyEg",
        "outputId": "26766557-872b-4823-bab8-8316ec099158"
      },
      "execution_count": 11,
      "outputs": [
        {
          "output_type": "stream",
          "name": "stdout",
          "text": [
            "<__main__.신규_로봇 object at 0x7a9de72d6b60>\n",
            "<class '__main__.신규_로봇'>\n",
            "['__class__', '__delattr__', '__dict__', '__dir__', '__doc__', '__eq__', '__format__', '__ge__', '__getattribute__', '__gt__', '__hash__', '__init__', '__init_subclass__', '__le__', '__lt__', '__module__', '__ne__', '__new__', '__reduce__', '__reduce_ex__', '__repr__', '__setattr__', '__sizeof__', '__str__', '__subclasshook__', '__weakref__', '_신규_로봇__getattr_', 'name', 'start', '로봇의_기능']\n"
          ]
        }
      ]
    },
    {
      "cell_type": "code",
      "source": [
        "# 캣의 모험 자금을 모아라\n",
        "# 문제1\n",
        "\n",
        "class 대리인(object):\n",
        "    물품 = []\n",
        "\n",
        "    def __init__(self, name):\n",
        "        self.이름 = name + '대리인'\n",
        "\n",
        "    def __str__(self):\n",
        "        return self.이름\n",
        "\n",
        "    def 경비구하기(self, 시간):\n",
        "        경비 = int(시간[:-2]) * 10000000\n",
        "        return format(경비, ',')\n",
        "\n",
        "    def 물품구하기(self, 시간):\n",
        "        for i in range(1, int(시간[:-2]) + 1):\n",
        "            self.물품.append('대리인이 구해온 물품' + str(i))\n",
        "\n",
        "\n",
        "대리인_그룹 = []\n",
        "for name in range(10):\n",
        "    대리인_그룹.append(대리인(str(name)))\n",
        "\n",
        "for 대리인 in 대리인_그룹:\n",
        "    print(대리인)\n",
        "\n",
        "print(대리인_그룹[0].경비구하기('10시간'))\n",
        "대리인_그룹[0].물품구하기('3시간')\n",
        "print(대리인_그룹[0].물품)"
      ],
      "metadata": {
        "colab": {
          "base_uri": "https://localhost:8080/"
        },
        "id": "3lrm2RxnmfQP",
        "outputId": "7a1d03ce-3da6-4d76-e9b7-1d86fe508551"
      },
      "execution_count": 18,
      "outputs": [
        {
          "output_type": "stream",
          "name": "stdout",
          "text": [
            "0대리인\n",
            "1대리인\n",
            "2대리인\n",
            "3대리인\n",
            "4대리인\n",
            "5대리인\n",
            "6대리인\n",
            "7대리인\n",
            "8대리인\n",
            "9대리인\n",
            "100,000,000\n",
            "['대리인이 구해온 물품1', '대리인이 구해온 물품2', '대리인이 구해온 물품3']\n"
          ]
        }
      ]
    },
    {
      "cell_type": "code",
      "source": [
        "# 문제 2\n",
        "\n",
        "class 대리인(object):\n",
        "    이름 = '라이캣의 대리인'\n",
        "    대리인_목록= []\n",
        "    훈장 = [\n",
        "    '백상아리를 잡은 고양이',\n",
        "    '성실한 납세자',\n",
        "    '해골섬 낚시꾼',\n",
        "    '청년 고용 착한 기업',\n",
        "    '회사를 설립한 자',\n",
        "    '혈통의 인정을 받은 자',\n",
        "    '천민을 위한 병원을 세운 자'\n",
        "    ]\n",
        "    기술 = {\n",
        "    '회사운영': 99,\n",
        "    '낚시': 96,\n",
        "    '통발': 93,\n",
        "    '큰그물': 95,\n",
        "    '재무': 34\n",
        "    }\n",
        "\n",
        "    def __init__(self, name):\n",
        "        self.이름 = name\n",
        "        self.대리인_목록.append(name)\n",
        "\n",
        "    def 계산하기(self, x):\n",
        "        print(f'{int(x)*5000}원입니다.')\n",
        "\n",
        "    def 포장하기(self):\n",
        "        print('포장이 완료되었습니다.')\n",
        "\n",
        "    def 스킬추가하기(self, 스킬이름, 스킬점수):\n",
        "        self.기술[스킬이름] = 스킬점수\n",
        "\n",
        "\n",
        "대리인하나 = 대리인('대리인하나')\n",
        "점수_총합 = 0\n",
        "for i in 대리인하나.기술:\n",
        "    print(i, 대리인하나.기술[i])\n",
        "    점수_총합 += 대리인하나.기술[i]\n",
        "\n",
        "대리인하나.스킬추가하기('재무관리', 87)\n",
        "대리인하나.기술"
      ],
      "metadata": {
        "colab": {
          "base_uri": "https://localhost:8080/"
        },
        "id": "lPPsSGByrOpr",
        "outputId": "e581854a-f7ff-4007-dff3-f170b669433c"
      },
      "execution_count": 25,
      "outputs": [
        {
          "output_type": "stream",
          "name": "stdout",
          "text": [
            "회사운영 99\n",
            "낚시 96\n",
            "통발 93\n",
            "큰그물 95\n",
            "재무 34\n"
          ]
        },
        {
          "output_type": "execute_result",
          "data": {
            "text/plain": [
              "{'회사운영': 99, '낚시': 96, '통발': 93, '큰그물': 95, '재무': 34, '재무관리': 87}"
            ]
          },
          "metadata": {},
          "execution_count": 25
        }
      ]
    },
    {
      "cell_type": "code",
      "source": [
        "# 문제 3\n",
        "\n",
        "class 진화된_대리인(대리인):\n",
        "    아이템_목록 = []\n",
        "    def 던전탐험(self, 아이템):\n",
        "        self.아이템_목록.append(아이템)\n",
        "\n",
        "    def 위험판단(self, 위험단계):\n",
        "        if 위험단계 == '매우위험':\n",
        "            print('모든 자금을 해외로 분산시켜 이동시킵니다.')\n",
        "        if 위험단계 == '위험':\n",
        "            print('모든 자금을 해외로 분산시켜 이동킬 준비를 합니다.')\n",
        "        if 위험단계 == '긴장감 고조':\n",
        "            print('동산으로 변환할 수 있는 부동산은 매각')\n",
        "        if 위험단계 == '평범':\n",
        "            print('순익 극대화를 노립니다.')\n",
        "\n",
        "진화된_대리인1 = 진화된_대리인('진화된_대리인_하나')\n",
        "진화된_대리인2 = 진화된_대리인('진화된_대리인_둘')\n",
        "\n",
        "진화된_대리인1.던전탐험('진홍의 목걸이')\n",
        "print(진화된_대리인1.아이템_목록)\n",
        "진화된_대리인2.위험판단('위험')\n",
        "진화된_대리인2.위험판단('긴장감 고조')"
      ],
      "metadata": {
        "colab": {
          "base_uri": "https://localhost:8080/"
        },
        "id": "BTQ6_3TMrpgx",
        "outputId": "7a033e09-3e47-4bff-8bbd-d566639a56b1"
      },
      "execution_count": 29,
      "outputs": [
        {
          "output_type": "stream",
          "name": "stdout",
          "text": [
            "['진홍의 목걸이']\n",
            "모든 자금을 해외로 분산시켜 이동킬 준비를 합니다.\n",
            "동산으로 변환할 수 있는 부동산은 매각\n"
          ]
        }
      ]
    }
  ]
}