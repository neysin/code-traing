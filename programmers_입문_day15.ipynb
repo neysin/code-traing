{
  "nbformat": 4,
  "nbformat_minor": 0,
  "metadata": {
    "colab": {
      "provenance": [],
      "authorship_tag": "ABX9TyMW03Cqw2QUiEQ/vVflT00s",
      "include_colab_link": true
    },
    "kernelspec": {
      "name": "python3",
      "display_name": "Python 3"
    },
    "language_info": {
      "name": "python"
    }
  },
  "cells": [
    {
      "cell_type": "markdown",
      "metadata": {
        "id": "view-in-github",
        "colab_type": "text"
      },
      "source": [
        "<a href=\"https://colab.research.google.com/github/neysin/orm/blob/main/programmers_%EC%9E%85%EB%AC%B8_day15.ipynb\" target=\"_parent\"><img src=\"https://colab.research.google.com/assets/colab-badge.svg\" alt=\"Open In Colab\"/></a>"
      ]
    },
    {
      "cell_type": "code",
      "execution_count": 11,
      "metadata": {
        "colab": {
          "base_uri": "https://localhost:8080/"
        },
        "id": "XpgARyBh7TYY",
        "outputId": "d4341fb1-8564-489f-beaa-9508e68511f0"
      },
      "outputs": [
        {
          "output_type": "execute_result",
          "data": {
            "text/plain": [
              "123456789"
            ]
          },
          "metadata": {},
          "execution_count": 11
        }
      ],
      "source": [
        "# 영어가 싫어\n",
        "def solution(numbers):\n",
        "    l = {}\n",
        "    str_num = [\"zero\", \"one\", \"two\", \"three\", \"four\", \"five\", \"six\", \"seven\", \"eight\", \"nine\"]\n",
        "    for i, num in enumerate(str_num):\n",
        "        numbers = numbers.replace(num, str(i))\n",
        "\n",
        "    return int(numbers)\n",
        "\n",
        "\n",
        "numbers = \"onetwothreefourfivesixseveneightnine\"\n",
        "solution(numbers)"
      ]
    },
    {
      "cell_type": "markdown",
      "source": [
        "인덱스 바꾸기"
      ],
      "metadata": {
        "id": "3Hsoy3E9op0y"
      }
    },
    {
      "cell_type": "code",
      "source": [
        "# 인덱스 바꾸기\n",
        "def solution(my_string, num1, num2):\n",
        "    num1_str = my_string[num1]\n",
        "    num2_str = my_string[num2]\n",
        "    list_str = list(my_string)\n",
        "    list_str[num1] = num2_str\n",
        "    list_str[num2] = num1_str\n",
        "    return ''.join(list_str)\n",
        "\n",
        "my_string = \"hello\"\n",
        "num1 = 1\n",
        "num2 = 2\n",
        "solution(my_string, num1, num2)"
      ],
      "metadata": {
        "colab": {
          "base_uri": "https://localhost:8080/",
          "height": 36
        },
        "id": "kIdRXmK9GcWJ",
        "outputId": "f59215eb-fe92-44c9-a687-86ae8145e597"
      },
      "execution_count": 17,
      "outputs": [
        {
          "output_type": "execute_result",
          "data": {
            "text/plain": [
              "'hlelo'"
            ],
            "application/vnd.google.colaboratory.intrinsic+json": {
              "type": "string"
            }
          },
          "metadata": {},
          "execution_count": 17
        }
      ]
    },
    {
      "cell_type": "code",
      "source": [
        "# 발상은 비슷했지만 내 코드를 업그레이드 시킨 버전\n",
        "def solution(my_string, num1, num2):\n",
        "    s = list(my_string)\n",
        "    s[num1],s[num2] = s[num2],s[num1]\n",
        "    return ''.join(s)"
      ],
      "metadata": {
        "id": "kcWY1fLunWFB"
      },
      "execution_count": null,
      "outputs": []
    },
    {
      "cell_type": "code",
      "source": [
        "# 한 번만 등장한 문자\n",
        "def solution(s):\n",
        "    l = []\n",
        "    for i in set(s):\n",
        "        count_str = s.count(i)\n",
        "        if count_str == 1:\n",
        "            l.append(i)\n",
        "\n",
        "    result = sorted(l)\n",
        "\n",
        "    return ''.join(result)\n",
        "\n",
        "s = \"abcabcadc\"\n",
        "solution(s)"
      ],
      "metadata": {
        "colab": {
          "base_uri": "https://localhost:8080/",
          "height": 36
        },
        "id": "bA33Gib0osAg",
        "outputId": "51109fce-92ef-438b-fa35-e6974ae8c7b3"
      },
      "execution_count": 26,
      "outputs": [
        {
          "output_type": "execute_result",
          "data": {
            "text/plain": [
              "'d'"
            ],
            "application/vnd.google.colaboratory.intrinsic+json": {
              "type": "string"
            }
          },
          "metadata": {},
          "execution_count": 26
        }
      ]
    },
    {
      "cell_type": "code",
      "source": [
        "# 약수 구하기\n",
        "def solution(n):\n",
        "    l = []\n",
        "    for i in range(1, n+1):\n",
        "        if n % i == 0:\n",
        "            l.append(i)\n",
        "\n",
        "    return l\n",
        "\n",
        "n = 24\n",
        "solution(n)"
      ],
      "metadata": {
        "colab": {
          "base_uri": "https://localhost:8080/"
        },
        "id": "BVjlZia2pFFm",
        "outputId": "79656bc5-2c48-4246-eb89-b53c76fcede8"
      },
      "execution_count": 28,
      "outputs": [
        {
          "output_type": "execute_result",
          "data": {
            "text/plain": [
              "[1, 2, 3, 4, 6, 8, 12, 24]"
            ]
          },
          "metadata": {},
          "execution_count": 28
        }
      ]
    }
  ]
}