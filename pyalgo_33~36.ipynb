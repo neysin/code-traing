{
  "nbformat": 4,
  "nbformat_minor": 0,
  "metadata": {
    "colab": {
      "provenance": [],
      "authorship_tag": "ABX9TyOFCO0JRSNWpr760LKxew9e",
      "include_colab_link": true
    },
    "kernelspec": {
      "name": "python3",
      "display_name": "Python 3"
    },
    "language_info": {
      "name": "python"
    }
  },
  "cells": [
    {
      "cell_type": "markdown",
      "metadata": {
        "id": "view-in-github",
        "colab_type": "text"
      },
      "source": [
        "<a href=\"https://colab.research.google.com/github/neysin/orm/blob/main/pyalgo_33~36.ipynb\" target=\"_parent\"><img src=\"https://colab.research.google.com/assets/colab-badge.svg\" alt=\"Open In Colab\"/></a>"
      ]
    },
    {
      "cell_type": "code",
      "execution_count": 4,
      "metadata": {
        "colab": {
          "base_uri": "https://localhost:8080/"
        },
        "id": "BTiXfeKV7xXw",
        "outputId": "07da1a26-c819-4d7e-f4fa-1841f3ed3e0b"
      },
      "outputs": [
        {
          "output_type": "execute_result",
          "data": {
            "text/plain": [
              "False"
            ]
          },
          "metadata": {},
          "execution_count": 4
        }
      ],
      "source": [
        "# 문제 33번\n",
        "import re\n",
        "def solution(data):\n",
        "    pattern = r'[a-zA-Z0-9._+]+@[a-zA-Z0-9.-]+\\.[a-zA-Z]{2,}'\n",
        "    match_data = re.match(pattern, data)\n",
        "\n",
        "    if match_data:\n",
        "        return True\n",
        "    else:\n",
        "        return False\n",
        "\n",
        "\n",
        "data = 'user@domain'\n",
        "solution(data)"
      ]
    },
    {
      "cell_type": "code",
      "source": [
        "# 문제 34번\n",
        "def solution(data):\n",
        "    '''\n",
        "    패턴을 찾은 후 '-'을 기준으로 나눠 리스트를 만든 후 컴프리헨션을 통해 정수로 바꿔\n",
        "    튜플로 다시 변환 시킨 후 리스트에 하나씩 넣어 반환함.\n",
        "    '''\n",
        "    l = []\n",
        "    pattern = r'[0-9]{4}\\-[0-9]{2}\\-[0-9]{2}'\n",
        "    find_day = re.findall(pattern, data)\n",
        "\n",
        "    for i in find_day:\n",
        "        result = tuple([int(x) for x in i.split('-')])\n",
        "        l.append(result)\n",
        "\n",
        "    return l\n",
        "data = \"Dates: 2023-12-31, 2024-01-01, and 2024-02-28.\"\n",
        "solution(data)"
      ],
      "metadata": {
        "colab": {
          "base_uri": "https://localhost:8080/"
        },
        "id": "z1LFmnBZA_e0",
        "outputId": "ef2a76d1-48fb-444e-b7f5-aa67f75b5272"
      },
      "execution_count": 20,
      "outputs": [
        {
          "output_type": "execute_result",
          "data": {
            "text/plain": [
              "[(2023, 12, 31), (2024, 1, 1), (2024, 2, 28)]"
            ]
          },
          "metadata": {},
          "execution_count": 20
        }
      ]
    },
    {
      "cell_type": "code",
      "source": [
        "# 문제 35\n",
        "def solution(data):\n",
        "    pattern = r'<[a-zA-Z/]+>'\n",
        "    return re.sub(pattern, '', data)\n",
        "\n",
        "data = \"<p>Hello, <b>World</b>!</p>\"\n",
        "solution(data)"
      ],
      "metadata": {
        "colab": {
          "base_uri": "https://localhost:8080/",
          "height": 36
        },
        "id": "IHXiBUqKIEB6",
        "outputId": "46b69437-5112-423d-cc66-235c7fa3ccf4"
      },
      "execution_count": 30,
      "outputs": [
        {
          "output_type": "execute_result",
          "data": {
            "text/plain": [
              "'Hello, World!'"
            ],
            "application/vnd.google.colaboratory.intrinsic+json": {
              "type": "string"
            }
          },
          "metadata": {},
          "execution_count": 30
        }
      ]
    },
    {
      "cell_type": "code",
      "source": [
        "# 문제 36\n",
        "def solution(data):\n",
        "    '''\n",
        "    그룹으로 묶어서 정규표현식을 표현하는 것이 핵심\n",
        "    앞에서부터 숫자로 그룹을 지칭할 수 있음\n",
        "    '''\n",
        "    pattern = r'(\\d{2,3})(\\d{3,4})(\\d{4})'\n",
        "    return re.sub(pattern, r'\\1-\\2-\\3', data)\n",
        "\n",
        "data = \"제 전화번호는 0311234567, 06412345678 입니다.\"\n",
        "solution(data)"
      ],
      "metadata": {
        "colab": {
          "base_uri": "https://localhost:8080/",
          "height": 36
        },
        "id": "SFTZniOMR1kh",
        "outputId": "34f5e4bf-f73d-4322-d6e7-7ed6e0c16cfc"
      },
      "execution_count": 39,
      "outputs": [
        {
          "output_type": "execute_result",
          "data": {
            "text/plain": [
              "'제 전화번호는 031-123-4567, 064-1234-5678 입니다.'"
            ],
            "application/vnd.google.colaboratory.intrinsic+json": {
              "type": "string"
            }
          },
          "metadata": {},
          "execution_count": 39
        }
      ]
    }
  ]
}