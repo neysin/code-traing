{
  "nbformat": 4,
  "nbformat_minor": 0,
  "metadata": {
    "colab": {
      "provenance": [],
      "authorship_tag": "ABX9TyPt8OtZlW23frFGxMhIbMVe",
      "include_colab_link": true
    },
    "kernelspec": {
      "name": "python3",
      "display_name": "Python 3"
    },
    "language_info": {
      "name": "python"
    }
  },
  "cells": [
    {
      "cell_type": "markdown",
      "metadata": {
        "id": "view-in-github",
        "colab_type": "text"
      },
      "source": [
        "<a href=\"https://colab.research.google.com/github/neysin/orm/blob/main/01_02_Random.ipynb\" target=\"_parent\"><img src=\"https://colab.research.google.com/assets/colab-badge.svg\" alt=\"Open In Colab\"/></a>"
      ]
    },
    {
      "cell_type": "markdown",
      "source": [
        "# 1. Random 함수"
      ],
      "metadata": {
        "id": "Oersn0Rh8GdW"
      }
    },
    {
      "cell_type": "code",
      "execution_count": 23,
      "metadata": {
        "colab": {
          "base_uri": "https://localhost:8080/"
        },
        "id": "YP4TZUkH052J",
        "outputId": "7c7fe7c5-c9f5-433c-a148-c0c1c1a5169b"
      },
      "outputs": [
        {
          "output_type": "stream",
          "name": "stdout",
          "text": [
            "7\n"
          ]
        }
      ],
      "source": [
        "# 1. 기본 사용법\n",
        "import random\n",
        "\n",
        "'''\n",
        "0~9까지의 임의의 숫자를 선택하는 코드를 작성\n",
        "파이썬의 숫자의 시작은 무조건 0부터\n",
        "10으로 입력하면 -1, 즉 9까지\n",
        "'''\n",
        "\n",
        "num = random.randrange(10)\n",
        "print(num)"
      ]
    },
    {
      "cell_type": "code",
      "source": [
        "# 1.2 시작값과 끝값을 지정\n",
        "\n",
        "num_1 = random.randrange(1, 46)\n",
        "num_2 = random.randrange(1, 46)\n",
        "num_3 = random.randrange(1, 46)\n",
        "num_4 = random.randrange(1, 46)\n",
        "num_5 = random.randrange(1, 46)\n",
        "num_6 = random.randrange(1, 46)\n",
        "print(\"오늘의 로또 번호는\", num_1, num_2, num_3, num_4, num_5, num_6)"
      ],
      "metadata": {
        "colab": {
          "base_uri": "https://localhost:8080/"
        },
        "id": "M3uYwHU51YDZ",
        "outputId": "fd490866-5655-44ed-bbd4-bf4047df428e"
      },
      "execution_count": 3,
      "outputs": [
        {
          "output_type": "stream",
          "name": "stdout",
          "text": [
            "오늘의 로또 번호는 22 26 29 45 22 22\n"
          ]
        }
      ]
    },
    {
      "cell_type": "code",
      "source": [
        "# 1.3 간격 설정\n",
        "# 10부터 100까지 숫자 중에서 10의 간격으로 무작위 선택\n",
        "\n",
        "num10_100 = random.randrange(10, 100, 10)\n",
        "print(num10_100)"
      ],
      "metadata": {
        "colab": {
          "base_uri": "https://localhost:8080/"
        },
        "id": "z3T-PwRz29-5",
        "outputId": "62151ddb-0a8f-448b-8aa2-3c9115de2135"
      },
      "execution_count": 5,
      "outputs": [
        {
          "output_type": "stream",
          "name": "stdout",
          "text": [
            "20\n"
          ]
        }
      ]
    },
    {
      "cell_type": "markdown",
      "source": [
        "# 2. Choice 함수"
      ],
      "metadata": {
        "id": "pPPPUl6l3MtB"
      }
    },
    {
      "cell_type": "code",
      "source": [
        "# 리스트에서 무작위 과일 선택\n",
        "# 다양한 정보를 한번에 받아오는 것 = 리스트\n",
        "elements = ['사과', '바나나', '체리']\n",
        "choice_elements = random.choice(elements)\n",
        "print(f\"선택된 요소 : {choice_elements} 입니다.\")"
      ],
      "metadata": {
        "colab": {
          "base_uri": "https://localhost:8080/"
        },
        "id": "HbR9ZnHS8KLz",
        "outputId": "f658d656-7131-42cb-85a5-48c43cdf5e76"
      },
      "execution_count": 19,
      "outputs": [
        {
          "output_type": "stream",
          "name": "stdout",
          "text": [
            "선택된 요소 : 체리 입니다.\n"
          ]
        }
      ]
    },
    {
      "cell_type": "code",
      "source": [
        "# 2. 문자열에서 무작위 문자 선택\n",
        "greeting = \"안녕하세요\"\n",
        "choice_char = random.choice(greeting)\n",
        "print(f\"선택된 문자 : {choice_char} 입니다.\")"
      ],
      "metadata": {
        "colab": {
          "base_uri": "https://localhost:8080/"
        },
        "id": "sq0JCxW98Y7b",
        "outputId": "4cb54cc9-7d40-44cd-d4b5-7fa60c5af950"
      },
      "execution_count": 18,
      "outputs": [
        {
          "output_type": "stream",
          "name": "stdout",
          "text": [
            "선택된 문자 : 요 입니다.\n"
          ]
        }
      ]
    },
    {
      "cell_type": "markdown",
      "source": [
        "# 3. 주석 사용 연습"
      ],
      "metadata": {
        "id": "dCrFKe3B_qeD"
      }
    },
    {
      "cell_type": "code",
      "source": [
        "'''\n",
        "코드 실행 날짜 : 2024년 1월 2일\n",
        "버전 : 3.10.12 (main, Nov 20 2023, 15:14:05) [GCC 11.4.0]\n",
        "작성자 : 안효준\n",
        "코드 내용 : random라이브러리를 활용해서 실습 예제 작성\n",
        "'''\n",
        "\n",
        "# 이 코드는 Random 라이브러리를 사용한 예시입니다.\n",
        "import random  # random 라이브러리를 가져옵니다.\n",
        "\n",
        "# 두 개의 무작위 숫자를 생성하는 코드\n",
        "random_number1 = random.randrange(1,10)  # 1부터 9까지의 임의의 숫자를 가져옵니다.\n",
        "random_number2 = random.randrange(1,10)  # 1부터 9까지의 임의의 숫자를 가져옵니다.\n",
        "\n",
        "# 두 개의 무작위 숫자를 합산하는 코드 / 생성된 두 숫자의 합 계산\n",
        "sum_of_number = random_number1 + random_number2\n",
        "\n",
        "# 결과 출력\n",
        "print(f\"첫 번째 생성된 숫자: {random_number1}\")\n",
        "print(f\"두 번째 생성된 숫자: {random_number2}\")\n",
        "print(f\"두 숫자의 합: {sum_of_number}\")"
      ],
      "metadata": {
        "colab": {
          "base_uri": "https://localhost:8080/"
        },
        "id": "9Ge34eIk_uRn",
        "outputId": "ac391a5d-6fde-4787-e74c-016613b0087a"
      },
      "execution_count": 28,
      "outputs": [
        {
          "output_type": "stream",
          "name": "stdout",
          "text": [
            "첫 번째 생성된 숫자: 5\n",
            "두 번째 생성된 숫자: 4\n",
            "두 숫자의 합: 9\n"
          ]
        }
      ]
    },
    {
      "cell_type": "markdown",
      "source": [
        "# 4. 모두의 마블 주사위 프로그래밍 하기"
      ],
      "metadata": {
        "id": "o2HffgapFSo9"
      }
    },
    {
      "cell_type": "code",
      "source": [
        "'''\n",
        "코드 실행 날짜 : 2024년 1월 2일\n",
        "버전 : 3.10.12 (main, Nov 20 2023, 15:14:05) [GCC 11.4.0]\n",
        "작성자 : 안효준\n",
        "코드 내용 : random라이브러리를 활용해서 두 주사위 합 출력\n",
        "'''\n",
        "\n",
        "# 이 코드는 Random 라이브러리를 사용한 예시입니다.\n",
        "import random  # Random 라이브러리를 가져옵니다.\n",
        "\n",
        "# 두 개의 주사위 숫자를 생성하는 코드\n",
        "dice1 = random.randint(1,6)  # 1부터 6까지 임의의 숫자를 가져옵니다.\n",
        "dice2 = random.randint(1,6)  # 1부터 6까지 임의의 숫자를 가져옵니다.\n",
        "\n",
        "# 두 개의 무작위 주사위 숫자를 합산하는 코드 / 생성된 두 숫자의 합 계산\n",
        "total = dice1 + dice2\n",
        "\n",
        "# 결과 출력\n",
        "print(f\"주사위 결과 : {dice1} + {dice2} = {total}\")"
      ],
      "metadata": {
        "colab": {
          "base_uri": "https://localhost:8080/"
        },
        "id": "DM7O4fJQAP0A",
        "outputId": "338a5094-6a91-4c37-8edc-ec791997f327"
      },
      "execution_count": 30,
      "outputs": [
        {
          "output_type": "stream",
          "name": "stdout",
          "text": [
            "주사위 결과 : 1 + 1 = 2\n"
          ]
        }
      ]
    },
    {
      "cell_type": "markdown",
      "source": [
        "# 5. 윷놀이 프로그래밍 하기\n"
      ],
      "metadata": {
        "id": "h8nBVLNMHpjT"
      }
    },
    {
      "cell_type": "code",
      "source": [
        "'''\n",
        "코드 실행 날짜 : 2024년 1월 2일\n",
        "버전 : 3.10.12 (main, Nov 20 2023, 15:14:05) [GCC 11.4.0]\n",
        "작성자 : 안효준\n",
        "코드 내용 : random라이브러리를 활용해서 윷놀이 프로그래밍\n",
        "'''\n",
        "\n",
        "# random 라이브러리 사용\n",
        "import random\n",
        "\n",
        "# 윳 던진 결과 ( 0 : 앞, 1 : 뒤)\n",
        "throw1 = random.choice([0,1])\n",
        "throw2 = random.choice([0,1])\n",
        "throw3 = random.choice([0,1])\n",
        "throw4 = random.choice([0,1])\n",
        "\n",
        "# 뒷면 개수 계산\n",
        "total_back = throw1 + throw2 + throw3 + throw4\n",
        "\n",
        "# 윳놀이 결과\n",
        "results = ['모', '도', '개', '걸', '윷'] # 뒷면의 개수에 따른 리스트 순서\n",
        "print(total_back) # 뒷면의 개수와 리스트 주소값이 일치하는지 확인\n",
        "print(results[total_back])"
      ],
      "metadata": {
        "colab": {
          "base_uri": "https://localhost:8080/"
        },
        "id": "_Uf2n4ckIn2r",
        "outputId": "b34ac92b-3b5b-496c-9ce3-7171551f10e5"
      },
      "execution_count": 37,
      "outputs": [
        {
          "output_type": "stream",
          "name": "stdout",
          "text": [
            "3\n",
            "걸\n"
          ]
        }
      ]
    },
    {
      "cell_type": "code",
      "source": [],
      "metadata": {
        "id": "iE3AqZE0Jx4w"
      },
      "execution_count": 34,
      "outputs": []
    }
  ]
}