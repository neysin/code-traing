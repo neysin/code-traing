{
  "nbformat": 4,
  "nbformat_minor": 0,
  "metadata": {
    "colab": {
      "provenance": [],
      "authorship_tag": "ABX9TyPl1kLdpulAtsx14Y6WDSks",
      "include_colab_link": true
    },
    "kernelspec": {
      "name": "python3",
      "display_name": "Python 3"
    },
    "language_info": {
      "name": "python"
    }
  },
  "cells": [
    {
      "cell_type": "markdown",
      "metadata": {
        "id": "view-in-github",
        "colab_type": "text"
      },
      "source": [
        "<a href=\"https://colab.research.google.com/github/neysin/orm/blob/main/0112_%EC%97%B0%EC%8A%B5%EB%AC%B8%EC%A0%9C.ipynb\" target=\"_parent\"><img src=\"https://colab.research.google.com/assets/colab-badge.svg\" alt=\"Open In Colab\"/></a>"
      ]
    },
    {
      "cell_type": "code",
      "execution_count": null,
      "metadata": {
        "id": "TA0nEvzNci-v"
      },
      "outputs": [],
      "source": [
        "class Book:\n",
        "    def __init__(self, name, price, author, info):\n",
        "        self.name = name.strip()\n",
        "        self.price = int(price.strip())\n",
        "        self.author = author.replace('저자: ','').strip()\n",
        "        self.info = info.strip()\n",
        "\n",
        "    def __str__(self):\n",
        "        return self.name\n",
        "\n",
        "    def __repr__(self):\n",
        "        return self.name\n",
        "\n",
        "    def convert_to_dollars(self):\n",
        "        return self.price // 1200\n",
        "\n",
        "    def discount(self, discount_rate):\n",
        "        discounted_price = self.price * (1 - discount_rate / 100)\n",
        "        return discounted_price\n",
        "\n",
        "books = []\n",
        "for i, _ in enumerate(book_name):\n",
        "    books.append(Book(\n",
        "        book_name[i],\n",
        "        book_info[(i * 3)],\n",
        "        book_info[(i * 3) + 1],\n",
        "        book_info[(i * 3) + 2]\n",
        "    ))\n",
        "\n",
        "books[0].discount(0)"
      ]
    }
  ]
}