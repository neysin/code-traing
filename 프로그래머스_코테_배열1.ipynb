{
  "nbformat": 4,
  "nbformat_minor": 0,
  "metadata": {
    "colab": {
      "provenance": [],
      "authorship_tag": "ABX9TyORvKZQT6naa0GKEdUQhAS5",
      "include_colab_link": true
    },
    "kernelspec": {
      "name": "python3",
      "display_name": "Python 3"
    },
    "language_info": {
      "name": "python"
    }
  },
  "cells": [
    {
      "cell_type": "markdown",
      "metadata": {
        "id": "view-in-github",
        "colab_type": "text"
      },
      "source": [
        "<a href=\"https://colab.research.google.com/github/neysin/code-traing/blob/main/%ED%94%84%EB%A1%9C%EA%B7%B8%EB%9E%98%EB%A8%B8%EC%8A%A4_%EC%BD%94%ED%85%8C_%EB%B0%B0%EC%97%B41.ipynb\" target=\"_parent\"><img src=\"https://colab.research.google.com/assets/colab-badge.svg\" alt=\"Open In Colab\"/></a>"
      ]
    },
    {
      "cell_type": "markdown",
      "source": [
        "배열 - level2 \\\n",
        "교점에 별 만들기"
      ],
      "metadata": {
        "id": "95nv2P3a7bEu"
      }
    },
    {
      "cell_type": "code",
      "execution_count": 10,
      "metadata": {
        "colab": {
          "base_uri": "https://localhost:8080/"
        },
        "id": "l6E4qdVt7Hq9",
        "outputId": "af10e58e-7f95-4ed3-ff13-1213cbdfff4d"
      },
      "outputs": [
        {
          "output_type": "execute_result",
          "data": {
            "text/plain": [
              "['....*....',\n",
              " '.........',\n",
              " '.........',\n",
              " '*.......*',\n",
              " '.........',\n",
              " '.........',\n",
              " '.........',\n",
              " '.........',\n",
              " '*.......*']"
            ]
          },
          "metadata": {},
          "execution_count": 10
        }
      ],
      "source": [
        "def solution(line):\n",
        "    '''\n",
        "    1. 주어진 직선에서 교점을 구하기\n",
        "    2. 그 중 정수 교점만 따로 변수로 저장\n",
        "    3. 교점을 모두 표현할 수 있는 최소한의 사각형을 알아내기\n",
        "    4. 모든 교점을 *로 찍어서 표현\n",
        "    5. 배열을 거꾸로 뒤집어 반환\n",
        "    '''\n",
        "\n",
        "    pos = []\n",
        "    answer = []\n",
        "    x_min = y_min = int(1e15)\n",
        "    x_max = y_max = -int(1e15)\n",
        "\n",
        "    # 주어진 직선에서 교점을 구하기\n",
        "    for i in range(len(line)):\n",
        "        a, b, e = line[i]\n",
        "        for j in range(i+1, len(line)):\n",
        "            c, d, f = line[j]\n",
        "            if a*d == b*c:\n",
        "                continue\n",
        "\n",
        "            x = (b*f - e*d) / (a*d - b*c)\n",
        "            y = (e*c - a*f) / (a*d - b*c)\n",
        "\n",
        "            # 그 중 정수 교점만 따로 변수로 저장\n",
        "            if x == int(x) and y == int(y):\n",
        "                x = int(x)\n",
        "                y = int(y)\n",
        "                pos.append([x, y])\n",
        "\n",
        "                # 교점을 모두 표현할 수 있는 최소한의 사각형 알아내기\n",
        "                if x_min > x:\n",
        "                    x_min = x\n",
        "                if y_min > y:\n",
        "                    y_min = y\n",
        "                if x_max < x:\n",
        "                    x_max = x\n",
        "                if y_max < y:\n",
        "                    y_max = y\n",
        "\n",
        "    # 모든 교점을 *로 찍어서 표현\n",
        "    x_len = x_max - x_min + 1 # 간격의 길이를 len이라 지칭한 것이 아닌 그 행에 필요한 점의 개수를 넣기 위해 한 표현, 따라서 +1을 해줌.\n",
        "    y_len = y_max - y_min + 1\n",
        "    coord = [['.'] * x_len for _ in range(y_len)]\n",
        "\n",
        "    for star_x, star_y in pos:\n",
        "        # star_x, star_y는 실제의 교점 x좌표값이기 때문에 이를 인덱싱을 하기 위한 숫자로 바꿀려면 배열의 시작점이었던 x_min을\n",
        "        # 빼줘야함. 이 때 x_min이 음수라면 절대값을 취한 후 더해줘야함.\n",
        "        # 결과적으로 x,y 좌표계상의 0,0을 배열의 0,0으로 바꿔준다고 생각하면 됨.\n",
        "        nx = star_x + abs(x_min) if x_min < 0 else star_x - x_min\n",
        "        ny = star_y + abs(y_min) if y_min < 0 else star_y - y_min\n",
        "        coord[ny][nx] = '*'\n",
        "\n",
        "    # 결과로 나온 좌푯값들을 하나의 문자열로 만들어 배열로 생성\n",
        "    for result in coord:\n",
        "        answer.append(''.join(result))\n",
        "\n",
        "    return answer[::-1]\n",
        "\n",
        "\n",
        "line = [[2, -1, 4], [-2, -1, 4], [0, -1, 1], [5, -8, -12], [5, 8, 12]]\n",
        "solution(line)"
      ]
    }
  ]
}