{
  "nbformat": 4,
  "nbformat_minor": 0,
  "metadata": {
    "colab": {
      "provenance": [],
      "authorship_tag": "ABX9TyOxaY1Kn3FTNI9a9ReLk9KM",
      "include_colab_link": true
    },
    "kernelspec": {
      "name": "python3",
      "display_name": "Python 3"
    },
    "language_info": {
      "name": "python"
    }
  },
  "cells": [
    {
      "cell_type": "markdown",
      "metadata": {
        "id": "view-in-github",
        "colab_type": "text"
      },
      "source": [
        "<a href=\"https://colab.research.google.com/github/neysin/orm/blob/main/0111_%EC%97%B0%EC%8A%B5%EB%AC%B8%EC%A0%9C.ipynb\" target=\"_parent\"><img src=\"https://colab.research.google.com/assets/colab-badge.svg\" alt=\"Open In Colab\"/></a>"
      ]
    },
    {
      "cell_type": "code",
      "execution_count": 1,
      "metadata": {
        "colab": {
          "base_uri": "https://localhost:8080/"
        },
        "id": "Fts5JiLLOCTw",
        "outputId": "bca007d6-d5bc-4f02-9a97-4efdcaadd831"
      },
      "outputs": [
        {
          "output_type": "stream",
          "name": "stdout",
          "text": [
            "0\n"
          ]
        }
      ],
      "source": [
        "# 문제 1번\n",
        "number = [1, 5, 7, 4, 3, 22, 23, 15, 26, 17, 3]\n",
        "\n",
        "def solution(data):\n",
        "    z = sum(list(filter(lambda x: x > 5 and x < 20 and x % 2 ==0,number)))\n",
        "    return z\n",
        "\n",
        "print(solution(number))"
      ]
    },
    {
      "cell_type": "code",
      "source": [
        "# 문제 2번\n",
        "\n",
        "class Book:\n",
        "\n",
        "    def __init__(self, title, summary, author, publication_date, price):\n",
        "        self.title = title\n",
        "        self.summary = summary\n",
        "        self.author = author\n",
        "        self.publication_date = publication_date\n",
        "        self.price = price\n",
        "\n",
        "    def 할인(self, 할인율):\n",
        "        할인된_가격 = self.price * (1-할인율/100)\n",
        "        return 할인된_가격\n",
        "\n",
        "책 = Book('hello world python', 'hello world...', '이호준', '2024-01-11', 5000)\n",
        "\n",
        "print(책.할인(10))\n",
        ""
      ],
      "metadata": {
        "colab": {
          "base_uri": "https://localhost:8080/"
        },
        "id": "edofsXb4PziR",
        "outputId": "1d2a07bd-4244-4251-91d1-77fed02f0356"
      },
      "execution_count": 7,
      "outputs": [
        {
          "output_type": "stream",
          "name": "stdout",
          "text": [
            "4500.0\n"
          ]
        }
      ]
    },
    {
      "cell_type": "code",
      "source": [
        "# 문제 3번\n",
        "\n",
        "def solution(data):\n",
        "    result = []\n",
        "    for character in data:\n",
        "        if sum(character[1:]) >= 350:\n",
        "            result.append(character[0])\n",
        "\n",
        "    result.sort()\n",
        "    return result\n",
        "\n",
        "data = [['Licat', 98, 92, 85, 97], ['Mura', 95, 32, 51, 30], ['Binky', 98, 98, 51, 32]]\n",
        "\n",
        "print(solution(data))"
      ],
      "metadata": {
        "colab": {
          "base_uri": "https://localhost:8080/"
        },
        "id": "3m20ViUDRks_",
        "outputId": "5c2089ad-b7a5-4cf0-ce40-ad5a857b197c"
      },
      "execution_count": 9,
      "outputs": [
        {
          "output_type": "stream",
          "name": "stdout",
          "text": [
            "['Licat']\n"
          ]
        }
      ]
    },
    {
      "cell_type": "code",
      "source": [
        "# 문제 4번\n",
        "\n",
        "def solution(data):\n",
        "    data_list = list(data.items()) # 딕셔너리 형태의 데이터를 튜플로 묶어 리스트로 변환\n",
        "    data_list.sort(key=lambda x: x[0]) # 날짜를 기준으로 오름차순으로 정렬\n",
        "    temperature = sorted(data_list, key=lambda x: x[1], reverse=True)[:3]\n",
        "     # 온도를 기준으로 내림차순으로 정렬 후 높은 순 3개를 슬라이싱\n",
        "    return temperature\n",
        "\n",
        "data = {'2024-01-01': 15, '2024-01-02': 17, '2024-01-03': 16, '2024-01-04': 20, '2024-01-05': 19, '2024-01-06': 21, '2024-01-07': 18}\n",
        "print(solution(data))"
      ],
      "metadata": {
        "colab": {
          "base_uri": "https://localhost:8080/"
        },
        "id": "t8S0Mb1IVjgf",
        "outputId": "1c616b30-54d7-4336-8907-6afffa0226b1"
      },
      "execution_count": 16,
      "outputs": [
        {
          "output_type": "stream",
          "name": "stdout",
          "text": [
            "[('2024-01-06', 21), ('2024-01-04', 20), ('2024-01-05', 19)]\n"
          ]
        }
      ]
    },
    {
      "cell_type": "code",
      "source": [],
      "metadata": {
        "id": "K0M2bLQyXlUm"
      },
      "execution_count": null,
      "outputs": []
    }
  ]
}