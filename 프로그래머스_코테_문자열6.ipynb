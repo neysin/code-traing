{
  "nbformat": 4,
  "nbformat_minor": 0,
  "metadata": {
    "colab": {
      "provenance": [],
      "authorship_tag": "ABX9TyOACpV4+zGVe5URr7dkx2cO",
      "include_colab_link": true
    },
    "kernelspec": {
      "name": "python3",
      "display_name": "Python 3"
    },
    "language_info": {
      "name": "python"
    }
  },
  "cells": [
    {
      "cell_type": "markdown",
      "metadata": {
        "id": "view-in-github",
        "colab_type": "text"
      },
      "source": [
        "<a href=\"https://colab.research.google.com/github/neysin/code-traing/blob/main/%ED%94%84%EB%A1%9C%EA%B7%B8%EB%9E%98%EB%A8%B8%EC%8A%A4_%EC%BD%94%ED%85%8C_%EB%AC%B8%EC%9E%90%EC%97%B46.ipynb\" target=\"_parent\"><img src=\"https://colab.research.google.com/assets/colab-badge.svg\" alt=\"Open In Colab\"/></a>"
      ]
    },
    {
      "cell_type": "markdown",
      "source": [
        "문자열 - level1 \\\n",
        "3진법 뒤집기"
      ],
      "metadata": {
        "id": "TXysVjQ7jcdl"
      }
    },
    {
      "cell_type": "code",
      "execution_count": 7,
      "metadata": {
        "colab": {
          "base_uri": "https://localhost:8080/"
        },
        "collapsed": true,
        "id": "1KjrlknVdCkY",
        "outputId": "a4632cf3-554d-4fde-eae2-08816e220a82"
      },
      "outputs": [
        {
          "output_type": "execute_result",
          "data": {
            "text/plain": [
              "7"
            ]
          },
          "metadata": {},
          "execution_count": 7
        }
      ],
      "source": [
        "def radixChange(num, radix): # 3진수를 만들 함수를 만듬\n",
        "    if num == 0: # 주어진 수가 0일 때는 0을 반환\n",
        "        return '0'\n",
        "    nums = []\n",
        "    while num: # num이 존재한다면 반복\n",
        "        num, digit = divmod(num, radix) # divmod를 사용해 num을 radix로 나누어 몫과 나머지를 튜플로 반환\n",
        "        nums.append(str(digit)) # 나머지 digit을 nums 리스트에 문자열형태로 추가\n",
        "\n",
        "    return ''.join(reversed(nums)) # nums를 뒤집어 합쳐 반환\n",
        "\n",
        "def solution(n):\n",
        "    return int(radixChange(n, 3)[::-1], 3) # 3진수로 바꾼 문자열을 int를 사용하여 10진수로 변환\n",
        "\n",
        "n = 45\n",
        "solution(n)"
      ]
    }
  ]
}