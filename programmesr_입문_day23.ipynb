{
  "nbformat": 4,
  "nbformat_minor": 0,
  "metadata": {
    "colab": {
      "provenance": [],
      "authorship_tag": "ABX9TyMuD7ju5u0dGLog9FRYsoaT",
      "include_colab_link": true
    },
    "kernelspec": {
      "name": "python3",
      "display_name": "Python 3"
    },
    "language_info": {
      "name": "python"
    }
  },
  "cells": [
    {
      "cell_type": "markdown",
      "metadata": {
        "id": "view-in-github",
        "colab_type": "text"
      },
      "source": [
        "<a href=\"https://colab.research.google.com/github/neysin/code-traing/blob/main/programmesr_%EC%9E%85%EB%AC%B8_day23.ipynb\" target=\"_parent\"><img src=\"https://colab.research.google.com/assets/colab-badge.svg\" alt=\"Open In Colab\"/></a>"
      ]
    },
    {
      "cell_type": "code",
      "execution_count": 8,
      "metadata": {
        "colab": {
          "base_uri": "https://localhost:8080/"
        },
        "id": "it-U-1vMYbfn",
        "outputId": "4497857f-7f6c-4221-dbc8-ecaf22361891"
      },
      "outputs": [
        {
          "output_type": "execute_result",
          "data": {
            "text/plain": [
              "[4, 5, 3, 6, 2, 1]"
            ]
          },
          "metadata": {},
          "execution_count": 8
        }
      ],
      "source": [
        "# 특이한 정렬\n",
        "def solution(numlist, n):\n",
        "    sort_numlist = sorted(numlist, key = lambda x: (abs(x - n), -x))\n",
        "    return sort_numlist\n",
        "\n",
        "numlist = [1, 2, 3, 4, 5, 6]\n",
        "n = 4\n",
        "solution(numlist, n)"
      ]
    },
    {
      "cell_type": "code",
      "source": [
        "# 등수 매기기\n",
        "# 겹치는 숫자가 있을 시 index 함수를 사용한다면 앞에 먼저 나온 숫자의 index를 출력하기 때문에\n",
        "# 겹치는 점수의 등수를 표현하기 좋음.\n",
        "def solution(score):\n",
        "    sum_list = list(map(sum, score))\n",
        "    sort_list = sorted(sum_list, reverse = True)\n",
        "\n",
        "    l = []\n",
        "    for i in sum_list:\n",
        "        l.append(sort_list.index(i)+1)\n",
        "\n",
        "    return l\n",
        "\n",
        "score = [[80, 70], [70, 80], [30, 50], [90, 100], [100, 90], [100, 100], [10, 30]]\n",
        "solution(score)"
      ],
      "metadata": {
        "colab": {
          "base_uri": "https://localhost:8080/"
        },
        "id": "_9PDAmIaY8aN",
        "outputId": "3dd0ee47-21d4-4ada-a878-59c58bdab31f"
      },
      "execution_count": 26,
      "outputs": [
        {
          "output_type": "execute_result",
          "data": {
            "text/plain": [
              "[4, 4, 6, 2, 2, 1, 7]"
            ]
          },
          "metadata": {},
          "execution_count": 26
        }
      ]
    },
    {
      "cell_type": "markdown",
      "source": [
        "옹알이(1)"
      ],
      "metadata": {
        "id": "jsVnCHrol8pw"
      }
    },
    {
      "cell_type": "code",
      "source": [
        "# 옹알이(1)\n",
        "def solution(babbling):\n",
        "    able_str = [\"aya\", \"ye\", \"woo\", \"ma\"]\n",
        "    count = 0\n",
        "    for i in babbling:\n",
        "        replace_count = 0\n",
        "        for j in able_str:\n",
        "            while j in i:\n",
        "                i = i.replace(j, ' ')\n",
        "                replace_count += 1\n",
        "                if len(i) == replace_count:\n",
        "                    count += 1\n",
        "\n",
        "    return count\n",
        "\n",
        "babbling = [\"aya\", \"yee\", \"u\", \"maa\", \"wyeoo\"]\n",
        "solution(babbling)"
      ],
      "metadata": {
        "colab": {
          "base_uri": "https://localhost:8080/"
        },
        "id": "ndvezwLphAXz",
        "outputId": "6f990331-a8d1-492e-ec3a-2db97c1d7039"
      },
      "execution_count": 33,
      "outputs": [
        {
          "output_type": "execute_result",
          "data": {
            "text/plain": [
              "1"
            ]
          },
          "metadata": {},
          "execution_count": 33
        }
      ]
    },
    {
      "cell_type": "code",
      "source": [
        "# 정규표현식을 사용해서 문자의 등장횟수를 카운트\n",
        "# 이렇게 하면 조건을 보기 편하게 정리할 수 있어 좋은 것 같다.\n",
        "import re\n",
        "\n",
        "def solution(babbling):\n",
        "    regex = re.compile('^(aya|ye|woo|ma)+$')\n",
        "    cnt=0\n",
        "    for e in babbling:\n",
        "        if regex.match(e):\n",
        "            cnt+=1\n",
        "    return cnt"
      ],
      "metadata": {
        "id": "tZ5H70StjuIH"
      },
      "execution_count": null,
      "outputs": []
    },
    {
      "cell_type": "markdown",
      "source": [
        "로그인 성공?"
      ],
      "metadata": {
        "id": "77rNqdFtyge7"
      }
    },
    {
      "cell_type": "code",
      "source": [
        "# 로그인 성공?\n",
        "def solution(id_pw, db):\n",
        "    id, pw = id_pw\n",
        "    login = False\n",
        "    for i, (db_id, db_pw) in enumerate(db, 1):\n",
        "        if id == db_id and pw == db_pw:\n",
        "            login = True\n",
        "            break\n",
        "    if login:\n",
        "        return 'login'\n",
        "    elif any(id == db_id for db_id, _ in db):\n",
        "        return 'wrong pw'\n",
        "    else:\n",
        "        return 'fail'\n",
        "\n",
        "id_pw = [\"meosseugi\", \"1234\"]\n",
        "db = [[\"rardss\", \"123\"], [\"yyoom\", \"1234\"], [\"meosseugi\", \"1234\"]]\n",
        "solution(id_pw, db)"
      ],
      "metadata": {
        "colab": {
          "base_uri": "https://localhost:8080/",
          "height": 35
        },
        "id": "aXTOj39-mnWg",
        "outputId": "8c09c579-0389-417c-d303-c438d88bb1b2"
      },
      "execution_count": 44,
      "outputs": [
        {
          "output_type": "execute_result",
          "data": {
            "text/plain": [
              "'login'"
            ],
            "application/vnd.google.colaboratory.intrinsic+json": {
              "type": "string"
            }
          },
          "metadata": {},
          "execution_count": 44
        }
      ]
    },
    {
      "cell_type": "code",
      "source": [
        "# 정확한 조건과 정확한 분류를 통해 깔끔하게 작성한 코드\n",
        "# 나의 코드와 비교시 나는 너무 잡다한 조건의 코드가 많음.\n",
        "def solution(id_pw, db):\n",
        "    answer = ''\n",
        "    a, b = id_pw[0], id_pw[1]\n",
        "    for pk, pw in db:\n",
        "        if pk == a and pw == b:\n",
        "            return \"login\"\n",
        "    for pk, pw in db:\n",
        "        if pk == a:\n",
        "            return \"wrong pw\"\n",
        "\n",
        "    return \"fail\""
      ],
      "metadata": {
        "id": "5SigiKXAwpoF"
      },
      "execution_count": null,
      "outputs": []
    }
  ]
}