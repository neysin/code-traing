{
  "nbformat": 4,
  "nbformat_minor": 0,
  "metadata": {
    "colab": {
      "provenance": [],
      "authorship_tag": "ABX9TyObnkUV/Rle7P8Y/pd+wb14",
      "include_colab_link": true
    },
    "kernelspec": {
      "name": "python3",
      "display_name": "Python 3"
    },
    "language_info": {
      "name": "python"
    }
  },
  "cells": [
    {
      "cell_type": "markdown",
      "metadata": {
        "id": "view-in-github",
        "colab_type": "text"
      },
      "source": [
        "<a href=\"https://colab.research.google.com/github/neysin/orm/blob/main/programmers_%EC%9E%85%EB%AC%B8_day9.ipynb\" target=\"_parent\"><img src=\"https://colab.research.google.com/assets/colab-badge.svg\" alt=\"Open In Colab\"/></a>"
      ]
    },
    {
      "cell_type": "markdown",
      "source": [
        "개미군단"
      ],
      "metadata": {
        "id": "il-cvZy_jFN8"
      }
    },
    {
      "cell_type": "code",
      "source": [
        "# 개미군단\n",
        "# 장군개미 5, 병정개미 3, 일개미 1\n",
        "def solution(hp):\n",
        "    count = 0\n",
        "    if hp >= 5:\n",
        "        count = count + hp // 5\n",
        "        hp = hp % 5\n",
        "\n",
        "    if hp >= 3:\n",
        "        count = count + hp // 3\n",
        "        hp = hp % 3\n",
        "\n",
        "    if hp >= 1:\n",
        "        count = count + hp // 1\n",
        "        hp = hp % 1\n",
        "\n",
        "    return count\n",
        "\n",
        "hp = 23\n",
        "solution(hp)"
      ],
      "metadata": {
        "colab": {
          "base_uri": "https://localhost:8080/"
        },
        "id": "R91uAMYqhsGD",
        "outputId": "85cd19ca-5a8d-45c1-9e98-35c6494bcf4b"
      },
      "execution_count": 3,
      "outputs": [
        {
          "output_type": "execute_result",
          "data": {
            "text/plain": [
              "5"
            ]
          },
          "metadata": {},
          "execution_count": 3
        }
      ]
    },
    {
      "cell_type": "code",
      "source": [
        "# 위 조건을 한 줄로 정리한 코\n",
        "def solution(hp):\n",
        "    return hp // 5 + (hp % 5 // 3) + ((hp % 5) % 3)"
      ],
      "metadata": {
        "id": "5tx2QBmgi3Ui"
      },
      "execution_count": null,
      "outputs": []
    },
    {
      "cell_type": "code",
      "source": [
        "# 모스부호\n",
        "def solution(letter):\n",
        "    morse = {\n",
        "    '.-':'a','-...':'b','-.-.':'c','-..':'d','.':'e','..-.':'f',\n",
        "    '--.':'g','....':'h','..':'i','.---':'j','-.-':'k','.-..':'l',\n",
        "    '--':'m','-.':'n','---':'o','.--.':'p','--.-':'q','.-.':'r',\n",
        "    '...':'s','-':'t','..-':'u','...-':'v','.--':'w','-..-':'x',\n",
        "    '-.--':'y','--..':'z'\n",
        "    }\n",
        "\n",
        "    letter_list = letter.split()\n",
        "    result = []\n",
        "    for i in letter_list:\n",
        "        result.append(morse[i])\n",
        "\n",
        "    return ''.join(result)\n",
        "\n",
        "\n",
        "letter = \".... . .-.. .-.. ---\"\n",
        "solution(letter)"
      ],
      "metadata": {
        "colab": {
          "base_uri": "https://localhost:8080/",
          "height": 36
        },
        "id": "MEC7Dul_jHoJ",
        "outputId": "8b373f9d-d1e6-49dc-d2bf-f09fc794262d"
      },
      "execution_count": 6,
      "outputs": [
        {
          "output_type": "execute_result",
          "data": {
            "text/plain": [
              "'hello'"
            ],
            "application/vnd.google.colaboratory.intrinsic+json": {
              "type": "string"
            }
          },
          "metadata": {},
          "execution_count": 6
        }
      ]
    },
    {
      "cell_type": "markdown",
      "source": [
        "가위 바위 보"
      ],
      "metadata": {
        "id": "mjdxmp5Tkcqp"
      }
    },
    {
      "cell_type": "code",
      "source": [
        "# 가위 바위 보\n",
        "# 가위 2, 바위 0, 보 5\n",
        "def solution(rsp):\n",
        "    result = []\n",
        "    for i in rsp:\n",
        "        if i == '0':\n",
        "            result.append('5')\n",
        "        elif i == '2':\n",
        "            result.append('0')\n",
        "        elif i == '5':\n",
        "            result.append('2')\n",
        "\n",
        "    return ''.join(result)\n",
        "\n",
        "rsp = \"2\"\n",
        "solution(rsp)"
      ],
      "metadata": {
        "colab": {
          "base_uri": "https://localhost:8080/",
          "height": 36
        },
        "id": "AwFDLdswja-R",
        "outputId": "55bc5691-9b5b-42d2-c6a4-f17a5eb196fe"
      },
      "execution_count": 7,
      "outputs": [
        {
          "output_type": "execute_result",
          "data": {
            "text/plain": [
              "'0'"
            ],
            "application/vnd.google.colaboratory.intrinsic+json": {
              "type": "string"
            }
          },
          "metadata": {},
          "execution_count": 7
        }
      ]
    },
    {
      "cell_type": "code",
      "source": [
        "# 위의 조건에 따른 대응되는 숫자들을 딕셔너리로 만들어서 출력\n",
        "def solution(rsp):\n",
        "    d = {'0':'5','2':'0','5':'2'}\n",
        "    return ''.join(d[i] for i in rsp)"
      ],
      "metadata": {
        "id": "M4jHCUiDkTAZ"
      },
      "execution_count": null,
      "outputs": []
    },
    {
      "cell_type": "markdown",
      "source": [
        "구슬을 나누는 경우의 수"
      ],
      "metadata": {
        "id": "0pQpsbNTl3qt"
      }
    },
    {
      "cell_type": "code",
      "source": [
        "# 구슬을 나누는 경우의 수\n",
        "def solution(balls, share):\n",
        "    def fac(n):\n",
        "        result = 1\n",
        "        for i in range(1, n+1):\n",
        "            result *= i\n",
        "        return result\n",
        "\n",
        "    return int(fac(balls) / (fac(balls - share) * fac(share)))\n",
        "\n",
        "balls = 3\n",
        "share = 2\n",
        "solution(balls, share)"
      ],
      "metadata": {
        "colab": {
          "base_uri": "https://localhost:8080/"
        },
        "id": "kcqA8mkkke9K",
        "outputId": "4c76386b-c44b-42f6-d52f-97a11a454ed6"
      },
      "execution_count": 9,
      "outputs": [
        {
          "output_type": "execute_result",
          "data": {
            "text/plain": [
              "3"
            ]
          },
          "metadata": {},
          "execution_count": 9
        }
      ]
    },
    {
      "cell_type": "code",
      "source": [
        "# 콤비네이션 모듈을 사용할 수 있음\n",
        "import math\n",
        "\n",
        "def solution(balls, share):\n",
        "    return math.comb(balls, share)"
      ],
      "metadata": {
        "id": "5cw93fxilmwB"
      },
      "execution_count": null,
      "outputs": []
    }
  ]
}