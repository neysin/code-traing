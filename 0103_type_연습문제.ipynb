{
  "nbformat": 4,
  "nbformat_minor": 0,
  "metadata": {
    "colab": {
      "provenance": [],
      "authorship_tag": "ABX9TyMCbqpztmXdoFirZrbar6o3",
      "include_colab_link": true
    },
    "kernelspec": {
      "name": "python3",
      "display_name": "Python 3"
    },
    "language_info": {
      "name": "python"
    }
  },
  "cells": [
    {
      "cell_type": "markdown",
      "metadata": {
        "id": "view-in-github",
        "colab_type": "text"
      },
      "source": [
        "<a href=\"https://colab.research.google.com/github/neysin/orm/blob/main/0103_type_%EC%97%B0%EC%8A%B5%EB%AC%B8%EC%A0%9C.ipynb\" target=\"_parent\"><img src=\"https://colab.research.google.com/assets/colab-badge.svg\" alt=\"Open In Colab\"/></a>"
      ]
    },
    {
      "cell_type": "code",
      "source": [
        "# 문제 1\n",
        "\n",
        "x = 100\n",
        "y = 100\n",
        "z = x\n",
        "\n",
        "A = id(x)==id(y)==id(z)\n",
        "print(A)"
      ],
      "metadata": {
        "colab": {
          "base_uri": "https://localhost:8080/"
        },
        "id": "r59gHBNYTvw8",
        "outputId": "369c4055-c306-43aa-8a53-62cf2e19d8e0"
      },
      "execution_count": 18,
      "outputs": [
        {
          "output_type": "stream",
          "name": "stdout",
          "text": [
            "True\n"
          ]
        }
      ]
    },
    {
      "cell_type": "code",
      "source": [
        "# 문제 1-2\n",
        "\n",
        "x = 258\n",
        "y = 258\n",
        "z = x\n",
        "\n",
        "A = id(x)==id(y)==id(z)\n",
        "print(A)"
      ],
      "metadata": {
        "colab": {
          "base_uri": "https://localhost:8080/"
        },
        "id": "W_TsmLEbTegi",
        "outputId": "5306b4b1-94db-4520-adb4-b341cc63518d"
      },
      "execution_count": 17,
      "outputs": [
        {
          "output_type": "stream",
          "name": "stdout",
          "text": [
            "False\n"
          ]
        }
      ]
    },
    {
      "cell_type": "code",
      "source": [
        "# 문제 2\n",
        "\n",
        "k = 100\n",
        "a123 = 'abc'\n",
        "_ = 10\n",
        "print(k, a123, _) # 정답은 3, 4 ,5 번"
      ],
      "metadata": {
        "colab": {
          "base_uri": "https://localhost:8080/"
        },
        "id": "uP1Q7JdkWt50",
        "outputId": "1e1b194b-313f-4948-ee59-9f6b00bed757"
      },
      "execution_count": 19,
      "outputs": [
        {
          "output_type": "stream",
          "name": "stdout",
          "text": [
            "100 abc 10\n"
          ]
        }
      ]
    },
    {
      "cell_type": "code",
      "execution_count": 2,
      "metadata": {
        "colab": {
          "base_uri": "https://localhost:8080/"
        },
        "id": "TszHUmZ5PxqY",
        "outputId": "29930822-e97c-4f07-c4f8-78d368632879"
      },
      "outputs": [
        {
          "output_type": "stream",
          "name": "stdout",
          "text": [
            "abc\n",
            "abcabc\n"
          ]
        }
      ],
      "source": [
        "# 문제 3\n",
        "\n",
        "A = input()\n",
        "print(A * 2)"
      ]
    },
    {
      "cell_type": "code",
      "source": [
        "# 문제 4\n",
        "\n",
        "n = 1234567890123123123\n",
        "print(set(str(n)))"
      ],
      "metadata": {
        "colab": {
          "base_uri": "https://localhost:8080/"
        },
        "id": "94AQo_H6QGH9",
        "outputId": "cb33c8d4-8b3c-4979-890f-e275cb0b7fef"
      },
      "execution_count": 9,
      "outputs": [
        {
          "output_type": "stream",
          "name": "stdout",
          "text": [
            "{'5', '2', '4', '8', '1', '9', '0', '7', '6', '3'}\n"
          ]
        }
      ]
    },
    {
      "cell_type": "code",
      "source": [
        "# 문제 5\n",
        "\n",
        "s = 'jun'\n",
        "# 출력값: 'junnn'\n",
        "s.ljust(5,'n')"
      ],
      "metadata": {
        "colab": {
          "base_uri": "https://localhost:8080/",
          "height": 35
        },
        "id": "mVJ-T_ieQhg4",
        "outputId": "032ba615-d969-47f2-9b67-32f431318f2e"
      },
      "execution_count": 10,
      "outputs": [
        {
          "output_type": "execute_result",
          "data": {
            "text/plain": [
              "'junnn'"
            ],
            "application/vnd.google.colaboratory.intrinsic+json": {
              "type": "string"
            }
          },
          "metadata": {},
          "execution_count": 10
        }
      ]
    },
    {
      "cell_type": "code",
      "source": [
        "# 문제 6\n",
        "\n",
        "s = 'hello_world123'\n",
        "# 출력값: 'hlloworl'\n",
        "word1 = str.maketrans('','','abcde0123456789-_')\n",
        "result = s.translate(word1)\n",
        "print(result)"
      ],
      "metadata": {
        "colab": {
          "base_uri": "https://localhost:8080/"
        },
        "id": "K7ZvBFNQRklk",
        "outputId": "a7d566e5-000f-4baf-a655-f874192e5c16"
      },
      "execution_count": 13,
      "outputs": [
        {
          "output_type": "stream",
          "name": "stdout",
          "text": [
            "hlloworl\n"
          ]
        }
      ]
    },
    {
      "cell_type": "code",
      "source": [
        "# 문제 7\n",
        "\n",
        "s_1 = 'licat.jpeg'\n",
        "# 출력값: 'jpeg'\n",
        "\n",
        "s_2 = 'li.cat.png'\n",
        "# 출력값: 'png'\n",
        "\n",
        "A = s_1.split('.')\n",
        "B = s_2.split('.')\n",
        "print(A[-1])\n",
        "print(B[-1])"
      ],
      "metadata": {
        "colab": {
          "base_uri": "https://localhost:8080/"
        },
        "id": "3GNrAqy-SClc",
        "outputId": "1f5ade79-813e-45c3-d17d-ef4942b36092"
      },
      "execution_count": 20,
      "outputs": [
        {
          "output_type": "stream",
          "name": "stdout",
          "text": [
            "jpeg\n",
            "png\n"
          ]
        }
      ]
    }
  ]
}