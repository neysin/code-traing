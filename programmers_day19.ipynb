{
  "nbformat": 4,
  "nbformat_minor": 0,
  "metadata": {
    "colab": {
      "provenance": [],
      "authorship_tag": "ABX9TyOkc6tTauWUBo/qZfjRXv2u",
      "include_colab_link": true
    },
    "kernelspec": {
      "name": "python3",
      "display_name": "Python 3"
    },
    "language_info": {
      "name": "python"
    }
  },
  "cells": [
    {
      "cell_type": "markdown",
      "metadata": {
        "id": "view-in-github",
        "colab_type": "text"
      },
      "source": [
        "<a href=\"https://colab.research.google.com/github/neysin/orm/blob/main/programmers_day19.ipynb\" target=\"_parent\"><img src=\"https://colab.research.google.com/assets/colab-badge.svg\" alt=\"Open In Colab\"/></a>"
      ]
    },
    {
      "cell_type": "code",
      "execution_count": 13,
      "metadata": {
        "colab": {
          "base_uri": "https://localhost:8080/"
        },
        "id": "wWINqd4mJRSx",
        "outputId": "74434def-6873-4814-e981-0f645f908526"
      },
      "outputs": [
        {
          "output_type": "execute_result",
          "data": {
            "text/plain": [
              "['EMPTY']"
            ]
          },
          "metadata": {},
          "execution_count": 13
        }
      ],
      "source": [
        "# 세 개의 구분자\n",
        "def solution(myStr):\n",
        "    str_1 = myStr.replace('a', '1').replace('b', '1').replace('c', '1')\n",
        "    l = str_1.split('1')\n",
        "    new_l = [l2 for l2 in l if l2 != '']\n",
        "\n",
        "    if len(new_l) <= 1:\n",
        "        return [\"EMPTY\"]\n",
        "    else:\n",
        "        return new_l\n",
        "\n",
        "myStr = \"cabab\"\n",
        "solution(myStr)"
      ]
    },
    {
      "cell_type": "code",
      "source": [
        "# 배열의 원소만큼 추가하기\n",
        "def solution(arr):\n",
        "    l = []\n",
        "    for i in arr:\n",
        "        for j in range(i):\n",
        "            l.append(i)\n",
        "\n",
        "    return l\n",
        "\n",
        "arr = [5, 1, 4]\n",
        "solution(arr)"
      ],
      "metadata": {
        "colab": {
          "base_uri": "https://localhost:8080/"
        },
        "id": "eoo8fN0SNt8z",
        "outputId": "1eb6271d-9c7e-4be9-dc9d-551ef9e7a739"
      },
      "execution_count": 14,
      "outputs": [
        {
          "output_type": "execute_result",
          "data": {
            "text/plain": [
              "[5, 5, 5, 5, 5, 1, 4, 4, 4, 4]"
            ]
          },
          "metadata": {},
          "execution_count": 14
        }
      ]
    },
    {
      "cell_type": "code",
      "source": [
        "# 빈 배열에 추가, 삭제하기\n",
        "# flag[i] == true , arr[i]를 (arr[i] * 2)번 추가\n",
        "# flag[i] == false , 리스트 마지막에 arr[i]개의 원소를 제거\n",
        "def solution(arr, flag):\n",
        "    l = []\n",
        "    for i in range(len(flag)):\n",
        "        if flag[i] == True:\n",
        "            for _ in range(arr[i]*2):\n",
        "                l.append(arr[i])\n",
        "        else:\n",
        "            for _ in range(arr[i]):\n",
        "                l.pop()\n",
        "    return l\n",
        "\n",
        "arr = [3, 2, 4, 1, 3]\n",
        "flag = [True, False, True, False, False]\n",
        "solution(arr, flag)"
      ],
      "metadata": {
        "colab": {
          "base_uri": "https://localhost:8080/"
        },
        "id": "JtVHds6yOdeu",
        "outputId": "492113d7-26f8-4555-8d63-027d7a57c650"
      },
      "execution_count": 19,
      "outputs": [
        {
          "output_type": "execute_result",
          "data": {
            "text/plain": [
              "[3, 3, 3, 3, 4, 4, 4, 4]"
            ]
          },
          "metadata": {},
          "execution_count": 19
        }
      ]
    },
    {
      "cell_type": "code",
      "source": [
        "# 배열 만들기 6\n",
        "# i = 0, if i < len(arr)\n",
        "# if stk = [], arr[i]을 stk에 추가, i +1\n",
        "# else stk[-1] == arr[i], stk[-1]을 제거, i+1\n",
        "# else 다르면 arr[i]을 추가, i +1\n",
        "def solution(arr):\n",
        "    i = 0\n",
        "    stk = []\n",
        "    while i < len(arr):\n",
        "        if len(stk) == 0:\n",
        "            stk.append(arr[i])\n",
        "            i += 1\n",
        "        else:\n",
        "            if stk[-1] == arr[i]:\n",
        "                stk.pop()\n",
        "                i += 1\n",
        "            else:\n",
        "                stk.append(arr[i])\n",
        "                i += 1\n",
        "\n",
        "    if stk == []:\n",
        "        return [-1]\n",
        "    else:\n",
        "        return stk\n",
        "\n",
        "\n",
        "\n",
        "arr = [0, 1, 1, 0]\n",
        "solution(arr)"
      ],
      "metadata": {
        "colab": {
          "base_uri": "https://localhost:8080/"
        },
        "id": "p7WsM0O-jyt6",
        "outputId": "417d5949-e71b-429e-d10b-0f4b23dcd201"
      },
      "execution_count": 25,
      "outputs": [
        {
          "output_type": "execute_result",
          "data": {
            "text/plain": [
              "[-1]"
            ]
          },
          "metadata": {},
          "execution_count": 25
        }
      ]
    },
    {
      "cell_type": "code",
      "source": [
        "# 무작위로 K개의 수 뽑기\n",
        "# arr 배열 순으로 뽑고 안나왔던 숫자면 배열 맨 뒤 배치\n",
        "# 배열의 길이가 k보다 짧으면 나머지를 -1로 채움\n",
        "def solution(arr, k):\n",
        "    l = []\n",
        "    for i in arr:\n",
        "        if i not in l:\n",
        "            l.append(i)\n",
        "\n",
        "    if len(l) < k:\n",
        "        for _ in range(k-len(l)):\n",
        "            l.append(-1)\n",
        "    else:\n",
        "        for _ in range(len(l)-k):\n",
        "            l.pop()\n",
        "\n",
        "    return l\n",
        "\n",
        "\n",
        "\n",
        "arr = [0, 1, 1, 1, 1]\n",
        "k = 4\n",
        "solution(arr, k)"
      ],
      "metadata": {
        "colab": {
          "base_uri": "https://localhost:8080/"
        },
        "id": "eBypfX53nbQS",
        "outputId": "061e5cf4-1663-41c9-830e-3289975f1010"
      },
      "execution_count": 32,
      "outputs": [
        {
          "output_type": "execute_result",
          "data": {
            "text/plain": [
              "[0, 1, -1, -1]"
            ]
          },
          "metadata": {},
          "execution_count": 32
        }
      ]
    },
    {
      "cell_type": "code",
      "source": [
        "# 배열의 길이가 k 와 같아질 때 break를 통해 반복문을 탈출하고 -1의 개수를 곱해주는\n",
        "# 방법이 더욱 간결하고 좋음.\n",
        "def solution(arr, k):\n",
        "    ret = []\n",
        "    for i in arr:\n",
        "        if i not in ret:\n",
        "            ret.append(i)\n",
        "        if len(ret) == k:\n",
        "            break\n",
        "\n",
        "    return ret + [-1] * (k - len(ret))"
      ],
      "metadata": {
        "id": "qptuhSB0qVCh"
      },
      "execution_count": null,
      "outputs": []
    }
  ]
}