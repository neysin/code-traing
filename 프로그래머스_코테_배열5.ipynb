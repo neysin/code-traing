{
  "nbformat": 4,
  "nbformat_minor": 0,
  "metadata": {
    "colab": {
      "provenance": [],
      "authorship_tag": "ABX9TyOzERukfJOJQDFdKXoH1Kzw",
      "include_colab_link": true
    },
    "kernelspec": {
      "name": "python3",
      "display_name": "Python 3"
    },
    "language_info": {
      "name": "python"
    }
  },
  "cells": [
    {
      "cell_type": "markdown",
      "metadata": {
        "id": "view-in-github",
        "colab_type": "text"
      },
      "source": [
        "<a href=\"https://colab.research.google.com/github/neysin/code-traing/blob/main/%ED%94%84%EB%A1%9C%EA%B7%B8%EB%9E%98%EB%A8%B8%EC%8A%A4_%EC%BD%94%ED%85%8C_%EB%B0%B0%EC%97%B45.ipynb\" target=\"_parent\"><img src=\"https://colab.research.google.com/assets/colab-badge.svg\" alt=\"Open In Colab\"/></a>"
      ]
    },
    {
      "cell_type": "markdown",
      "source": [
        "배열 - level2 \\\n",
        "행렬의 곱셈"
      ],
      "metadata": {
        "id": "rhrIZlnhXDI_"
      }
    },
    {
      "cell_type": "code",
      "execution_count": 1,
      "metadata": {
        "colab": {
          "base_uri": "https://localhost:8080/"
        },
        "id": "TS3MaB2YSoLT",
        "outputId": "5573193f-8c10-4d84-802c-33e4d7c27342"
      },
      "outputs": [
        {
          "output_type": "execute_result",
          "data": {
            "text/plain": [
              "[[15, 15], [15, 15], [15, 15]]"
            ]
          },
          "metadata": {},
          "execution_count": 1
        }
      ],
      "source": [
        "def solution(arr1, arr2):\n",
        "    answer = [[0 for _ in range(len(arr2[0]))] for _ in range(len(arr1))] # 결과값의 행열 길이 = arr1 의 행의 길이 * arr2의 열의 길이\n",
        "    for i in range(len(arr1)): # arr1의 행의 길이\n",
        "        for j in range(len(arr2[0])): # arr2의 열의 길이\n",
        "            for k in range(len(arr1[0])): # arr1의 열의 길이\n",
        "                answer[i][j] += (arr1[i][k] * arr2[k][j])\n",
        "                # i, j 값이 한번 고정되었을 때 k값은 반복함으로 행렬의 곱연산이 됨.\n",
        "\n",
        "    return answer\n",
        "\n",
        "\n",
        "\n",
        "arr1 = [[1, 4], [3, 2], [4, 1]]\n",
        "arr2 = [[3, 3], [3, 3]]\n",
        "solution(arr1, arr2)"
      ]
    }
  ]
}