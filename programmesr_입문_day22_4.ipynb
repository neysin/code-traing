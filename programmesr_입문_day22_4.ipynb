{
  "nbformat": 4,
  "nbformat_minor": 0,
  "metadata": {
    "colab": {
      "provenance": [],
      "authorship_tag": "ABX9TyPiw5tkzerPHUt8L4gbtEXx",
      "include_colab_link": true
    },
    "kernelspec": {
      "name": "python3",
      "display_name": "Python 3"
    },
    "language_info": {
      "name": "python"
    }
  },
  "cells": [
    {
      "cell_type": "markdown",
      "metadata": {
        "id": "view-in-github",
        "colab_type": "text"
      },
      "source": [
        "<a href=\"https://colab.research.google.com/github/neysin/code-traing/blob/main/programmesr_%EC%9E%85%EB%AC%B8_day22_4.ipynb\" target=\"_parent\"><img src=\"https://colab.research.google.com/assets/colab-badge.svg\" alt=\"Open In Colab\"/></a>"
      ]
    },
    {
      "cell_type": "code",
      "execution_count": 12,
      "metadata": {
        "id": "ulEgeVlzMBCa",
        "colab": {
          "base_uri": "https://localhost:8080/"
        },
        "outputId": "4ef42ad1-4820-4d22-874f-da16484a3d05"
      },
      "outputs": [
        {
          "output_type": "execute_result",
          "data": {
            "text/plain": [
              "0"
            ]
          },
          "metadata": {},
          "execution_count": 12
        }
      ],
      "source": [
        "# 유한소수 판별하기\n",
        "def solution(a, b):\n",
        "    def gcd(a, b):\n",
        "        while b != 0:\n",
        "            a, b = b, a%b\n",
        "        return a\n",
        "\n",
        "    new_b = b / gcd(a, b)\n",
        "\n",
        "    if new_b != 1:\n",
        "        while new_b % 2 == 0:\n",
        "            new_b = new_b / 2\n",
        "        while new_b % 5 == 0:\n",
        "            new_b = new_b / 5\n",
        "\n",
        "    if new_b == 1:\n",
        "        return 1\n",
        "    else:\n",
        "        return 2\n",
        "\n",
        "\n",
        "\n",
        "a = 12\n",
        "b = 21\n",
        "solution(a, b)"
      ]
    }
  ]
}