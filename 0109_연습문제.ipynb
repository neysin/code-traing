{
  "nbformat": 4,
  "nbformat_minor": 0,
  "metadata": {
    "colab": {
      "provenance": [],
      "authorship_tag": "ABX9TyNTrJGBLJiGtGtUggb8RZKZ",
      "include_colab_link": true
    },
    "kernelspec": {
      "name": "python3",
      "display_name": "Python 3"
    },
    "language_info": {
      "name": "python"
    }
  },
  "cells": [
    {
      "cell_type": "markdown",
      "metadata": {
        "id": "view-in-github",
        "colab_type": "text"
      },
      "source": [
        "<a href=\"https://colab.research.google.com/github/neysin/orm/blob/main/0109_%EC%97%B0%EC%8A%B5%EB%AC%B8%EC%A0%9C.ipynb\" target=\"_parent\"><img src=\"https://colab.research.google.com/assets/colab-badge.svg\" alt=\"Open In Colab\"/></a>"
      ]
    },
    {
      "cell_type": "markdown",
      "source": [
        "# 1. 스무고개"
      ],
      "metadata": {
        "id": "xyAsQx3p0nyB"
      }
    },
    {
      "cell_type": "markdown",
      "source": [
        "## 1.1 숫자를 입력 받기\n",
        "* input을 활용해서 숫자를 입력 받으세요!"
      ],
      "metadata": {
        "id": "brYRQbbY0rkC"
      }
    },
    {
      "cell_type": "code",
      "source": [
        "# 우리가 입력할 값\n",
        "number = int(input('숫자를 입력하세요~ (1에서 100사이)'))"
      ],
      "metadata": {
        "colab": {
          "base_uri": "https://localhost:8080/"
        },
        "id": "zbSEjcBt00lR",
        "outputId": "4c92ca03-b910-4214-fda7-833cbf7860d9"
      },
      "execution_count": 2,
      "outputs": [
        {
          "name": "stdout",
          "output_type": "stream",
          "text": [
            "숫자를 입력하세요~ (1에서 100사이)100\n"
          ]
        }
      ]
    },
    {
      "cell_type": "code",
      "source": [
        "# 우리가 맞춰야할 숫자!\n",
        "import random\n",
        "\n",
        "secret_number = random.randrange(1, 101)"
      ],
      "metadata": {
        "id": "YXRuwCoJ1JAL"
      },
      "execution_count": 5,
      "outputs": []
    },
    {
      "cell_type": "code",
      "source": [
        "# 정답을 위한 Step 1\n",
        "# if문을 사용해서 같으면 정답 틀리면 틀렸습니다. 라고 출력해보기!\n",
        "\n",
        "if number == secret_number :\n",
        "    print('정답입니다.')\n",
        "else :\n",
        "    print('틀렸습니다.')"
      ],
      "metadata": {
        "id": "AUXWmcUB1T3E"
      },
      "execution_count": null,
      "outputs": []
    },
    {
      "cell_type": "code",
      "source": [
        "# Step 2\n",
        "# for 문을 활용하여 20번 반복하는 기능 구현!\n",
        "import random\n",
        "\n",
        "secret_number = random.randrange(1, 101)\n",
        "\n",
        "for i in range(20) :\n",
        "    number = int(input('숫자를 입력하세요~ (1에서 100사이)'))\n",
        "    if number == secret_number :\n",
        "        print('정답입니다.')\n",
        "    else :\n",
        "        print('틀렸습니다.')\n",
        "\n",
        "# 계속 틀리다가 맞추면 정답! 출력 하기는 한다. 20번을 무조건 반복한다."
      ],
      "metadata": {
        "id": "EaErEBUv2KWo"
      },
      "execution_count": null,
      "outputs": []
    },
    {
      "cell_type": "code",
      "source": [
        "# Step 3\n",
        "# up / down 힌트를 주면 더 좋을 것 같다.\n",
        "\n",
        "import random\n",
        "\n",
        "secret_number = random.randrange(1, 101)\n",
        "\n",
        "for i in range(20) :\n",
        "    number = int(input('숫자를 입력하세요~ (1에서 100사이)'))\n",
        "    if number == secret_number :\n",
        "        print('정답입니다.',f'{i+1}번째에 맞추셨습니다.')\n",
        "        break # 반복문을 빠져나가게 하는 구문\n",
        "    elif number < secret_number :\n",
        "        print('up!')\n",
        "    else :\n",
        "        print('down!')\n",
        ""
      ],
      "metadata": {
        "colab": {
          "base_uri": "https://localhost:8080/"
        },
        "id": "qvJScILq44qA",
        "outputId": "697ad522-8189-4ea7-ab19-5dba42845808"
      },
      "execution_count": 15,
      "outputs": [
        {
          "output_type": "stream",
          "name": "stdout",
          "text": [
            "숫자를 입력하세요~ (1에서 100사이)50\n",
            "down!\n",
            "숫자를 입력하세요~ (1에서 100사이)25\n",
            "down!\n",
            "숫자를 입력하세요~ (1에서 100사이)12\n",
            "up!\n",
            "숫자를 입력하세요~ (1에서 100사이)20\n",
            "down!\n",
            "숫자를 입력하세요~ (1에서 100사이)18\n",
            "down!\n",
            "숫자를 입력하세요~ (1에서 100사이)15\n",
            "up!\n",
            "숫자를 입력하세요~ (1에서 100사이)17\n",
            "정답입니다. 7번째에 맞추셨습니다.\n"
          ]
        }
      ]
    },
    {
      "cell_type": "markdown",
      "source": [
        "# 2. 가위바위보"
      ],
      "metadata": {
        "id": "2Y31pe4v7kVt"
      }
    },
    {
      "cell_type": "code",
      "source": [
        "# step 1 : 우리가 낼 가위, 바위 ,보를 입력 받는다.\n",
        "\n",
        "my_action = input()"
      ],
      "metadata": {
        "colab": {
          "base_uri": "https://localhost:8080/"
        },
        "id": "_NHJoKX37qHJ",
        "outputId": "1501d75e-11d3-4572-8b35-177d3d0b17d6"
      },
      "execution_count": 16,
      "outputs": [
        {
          "name": "stdout",
          "output_type": "stream",
          "text": [
            "가위\n"
          ]
        }
      ]
    },
    {
      "cell_type": "code",
      "source": [
        "# step 2 : 컴퓨터가 낼 가위, 바위, 보를 입력 받는다.\n",
        "\n",
        "import random\n",
        "\n",
        "l = ['가위', '바위', '보']\n",
        "cpu_action = random.choice(l)"
      ],
      "metadata": {
        "id": "3ecl8K9r7zVU"
      },
      "execution_count": 17,
      "outputs": []
    },
    {
      "cell_type": "code",
      "source": [
        "# step 3 : 승패요건\n",
        "\n",
        "import random\n",
        "\n",
        "l = ['가위', '바위', '보']\n",
        "cpu_action = random.choice(l)\n",
        "\n",
        "my_action = input()\n",
        "\n",
        "if my_action == cpu_action :\n",
        "    print('비겼습니다.', f'컴퓨터는 {cpu_action}입니다.')\n",
        "elif my_action == '가위' and cpu_action == '바위' :\n",
        "    print('졌습니다.', f'컴퓨터는 {cpu_action}입니다.')\n",
        "elif my_action == '가위' and cpu_action == '보' :\n",
        "    print('이겼습니다.', f'컴퓨터는 {cpu_action}입니다.')\n",
        "elif my_action == '바위' and cpu_action == '가위' :\n",
        "    print('이겼습니다.', f'컴퓨터는 {cpu_action}입니다.')\n",
        "elif my_action == '바위' and cpu_action == '보' :\n",
        "    print('졌습니다.', f'컴퓨터는 {cpu_action}입니다.')\n",
        "elif my_action == '보' and cpu_action == '바위' :\n",
        "    print('이겼습니다.,' f'컴퓨터는 {cpu_action}입니다.')\n",
        "else :\n",
        "    print('졌습니다.', f'컴퓨터는 {cpu_action}입니다.')\n",
        "\n"
      ],
      "metadata": {
        "colab": {
          "base_uri": "https://localhost:8080/"
        },
        "id": "FlwcPr5Q8dLi",
        "outputId": "c64f9c70-21dc-401d-ffe1-8f91348aa70f"
      },
      "execution_count": 30,
      "outputs": [
        {
          "output_type": "stream",
          "name": "stdout",
          "text": [
            "가위\n",
            "이겼습니다. 컴퓨터는 보입니다.\n"
          ]
        }
      ]
    }
  ]
}