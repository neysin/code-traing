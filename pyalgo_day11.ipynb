{
  "nbformat": 4,
  "nbformat_minor": 0,
  "metadata": {
    "colab": {
      "provenance": [],
      "authorship_tag": "ABX9TyNMy8Vgkh1jRkj65Uxoyti8",
      "include_colab_link": true
    },
    "kernelspec": {
      "name": "python3",
      "display_name": "Python 3"
    },
    "language_info": {
      "name": "python"
    }
  },
  "cells": [
    {
      "cell_type": "markdown",
      "metadata": {
        "id": "view-in-github",
        "colab_type": "text"
      },
      "source": [
        "<a href=\"https://colab.research.google.com/github/neysin/orm/blob/main/pyalgo_day11.ipynb\" target=\"_parent\"><img src=\"https://colab.research.google.com/assets/colab-badge.svg\" alt=\"Open In Colab\"/></a>"
      ]
    },
    {
      "cell_type": "markdown",
      "source": [
        "문자 개수 세기"
      ],
      "metadata": {
        "id": "CJuRhUgWWL-P"
      }
    },
    {
      "cell_type": "code",
      "execution_count": null,
      "metadata": {
        "id": "hvwccxYoPLOZ"
      },
      "outputs": [],
      "source": [
        "# 문자 개수 세기\n",
        "def solution(my_string):\n",
        "    answer = [0 for i in range(52)]\n",
        "    for string in my_string:\n",
        "        k = 65 if string.isupper() else 71\n",
        "        answer[ord(string)-k] += 1\n",
        "\n",
        "    return answer\n",
        "\n",
        "my_string = \"Programmers\"\n",
        "solution(my_string)"
      ]
    },
    {
      "cell_type": "code",
      "source": [
        "# 개수를 센다는 개념에서 카운트 함수를 어떻게 사용할까 생각했는데 이렇게\n",
        "# 하면 직관적이라 좋음.\n",
        "def solution(my_string):\n",
        "    return [my_string.count(alphabet) for alphabet in 'abcdefghijklmnopqrstuvwxyz'.upper()+'abcdefghijklmnopqrstuvwxyz']"
      ],
      "metadata": {
        "id": "tTvoJ5jOV5Qk"
      },
      "execution_count": null,
      "outputs": []
    },
    {
      "cell_type": "markdown",
      "source": [
        "배열 만들기1"
      ],
      "metadata": {
        "id": "UCjQAukHYA1v"
      }
    },
    {
      "cell_type": "code",
      "source": [
        "# 배열 만들기1\n",
        "def solution(n, k):\n",
        "    n_list = [i for i in range(1, n+1)]\n",
        "    result = []\n",
        "    for j in n_list:\n",
        "       result.append(j) if j % k == 0 else None\n",
        "\n",
        "    return result\n",
        "\n",
        "n = 10\n",
        "k = 3\n",
        "solution(n, k)"
      ],
      "metadata": {
        "colab": {
          "base_uri": "https://localhost:8080/"
        },
        "id": "Cqy0B57BWNxc",
        "outputId": "20c83188-81db-40a2-e997-91369884489e"
      },
      "execution_count": 10,
      "outputs": [
        {
          "output_type": "execute_result",
          "data": {
            "text/plain": [
              "[3, 6, 9]"
            ]
          },
          "metadata": {},
          "execution_count": 10
        }
      ]
    },
    {
      "cell_type": "code",
      "source": [
        "# 너무 복잡하게 생각하지 말고 간단하게 range 범위에서 간격을 설정하는 법이 깔끔하다\n",
        "def solution(n, k):\n",
        "    return [i for i in range(k,n+1,k)]"
      ],
      "metadata": {
        "id": "S_z01gobXOPM"
      },
      "execution_count": null,
      "outputs": []
    },
    {
      "cell_type": "code",
      "source": [
        "# 글자 지우기\n",
        "def solution(my_string, indices):\n",
        "    str_list = [j for j in my_string]\n",
        "    for i in indices:\n",
        "        str_list[i] = ''\n",
        "\n",
        "    return ''.join(str_list)\n",
        "\n",
        "my_string = \"apporoograpemmemprs\"\n",
        "indices = [1, 16, 6, 15, 0, 10, 11, 3]\n",
        "solution(my_string, indices)"
      ],
      "metadata": {
        "colab": {
          "base_uri": "https://localhost:8080/",
          "height": 36
        },
        "id": "KFqr9o6hYQe1",
        "outputId": "b0602f59-1d5b-4a13-c530-d5fea2456049"
      },
      "execution_count": 14,
      "outputs": [
        {
          "output_type": "execute_result",
          "data": {
            "text/plain": [
              "'programmers'"
            ],
            "application/vnd.google.colaboratory.intrinsic+json": {
              "type": "string"
            }
          },
          "metadata": {},
          "execution_count": 14
        }
      ]
    },
    {
      "cell_type": "markdown",
      "source": [
        "카운트 다운"
      ],
      "metadata": {
        "id": "AahNSdRsevoF"
      }
    },
    {
      "cell_type": "code",
      "source": [
        "# 카운트 다운\n",
        "def solution(start, end_num):\n",
        "    num_list = [i for i in range(end_num, start+1)]\n",
        "    return sorted(num_list, reverse = True)\n",
        "\n",
        "start = 10\n",
        "end_num = 3\n",
        "solution(start, end_num)"
      ],
      "metadata": {
        "colab": {
          "base_uri": "https://localhost:8080/"
        },
        "id": "KXHww06WchNN",
        "outputId": "4fe9d972-36e0-48b8-c7d8-dea945db2650"
      },
      "execution_count": 18,
      "outputs": [
        {
          "output_type": "execute_result",
          "data": {
            "text/plain": [
              "[10, 9, 8, 7, 6, 5, 4, 3]"
            ]
          },
          "metadata": {},
          "execution_count": 18
        }
      ]
    },
    {
      "cell_type": "code",
      "source": [
        "# 계속 너무 어렵게 생각하고 있다. 최대한 간단하게 생각해야 한다.\n",
        "def solution(start, end):\n",
        "    return list(range(start,end-1,-1))"
      ],
      "metadata": {
        "id": "GrSAsT9jeVlb"
      },
      "execution_count": null,
      "outputs": []
    },
    {
      "cell_type": "markdown",
      "source": [
        "가까운 1 찾기"
      ],
      "metadata": {
        "id": "-ypPhnKAhXh1"
      }
    },
    {
      "cell_type": "code",
      "source": [
        "# 가까운 1 찾기\n",
        "def solution(arr, idx):\n",
        "    l = []\n",
        "    for i in range(len(arr)):\n",
        "        if i >= idx and arr[i] == 1:\n",
        "            l.append(i)\n",
        "    if l == []:\n",
        "        return -1\n",
        "    else:\n",
        "        return l[0]\n",
        "\n",
        "\n",
        "arr = [0, 0, 0, 1]\n",
        "idx = 1\n",
        "solution(arr, idx)"
      ],
      "metadata": {
        "colab": {
          "base_uri": "https://localhost:8080/"
        },
        "id": "nKmYydU-ewqg",
        "outputId": "eb6ef300-c314-40d0-dcd6-bf856e7c8430"
      },
      "execution_count": 23,
      "outputs": [
        {
          "output_type": "execute_result",
          "data": {
            "text/plain": [
              "3"
            ]
          },
          "metadata": {},
          "execution_count": 23
        }
      ]
    },
    {
      "cell_type": "code",
      "source": [
        "# 내가 만든 코드의 업그레이드판.\n",
        "# idx 이상의 인덱스에서 찾아하므로 range를 idx부터 시작하여 찾는다는 것이 핵심\n",
        "def solution(arr, idx):\n",
        "    for i in range(idx, len(arr)):\n",
        "        if arr[i] == 1:\n",
        "            return i\n",
        "    return -1"
      ],
      "metadata": {
        "id": "bE0W-Wc6gX72"
      },
      "execution_count": null,
      "outputs": []
    },
    {
      "cell_type": "code",
      "source": [
        "# 예외처리를 사용하여 작성\n",
        "# arr 배열에서 index(x, start, end)를 사용하여 1이 나오는 첫 번째 인덱스 위치를 반환\n",
        "# 반환되지 않는다면 예외처리 구문으로 넘어가 -1이 반환\n",
        "def solution(arr, idx):\n",
        "    answer = 0\n",
        "    try:\n",
        "        answer = arr.index(1, idx)\n",
        "    except:\n",
        "        answer = -1\n",
        "\n",
        "    return answer"
      ],
      "metadata": {
        "id": "xmyhU2uPfmeb"
      },
      "execution_count": null,
      "outputs": []
    }
  ]
}