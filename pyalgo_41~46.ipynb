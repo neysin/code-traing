{
  "nbformat": 4,
  "nbformat_minor": 0,
  "metadata": {
    "colab": {
      "provenance": [],
      "authorship_tag": "ABX9TyNmZufNxq1m9OB3SmPpmToF",
      "include_colab_link": true
    },
    "kernelspec": {
      "name": "python3",
      "display_name": "Python 3"
    },
    "language_info": {
      "name": "python"
    }
  },
  "cells": [
    {
      "cell_type": "markdown",
      "metadata": {
        "id": "view-in-github",
        "colab_type": "text"
      },
      "source": [
        "<a href=\"https://colab.research.google.com/github/neysin/orm/blob/main/pyalgo_41~46.ipynb\" target=\"_parent\"><img src=\"https://colab.research.google.com/assets/colab-badge.svg\" alt=\"Open In Colab\"/></a>"
      ]
    },
    {
      "cell_type": "code",
      "source": [
        "# 문제 41\n",
        "def solution(data):\n",
        "    stack = []\n",
        "    mapping = {')': '(', '}': '{', ']': '['}\n",
        "\n",
        "    for char in data:\n",
        "        if char in mapping.values():  # 열린 괄호일 경우\n",
        "            stack.append(char)\n",
        "        elif char in mapping.keys():  # 닫힌 괄호일 경우\n",
        "            if not stack or stack.pop() != mapping[char]:\n",
        "                return False\n",
        "        else:\n",
        "            # 괄호 이외의 문자는 무시\n",
        "            pass\n",
        "\n",
        "    return not stack  # 스택이 비어있어야 함\n",
        "\n",
        "data = \"{[()()]}\"\n",
        "solution(data)\n"
      ],
      "metadata": {
        "colab": {
          "base_uri": "https://localhost:8080/"
        },
        "id": "MQ-TZr-YEAAe",
        "outputId": "004fc47d-d137-4db5-f6b1-8540f3a831bf"
      },
      "execution_count": 8,
      "outputs": [
        {
          "output_type": "execute_result",
          "data": {
            "text/plain": [
              "True"
            ]
          },
          "metadata": {},
          "execution_count": 8
        }
      ]
    },
    {
      "cell_type": "code",
      "source": [
        "def solution(data):\n",
        "    stack = []\n",
        "    bracket_map = {\"(\": \")\", \"{\": \"}\", \"[\": \"]\"}\n",
        "\n",
        "    for char in data:\n",
        "        if char in bracket_map:\n",
        "            stack.append(char)\n",
        "        elif stack and char == bracket_map[stack[-1]]:\n",
        "            stack.pop()\n",
        "        else:\n",
        "            return False\n",
        "\n",
        "    return not stack"
      ],
      "metadata": {
        "id": "dnSTzqJbE1QH"
      },
      "execution_count": null,
      "outputs": []
    },
    {
      "cell_type": "code",
      "source": [
        "# 문제 42\n",
        "from collections import deque\n",
        "\n",
        "def solution(data):\n",
        "    size = data[\"size\"]\n",
        "    requests = data[\"requests\"]\n",
        "    queue = deque(maxlen=size)\n",
        "    for request in requests:\n",
        "        queue.append(request)\n",
        "    return list(queue)\n",
        "\n",
        "data = ['A', 'B', 'C', 'D']\n",
        "solution(data)"
      ],
      "metadata": {
        "id": "k47M76NxR7mq"
      },
      "execution_count": null,
      "outputs": []
    },
    {
      "cell_type": "code",
      "source": [
        "# 문제 43\n",
        "from collections import OrderedDict\n",
        "\n",
        "def solution(data):\n",
        "    size = data[\"size\"]\n",
        "    pages = data[\"pages\"]\n",
        "    cache = OrderedDict()\n",
        "\n",
        "    for page in pages:\n",
        "        if pages in cache:\n",
        "            cache.pop(page)\n",
        "        elif len(cache) >= size:\n",
        "            cache.popitem(last=False)\n",
        "        cache[page] = True\n",
        "    return list(cache.keys())\n",
        "\n",
        "\n",
        "\n",
        "data = ['page1', 'page2', 'page3', 'page2', 'page4']"
      ],
      "metadata": {
        "id": "4lBp_PThwHHm"
      },
      "execution_count": null,
      "outputs": []
    },
    {
      "cell_type": "code",
      "source": [
        "# 문제 44\n",
        "def solution(data):\n",
        "    words = data.lower().split()\n",
        "    frequency = {}\n",
        "    for word in words:\n",
        "        cleaned_word = \"\".join(char for char in word if char.isalpha())\n",
        "        if cleaned_word:\n",
        "            frequency[cleaned_word] = frequency.get(cleaned_word, 0) + 1\n",
        "    return frequency\n",
        "\n",
        "data = \"Hello world, hello\"\n",
        "solution(data)"
      ],
      "metadata": {
        "colab": {
          "base_uri": "https://localhost:8080/"
        },
        "id": "9RpOmmb8NdTY",
        "outputId": "341b0634-d300-4404-a63e-b20b5258a68b"
      },
      "execution_count": 8,
      "outputs": [
        {
          "output_type": "execute_result",
          "data": {
            "text/plain": [
              "{'hello': 2, 'world': 1}"
            ]
          },
          "metadata": {},
          "execution_count": 8
        }
      ]
    },
    {
      "cell_type": "code",
      "source": [
        "# 문제 45\n",
        "def make_queues_equal(queue1, queue2):\n",
        "    sum1, sum2 = sum(queue1), sum(queue2)\n",
        "    moves = 0\n",
        "\n",
        "    while sum1 != sum2:\n",
        "        if sum1 > sum2:\n",
        "            if not queue1:\n",
        "                return -1\n",
        "            sum1 -= queue1.popleft()\n",
        "        else:\n",
        "            if not queue2:\n",
        "                return -1\n",
        "            sum2 -= queue2.popleft()\n",
        "\n",
        "        moves += 1\n",
        "\n",
        "    return moves"
      ],
      "metadata": {
        "id": "Genc7meANx5-"
      },
      "execution_count": null,
      "outputs": []
    },
    {
      "cell_type": "code",
      "source": [
        "# 문제 46\n",
        "from collections import deque\n",
        "\n",
        "\n",
        "def solution(data):\n",
        "    size = data[\"size\"]\n",
        "    commands = data[\"commands\"]\n",
        "    queue = deque(maxlen=size)\n",
        "    result = []\n",
        "\n",
        "    for command in commands:\n",
        "        if command.startswith(\"insert\"):\n",
        "            _, element = command.split()\n",
        "            if len(queue) == queue.maxlen:\n",
        "                queue.popleft()\n",
        "            queue.append(element)\n",
        "            result.append(None)\n",
        "        elif command == \"delete\":\n",
        "            if queue:\n",
        "                queue.popleft()\n",
        "            result.append(None)\n",
        "        elif command.startswith(\"search\"):\n",
        "            _, element = command.split()\n",
        "            result.append(element in queue)\n",
        "\n",
        "    return result"
      ],
      "metadata": {
        "id": "pP0d9KakdTwb"
      },
      "execution_count": null,
      "outputs": []
    }
  ]
}