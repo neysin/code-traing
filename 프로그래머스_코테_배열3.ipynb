{
  "nbformat": 4,
  "nbformat_minor": 0,
  "metadata": {
    "colab": {
      "provenance": [],
      "authorship_tag": "ABX9TyP8hJJ1GzrmbXq3cIdJg6u/",
      "include_colab_link": true
    },
    "kernelspec": {
      "name": "python3",
      "display_name": "Python 3"
    },
    "language_info": {
      "name": "python"
    }
  },
  "cells": [
    {
      "cell_type": "markdown",
      "metadata": {
        "id": "view-in-github",
        "colab_type": "text"
      },
      "source": [
        "<a href=\"https://colab.research.google.com/github/neysin/code-traing/blob/main/%ED%94%84%EB%A1%9C%EA%B7%B8%EB%9E%98%EB%A8%B8%EC%8A%A4_%EC%BD%94%ED%85%8C_%EB%B0%B0%EC%97%B43.ipynb\" target=\"_parent\"><img src=\"https://colab.research.google.com/assets/colab-badge.svg\" alt=\"Open In Colab\"/></a>"
      ]
    },
    {
      "cell_type": "markdown",
      "source": [
        "배열 - level2 \\\n",
        "삼각달팽이"
      ],
      "metadata": {
        "id": "oV75Cx1WdrlO"
      }
    },
    {
      "cell_type": "code",
      "source": [
        "def solution(n):\n",
        "    # 0으로 채워져있는 배열 생성\n",
        "    snail = [[0]*i for i in range(1, n+1)]\n",
        "\n",
        "    # dx, dy를 통해 x, y의 진행 방향에 따른 값의 변화 설정\n",
        "    # angle을 통해 아래로 갈지 오른쪽으로 갈지 위로 갈지를 판단\n",
        "    # 등차수열의 합을 통해 size 설정\n",
        "    dx = [0, 1, -1]\n",
        "    dy = [1, 0, -1]\n",
        "    x = y = angle = 0\n",
        "    cnt = 1\n",
        "    size = (n+1)*n // 2\n",
        "\n",
        "    # 배열의 시작점을 표기 후 angle, 즉 방향을 통해 x, y에 값의 변화를 줌.\n",
        "    # 조건으로 y의 값의 범위, x의 값의 범위, 이미 값이 있는지를 판단.\n",
        "    # 위 조건에 위배 시 방향을 바꿔야한다는 말로 angle값에 변화를 줌.\n",
        "    # 이를 통해 x, y 값의 변화\n",
        "    while cnt <= size:\n",
        "        snail[y][x] = cnt\n",
        "        ny = y + dy[angle]\n",
        "        nx = x + dx[angle]\n",
        "        cnt += 1\n",
        "\n",
        "        if 0 <= ny < n and 0 <= nx <= ny and snail[ny][nx] == 0:\n",
        "            y, x = ny, nx\n",
        "        else:\n",
        "            angle = (angle + 1) % 3\n",
        "            y += dy[angle]\n",
        "            x += dx[angle]\n",
        "\n",
        "    return [i for j in snail for i in j]\n",
        "\n",
        "n = 4\n",
        "solution(n)"
      ],
      "metadata": {
        "colab": {
          "base_uri": "https://localhost:8080/"
        },
        "id": "HP2rbhKdidNO",
        "outputId": "1119f034-165a-4bb0-a373-0fc5daac14c2"
      },
      "execution_count": 2,
      "outputs": [
        {
          "output_type": "execute_result",
          "data": {
            "text/plain": [
              "[1, 2, 9, 3, 10, 8, 4, 5, 6, 7]"
            ]
          },
          "metadata": {},
          "execution_count": 2
        }
      ]
    }
  ]
}