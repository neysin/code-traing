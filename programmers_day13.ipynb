{
  "nbformat": 4,
  "nbformat_minor": 0,
  "metadata": {
    "colab": {
      "provenance": [],
      "authorship_tag": "ABX9TyMJtAmEYr3W/bFPidIgW/Mp",
      "include_colab_link": true
    },
    "kernelspec": {
      "name": "python3",
      "display_name": "Python 3"
    },
    "language_info": {
      "name": "python"
    }
  },
  "cells": [
    {
      "cell_type": "markdown",
      "metadata": {
        "id": "view-in-github",
        "colab_type": "text"
      },
      "source": [
        "<a href=\"https://colab.research.google.com/github/neysin/orm/blob/main/programmers_day13.ipynb\" target=\"_parent\"><img src=\"https://colab.research.google.com/assets/colab-badge.svg\" alt=\"Open In Colab\"/></a>"
      ]
    },
    {
      "cell_type": "code",
      "execution_count": 2,
      "metadata": {
        "colab": {
          "base_uri": "https://localhost:8080/"
        },
        "id": "WVrJOg0iKOrP",
        "outputId": "980c9ab7-8848-4557-e545-a2bf61ee22d6"
      },
      "outputs": [
        {
          "output_type": "execute_result",
          "data": {
            "text/plain": [
              "[6]"
            ]
          },
          "metadata": {},
          "execution_count": 2
        }
      ],
      "source": [
        "# n 번째 원소부터\n",
        "def solution(num_list, n):\n",
        "    return num_list[n-1:]\n",
        "\n",
        "num_list = [2, 1, 6]\n",
        "n = 3\n",
        "solution(num_list, n)"
      ]
    },
    {
      "cell_type": "code",
      "source": [
        "# 순서 바꾸기\n",
        "def solution(num_list, n):\n",
        "    return num_list[n:] + num_list[:n]\n",
        "\n",
        "num_list = [2, 1, 6]\n",
        "n = 1\n",
        "solution(num_list, n)"
      ],
      "metadata": {
        "colab": {
          "base_uri": "https://localhost:8080/"
        },
        "id": "vufls77ZKu63",
        "outputId": "4e8d0e76-caa8-440f-d296-c6e5461d5237"
      },
      "execution_count": 3,
      "outputs": [
        {
          "output_type": "execute_result",
          "data": {
            "text/plain": [
              "[1, 6, 2]"
            ]
          },
          "metadata": {},
          "execution_count": 3
        }
      ]
    },
    {
      "cell_type": "markdown",
      "source": [
        "왼쪽 오른쪽"
      ],
      "metadata": {
        "id": "oygsWBvvP4Ww"
      }
    },
    {
      "cell_type": "code",
      "source": [
        "# 왼쪽 오른쪽\n",
        "def solution(str_list):\n",
        "    if \"l\" in str_list and \"r\" in str_list:\n",
        "        if str_list.index(\"l\") < str_list.index(\"r\"):\n",
        "            return str_list[:str_list.index(\"l\")]\n",
        "        elif str_list.index(\"l\") > str_list.index(\"r\"):\n",
        "            return str_list[str_list.index(\"r\")+1:]\n",
        "    elif \"l\" in str_list:\n",
        "        return str_list[:str_list.index(\"l\")]\n",
        "    elif \"r\" in str_list:\n",
        "        return str_list[str_list.index(\"r\")+1:]\n",
        "    else:\n",
        "        return []\n",
        "\n",
        "\n",
        "str_list = [\"u\", \"u\", \"l\", \"r\"]\n",
        "solution(str_list)"
      ],
      "metadata": {
        "colab": {
          "base_uri": "https://localhost:8080/"
        },
        "id": "E8x_Q0DLLc0P",
        "outputId": "84dde6a1-7336-44e1-9795-1728a4f28d70"
      },
      "execution_count": 12,
      "outputs": [
        {
          "output_type": "execute_result",
          "data": {
            "text/plain": [
              "['u', 'u']"
            ]
          },
          "metadata": {},
          "execution_count": 12
        }
      ]
    },
    {
      "cell_type": "code",
      "source": [
        "# 직접적으로 l과 r의 위치 값을 비교하기 보다 먼저 나온 값이 조건문이 실행되는\n",
        "# 구조로 만듦\n",
        "def solution(str_list):\n",
        "    for i in range(len(str_list)):\n",
        "        if str_list[i]=='l': return str_list[:i]\n",
        "        elif str_list[i]=='r': return str_list[i+1:]\n",
        "    return []"
      ],
      "metadata": {
        "id": "5DMT3hCdMSUK"
      },
      "execution_count": null,
      "outputs": []
    },
    {
      "cell_type": "code",
      "source": [
        "# n 번째 원소까지\n",
        "def solution(num_list, n):\n",
        "    return num_list[:n]\n",
        "\n",
        "num_list = [2, 1, 6]\n",
        "n= 1\n",
        "solution(num_list, n)"
      ],
      "metadata": {
        "colab": {
          "base_uri": "https://localhost:8080/"
        },
        "id": "umVPpO7YP6LD",
        "outputId": "d06d58d7-be28-4ab9-b4d6-53120138b13e"
      },
      "execution_count": 14,
      "outputs": [
        {
          "output_type": "execute_result",
          "data": {
            "text/plain": [
              "[2]"
            ]
          },
          "metadata": {},
          "execution_count": 14
        }
      ]
    },
    {
      "cell_type": "code",
      "source": [
        "# n개 간격의 원소들\n",
        "def solution(num_list, n):\n",
        "    return num_list[::n]\n",
        "\n",
        "num_list = [4, 2, 6, 1, 7, 6]\n",
        "n = 2\n",
        "solution(num_list, n)"
      ],
      "metadata": {
        "colab": {
          "base_uri": "https://localhost:8080/"
        },
        "id": "H5teEsAZQSfd",
        "outputId": "c02adc4e-0bf6-4d7f-858b-e2b6fdba3031"
      },
      "execution_count": 17,
      "outputs": [
        {
          "output_type": "execute_result",
          "data": {
            "text/plain": [
              "[4, 6, 7]"
            ]
          },
          "metadata": {},
          "execution_count": 17
        }
      ]
    }
  ]
}