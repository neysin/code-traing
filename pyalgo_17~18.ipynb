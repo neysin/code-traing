{
  "nbformat": 4,
  "nbformat_minor": 0,
  "metadata": {
    "colab": {
      "provenance": [],
      "authorship_tag": "ABX9TyM6XczTrSOQFzDI5MYO6NBv",
      "include_colab_link": true
    },
    "kernelspec": {
      "name": "python3",
      "display_name": "Python 3"
    },
    "language_info": {
      "name": "python"
    }
  },
  "cells": [
    {
      "cell_type": "markdown",
      "metadata": {
        "id": "view-in-github",
        "colab_type": "text"
      },
      "source": [
        "<a href=\"https://colab.research.google.com/github/neysin/orm/blob/main/pyalgo_17~18.ipynb\" target=\"_parent\"><img src=\"https://colab.research.google.com/assets/colab-badge.svg\" alt=\"Open In Colab\"/></a>"
      ]
    },
    {
      "cell_type": "code",
      "execution_count": 48,
      "metadata": {
        "colab": {
          "base_uri": "https://localhost:8080/"
        },
        "id": "dbZ5CmuOxM6w",
        "outputId": "7b9b20fa-293d-4416-9ff4-105f3106f173"
      },
      "outputs": [
        {
          "output_type": "execute_result",
          "data": {
            "text/plain": [
              "['24-01-26 금', '24-01-22 월', '24-01-19 금']"
            ]
          },
          "metadata": {},
          "execution_count": 48
        }
      ],
      "source": [
        "# 문제 17\n",
        "\n",
        "def solution(data):\n",
        "    l =[]\n",
        "    # i에 요일, j에 날짜를 넣고 반복 후 k에 리스트로 되어있는 날짜를 언패킹\n",
        "    for i, j in data.items():\n",
        "        for k in j:\n",
        "            date = k[2:]\n",
        "            l.append(f'{date} {i}')\n",
        "\n",
        "    sorted_date = sorted(l, reverse = True)\n",
        "    return sorted_date[0:3]\n",
        "\n",
        "data = {'월': ['2024-01-01', '2024-01-08', '2024-01-15', '2024-01-22'], '화': ['2024-01-02', '2024-01-09', '2024-01-16'], '수': ['2024-01-03', '2024-01-10'], '목': ['2024-01-04', '2024-01-11', '2024-01-18'], '금': ['2024-01-05', '2024-01-12', '2024-01-19', '2024-01-26']}\n",
        "solution(data)"
      ]
    },
    {
      "cell_type": "code",
      "source": [
        "# 문제 18\n",
        "\n",
        "def solution(data):\n",
        "    result = []\n",
        "    for date, temperature in data.items():\n",
        "        result.append(f'{date[2:]}: {temperature}')\n",
        "\n",
        "    sorted_list = sorted(result, key = lambda x: x[-2:], reverse = True)\n",
        "\n",
        "    return sorted_list[:3]\n",
        "\n",
        "data = {'2024-01-01': 15, '2024-01-02': 17, '2024-01-03': 16, '2024-01-04': 20, '2024-01-05': 19, '2024-01-06': 21, '2024-01-07': 18}\n",
        "solution(data)"
      ],
      "metadata": {
        "colab": {
          "base_uri": "https://localhost:8080/"
        },
        "id": "kY8xjR_b_UdN",
        "outputId": "cbf806e9-8cab-4db2-f1da-2832420603e6"
      },
      "execution_count": 14,
      "outputs": [
        {
          "output_type": "execute_result",
          "data": {
            "text/plain": [
              "['24-01-06: 21', '24-01-04: 20', '24-01-05: 19']"
            ]
          },
          "metadata": {},
          "execution_count": 14
        }
      ]
    }
  ]
}