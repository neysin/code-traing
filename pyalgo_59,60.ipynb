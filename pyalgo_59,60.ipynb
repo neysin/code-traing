{
  "nbformat": 4,
  "nbformat_minor": 0,
  "metadata": {
    "colab": {
      "provenance": [],
      "authorship_tag": "ABX9TyOoAHSzlfnCxsLeMBveQEu8",
      "include_colab_link": true
    },
    "kernelspec": {
      "name": "python3",
      "display_name": "Python 3"
    },
    "language_info": {
      "name": "python"
    }
  },
  "cells": [
    {
      "cell_type": "markdown",
      "metadata": {
        "id": "view-in-github",
        "colab_type": "text"
      },
      "source": [
        "<a href=\"https://colab.research.google.com/github/neysin/orm/blob/main/pyalgo_59%2C60.ipynb\" target=\"_parent\"><img src=\"https://colab.research.google.com/assets/colab-badge.svg\" alt=\"Open In Colab\"/></a>"
      ]
    },
    {
      "cell_type": "code",
      "execution_count": 1,
      "metadata": {
        "colab": {
          "base_uri": "https://localhost:8080/"
        },
        "id": "j2LB0OqO7w7o",
        "outputId": "ec039310-63c9-4ac4-9263-a73f4eb12990"
      },
      "outputs": [
        {
          "output_type": "execute_result",
          "data": {
            "text/plain": [
              "(5, 35)"
            ]
          },
          "metadata": {},
          "execution_count": 1
        }
      ],
      "source": [
        "# 문제 59번\n",
        "def solution(data):\n",
        "    data_list, num = data\n",
        "    l = []\n",
        "    for i in data_list:\n",
        "        for j in i:\n",
        "            if j >= num:\n",
        "                l.append(j)\n",
        "    return (len(l), sum(l))\n",
        "\n",
        "\n",
        "data = ([[1, 2, 3], [4, 5, 6], [7, 8, 9]], 5)\n",
        "solution(data)"
      ]
    },
    {
      "cell_type": "code",
      "source": [
        "# 문제 60번\n",
        "def solution(data):\n",
        "    data_list, data_range = data\n",
        "    l = []\n",
        "    for i in data_list:\n",
        "        for j in i:\n",
        "            if j in range(data_range[0], data_range[1]+1):\n",
        "                l.append(j)\n",
        "    return (max(l), min(l))\n",
        "\n",
        "data = ([[1, 2, 3], [4, 5, 6], [7, 8, 9]], (3, 7))\n",
        "solution(data)"
      ],
      "metadata": {
        "colab": {
          "base_uri": "https://localhost:8080/"
        },
        "id": "9saxemW5HA6Y",
        "outputId": "e430da67-5823-477a-b109-e9ffcd5cae5a"
      },
      "execution_count": 2,
      "outputs": [
        {
          "output_type": "execute_result",
          "data": {
            "text/plain": [
              "(7, 3)"
            ]
          },
          "metadata": {},
          "execution_count": 2
        }
      ]
    }
  ]
}