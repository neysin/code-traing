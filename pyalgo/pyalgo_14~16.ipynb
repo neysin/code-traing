{
  "nbformat": 4,
  "nbformat_minor": 0,
  "metadata": {
    "colab": {
      "provenance": [],
      "authorship_tag": "ABX9TyOHKrz5JplFAEwUyr33Vvax",
      "include_colab_link": true
    },
    "kernelspec": {
      "name": "python3",
      "display_name": "Python 3"
    },
    "language_info": {
      "name": "python"
    }
  },
  "cells": [
    {
      "cell_type": "markdown",
      "metadata": {
        "id": "view-in-github",
        "colab_type": "text"
      },
      "source": [
        "<a href=\"https://colab.research.google.com/github/neysin/orm/blob/main/pyalgo_14~16.ipynb\" target=\"_parent\"><img src=\"https://colab.research.google.com/assets/colab-badge.svg\" alt=\"Open In Colab\"/></a>"
      ]
    },
    {
      "cell_type": "code",
      "execution_count": 4,
      "metadata": {
        "colab": {
          "base_uri": "https://localhost:8080/"
        },
        "id": "Sk4tAsOeIBKx",
        "outputId": "35f8de30-7015-452f-cf75-9f526f749fdd"
      },
      "outputs": [
        {
          "output_type": "execute_result",
          "data": {
            "text/plain": [
              "['Moby Dick', '1984', 'To Kill a Mockingbird']"
            ]
          },
          "metadata": {},
          "execution_count": 4
        }
      ],
      "source": [
        "# 문제 14\n",
        "\n",
        "def solution(data):\n",
        "    sorted_data = sorted(data.items(), key = lambda x: x[0])\n",
        "    return [i[1] for i in sorted_data]\n",
        "\n",
        "data = {'AX21': 'Moby Dick', 'BX32': '1984', 'CX14': 'To Kill a Mockingbird'}\n",
        "solution(data)"
      ]
    },
    {
      "cell_type": "code",
      "source": [
        "# 문제 15\n",
        "# 시간을 24시간제로 변환한 뒤 오름차순으로 정렬하는 문제\n",
        "\n",
        "def solution(data):\n",
        "    result = []\n",
        "    for time in data:\n",
        "        # 변수 선언\n",
        "        hour = time[:2]\n",
        "        minute = time[3:5]\n",
        "        AMPM = time[-2:]\n",
        "\n",
        "        # PM 이면서 시간이 12가 아니면 12를 더해줌\n",
        "        # AM 이면서 시간이 12면 00으로 반환\n",
        "        if AMPM == 'PM' and hour != '12':\n",
        "            hour = str(int(hour) + 12)\n",
        "        elif AMPM == 'AM' and hour == '12':\n",
        "            hour = '00'\n",
        "\n",
        "        convert_time = f'{hour}:{minute} {AMPM}'\n",
        "        result. append(convert_time)\n",
        "\n",
        "    # 변환된 시간들을 기준으로 데이터를 정렬\n",
        "    return sorted(data, key = lambda x: result[data.index(x)])\n",
        "\n",
        "data = ['01:00 PM', '11:30 AM', '12:45 PM', '09:00 AM', '12:00 AM']\n",
        "solution(data)"
      ],
      "metadata": {
        "colab": {
          "base_uri": "https://localhost:8080/"
        },
        "id": "WMcL-44eJMA4",
        "outputId": "e51f4aae-569a-45f4-cdc4-73faf10768f6"
      },
      "execution_count": 21,
      "outputs": [
        {
          "output_type": "execute_result",
          "data": {
            "text/plain": [
              "['12:00 AM', '09:00 AM', '11:30 AM', '12:45 PM', '01:00 PM']"
            ]
          },
          "metadata": {},
          "execution_count": 21
        }
      ]
    },
    {
      "cell_type": "code",
      "source": [
        "# 문제 16\n",
        "\n",
        "def solution(data):\n",
        "    result = []\n",
        "    # 연월일을 구분하는 기호가 들어있는지를 조건으로 사용\n",
        "    for date in data:\n",
        "        if '-' in date:\n",
        "            day, month, year = date.split('-')\n",
        "        elif '/' in date:\n",
        "            month, day, year = date.split('/')\n",
        "        elif '.' in date:\n",
        "            year, month, day = date.split('.')\n",
        "\n",
        "        fixed_date = f'{year}/{month}/{day}'\n",
        "        result.append(fixed_date)\n",
        "\n",
        "    return sorted(result)\n",
        "\n",
        "data = ['20-01-2024', '12/15/2023', '2022.05.30']\n",
        "solution(data)\n"
      ],
      "metadata": {
        "colab": {
          "base_uri": "https://localhost:8080/"
        },
        "id": "vUWDk3u-NVwg",
        "outputId": "d189ff2d-17c2-4f3b-f275-6dddb9a500f0"
      },
      "execution_count": 30,
      "outputs": [
        {
          "output_type": "execute_result",
          "data": {
            "text/plain": [
              "['2022/05/30', '2023/12/15', '2024/01/20']"
            ]
          },
          "metadata": {},
          "execution_count": 30
        }
      ]
    }
  ]
}