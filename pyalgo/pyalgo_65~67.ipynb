{
  "nbformat": 4,
  "nbformat_minor": 0,
  "metadata": {
    "colab": {
      "provenance": [],
      "authorship_tag": "ABX9TyMsKtll0CA632nPqsIcyxq9",
      "include_colab_link": true
    },
    "kernelspec": {
      "name": "python3",
      "display_name": "Python 3"
    },
    "language_info": {
      "name": "python"
    }
  },
  "cells": [
    {
      "cell_type": "markdown",
      "metadata": {
        "id": "view-in-github",
        "colab_type": "text"
      },
      "source": [
        "<a href=\"https://colab.research.google.com/github/neysin/orm/blob/main/pyalgo_65~67.ipynb\" target=\"_parent\"><img src=\"https://colab.research.google.com/assets/colab-badge.svg\" alt=\"Open In Colab\"/></a>"
      ]
    },
    {
      "cell_type": "code",
      "execution_count": 8,
      "metadata": {
        "colab": {
          "base_uri": "https://localhost:8080/",
          "height": 36
        },
        "id": "jdJ4Y9jFN6Xo",
        "outputId": "b1c282d5-5934-455a-be72-b513b3c67ef5"
      },
      "outputs": [
        {
          "output_type": "execute_result",
          "data": {
            "text/plain": [
              "'dabc'"
            ],
            "application/vnd.google.colaboratory.intrinsic+json": {
              "type": "string"
            }
          },
          "metadata": {},
          "execution_count": 8
        }
      ],
      "source": [
        "# 문제 65번\n",
        "def solution(data):\n",
        "    a = data[0]\n",
        "    for _ in range(data[1]):\n",
        "        a = a[-1] + a[:-1]\n",
        "    return a\n",
        "\n",
        "\n",
        "\n",
        "data = (\"abcd\", 1)\n",
        "solution(data)"
      ]
    },
    {
      "cell_type": "code",
      "source": [
        "# 문제 66번\n",
        "def solution(data):\n",
        "    data_str = ''\n",
        "    count = 0\n",
        "\n",
        "    for i in range(1, len(data)):\n",
        "        if data[i] == data[i-1]:\n",
        "            count += 1\n",
        "        else:\n",
        "            data_str += data[i-1] + str(count)\n",
        "            count = 1\n",
        "\n",
        "    data_str += data[i-1] + str(count)\n",
        "\n",
        "    return data_str\n",
        "\n",
        "\n",
        "data = \"aaabbccccdaa\"\n",
        "solution(data)"
      ],
      "metadata": {
        "colab": {
          "base_uri": "https://localhost:8080/",
          "height": 36
        },
        "id": "iXEuGpf4QRbA",
        "outputId": "b9b8dc2f-bc69-44c5-ea04-7e3e57fa02c2"
      },
      "execution_count": 9,
      "outputs": [
        {
          "output_type": "execute_result",
          "data": {
            "text/plain": [
              "'a2b2c4d1a2'"
            ],
            "application/vnd.google.colaboratory.intrinsic+json": {
              "type": "string"
            }
          },
          "metadata": {},
          "execution_count": 9
        }
      ]
    },
    {
      "cell_type": "code",
      "source": [
        "# 문제 67번\n",
        "def solution(data):\n",
        "    string, substring = data\n",
        "    l = []\n",
        "    start_num = 0\n",
        "\n",
        "    while start_num < len(string):\n",
        "        index_num = string.find(substring, start_num)\n",
        "        if index_num == -1:\n",
        "            break\n",
        "        l.append(index_num)\n",
        "        start_num = index_num + 1\n",
        "\n",
        "\n",
        "    return l\n",
        "\n",
        "\n",
        "data = (\"this is a test string\", \"is\")\n",
        "solution(data)"
      ],
      "metadata": {
        "colab": {
          "base_uri": "https://localhost:8080/"
        },
        "id": "rkm5yy9wroLX",
        "outputId": "deb27b29-2456-447d-cb26-e4bbf7c84c3b"
      },
      "execution_count": 21,
      "outputs": [
        {
          "output_type": "execute_result",
          "data": {
            "text/plain": [
              "[2, 5]"
            ]
          },
          "metadata": {},
          "execution_count": 21
        }
      ]
    }
  ]
}