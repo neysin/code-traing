{
  "nbformat": 4,
  "nbformat_minor": 0,
  "metadata": {
    "colab": {
      "provenance": [],
      "authorship_tag": "ABX9TyOrBQ5D6WFOWuZ2PjWJ7GHk",
      "include_colab_link": true
    },
    "kernelspec": {
      "name": "python3",
      "display_name": "Python 3"
    },
    "language_info": {
      "name": "python"
    }
  },
  "cells": [
    {
      "cell_type": "markdown",
      "metadata": {
        "id": "view-in-github",
        "colab_type": "text"
      },
      "source": [
        "<a href=\"https://colab.research.google.com/github/neysin/orm/blob/main/pyalgo_27~28.ipynb\" target=\"_parent\"><img src=\"https://colab.research.google.com/assets/colab-badge.svg\" alt=\"Open In Colab\"/></a>"
      ]
    },
    {
      "cell_type": "code",
      "execution_count": 20,
      "metadata": {
        "colab": {
          "base_uri": "https://localhost:8080/"
        },
        "id": "fXBYx6M3IZ65",
        "outputId": "48a0e1ff-7991-4f90-895a-0b8c1607d7a2"
      },
      "outputs": [
        {
          "output_type": "execute_result",
          "data": {
            "text/plain": [
              "0"
            ]
          },
          "metadata": {},
          "execution_count": 20
        }
      ],
      "source": [
        "# 문제 27번\n",
        "def solution(data):\n",
        "    data_list, target_S = data\n",
        "    l = []\n",
        "    # 연속된 배열이 될 수 있는 경우의 수 리스트를 l로 반환\n",
        "    for i in range(len(data_list)):\n",
        "        for j in range(i + 1, len(data_list) + 1):\n",
        "            l.append(data_list[i:j])\n",
        "\n",
        "    # S 값을 넘는 배열의 길이를 l2에 반환\n",
        "    l2 = []\n",
        "    for k in l:\n",
        "        if sum(k) >= target_S:\n",
        "            l2.append(len(k))\n",
        "\n",
        "    if l2 == []:\n",
        "        return 0\n",
        "\n",
        "    return min(l2)\n",
        "\n",
        "data = ([1, 1, 1, 1, 1, 1, 1], 11)\n",
        "solution(data)"
      ]
    },
    {
      "cell_type": "code",
      "source": [
        "# 문제 28번\n",
        "def solution(data):\n",
        "    data_list, target = data\n",
        "    l = []\n",
        "\n",
        "    # i, j 가 같은 숫자가 아닌 경우 target값에 i,j 값을 뺀 절대값을 리스트화\n",
        "    for i in data_list:\n",
        "        for j in data_list:\n",
        "            if i != j:\n",
        "                l.append(abs(target - (i+j)))\n",
        "\n",
        "    # 만든 리스트에서 제일 작은 값이 target과 가까운 숫자이므로 i, j의 합을 찾아줌\n",
        "    for i in data_list:\n",
        "        for j in data_list:\n",
        "            if abs(target - (i+j)) == min(l):\n",
        "                return i + j\n",
        "\n",
        "data = ([1, 2, 3, 4, 5], 10)\n",
        "solution(data)"
      ],
      "metadata": {
        "colab": {
          "base_uri": "https://localhost:8080/"
        },
        "id": "6E3Ww0SzfJGN",
        "outputId": "37cdb594-92d7-433f-c0cd-ae563ad97b5e"
      },
      "execution_count": 23,
      "outputs": [
        {
          "output_type": "execute_result",
          "data": {
            "text/plain": [
              "9"
            ]
          },
          "metadata": {},
          "execution_count": 23
        }
      ]
    }
  ]
}