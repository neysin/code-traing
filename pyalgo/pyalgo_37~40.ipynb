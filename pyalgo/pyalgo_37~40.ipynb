{
  "nbformat": 4,
  "nbformat_minor": 0,
  "metadata": {
    "colab": {
      "provenance": [],
      "authorship_tag": "ABX9TyPvk+FiJaXLApi1o9e+vT0g",
      "include_colab_link": true
    },
    "kernelspec": {
      "name": "python3",
      "display_name": "Python 3"
    },
    "language_info": {
      "name": "python"
    }
  },
  "cells": [
    {
      "cell_type": "markdown",
      "metadata": {
        "id": "view-in-github",
        "colab_type": "text"
      },
      "source": [
        "<a href=\"https://colab.research.google.com/github/neysin/orm/blob/main/pyalgo_37~40.ipynb\" target=\"_parent\"><img src=\"https://colab.research.google.com/assets/colab-badge.svg\" alt=\"Open In Colab\"/></a>"
      ]
    },
    {
      "cell_type": "code",
      "execution_count": 2,
      "metadata": {
        "colab": {
          "base_uri": "https://localhost:8080/"
        },
        "id": "LellWzkARMab",
        "outputId": "f66292b8-7c5a-42f3-d687-33101cdd4f1e"
      },
      "outputs": [
        {
          "output_type": "execute_result",
          "data": {
            "text/plain": [
              "{'time': '08:55:45', 'message': '사용자 로그인'}"
            ]
          },
          "metadata": {},
          "execution_count": 2
        }
      ],
      "source": [
        "# 문제 37\n",
        "import re\n",
        "def solution(data):\n",
        "    pattern1 = r'[0-2]{1}[0-9]{1}:[0-6]{1}[0-9]{1}:[0-6]{1}[0-9]{1}'\n",
        "    pattern2 = r'[\\uAC00-\\uD7A3]{1,}'\n",
        "    time_num = re.findall(pattern1, data)\n",
        "    kr_str = re.findall(pattern2, data)\n",
        "    dict_asd = {'time': time_num[0], 'message': ' '.join(kr_str)}\n",
        "    return dict_asd\n",
        "\n",
        "data = \"[08:55:45] 사용자 로그인\"\n",
        "solution(data)"
      ]
    },
    {
      "cell_type": "code",
      "source": [
        "# 문제 38\n",
        "def solution(data):\n",
        "    import re\n",
        "    pattern = r'(?P<protocol>https?|ftp)://(?P<domain>[^/]+)(?P<path>/[^?]*|)(?:\\?(?P<query>.*))?'\n",
        "    match = re.match(pattern, data)\n",
        "    if match:\n",
        "        result = match.groupdict()\n",
        "        # 'path'가 매칭되지 않은 경우, 빈 문자열로 설정\n",
        "        result['path'] = result.get('path', '')\n",
        "        # 'query'가 None인 경우, 빈 문자열로 대체\n",
        "        if result['query'] is None:\n",
        "            result['query'] = ''\n",
        "        return result\n",
        "    return {'protocol': '', 'domain': '', 'path': '', 'query': ''}\n",
        "\n",
        "\n",
        "data = \"https://www.weniv.co.kr/path/to/resource?user=abc&lang=en\"\n",
        "solution(data)"
      ],
      "metadata": {
        "colab": {
          "base_uri": "https://localhost:8080/"
        },
        "id": "3HKpH8ekRXq9",
        "outputId": "13070b41-18e4-452c-fe75-3a7d3caaa804"
      },
      "execution_count": 11,
      "outputs": [
        {
          "output_type": "execute_result",
          "data": {
            "text/plain": [
              "{'protocol': 'https', 'domain': 'www.weniv.co.kr', 'path': 'pat', 'query': 'h'}"
            ]
          },
          "metadata": {},
          "execution_count": 11
        }
      ]
    },
    {
      "cell_type": "code",
      "source": [
        "# 문제 39\n",
        "def solution(data):\n",
        "    pattern = r'([a-zA-Z./:]{1,})\\.([a-z]{1,})'\n",
        "    match_data = re.search(pattern, data)\n",
        "\n",
        "    if match_data:\n",
        "        result = match_data.group(2)\n",
        "        return result\n",
        "    else:\n",
        "        return ''\n",
        "\n",
        "data = \"example/document.pdf\"\n",
        "solution(data)"
      ],
      "metadata": {
        "colab": {
          "base_uri": "https://localhost:8080/",
          "height": 36
        },
        "id": "s1gcqvku0hlI",
        "outputId": "712906e0-94c0-44ed-dc54-ef398eb8dd8b"
      },
      "execution_count": 18,
      "outputs": [
        {
          "output_type": "execute_result",
          "data": {
            "text/plain": [
              "'pdf'"
            ],
            "application/vnd.google.colaboratory.intrinsic+json": {
              "type": "string"
            }
          },
          "metadata": {},
          "execution_count": 18
        }
      ]
    },
    {
      "cell_type": "code",
      "source": [
        "# 문제 40\n",
        "def solution(data):\n",
        "    pattern = r'[\\d,]{1,}'\n",
        "    match_data = re.findall(pattern, data)\n",
        "\n",
        "    if match_data:\n",
        "        result =  ''.join(match_data)\n",
        "        return re.sub(',', '', result)\n",
        "    else:\n",
        "        return ''\n",
        "\n",
        "data = \"오늘은 2023년 3월 5일\"\n",
        "solution(data)"
      ],
      "metadata": {
        "colab": {
          "base_uri": "https://localhost:8080/",
          "height": 36
        },
        "id": "PkoQzRHW27O-",
        "outputId": "358636e6-37c4-4f67-e4dc-55dfe8427d42"
      },
      "execution_count": 33,
      "outputs": [
        {
          "output_type": "execute_result",
          "data": {
            "text/plain": [
              "'202335'"
            ],
            "application/vnd.google.colaboratory.intrinsic+json": {
              "type": "string"
            }
          },
          "metadata": {},
          "execution_count": 33
        }
      ]
    }
  ]
}