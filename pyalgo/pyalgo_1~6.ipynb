{
  "nbformat": 4,
  "nbformat_minor": 0,
  "metadata": {
    "colab": {
      "provenance": [],
      "authorship_tag": "ABX9TyP5/A1RqPAd7dlxPy1VRG0W",
      "include_colab_link": true
    },
    "kernelspec": {
      "name": "python3",
      "display_name": "Python 3"
    },
    "language_info": {
      "name": "python"
    }
  },
  "cells": [
    {
      "cell_type": "markdown",
      "metadata": {
        "id": "view-in-github",
        "colab_type": "text"
      },
      "source": [
        "<a href=\"https://colab.research.google.com/github/neysin/orm/blob/main/0122_pyalgo_1~6.ipynb\" target=\"_parent\"><img src=\"https://colab.research.google.com/assets/colab-badge.svg\" alt=\"Open In Colab\"/></a>"
      ]
    },
    {
      "cell_type": "code",
      "source": [
        "# 문제 1번\n",
        "\n",
        "\n",
        "def solution(data):\n",
        "    '''\n",
        "    주어진 리스트에서 홀수를 찾아 합을 반환하는 함\n",
        "\n",
        "    Parameters:\n",
        "    - data: list of int, 함수에 입력으로 주어지는 정수의 리스트\n",
        "\n",
        "    Returns:\n",
        "    - int, 주어진 리스트에서 홀수만 더한 값\n",
        "    '''\n",
        "    l = []\n",
        "    for i in data:\n",
        "        if i % 2 != 0:\n",
        "            l.append(i)\n",
        "    return sum(l)\n",
        "\n",
        "data = [1, 2, 3, 4, 5]\n",
        "\n",
        "print(solution(data))"
      ],
      "metadata": {
        "colab": {
          "base_uri": "https://localhost:8080/"
        },
        "id": "Ntd7z6042FTA",
        "outputId": "405d1358-00e7-43c8-f7f3-09c2c770eabf"
      },
      "execution_count": 89,
      "outputs": [
        {
          "output_type": "stream",
          "name": "stdout",
          "text": [
            "9\n"
          ]
        }
      ]
    },
    {
      "cell_type": "code",
      "source": [
        "# 문제 2번\n",
        "\n",
        "def solution(data):\n",
        "    '''\n",
        "    주어진 리스트의 각 요소를 곱한 결과를 반환하는 함수\n",
        "\n",
        "    Parameters:\n",
        "    - data: list of int, 함수에 입력으로 주어지는 정수의 리스트\n",
        "\n",
        "    Returns:\n",
        "    - int: 주어진 리스트의 각 요소를 곱한 결과\n",
        "    '''\n",
        "    mul = 1\n",
        "    if len(data) == 0:\n",
        "        return 0\n",
        "\n",
        "    for i in range(len(data)):\n",
        "        mul = mul * data[i]\n",
        "    return mul\n",
        "\n",
        "data = [1,2,3,4,5]\n",
        "\n",
        "solution(data)"
      ],
      "metadata": {
        "colab": {
          "base_uri": "https://localhost:8080/"
        },
        "id": "U6mQWCgtY1lE",
        "outputId": "fddf6ea8-ec03-49a8-ab4a-4ca57e2fb995"
      },
      "execution_count": 88,
      "outputs": [
        {
          "output_type": "execute_result",
          "data": {
            "text/plain": [
              "120"
            ]
          },
          "metadata": {},
          "execution_count": 88
        }
      ]
    },
    {
      "cell_type": "code",
      "source": [
        "# 문제 3번\n",
        "\n",
        "def solution(data):\n",
        "    '''\n",
        "    3과 5의 배수를 제외한 리스트의 요소를 더하는 함수\n",
        "\n",
        "    Parametrs:\n",
        "    - list of int, 정수로 이루어진 리스트\n",
        "\n",
        "    Returns:\n",
        "    - int, 3과 5의 배수를 제외한 리스트의 요소를 더한 값\n",
        "    '''\n",
        "    l = []\n",
        "    for i in data:\n",
        "        if i % 3 != 0 and i % 5 != 0:\n",
        "            l.append(i)\n",
        "    return sum(l)\n",
        "\n",
        "data = [1, 2, 3, 4, 5]\n",
        "\n",
        "solution(data)"
      ],
      "metadata": {
        "colab": {
          "base_uri": "https://localhost:8080/"
        },
        "id": "wmZncUGpZsHF",
        "outputId": "2acf79d4-64e3-4bca-e919-6ad3ee67dd23"
      },
      "execution_count": 69,
      "outputs": [
        {
          "output_type": "execute_result",
          "data": {
            "text/plain": [
              "7"
            ]
          },
          "metadata": {},
          "execution_count": 69
        }
      ]
    },
    {
      "cell_type": "code",
      "source": [
        "# 문제 4번\n",
        "\n",
        "def solution(data):\n",
        "    '''\n",
        "    리스트 안에 주어진 쿠키의 개수를 순서대로 1배, 2배, 3배,...,한 후\n",
        "    모든 쿠키의 수를 더하는 함수\n",
        "\n",
        "    Parameters:\n",
        "    - list of str, 문자열로 주어진 쿠키의 개수\n",
        "\n",
        "    Returns:\n",
        "    - int, 계산이 끝난 쿠키들의 개수 합\n",
        "    '''\n",
        "    l = []\n",
        "    for i in range(len(data)):\n",
        "        cookie_number = int(data[i][-2])\n",
        "        mul = cookie_number * (i+1)\n",
        "        l.append(mul)\n",
        "    return sum(l)\n",
        "\n",
        "\n",
        "data = ['쿠키 3개', '쿠키 2개', '쿠키 5개']\n",
        "\n",
        "solution(data)"
      ],
      "metadata": {
        "colab": {
          "base_uri": "https://localhost:8080/"
        },
        "id": "INvfsAB6bEY6",
        "outputId": "21124f37-8f28-4ba9-860b-f6354916d537"
      },
      "execution_count": 93,
      "outputs": [
        {
          "output_type": "execute_result",
          "data": {
            "text/plain": [
              "22"
            ]
          },
          "metadata": {},
          "execution_count": 93
        }
      ]
    },
    {
      "cell_type": "code",
      "source": [
        "# 문제 5번\n",
        "\n",
        "def solution(data):\n",
        "    '''\n",
        "    리스트에 주어진 1의 갯수를 반환하는 함수\n",
        "\n",
        "    Parameters:\n",
        "    - list of int, 1로 이루어진 정수 리스트\n",
        "\n",
        "    Returns:\n",
        "    - int, 리스트에 주어진 1의 갯수를 더한 값\n",
        "    '''\n",
        "    l = []\n",
        "    for i in range(len(data)):\n",
        "        one_number = str(data[i]).count('1')\n",
        "        l.append(one_number)\n",
        "    return sum(l)\n",
        "\n",
        "data = [1, 11, 111, 1111]\n",
        "solution(data)"
      ],
      "metadata": {
        "colab": {
          "base_uri": "https://localhost:8080/"
        },
        "id": "MoEu0tiTh575",
        "outputId": "b1669141-1d20-4a44-9f95-efcf7bc7db40"
      },
      "execution_count": 100,
      "outputs": [
        {
          "output_type": "execute_result",
          "data": {
            "text/plain": [
              "10"
            ]
          },
          "metadata": {},
          "execution_count": 100
        }
      ]
    },
    {
      "cell_type": "code",
      "source": [
        "# 문제 6번\n",
        "\n",
        "def solution(data):\n",
        "    '''\n",
        "    주어진 문자열의 숫자를 모두 더하는 함수\n",
        "\n",
        "    Parameters:\n",
        "    - str, 숫자와 문자가 섞여있는 문자열\n",
        "\n",
        "    Returns:\n",
        "    - int, 문자열의 숫자만 골라 모두 더한 값\n",
        "    '''\n",
        "    l = []\n",
        "    for i in data:\n",
        "        if i.isdigit() == True:\n",
        "            l.append(i)\n",
        "\n",
        "    y = []\n",
        "    for x in l:\n",
        "        y.append(int(x))\n",
        "\n",
        "    return(sum(y))\n",
        "\n",
        "\n",
        "data = '1hel2lo3'\n",
        "\n",
        "solution(data)"
      ],
      "metadata": {
        "colab": {
          "base_uri": "https://localhost:8080/"
        },
        "id": "1sw814Hcj7Nn",
        "outputId": "45f94022-3ca6-4092-d7ae-095969199e42"
      },
      "execution_count": 119,
      "outputs": [
        {
          "output_type": "execute_result",
          "data": {
            "text/plain": [
              "6"
            ]
          },
          "metadata": {},
          "execution_count": 119
        }
      ]
    }
  ]
}