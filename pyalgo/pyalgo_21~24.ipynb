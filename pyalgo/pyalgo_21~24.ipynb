{
  "nbformat": 4,
  "nbformat_minor": 0,
  "metadata": {
    "colab": {
      "provenance": [],
      "authorship_tag": "ABX9TyOPHLoEwTbhyUfT74o3YEVU",
      "include_colab_link": true
    },
    "kernelspec": {
      "name": "python3",
      "display_name": "Python 3"
    },
    "language_info": {
      "name": "python"
    }
  },
  "cells": [
    {
      "cell_type": "markdown",
      "metadata": {
        "id": "view-in-github",
        "colab_type": "text"
      },
      "source": [
        "<a href=\"https://colab.research.google.com/github/neysin/orm/blob/main/pyalgo_21~24.ipynb\" target=\"_parent\"><img src=\"https://colab.research.google.com/assets/colab-badge.svg\" alt=\"Open In Colab\"/></a>"
      ]
    },
    {
      "cell_type": "code",
      "execution_count": 11,
      "metadata": {
        "colab": {
          "base_uri": "https://localhost:8080/"
        },
        "id": "KxPjtK7Zqqlk",
        "outputId": "f05d6a02-3a2e-4cc7-cfbd-0bdfb1fb00b8"
      },
      "outputs": [
        {
          "output_type": "execute_result",
          "data": {
            "text/plain": [
              "False"
            ]
          },
          "metadata": {},
          "execution_count": 11
        }
      ],
      "source": [
        "# 문제 21번\n",
        "def solution(data):\n",
        "    # 데이터 값 언패킹\n",
        "    data_list, target_num = data\n",
        "\n",
        "    if target_num in data_list:\n",
        "        return(data_list.index(target_num))\n",
        "    else:\n",
        "        return(False)\n",
        "\n",
        "data = ([2, 4, 6, 8, 10], 7)\n",
        "solution(data)"
      ]
    },
    {
      "cell_type": "code",
      "source": [
        "# 문제 22번\n",
        "# 위 문제에서 문자열로만 바뀐 형태\n",
        "\n",
        "def solution(data):\n",
        "    data_list, target_str = data\n",
        "    if target_str in data_list:\n",
        "        return(data_list.index(target_str))\n",
        "    else:\n",
        "        return(False)\n",
        "\n",
        "data = ('hello', 'e')\n",
        "solution(data)"
      ],
      "metadata": {
        "colab": {
          "base_uri": "https://localhost:8080/"
        },
        "id": "Ds5wvDtkswz4",
        "outputId": "ecb97894-9e14-4830-d9fd-86bf032b3ef5"
      },
      "execution_count": 1,
      "outputs": [
        {
          "output_type": "execute_result",
          "data": {
            "text/plain": [
              "1"
            ]
          },
          "metadata": {},
          "execution_count": 1
        }
      ]
    },
    {
      "cell_type": "code",
      "source": [
        "# 문제 23번\n",
        "def solution(data):\n",
        "    # 데이터 패킹\n",
        "    data_list1, target_num = data\n",
        "    l = []\n",
        "\n",
        "    # target_num이 data_list2에 존재한다면 True를 리스트에 반환, 아니면 False를 반환\n",
        "    for data_list2 in data_list1:\n",
        "        if target_num in data_list2:\n",
        "            l.append(True)\n",
        "        else:\n",
        "            l.append(False)\n",
        "    # 리스트 안의 True의 개수가 1개 이상이라면 True 반환, 아니면 False 반환\n",
        "    if l.count(True) >= 1:\n",
        "        return True\n",
        "    else:\n",
        "        return False\n",
        "\n",
        "data = ([[1, 3, 5], [7, 9, 11], [13, 15, 17]], 7)\n",
        "solution(data)"
      ],
      "metadata": {
        "colab": {
          "base_uri": "https://localhost:8080/"
        },
        "id": "5Gsf-f0815-L",
        "outputId": "ea9d8b55-1537-4163-d946-c572c9918480"
      },
      "execution_count": 5,
      "outputs": [
        {
          "output_type": "execute_result",
          "data": {
            "text/plain": [
              "True"
            ]
          },
          "metadata": {},
          "execution_count": 5
        }
      ]
    },
    {
      "cell_type": "code",
      "source": [
        "# 문제 24번\n",
        "\n",
        "def solution(data):\n",
        "    l = []\n",
        "    '''\n",
        "    i, j 값을 리스트의 길이만큼 반복시켜 데이터의 인덱싱 값으로 사용\n",
        "    j가 i 값보다 크다는 조건을 넣어 값이 없는 리스트를 생성하지 않도록 함\n",
        "    '''\n",
        "    for i in range(len(data)):\n",
        "        for j in range(len(data)):\n",
        "            if j > i:\n",
        "                l.append(data[i:j])\n",
        "\n",
        "    max_value = float('-inf')\n",
        "\n",
        "    for num in l:\n",
        "        if sum(num) > max_value:\n",
        "            max_value = sum(num)\n",
        "\n",
        "\n",
        "    return max_value\n",
        "\n",
        "data = [1, -2, 3, 4, -1, 2, 1, -5, 4]\n",
        "solution(data)"
      ],
      "metadata": {
        "colab": {
          "base_uri": "https://localhost:8080/"
        },
        "id": "fv-OZ9Ht3Qeh",
        "outputId": "66667aa4-5a59-4f1f-aad6-f76d074e2201"
      },
      "execution_count": 14,
      "outputs": [
        {
          "output_type": "execute_result",
          "data": {
            "text/plain": [
              "9"
            ]
          },
          "metadata": {},
          "execution_count": 14
        }
      ]
    }
  ]
}