{
  "nbformat": 4,
  "nbformat_minor": 0,
  "metadata": {
    "colab": {
      "provenance": [],
      "authorship_tag": "ABX9TyNDadvX5ynt55cbHTjRqcrU",
      "include_colab_link": true
    },
    "kernelspec": {
      "name": "python3",
      "display_name": "Python 3"
    },
    "language_info": {
      "name": "python"
    }
  },
  "cells": [
    {
      "cell_type": "markdown",
      "metadata": {
        "id": "view-in-github",
        "colab_type": "text"
      },
      "source": [
        "<a href=\"https://colab.research.google.com/github/neysin/orm/blob/main/pyalgo_71~76.ipynb\" target=\"_parent\"><img src=\"https://colab.research.google.com/assets/colab-badge.svg\" alt=\"Open In Colab\"/></a>"
      ]
    },
    {
      "cell_type": "code",
      "execution_count": 6,
      "metadata": {
        "colab": {
          "base_uri": "https://localhost:8080/",
          "height": 36
        },
        "id": "xCRqcWlgjz7M",
        "outputId": "36193b38-06f0-45a2-d457-0b2b41b52f59"
      },
      "outputs": [
        {
          "output_type": "execute_result",
          "data": {
            "text/plain": [
              "'ban'"
            ],
            "application/vnd.google.colaboratory.intrinsic+json": {
              "type": "string"
            }
          },
          "metadata": {},
          "execution_count": 6
        }
      ],
      "source": [
        "# 문제 71번\n",
        "def solution(data):\n",
        "    l = []\n",
        "    for i in data:\n",
        "        if i not in l:\n",
        "            l.append(i)\n",
        "    return ''.join(l)\n",
        "\n",
        "data = \"banana\"\n",
        "solution(data)"
      ]
    },
    {
      "cell_type": "code",
      "source": [
        "# 문제 72번\n",
        "def solution(data):\n",
        "    str1, str2 = data\n",
        "    l = []\n",
        "    for i in str1:\n",
        "        if i in str2:\n",
        "            l.append(i)\n",
        "    return sorted(set(l))\n",
        "\n",
        "data = (\"apple\", \"plead\")\n",
        "solution(data)"
      ],
      "metadata": {
        "colab": {
          "base_uri": "https://localhost:8080/"
        },
        "id": "C6mqcc9PkNzV",
        "outputId": "b683812b-70d2-4311-aa55-e93833a82b4a"
      },
      "execution_count": 8,
      "outputs": [
        {
          "output_type": "execute_result",
          "data": {
            "text/plain": [
              "['a', 'e', 'l', 'p']"
            ]
          },
          "metadata": {},
          "execution_count": 8
        }
      ]
    },
    {
      "cell_type": "code",
      "source": [
        "# 문제 73번\n",
        "def solution(data):\n",
        "    str1, str2 = data\n",
        "    list_str1 = list(set(str1))\n",
        "    for i in str2:\n",
        "        if i in list_str1:\n",
        "            list_str1.remove(i)\n",
        "\n",
        "    return sorted(list_str1)\n",
        "\n",
        "data = (\"apple\", \"ple\")\n",
        "solution(data)"
      ],
      "metadata": {
        "colab": {
          "base_uri": "https://localhost:8080/"
        },
        "id": "Icj9MQKrlvl7",
        "outputId": "5cf9126c-8755-4b3e-c091-d03a0f25a169"
      },
      "execution_count": 10,
      "outputs": [
        {
          "output_type": "execute_result",
          "data": {
            "text/plain": [
              "['a']"
            ]
          },
          "metadata": {},
          "execution_count": 10
        }
      ]
    },
    {
      "cell_type": "code",
      "source": [
        "# 문제 74번\n",
        "def solution(data):\n",
        "    all_data = list(set(data[0])) + list(set(data[1]))\n",
        "    l = []\n",
        "    for i in all_data:\n",
        "        if all_data.count(i) == 1:\n",
        "            l.append(i)\n",
        "    return sorted(l)\n",
        "\n",
        "data = (\"apple\", \"peer\")\n",
        "solution(data)"
      ],
      "metadata": {
        "colab": {
          "base_uri": "https://localhost:8080/"
        },
        "id": "UZFx2-mImclF",
        "outputId": "63e8f848-4e3d-4801-984a-6b4d03696706"
      },
      "execution_count": 19,
      "outputs": [
        {
          "output_type": "execute_result",
          "data": {
            "text/plain": [
              "['a', 'l', 'r']"
            ]
          },
          "metadata": {},
          "execution_count": 19
        }
      ]
    },
    {
      "cell_type": "code",
      "source": [
        "# 문제 75번\n",
        "def solution(data):\n",
        "    data_list, n, m = data\n",
        "    l = [i for i in range(n,m+1)]\n",
        "    l2 = []\n",
        "    for j in l:\n",
        "        if j not in data_list:\n",
        "            l2.append(j)\n",
        "\n",
        "    return l2\n",
        "\n",
        "data = ([2, 3, 4], 1, 5)\n",
        "solution(data)"
      ],
      "metadata": {
        "colab": {
          "base_uri": "https://localhost:8080/"
        },
        "id": "dBBEtFH1npSy",
        "outputId": "6e327883-b636-479d-e621-a9fe54750482"
      },
      "execution_count": 20,
      "outputs": [
        {
          "output_type": "execute_result",
          "data": {
            "text/plain": [
              "[1, 5]"
            ]
          },
          "metadata": {},
          "execution_count": 20
        }
      ]
    },
    {
      "cell_type": "code",
      "source": [
        "# 문제 76번\n",
        "def solution(data):\n",
        "    arr1, arr2 = data\n",
        "    merged = []\n",
        "    i, j = 0, 0\n",
        "\n",
        "    while i < len(arr1) and j < len(arr2):\n",
        "        if arr1[i] < arr2[j]:\n",
        "            merged.append(arr1[i])\n",
        "            i += 1\n",
        "        else:\n",
        "            merged.append(arr2[j])\n",
        "            j += 1\n",
        "\n",
        "    while i < len(arr1):\n",
        "        merged.append(arr1[i])\n",
        "        i += 1\n",
        "    while j < len(arr2):\n",
        "        merged.append(arr2[j])\n",
        "        j += 1\n",
        "\n",
        "    return merged\n",
        "\n",
        "\n",
        "\n",
        "data = [-5, 0, 5], [-6, -4, -2, 0, 2, 4]\n",
        "solution(data)"
      ],
      "metadata": {
        "colab": {
          "base_uri": "https://localhost:8080/"
        },
        "id": "ObIJCeEPp884",
        "outputId": "07554b42-2c49-4f7d-d58e-14ea9fdae933"
      },
      "execution_count": 6,
      "outputs": [
        {
          "output_type": "execute_result",
          "data": {
            "text/plain": [
              "[-6, -5, -4, 0, -2, 5, 0, 2, 4]"
            ]
          },
          "metadata": {},
          "execution_count": 6
        }
      ]
    }
  ]
}