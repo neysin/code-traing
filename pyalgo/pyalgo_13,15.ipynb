{
  "nbformat": 4,
  "nbformat_minor": 0,
  "metadata": {
    "colab": {
      "provenance": [],
      "authorship_tag": "ABX9TyPzKDjZAGvnOEArw7lr6+uk",
      "include_colab_link": true
    },
    "kernelspec": {
      "name": "python3",
      "display_name": "Python 3"
    },
    "language_info": {
      "name": "python"
    }
  },
  "cells": [
    {
      "cell_type": "markdown",
      "metadata": {
        "id": "view-in-github",
        "colab_type": "text"
      },
      "source": [
        "<a href=\"https://colab.research.google.com/github/neysin/orm/blob/main/%EB%AC%B8%EC%A0%9C_13%2C15.ipynb\" target=\"_parent\"><img src=\"https://colab.research.google.com/assets/colab-badge.svg\" alt=\"Open In Colab\"/></a>"
      ]
    },
    {
      "cell_type": "code",
      "execution_count": 1,
      "metadata": {
        "colab": {
          "base_uri": "https://localhost:8080/"
        },
        "id": "N6EMgmHZNBYo",
        "outputId": "f5598eb0-bf78-4254-e6fa-8bf2b889e08e"
      },
      "outputs": [
        {
          "output_type": "execute_result",
          "data": {
            "text/plain": [
              "['Moby Dick', '1984', 'To Kill a Mockingbird']"
            ]
          },
          "metadata": {},
          "execution_count": 1
        }
      ],
      "source": [
        "# 문제 13\n",
        "\n",
        "def solution(data):\n",
        "    return sorted(data[0], key = lambda x: data[1].get(x))\n",
        "\n",
        "\n",
        "data = [['Moby Dick', 'To Kill a Mockingbird', '1984'], {'Moby Dick': 1851, 'To Kill a Mockingbird': 1960, '1984': 1949}]\n",
        "solution(data)"
      ]
    },
    {
      "cell_type": "code",
      "source": [
        "# 문제 15\n",
        "# 결과값 정렬 및 12:00 AM 일 때 결과값이 0:0 으로 나오는 것 고치기\n",
        "\n",
        "def solution(data):\n",
        "    l = []\n",
        "    for time in data:\n",
        "        hour = int(time[:2])\n",
        "        minute = time[3:5]\n",
        "        military_time = time[-2:]\n",
        "\n",
        "        if int(time[:2]) < 12 and time[-2:] == 'AM':\n",
        "            l.append(time)\n",
        "        elif int(time[:2]) < 12 and time[-2:] == 'PM':\n",
        "            hour = int(time[:2]) + 12\n",
        "            fix_time = f'{hour}:{time[3:]}'\n",
        "            l.append(fix_time)\n",
        "        elif int(time[:2]) >= 12 and time[-2:] == 'AM':\n",
        "            hour = int(time[:2]) - 12\n",
        "            fix_time = f'{hour}:{time[3]}'\n",
        "            l.append(fix_time)\n",
        "        elif int(time[:2]) >= 12 and time[-2:] == 'PM':\n",
        "            l.append(time)\n",
        "        else:\n",
        "            print('오류입니다.')\n",
        "    return sorted(l)\n",
        "\n",
        "data = ['01:00 PM', '11:30 AM', '12:45 PM', '09:00 AM', '12:00 AM','13:00 AM']\n",
        "solution(data)\n"
      ],
      "metadata": {
        "colab": {
          "base_uri": "https://localhost:8080/"
        },
        "id": "BE7hJy8FPIuq",
        "outputId": "94dbbcfe-8303-44ca-ad99-3ed2028b82c8"
      },
      "execution_count": 37,
      "outputs": [
        {
          "output_type": "execute_result",
          "data": {
            "text/plain": [
              "['09:00 AM', '0:0', '11:30 AM', '12:45 PM', '13:00 PM', '1:0']"
            ]
          },
          "metadata": {},
          "execution_count": 37
        }
      ]
    }
  ]
}