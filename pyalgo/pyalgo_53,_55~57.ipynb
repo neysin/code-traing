{
  "nbformat": 4,
  "nbformat_minor": 0,
  "metadata": {
    "colab": {
      "provenance": [],
      "authorship_tag": "ABX9TyNHCgHkE/krVcIJ8njhJcL3",
      "include_colab_link": true
    },
    "kernelspec": {
      "name": "python3",
      "display_name": "Python 3"
    },
    "language_info": {
      "name": "python"
    }
  },
  "cells": [
    {
      "cell_type": "markdown",
      "metadata": {
        "id": "view-in-github",
        "colab_type": "text"
      },
      "source": [
        "<a href=\"https://colab.research.google.com/github/neysin/orm/blob/main/pyalgo_53%2C_55~57.ipynb\" target=\"_parent\"><img src=\"https://colab.research.google.com/assets/colab-badge.svg\" alt=\"Open In Colab\"/></a>"
      ]
    },
    {
      "cell_type": "code",
      "execution_count": 2,
      "metadata": {
        "colab": {
          "base_uri": "https://localhost:8080/"
        },
        "id": "iJahq45dLY7G",
        "outputId": "27afb210-746e-47f3-e925-8eb5021e38cc"
      },
      "outputs": [
        {
          "output_type": "execute_result",
          "data": {
            "text/plain": [
              "['A기업', 'B기업']"
            ]
          },
          "metadata": {},
          "execution_count": 2
        }
      ],
      "source": [
        "# 문제 53번\n",
        "\n",
        "def solution(data):\n",
        "    company_list, my_money = data\n",
        "    l = []\n",
        "    for company_money, company_name in company_list:\n",
        "        if my_money >= company_money:\n",
        "            l.append(company_name)\n",
        "            my_money -= company_money\n",
        "\n",
        "    return l\n",
        "\n",
        "\n",
        "data = [(200000, 'A기업'), (300000, 'B기업'), (400000, 'C기업')], 500000\n",
        "solution(data)"
      ]
    },
    {
      "cell_type": "code",
      "source": [
        "# 문제 55번\n",
        "\n",
        "def solution(data):\n",
        "    l = []\n",
        "    for i in data:\n",
        "        num = i.count(1)\n",
        "        l.append(num)\n",
        "\n",
        "    return sum(l)\n",
        "\n",
        "\n",
        "data = [[0, 1, 0], [1, 0, 1], [0, 1, 0]]\n",
        "solution(data)"
      ],
      "metadata": {
        "colab": {
          "base_uri": "https://localhost:8080/"
        },
        "id": "NWmO7aDET6nS",
        "outputId": "12ac3b41-f45e-4622-ddb5-57b12be0e484"
      },
      "execution_count": 3,
      "outputs": [
        {
          "output_type": "execute_result",
          "data": {
            "text/plain": [
              "4"
            ]
          },
          "metadata": {},
          "execution_count": 3
        }
      ]
    },
    {
      "cell_type": "code",
      "source": [
        "# 문제 56번\n",
        "\n",
        "def solution(data):\n",
        "    l = []\n",
        "    for i in range(len(data)):\n",
        "        for j in range(len(data[i])):\n",
        "            if data[i][j] == 1:\n",
        "                l.append((i,j))\n",
        "    return l\n",
        "\n",
        "\n",
        "data = [[0, 1, 0], [1, 0, 1], [0, 1, 0]]\n",
        "solution(data)"
      ],
      "metadata": {
        "colab": {
          "base_uri": "https://localhost:8080/"
        },
        "id": "uts8V7_YUUzY",
        "outputId": "fc38f027-168c-4122-e32c-8b71aee2ee93"
      },
      "execution_count": 4,
      "outputs": [
        {
          "output_type": "execute_result",
          "data": {
            "text/plain": [
              "[(0, 1), (1, 0), (1, 2), (2, 1)]"
            ]
          },
          "metadata": {},
          "execution_count": 4
        }
      ]
    },
    {
      "cell_type": "code",
      "source": [
        "# 문제 57번\n",
        "\n",
        "def solution(data):\n",
        "    l = []\n",
        "    data_list, num = data\n",
        "    for i in data_list:\n",
        "        for j in range(len(i)):\n",
        "            if i[j] % num == 0:\n",
        "                l.append(True)\n",
        "            else:\n",
        "                l.append(False)\n",
        "\n",
        "    if False in l:\n",
        "        return False\n",
        "    else:\n",
        "        return True\n",
        "\n",
        "\n",
        "data = ([[2, 4, 6], [8, 10, 12]], 2)\n",
        "solution(data)"
      ],
      "metadata": {
        "colab": {
          "base_uri": "https://localhost:8080/"
        },
        "id": "SrdOXDjDWazM",
        "outputId": "7f9e8e06-a271-4137-f854-be812fcc89d8"
      },
      "execution_count": 9,
      "outputs": [
        {
          "output_type": "execute_result",
          "data": {
            "text/plain": [
              "True"
            ]
          },
          "metadata": {},
          "execution_count": 9
        }
      ]
    },
    {
      "cell_type": "code",
      "source": [],
      "metadata": {
        "id": "BAQKqb0LX3o7"
      },
      "execution_count": null,
      "outputs": []
    }
  ]
}