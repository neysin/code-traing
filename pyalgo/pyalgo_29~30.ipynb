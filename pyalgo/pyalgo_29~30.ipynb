{
  "nbformat": 4,
  "nbformat_minor": 0,
  "metadata": {
    "colab": {
      "provenance": [],
      "authorship_tag": "ABX9TyMeBae3x8mWExxIdTH2UIUB",
      "include_colab_link": true
    },
    "kernelspec": {
      "name": "python3",
      "display_name": "Python 3"
    },
    "language_info": {
      "name": "python"
    }
  },
  "cells": [
    {
      "cell_type": "markdown",
      "metadata": {
        "id": "view-in-github",
        "colab_type": "text"
      },
      "source": [
        "<a href=\"https://colab.research.google.com/github/neysin/orm/blob/main/pyalgo_29~30.ipynb\" target=\"_parent\"><img src=\"https://colab.research.google.com/assets/colab-badge.svg\" alt=\"Open In Colab\"/></a>"
      ]
    },
    {
      "cell_type": "code",
      "execution_count": 2,
      "metadata": {
        "colab": {
          "base_uri": "https://localhost:8080/"
        },
        "id": "UNHEBPgAoPVY",
        "outputId": "74e8549c-d285-4fcc-f3f1-c8f2a829988e"
      },
      "outputs": [
        {
          "output_type": "execute_result",
          "data": {
            "text/plain": [
              "1"
            ]
          },
          "metadata": {},
          "execution_count": 2
        }
      ],
      "source": [
        "# 문제 29번\n",
        "def solution(data):\n",
        "    '''\n",
        "    data에 중복되는 숫자를 set을 통해 제거\n",
        "    set_list에 있는 숫자와 data에 있는 숫자가 겹치는 횟수를 리스트화\n",
        "    리스트에서 제일 작은 숫자와 일치하는 횟수를 지닌 숫자를 출력\n",
        "    '''\n",
        "    set_list = list(set(data))\n",
        "    l = []\n",
        "    for i in set_list:\n",
        "        num = data.count(i)\n",
        "        l.append(num)\n",
        "\n",
        "    for i in set_list:\n",
        "        if min(l) == data.count(i):\n",
        "             return i\n",
        "\n",
        "\n",
        "data = [2, 2, 1]\n",
        "solution(data)"
      ]
    },
    {
      "cell_type": "code",
      "source": [
        "# 문제 30번\n",
        "def solution(data):\n",
        "    binary_data = bin(data)[2:]\n",
        "    return binary_data.replace('1','A').replace('0','B')\n",
        "\n",
        "data = 5\n",
        "solution(data)"
      ],
      "metadata": {
        "colab": {
          "base_uri": "https://localhost:8080/",
          "height": 36
        },
        "id": "rLN9QciKoY4g",
        "outputId": "0dc1befe-1a5f-4e92-8fcb-e8f4e1e1a9bd"
      },
      "execution_count": 8,
      "outputs": [
        {
          "output_type": "execute_result",
          "data": {
            "text/plain": [
              "'ABA'"
            ],
            "application/vnd.google.colaboratory.intrinsic+json": {
              "type": "string"
            }
          },
          "metadata": {},
          "execution_count": 8
        }
      ]
    }
  ]
}