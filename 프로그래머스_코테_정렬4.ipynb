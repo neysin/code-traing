{
  "nbformat": 4,
  "nbformat_minor": 0,
  "metadata": {
    "colab": {
      "provenance": [],
      "authorship_tag": "ABX9TyNQ9PGoTmY+MSmof4xhRVal",
      "include_colab_link": true
    },
    "kernelspec": {
      "name": "python3",
      "display_name": "Python 3"
    },
    "language_info": {
      "name": "python"
    }
  },
  "cells": [
    {
      "cell_type": "markdown",
      "metadata": {
        "id": "view-in-github",
        "colab_type": "text"
      },
      "source": [
        "<a href=\"https://colab.research.google.com/github/neysin/code-traing/blob/main/%ED%94%84%EB%A1%9C%EA%B7%B8%EB%9E%98%EB%A8%B8%EC%8A%A4_%EC%BD%94%ED%85%8C_%EC%A0%95%EB%A0%AC4.ipynb\" target=\"_parent\"><img src=\"https://colab.research.google.com/assets/colab-badge.svg\" alt=\"Open In Colab\"/></a>"
      ]
    },
    {
      "cell_type": "markdown",
      "source": [
        "정렬 - level2 \\\n",
        "가장 큰 수"
      ],
      "metadata": {
        "id": "jTl27-nYBskq"
      }
    },
    {
      "cell_type": "code",
      "execution_count": 12,
      "metadata": {
        "colab": {
          "base_uri": "https://localhost:8080/",
          "height": 35
        },
        "id": "tlDE2npiBpjz",
        "outputId": "bedb27e0-b677-4b9d-f1f1-d281b4c97b80"
      },
      "outputs": [
        {
          "output_type": "execute_result",
          "data": {
            "text/plain": [
              "'9534330'"
            ],
            "application/vnd.google.colaboratory.intrinsic+json": {
              "type": "string"
            }
          },
          "metadata": {},
          "execution_count": 12
        }
      ],
      "source": [
        "def solution(numbers):\n",
        "    from functools import cmp_to_key # 비교함수를 키로 사용하기 위해 cmp_to_key 호출\n",
        "\n",
        "    numbers = [str(i) for i in numbers] # 숫자들을 문자열로 변환\n",
        "    sorted_num = sorted(numbers, key=cmp_to_key(lambda x, y: int(x+y) - int(y+x)), reverse = True)\n",
        "    # 예를 들어 x = 3, y = 30 이라면 330 - 303 이라는 연산을 키 함수로 사용.\n",
        "\n",
        "    return ''.join(sorted_num)\n",
        "\n",
        "numbers = [3, 30, 34, 5, 9]\n",
        "solution(numbers)"
      ]
    },
    {
      "cell_type": "code",
      "source": [
        "# 이 코드가 위의 코드보다 처리속도가 빠름\n",
        "def solution(numbers):\n",
        "    numbers = [str(i) for i in numbers] # 문자열로 바꿔줌\n",
        "    numbers.sort(key=lambda x: x * 3, reverse = True) # 주어진 문자열을 3번 곱하여 비교, 333과 303030을 비교한다면 첫 번째 자리의 3이 같으므로\n",
        "    # 두 번째 자리인 3과 0을 비교하여 333이 더 크다고 판별\n",
        "    # 이를 이용하여 정렬하는 방식\n",
        "    result = ''.join(numbers) # 정렬된 문자열을 하나로 합침\n",
        "    if '0' * len(numbers) == result: return '0' # 만약 구성 요소들이 전부 0이어서 결과값으로 00000이 나온다면 그냥 0으로 반환하는 예외처리\n",
        "    return result\n",
        "\n",
        "numbers = [3, 30, 34, 5, 9]\n",
        "solution(numbers)"
      ],
      "metadata": {
        "colab": {
          "base_uri": "https://localhost:8080/",
          "height": 35
        },
        "id": "zs1A1Cv5G6eD",
        "outputId": "32947fd0-bf7c-4a7f-d6ff-d294d16182c0"
      },
      "execution_count": 11,
      "outputs": [
        {
          "output_type": "execute_result",
          "data": {
            "text/plain": [
              "'9534330'"
            ],
            "application/vnd.google.colaboratory.intrinsic+json": {
              "type": "string"
            }
          },
          "metadata": {},
          "execution_count": 11
        }
      ]
    }
  ]
}