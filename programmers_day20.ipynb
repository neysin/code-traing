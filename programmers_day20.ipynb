{
  "nbformat": 4,
  "nbformat_minor": 0,
  "metadata": {
    "colab": {
      "provenance": [],
      "authorship_tag": "ABX9TyMzQ0Iv4FSdB5gGynbm55Rt",
      "include_colab_link": true
    },
    "kernelspec": {
      "name": "python3",
      "display_name": "Python 3"
    },
    "language_info": {
      "name": "python"
    }
  },
  "cells": [
    {
      "cell_type": "markdown",
      "metadata": {
        "id": "view-in-github",
        "colab_type": "text"
      },
      "source": [
        "<a href=\"https://colab.research.google.com/github/neysin/orm/blob/main/programmers_day20.ipynb\" target=\"_parent\"><img src=\"https://colab.research.google.com/assets/colab-badge.svg\" alt=\"Open In Colab\"/></a>"
      ]
    },
    {
      "cell_type": "code",
      "execution_count": 1,
      "metadata": {
        "colab": {
          "base_uri": "https://localhost:8080/"
        },
        "id": "Spz0H2I-NkcD",
        "outputId": "0e0252b7-3e9d-4893-b4e2-45b935ca54d8"
      },
      "outputs": [
        {
          "output_type": "execute_result",
          "data": {
            "text/plain": [
              "[1, 2, 3, 4, 5, 6, 0, 0]"
            ]
          },
          "metadata": {},
          "execution_count": 1
        }
      ],
      "source": [
        "# 배열의 길이를 2의 거듭제곱으로 만들기\n",
        "# arr의 길이가 2의 정수 거듭제곱이 되도록 arr 뒤에 정수 0을 추가하려고 합니다.\n",
        "def solution(arr):\n",
        "    i = 0\n",
        "    while True:\n",
        "        if len(arr) <= 2**i:\n",
        "            break\n",
        "        else:\n",
        "            i += 1\n",
        "    for _ in range(2**i - len(arr)):\n",
        "        arr.append(0)\n",
        "\n",
        "    return arr\n",
        "\n",
        "\n",
        "arr = [1, 2, 3, 4, 5, 6]\n",
        "solution(arr)"
      ]
    },
    {
      "cell_type": "code",
      "source": [
        "# 배열 비교하기\n",
        "# 두 배열의 길이가 다르다면, 배열의 길이가 긴 쪽이 더 큽니다.\n",
        "# 배열의 길이가 같다면 각 배열에 있는 모든 원소의 합을 비교하여 다르다면\n",
        "# 더 큰 쪽이 크고, 같다면 같습니다.\n",
        "def solution(arr1, arr2):\n",
        "    if len(arr1) > len(arr2):\n",
        "        return 1\n",
        "    elif len(arr1) < len(arr2):\n",
        "        return -1\n",
        "    else:\n",
        "        if sum(arr1) > sum(arr2):\n",
        "            return 1\n",
        "        elif sum(arr1) < sum(arr2):\n",
        "            return -1\n",
        "        else:\n",
        "            return 0\n",
        "\n",
        "\n",
        "arr1 = [49, 13]\n",
        "arr2 = [70, 11, 2]\n",
        "solution(arr1, arr2)\n"
      ],
      "metadata": {
        "colab": {
          "base_uri": "https://localhost:8080/"
        },
        "id": "2DxCciCJV2OT",
        "outputId": "292c48ef-1c1f-4a6e-a579-0b30f32d27b7"
      },
      "execution_count": 2,
      "outputs": [
        {
          "output_type": "execute_result",
          "data": {
            "text/plain": [
              "-1"
            ]
          },
          "metadata": {},
          "execution_count": 2
        }
      ]
    },
    {
      "cell_type": "code",
      "source": [
        "# 문자열 묶기\n",
        "def solution(strArr):\n",
        "    l = [len(i) for i in strArr]\n",
        "    max_l = max(set(l), key = l.count)\n",
        "    return l.count(max_l)\n",
        "\n",
        "strArr = [\"a\",\"bc\",\"d\",\"efg\",\"hi\"]\n",
        "solution(strArr)"
      ],
      "metadata": {
        "colab": {
          "base_uri": "https://localhost:8080/"
        },
        "id": "4esT884FXOvC",
        "outputId": "ec105207-3896-4250-c3c0-889a8b99350e"
      },
      "execution_count": 6,
      "outputs": [
        {
          "output_type": "execute_result",
          "data": {
            "text/plain": [
              "2"
            ]
          },
          "metadata": {},
          "execution_count": 6
        }
      ]
    },
    {
      "cell_type": "code",
      "source": [
        "# 배열의 길이에 따라 다른 연산하기\n",
        "# arr의 길이가 홀수라면 arr의 모든 짝수 인덱스 위치에 n을 더한 배열\n",
        "# arr의 길이가 짝수라면 arr의 모든 홀수 인덱스 위치에 n을 더한 배열\n",
        "def solution(arr, n):\n",
        "    if len(arr) % 2 == 0:\n",
        "        for i in range(1, len(arr), 2):\n",
        "            arr[i] += n\n",
        "    else:\n",
        "        for i in range(0, len(arr), 2):\n",
        "            arr[i] += n\n",
        "    return arr\n",
        "\n",
        "arr = [49, 12, 100, 276, 33]\n",
        "n = 27\n",
        "solution(arr, n)"
      ],
      "metadata": {
        "colab": {
          "base_uri": "https://localhost:8080/"
        },
        "id": "ZczbsTzUZ0Kb",
        "outputId": "20044788-ad3e-4e9c-9a10-948263d46890"
      },
      "execution_count": 9,
      "outputs": [
        {
          "output_type": "execute_result",
          "data": {
            "text/plain": [
              "[76, 12, 127, 276, 60]"
            ]
          },
          "metadata": {},
          "execution_count": 9
        }
      ]
    },
    {
      "cell_type": "code",
      "source": [
        "# 뒤에서 5등까지\n",
        "def solution(num_list):\n",
        "    sort_num = sorted(num_list)\n",
        "    return sort_num[0:5]\n",
        "\n",
        "num_list = [12, 4, 15, 46, 38, 1, 14]\n",
        "solution(num_list)"
      ],
      "metadata": {
        "colab": {
          "base_uri": "https://localhost:8080/"
        },
        "id": "BGgCPbTuhT3R",
        "outputId": "306373e5-2612-472f-9cd6-f365548dbd7a"
      },
      "execution_count": 10,
      "outputs": [
        {
          "output_type": "execute_result",
          "data": {
            "text/plain": [
              "[1, 4, 12, 14, 15]"
            ]
          },
          "metadata": {},
          "execution_count": 10
        }
      ]
    }
  ]
}