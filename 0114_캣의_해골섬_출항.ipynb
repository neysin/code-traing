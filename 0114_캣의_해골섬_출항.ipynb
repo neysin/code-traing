{
  "nbformat": 4,
  "nbformat_minor": 0,
  "metadata": {
    "colab": {
      "provenance": [],
      "authorship_tag": "ABX9TyOf7mgYcSc7wuvumLHBWxZD",
      "include_colab_link": true
    },
    "kernelspec": {
      "name": "python3",
      "display_name": "Python 3"
    },
    "language_info": {
      "name": "python"
    }
  },
  "cells": [
    {
      "cell_type": "markdown",
      "metadata": {
        "id": "view-in-github",
        "colab_type": "text"
      },
      "source": [
        "<a href=\"https://colab.research.google.com/github/neysin/orm/blob/main/0114_%EC%BA%A3%EC%9D%98_%ED%95%B4%EA%B3%A8%EC%84%AC_%EC%B6%9C%ED%95%AD.ipynb\" target=\"_parent\"><img src=\"https://colab.research.google.com/assets/colab-badge.svg\" alt=\"Open In Colab\"/></a>"
      ]
    },
    {
      "cell_type": "markdown",
      "source": [
        "# 문제 : 캣의 해골섬 출항"
      ],
      "metadata": {
        "id": "UksjQKcD8PdC"
      }
    },
    {
      "cell_type": "code",
      "source": [
        "# 문제 1\n",
        "캣의_통장 = 1000000\n",
        "물고기의_가격 = 30\n",
        "잡은_물고기의_수 = 110 + 120 + 130 + 140 + 150 + 160 + 170 + 180 + 190 + 200\n",
        "물고기를_팔고_난_후_캣의_통장 = 1000000 + 잡은_물고기의_수 * 물고기의_가격"
      ],
      "metadata": {
        "id": "pCuDxtH98Y8T"
      },
      "execution_count": 11,
      "outputs": []
    },
    {
      "cell_type": "code",
      "source": [
        "잡은_물고기의_수, 물고기를_팔고_난_후_캣의_통장"
      ],
      "metadata": {
        "colab": {
          "base_uri": "https://localhost:8080/"
        },
        "id": "JN8-f96j8jtv",
        "outputId": "df339896-38fc-4fcf-f91d-0c95fdc11473"
      },
      "execution_count": 12,
      "outputs": [
        {
          "output_type": "execute_result",
          "data": {
            "text/plain": [
              "(1550, 1046500)"
            ]
          },
          "metadata": {},
          "execution_count": 12
        }
      ]
    },
    {
      "cell_type": "code",
      "source": [
        "잡은_물고기의_수 = (110 + 200) * 10 // 2\n",
        "잡은_물고기의_수"
      ],
      "metadata": {
        "colab": {
          "base_uri": "https://localhost:8080/"
        },
        "id": "ASYs_EJy8yZl",
        "outputId": "da78c297-31a1-41ef-d633-25a97d240517"
      },
      "execution_count": 13,
      "outputs": [
        {
          "output_type": "execute_result",
          "data": {
            "text/plain": [
              "1550"
            ]
          },
          "metadata": {},
          "execution_count": 13
        }
      ]
    },
    {
      "cell_type": "code",
      "source": [
        "list(range(110,201,10))\n",
        "sum(list(range(110,201,10)))"
      ],
      "metadata": {
        "colab": {
          "base_uri": "https://localhost:8080/"
        },
        "id": "x4uWf1a_9FKU",
        "outputId": "56c2e9aa-9a5b-4aba-9fdb-7e47ee9e750f"
      },
      "execution_count": 14,
      "outputs": [
        {
          "output_type": "execute_result",
          "data": {
            "text/plain": [
              "1550"
            ]
          },
          "metadata": {},
          "execution_count": 14
        }
      ]
    },
    {
      "cell_type": "code",
      "source": [
        "잡은_물고기의_수 = sum([110, 120, 130, 140, 150, 160, 170, 180, 190, 200])\n",
        "잡은_물고기의_수"
      ],
      "metadata": {
        "colab": {
          "base_uri": "https://localhost:8080/"
        },
        "id": "7cafiHpq9QiV",
        "outputId": "640fdc4b-781f-4644-9ee4-a49eeea34ef0"
      },
      "execution_count": 15,
      "outputs": [
        {
          "output_type": "execute_result",
          "data": {
            "text/plain": [
              "1550"
            ]
          },
          "metadata": {},
          "execution_count": 15
        }
      ]
    },
    {
      "cell_type": "code",
      "source": [
        "format(물고기를_팔고_난_후_캣의_통장, ',')"
      ],
      "metadata": {
        "colab": {
          "base_uri": "https://localhost:8080/",
          "height": 35
        },
        "id": "SIGNXo1f9SKt",
        "outputId": "7ec3793d-ebfb-4cf2-8ba2-f1da0f44ca6d"
      },
      "execution_count": 24,
      "outputs": [
        {
          "output_type": "execute_result",
          "data": {
            "text/plain": [
              "'1,046,500'"
            ],
            "application/vnd.google.colaboratory.intrinsic+json": {
              "type": "string"
            }
          },
          "metadata": {},
          "execution_count": 24
        }
      ]
    },
    {
      "cell_type": "code",
      "source": [
        "# 문제 2\n",
        "반지름 = 500\n",
        "고기가_잘_잡히는_반경 = (반지름 ** 2) * 3.14\n",
        "고기가_잘_잡히는_반경"
      ],
      "metadata": {
        "colab": {
          "base_uri": "https://localhost:8080/"
        },
        "id": "L_qW3-ME9brG",
        "outputId": "9cecd7aa-8479-47ee-d3c8-a17e704a95d5"
      },
      "execution_count": 19,
      "outputs": [
        {
          "output_type": "execute_result",
          "data": {
            "text/plain": [
              "785000.0"
            ]
          },
          "metadata": {},
          "execution_count": 19
        }
      ]
    },
    {
      "cell_type": "code",
      "source": [
        "# 문제 3\n",
        "\n",
        "물고기를_팔고_난_후_캣의_통장 += (고기가_잘_잡히는_반경 - 314) * 110 * 물고기의_가격\n",
        "format(int(물고기를_팔고_난_후_캣의_통장), ',')"
      ],
      "metadata": {
        "colab": {
          "base_uri": "https://localhost:8080/",
          "height": 35
        },
        "id": "9o80WoH3-GNH",
        "outputId": "4412fbfb-8ab2-48b7-d6cb-62d9e61bc301"
      },
      "execution_count": 26,
      "outputs": [
        {
          "output_type": "execute_result",
          "data": {
            "text/plain": [
              "'2,590,510,300'"
            ],
            "application/vnd.google.colaboratory.intrinsic+json": {
              "type": "string"
            }
          },
          "metadata": {},
          "execution_count": 26
        }
      ]
    },
    {
      "cell_type": "code",
      "source": [
        "# 문제 4\n",
        "\n",
        "# A등급은 350마리, B등급은 700마리\n",
        "문제4_물고기_등급 = {'A등급': 100, 'B등급': 50}\n",
        "문제4_잡은_물고기의_수 = {'A등급': 350, 'B등급': 700}\n",
        "\n",
        "문제4_총액_A등급 = 문제4_잡은_물고기의_수['A등급'] * 문제4_물고기_등급['A등급']\n",
        "문제4_총액_B등급 = 문제4_잡은_물고기의_수['B등급'] * 문제4_물고기_등급['B등급']\n",
        "문제4_총액 = 문제4_총액_A등급 + 문제4_총액_B등급\n",
        "\n",
        "문제4_비율 = {'A등급': 문제4_총액_A등급/70000*100, 'B등급': 문제4_총액_B등급/70000*100}\n",
        "문제4_비율"
      ],
      "metadata": {
        "colab": {
          "base_uri": "https://localhost:8080/"
        },
        "id": "oCj_0NXJ-0Cr",
        "outputId": "fadeab85-8ce2-4924-9c8d-03e8a6c5581c"
      },
      "execution_count": 30,
      "outputs": [
        {
          "output_type": "execute_result",
          "data": {
            "text/plain": [
              "{'A등급': 50.0, 'B등급': 50.0}"
            ]
          },
          "metadata": {},
          "execution_count": 30
        }
      ]
    },
    {
      "cell_type": "code",
      "source": [],
      "metadata": {
        "id": "HetXXA7QAUrA"
      },
      "execution_count": null,
      "outputs": []
    }
  ]
}