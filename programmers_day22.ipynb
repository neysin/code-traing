{
  "nbformat": 4,
  "nbformat_minor": 0,
  "metadata": {
    "colab": {
      "provenance": [],
      "authorship_tag": "ABX9TyOGm8/WgNofPnbqv6e/3mJ7",
      "include_colab_link": true
    },
    "kernelspec": {
      "name": "python3",
      "display_name": "Python 3"
    },
    "language_info": {
      "name": "python"
    }
  },
  "cells": [
    {
      "cell_type": "markdown",
      "metadata": {
        "id": "view-in-github",
        "colab_type": "text"
      },
      "source": [
        "<a href=\"https://colab.research.google.com/github/neysin/orm/blob/main/programmers_day22.ipynb\" target=\"_parent\"><img src=\"https://colab.research.google.com/assets/colab-badge.svg\" alt=\"Open In Colab\"/></a>"
      ]
    },
    {
      "cell_type": "markdown",
      "source": [
        "0 떼기"
      ],
      "metadata": {
        "id": "hB7LnJCZyduX"
      }
    },
    {
      "cell_type": "code",
      "execution_count": 8,
      "metadata": {
        "colab": {
          "base_uri": "https://localhost:8080/",
          "height": 36
        },
        "id": "o5P8B5iNvlUS",
        "outputId": "1ea6dab4-bc3d-4a72-c14b-17eb4de38a41"
      },
      "outputs": [
        {
          "output_type": "execute_result",
          "data": {
            "text/plain": [
              "'10'"
            ],
            "application/vnd.google.colaboratory.intrinsic+json": {
              "type": "string"
            }
          },
          "metadata": {},
          "execution_count": 8
        }
      ],
      "source": [
        "# 0 떼기\n",
        "def solution(n_str):\n",
        "    for _ in range(len(n_str)):\n",
        "        if n_str[0] == '0':\n",
        "            n_str = n_str[1:]\n",
        "        else:\n",
        "            return n_str\n",
        "\n",
        "\n",
        "\n",
        "n_str = \"0010\"\n",
        "solution(n_str)"
      ]
    },
    {
      "cell_type": "code",
      "source": [
        "# 그냥 strip 사용하면 됨.\n",
        "def solution(n_str):\n",
        "    return n_str.lstrip('0')"
      ],
      "metadata": {
        "id": "kFjG9iiKweeh"
      },
      "execution_count": null,
      "outputs": []
    },
    {
      "cell_type": "code",
      "source": [
        "# 두 수의 합\n",
        "def solution(a, b):\n",
        "    return str(int(a) + int(b))\n",
        "\n",
        "\n",
        "a = \"582\"\n",
        "b = \"734\"\n",
        "solution(a, b)"
      ],
      "metadata": {
        "colab": {
          "base_uri": "https://localhost:8080/",
          "height": 36
        },
        "id": "f5iFMBT0yfZj",
        "outputId": "9c064bc9-922f-4db4-8daa-7a7c936dc6bb"
      },
      "execution_count": 11,
      "outputs": [
        {
          "output_type": "execute_result",
          "data": {
            "text/plain": [
              "'1316'"
            ],
            "application/vnd.google.colaboratory.intrinsic+json": {
              "type": "string"
            }
          },
          "metadata": {},
          "execution_count": 11
        }
      ]
    },
    {
      "cell_type": "code",
      "source": [
        "# 문자열로 변환\n",
        "def solution(n):\n",
        "    return str(n)\n",
        "\n",
        "n = 123\n",
        "solution(n)"
      ],
      "metadata": {
        "colab": {
          "base_uri": "https://localhost:8080/",
          "height": 36
        },
        "id": "3B9czoe6yvVx",
        "outputId": "94b3ac8b-7129-4fd5-e6ea-39afe789b8eb"
      },
      "execution_count": 13,
      "outputs": [
        {
          "output_type": "execute_result",
          "data": {
            "text/plain": [
              "'123'"
            ],
            "application/vnd.google.colaboratory.intrinsic+json": {
              "type": "string"
            }
          },
          "metadata": {},
          "execution_count": 13
        }
      ]
    },
    {
      "cell_type": "code",
      "source": [
        "# 배열의 원소 삭제하기\n",
        "def solution(arr, delete_list):\n",
        "    for i in delete_list:\n",
        "        if i in arr:\n",
        "            arr.remove(i)\n",
        "\n",
        "    return arr\n",
        "\n",
        "arr = [293, 1000, 395, 678, 94]\n",
        "delete_list = [94, 777, 104, 1000, 1, 12]\n",
        "solution(arr, delete_list)"
      ],
      "metadata": {
        "colab": {
          "base_uri": "https://localhost:8080/"
        },
        "id": "KpSfFbHzzUt_",
        "outputId": "2af016ac-af44-4da8-dc04-b16864afe3b4"
      },
      "execution_count": 15,
      "outputs": [
        {
          "output_type": "execute_result",
          "data": {
            "text/plain": [
              "[293, 395, 678]"
            ]
          },
          "metadata": {},
          "execution_count": 15
        }
      ]
    },
    {
      "cell_type": "markdown",
      "source": [
        "부분 문자열인지 확인하기"
      ],
      "metadata": {
        "id": "gIsYjZk60Ogr"
      }
    },
    {
      "cell_type": "code",
      "source": [
        "# 부분 문자열인지 확인하기\n",
        "def solution(my_string, target):\n",
        "    if target in my_string:\n",
        "        return 1\n",
        "    else:\n",
        "        return 0\n",
        "\n",
        "my_string = \"banana\"\n",
        "target = \"ana\"\n",
        "solution(my_string, target)"
      ],
      "metadata": {
        "colab": {
          "base_uri": "https://localhost:8080/"
        },
        "id": "i48Vi61NzrZ6",
        "outputId": "687da0fb-faa6-4a82-ba2c-29bd5c6f4517"
      },
      "execution_count": 17,
      "outputs": [
        {
          "output_type": "execute_result",
          "data": {
            "text/plain": [
              "1"
            ]
          },
          "metadata": {},
          "execution_count": 17
        }
      ]
    },
    {
      "cell_type": "code",
      "source": [
        "# bool 값으로 결과를 반환, 코드가 깔끔해짐.\n",
        "def solution(my_string, target):\n",
        "    return int(target in my_string)"
      ],
      "metadata": {
        "id": "2Mksd5B60Bwu"
      },
      "execution_count": null,
      "outputs": []
    }
  ]
}