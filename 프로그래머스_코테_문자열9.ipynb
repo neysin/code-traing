{
  "nbformat": 4,
  "nbformat_minor": 0,
  "metadata": {
    "colab": {
      "provenance": [],
      "authorship_tag": "ABX9TyNePeIfQ00QlNPdDbkWl8yy",
      "include_colab_link": true
    },
    "kernelspec": {
      "name": "python3",
      "display_name": "Python 3"
    },
    "language_info": {
      "name": "python"
    }
  },
  "cells": [
    {
      "cell_type": "markdown",
      "metadata": {
        "id": "view-in-github",
        "colab_type": "text"
      },
      "source": [
        "<a href=\"https://colab.research.google.com/github/neysin/code-traing/blob/main/%ED%94%84%EB%A1%9C%EA%B7%B8%EB%9E%98%EB%A8%B8%EC%8A%A4_%EC%BD%94%ED%85%8C_%EB%AC%B8%EC%9E%90%EC%97%B49.ipynb\" target=\"_parent\"><img src=\"https://colab.research.google.com/assets/colab-badge.svg\" alt=\"Open In Colab\"/></a>"
      ]
    },
    {
      "cell_type": "markdown",
      "source": [
        "문자열 - level1 \\\n",
        "문자열 다루기 기본"
      ],
      "metadata": {
        "id": "g-hkeNBACmDt"
      }
    },
    {
      "cell_type": "code",
      "execution_count": 6,
      "metadata": {
        "colab": {
          "base_uri": "https://localhost:8080/"
        },
        "id": "vliRAsbnCibf",
        "outputId": "3db8135c-454c-46a2-8a8e-0db8e99d9053"
      },
      "outputs": [
        {
          "output_type": "execute_result",
          "data": {
            "text/plain": [
              "False"
            ]
          },
          "metadata": {},
          "execution_count": 6
        }
      ],
      "source": [
        "def solution(s):\n",
        "    import re\n",
        "    if len(s) in {4, 6} and re.match('^\\d*$', s): # set으로 길이 판별 -> set이 시간복잡도 측면에서 가장 빠름\n",
        "        return True\n",
        "    else: return False\n",
        "\n",
        "s = \"a234\"\n",
        "solution(s)"
      ]
    },
    {
      "cell_type": "code",
      "source": [
        "def solution(s):\n",
        "    import re\n",
        "    return bool(re.match('^(/d{4})|(/d{6})$', s)) # 정규표현식의 그룹화를 사용하여 문자열의 길이를 같이 판별\n",
        "\n",
        "s = \"a234\"\n",
        "solution(s)"
      ],
      "metadata": {
        "colab": {
          "base_uri": "https://localhost:8080/"
        },
        "id": "wesuP7O7DLh9",
        "outputId": "de728ea6-056d-4c7d-ad71-1dd4964bafbd"
      },
      "execution_count": 7,
      "outputs": [
        {
          "output_type": "execute_result",
          "data": {
            "text/plain": [
              "False"
            ]
          },
          "metadata": {},
          "execution_count": 7
        }
      ]
    },
    {
      "cell_type": "code",
      "source": [
        "def solution(s):\n",
        "    return s.isdigit() and len(s) in [4,6] # 숫자로만 포함되어 있는지를 판별하는 isdigit을 사용\n",
        "\n",
        "s = \"a234\"\n",
        "solution(s)"
      ],
      "metadata": {
        "colab": {
          "base_uri": "https://localhost:8080/"
        },
        "id": "F9syINHbHB3s",
        "outputId": "0bfb3d4f-1ad4-4ac7-d7ef-c04eab39f951"
      },
      "execution_count": 8,
      "outputs": [
        {
          "output_type": "execute_result",
          "data": {
            "text/plain": [
              "False"
            ]
          },
          "metadata": {},
          "execution_count": 8
        }
      ]
    }
  ]
}