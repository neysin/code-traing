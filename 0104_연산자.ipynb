{
  "nbformat": 4,
  "nbformat_minor": 0,
  "metadata": {
    "colab": {
      "provenance": [],
      "authorship_tag": "ABX9TyONtOc/zX3MppjtZ4fhERy5",
      "include_colab_link": true
    },
    "kernelspec": {
      "name": "python3",
      "display_name": "Python 3"
    },
    "language_info": {
      "name": "python"
    }
  },
  "cells": [
    {
      "cell_type": "markdown",
      "metadata": {
        "id": "view-in-github",
        "colab_type": "text"
      },
      "source": [
        "<a href=\"https://colab.research.google.com/github/neysin/orm/blob/main/0104_%EC%97%B0%EC%82%B0%EC%9E%90.ipynb\" target=\"_parent\"><img src=\"https://colab.research.google.com/assets/colab-badge.svg\" alt=\"Open In Colab\"/></a>"
      ]
    },
    {
      "cell_type": "markdown",
      "source": [
        "# 1. 논리연산"
      ],
      "metadata": {
        "id": "bn9pmI5R6Vgh"
      }
    },
    {
      "cell_type": "markdown",
      "source": [],
      "metadata": {
        "id": "R63AEWCFBInZ"
      }
    },
    {
      "cell_type": "code",
      "source": [
        "def test1():\n",
        "    print(\"test1 함수 호출!\") # test1 호출 후 False 출력\n",
        "    return False\n",
        "\n",
        "def test2():\n",
        "    print(\"test2 함수 호출!\") # 따라서 test2는 무시\n",
        "    return True\n",
        "\n",
        "result = test1() and test2() # test1이 False 이므로 test2 결과는 무시\n",
        "print(result) # 결과: False"
      ],
      "metadata": {
        "colab": {
          "base_uri": "https://localhost:8080/"
        },
        "id": "-Ik_bsXuAziN",
        "outputId": "d0b4d686-9f18-42f7-c28b-82a3fc95eac6"
      },
      "execution_count": 8,
      "outputs": [
        {
          "output_type": "stream",
          "name": "stdout",
          "text": [
            "test1 함수 호출!\n",
            "False\n"
          ]
        }
      ]
    },
    {
      "cell_type": "markdown",
      "source": [
        "# 2. 할당연산자"
      ],
      "metadata": {
        "id": "mLnqShEJDygR"
      }
    },
    {
      "cell_type": "code",
      "source": [
        "x = 5\n",
        "y = 2\n",
        "z = 10\n",
        "\n",
        "x_1 = x + y * z\n",
        "x += y * z  # y * z 연산 후 x에 값을 할당합니다.\n",
        "print(x_1)  # 결과: 25\n",
        "print(x)"
      ],
      "metadata": {
        "colab": {
          "base_uri": "https://localhost:8080/"
        },
        "id": "5xSq-KgbEs0b",
        "outputId": "63a88588-d0c2-472d-df25-68e14b7308c1"
      },
      "execution_count": 10,
      "outputs": [
        {
          "output_type": "stream",
          "name": "stdout",
          "text": [
            "25\n",
            "25\n"
          ]
        }
      ]
    },
    {
      "cell_type": "code",
      "source": [
        "coffee_employee = \"Brand\"\n",
        "orange_employee = \"Brand\"\n",
        "\n",
        "print(coffee_employee is orange_employee)\n",
        "print(coffee_employee == orange_employee)"
      ],
      "metadata": {
        "colab": {
          "base_uri": "https://localhost:8080/"
        },
        "id": "uRI_Tw1XE4pN",
        "outputId": "4ce0bee2-8fab-4777-e935-d0f7edf0a026"
      },
      "execution_count": 11,
      "outputs": [
        {
          "output_type": "stream",
          "name": "stdout",
          "text": [
            "True\n",
            "True\n"
          ]
        }
      ]
    },
    {
      "cell_type": "code",
      "source": [
        "coffee_employee = -6\n",
        "orange_employee = -6\n",
        "\n",
        "print(coffee_employee is orange_employee)\n",
        "print(coffee_employee == orange_employee) # id 값 불일치"
      ],
      "metadata": {
        "colab": {
          "base_uri": "https://localhost:8080/"
        },
        "id": "prt8_Ar6INgQ",
        "outputId": "ba16e88e-8384-4916-fccd-905baba404a9"
      },
      "execution_count": 12,
      "outputs": [
        {
          "output_type": "stream",
          "name": "stdout",
          "text": [
            "False\n",
            "True\n"
          ]
        }
      ]
    },
    {
      "cell_type": "markdown",
      "source": [
        "# 3. 식별연산자"
      ],
      "metadata": {
        "id": "uKDKv0EeIQT4"
      }
    },
    {
      "cell_type": "code",
      "source": [
        "# 2. 예시 2\n",
        "\n",
        "a = [1, 2, 3] # 리스트 형인 [1,2,3]\n",
        "b = [1, 2, 3]\n",
        "c = a # 리스트 형인 [1,2,3]을 a에 있는 것을 재할당\n",
        "\n",
        "print('a == b', a == b)\n",
        "print('a == c', a == c)\n",
        "print('a is b', a is b)\n",
        "print('a is c', a is c)"
      ],
      "metadata": {
        "colab": {
          "base_uri": "https://localhost:8080/"
        },
        "id": "GGzQjMb_I1Fe",
        "outputId": "a64c5b08-0d55-4b82-eea6-f9b8b5f52d0a"
      },
      "execution_count": 13,
      "outputs": [
        {
          "output_type": "stream",
          "name": "stdout",
          "text": [
            "a == b True\n",
            "a == c True\n",
            "a is b False\n",
            "a is c True\n"
          ]
        }
      ]
    },
    {
      "cell_type": "code",
      "source": [
        "print(id(a), id(b), id(c))"
      ],
      "metadata": {
        "colab": {
          "base_uri": "https://localhost:8080/"
        },
        "id": "Y4NqqidYJF3j",
        "outputId": "4942e6d4-57ea-4157-e24f-708111ff640a"
      },
      "execution_count": 14,
      "outputs": [
        {
          "output_type": "stream",
          "name": "stdout",
          "text": [
            "139976314061696 139976090833472 139976314061696\n"
          ]
        }
      ]
    },
    {
      "cell_type": "markdown",
      "source": [
        "# 4. 멤버연산"
      ],
      "metadata": {
        "id": "_Q-EfKfwJik0"
      }
    },
    {
      "cell_type": "code",
      "source": [
        "a = [1, 2, 3, 4]\n",
        "b = [1, 2, 3, 4]\n",
        "c = 'hello world'\n",
        "\n",
        "print(1 in a) # 출력: True\n",
        "print(0 not in a) # 출력: True\n",
        "print([2] in b) # 출력: False\n",
        "print([1, 2] in b) # 출력: False\n",
        "print('h' in c) # 출력: True\n",
        "print('hello ' in c) # 출력: True"
      ],
      "metadata": {
        "id": "pJCRULUcQIFi"
      },
      "execution_count": null,
      "outputs": []
    },
    {
      "cell_type": "code",
      "source": [
        "print(1 in a) # 출력: True"
      ],
      "metadata": {
        "colab": {
          "base_uri": "https://localhost:8080/"
        },
        "id": "Iq5a-rIyQTZW",
        "outputId": "eaa2f5a5-49e6-4096-d17a-a212e7fa5bd4"
      },
      "execution_count": 15,
      "outputs": [
        {
          "output_type": "stream",
          "name": "stdout",
          "text": [
            "True\n"
          ]
        }
      ]
    },
    {
      "cell_type": "code",
      "source": [
        "print(0 not in a) # 출력: True"
      ],
      "metadata": {
        "colab": {
          "base_uri": "https://localhost:8080/"
        },
        "id": "AJRxF-zxQUAE",
        "outputId": "9ef21662-2a33-416d-e3b8-abd3bef05f84"
      },
      "execution_count": 16,
      "outputs": [
        {
          "output_type": "stream",
          "name": "stdout",
          "text": [
            "True\n"
          ]
        }
      ]
    },
    {
      "cell_type": "code",
      "source": [
        "print([2] in b) # 출력: False"
      ],
      "metadata": {
        "colab": {
          "base_uri": "https://localhost:8080/"
        },
        "id": "EGcdGOJ1QYCE",
        "outputId": "53f552b0-9b7e-474d-b5d0-15c5610380ab"
      },
      "execution_count": 17,
      "outputs": [
        {
          "output_type": "stream",
          "name": "stdout",
          "text": [
            "False\n"
          ]
        }
      ]
    },
    {
      "cell_type": "code",
      "source": [
        "# 자료형태를 잘 파악해서 in 을 사용해야 한다\n",
        "a_1 = [[1,2], 3, 4]\n",
        "# 리스트 안에 있는 값은 정수형 1, 3, 4 / 리스트형\n",
        "print([2] in a_1)\n",
        "print([1,2] in a_1)"
      ],
      "metadata": {
        "colab": {
          "base_uri": "https://localhost:8080/"
        },
        "id": "u5DEnNFuQZ0U",
        "outputId": "a8b4a8b9-7c01-407f-c042-7192e08b7824"
      },
      "execution_count": 21,
      "outputs": [
        {
          "output_type": "stream",
          "name": "stdout",
          "text": [
            "False\n",
            "True\n"
          ]
        }
      ]
    },
    {
      "cell_type": "code",
      "source": [
        "print([1, 2] in b) # 출력: False"
      ],
      "metadata": {
        "colab": {
          "base_uri": "https://localhost:8080/"
        },
        "id": "ZUVY-UjnQ6uP",
        "outputId": "11998f57-87eb-4f54-b1ee-9c7ec1122130"
      },
      "execution_count": 18,
      "outputs": [
        {
          "output_type": "stream",
          "name": "stdout",
          "text": [
            "False\n"
          ]
        }
      ]
    },
    {
      "cell_type": "markdown",
      "source": [
        "# 5. 연산자 순서"
      ],
      "metadata": {
        "id": "Z6zSXsP3SVZU"
      }
    },
    {
      "cell_type": "code",
      "source": [
        "-2 ** 2 # 출력: -4, -(2 ** 2)"
      ],
      "metadata": {
        "colab": {
          "base_uri": "https://localhost:8080/"
        },
        "id": "ZwZQK0jwSXiK",
        "outputId": "ea37cc66-97b2-4480-e68f-3170d356f32a"
      },
      "execution_count": 22,
      "outputs": [
        {
          "output_type": "execute_result",
          "data": {
            "text/plain": [
              "-4"
            ]
          },
          "metadata": {},
          "execution_count": 22
        }
      ]
    },
    {
      "cell_type": "code",
      "source": [
        "(-2) ** 2"
      ],
      "metadata": {
        "colab": {
          "base_uri": "https://localhost:8080/"
        },
        "id": "KcQYrKOiSY8j",
        "outputId": "18d76afd-e7af-4a36-ff10-170c53c682de"
      },
      "execution_count": 23,
      "outputs": [
        {
          "output_type": "execute_result",
          "data": {
            "text/plain": [
              "4"
            ]
          },
          "metadata": {},
          "execution_count": 23
        }
      ]
    },
    {
      "cell_type": "code",
      "source": [
        "True * True and True + False # 출력: 1 , ((True * True) and (True + False))"
      ],
      "metadata": {
        "colab": {
          "base_uri": "https://localhost:8080/"
        },
        "id": "mqvFuSxqShGL",
        "outputId": "21d67542-fb18-4c96-e519-c3f23214712f"
      },
      "execution_count": 24,
      "outputs": [
        {
          "output_type": "execute_result",
          "data": {
            "text/plain": [
              "1"
            ]
          },
          "metadata": {},
          "execution_count": 24
        }
      ]
    },
    {
      "cell_type": "markdown",
      "source": [
        "# 6. 연습문제"
      ],
      "metadata": {
        "id": "Glvb5q2gSmkk"
      }
    },
    {
      "cell_type": "code",
      "source": [
        "# 1번\n",
        "\n",
        "a = 100\n",
        "print((a > 100) and (a < 200)) # F\n",
        "print((a > 100) or (a < 200))  # T\n",
        "print((a >= 100) and (a <= 200)) # T\n",
        "print((a >= 100) or (a <= 200)) # T"
      ],
      "metadata": {
        "colab": {
          "base_uri": "https://localhost:8080/"
        },
        "id": "bAFQO0yxWsip",
        "outputId": "1b733058-b99d-4696-e44e-cd2f5845b417"
      },
      "execution_count": 33,
      "outputs": [
        {
          "output_type": "stream",
          "name": "stdout",
          "text": [
            "False\n",
            "True\n",
            "True\n",
            "True\n"
          ]
        }
      ]
    },
    {
      "cell_type": "code",
      "source": [
        "# 2번\n",
        "\n",
        "b = 25\n",
        "(b % 2 == 0) and (b % 5 == 0) # F"
      ],
      "metadata": {
        "colab": {
          "base_uri": "https://localhost:8080/"
        },
        "id": "oskGWi_2bcJp",
        "outputId": "8b8a9777-ae71-4166-e404-a13683b4b9ac"
      },
      "execution_count": 34,
      "outputs": [
        {
          "output_type": "execute_result",
          "data": {
            "text/plain": [
              "False"
            ]
          },
          "metadata": {},
          "execution_count": 34
        }
      ]
    },
    {
      "cell_type": "code",
      "source": [
        "# 3번\n",
        "\n",
        "c = 1000\n",
        "result = c / 100\n",
        "print(result)"
      ],
      "metadata": {
        "colab": {
          "base_uri": "https://localhost:8080/"
        },
        "id": "MVE6o2h1XFjk",
        "outputId": "bf82ae25-8b18-4317-bd93-2521bd20fe18"
      },
      "execution_count": 26,
      "outputs": [
        {
          "output_type": "stream",
          "name": "stdout",
          "text": [
            "10.0\n"
          ]
        }
      ]
    },
    {
      "cell_type": "code",
      "source": [
        "# 4번\n",
        "# 입력한 금액을 각각 금액으로 몇개가 나오는지 계산\n",
        "\n",
        "금액 = float(input())\n",
        "a = int(금액/5000)\n",
        "b = int(금액/1000)\n",
        "c = int(금액/500)\n",
        "d = int(금액/100)\n",
        "print(f'5000원권 : {a}개, 1000원권 : {b}개, 500원 : {c}개, 100원 : {d}개')"
      ],
      "metadata": {
        "colab": {
          "base_uri": "https://localhost:8080/"
        },
        "id": "4UGPtm4FXOIr",
        "outputId": "a94d350b-0e28-4bb3-c4e8-b64f0d8cc0df"
      },
      "execution_count": 28,
      "outputs": [
        {
          "output_type": "stream",
          "name": "stdout",
          "text": [
            "5000\n",
            "5000원권 : 1개, 1000원권 : 5개, 500원 : 10개, 100원 : 50개\n"
          ]
        }
      ]
    },
    {
      "cell_type": "code",
      "source": [
        "# 입력한 금액이 각각 금액들로 나누어 몇개가 나오는지 계산\n",
        "\n",
        "금액 = float(input())\n",
        "a = int(금액/5000) # 5000원\n",
        "b = int((금액-5000*a)/1000) # 1000원\n",
        "c = int((금액-5000*a-1000*b)/500) # 500원\n",
        "d = int((금액-5000*a-1000*b-500*c)/100) # 100원\n",
        "print(f'5000원권 : {a}개, 1000원권 : {b}개, 500원 : {c}개, 100원 : {d}개')"
      ],
      "metadata": {
        "colab": {
          "base_uri": "https://localhost:8080/"
        },
        "id": "53xM0YFSYBIQ",
        "outputId": "4282b985-3067-4ea7-e684-668480f90ed2"
      },
      "execution_count": 30,
      "outputs": [
        {
          "output_type": "stream",
          "name": "stdout",
          "text": [
            "12300\n",
            "5000원권 : 2개, 1000원권 : 2개, 500원 : 0개, 100원 : 3개\n"
          ]
        }
      ]
    },
    {
      "cell_type": "code",
      "source": [
        "# 5번\n",
        "\n",
        "# 제품의 원가와 할인률 입력\n",
        "원가 = float(input())\n",
        "할인률 = float(input())\n",
        "할인된_가격 = 원가 - 원가*(할인률/100) # 할인된 후의 가격 출력\n",
        "print(f'할인된 가격은 {할인된_가격}입니다.')\n",
        "\n"
      ],
      "metadata": {
        "colab": {
          "base_uri": "https://localhost:8080/"
        },
        "id": "mH-DX6uXeuXA",
        "outputId": "6e9d9690-efa1-4690-9291-df09d09a78b4"
      },
      "execution_count": 39,
      "outputs": [
        {
          "output_type": "stream",
          "name": "stdout",
          "text": [
            "10000\n",
            "20\n",
            "할인된 가격은 8000.0입니다.\n"
          ]
        }
      ]
    },
    {
      "cell_type": "code",
      "source": [
        "# 6번\n",
        "\n",
        "이름 = input()\n",
        "나이 = int(input())\n",
        "\n",
        "내년_나이 = 나이 + 1\n",
        "이름의_길이 = len(이름)\n",
        "성인_여부_판단 = 내년_나이 >= 18\n",
        "\n",
        "print(f'내년 나이 = {내년_나이}세')\n",
        "print(f'이름의 길이 = {이름의_길이}')\n",
        "print(f'성인 여부 판단 = {성인_여부_판단}')\n",
        "\n"
      ],
      "metadata": {
        "colab": {
          "base_uri": "https://localhost:8080/"
        },
        "id": "g-0plwIrfXpB",
        "outputId": "664c1ddf-b418-4256-c66b-f651c463966c"
      },
      "execution_count": 38,
      "outputs": [
        {
          "output_type": "stream",
          "name": "stdout",
          "text": [
            "안효준\n",
            "18\n",
            "내년 나이 = 19\n",
            "이름의 길이 = 3\n",
            "성인 여부 판단 = True\n"
          ]
        }
      ]
    },
    {
      "cell_type": "code",
      "source": [],
      "metadata": {
        "id": "FClSlDeahlBI"
      },
      "execution_count": null,
      "outputs": []
    }
  ]
}