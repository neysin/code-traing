{
  "nbformat": 4,
  "nbformat_minor": 0,
  "metadata": {
    "colab": {
      "provenance": [],
      "authorship_tag": "ABX9TyPUFb88EDzGwehl4zEbqXna",
      "include_colab_link": true
    },
    "kernelspec": {
      "name": "python3",
      "display_name": "Python 3"
    },
    "language_info": {
      "name": "python"
    }
  },
  "cells": [
    {
      "cell_type": "markdown",
      "metadata": {
        "id": "view-in-github",
        "colab_type": "text"
      },
      "source": [
        "<a href=\"https://colab.research.google.com/github/neysin/orm/blob/main/0121_for.ipynb\" target=\"_parent\"><img src=\"https://colab.research.google.com/assets/colab-badge.svg\" alt=\"Open In Colab\"/></a>"
      ]
    },
    {
      "cell_type": "markdown",
      "source": [
        "# for"
      ],
      "metadata": {
        "id": "5C3ie-GQUhMv"
      }
    },
    {
      "cell_type": "code",
      "execution_count": 1,
      "metadata": {
        "id": "6RYZs-WhLanj"
      },
      "outputs": [],
      "source": [
        "이름 = '캣'\n",
        "설명 = '위니브 월드에서 가장 급성장하는 생선회사 대표 캣'\n",
        "나이 = 19\n",
        "오늘_잡은_물고기 = '100000'\n",
        "직원수 = 4\n",
        "키 = '45.9cm'\n",
        "몸무게 = 1.6\n",
        "잡식 = True\n",
        "돈 = 1100000\n",
        "훈장 = ['백상아리를 잡은 고양이', '성실한 납세자', '해골섬 낚시꾼', '청년 고용 착한 기업', '회사를 설립한 자']\n",
        "기술 = ['고기잡이', '고기팔기', '낚시_Lv5', '통발_Lv5', '큰그물_Lv5']"
      ]
    },
    {
      "cell_type": "code",
      "source": [
        "for x in (1, 2, 3, 4, 5):\n",
        "    print(f'고등어 포장{x}번째 입니다.')"
      ],
      "metadata": {
        "colab": {
          "base_uri": "https://localhost:8080/"
        },
        "id": "hl4iuLq_NDV5",
        "outputId": "608eb409-d62c-4bd8-f128-646dd0b508a4"
      },
      "execution_count": 2,
      "outputs": [
        {
          "output_type": "stream",
          "name": "stdout",
          "text": [
            "고등어 포장1번째 입니다.\n",
            "고등어 포장2번째 입니다.\n",
            "고등어 포장3번째 입니다.\n",
            "고등어 포장4번째 입니다.\n",
            "고등어 포장5번째 입니다.\n"
          ]
        }
      ]
    },
    {
      "cell_type": "code",
      "source": [
        "for x in [1, 2, 3, 4, 5]:\n",
        "    print(f'고등어 포장{x}번째 입니다.')"
      ],
      "metadata": {
        "colab": {
          "base_uri": "https://localhost:8080/"
        },
        "id": "rZMwYgtZNK7K",
        "outputId": "ad6c0097-f8bb-4881-dce2-606f7593fd29"
      },
      "execution_count": 3,
      "outputs": [
        {
          "output_type": "stream",
          "name": "stdout",
          "text": [
            "고등어 포장1번째 입니다.\n",
            "고등어 포장2번째 입니다.\n",
            "고등어 포장3번째 입니다.\n",
            "고등어 포장4번째 입니다.\n",
            "고등어 포장5번째 입니다.\n"
          ]
        }
      ]
    },
    {
      "cell_type": "code",
      "source": [
        "for x in '1, 2, 3, 4, 5':\n",
        "    print(f'고등어 포장{x}번째 입니다.')"
      ],
      "metadata": {
        "colab": {
          "base_uri": "https://localhost:8080/"
        },
        "id": "jcyLu3HwNSoM",
        "outputId": "beb874d8-078f-46eb-bd85-1f70110b8e20"
      },
      "execution_count": 4,
      "outputs": [
        {
          "output_type": "stream",
          "name": "stdout",
          "text": [
            "고등어 포장1번째 입니다.\n",
            "고등어 포장,번째 입니다.\n",
            "고등어 포장 번째 입니다.\n",
            "고등어 포장2번째 입니다.\n",
            "고등어 포장,번째 입니다.\n",
            "고등어 포장 번째 입니다.\n",
            "고등어 포장3번째 입니다.\n",
            "고등어 포장,번째 입니다.\n",
            "고등어 포장 번째 입니다.\n",
            "고등어 포장4번째 입니다.\n",
            "고등어 포장,번째 입니다.\n",
            "고등어 포장 번째 입니다.\n",
            "고등어 포장5번째 입니다.\n"
          ]
        }
      ]
    },
    {
      "cell_type": "code",
      "source": [
        "왕국 = '위니브 월드'\n",
        "for a in 왕국:\n",
        "    print(a)\n",
        "    print('----------')"
      ],
      "metadata": {
        "colab": {
          "base_uri": "https://localhost:8080/"
        },
        "id": "KzBdwJoxNVal",
        "outputId": "feaf1f8e-13a4-4a79-a4ca-b0735566f15f"
      },
      "execution_count": 5,
      "outputs": [
        {
          "output_type": "stream",
          "name": "stdout",
          "text": [
            "위\n",
            "----------\n",
            "니\n",
            "----------\n",
            "브\n",
            "----------\n",
            " \n",
            "----------\n",
            "월\n",
            "----------\n",
            "드\n",
            "----------\n"
          ]
        }
      ]
    },
    {
      "cell_type": "code",
      "source": [
        "왕국 = '위니브 월드'\n",
        "for a in 왕국:\n",
        "    print(a)\n",
        "print('----------')"
      ],
      "metadata": {
        "colab": {
          "base_uri": "https://localhost:8080/"
        },
        "id": "YVOZSkpWNlL9",
        "outputId": "ae6251e1-1b0d-4ba6-dcf7-054b5477f10e"
      },
      "execution_count": 6,
      "outputs": [
        {
          "output_type": "stream",
          "name": "stdout",
          "text": [
            "위\n",
            "니\n",
            "브\n",
            " \n",
            "월\n",
            "드\n",
            "----------\n"
          ]
        }
      ]
    },
    {
      "cell_type": "code",
      "source": [
        "기술 = ['고기잡이', '고기팔기', '낚시_Lv5', '통발_Lv5', '큰그물_Lv5']\n",
        "for a in 기술:\n",
        "    print(a)\n",
        "    print(a[0:2])"
      ],
      "metadata": {
        "colab": {
          "base_uri": "https://localhost:8080/"
        },
        "id": "qy_KbkQUNm6N",
        "outputId": "23a0b357-9319-4a3e-9f6c-0bb633fd6a95"
      },
      "execution_count": 7,
      "outputs": [
        {
          "output_type": "stream",
          "name": "stdout",
          "text": [
            "고기잡이\n",
            "고기\n",
            "고기팔기\n",
            "고기\n",
            "낚시_Lv5\n",
            "낚시\n",
            "통발_Lv5\n",
            "통발\n",
            "큰그물_Lv5\n",
            "큰그\n"
          ]
        }
      ]
    },
    {
      "cell_type": "code",
      "source": [
        "기술 = ['낚시_Lv5', '통발_Lv5', '큰그물_Lv5']\n",
        "for a in 기술:\n",
        "    print(a)\n",
        "    print(a[:-4])\n",
        "    print(a[:a.find('_')])\n",
        "    print('-------')"
      ],
      "metadata": {
        "colab": {
          "base_uri": "https://localhost:8080/"
        },
        "id": "ipb0CB_5Nyh2",
        "outputId": "06e219a4-a821-4bb8-c459-ede518e53592"
      },
      "execution_count": 13,
      "outputs": [
        {
          "output_type": "stream",
          "name": "stdout",
          "text": [
            "낚시_Lv5\n",
            "낚시\n",
            "낚시\n",
            "-------\n",
            "통발_Lv5\n",
            "통발\n",
            "통발\n",
            "-------\n",
            "큰그물_Lv5\n",
            "큰그물\n",
            "큰그물\n",
            "-------\n"
          ]
        }
      ]
    },
    {
      "cell_type": "code",
      "source": [
        "캣의_상태창 = {\n",
        "    '이름': '캣',\n",
        "    '설명': '위니브 월드에서 가장 급성장하는 생선회사 대표 캣',\n",
        "    '나이': '19',\n",
        "    '키': '45.9cm',\n",
        "    '몸무게': 1.6\n",
        "}\n",
        "\n",
        "for a in 캣의_상태창:\n",
        "    print(a, 캣의_상태창[a])"
      ],
      "metadata": {
        "colab": {
          "base_uri": "https://localhost:8080/"
        },
        "id": "mjDia1b4N-W3",
        "outputId": "ef80ac16-8ad9-4265-a89e-260c3fd0c443"
      },
      "execution_count": 20,
      "outputs": [
        {
          "output_type": "stream",
          "name": "stdout",
          "text": [
            "이름 캣\n",
            "설명 위니브 월드에서 가장 급성장하는 생선회사 대표 캣\n",
            "나이 19\n",
            "키 45.9cm\n",
            "몸무게 1.6\n"
          ]
        }
      ]
    },
    {
      "cell_type": "code",
      "source": [
        "for a, b in 캣의_상태창.items():\n",
        "    print(f'{a}: {b}')"
      ],
      "metadata": {
        "colab": {
          "base_uri": "https://localhost:8080/"
        },
        "id": "jSD0eHxoO1DC",
        "outputId": "b74a4601-d689-49e1-834d-6a48d06fa791"
      },
      "execution_count": 21,
      "outputs": [
        {
          "output_type": "stream",
          "name": "stdout",
          "text": [
            "이름: 캣\n",
            "설명: 위니브 월드에서 가장 급성장하는 생선회사 대표 캣\n",
            "나이: 19\n",
            "키: 45.9cm\n",
            "몸무게: 1.6\n"
          ]
        }
      ]
    },
    {
      "cell_type": "code",
      "source": [
        "for a in 캣의_상태창.items():\n",
        "    print(f'{a[0]}: {a[1]}')"
      ],
      "metadata": {
        "colab": {
          "base_uri": "https://localhost:8080/"
        },
        "id": "sBJvc9xPPjFa",
        "outputId": "79a01339-220a-4904-d11c-db69cfb8bb86"
      },
      "execution_count": 22,
      "outputs": [
        {
          "output_type": "stream",
          "name": "stdout",
          "text": [
            "이름: 캣\n",
            "설명: 위니브 월드에서 가장 급성장하는 생선회사 대표 캣\n",
            "나이: 19\n",
            "키: 45.9cm\n",
            "몸무게: 1.6\n"
          ]
        }
      ]
    },
    {
      "cell_type": "code",
      "source": [
        "# range(start, stop, step)\n",
        "\n",
        "print(list(range(2, 10, 2)))\n",
        "print(list(range(10)))\n",
        "print(list(range(5, 0, -1)))\n",
        "print(list(range(2, 10)))\n"
      ],
      "metadata": {
        "colab": {
          "base_uri": "https://localhost:8080/"
        },
        "id": "6WhWUNO1PsbE",
        "outputId": "4d50ab32-00c0-4858-ff18-1ba0c6468018"
      },
      "execution_count": 27,
      "outputs": [
        {
          "output_type": "stream",
          "name": "stdout",
          "text": [
            "[2, 4, 6, 8]\n",
            "[0, 1, 2, 3, 4, 5, 6, 7, 8, 9]\n",
            "[5, 4, 3, 2, 1]\n",
            "[2, 3, 4, 5, 6, 7, 8, 9]\n"
          ]
        }
      ]
    },
    {
      "cell_type": "code",
      "source": [
        "## for, else\n",
        "\n",
        "for i in range(5):\n",
        "    print(f'{i}마리의 물고기를 잡았습니다.')\n",
        "    if i == 10:\n",
        "        print('배가 다 찼습니다.')\n",
        "        break\n",
        "else:\n",
        "    print('아직 여유가 좀 있지만, 물고기가 더 없는 것 같이니 이정도로 만족하고 돌아갑시다.')\n",
        "print('수고하셨습니다.')"
      ],
      "metadata": {
        "colab": {
          "base_uri": "https://localhost:8080/"
        },
        "id": "tpWl78EIP7CW",
        "outputId": "814f8e76-20e9-4401-9c6b-d7be080b5e34"
      },
      "execution_count": 30,
      "outputs": [
        {
          "output_type": "stream",
          "name": "stdout",
          "text": [
            "0마리의 물고기를 잡았습니다.\n",
            "1마리의 물고기를 잡았습니다.\n",
            "2마리의 물고기를 잡았습니다.\n",
            "3마리의 물고기를 잡았습니다.\n",
            "4마리의 물고기를 잡았습니다.\n",
            "아직 여유가 좀 있지만, 물고기가 더 없는 것 같이니 이정도로 만족하고 돌아갑시다.\n",
            "수고하셨습니다.\n"
          ]
        }
      ]
    },
    {
      "cell_type": "code",
      "source": [
        "## list comprehension\n",
        "\n",
        "l = []\n",
        "\n",
        "for i in range(1, 101):\n",
        "    l.append(i)\n",
        "l\n",
        "\n",
        "ll = [i for i in range(1, 101)]\n",
        "ll"
      ],
      "metadata": {
        "id": "eGJNmhwGQskv"
      },
      "execution_count": null,
      "outputs": []
    },
    {
      "cell_type": "code",
      "source": [
        "for i in range(2, 10):\n",
        "    for j in range(1, 10):\n",
        "        print(f'{i} X {j} = {i*j}')"
      ],
      "metadata": {
        "id": "g06vFxFNRLm0"
      },
      "execution_count": null,
      "outputs": []
    },
    {
      "cell_type": "code",
      "source": [
        "l = [f'{i} X {j} = {i*j}' for i in range(2,10) for j in range(1,10)]\n",
        "l"
      ],
      "metadata": {
        "id": "vZmqNeT9Ro_8"
      },
      "execution_count": null,
      "outputs": []
    },
    {
      "cell_type": "code",
      "source": [
        "# 다중 리스트 for문\n",
        "\n",
        "skill = [\n",
        "    ('고기잡이', 100, 'SS'),\n",
        "    ('고기팔기', 120, 'SSS'),\n",
        "    ('낚시', 5, 'C'),\n",
        "    ('통발', 5, 'C'),\n",
        "    ('큰그물', 5, 'C')\n",
        "]\n",
        "\n",
        "for skillName, skillLevel, skillGrade in skill:\n",
        "    print(skillName, skillLevel, skillGrade)"
      ],
      "metadata": {
        "colab": {
          "base_uri": "https://localhost:8080/"
        },
        "id": "C44LeUSIR3lE",
        "outputId": "d46d13a3-8ae1-4702-9039-e02ed9fd5dbb"
      },
      "execution_count": 43,
      "outputs": [
        {
          "output_type": "stream",
          "name": "stdout",
          "text": [
            "고기잡이 100 SS\n",
            "고기팔기 120 SSS\n",
            "낚시 5 C\n",
            "통발 5 C\n",
            "큰그물 5 C\n"
          ]
        }
      ]
    },
    {
      "cell_type": "code",
      "source": [
        "# enumerate\n",
        "\n",
        "skill = [\n",
        "    ('고기잡이', 100, 'SS'),\n",
        "    ('고기팔기', 120, 'SSS'),\n",
        "    ('낚시', 5, 'C'),\n",
        "    ('통발', 5, 'C'),\n",
        "    ('큰그물', 5, 'C')\n",
        "]\n",
        "\n",
        "for i, (skillName, skillLevel, skillGrade) in enumerate(skill):\n",
        "    print(i, skillName, skillLevel, skillGrade)\n",
        "\n",
        "for i, j in enumerate(skill, 100):\n",
        "    print(i, j)"
      ],
      "metadata": {
        "colab": {
          "base_uri": "https://localhost:8080/"
        },
        "id": "GTOMdYTiSRxu",
        "outputId": "2920e309-73f3-40e0-d098-b49749431f78"
      },
      "execution_count": 47,
      "outputs": [
        {
          "output_type": "stream",
          "name": "stdout",
          "text": [
            "0 고기잡이 100 SS\n",
            "1 고기팔기 120 SSS\n",
            "2 낚시 5 C\n",
            "3 통발 5 C\n",
            "4 큰그물 5 C\n",
            "100 ('고기잡이', 100, 'SS')\n",
            "101 ('고기팔기', 120, 'SSS')\n",
            "102 ('낚시', 5, 'C')\n",
            "103 ('통발', 5, 'C')\n",
            "104 ('큰그물', 5, 'C')\n"
          ]
        }
      ]
    },
    {
      "cell_type": "code",
      "source": [
        "for i in range(5):\n",
        "    num = int(input('고등어 몇 개를 구매하실 건가요?'))\n",
        "    result = num * 5000\n",
        "    print(result,'원 입니다.')\n",
        "    break\n",
        "\n",
        "print('로봇이 종료되었습니다. 삐빅.')"
      ],
      "metadata": {
        "colab": {
          "base_uri": "https://localhost:8080/"
        },
        "id": "ydhjmfD0TaDq",
        "outputId": "a21aec69-6dde-4825-e76b-d8d5e3025c50"
      },
      "execution_count": 51,
      "outputs": [
        {
          "output_type": "stream",
          "name": "stdout",
          "text": [
            "고등어 몇 개를 구매하실 건가요?5\n",
            "25000 원 입니다.\n",
            "로봇이 종료되었습니다. 삐빅.\n"
          ]
        }
      ]
    },
    {
      "cell_type": "markdown",
      "source": [
        "# while"
      ],
      "metadata": {
        "id": "mU0nrakbULtt"
      }
    },
    {
      "cell_type": "code",
      "source": [
        "a = 1\n",
        "while a < 10:\n",
        "    print(a)\n",
        "    a += 1"
      ],
      "metadata": {
        "colab": {
          "base_uri": "https://localhost:8080/"
        },
        "id": "L9eGaQknUmmE",
        "outputId": "c91f4643-c704-4e90-da58-006b6c02e620"
      },
      "execution_count": 53,
      "outputs": [
        {
          "output_type": "stream",
          "name": "stdout",
          "text": [
            "1\n"
          ]
        }
      ]
    },
    {
      "cell_type": "code",
      "source": [
        "while True:\n",
        "    num = int(input('고등어 몇 개를 구매하실 건가요?'))\n",
        "    result = num * 5000\n",
        "    print(result,'원 입니다.')\n",
        "    if num == -1:\n",
        "        break\n",
        "\n",
        "print('로봇이 종료되었습니다. 삐빅.')"
      ],
      "metadata": {
        "colab": {
          "base_uri": "https://localhost:8080/"
        },
        "id": "F-WPt7KpVFxB",
        "outputId": "bf16558b-806a-4c5a-d73c-59d7f4fddbec"
      },
      "execution_count": 54,
      "outputs": [
        {
          "output_type": "stream",
          "name": "stdout",
          "text": [
            "고등어 몇 개를 구매하실 건가요?5\n",
            "25000 원 입니다.\n",
            "고등어 몇 개를 구매하실 건가요?-1\n",
            "-5000 원 입니다.\n",
            "로봇이 종료되었습니다. 삐빅.\n"
          ]
        }
      ]
    },
    {
      "cell_type": "code",
      "source": [
        "fish = 5\n",
        "while True:\n",
        "    num = int(input('고등어 몇 개를 구매하실 건가요?'))\n",
        "    if fish >= num:\n",
        "        fish = fish - num\n",
        "        print(f'고등어 {fish}개 남았습니다.')\n",
        "        if fish == 0:\n",
        "            print('완판되었습니다.')\n",
        "            break\n",
        "\n",
        "    else:\n",
        "        print(f'손님, 죄송하지만 구매할 수 있는 고등어 {fish}개 남았습니다.')\n",
        "        fish = 0\n",
        "        break\n"
      ],
      "metadata": {
        "colab": {
          "base_uri": "https://localhost:8080/"
        },
        "id": "KrBZG4ZfVTBx",
        "outputId": "3620076e-79ad-487b-9af5-48597562e5b4"
      },
      "execution_count": 60,
      "outputs": [
        {
          "output_type": "stream",
          "name": "stdout",
          "text": [
            "고등어 몇 개를 구매하실 건가요?3\n",
            "고등어 2개 남았습니다.\n",
            "고등어 몇 개를 구매하실 건가요?2\n",
            "고등어 0개 남았습니다.\n",
            "완판되었습니다.\n"
          ]
        }
      ]
    },
    {
      "cell_type": "code",
      "source": [
        "fish = 5\n",
        "while fish > 0:\n",
        "    print(f'고등어 {fish}개 남았습니다.')\n",
        "    # if fish < 3:\n",
        "    #     break\n",
        "    fish -= 1\n",
        "else:\n",
        "    print('고등어 다 팔렸습니다.')\n",
        "\n",
        ""
      ],
      "metadata": {
        "colab": {
          "base_uri": "https://localhost:8080/"
        },
        "id": "gkY-syFkV_ea",
        "outputId": "c20afa84-a07a-44a1-bcc9-35156babad15"
      },
      "execution_count": 62,
      "outputs": [
        {
          "output_type": "stream",
          "name": "stdout",
          "text": [
            "고등어 5개 남았습니다.\n",
            "고등어 4개 남았습니다.\n",
            "고등어 3개 남았습니다.\n",
            "고등어 2개 남았습니다.\n",
            "고등어 1개 남았습니다.\n",
            "고등어 다 팔렸습니다.\n"
          ]
        }
      ]
    },
    {
      "cell_type": "code",
      "source": [
        "for i in range(2, 10):\n",
        "    for j in range(1, 10):\n",
        "        if j > 5:\n",
        "            break\n",
        "        print(f'{i} X {j} = {i*j}')"
      ],
      "metadata": {
        "id": "7u12ek6TWhdd"
      },
      "execution_count": null,
      "outputs": []
    },
    {
      "cell_type": "code",
      "source": [
        "## continue, pass\n",
        "\n",
        "x = 10\n",
        "if x >10:\n",
        "    pass\n",
        "print('hello')\n",
        "\n",
        "def test():\n",
        "    pass"
      ],
      "metadata": {
        "colab": {
          "base_uri": "https://localhost:8080/"
        },
        "id": "hph1q0jYXEKo",
        "outputId": "e824f8b3-f78c-4547-d4eb-f8309afe35dd"
      },
      "execution_count": 65,
      "outputs": [
        {
          "output_type": "stream",
          "name": "stdout",
          "text": [
            "hello\n"
          ]
        }
      ]
    },
    {
      "cell_type": "code",
      "source": [
        "구매개수_총가격 = [\n",
        "    (3, 15000),\n",
        "    (5, 25000),\n",
        "    (1, 5000),\n",
        "    (8, 40000),\n",
        "    (0, 0),\n",
        "    (2, 10000)\n",
        "]\n",
        "\n",
        "for 구매개수, 총가격 in 구매개수_총가격:\n",
        "    if 구매개수 < 1:\n",
        "        continue\n",
        "    print(f'구매개수는 {구매개수}개이며 {총가격}원입니다.')"
      ],
      "metadata": {
        "colab": {
          "base_uri": "https://localhost:8080/"
        },
        "id": "XW7BI3tTXb95",
        "outputId": "868db1bb-de82-429e-82b4-5f52f08ea090"
      },
      "execution_count": 67,
      "outputs": [
        {
          "output_type": "stream",
          "name": "stdout",
          "text": [
            "구매개수는 3개이며 15000원입니다.\n",
            "구매개수는 5개이며 25000원입니다.\n",
            "구매개수는 1개이며 5000원입니다.\n",
            "구매개수는 8개이며 40000원입니다.\n",
            "구매개수는 2개이며 10000원입니다.\n"
          ]
        }
      ]
    }
  ]
}