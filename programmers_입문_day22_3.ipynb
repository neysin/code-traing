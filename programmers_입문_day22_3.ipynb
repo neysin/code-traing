{
  "nbformat": 4,
  "nbformat_minor": 0,
  "metadata": {
    "colab": {
      "provenance": [],
      "authorship_tag": "ABX9TyMq3ZA6RgfpMzuUO0hI7hG4",
      "include_colab_link": true
    },
    "kernelspec": {
      "name": "python3",
      "display_name": "Python 3"
    },
    "language_info": {
      "name": "python"
    }
  },
  "cells": [
    {
      "cell_type": "markdown",
      "metadata": {
        "id": "view-in-github",
        "colab_type": "text"
      },
      "source": [
        "<a href=\"https://colab.research.google.com/github/neysin/code-traing/blob/main/programmers_%EC%9E%85%EB%AC%B8_day22_3.ipynb\" target=\"_parent\"><img src=\"https://colab.research.google.com/assets/colab-badge.svg\" alt=\"Open In Colab\"/></a>"
      ]
    },
    {
      "cell_type": "code",
      "execution_count": 42,
      "metadata": {
        "colab": {
          "base_uri": "https://localhost:8080/"
        },
        "id": "M1-2HDzrHEME",
        "outputId": "1cc6d854-4d02-41d6-c7a7-a242be1ec156"
      },
      "outputs": [
        {
          "output_type": "execute_result",
          "data": {
            "text/plain": [
              "0"
            ]
          },
          "metadata": {},
          "execution_count": 42
        }
      ],
      "source": [
        "# 겹치는 선분의 길이\n",
        "# 테스트 케이스 통과 못함.\n",
        "# 겹치는 점의 숫자를 리스트로 만들어 개수를 센 후 결과를 도출하려 함.\n",
        "# 여러번 겹치는 점의 숫자를 제외하고 리스트에 1개의 점만 있을 때는 선분이 아니니\n",
        "# 결과값에 더해지지 않을려 했지만 조건이 점점 복잡해져 테스트 케이스를 통과하지 못함.\n",
        "def solution(lines):\n",
        "    a, b, c = lines\n",
        "    a_list = [i for i in range(a[0], a[1]+1)]\n",
        "    b_list = [i for i in range(b[0], b[1]+1)]\n",
        "    c_list = [i for i in range(c[0], c[1]+1)]\n",
        "\n",
        "    l1 = []\n",
        "    l2 = []\n",
        "    l3 = []\n",
        "    len_num = 0\n",
        "\n",
        "    for i in a_list:\n",
        "        if i in b_list:\n",
        "            l1.append(i)\n",
        "        elif i in c_list:\n",
        "            l2.append(i)\n",
        "\n",
        "    for j in b_list:\n",
        "        if j in c_list:\n",
        "            l3.append(j)\n",
        "\n",
        "    result = len(set(l1 + l2 + l3))\n",
        "\n",
        "    for i in [l1, l2, l3]:\n",
        "        if len(i) == 1:\n",
        "            result += -1\n",
        "\n",
        "    if result > 0:\n",
        "        return result -1\n",
        "    else:\n",
        "        return result\n",
        "\n",
        "\n",
        "lines = [[-1, 1], [1, 3], [3, 9]]\n",
        "solution(lines)"
      ]
    },
    {
      "cell_type": "code",
      "source": [
        "def solution(lines):\n",
        "    sets = [set(range(min(l), max(l))) for l in lines]\n",
        "    return len(sets[0] & sets[1] | sets[0] & sets[2] | sets[1] & sets[2])\n",
        "\n",
        "lines = [[0, 5], [3, 9], [1, 10]]\n",
        "solution(lines)"
      ],
      "metadata": {
        "colab": {
          "base_uri": "https://localhost:8080/"
        },
        "id": "xUfqpw1XIF9y",
        "outputId": "1ffef8ed-c674-42fe-ea36-4c13be887dc7"
      },
      "execution_count": 44,
      "outputs": [
        {
          "output_type": "execute_result",
          "data": {
            "text/plain": [
              "{0, 1, 2, 3, 4}"
            ]
          },
          "metadata": {},
          "execution_count": 44
        }
      ]
    }
  ]
}