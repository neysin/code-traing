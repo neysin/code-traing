{
  "nbformat": 4,
  "nbformat_minor": 0,
  "metadata": {
    "colab": {
      "provenance": [],
      "authorship_tag": "ABX9TyMoY28dT9PN8dTWb46Zd5p/",
      "include_colab_link": true
    },
    "kernelspec": {
      "name": "python3",
      "display_name": "Python 3"
    },
    "language_info": {
      "name": "python"
    }
  },
  "cells": [
    {
      "cell_type": "markdown",
      "metadata": {
        "id": "view-in-github",
        "colab_type": "text"
      },
      "source": [
        "<a href=\"https://colab.research.google.com/github/neysin/orm/blob/main/programmers_day21.ipynb\" target=\"_parent\"><img src=\"https://colab.research.google.com/assets/colab-badge.svg\" alt=\"Open In Colab\"/></a>"
      ]
    },
    {
      "cell_type": "code",
      "execution_count": 3,
      "metadata": {
        "colab": {
          "base_uri": "https://localhost:8080/"
        },
        "id": "g_F3zY7AmJmG",
        "outputId": "0bfa77d7-08fa-4ea1-b842-566d25fb8e9e"
      },
      "outputs": [
        {
          "output_type": "execute_result",
          "data": {
            "text/plain": [
              "[15, 32, 38, 46, 56]"
            ]
          },
          "metadata": {},
          "execution_count": 3
        }
      ],
      "source": [
        "# 뒤에서 5등 위로\n",
        "def solution(num_list):\n",
        "    return sorted(num_list)[5:]\n",
        "\n",
        "num_list = [12, 4, 15, 46, 38, 1, 14, 56, 32, 10]\n",
        "solution(num_list)"
      ]
    },
    {
      "cell_type": "markdown",
      "source": [
        "전국 대회 선발 고사"
      ],
      "metadata": {
        "id": "VCElPmFtt9YK"
      }
    },
    {
      "cell_type": "code",
      "source": [
        "# 전국 대회 선발 고사\n",
        "def solution(rank, attendance):\n",
        "    l = []\n",
        "    l2 = []\n",
        "    for i in range(len(attendance)):\n",
        "        if attendance[i] == True:\n",
        "            l.append(rank[i])\n",
        "\n",
        "    sort_l = sorted(l) # 2, 4, 5, 7\n",
        "    for j in sort_l[:3]:\n",
        "        l2.append(rank.index(j))\n",
        "\n",
        "    a, b, c = l2[0], l2[1], l2[2]\n",
        "\n",
        "    return 10000 * a + 100 * b + c\n",
        "\n",
        "\n",
        "rank = [3, 7, 2, 5, 4, 6, 1]\n",
        "attendance = [False, True, True, True, True, False, False]\n",
        "solution(rank, attendance)"
      ],
      "metadata": {
        "colab": {
          "base_uri": "https://localhost:8080/"
        },
        "id": "mcIMppUxmirw",
        "outputId": "9f96fc67-df80-4065-9caa-03cc347970d3"
      },
      "execution_count": 5,
      "outputs": [
        {
          "output_type": "execute_result",
          "data": {
            "text/plain": [
              "20403"
            ]
          },
          "metadata": {},
          "execution_count": 5
        }
      ]
    },
    {
      "cell_type": "code",
      "source": [
        "# enumerate로 인덱스 순서를 정하고 인덱싱을 통해 반환\n",
        "def solution(rank, attendance):\n",
        "    arr = sorted([(x, i) for i, x in enumerate(rank) if attendance[i]])\n",
        "    return arr[0][1] * 10000 + arr[1][1] * 100 + arr[2][1]"
      ],
      "metadata": {
        "id": "VhRXRKTirMAs"
      },
      "execution_count": null,
      "outputs": []
    },
    {
      "cell_type": "code",
      "source": [
        "# 정수 부분\n",
        "def solution(flo):\n",
        "    return int(flo)\n",
        "\n",
        "flo = 1.42\n",
        "solution(flo)"
      ],
      "metadata": {
        "colab": {
          "base_uri": "https://localhost:8080/"
        },
        "id": "zI6ElushuMWT",
        "outputId": "1097e890-2e55-4f07-cd37-409221e7e9ef"
      },
      "execution_count": 7,
      "outputs": [
        {
          "output_type": "execute_result",
          "data": {
            "text/plain": [
              "1"
            ]
          },
          "metadata": {},
          "execution_count": 7
        }
      ]
    },
    {
      "cell_type": "code",
      "source": [
        "# 문자열 정수의 합\n",
        "# 풀 때는 list로 해야 하는 줄 알았지만 map 함수 자체가 순회를 시키면서 함수를\n",
        "# 적용하기 때문에 list를 안써도 됨.\n",
        "def solution(num_str):\n",
        "    return sum(map(int, num_str))\n",
        "\n",
        "num_str = \"123456789\"\n",
        "solution(num_str)"
      ],
      "metadata": {
        "colab": {
          "base_uri": "https://localhost:8080/"
        },
        "id": "HGbJ_bgeuS02",
        "outputId": "892dd609-abb8-4ecc-d857-343e33ee6973"
      },
      "execution_count": 14,
      "outputs": [
        {
          "output_type": "execute_result",
          "data": {
            "text/plain": [
              "45"
            ]
          },
          "metadata": {},
          "execution_count": 14
        }
      ]
    },
    {
      "cell_type": "code",
      "source": [
        "# 문자열을 정수로 변환하기\n",
        "def solution(n_str):\n",
        "    return int(n_str)\n",
        "\n",
        "n_str = \"10\"\n",
        "solution(n_str)"
      ],
      "metadata": {
        "colab": {
          "base_uri": "https://localhost:8080/"
        },
        "id": "6tZb6u9-urPu",
        "outputId": "3ecdd498-394b-471d-b0ff-7b36608e706c"
      },
      "execution_count": 15,
      "outputs": [
        {
          "output_type": "execute_result",
          "data": {
            "text/plain": [
              "10"
            ]
          },
          "metadata": {},
          "execution_count": 15
        }
      ]
    }
  ]
}