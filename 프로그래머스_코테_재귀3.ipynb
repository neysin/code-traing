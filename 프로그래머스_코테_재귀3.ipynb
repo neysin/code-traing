{
  "nbformat": 4,
  "nbformat_minor": 0,
  "metadata": {
    "colab": {
      "provenance": [],
      "authorship_tag": "ABX9TyOLaXGCnYD8xKX0QNjyVeiK",
      "include_colab_link": true
    },
    "kernelspec": {
      "name": "python3",
      "display_name": "Python 3"
    },
    "language_info": {
      "name": "python"
    }
  },
  "cells": [
    {
      "cell_type": "markdown",
      "metadata": {
        "id": "view-in-github",
        "colab_type": "text"
      },
      "source": [
        "<a href=\"https://colab.research.google.com/github/neysin/code-traing/blob/main/%ED%94%84%EB%A1%9C%EA%B7%B8%EB%9E%98%EB%A8%B8%EC%8A%A4_%EC%BD%94%ED%85%8C_%EC%9E%AC%EA%B7%803.ipynb\" target=\"_parent\"><img src=\"https://colab.research.google.com/assets/colab-badge.svg\" alt=\"Open In Colab\"/></a>"
      ]
    },
    {
      "cell_type": "markdown",
      "source": [
        "재귀 - level2 \\\n",
        "모음 사전"
      ],
      "metadata": {
        "id": "JrPHtgmqCitF"
      }
    },
    {
      "cell_type": "code",
      "execution_count": 6,
      "metadata": {
        "colab": {
          "base_uri": "https://localhost:8080/"
        },
        "id": "mDjkrGdoCb1h",
        "outputId": "61a03423-66dc-467a-8bd4-da3f378ecbfa"
      },
      "outputs": [
        {
          "output_type": "execute_result",
          "data": {
            "text/plain": [
              "6"
            ]
          },
          "metadata": {},
          "execution_count": 6
        }
      ],
      "source": [
        "def find(data, p, step): # 사전을 기록할 배열, 현재 문자열, 현재 문자열 숫자\n",
        "    word_list = ['A', 'E', 'I', 'O', 'U']\n",
        "    if step == 6: # 단어의 길이는 최대 5이므로 6이 되는 순간 반환\n",
        "        return\n",
        "    if p != '': # 맨 처음 ''을 넣음으로써 data에 들어가는 요소들을 세는 숫자 step을 1부터 셀 수 있게 맞춰놓음\n",
        "        data.append(p) # 또한 공백이 아닌 문자열은 data에 넣음.\n",
        "    for c in word_list: # 주어진 문자열을 반복하여 길이를 늘려나감\n",
        "        find(data, ''.join([p, c]), step + 1) # 반복문에 재귀를 넣음으로써 문자열의 5번째 인덱스 위치에서부터 문자열의 순환이 돌아감.\n",
        "        # 트리 구조의 느낌으로 재귀가 돌아가는 느낌.\n",
        "\n",
        "def solution(word):\n",
        "    answer = 0\n",
        "    data = []\n",
        "    find(data, '', 0)\n",
        "    for i in range(len(data)): # 위의 재귀함수를 통해 data 배열을 만들어 놓고 주어진 word의 인덱스 위치를 찾음.\n",
        "        if data[i] == word:\n",
        "            answer = i + 1\n",
        "            break\n",
        "\n",
        "    return answer\n",
        "\n",
        "word = \"AAAAE\"\n",
        "solution(word)"
      ]
    },
    {
      "cell_type": "markdown",
      "source": [
        "재귀는 볼 때마다 제일 작은 부분의 문제를 찾는 것이 중요하다고 생각됨. \\\n",
        "그리고 그 제일 작은 부분의 문제부터 반복을 돌림으로써 전체적으로 상향식의 트리가 완성되는 느낌임."
      ],
      "metadata": {
        "id": "G9YZ5ie3Kx0W"
      }
    }
  ]
}