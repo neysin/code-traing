{
  "nbformat": 4,
  "nbformat_minor": 0,
  "metadata": {
    "colab": {
      "provenance": [],
      "authorship_tag": "ABX9TyMsgRh951Uzh4LkK+GApOwX",
      "include_colab_link": true
    },
    "kernelspec": {
      "name": "python3",
      "display_name": "Python 3"
    },
    "language_info": {
      "name": "python"
    }
  },
  "cells": [
    {
      "cell_type": "markdown",
      "metadata": {
        "id": "view-in-github",
        "colab_type": "text"
      },
      "source": [
        "<a href=\"https://colab.research.google.com/github/neysin/orm/blob/main/0108_%ED%95%A8%EC%88%98.ipynb\" target=\"_parent\"><img src=\"https://colab.research.google.com/assets/colab-badge.svg\" alt=\"Open In Colab\"/></a>"
      ]
    },
    {
      "cell_type": "markdown",
      "source": [
        "# 1. 함수 만들어 보기"
      ],
      "metadata": {
        "id": "tpLL5zo5qPR_"
      }
    },
    {
      "cell_type": "code",
      "source": [
        "#1. 함수 만들어 보기\n",
        "\n",
        "def anhyojun() : # def -> 이건 함수야 anhyojin 함수의 이름 + () -> \":\""
      ],
      "metadata": {
        "id": "fq0XOjypshSr"
      },
      "execution_count": null,
      "outputs": []
    },
    {
      "cell_type": "code",
      "source": [
        "#2. 들여쓰기\n",
        "def my_function() :\n",
        "    print('1') # 4칸을 띄우는 것 -> 함수의 본문을 적는 것\n",
        "    print('2')\n",
        "    print('3')\n",
        "\n",
        "# 함수의 실행\n",
        "my_function() # 실행을 할 때는 def와 : 은 필요없다. -> 함수의 본문이 실행된다."
      ],
      "metadata": {
        "colab": {
          "base_uri": "https://localhost:8080/"
        },
        "id": "OwgezDk8tKkz",
        "outputId": "78f36cbe-606b-4b8d-bff9-107c96b55c60"
      },
      "execution_count": 16,
      "outputs": [
        {
          "output_type": "stream",
          "name": "stdout",
          "text": [
            "1\n",
            "2\n",
            "3\n"
          ]
        }
      ]
    },
    {
      "cell_type": "code",
      "source": [
        "#3. 함수의 기본 구조\n",
        "\n",
        "def function(x,y) :\n",
        "    z = x + y\n",
        "    return z\n",
        "\n",
        "print(f\"function(10, 9) = {function(10, 9)}\")"
      ],
      "metadata": {
        "colab": {
          "base_uri": "https://localhost:8080/"
        },
        "id": "L3W8K4jctr3L",
        "outputId": "3a4f6f31-9359-4d78-c382-1648173a584d"
      },
      "execution_count": 22,
      "outputs": [
        {
          "output_type": "stream",
          "name": "stdout",
          "text": [
            "function(10, 9) = 19\n"
          ]
        }
      ]
    },
    {
      "cell_type": "code",
      "source": [
        "# 함수 내용에 들여쓰기(스페이스 4칸)에 따라 함수의 영역\n",
        "def function_name(x, y): # x, y 는 변수\n",
        "    z = x + y # 함수 내부에서 수행되는 연산\n",
        "    pass # 뜻은 없지만 함수 모양을 잡기위해 그냥 넣는 코드\n",
        "    return z # 본문의 수행 내용(z = x + y)을 z에 넣어줌, 반환값이 없다면 자동으로 None을 반환\n",
        "\n",
        "def function_name(x, y):\n",
        "    return x + y # 위의 함수에서 본문과 반환값이 겹치므로 바로 본문의 내용을 반환해도 결과값이 같이 나옴"
      ],
      "metadata": {
        "id": "QmnxBCW_4Zno"
      },
      "execution_count": null,
      "outputs": []
    },
    {
      "cell_type": "code",
      "source": [
        "def function_name(x, y):\n",
        "    z = x + y # z = 10 + 9\n",
        "    return z\n",
        "# 1. return을 함수 내에 지정하지 않았을 때\n",
        "# print(f\"function(10, 9) = {function(10, 9)}\")\n",
        "\n",
        "# 2. print()문을 사용하지 않을 때\n",
        "print(function_name(10,9))"
      ],
      "metadata": {
        "colab": {
          "base_uri": "https://localhost:8080/"
        },
        "id": "0r5Nb-YG67zh",
        "outputId": "a311db6a-7b0b-483c-fe44-73f4ff537062"
      },
      "execution_count": 38,
      "outputs": [
        {
          "output_type": "stream",
          "name": "stdout",
          "text": [
            "19\n"
          ]
        }
      ]
    },
    {
      "cell_type": "markdown",
      "source": [
        "# 2. 함수 기본 구조 실습"
      ],
      "metadata": {
        "id": "jLEb4xxuCyQE"
      }
    },
    {
      "cell_type": "code",
      "source": [
        "# 2.1 입력 매개변수가 없고, 반환 값도 없는 함수\n",
        "\n",
        "def simple_function() :\n",
        "    print('Hello, World')\n",
        "\n",
        "# 함수 호출\n",
        "print(simple_function())"
      ],
      "metadata": {
        "colab": {
          "base_uri": "https://localhost:8080/"
        },
        "id": "F0JUYwwW8DgV",
        "outputId": "81013af1-59b4-4fc4-aafa-01079c926216"
      },
      "execution_count": 46,
      "outputs": [
        {
          "output_type": "stream",
          "name": "stdout",
          "text": [
            "Hello, World\n",
            "None\n"
          ]
        }
      ]
    },
    {
      "cell_type": "code",
      "source": [
        "# 2.2 파라미터가 없고, 반환 값은 있는 함수\n",
        "\n",
        "def give_me_five() :\n",
        "    return 5\n",
        "\n",
        "result = give_me_five()\n",
        "print(result) # 함수의 파라미터는 없지만 5라는 값이 반환이 되어 있기때문에 출력시 반환값 5가 출력됩니다."
      ],
      "metadata": {
        "colab": {
          "base_uri": "https://localhost:8080/"
        },
        "id": "A4uGr_X786M0",
        "outputId": "20cdcc7f-8fcb-4e13-ad43-4dc307dcee35"
      },
      "execution_count": 47,
      "outputs": [
        {
          "output_type": "stream",
          "name": "stdout",
          "text": [
            "5\n"
          ]
        }
      ]
    },
    {
      "cell_type": "code",
      "source": [
        "# 2.3 입력 매개변수가 있고, 반환 값이 없는 함수\n",
        "\n",
        "def greeting(name) :\n",
        "    print(f'hello, {name}!')\n",
        "\n",
        "print(greeting('Licat')) # 코드가 출력은 되지만 함수 내에 반환값이 없어 None 값이 같이 출력됨."
      ],
      "metadata": {
        "colab": {
          "base_uri": "https://localhost:8080/"
        },
        "id": "0gf9mBpa91_f",
        "outputId": "9ae0d832-d3ee-4d2d-bbc7-47ab1040af39"
      },
      "execution_count": 48,
      "outputs": [
        {
          "output_type": "stream",
          "name": "stdout",
          "text": [
            "hello, Licat!\n",
            "None\n"
          ]
        }
      ]
    },
    {
      "cell_type": "code",
      "source": [
        "# 2.4 입력 매개변수가 있고, 반환 값이 있는 함수\n",
        "\n",
        "def add_numbers(x, y) : # 매개변수 정의\n",
        "    sum = x + y # 함수 내용\n",
        "    return sum # sum 으로 반환 값\n",
        "\n",
        "result = add_numbers(5, 3) # 인수 입력\n",
        "print(result) # 결과값 출력"
      ],
      "metadata": {
        "colab": {
          "base_uri": "https://localhost:8080/"
        },
        "id": "83_oeumpDmGN",
        "outputId": "178a3ad7-1b73-4fcb-ab6f-1acc465456c5"
      },
      "execution_count": 50,
      "outputs": [
        {
          "output_type": "stream",
          "name": "stdout",
          "text": [
            "8\n"
          ]
        }
      ]
    },
    {
      "cell_type": "markdown",
      "source": [
        "# 3. 함수의 아규먼트와 파라미터"
      ],
      "metadata": {
        "id": "YwH_L9hqFCVC"
      }
    },
    {
      "cell_type": "code",
      "source": [
        "# 3.1 파라미터의 기본 사용\n",
        "\n",
        "def f(a, b, c) :\n",
        "    print(a, b, c)\n",
        "\n",
        "print(f(a = 100, b =200, c =300))\n",
        "print(f(a = 300, b = 200, c= 100))"
      ],
      "metadata": {
        "colab": {
          "base_uri": "https://localhost:8080/"
        },
        "id": "DdItcHg5HiyK",
        "outputId": "fa48e72b-ae20-4675-d69c-e07126a972cf"
      },
      "execution_count": 63,
      "outputs": [
        {
          "output_type": "stream",
          "name": "stdout",
          "text": [
            "100 200 300\n",
            "None\n",
            "300 200 100\n",
            "None\n"
          ]
        }
      ]
    },
    {
      "cell_type": "code",
      "source": [
        "# 3.2 기본값을 가진 파라미터\n",
        "\n",
        "def f(a = 10, b = 20, c = 30) :\n",
        "    print(a, b, c)\n",
        "\n",
        "print(f())\n",
        "print(f(100, 10))\n",
        "print(f(a = 100, b =200, c =300))\n",
        "print(f(a = 300, b = 200, c= 100))\n",
        "\n",
        "print(type(f()))"
      ],
      "metadata": {
        "colab": {
          "base_uri": "https://localhost:8080/"
        },
        "id": "ZRHl2Or2HzRE",
        "outputId": "e54183b1-1e41-4f8c-deb4-e29101dfc920"
      },
      "execution_count": 61,
      "outputs": [
        {
          "output_type": "stream",
          "name": "stdout",
          "text": [
            "10 20 30\n",
            "None\n",
            "100 10 30\n",
            "None\n",
            "100 200 300\n",
            "None\n",
            "300 200 100\n",
            "None\n",
            "10 20 30\n",
            "<class 'NoneType'>\n"
          ]
        }
      ]
    },
    {
      "cell_type": "code",
      "source": [
        "# 3.3 일부 파라미터만 기본값을 가지는 경우\n",
        "\n",
        "# 잘못된 예\n",
        "# def f(a = 10, b = 20, c) :\n",
        "#     print(a, b, c)\n",
        "\n",
        "# 올바른 예\n",
        "def f(a, b=20, c=10): # 기본값 지정이 안되있을 경우 함수 호출 시, 무조건 값을 넣어줘야 함.\n",
        "    print(a, b, c)\n",
        "\n",
        "f(100, 10) # 출력: 100 10 10\n",
        "f(a=100, b=200, c=300) # 출력: 100 200 300\n",
        "f(c=300, a=100, b=200) # 출력: 100 200 300"
      ],
      "metadata": {
        "colab": {
          "base_uri": "https://localhost:8080/"
        },
        "id": "bB-RD_EdI0W1",
        "outputId": "0b53c0bc-ad57-4125-b7fb-82c950cd938c"
      },
      "execution_count": 73,
      "outputs": [
        {
          "output_type": "stream",
          "name": "stdout",
          "text": [
            "100 10 10\n",
            "100 200 300\n",
            "100 200 300\n"
          ]
        }
      ]
    },
    {
      "cell_type": "code",
      "source": [
        "# 3.4 컨벤션 자료형을 아규먼트로 넣었을 때\n",
        "\n",
        "def add_element(my_list) :\n",
        "    my_list.append(1)\n",
        "    print(id(my_list))\n",
        "\n",
        "a = [2, 3, 4]\n",
        "add_element(a)\n",
        "print(a)\n",
        "print(id(a))"
      ],
      "metadata": {
        "colab": {
          "base_uri": "https://localhost:8080/"
        },
        "id": "PdBdvxmbJ4c-",
        "outputId": "de5a7f4c-d57c-4cc0-de93-0ef9652e6e92"
      },
      "execution_count": 77,
      "outputs": [
        {
          "output_type": "stream",
          "name": "stdout",
          "text": [
            "140047886693760\n",
            "[2, 3, 4, 1]\n",
            "140047886693760\n"
          ]
        }
      ]
    },
    {
      "cell_type": "code",
      "source": [
        "# 출력되는 주소가 다름\n",
        "def add_element(my_list):\n",
        "    my_list = 10\n",
        "    print(id(my_list)) # 출력: 135115442078224\n",
        "\n",
        "a = [2, 3, 4]\n",
        "add_element(a)\n",
        "print(id(a)) # 출력: 135115029248768\n",
        "print(a)  # 출력: [2, 3, 4]"
      ],
      "metadata": {
        "colab": {
          "base_uri": "https://localhost:8080/"
        },
        "id": "tZWk4CLlK6Jo",
        "outputId": "9f84c960-2649-4cd0-af5f-27d7655d3dfb"
      },
      "execution_count": 75,
      "outputs": [
        {
          "output_type": "stream",
          "name": "stdout",
          "text": [
            "140049155932688\n",
            "140047886318528\n",
            "[2, 3, 4]\n"
          ]
        }
      ]
    },
    {
      "cell_type": "code",
      "source": [
        "# 3.5 권장하지 않는 기본값\n",
        "\n",
        "# 권장하지 않는 방법\n",
        "def append_to_list(value, lst=[]):\n",
        "    lst.append(value)\n",
        "    return lst # 예상치 못한 결과가 발생할 수 있습니다.\n",
        "\n",
        "print(append_to_list(1)) # 출력: [1]\n",
        "print(append_to_list(2)) # 출력: [1, 2], 그러나 결과가 [2]가 나올것으로 예상할수도 있습니다. 따라서 헷갈릴 수 있음.\n",
        "# 첫 번째 append 에서 1이 추가되고 그 리스트에 두 번째 append가 추가 됨으로써 [1, 2]라는 리스트가 생성"
      ],
      "metadata": {
        "colab": {
          "base_uri": "https://localhost:8080/"
        },
        "id": "JwuPvG0fe13E",
        "outputId": "0149ac16-6cab-47a8-e707-6201e41e6a36"
      },
      "execution_count": 80,
      "outputs": [
        {
          "output_type": "stream",
          "name": "stdout",
          "text": [
            "[1]\n",
            "[1, 2]\n"
          ]
        }
      ]
    },
    {
      "cell_type": "code",
      "source": [
        "# 권장 방법\n",
        "def append_to_list(value, lst=None):\n",
        "    if lst is None:\n",
        "        lst = []\n",
        "    lst.append(value)\n",
        "    return lst\n",
        "\n",
        "print(append_to_list(1))\n",
        "print(append_to_list(2))"
      ],
      "metadata": {
        "colab": {
          "base_uri": "https://localhost:8080/"
        },
        "id": "U0PVdU7lfVJ6",
        "outputId": "e84f389e-410b-43a2-8033-e8dfef71e624"
      },
      "execution_count": 81,
      "outputs": [
        {
          "output_type": "stream",
          "name": "stdout",
          "text": [
            "[1]\n",
            "[2]\n"
          ]
        }
      ]
    },
    {
      "cell_type": "markdown",
      "source": [
        "# 4. 지역 변수와 전역 변수"
      ],
      "metadata": {
        "id": "5wsSpAwlhShg"
      }
    },
    {
      "cell_type": "code",
      "source": [
        "# 4.1 지역 변수 사용 예시\n",
        "\n",
        "def f():\n",
        "    c = 1\n",
        "    print(c)  # 출력: 1\n",
        "\n",
        "f()\n",
        "print(c)  # error: a는 f 함수 내부에서만 정의되었습니다."
      ],
      "metadata": {
        "colab": {
          "base_uri": "https://localhost:8080/",
          "height": 228
        },
        "id": "huTcZFtJhWpD",
        "outputId": "7d87ed3d-85d4-4a89-9fad-f8e6513bd77a"
      },
      "execution_count": 109,
      "outputs": [
        {
          "output_type": "stream",
          "name": "stdout",
          "text": [
            "1\n"
          ]
        },
        {
          "output_type": "error",
          "ename": "NameError",
          "evalue": "name 'c' is not defined",
          "traceback": [
            "\u001b[0;31m---------------------------------------------------------------------------\u001b[0m",
            "\u001b[0;31mNameError\u001b[0m                                 Traceback (most recent call last)",
            "\u001b[0;32m<ipython-input-109-0c046b76044a>\u001b[0m in \u001b[0;36m<cell line: 8>\u001b[0;34m()\u001b[0m\n\u001b[1;32m      6\u001b[0m \u001b[0;34m\u001b[0m\u001b[0m\n\u001b[1;32m      7\u001b[0m \u001b[0mf\u001b[0m\u001b[0;34m(\u001b[0m\u001b[0;34m)\u001b[0m\u001b[0;34m\u001b[0m\u001b[0;34m\u001b[0m\u001b[0m\n\u001b[0;32m----> 8\u001b[0;31m \u001b[0mprint\u001b[0m\u001b[0;34m(\u001b[0m\u001b[0mc\u001b[0m\u001b[0;34m)\u001b[0m  \u001b[0;31m# error: a는 f 함수 내부에서만 정의되었습니다.\u001b[0m\u001b[0;34m\u001b[0m\u001b[0;34m\u001b[0m\u001b[0m\n\u001b[0m",
            "\u001b[0;31mNameError\u001b[0m: name 'c' is not defined"
          ]
        }
      ]
    },
    {
      "cell_type": "code",
      "source": [
        "def f():\n",
        "    a = 1\n",
        "    b = 'hello'\n",
        "    def ff() :  # ff 도 변수명으로 등록됨.\n",
        "        pass\n",
        "    print(locals())\n",
        "\n",
        "f()\n"
      ],
      "metadata": {
        "colab": {
          "base_uri": "https://localhost:8080/"
        },
        "id": "Ex_O8iF3kExa",
        "outputId": "0444d759-9ab4-42ac-f835-04fa2280701a"
      },
      "execution_count": 102,
      "outputs": [
        {
          "output_type": "stream",
          "name": "stdout",
          "text": [
            "{'a': 1, 'b': 'hello', 'ff': <function f.<locals>.ff at 0x7f5f706dd630>}\n"
          ]
        }
      ]
    },
    {
      "cell_type": "code",
      "source": [
        "# 4.2 전역변수\n",
        "\n",
        "a = 100\n",
        "\n",
        "def f():\n",
        "    global a\n",
        "    a = a + 1\n",
        "\n",
        "f()\n",
        "print(a)  # 출력: 101, 함수 f 내에서 전역 변수 a가 수정되었습니다."
      ],
      "metadata": {
        "colab": {
          "base_uri": "https://localhost:8080/"
        },
        "id": "Vc5OrB82kOx5",
        "outputId": "2d071148-4b0b-4edb-ee54-0e20ba4321ce"
      },
      "execution_count": 125,
      "outputs": [
        {
          "output_type": "stream",
          "name": "stdout",
          "text": [
            "101\n"
          ]
        }
      ]
    },
    {
      "cell_type": "code",
      "source": [
        "a = 100\n",
        "\n",
        "def f() :\n",
        "    a = a + 1\n",
        "\n",
        "\n",
        "print(f())\n",
        "print(a)  # 출력: 101, 함수 f 내에서 전역 변수 a가 수정되었습니다."
      ],
      "metadata": {
        "colab": {
          "base_uri": "https://localhost:8080/",
          "height": 350
        },
        "id": "SEy9Wpu8lEgd",
        "outputId": "f7ae1b55-2c11-430f-f490-b17eb2df1f82"
      },
      "execution_count": 127,
      "outputs": [
        {
          "output_type": "error",
          "ename": "UnboundLocalError",
          "evalue": "local variable 'a' referenced before assignment",
          "traceback": [
            "\u001b[0;31m---------------------------------------------------------------------------\u001b[0m",
            "\u001b[0;31mUnboundLocalError\u001b[0m                         Traceback (most recent call last)",
            "\u001b[0;32m<ipython-input-127-6420c25dd1ab>\u001b[0m in \u001b[0;36m<cell line: 7>\u001b[0;34m()\u001b[0m\n\u001b[1;32m      5\u001b[0m \u001b[0;34m\u001b[0m\u001b[0m\n\u001b[1;32m      6\u001b[0m \u001b[0;34m\u001b[0m\u001b[0m\n\u001b[0;32m----> 7\u001b[0;31m \u001b[0mprint\u001b[0m\u001b[0;34m(\u001b[0m\u001b[0mf\u001b[0m\u001b[0;34m(\u001b[0m\u001b[0;34m)\u001b[0m\u001b[0;34m)\u001b[0m\u001b[0;34m\u001b[0m\u001b[0;34m\u001b[0m\u001b[0m\n\u001b[0m\u001b[1;32m      8\u001b[0m \u001b[0mprint\u001b[0m\u001b[0;34m(\u001b[0m\u001b[0ma\u001b[0m\u001b[0;34m)\u001b[0m  \u001b[0;31m# 출력: 101, 함수 f 내에서 전역 변수 a가 수정되었습니다.\u001b[0m\u001b[0;34m\u001b[0m\u001b[0;34m\u001b[0m\u001b[0m\n",
            "\u001b[0;32m<ipython-input-127-6420c25dd1ab>\u001b[0m in \u001b[0;36mf\u001b[0;34m()\u001b[0m\n\u001b[1;32m      2\u001b[0m \u001b[0;34m\u001b[0m\u001b[0m\n\u001b[1;32m      3\u001b[0m \u001b[0;32mdef\u001b[0m \u001b[0mf\u001b[0m\u001b[0;34m(\u001b[0m\u001b[0;34m)\u001b[0m \u001b[0;34m:\u001b[0m\u001b[0;34m\u001b[0m\u001b[0;34m\u001b[0m\u001b[0m\n\u001b[0;32m----> 4\u001b[0;31m     \u001b[0ma\u001b[0m \u001b[0;34m=\u001b[0m \u001b[0ma\u001b[0m \u001b[0;34m+\u001b[0m \u001b[0;36m1\u001b[0m\u001b[0;34m\u001b[0m\u001b[0;34m\u001b[0m\u001b[0m\n\u001b[0m\u001b[1;32m      5\u001b[0m \u001b[0;34m\u001b[0m\u001b[0m\n\u001b[1;32m      6\u001b[0m \u001b[0;34m\u001b[0m\u001b[0m\n",
            "\u001b[0;31mUnboundLocalError\u001b[0m: local variable 'a' referenced before assignment"
          ]
        }
      ]
    },
    {
      "cell_type": "code",
      "source": [
        "a = 100\n",
        "\n",
        "def f():\n",
        "    print(a) # 출력: 100\n",
        "\n",
        "f() # 외부 변수에 접근하는 것은 가능. 하지만 변경이 불가.\n",
        "\n",
        "def ff():\n",
        "    b = a + 1\n",
        "    print(b) # 출력: 101\n",
        "\n",
        "ff()"
      ],
      "metadata": {
        "colab": {
          "base_uri": "https://localhost:8080/"
        },
        "id": "FRQ7NKkPlJ1m",
        "outputId": "7227f5c7-fcc9-4d5a-a229-54333720e1f7"
      },
      "execution_count": 128,
      "outputs": [
        {
          "output_type": "stream",
          "name": "stdout",
          "text": [
            "100\n",
            "101\n"
          ]
        }
      ]
    },
    {
      "cell_type": "code",
      "source": [
        "a = 100\n",
        "\n",
        "def f():\n",
        "    a = 1000\n",
        "    print(a) # 출력: 1000\n",
        "\n",
        "f() # 처음에 선언한 전역변수 a = 100 과 지역변수 a = 1000 은 서로 다른 변수라는 뜻\n"
      ],
      "metadata": {
        "colab": {
          "base_uri": "https://localhost:8080/"
        },
        "id": "F0iV6L0zl8Vy",
        "outputId": "6073d304-3122-46bb-f4ce-8dd5a88ca1e1"
      },
      "execution_count": 129,
      "outputs": [
        {
          "output_type": "stream",
          "name": "stdout",
          "text": [
            "1000\n"
          ]
        }
      ]
    },
    {
      "cell_type": "code",
      "source": [
        "a= 100\n",
        "\n",
        "def f():\n",
        "    global a\n",
        "    a = a + 1 # error\n",
        "    return a\n",
        "\n",
        "f()"
      ],
      "metadata": {
        "colab": {
          "base_uri": "https://localhost:8080/",
          "height": 332
        },
        "id": "KUHH9sCAmNlg",
        "outputId": "36f38c08-f7ac-49e1-92c7-10ec7315fcd7"
      },
      "execution_count": 136,
      "outputs": [
        {
          "output_type": "error",
          "ename": "UnboundLocalError",
          "evalue": "local variable 'a' referenced before assignment",
          "traceback": [
            "\u001b[0;31m---------------------------------------------------------------------------\u001b[0m",
            "\u001b[0;31mUnboundLocalError\u001b[0m                         Traceback (most recent call last)",
            "\u001b[0;32m<ipython-input-136-794e5e0c4dc3>\u001b[0m in \u001b[0;36m<cell line: 8>\u001b[0;34m()\u001b[0m\n\u001b[1;32m      6\u001b[0m     \u001b[0;32mreturn\u001b[0m \u001b[0ma\u001b[0m\u001b[0;34m\u001b[0m\u001b[0;34m\u001b[0m\u001b[0m\n\u001b[1;32m      7\u001b[0m \u001b[0;34m\u001b[0m\u001b[0m\n\u001b[0;32m----> 8\u001b[0;31m \u001b[0mf\u001b[0m\u001b[0;34m(\u001b[0m\u001b[0;34m)\u001b[0m\u001b[0;34m\u001b[0m\u001b[0;34m\u001b[0m\u001b[0m\n\u001b[0m",
            "\u001b[0;32m<ipython-input-136-794e5e0c4dc3>\u001b[0m in \u001b[0;36mf\u001b[0;34m()\u001b[0m\n\u001b[1;32m      3\u001b[0m \u001b[0;32mdef\u001b[0m \u001b[0mf\u001b[0m\u001b[0;34m(\u001b[0m\u001b[0;34m)\u001b[0m\u001b[0;34m:\u001b[0m\u001b[0;34m\u001b[0m\u001b[0;34m\u001b[0m\u001b[0m\n\u001b[1;32m      4\u001b[0m \u001b[0;34m\u001b[0m\u001b[0m\n\u001b[0;32m----> 5\u001b[0;31m     \u001b[0ma\u001b[0m \u001b[0;34m=\u001b[0m \u001b[0ma\u001b[0m \u001b[0;34m+\u001b[0m \u001b[0;36m1\u001b[0m \u001b[0;31m# error\u001b[0m\u001b[0;34m\u001b[0m\u001b[0;34m\u001b[0m\u001b[0m\n\u001b[0m\u001b[1;32m      6\u001b[0m     \u001b[0;32mreturn\u001b[0m \u001b[0ma\u001b[0m\u001b[0;34m\u001b[0m\u001b[0;34m\u001b[0m\u001b[0m\n\u001b[1;32m      7\u001b[0m \u001b[0;34m\u001b[0m\u001b[0m\n",
            "\u001b[0;31mUnboundLocalError\u001b[0m: local variable 'a' referenced before assignment"
          ]
        }
      ]
    },
    {
      "cell_type": "markdown",
      "source": [
        "# 5. bult in function"
      ],
      "metadata": {
        "id": "ZWHSqcBpmZda"
      }
    },
    {
      "cell_type": "code",
      "source": [
        "# 5.1 all, any\n",
        "\n",
        "# 모두 다 True여야 True 반환\n",
        "# and 와 비슷함\n",
        "\n",
        "all([True, True, True]) # 출력: Ture\n",
        "all([True, True, False]) # 출력: False\n",
        "all([1, 1, 1, 0]) # 출력: False\n",
        "all([1, 0, 1, 1]) # 출력: False\n",
        "all([1, 100, 10, -1]) # 출력: True"
      ],
      "metadata": {
        "colab": {
          "base_uri": "https://localhost:8080/"
        },
        "id": "dX8cvvz7rMdn",
        "outputId": "50c1547d-96dd-4622-8d46-1088d09a31d4"
      },
      "execution_count": 137,
      "outputs": [
        {
          "output_type": "execute_result",
          "data": {
            "text/plain": [
              "True"
            ]
          },
          "metadata": {},
          "execution_count": 137
        }
      ]
    },
    {
      "cell_type": "code",
      "source": [
        "# 하나라도 True이면 True이다.\n",
        "# or 과 비슷함\n",
        "\n",
        "any([True, False, False]) # 출력: True\n",
        "any([False, False, False]) # 출력: False"
      ],
      "metadata": {
        "colab": {
          "base_uri": "https://localhost:8080/"
        },
        "id": "PKc8A0s2r3GF",
        "outputId": "0dca8c7c-e57c-4f06-e121-1161f7c048b8"
      },
      "execution_count": 138,
      "outputs": [
        {
          "output_type": "execute_result",
          "data": {
            "text/plain": [
              "False"
            ]
          },
          "metadata": {},
          "execution_count": 138
        }
      ]
    },
    {
      "cell_type": "code",
      "source": [
        "# 5.2 map\n",
        "\n",
        "# 첫번째 방법\n",
        "\n",
        "def 제곱(x):\n",
        "    return x ** 2\n",
        "list((map(제곱, [1, 2, 3, 4]))) # 출력: [1, 4, 9, 16]"
      ],
      "metadata": {
        "colab": {
          "base_uri": "https://localhost:8080/"
        },
        "id": "SFQ3GLFCsCPD",
        "outputId": "e7b42f3b-a290-4c79-8015-126a4db0d587"
      },
      "execution_count": 145,
      "outputs": [
        {
          "output_type": "execute_result",
          "data": {
            "text/plain": [
              "[1, 4, 9, 16]"
            ]
          },
          "metadata": {},
          "execution_count": 145
        }
      ]
    },
    {
      "cell_type": "code",
      "source": [
        "# 두번째 방법\n",
        "\n",
        "list(map(lambda x : x ** 2, [1, 2, 3, 4])) # 출력: [1, 4, 9, 16]"
      ],
      "metadata": {
        "colab": {
          "base_uri": "https://localhost:8080/"
        },
        "id": "asQO6TpKsv3g",
        "outputId": "6617d539-5ff2-40f8-9d9c-573cd4134972"
      },
      "execution_count": 140,
      "outputs": [
        {
          "output_type": "execute_result",
          "data": {
            "text/plain": [
              "[1, 4, 9, 16]"
            ]
          },
          "metadata": {},
          "execution_count": 140
        }
      ]
    },
    {
      "cell_type": "code",
      "source": [
        "# 5.3 zip\n",
        "\n",
        "list(zip('ab', '12')) # 출력: [('a', '1'), ('b', '2')]"
      ],
      "metadata": {
        "colab": {
          "base_uri": "https://localhost:8080/"
        },
        "id": "OGwyqM9TsxCK",
        "outputId": "6a425566-7f8c-45c9-a71f-b6b2784d580f"
      },
      "execution_count": 146,
      "outputs": [
        {
          "output_type": "execute_result",
          "data": {
            "text/plain": [
              "[('a', '1'), ('b', '2')]"
            ]
          },
          "metadata": {},
          "execution_count": 146
        }
      ]
    },
    {
      "cell_type": "code",
      "source": [
        "list(zip('ab', '12', [10, 20])) # 출력: [('a', '1', 10), ('b', '2', 20)]"
      ],
      "metadata": {
        "colab": {
          "base_uri": "https://localhost:8080/"
        },
        "id": "KpjCZe47ueJ-",
        "outputId": "3ca2af4a-d71e-4b17-9977-54e4fc62a40d"
      },
      "execution_count": 147,
      "outputs": [
        {
          "output_type": "execute_result",
          "data": {
            "text/plain": [
              "[('a', '1', 10), ('b', '2', 20)]"
            ]
          },
          "metadata": {},
          "execution_count": 147
        }
      ]
    },
    {
      "cell_type": "code",
      "source": [
        "list(zip('abc', '1234567', [10, 20, 30]))\n",
        "# 출력 : [('a', '1', 10), ('b', '2', 20), ('c', '3', 30)]"
      ],
      "metadata": {
        "colab": {
          "base_uri": "https://localhost:8080/"
        },
        "id": "ca42DFCnuiYy",
        "outputId": "bc8ec189-9af3-4f68-a97a-bff8d3024801"
      },
      "execution_count": 148,
      "outputs": [
        {
          "output_type": "execute_result",
          "data": {
            "text/plain": [
              "[('a', '1', 10), ('b', '2', 20), ('c', '3', 30)]"
            ]
          },
          "metadata": {},
          "execution_count": 148
        }
      ]
    },
    {
      "cell_type": "code",
      "source": [
        "# 5.4 enumerate\n",
        "# idnex를 자동으로 생성할 때 자주 사\n",
        "\n",
        "values = ['A', 'B', 'C', 'D']\n",
        "print(list(enumerate(values)))\n",
        "print(list(enumerate(values, 1)))\n",
        "print(list(enumerate(values, 100)))"
      ],
      "metadata": {
        "colab": {
          "base_uri": "https://localhost:8080/"
        },
        "id": "HYUPQIZmumdi",
        "outputId": "b894f7dc-ba83-4e1b-949c-7b97394b6957"
      },
      "execution_count": 149,
      "outputs": [
        {
          "output_type": "stream",
          "name": "stdout",
          "text": [
            "[(0, 'A'), (1, 'B'), (2, 'C'), (3, 'D')]\n",
            "[(1, 'A'), (2, 'B'), (3, 'C'), (4, 'D')]\n",
            "[(100, 'A'), (101, 'B'), (102, 'C'), (103, 'D')]\n"
          ]
        }
      ]
    }
  ]
}