{
  "nbformat": 4,
  "nbformat_minor": 0,
  "metadata": {
    "colab": {
      "provenance": [],
      "authorship_tag": "ABX9TyNT+TlPBZ5iz6ZEuCQDHWMu",
      "include_colab_link": true
    },
    "kernelspec": {
      "name": "python3",
      "display_name": "Python 3"
    },
    "language_info": {
      "name": "python"
    }
  },
  "cells": [
    {
      "cell_type": "markdown",
      "metadata": {
        "id": "view-in-github",
        "colab_type": "text"
      },
      "source": [
        "<a href=\"https://colab.research.google.com/github/neysin/orm/blob/main/0115_%EC%97%B0%EC%8A%B5%EB%AC%B8%EC%A0%9C.ipynb\" target=\"_parent\"><img src=\"https://colab.research.google.com/assets/colab-badge.svg\" alt=\"Open In Colab\"/></a>"
      ]
    },
    {
      "cell_type": "code",
      "execution_count": 3,
      "metadata": {
        "colab": {
          "base_uri": "https://localhost:8080/"
        },
        "id": "tqGHSXaaLELn",
        "outputId": "c0a975c9-1599-4d5b-b90b-93b26cdaadfc"
      },
      "outputs": [
        {
          "output_type": "stream",
          "name": "stdout",
          "text": [
            "Alice (2024-01-16 08:00:58.561068): This is the main comment.\n",
            "Bob (2024-01-16 08:00:58.561083): I agree!\n",
            "Charlie (2024-01-16 08:00:58.561086): Disagree.\n"
          ]
        }
      ],
      "source": [
        "from datetime import datetime\n",
        "\n",
        "class Comment:\n",
        "\n",
        "    def __init__(self, user_id, author, content, parent=None): # 댓글 생성\n",
        "        self.user_id = user_id\n",
        "        self.author = author\n",
        "        self.content = content\n",
        "        self.parent = parent\n",
        "        self.timestamp = datetime.now()\n",
        "        self.replies = [] # 대댓글 추가 리스트\n",
        "        self.likes = 0 # 좋아요 개수 초기화\n",
        "\n",
        "    def add_reply(self, reply): # 대댓글 추가 기능\n",
        "        self.replies.append(reply)\n",
        "\n",
        "    def like(self): # 좋아요 추가 기능\n",
        "        self.likes += 1\n",
        "\n",
        "    def display_comments(self, depth=0): # 댓글 출력 기능\n",
        "        indent = \"   \" * depth\n",
        "        print(f'{indent}{self.author} ({self.timestamp}): {self.content}')\n",
        "\n",
        "        for reply in self.replies: # 원 댓글에 들어가 있는 대댓글(replies)들을 출력\n",
        "            reply.display_comments(depth + 1) # 대댓글 들여쓰기 기능\n",
        "\n",
        "\n",
        "# 예시 사용\n",
        "if __name__ == \"__main__\":\n",
        "    # 원 댓글 생성\n",
        "    comment1 = Comment(1, \"Alice\", \"This is the main comment.\")\n",
        "\n",
        "    # 대댓글 생성\n",
        "    reply1 = Comment(2, \"Bob\", \"I agree!\", parent=comment1)\n",
        "    reply2 = Comment(3, \"Charlie\", \"Disagree.\", parent=comment1)\n",
        "\n",
        "    # 더 깊은 대댓글 생성\n",
        "    reply3 = Comment(4, \"Dave\", \"Why do you disagree?\", parent=reply2)\n",
        "\n",
        "    # 좋아요 추가\n",
        "    reply1.like()\n",
        "    reply2.like()\n",
        "    reply3.like()\n",
        "\n",
        "    # 대댓글 추가\n",
        "    comment1.add_reply(reply1)\n",
        "    comment1.add_reply(reply2)\n",
        "\n",
        "    # 계층적으로 댓글 출력\n",
        "    comment1.display_comments()"
      ]
    },
    {
      "cell_type": "code",
      "source": [],
      "metadata": {
        "id": "aITVV9hjOrAS"
      },
      "execution_count": null,
      "outputs": []
    }
  ]
}