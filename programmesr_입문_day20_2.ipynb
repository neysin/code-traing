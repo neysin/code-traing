{
  "nbformat": 4,
  "nbformat_minor": 0,
  "metadata": {
    "colab": {
      "provenance": [],
      "authorship_tag": "ABX9TyPjYt8jRR/AF7wfOy2KIL3S",
      "include_colab_link": true
    },
    "kernelspec": {
      "name": "python3",
      "display_name": "Python 3"
    },
    "language_info": {
      "name": "python"
    }
  },
  "cells": [
    {
      "cell_type": "markdown",
      "metadata": {
        "id": "view-in-github",
        "colab_type": "text"
      },
      "source": [
        "<a href=\"https://colab.research.google.com/github/neysin/orm/blob/main/programmesr_%EC%9E%85%EB%AC%B8_day20_2.ipynb\" target=\"_parent\"><img src=\"https://colab.research.google.com/assets/colab-badge.svg\" alt=\"Open In Colab\"/></a>"
      ]
    },
    {
      "cell_type": "markdown",
      "source": [
        "최댓값 만들기(2)"
      ],
      "metadata": {
        "id": "mlK-J1N_NC0A"
      }
    },
    {
      "cell_type": "code",
      "execution_count": 4,
      "metadata": {
        "colab": {
          "base_uri": "https://localhost:8080/"
        },
        "id": "UhtcELxiC2gO",
        "outputId": "1e3f7530-19a8-4614-e717-a31e0ae4050e"
      },
      "outputs": [
        {
          "output_type": "execute_result",
          "data": {
            "text/plain": [
              "15"
            ]
          },
          "metadata": {},
          "execution_count": 4
        }
      ],
      "source": [
        "# 최댓값 만들기(2)\n",
        "def solution(numbers):\n",
        "    if len(numbers) == 2:\n",
        "        return numbers[0] * numbers[1]\n",
        "\n",
        "    max_num = max(numbers)\n",
        "    while max_num in numbers:\n",
        "        numbers.remove(max_num)\n",
        "\n",
        "    max_num2 = max(numbers)\n",
        "\n",
        "    min_num = min(numbers)\n",
        "    while min_num in numbers:\n",
        "        numbers.remove(min_num)\n",
        "\n",
        "    min_num2 = min(numbers)\n",
        "\n",
        "    if max_num * max_num2 > min_num * min_num2:\n",
        "        return max_num * max_num2\n",
        "    else:\n",
        "        return min_num * min_num2\n",
        "\n",
        "\n",
        "numbers = [1, 2, -3, 4, -5]\n",
        "solution(numbers)"
      ]
    },
    {
      "cell_type": "code",
      "source": [
        "# 정렬 후 앞의 숫자 2개와 뒤의 숫자 2개를 추출 후 계산\n",
        "def solution(numbers):\n",
        "    numbers = sorted(numbers)\n",
        "    return max(numbers[0] * numbers[1], numbers[-1]*numbers[-2])"
      ],
      "metadata": {
        "id": "GH11ZruTEBpP"
      },
      "execution_count": null,
      "outputs": []
    },
    {
      "cell_type": "code",
      "source": [
        "# 다항식 더하기\n",
        "def solution(polynomial):\n",
        "    l = polynomial.replace(' ', \"\").split('+')\n",
        "    list_x = []\n",
        "    list_num = []\n",
        "    for i in l:\n",
        "        if 'x' in i:\n",
        "            if len(i) > 1:\n",
        "                num_x = i[:-1]\n",
        "                list_x.append(int(num_x))\n",
        "            else:\n",
        "                list_x.append(1)\n",
        "        else:\n",
        "            list_num.append(int(i))\n",
        "\n",
        "    sum_x = sum(list_x)\n",
        "    sum_num = sum(list_num)\n",
        "\n",
        "    if sum_x == 0:\n",
        "        return str(sum_num)\n",
        "    elif sum_x == 1:\n",
        "        if sum_num == 0:\n",
        "            return 'x'\n",
        "        else:\n",
        "            return f'x + {sum_num}'\n",
        "    elif sum_x > 1:\n",
        "        if sum_num == 0:\n",
        "            return f'{sum_x}x'\n",
        "        else:\n",
        "            return f'{sum_x}x + {sum_num}'\n",
        "\n",
        "polynomial = \"3x + 7 + x\"\n",
        "solution(polynomial)"
      ],
      "metadata": {
        "colab": {
          "base_uri": "https://localhost:8080/",
          "height": 35
        },
        "id": "bn4Vqd11K2Z6",
        "outputId": "4ca3f578-0a6d-4b10-e0b9-9a9d9cfff00e"
      },
      "execution_count": 3,
      "outputs": [
        {
          "output_type": "execute_result",
          "data": {
            "text/plain": [
              "'4x + 7'"
            ],
            "application/vnd.google.colaboratory.intrinsic+json": {
              "type": "string"
            }
          },
          "metadata": {},
          "execution_count": 3
        }
      ]
    }
  ]
}