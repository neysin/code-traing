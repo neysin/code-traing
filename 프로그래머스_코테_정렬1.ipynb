{
  "nbformat": 4,
  "nbformat_minor": 0,
  "metadata": {
    "colab": {
      "provenance": [],
      "authorship_tag": "ABX9TyP9c5pGeMkldlHwvIefkRv0",
      "include_colab_link": true
    },
    "kernelspec": {
      "name": "python3",
      "display_name": "Python 3"
    },
    "language_info": {
      "name": "python"
    }
  },
  "cells": [
    {
      "cell_type": "markdown",
      "metadata": {
        "id": "view-in-github",
        "colab_type": "text"
      },
      "source": [
        "<a href=\"https://colab.research.google.com/github/neysin/code-traing/blob/main/%ED%94%84%EB%A1%9C%EA%B7%B8%EB%9E%98%EB%A8%B8%EC%8A%A4_%EC%BD%94%ED%85%8C_%EC%A0%95%EB%A0%AC1.ipynb\" target=\"_parent\"><img src=\"https://colab.research.google.com/assets/colab-badge.svg\" alt=\"Open In Colab\"/></a>"
      ]
    },
    {
      "cell_type": "markdown",
      "source": [
        "정렬 - level1 \\\n",
        "두 개 뽑아서 더하기"
      ],
      "metadata": {
        "id": "pYhD2VH6cOvm"
      }
    },
    {
      "cell_type": "code",
      "execution_count": 6,
      "metadata": {
        "colab": {
          "base_uri": "https://localhost:8080/"
        },
        "id": "indVaOZAtoPF",
        "outputId": "424f950f-44c1-41cf-faef-f0de50643145"
      },
      "outputs": [
        {
          "output_type": "execute_result",
          "data": {
            "text/plain": [
              "[2, 3, 4, 5, 6, 7]"
            ]
          },
          "metadata": {},
          "execution_count": 6
        }
      ],
      "source": [
        "def solution(numbers):\n",
        "    from itertools import combinations # 조합 함수 호출\n",
        "    selects = list(combinations(numbers, 2)) # 2개 묶음으로 조합\n",
        "    result = list(map(sum, selects)) # 조합된 리스트를 map 함수를 통해 각각 더한 리스트를 다시 만듬\n",
        "\n",
        "\n",
        "    return sorted(set(result)) # 중복된 정답을 제거한 후 오름차순 정렬\n",
        "\n",
        "numbers = [2,1,3,4,1]\n",
        "solution(numbers)"
      ]
    }
  ]
}