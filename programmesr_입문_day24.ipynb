{
  "nbformat": 4,
  "nbformat_minor": 0,
  "metadata": {
    "colab": {
      "provenance": [],
      "authorship_tag": "ABX9TyMM91aaDMUDKb9AtXOzBWbl",
      "include_colab_link": true
    },
    "kernelspec": {
      "name": "python3",
      "display_name": "Python 3"
    },
    "language_info": {
      "name": "python"
    }
  },
  "cells": [
    {
      "cell_type": "markdown",
      "metadata": {
        "id": "view-in-github",
        "colab_type": "text"
      },
      "source": [
        "<a href=\"https://colab.research.google.com/github/neysin/code-traing/blob/main/programmesr_%EC%9E%85%EB%AC%B8_day24.ipynb\" target=\"_parent\"><img src=\"https://colab.research.google.com/assets/colab-badge.svg\" alt=\"Open In Colab\"/></a>"
      ]
    },
    {
      "cell_type": "markdown",
      "source": [
        "치킨쿠폰"
      ],
      "metadata": {
        "id": "TkY3m1dOqMjt"
      }
    },
    {
      "cell_type": "code",
      "execution_count": 9,
      "metadata": {
        "colab": {
          "base_uri": "https://localhost:8080/"
        },
        "id": "CT5mRM_FbOtP",
        "outputId": "5b399691-3271-402c-95f7-7db2be24252c"
      },
      "outputs": [
        {
          "output_type": "execute_result",
          "data": {
            "text/plain": [
              "120"
            ]
          },
          "metadata": {},
          "execution_count": 9
        }
      ],
      "source": [
        "# 치킨 쿠폰\n",
        "# 치킨 1마리 주문 시 쿠폰 1장\n",
        "# 쿠폰 10장에 치킨 1마리\n",
        "# 서비스 치킨에도 쿠폰이 발급됨\n",
        "def solution(chicken):\n",
        "    count = 0\n",
        "    dumy = 0\n",
        "    while chicken != 0:\n",
        "        dumy += chicken % 10\n",
        "        chicken = chicken // 10\n",
        "        count += chicken\n",
        "\n",
        "    while dumy >= 10:\n",
        "        dumy_count = dumy // 10\n",
        "        count += dumy_count\n",
        "        dumy = dumy % 10 + dumy_count\n",
        "\n",
        "\n",
        "    return count\n",
        "\n",
        "\n",
        "chicken = 1081\n",
        "solution(chicken)"
      ]
    },
    {
      "cell_type": "code",
      "source": [
        "# 10이 아닌 9로 나누어 계산한다는 점이 기억에 남음.\n",
        "# 10마리 주문 시 1개의 쿠폰을 추가로 준다는 점을 9마리로 나누는 것과 같은 결과를 볼 수 있다는 것을 캐치했다는 점이 인상깊음.\n",
        "def solution(chicken):\n",
        "    answer = (max(chicken,1)-1)//9\n",
        "    return answer"
      ],
      "metadata": {
        "id": "Zb3ApQrVcOCk"
      },
      "execution_count": null,
      "outputs": []
    },
    {
      "cell_type": "code",
      "source": [
        "# 이진수 더하기\n",
        "def solution(bin1, bin2):\n",
        "    a = int(bin1, 2)\n",
        "    b = int(bin2, 2)\n",
        "    result = bin(a+b)\n",
        "    return result[2:]\n",
        "\n",
        "bin1 = \"10\"\n",
        "bin2 = \"11\"\n",
        "solution(bin1, bin2)"
      ],
      "metadata": {
        "colab": {
          "base_uri": "https://localhost:8080/",
          "height": 35
        },
        "id": "zO3Xnj-7qPFS",
        "outputId": "50da39b2-5342-471f-9f78-4c4afd0cbd9f"
      },
      "execution_count": 16,
      "outputs": [
        {
          "output_type": "execute_result",
          "data": {
            "text/plain": [
              "'101'"
            ],
            "application/vnd.google.colaboratory.intrinsic+json": {
              "type": "string"
            }
          },
          "metadata": {},
          "execution_count": 16
        }
      ]
    },
    {
      "cell_type": "code",
      "source": [
        "# A로 B 만들기\n",
        "def solution(before, after):\n",
        "    a = sorted(before)\n",
        "    b = sorted(after)\n",
        "    if a == b:\n",
        "        return 1\n",
        "    else:\n",
        "        return 0\n",
        "\n",
        "before = \"olleh\"\n",
        "after = \"hello\"\n",
        "solution(before, after)"
      ],
      "metadata": {
        "colab": {
          "base_uri": "https://localhost:8080/"
        },
        "id": "urJwpBvvqp4s",
        "outputId": "61f19144-72e0-468f-e743-652b462c5840"
      },
      "execution_count": 18,
      "outputs": [
        {
          "output_type": "execute_result",
          "data": {
            "text/plain": [
              "1"
            ]
          },
          "metadata": {},
          "execution_count": 18
        }
      ]
    },
    {
      "cell_type": "code",
      "source": [
        "# k의 개수\n",
        "def solution(i, j, k):\n",
        "    count = 0\n",
        "    for num in range(i, j+1):\n",
        "        for a in str(num):\n",
        "            if str(k) == a:\n",
        "                count += 1\n",
        "\n",
        "    return count\n",
        "\n",
        "i = 1\n",
        "j = 13\n",
        "k = 1\n",
        "solution(i, j, k)"
      ],
      "metadata": {
        "colab": {
          "base_uri": "https://localhost:8080/"
        },
        "id": "czzn0ygauKN1",
        "outputId": "f5ec8d56-ce71-43b2-aa6f-c10122ad7178"
      },
      "execution_count": 21,
      "outputs": [
        {
          "output_type": "execute_result",
          "data": {
            "text/plain": [
              "6"
            ]
          },
          "metadata": {},
          "execution_count": 21
        }
      ]
    }
  ]
}