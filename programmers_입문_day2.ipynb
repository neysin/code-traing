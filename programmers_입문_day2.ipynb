{
  "nbformat": 4,
  "nbformat_minor": 0,
  "metadata": {
    "colab": {
      "provenance": [],
      "authorship_tag": "ABX9TyPSb8rqHdJUwmXm84IEz/Hz",
      "include_colab_link": true
    },
    "kernelspec": {
      "name": "python3",
      "display_name": "Python 3"
    },
    "language_info": {
      "name": "python"
    }
  },
  "cells": [
    {
      "cell_type": "markdown",
      "metadata": {
        "id": "view-in-github",
        "colab_type": "text"
      },
      "source": [
        "<a href=\"https://colab.research.google.com/github/neysin/orm/blob/main/programmers_%EC%9E%85%EB%AC%B8_day2.ipynb\" target=\"_parent\"><img src=\"https://colab.research.google.com/assets/colab-badge.svg\" alt=\"Open In Colab\"/></a>"
      ]
    },
    {
      "cell_type": "code",
      "execution_count": 1,
      "metadata": {
        "colab": {
          "base_uri": "https://localhost:8080/"
        },
        "id": "MiGQhMA7IEpJ",
        "outputId": "b3539c78-e6b7-4f2c-d108-05607dd72db8"
      },
      "outputs": [
        {
          "output_type": "execute_result",
          "data": {
            "text/plain": [
              "1500.0"
            ]
          },
          "metadata": {},
          "execution_count": 1
        }
      ],
      "source": [
        "# 두 수의 나눗셈\n",
        "def solution(num1, num2):\n",
        "    return int(num1 / num2 * 1000)\n",
        "\n",
        "solution(3, 2)"
      ]
    },
    {
      "cell_type": "code",
      "source": [
        "# 숫자 비교하기\n",
        "def solution(num1, num2):\n",
        "    if num1 == num2:\n",
        "        return 1\n",
        "    else:\n",
        "        return -1\n",
        "\n",
        "solution(2, 3)"
      ],
      "metadata": {
        "colab": {
          "base_uri": "https://localhost:8080/"
        },
        "id": "KyXMcXq7IPaF",
        "outputId": "8b3c6213-fc44-427a-fff4-e18c9e226480"
      },
      "execution_count": 3,
      "outputs": [
        {
          "output_type": "execute_result",
          "data": {
            "text/plain": [
              "0"
            ]
          },
          "metadata": {},
          "execution_count": 3
        }
      ]
    },
    {
      "cell_type": "code",
      "source": [
        "# 분수의 덧셈\n",
        "# 유클리드 호제법을 사용한 최대공약수 구하는 법\n",
        "# import math 를 사용하여 math.gcd 함수를 사용가능\n",
        "def solution(numer1, denom1, numer2, denom2):\n",
        "    def gcd(a, b):\n",
        "        while b:\n",
        "            a, b = b, a % b\n",
        "        return a\n",
        "\n",
        "    numer = int(numer1 * denom2 + numer2 * denom1)\n",
        "    denom = int(denom1 * denom2)\n",
        "    g = gcd(denom, numer)\n",
        "\n",
        "    return [numer//g, denom//g]\n",
        "\n",
        "solution(1,2,3,4)"
      ],
      "metadata": {
        "colab": {
          "base_uri": "https://localhost:8080/"
        },
        "id": "eJmec1oyIhOu",
        "outputId": "179035ef-5430-480b-836c-7e9ce9b5f5c5"
      },
      "execution_count": 11,
      "outputs": [
        {
          "output_type": "execute_result",
          "data": {
            "text/plain": [
              "[5, 4]"
            ]
          },
          "metadata": {},
          "execution_count": 11
        }
      ]
    },
    {
      "cell_type": "code",
      "source": [
        "# 배열 두 배 만들기\n",
        "def solution(numbers):\n",
        "    l = []\n",
        "    for i in numbers:\n",
        "        l.append(i*2)\n",
        "\n",
        "    return l\n",
        "\n",
        "numbers = [1, 2, 3, 4, 5]\n",
        "solution(numbers)"
      ],
      "metadata": {
        "colab": {
          "base_uri": "https://localhost:8080/"
        },
        "id": "apYcN8GwOP1y",
        "outputId": "5e848957-f5a3-4ed8-81c2-42ec4a37377a"
      },
      "execution_count": 12,
      "outputs": [
        {
          "output_type": "execute_result",
          "data": {
            "text/plain": [
              "[2, 4, 6, 8, 10]"
            ]
          },
          "metadata": {},
          "execution_count": 12
        }
      ]
    }
  ]
}