{
  "nbformat": 4,
  "nbformat_minor": 0,
  "metadata": {
    "colab": {
      "provenance": [],
      "authorship_tag": "ABX9TyOEU83kNqflpstLKr70Swhp",
      "include_colab_link": true
    },
    "kernelspec": {
      "name": "python3",
      "display_name": "Python 3"
    },
    "language_info": {
      "name": "python"
    }
  },
  "cells": [
    {
      "cell_type": "markdown",
      "metadata": {
        "id": "view-in-github",
        "colab_type": "text"
      },
      "source": [
        "<a href=\"https://colab.research.google.com/github/neysin/orm/blob/main/0105_%EC%97%B0%EC%8A%B5%EB%AC%B8%EC%A0%9C.ipynb\" target=\"_parent\"><img src=\"https://colab.research.google.com/assets/colab-badge.svg\" alt=\"Open In Colab\"/></a>"
      ]
    },
    {
      "cell_type": "code",
      "execution_count": 1,
      "metadata": {
        "colab": {
          "base_uri": "https://localhost:8080/"
        },
        "id": "Zp3F2XK-o27Z",
        "outputId": "e7be7ec4-b57a-445e-ff81-9e838a95d680"
      },
      "outputs": [
        {
          "output_type": "execute_result",
          "data": {
            "text/plain": [
              "1"
            ]
          },
          "metadata": {},
          "execution_count": 1
        }
      ],
      "source": [
        "# 문제 1.1번\n",
        "\n",
        "'hello' and 1\n",
        "# 출력 : 1\n",
        "# and의 경우 첫 번째 피연산자가 거짓인 경우 결과값이 거짓이기 때문에 평가를 완료합니다.\n",
        "# 하지만 위의 경우 첫 번째 피연산자와 두 번째 피연산자가 모두 참이기때문에 출력은 두 번째 피연산자가 출력됩니다."
      ]
    },
    {
      "cell_type": "code",
      "source": [
        "# 문제 1.2번\n",
        "\n",
        "10 or 'hello world'\n",
        "# 출력 10\n",
        "# or 의 경우 첫 번째 피연산자가 참일 경우 결과값이 참이기 때문에 평가를 완료합니다.\n",
        "# 그러므로 이 때 먼저 입력된 앞의 값이 False 가 아니라면\n",
        "# 뒤의 값을 판단할 필요가 없기 때문에 앞의 값이 출력되게 됩니다."
      ],
      "metadata": {
        "colab": {
          "base_uri": "https://localhost:8080/"
        },
        "id": "xpf6D2ATo_UL",
        "outputId": "b391eb57-8562-4ecb-a91e-448c2cd678ee"
      },
      "execution_count": 3,
      "outputs": [
        {
          "output_type": "execute_result",
          "data": {
            "text/plain": [
              "10"
            ]
          },
          "metadata": {},
          "execution_count": 3
        }
      ]
    },
    {
      "cell_type": "code",
      "source": [
        "# 문제 2번\n",
        "\n",
        "d = {'one': 1, 'two': 2}\n",
        "d.setdefault('three', 3)\n",
        "print(d.get('three'), 3)"
      ],
      "metadata": {
        "colab": {
          "base_uri": "https://localhost:8080/"
        },
        "id": "oIb-CctOrgPM",
        "outputId": "c47f523d-151a-45e1-a670-cba61dd71539"
      },
      "execution_count": 21,
      "outputs": [
        {
          "output_type": "stream",
          "name": "stdout",
          "text": [
            "3 3\n"
          ]
        }
      ]
    },
    {
      "cell_type": "code",
      "source": [
        "# 문제 3번\n",
        "\n",
        "l = [1, [10, 20], [3, [100, 200], 5]]\n",
        "print(l[2][1][0])"
      ],
      "metadata": {
        "colab": {
          "base_uri": "https://localhost:8080/"
        },
        "id": "7RYsth6vwnpt",
        "outputId": "58f3d71c-e1a5-4fab-ef30-5a7a61221f27"
      },
      "execution_count": 22,
      "outputs": [
        {
          "output_type": "stream",
          "name": "stdout",
          "text": [
            "100\n"
          ]
        }
      ]
    },
    {
      "cell_type": "code",
      "source": [
        "# 문제 4번\n",
        "\n",
        "l = [[1, 2], [3, 4]]\n",
        "\n",
        "l_sum = sum(l,[])\n",
        "print(sum(l_sum))"
      ],
      "metadata": {
        "colab": {
          "base_uri": "https://localhost:8080/"
        },
        "id": "z4Bq9IYbx9ia",
        "outputId": "9830c9e3-0516-44fd-ba45-3ce42870acdd"
      },
      "execution_count": 36,
      "outputs": [
        {
          "output_type": "stream",
          "name": "stdout",
          "text": [
            "10\n"
          ]
        }
      ]
    },
    {
      "cell_type": "code",
      "source": [
        "# 문제 5번\n",
        "\n",
        "l = [1, 2, 3, 4, 5, 6, 7, 8, 9, 10]\n",
        "\n",
        "even_l = lambda x : x % 2 == 0\n",
        "l_filter = filter(even_l, l)\n",
        "l_sum = sum(l_filter)\n",
        "print(l_sum)"
      ],
      "metadata": {
        "colab": {
          "base_uri": "https://localhost:8080/"
        },
        "id": "J3mW6DDjyBei",
        "outputId": "4f315de1-569b-4984-b5c2-e3b6b8bcfdd4"
      },
      "execution_count": 42,
      "outputs": [
        {
          "output_type": "stream",
          "name": "stdout",
          "text": [
            "30\n"
          ]
        }
      ]
    },
    {
      "cell_type": "code",
      "source": [],
      "metadata": {
        "id": "S_T9hHhw14TP"
      },
      "execution_count": null,
      "outputs": []
    }
  ]
}