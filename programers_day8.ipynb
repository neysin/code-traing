{
  "nbformat": 4,
  "nbformat_minor": 0,
  "metadata": {
    "colab": {
      "provenance": [],
      "authorship_tag": "ABX9TyOzBqF/wihtrpvaCBsUFOz7",
      "include_colab_link": true
    },
    "kernelspec": {
      "name": "python3",
      "display_name": "Python 3"
    },
    "language_info": {
      "name": "python"
    }
  },
  "cells": [
    {
      "cell_type": "markdown",
      "metadata": {
        "id": "view-in-github",
        "colab_type": "text"
      },
      "source": [
        "<a href=\"https://colab.research.google.com/github/neysin/orm/blob/main/programers_day8.ipynb\" target=\"_parent\"><img src=\"https://colab.research.google.com/assets/colab-badge.svg\" alt=\"Open In Colab\"/></a>"
      ]
    },
    {
      "cell_type": "markdown",
      "source": [
        "* or => |\n",
        "* and => &\n",
        "* 연산자로 표현 가능함."
      ],
      "metadata": {
        "id": "0xIQv_FBwfxk"
      }
    },
    {
      "cell_type": "code",
      "execution_count": 2,
      "metadata": {
        "colab": {
          "base_uri": "https://localhost:8080/"
        },
        "id": "jz5Gp87GvogR",
        "outputId": "aa1e0d33-b1a1-4533-e372-e4942fdf6abe"
      },
      "outputs": [
        {
          "output_type": "execute_result",
          "data": {
            "text/plain": [
              "True"
            ]
          },
          "metadata": {},
          "execution_count": 2
        }
      ],
      "source": [
        "# 간단한 논리 연산\n",
        "def solution(x1, x2, x3, x4):\n",
        "    return (x1 or x2) and (x3 or x4)\n",
        "\n",
        "solution(False, True, True, True)"
      ]
    },
    {
      "cell_type": "markdown",
      "source": [
        "주사위 게임3\n",
        "* count 함수를 사용해 새 리스트를 만들어 풀이 한 점이 좋음\n",
        "* 겹치는 2개의 값을 제외한 나머지 값들 끼리의 곱을 (a * b * c * d) / p**2 로 수학적으로 간단하게 표현한 점이 매우 좋음"
      ],
      "metadata": {
        "id": "lOVaRq7YYl--"
      }
    },
    {
      "cell_type": "code",
      "source": [
        "# 주사위 게임 3\n",
        "def solution(a, b, c, d):\n",
        "    l = [a,b,c,d]\n",
        "    if len(set(l)) == 1:\n",
        "        return 1111 * a\n",
        "\n",
        "    elif len(set(l)) == 2 and (([l.count(k) for k in l][0] == 3) or ([l.count(k) for k in l][0] == 1)):\n",
        "        p = [i for i in l if l.count(i) == 3][0]\n",
        "        q = [j for j in l if l.count(j) == 1][0]\n",
        "        return (10 * p + q) ** 2\n",
        "\n",
        "    elif len(set(l)) == 2 and [l.count(k) for k in l][0] == 2:\n",
        "        p, q = set(l)\n",
        "        return (p + q) * abs(p - q)\n",
        "\n",
        "    elif len(set(l)) == 3:\n",
        "        p = [i for i in l if l.count(i) == 2][0]\n",
        "        q, r = set(l) - {p}\n",
        "        return q * r\n",
        "\n",
        "    elif len(set(l)) == 4:\n",
        "        return min(l)\n",
        "\n",
        "solution(4,1,4,4)"
      ],
      "metadata": {
        "colab": {
          "base_uri": "https://localhost:8080/"
        },
        "id": "yB6GDMHAwTbU",
        "outputId": "bd9bb430-b07c-4a34-ebce-61d0f27176bb"
      },
      "execution_count": 25,
      "outputs": [
        {
          "output_type": "execute_result",
          "data": {
            "text/plain": [
              "1681"
            ]
          },
          "metadata": {},
          "execution_count": 25
        }
      ]
    },
    {
      "cell_type": "code",
      "source": [
        "# 주사위 놀이 다른 사람의 풀이 중 제일 마음에 드는\n",
        "def solution(a, b, c, d):\n",
        "    nums = [a, b, c, d]\n",
        "    counts = [nums.count(i) for i in nums]\n",
        "    if max(counts) == 4:\n",
        "        return a * 1111\n",
        "    elif max(counts) == 3:\n",
        "        p = nums[counts.index(3)]\n",
        "        q = nums[counts.index(1)]\n",
        "        return (10 * p + q) ** 2\n",
        "    elif max(counts) == 2:\n",
        "        if min(counts) == 2:\n",
        "            return (a + c) * abs(a - c) if a == b else (a + b) * abs(a - b)\n",
        "        else:\n",
        "            p = nums[counts.index(2)]\n",
        "            return (a * b * c * d) / p**2\n",
        "    else:\n",
        "        return min(nums)"
      ],
      "metadata": {
        "id": "aSxs18RbOh6e"
      },
      "execution_count": null,
      "outputs": []
    },
    {
      "cell_type": "markdown",
      "source": [
        "글자 이어 붙여 문자열 만들기"
      ],
      "metadata": {
        "id": "6Hi9hZLM3FKL"
      }
    },
    {
      "cell_type": "code",
      "source": [
        "# 글자 이어 붙여 문자열 만들기\n",
        "def solution(my_string, index_list):\n",
        "    l = ''\n",
        "    for i in index_list:\n",
        "        l += my_string[i]\n",
        "    return l\n",
        "\n",
        "my_string = \"cvsgiorszzzmrpaqpe\"\n",
        "index_list = [16, 6, 5, 3, 12, 14, 11, 11, 17, 12, 7]\n",
        "solution(my_string, index_list)"
      ],
      "metadata": {
        "colab": {
          "base_uri": "https://localhost:8080/",
          "height": 36
        },
        "id": "vwXRsn5lW3DC",
        "outputId": "73435cde-fa0e-41fa-a0fd-4226dbdbced8"
      },
      "execution_count": 41,
      "outputs": [
        {
          "output_type": "execute_result",
          "data": {
            "text/plain": [
              "'programmers'"
            ],
            "application/vnd.google.colaboratory.intrinsic+json": {
              "type": "string"
            }
          },
          "metadata": {},
          "execution_count": 41
        }
      ]
    },
    {
      "cell_type": "code",
      "source": [
        "# join과 리스트 컴프리헨션을 섞어서 만들기도 가능\n",
        "def solution(my_string, index_list):\n",
        "    return ''.join([my_string[i] for i in index_list])\n",
        "\n",
        "my_string = \"cvsgiorszzzmrpaqpe\"\n",
        "index_list = [16, 6, 5, 3, 12, 14, 11, 11, 17, 12, 7]\n",
        "solution(my_string, index_list)"
      ],
      "metadata": {
        "colab": {
          "base_uri": "https://localhost:8080/",
          "height": 36
        },
        "id": "FpuNlFTC2NOE",
        "outputId": "6fd54487-4ba4-4294-a5ec-b213c24e9f62"
      },
      "execution_count": 42,
      "outputs": [
        {
          "output_type": "execute_result",
          "data": {
            "text/plain": [
              "'programmers'"
            ],
            "application/vnd.google.colaboratory.intrinsic+json": {
              "type": "string"
            }
          },
          "metadata": {},
          "execution_count": 42
        }
      ]
    },
    {
      "cell_type": "code",
      "source": [
        "# 9로 나눈 나머지\n",
        "def solution(number):\n",
        "    result = 0\n",
        "    for i in number:\n",
        "        result += int(i)\n",
        "\n",
        "    return result % 9\n",
        "\n",
        "\n",
        "solution(\"123\")"
      ],
      "metadata": {
        "colab": {
          "base_uri": "https://localhost:8080/"
        },
        "id": "RAW5KBJL3Aou",
        "outputId": "611fa3a5-3547-4875-ae7e-3fb45f81f617"
      },
      "execution_count": 44,
      "outputs": [
        {
          "output_type": "execute_result",
          "data": {
            "text/plain": [
              "6"
            ]
          },
          "metadata": {},
          "execution_count": 44
        }
      ]
    },
    {
      "cell_type": "markdown",
      "source": [
        "문자열 여러 번 뒤집기"
      ],
      "metadata": {
        "id": "1HBOJ16SBp6e"
      }
    },
    {
      "cell_type": "code",
      "source": [
        "# 문자열 여러 번 뒤집기\n",
        "def solution(my_string, queries):\n",
        "    for i in queries:\n",
        "        s, e = i\n",
        "        query = my_string[s: e+1]\n",
        "        reverse_query = query[::-1]\n",
        "        my_string = my_string[:s] + reverse_query + my_string[e+1:]\n",
        "    return my_string\n",
        "\n",
        "\n",
        "my_string = \"rermgorpsam\"\n",
        "queries = [[2, 3], [0, 7], [5, 9], [6, 10]]\n",
        "solution(my_string, queries)"
      ],
      "metadata": {
        "colab": {
          "base_uri": "https://localhost:8080/",
          "height": 36
        },
        "id": "z3LQMKqk714o",
        "outputId": "8007506b-8a39-4170-ebba-97b00f3d2b8a"
      },
      "execution_count": 68,
      "outputs": [
        {
          "output_type": "execute_result",
          "data": {
            "text/plain": [
              "'programmers'"
            ],
            "application/vnd.google.colaboratory.intrinsic+json": {
              "type": "string"
            }
          },
          "metadata": {},
          "execution_count": 68
        }
      ]
    },
    {
      "cell_type": "code",
      "source": [
        "# 내가 한 방법을 더욱 간결하게 잘 사용한 코드\n",
        "# 슬라이싱을 한 후 거기에 다시 슬라이싱을 할 수 있다는 점을 간과했음\n",
        "def solution(my_string, queries):\n",
        "    for (s, e) in queries:\n",
        "        my_string = my_string[:s] + my_string[s:e+1][::-1] + my_string[e+1:]\n",
        "    return my_string"
      ],
      "metadata": {
        "id": "a3OqdWTJBTjC"
      },
      "execution_count": null,
      "outputs": []
    },
    {
      "cell_type": "code",
      "source": [
        "# 문자열을 리스화 시킨후 리스트 연산을 통해 조건을 해결하고 join으로 다시 문자열로 만듬\n",
        "def solution(my_string, queries):\n",
        "    answer=list(my_string)\n",
        "    for s,e in queries:\n",
        "        answer[s:e+1]=answer[s:e+1][::-1]\n",
        "    return ''.join(answer)"
      ],
      "metadata": {
        "id": "B0O-ScxYAAGc"
      },
      "execution_count": null,
      "outputs": []
    }
  ]
}