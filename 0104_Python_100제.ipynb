{
  "nbformat": 4,
  "nbformat_minor": 0,
  "metadata": {
    "colab": {
      "provenance": [],
      "authorship_tag": "ABX9TyNb04q6dXW7bBJAkD/CB5nU",
      "include_colab_link": true
    },
    "kernelspec": {
      "name": "python3",
      "display_name": "Python 3"
    },
    "language_info": {
      "name": "python"
    }
  },
  "cells": [
    {
      "cell_type": "markdown",
      "metadata": {
        "id": "view-in-github",
        "colab_type": "text"
      },
      "source": [
        "<a href=\"https://colab.research.google.com/github/neysin/orm/blob/main/0104_Python_100%EC%A0%9C.ipynb\" target=\"_parent\"><img src=\"https://colab.research.google.com/assets/colab-badge.svg\" alt=\"Open In Colab\"/></a>"
      ]
    },
    {
      "cell_type": "code",
      "execution_count": 2,
      "metadata": {
        "colab": {
          "base_uri": "https://localhost:8080/"
        },
        "id": "truEc6g1Spse",
        "outputId": "b8ada199-b038-417c-b961-7e9d4ce689e5"
      },
      "outputs": [
        {
          "output_type": "stream",
          "name": "stdout",
          "text": [
            "p\n",
            "<class 'str'>\n"
          ]
        }
      ],
      "source": [
        "# 문제 4번\n",
        "\n",
        "a='p'\n",
        "print(a)\n",
        "print(type(a))"
      ]
    },
    {
      "cell_type": "code",
      "source": [
        "# 문제 6번\n",
        "\n",
        "bool(1)"
      ],
      "metadata": {
        "colab": {
          "base_uri": "https://localhost:8080/"
        },
        "id": "v9EyXVpDTPH0",
        "outputId": "91d049cd-156c-45ff-d5bd-9aa70033e13f"
      },
      "execution_count": 6,
      "outputs": [
        {
          "output_type": "execute_result",
          "data": {
            "text/plain": [
              "True"
            ]
          },
          "metadata": {},
          "execution_count": 6
        }
      ]
    },
    {
      "cell_type": "code",
      "source": [
        "# 문제 7번\n",
        "\n",
        "as = 'p' # 이미 존재하는 키워드\n",
        "1age = 'x' # 숫자부터 시작 시 에러"
      ],
      "metadata": {
        "colab": {
          "base_uri": "https://localhost:8080/",
          "height": 141
        },
        "id": "UqsNh6nCTu-1",
        "outputId": "0abf03fe-3a6e-4741-bec8-5c4629b5a0db"
      },
      "execution_count": 8,
      "outputs": [
        {
          "output_type": "error",
          "ename": "SyntaxError",
          "evalue": "ignored",
          "traceback": [
            "\u001b[0;36m  File \u001b[0;32m\"<ipython-input-8-0f9ea24025f4>\"\u001b[0;36m, line \u001b[0;32m3\u001b[0m\n\u001b[0;31m    as = 'p'\u001b[0m\n\u001b[0m    ^\u001b[0m\n\u001b[0;31mSyntaxError\u001b[0m\u001b[0;31m:\u001b[0m invalid syntax\n"
          ]
        }
      ]
    },
    {
      "cell_type": "code",
      "source": [
        "# 문제 16\n",
        "\n",
        "a = input()\n",
        "print(a[::-1])"
      ],
      "metadata": {
        "colab": {
          "base_uri": "https://localhost:8080/"
        },
        "id": "jOQcJpAlUIIG",
        "outputId": "6feee970-0795-4986-8ca5-f4905cd43914"
      },
      "execution_count": 9,
      "outputs": [
        {
          "output_type": "stream",
          "name": "stdout",
          "text": [
            "거꾸로\n",
            "로꾸거\n"
          ]
        }
      ]
    },
    {
      "cell_type": "code",
      "source": [
        "# 문제 22\n",
        "\n",
        "i = 6\n",
        "i%6 == 0"
      ],
      "metadata": {
        "colab": {
          "base_uri": "https://localhost:8080/"
        },
        "id": "zXhX8U5eUulQ",
        "outputId": "10686bd1-3eaa-48bb-c313-dfbe19072a39"
      },
      "execution_count": 11,
      "outputs": [
        {
          "output_type": "execute_result",
          "data": {
            "text/plain": [
              "True"
            ]
          },
          "metadata": {},
          "execution_count": 11
        }
      ]
    },
    {
      "cell_type": "code",
      "source": [
        "# 문제 24\n",
        "\n",
        "a = input()\n",
        "print(a.upper())"
      ],
      "metadata": {
        "colab": {
          "base_uri": "https://localhost:8080/"
        },
        "id": "NeqBWUBiVDCq",
        "outputId": "a82b2b80-48fe-491e-f466-cd82a4e2aa89"
      },
      "execution_count": 12,
      "outputs": [
        {
          "output_type": "stream",
          "name": "stdout",
          "text": [
            "mary\n",
            "MARY\n"
          ]
        }
      ]
    },
    {
      "cell_type": "code",
      "source": [
        "# 문제 30\n",
        "\n",
        "문자열 = input()\n",
        "찾을_문자 = input()\n",
        "print(문자열.index(찾을_문자))"
      ],
      "metadata": {
        "colab": {
          "base_uri": "https://localhost:8080/"
        },
        "id": "lf-pZCwkVmWs",
        "outputId": "9a587c3b-045c-46cd-d44b-89a295e0994a"
      },
      "execution_count": 14,
      "outputs": [
        {
          "output_type": "stream",
          "name": "stdout",
          "text": [
            "pineapple\n",
            "apple\n",
            "4\n"
          ]
        }
      ]
    },
    {
      "cell_type": "code",
      "source": [
        "# 문제 31\n",
        "\n",
        "l[a:b] # 처리해야 할 리스트의 길이가 달라질 수 있으므로 O(n)\n",
        "l.clear() # 리스트에 속해 있는 모든 원소를 제거 하므로 리스트의 길이에 따라 달라짐. 따라서 O(n)"
      ],
      "metadata": {
        "id": "bK0b5ZZOWHF9"
      },
      "execution_count": null,
      "outputs": []
    },
    {
      "cell_type": "code",
      "source": [
        "# 문제 32\n",
        "# 기존에는 strip()을 넣지 않았지만 넣는 것이 더 정확하다고 생각됨.\n",
        "\n",
        "입력 = input()\n",
        "a = 입력.strip().split() # 공백을 기준으로 입력 받은 문장을 리스트로 작성\n",
        "print(len(a)) # 리스트의 길이 측정 및 출력"
      ],
      "metadata": {
        "colab": {
          "base_uri": "https://localhost:8080/"
        },
        "id": "33u5qy6zZOLw",
        "outputId": "7b64fce9-68b3-4470-b1f1-af47c23aacff"
      },
      "execution_count": 19,
      "outputs": [
        {
          "output_type": "stream",
          "name": "stdout",
          "text": [
            "안녕하세요. 저는 제주대학교 컴퓨터공학전공 혜림입니다.\n",
            "5\n"
          ]
        }
      ]
    }
  ]
}