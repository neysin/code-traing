{
  "nbformat": 4,
  "nbformat_minor": 0,
  "metadata": {
    "colab": {
      "provenance": [],
      "authorship_tag": "ABX9TyOy6u0XzsO5QwhIlvWtb3Xx",
      "include_colab_link": true
    },
    "kernelspec": {
      "name": "python3",
      "display_name": "Python 3"
    },
    "language_info": {
      "name": "python"
    }
  },
  "cells": [
    {
      "cell_type": "markdown",
      "metadata": {
        "id": "view-in-github",
        "colab_type": "text"
      },
      "source": [
        "<a href=\"https://colab.research.google.com/github/neysin/orm/blob/main/programmers_day24.ipynb\" target=\"_parent\"><img src=\"https://colab.research.google.com/assets/colab-badge.svg\" alt=\"Open In Colab\"/></a>"
      ]
    },
    {
      "cell_type": "markdown",
      "source": [
        "커피 심부름"
      ],
      "metadata": {
        "id": "QDre_NWMfZbk"
      }
    },
    {
      "cell_type": "code",
      "execution_count": 1,
      "metadata": {
        "colab": {
          "base_uri": "https://localhost:8080/"
        },
        "id": "sIb607SzbX6M",
        "outputId": "88928eb6-d211-41bf-dd62-9b49d97212e2"
      },
      "outputs": [
        {
          "output_type": "execute_result",
          "data": {
            "text/plain": [
              "19000"
            ]
          },
          "metadata": {},
          "execution_count": 1
        }
      ],
      "source": [
        "# 커피 심부름\n",
        "# 아메리카노 = 4500, 카페 라테 = 5000\n",
        "# 메뉴만 적은 팀원의 것 =  차가운 것, \"아무거나\"를 적은 팀원의 것 = 차가운 아메리카노\n",
        "\n",
        "def solution(order):\n",
        "    l = []\n",
        "    for i in order:\n",
        "        if \"cafelatte\" in i:\n",
        "            l.append(5000)\n",
        "        elif \"americano\" in i:\n",
        "            l.append(4500)\n",
        "        elif \"anything\" in i:\n",
        "            l.append(4500)\n",
        "\n",
        "    return sum(l)\n",
        "\n",
        "order = [\"cafelatte\", \"americanoice\", \"hotcafelatte\", \"anything\"]\n",
        "solution(order)"
      ]
    },
    {
      "cell_type": "code",
      "source": [
        "# 조건을 더 간결하게 작성\n",
        "def solution(order):\n",
        "    answer = 0\n",
        "    for want in order:\n",
        "        if 'latte' in want:\n",
        "            answer += 500\n",
        "        answer += 4500\n",
        "\n",
        "    return answer"
      ],
      "metadata": {
        "id": "OO55y1bxfIRm"
      },
      "execution_count": null,
      "outputs": []
    },
    {
      "cell_type": "code",
      "source": [
        "# 그림 확대\n",
        "def solution(picture, k):\n",
        "    l2 = []\n",
        "    for i in picture:\n",
        "        l = [j*k for j in i]\n",
        "        for _ in range(k):\n",
        "            l2.append(''.join(l))\n",
        "\n",
        "\n",
        "    return l2\n",
        "picture = [\".xx...xx.\", \"x..x.x..x\", \"x...x...x\", \".x.....x.\", \"..x...x..\", \"...x.x...\", \"....x....\"]\n",
        "k = 2\n",
        "solution(picture, k)"
      ],
      "metadata": {
        "colab": {
          "base_uri": "https://localhost:8080/"
        },
        "id": "QOyhinjZfb0n",
        "outputId": "8751572a-1f1a-4b24-ddc6-fbe1ab60d3dd"
      },
      "execution_count": 12,
      "outputs": [
        {
          "output_type": "execute_result",
          "data": {
            "text/plain": [
              "['..xxxx......xxxx..',\n",
              " '..xxxx......xxxx..',\n",
              " 'xx....xx..xx....xx',\n",
              " 'xx....xx..xx....xx',\n",
              " 'xx......xx......xx',\n",
              " 'xx......xx......xx',\n",
              " '..xx..........xx..',\n",
              " '..xx..........xx..',\n",
              " '....xx......xx....',\n",
              " '....xx......xx....',\n",
              " '......xx..xx......',\n",
              " '......xx..xx......',\n",
              " '........xx........',\n",
              " '........xx........']"
            ]
          },
          "metadata": {},
          "execution_count": 12
        }
      ]
    },
    {
      "cell_type": "markdown",
      "source": [
        "조건에 맞게 수열 변환하기 3"
      ],
      "metadata": {
        "id": "v00OJdZQj4zE"
      }
    },
    {
      "cell_type": "code",
      "source": [
        "# 조건에 맞게 수열 변환하기 3\n",
        "def solution(arr, k):\n",
        "    if k % 2 != 0:\n",
        "        for i in range(len(arr)):\n",
        "            arr[i] *= k\n",
        "    else:\n",
        "        for i in range(len(arr)):\n",
        "            arr[i] += k\n",
        "\n",
        "    return arr\n",
        "\n",
        "arr = [1, 2, 3, 100, 99, 98]\n",
        "k = 3\n",
        "solution(arr, k)"
      ],
      "metadata": {
        "colab": {
          "base_uri": "https://localhost:8080/"
        },
        "id": "OfbK7MGDggay",
        "outputId": "f22b39b8-dbf7-4160-9afa-5dda32ceb5c4"
      },
      "execution_count": 15,
      "outputs": [
        {
          "output_type": "execute_result",
          "data": {
            "text/plain": [
              "[3, 6, 9, 300, 297, 294]"
            ]
          },
          "metadata": {},
          "execution_count": 15
        }
      ]
    },
    {
      "cell_type": "code",
      "source": [
        "# 리스트 커프리헨션으로 한줄로 요약함.\n",
        "def solution(arr, k):\n",
        "    return [i*k if k%2!=0 else i+k for i in arr]"
      ],
      "metadata": {
        "id": "Rzybfx1QjZ5o"
      },
      "execution_count": null,
      "outputs": []
    },
    {
      "cell_type": "code",
      "source": [
        "# I로 만들기\n",
        "def solution(myString):\n",
        "    result = []\n",
        "    for i in myString:\n",
        "        if i < 'l':\n",
        "            i = 'l'\n",
        "            result.append(i)\n",
        "        else:\n",
        "            result.append(i)\n",
        "\n",
        "    return ''.join(result)\n",
        "\n",
        "myString = \"abcdevwxyz\"\n",
        "solution(myString)"
      ],
      "metadata": {
        "colab": {
          "base_uri": "https://localhost:8080/",
          "height": 36
        },
        "id": "mJ_KJuxcj7AV",
        "outputId": "e4248a5f-85d5-40fb-c29e-84f1e2840f6f"
      },
      "execution_count": 24,
      "outputs": [
        {
          "output_type": "execute_result",
          "data": {
            "text/plain": [
              "'lllllvwxyz'"
            ],
            "application/vnd.google.colaboratory.intrinsic+json": {
              "type": "string"
            }
          },
          "metadata": {},
          "execution_count": 24
        }
      ]
    },
    {
      "cell_type": "code",
      "source": [
        "# 특별한 이차원 배열 1\n",
        "def solution(n):\n",
        "    arr = []\n",
        "    for i in range(n):\n",
        "        row = []\n",
        "        for j in range(n):\n",
        "            row.append(0)\n",
        "        arr.append(row)\n",
        "\n",
        "    for i in range(n):\n",
        "       for j in range(n):\n",
        "            if i == j:\n",
        "                arr[i][j] = 1\n",
        "\n",
        "\n",
        "    return arr\n",
        "\n",
        "n = 3\n",
        "solution(n)"
      ],
      "metadata": {
        "colab": {
          "base_uri": "https://localhost:8080/"
        },
        "id": "HU_3yb1_kdu-",
        "outputId": "4c7f5e56-2f25-4e23-ce3d-b15666cc199f"
      },
      "execution_count": 28,
      "outputs": [
        {
          "output_type": "execute_result",
          "data": {
            "text/plain": [
              "[[1, 0, 0], [0, 1, 0], [0, 0, 1]]"
            ]
          },
          "metadata": {},
          "execution_count": 28
        }
      ]
    },
    {
      "cell_type": "code",
      "source": [
        "# 배열은 아래 2열과 같이 만들어 쓰면 됨.\n",
        "def solution(n):\n",
        "    answer=[[0]*n for i in range(n)]\n",
        "    for i in range(n): answer[i][i]=1\n",
        "    return answer"
      ],
      "metadata": {
        "id": "Jrf7S-k1pGmE"
      },
      "execution_count": null,
      "outputs": []
    }
  ]
}