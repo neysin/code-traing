{
  "nbformat": 4,
  "nbformat_minor": 0,
  "metadata": {
    "colab": {
      "provenance": [],
      "authorship_tag": "ABX9TyOxLIW8VKFhQYoUgZ7psxDQ",
      "include_colab_link": true
    },
    "kernelspec": {
      "name": "python3",
      "display_name": "Python 3"
    },
    "language_info": {
      "name": "python"
    }
  },
  "cells": [
    {
      "cell_type": "markdown",
      "metadata": {
        "id": "view-in-github",
        "colab_type": "text"
      },
      "source": [
        "<a href=\"https://colab.research.google.com/github/neysin/orm/blob/main/pyalgo_68~70.ipynb\" target=\"_parent\"><img src=\"https://colab.research.google.com/assets/colab-badge.svg\" alt=\"Open In Colab\"/></a>"
      ]
    },
    {
      "cell_type": "code",
      "source": [
        "# 문제 68번\n",
        "from itertools import permutations\n",
        "\n",
        "def solution(data):\n",
        "    data_list = permutations(data)\n",
        "    str_list = [''.join(map(str, i)) for i in data_list]\n",
        "    return str(max(map(int, str_list)))\n",
        "\n",
        "data = [3, 30, 34, 5, 9]\n",
        "solution(data)"
      ],
      "metadata": {
        "colab": {
          "base_uri": "https://localhost:8080/",
          "height": 36
        },
        "id": "DF2m5zysZlFC",
        "outputId": "668dd38c-cb1c-41f7-f7cf-d3d5050c7ff8"
      },
      "execution_count": 15,
      "outputs": [
        {
          "output_type": "execute_result",
          "data": {
            "text/plain": [
              "'9534330'"
            ],
            "application/vnd.google.colaboratory.intrinsic+json": {
              "type": "string"
            }
          },
          "metadata": {},
          "execution_count": 15
        }
      ]
    },
    {
      "cell_type": "code",
      "source": [
        "# 문제 69번\n",
        "def solution(data):\n",
        "    from itertools import combinations\n",
        "    data_list, target_num = data\n",
        "    comb_list = combinations(data_list, 2)\n",
        "\n",
        "    l = []\n",
        "    for i in comb_list:\n",
        "        if sum(i) == target_num:\n",
        "            l.append(i)\n",
        "\n",
        "    return list(set(l))\n",
        "\n",
        "\n",
        "\n",
        "data = ([5, 5, 10, 15, 20, 25], 30)\n",
        "solution(data)"
      ],
      "metadata": {
        "colab": {
          "base_uri": "https://localhost:8080/"
        },
        "id": "IqzLtbLvZmwR",
        "outputId": "6dc4846f-9093-4e7a-9e2f-fc777143516c"
      },
      "execution_count": 21,
      "outputs": [
        {
          "output_type": "execute_result",
          "data": {
            "text/plain": [
              "[(5, 25), (10, 20)]"
            ]
          },
          "metadata": {},
          "execution_count": 21
        }
      ]
    },
    {
      "cell_type": "code",
      "source": [
        "# 문제 70번\n",
        "def solution(data):\n",
        "    from itertools import combinations\n",
        "    data_list, A, B = data\n",
        "\n",
        "    l = []\n",
        "    for i in range(len(data_list)+1):\n",
        "        comb_list = combinations(data_list, i)\n",
        "\n",
        "        for j in comb_list:\n",
        "            if A <= sum(j) and sum(j) <= B:\n",
        "                l.append(j)\n",
        "\n",
        "    return len(l)\n",
        "\n",
        "\n",
        "\n",
        "data = ([1, 2, 3, 4, 5], 5, 10)\n",
        "solution(data)"
      ],
      "metadata": {
        "colab": {
          "base_uri": "https://localhost:8080/"
        },
        "id": "Nq5X-ubXdH6I",
        "outputId": "45eec410-2b54-47f7-d161-d362a7c50952"
      },
      "execution_count": 43,
      "outputs": [
        {
          "output_type": "execute_result",
          "data": {
            "text/plain": [
              "18"
            ]
          },
          "metadata": {},
          "execution_count": 43
        }
      ]
    }
  ]
}