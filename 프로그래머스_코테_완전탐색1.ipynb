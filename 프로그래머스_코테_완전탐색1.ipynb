{
  "nbformat": 4,
  "nbformat_minor": 0,
  "metadata": {
    "colab": {
      "provenance": [],
      "authorship_tag": "ABX9TyOBZ9ITphnWolZNy2vT2znq",
      "include_colab_link": true
    },
    "kernelspec": {
      "name": "python3",
      "display_name": "Python 3"
    },
    "language_info": {
      "name": "python"
    }
  },
  "cells": [
    {
      "cell_type": "markdown",
      "metadata": {
        "id": "view-in-github",
        "colab_type": "text"
      },
      "source": [
        "<a href=\"https://colab.research.google.com/github/neysin/code-traing/blob/main/%ED%94%84%EB%A1%9C%EA%B7%B8%EB%9E%98%EB%A8%B8%EC%8A%A4_%EC%BD%94%ED%85%8C_%EC%99%84%EC%A0%84%ED%83%90%EC%83%891.ipynb\" target=\"_parent\"><img src=\"https://colab.research.google.com/assets/colab-badge.svg\" alt=\"Open In Colab\"/></a>"
      ]
    },
    {
      "cell_type": "markdown",
      "source": [
        "완전탐색 - level1 \\\n",
        "모의고사"
      ],
      "metadata": {
        "id": "EzzDnwfK3zfh"
      }
    },
    {
      "cell_type": "code",
      "execution_count": 8,
      "metadata": {
        "colab": {
          "base_uri": "https://localhost:8080/"
        },
        "id": "q_diUHjKxT5e",
        "outputId": "9e551dee-8d32-4fb5-e5fd-c87b199c7681"
      },
      "outputs": [
        {
          "output_type": "execute_result",
          "data": {
            "text/plain": [
              "[1]"
            ]
          },
          "metadata": {},
          "execution_count": 8
        }
      ],
      "source": [
        "def solution(answers):\n",
        "    student1 = [1,2,3,4,5] # 학생마다의 패턴을 작성\n",
        "    student2 = [2,1,2,3,2,4,2,5]\n",
        "    student3 = [3,3,1,1,2,2,4,4,5,5]\n",
        "    score = [0, 0, 0]\n",
        "    result = []\n",
        "\n",
        "    for idx, answer in enumerate(answers): # 반복문을 통해 학생의 패턴과 주어진 정답을 비교\n",
        "        if answer == student1[idx % len(student1)]:\n",
        "            score[0] += 1\n",
        "        if answer == student2[idx % len(student1)]:\n",
        "            score[1] += 1\n",
        "        if answer == student3[idx % len(student1)]:\n",
        "            score[2] += 1\n",
        "\n",
        "    for idx, s in enumerate(score): # 가장 높은 점수를 가진 학생을 찾아 출력해야함으로 찾아주는 반복문을 작성\n",
        "        if s == max(score):\n",
        "            result.append(idx + 1)\n",
        "    return result\n",
        "\n",
        "answers = [1,2,3,4,5]\n",
        "solution(answers)"
      ]
    }
  ]
}