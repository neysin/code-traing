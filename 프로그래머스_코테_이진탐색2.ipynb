{
  "nbformat": 4,
  "nbformat_minor": 0,
  "metadata": {
    "colab": {
      "provenance": [],
      "authorship_tag": "ABX9TyMekNQmI3CUbByS3CF2zr8F",
      "include_colab_link": true
    },
    "kernelspec": {
      "name": "python3",
      "display_name": "Python 3"
    },
    "language_info": {
      "name": "python"
    }
  },
  "cells": [
    {
      "cell_type": "markdown",
      "metadata": {
        "id": "view-in-github",
        "colab_type": "text"
      },
      "source": [
        "<a href=\"https://colab.research.google.com/github/neysin/code-traing/blob/main/%ED%94%84%EB%A1%9C%EA%B7%B8%EB%9E%98%EB%A8%B8%EC%8A%A4_%EC%BD%94%ED%85%8C_%EC%9D%B4%EC%A7%84%ED%83%90%EC%83%892.ipynb\" target=\"_parent\"><img src=\"https://colab.research.google.com/assets/colab-badge.svg\" alt=\"Open In Colab\"/></a>"
      ]
    },
    {
      "cell_type": "markdown",
      "source": [
        "이진 탐색 - level2 \\\n",
        "순위 검색"
      ],
      "metadata": {
        "id": "NvHXPhTDrs7C"
      }
    },
    {
      "cell_type": "code",
      "execution_count": 8,
      "metadata": {
        "colab": {
          "base_uri": "https://localhost:8080/"
        },
        "id": "ChzmyD1vrpgM",
        "outputId": "f3adb846-9d95-4cb4-8b12-d15ff44deba1"
      },
      "outputs": [
        {
          "output_type": "execute_result",
          "data": {
            "text/plain": [
              "[1, 1, 1, 1, 2, 2]"
            ]
          },
          "metadata": {},
          "execution_count": 8
        }
      ],
      "source": [
        "# 시간 복잡도에서 문제가 생기는 코드\n",
        "def solution(info, query):\n",
        "    '''\n",
        "    개발언어: cpp, java, python 중 택 1\n",
        "    지원직군: backend, forntend\n",
        "    경력구분: junior, senior\n",
        "    소울푸드: chichen, pizza\n",
        "    조건에 맞는 지원자 찾기\n",
        "    '''\n",
        "    data = [i.split() for i in info]\n",
        "    queries = [] # data, queries 둘 다 2차원 배열임\n",
        "\n",
        "    for q in query:\n",
        "        q = q.split()\n",
        "        for _ in range(3):\n",
        "            q.remove('and')\n",
        "        queries.append(q)\n",
        "\n",
        "    answer = [0] * len(query) # 조건의 개수만큼 만듬\n",
        "\n",
        "    for i in range(len(queries)): # 조건의 개수만큼 반복(세부사항의 개수를 말하는 것이 아님)\n",
        "        q = queries[i]\n",
        "        for info in data:\n",
        "            for j in range(5): # 세부조건의 개수\n",
        "                if q[j] == '-':\n",
        "                    continue\n",
        "                elif j == 4 and int(info[j]) > int(q[j]):\n",
        "                    answer[i] += 1 # 여러 조건에 해당하는 지원자의 호출 횟수를 세기 위함\n",
        "                elif info[j] != q[j]:\n",
        "                    break\n",
        "\n",
        "    return answer\n",
        "\n",
        "info = [\"java backend junior pizza 150\",\"python frontend senior chicken 210\",\"python frontend senior chicken 150\",\"cpp backend senior pizza 260\",\"java backend junior chicken 80\",\"python backend senior chicken 50\"]\n",
        "query = [\"java and backend and junior and pizza 100\",\"python and frontend and senior and chicken 200\",\"cpp and - and senior and pizza 250\",\"- and backend and senior and - 150\",\"- and - and - and chicken 100\",\"- and - and - and - 150\"]\n",
        "solution(info, query)"
      ]
    },
    {
      "cell_type": "code",
      "source": [
        "# 시간 복잡도를 해결한 코드\n",
        "# 조건들을 묶어서 키값으로 사용하고 점수를 밸류값으로 사용하여 기준으로 세운 후 조건에 맞는지를 판별.\n",
        "from collections import defaultdict\n",
        "from itertools import combinations\n",
        "from bisect import bisect_left as left_bound\n",
        "def solution(info, query):\n",
        "    answer = []\n",
        "    people = defaultdict(list)\n",
        "\n",
        "    for i in info:\n",
        "        person = i.split() # info 값을 나눔\n",
        "        score = int(person.pop()) # 점수 부분을 info에서 모두 삭제 후 score에 따로 저장\n",
        "        people[''.join(person)].append(score) # 조건을 묶어서 키값으로 사용하고 점수를 밸류값으로 사용\n",
        "\n",
        "        for j in range(4):\n",
        "            case = list(combinations(person, j)) # 조건을 0~3 까지 개수의 조합으로 만듬\n",
        "            for c in case:\n",
        "                people[''.join(c)].append(score) # 조건은 조합을 통해 섞여있지만 그것들의 밸류값인 점수는 공통임.\n",
        "\n",
        "    for i in people: people[i].sort()\n",
        "\n",
        "    for i in query:\n",
        "        key = i.split()\n",
        "        score = int(key.pop())\n",
        "        key = ''.join(key)\n",
        "        key = key.replace('and', '').replace(' ', '').replace('-', '') # 키에 필요없는 구성요소들을 제거함.\n",
        "        answer.append(len(people[key]) - left_bound(people[key], score)) # len(people[key])은 key에 해당하는 점수리스트의 길이를 뜻함.\n",
        "        # left_bound(people[key], score)은 점수리스트에서 주어진 socre가 처음 나오는 지점의 인덱스를 말함.\n",
        "        # 따라서 둘을 빼준다는 것은 전체 점수리스트 길이에서 조건에 맞지 않는 점수들을 제외해 준다는 의미\n",
        "\n",
        "    return answer\n",
        "\n",
        "info = [\"java backend junior pizza 150\",\"python frontend senior chicken 210\",\"python frontend senior chicken 150\",\"cpp backend senior pizza 260\",\"java backend junior chicken 80\",\"python backend senior chicken 50\"]\n",
        "query = [\"java and backend and junior and pizza 100\",\"python and frontend and senior and chicken 200\",\"cpp and - and senior and pizza 250\",\"- and backend and senior and - 150\",\"- and - and - and chicken 100\",\"- and - and - and - 150\"]\n",
        "solution(info, query)"
      ],
      "metadata": {
        "id": "xS6dlDKYvdcN"
      },
      "execution_count": null,
      "outputs": []
    }
  ]
}