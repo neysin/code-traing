{
  "nbformat": 4,
  "nbformat_minor": 0,
  "metadata": {
    "colab": {
      "provenance": [],
      "authorship_tag": "ABX9TyNPaVAm86dM5H3tC9tGXbVe",
      "include_colab_link": true
    },
    "kernelspec": {
      "name": "python3",
      "display_name": "Python 3"
    },
    "language_info": {
      "name": "python"
    }
  },
  "cells": [
    {
      "cell_type": "markdown",
      "metadata": {
        "id": "view-in-github",
        "colab_type": "text"
      },
      "source": [
        "<a href=\"https://colab.research.google.com/github/neysin/orm/blob/main/Pyalgo_7~12.ipynb\" target=\"_parent\"><img src=\"https://colab.research.google.com/assets/colab-badge.svg\" alt=\"Open In Colab\"/></a>"
      ]
    },
    {
      "cell_type": "code",
      "execution_count": 14,
      "metadata": {
        "colab": {
          "base_uri": "https://localhost:8080/"
        },
        "id": "rtC5jIWdTm3X",
        "outputId": "c8f8ab4e-fe30-4041-b5e3-4b99aa1ce63b"
      },
      "outputs": [
        {
          "output_type": "execute_result",
          "data": {
            "text/plain": [
              "['B', 'C', 'A']"
            ]
          },
          "metadata": {},
          "execution_count": 14
        }
      ],
      "source": [
        "# 문제 7번\n",
        "\n",
        "def solution(data):\n",
        "    l= []\n",
        "    # 숫자 기준으로 정렬 후 정렬되어 순서대로 알파벳을 반환\n",
        "    sorted_list = sorted(data, key = lambda x: x[1])\n",
        "    for i in range(len(data)):\n",
        "        l.append(sorted_list[i][0])\n",
        "    return l\n",
        "\n",
        "data = [['A', 3], ['B', 1], ['C', 2]]\n",
        "solution(data)"
      ]
    },
    {
      "cell_type": "code",
      "source": [
        "# 문제 8번\n",
        "\n",
        "def solution(data):\n",
        "    l = []\n",
        "    # i, j 값 반복 후 절대값과 i,j 값을 튜플로 l에 반환\n",
        "    for i in data:\n",
        "        for j in data:\n",
        "            z = abs(int(i)-int(j))\n",
        "            l.append((z,[i, j]))\n",
        "\n",
        "    # 절대값이 0인 값을 제외\n",
        "    new_l = []\n",
        "    for abs_z, point in l:\n",
        "        if abs_z != 0:\n",
        "            new_l.append((abs_z, point))\n",
        "\n",
        "    # 리스트 new_l에서 절대값을 기준으로 최솟값을 찾은 후 i,j 쌍을 반환\n",
        "    return min(new_l, key = lambda x: x[0])[1]\n",
        "\n",
        "data = [1, 3, 4, 6]\n",
        "solution(data)"
      ],
      "metadata": {
        "colab": {
          "base_uri": "https://localhost:8080/"
        },
        "id": "SAOFZYfoVBOe",
        "outputId": "1d33a5d9-cc96-4778-8cfa-79721ceac5fe"
      },
      "execution_count": 48,
      "outputs": [
        {
          "output_type": "execute_result",
          "data": {
            "text/plain": [
              "[3, 4]"
            ]
          },
          "metadata": {},
          "execution_count": 48
        }
      ]
    },
    {
      "cell_type": "code",
      "source": [
        "# 문제 9번\n",
        "\n",
        "def solution(data):\n",
        "    math_sort = sorted(data, key = lambda x: x['수'], reverse = True)\n",
        "    return math_sort[0]['이름']\n",
        "\n",
        "data = [{'이름': 'A', '국': 30, '영': 20, '수': 85}, {'이름': 'B', '국': 95, '영': 98, '수': 10}]\n",
        "solution(data)"
      ],
      "metadata": {
        "colab": {
          "base_uri": "https://localhost:8080/",
          "height": 36
        },
        "id": "Hj9e_-qTtF9g",
        "outputId": "d78d2eb8-24a2-42c7-b9de-5dd815ffad5f"
      },
      "execution_count": 53,
      "outputs": [
        {
          "output_type": "execute_result",
          "data": {
            "text/plain": [
              "'A'"
            ],
            "application/vnd.google.colaboratory.intrinsic+json": {
              "type": "string"
            }
          },
          "metadata": {},
          "execution_count": 53
        }
      ]
    },
    {
      "cell_type": "code",
      "source": [
        "# 문제 10번\n",
        "\n",
        "def solution(data):\n",
        "    l = []\n",
        "    # 데이터 값을 캐릭터에 언패킹 후 조건을 충족하는 이름만 반환\n",
        "    for character in data:\n",
        "        name, attack, defense, health, mana = character\n",
        "        if (attack + defense + health + mana) >= 350:\n",
        "            l.append(name)\n",
        "    # 이름을 오름차순으로 정렬\n",
        "    l.sort()\n",
        "\n",
        "    return l\n",
        "\n",
        "data = [['Gray', 98, 92, 85, 97], ['Gom', 98, 30, 21, 60], ['Allosa', 98, 90, 99, 98]]\n",
        "solution(data)"
      ],
      "metadata": {
        "colab": {
          "base_uri": "https://localhost:8080/"
        },
        "id": "Zh5FZDLdwECd",
        "outputId": "6e32ae9c-f1b9-4413-bfef-c5464b5f0b96"
      },
      "execution_count": 55,
      "outputs": [
        {
          "output_type": "execute_result",
          "data": {
            "text/plain": [
              "['Allosa', 'Gray']"
            ]
          },
          "metadata": {},
          "execution_count": 55
        }
      ]
    },
    {
      "cell_type": "code",
      "source": [
        "# 문제 11번\n",
        "# 패킹으로 문제 풀이 시 주어진 데이터 값이 언패킹의 개수를 넘어가면 오류 발생\n",
        "def solution(data):\n",
        "    l = []\n",
        "    for score in data:\n",
        "        국, 영, 수 = score\n",
        "        if (국 + 영 + 수) >= 240:\n",
        "            l.append(1)\n",
        "\n",
        "    return l.count(1)\n",
        "\n",
        "data = [[98, 92, 85], [95, 32, 51], [98, 98, 51]]\n",
        "solution(data)"
      ],
      "metadata": {
        "colab": {
          "base_uri": "https://localhost:8080/"
        },
        "id": "Y5NZ0xb8yIGP",
        "outputId": "5129e193-564c-4b80-853f-950f3524a5ac"
      },
      "execution_count": 58,
      "outputs": [
        {
          "output_type": "execute_result",
          "data": {
            "text/plain": [
              "3"
            ]
          },
          "metadata": {},
          "execution_count": 58
        }
      ]
    },
    {
      "cell_type": "code",
      "source": [
        "# 위의 문제를 해결하기 위해 필요한 값만 인덱싱함.\n",
        "def solution(data):\n",
        "    l = []\n",
        "    for score in data:\n",
        "        total = score[0] + score[1]+ score[2]\n",
        "        if total >= 240:\n",
        "            l.append(1)\n",
        "\n",
        "    return l.count(1)\n",
        "\n",
        "data = [[98, 92, 85], [95, 32, 51], [98, 98, 51]]\n",
        "solution(data)"
      ],
      "metadata": {
        "colab": {
          "base_uri": "https://localhost:8080/"
        },
        "id": "2HyDgtXf0DKT",
        "outputId": "a41721fd-21a1-4a94-ed78-93488b07b52b"
      },
      "execution_count": 60,
      "outputs": [
        {
          "output_type": "execute_result",
          "data": {
            "text/plain": [
              "2"
            ]
          },
          "metadata": {},
          "execution_count": 60
        }
      ]
    },
    {
      "cell_type": "code",
      "source": [
        "# 문제 12번\n",
        "def solution(data):\n",
        "    # 정렬 기준을 data[1]번의 밸류값으로 할려하는데 이를 호출하기 위해\n",
        "    # data[0]을 공백기준으로 나누어 [1]을 사용\n",
        "    return sorted(data[0], key = lambda x: data[1].get(x.split()[1]))\n",
        "\n",
        "data = [['제주시 A동 한라산길 61', '제주시 B동 백록담길 63', '제주시 C동 사라봉길 31'], {'A동': 63007, 'B동': 63010, 'C동': 63002}]\n",
        "solution(data)"
      ],
      "metadata": {
        "colab": {
          "base_uri": "https://localhost:8080/"
        },
        "id": "Lp-XN0wv07cF",
        "outputId": "28af2e40-b873-4df3-e646-6304fbbc8d3c"
      },
      "execution_count": 69,
      "outputs": [
        {
          "output_type": "execute_result",
          "data": {
            "text/plain": [
              "['제주시 C동 사라봉길 31', '제주시 A동 한라산길 61', '제주시 B동 백록담길 63']"
            ]
          },
          "metadata": {},
          "execution_count": 69
        }
      ]
    },
    {
      "cell_type": "code",
      "source": [],
      "metadata": {
        "id": "ZwIL9HysMVtm"
      },
      "execution_count": null,
      "outputs": []
    }
  ]
}