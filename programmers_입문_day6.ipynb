{
  "nbformat": 4,
  "nbformat_minor": 0,
  "metadata": {
    "colab": {
      "provenance": [],
      "authorship_tag": "ABX9TyO+oQoS0eSA7etDWRfMUMTP",
      "include_colab_link": true
    },
    "kernelspec": {
      "name": "python3",
      "display_name": "Python 3"
    },
    "language_info": {
      "name": "python"
    }
  },
  "cells": [
    {
      "cell_type": "markdown",
      "metadata": {
        "id": "view-in-github",
        "colab_type": "text"
      },
      "source": [
        "<a href=\"https://colab.research.google.com/github/neysin/orm/blob/main/programmers_%EC%9E%85%EB%AC%B8_day6.ipynb\" target=\"_parent\"><img src=\"https://colab.research.google.com/assets/colab-badge.svg\" alt=\"Open In Colab\"/></a>"
      ]
    },
    {
      "cell_type": "code",
      "execution_count": 1,
      "metadata": {
        "colab": {
          "base_uri": "https://localhost:8080/",
          "height": 36
        },
        "id": "YNHYrsNMz2Dn",
        "outputId": "7cc2b898-0c46-417a-9264-f0a8a3c95470"
      },
      "outputs": [
        {
          "output_type": "execute_result",
          "data": {
            "text/plain": [
              "'noraj'"
            ],
            "application/vnd.google.colaboratory.intrinsic+json": {
              "type": "string"
            }
          },
          "metadata": {},
          "execution_count": 1
        }
      ],
      "source": [
        "# 문자열 뒤집\n",
        "def solution(my_string):\n",
        "    return my_string[::-1]\n",
        "\n",
        "my_string = \"jaron\"\n",
        "solution(my_string)"
      ]
    },
    {
      "cell_type": "code",
      "source": [
        "# 직각삼각형 출력하기\n",
        "n = int(input())\n",
        "for i in range(1, n+1):\n",
        "    print(i * '*')"
      ],
      "metadata": {
        "colab": {
          "base_uri": "https://localhost:8080/"
        },
        "id": "GRUhq8OEz_NH",
        "outputId": "b4672ec1-8b6b-48ce-97d7-6dadaa77b46c"
      },
      "execution_count": 3,
      "outputs": [
        {
          "output_type": "stream",
          "name": "stdout",
          "text": [
            "3\n",
            "*\n",
            "**\n",
            "***\n"
          ]
        }
      ]
    },
    {
      "cell_type": "markdown",
      "source": [
        "짝수 홀수 개수"
      ],
      "metadata": {
        "id": "LGj0VPFZ2qNc"
      }
    },
    {
      "cell_type": "code",
      "source": [
        "# 짝수 홀수 개수\n",
        "def solution(num_list):\n",
        "    l = []\n",
        "    l2 = []\n",
        "\n",
        "    for i in num_list:\n",
        "        if i % 2 == 0:\n",
        "            l.append(i)\n",
        "        else:\n",
        "            l2.append(i)\n",
        "\n",
        "    return [len(l), len(l2)]\n",
        "\n",
        "num_list = [1, 2, 3, 4, 5]\n",
        "solution(num_list)"
      ],
      "metadata": {
        "colab": {
          "base_uri": "https://localhost:8080/"
        },
        "id": "jKDucSHh1kv-",
        "outputId": "b9bfbce1-1236-449a-9e2a-943ef407db73"
      },
      "execution_count": 4,
      "outputs": [
        {
          "output_type": "execute_result",
          "data": {
            "text/plain": [
              "[2, 3]"
            ]
          },
          "metadata": {},
          "execution_count": 4
        }
      ]
    },
    {
      "cell_type": "code",
      "source": [
        "# answer이라는 0으로 초기화된 리스트를 만들어 진행\n",
        "# 모든 값들은 2로 나누었을 때 나머지가 0 또는 1 이므로 이 나머지 결과값을\n",
        "# 리스트 위치로 이용하여 1씩 더해줌\n",
        "def solution(num_list):\n",
        "    answer = [0,0]\n",
        "    for n in num_list:\n",
        "        answer[n%2]+=1\n",
        "    return answer"
      ],
      "metadata": {
        "id": "SYwFRphn2plu"
      },
      "execution_count": null,
      "outputs": []
    },
    {
      "cell_type": "markdown",
      "source": [
        "문자 반복 출력하기"
      ],
      "metadata": {
        "id": "fUqWtqFg3fgJ"
      }
    },
    {
      "cell_type": "code",
      "source": [
        "# 문자 반복 출력하기\n",
        "def solution(my_string, n):\n",
        "    result = ''\n",
        "    for i in my_string:\n",
        "        str_ = i * n\n",
        "        result += str_\n",
        "    return result\n",
        "\n",
        "my_string = \"hello\"\n",
        "n = 3\n",
        "solution(my_string, n)"
      ],
      "metadata": {
        "colab": {
          "base_uri": "https://localhost:8080/",
          "height": 36
        },
        "id": "BKJimkze2P1c",
        "outputId": "ed04ec9f-a43e-475e-a831-757d14ac6768"
      },
      "execution_count": 5,
      "outputs": [
        {
          "output_type": "execute_result",
          "data": {
            "text/plain": [
              "'hhheeellllllooo'"
            ],
            "application/vnd.google.colaboratory.intrinsic+json": {
              "type": "string"
            }
          },
          "metadata": {},
          "execution_count": 5
        }
      ]
    },
    {
      "cell_type": "code",
      "source": [
        "# 삼항연산자를 통해 반복문을 시행해주고 join 메서드로 문자열로 변환하여 출력\n",
        "def solution(my_string, n):\n",
        "    return ''.join(i*n for i in my_string)"
      ],
      "metadata": {
        "id": "X0SUStI_3YS1"
      },
      "execution_count": null,
      "outputs": []
    }
  ]
}