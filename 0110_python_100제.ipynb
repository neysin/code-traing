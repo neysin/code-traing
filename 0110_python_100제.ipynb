{
  "nbformat": 4,
  "nbformat_minor": 0,
  "metadata": {
    "colab": {
      "provenance": [],
      "authorship_tag": "ABX9TyMRRb/3UohQRv6st/qESLQH",
      "include_colab_link": true
    },
    "kernelspec": {
      "name": "python3",
      "display_name": "Python 3"
    },
    "language_info": {
      "name": "python"
    }
  },
  "cells": [
    {
      "cell_type": "markdown",
      "metadata": {
        "id": "view-in-github",
        "colab_type": "text"
      },
      "source": [
        "<a href=\"https://colab.research.google.com/github/neysin/orm/blob/main/0110_python_100%EC%A0%9C.ipynb\" target=\"_parent\"><img src=\"https://colab.research.google.com/assets/colab-badge.svg\" alt=\"Open In Colab\"/></a>"
      ]
    },
    {
      "cell_type": "code",
      "execution_count": 5,
      "metadata": {
        "colab": {
          "base_uri": "https://localhost:8080/"
        },
        "id": "kIcS8SZKd64-",
        "outputId": "ef4a5641-af80-4d19-976f-c46ca554a1b7"
      },
      "outputs": [
        {
          "output_type": "stream",
          "name": "stdout",
          "text": [
            "[100, 200, 300]\n"
          ]
        }
      ],
      "source": [
        "# 문제 1\n",
        "\n",
        "# 다음 리스트에서 400, 500를 삭제하는 code를 입력하세요.\n",
        "\n",
        "nums = [100, 200, 300, 400, 500]\n",
        "\n",
        "nums.remove(400)\n",
        "nums.remove(500)\n",
        "print(nums)"
      ]
    },
    {
      "cell_type": "code",
      "source": [
        "# 문제 2\n",
        "\n",
        "l = [200, 100, 300]\n",
        "l.insert(2,10000)\n",
        "print(l)"
      ],
      "metadata": {
        "colab": {
          "base_uri": "https://localhost:8080/"
        },
        "id": "3lT1xM02eMSU",
        "outputId": "e5c56c68-72ea-4b7d-fb49-88d71dcfc93d"
      },
      "execution_count": 6,
      "outputs": [
        {
          "output_type": "stream",
          "name": "stdout",
          "text": [
            "[200, 100, 10000, 300]\n"
          ]
        }
      ]
    },
    {
      "cell_type": "code",
      "source": [
        "# 문제 3\n",
        "l = [100, 200, 300]\n",
        "print(type(l)) # list"
      ],
      "metadata": {
        "colab": {
          "base_uri": "https://localhost:8080/"
        },
        "id": "UCYTBuMYfW3D",
        "outputId": "491f0cdc-78d6-43c8-ca9a-28ced16b72ef"
      },
      "execution_count": 7,
      "outputs": [
        {
          "output_type": "stream",
          "name": "stdout",
          "text": [
            "<class 'list'>\n"
          ]
        }
      ]
    },
    {
      "cell_type": "code",
      "source": [
        "# 문제 5\n",
        "\n",
        "a = 10\n",
        "b = 2\n",
        "for i in range(1, 5, 2): # 1에서 4까지 2씩 건너뛰면서 출력 -> 1, 3\n",
        "    a += i # 첫번째 a: 11, 두번째 a: 14\n",
        "\n",
        "print(a + b) # 출력값: 16"
      ],
      "metadata": {
        "colab": {
          "base_uri": "https://localhost:8080/"
        },
        "id": "hSXN_qOLggvK",
        "outputId": "a241bf0e-b009-495b-accb-bdcdb72fb3aa"
      },
      "execution_count": 8,
      "outputs": [
        {
          "output_type": "stream",
          "name": "stdout",
          "text": [
            "16\n"
          ]
        }
      ]
    },
    {
      "cell_type": "code",
      "source": [],
      "metadata": {
        "id": "Jsn4faD4hNlt"
      },
      "execution_count": null,
      "outputs": []
    }
  ]
}