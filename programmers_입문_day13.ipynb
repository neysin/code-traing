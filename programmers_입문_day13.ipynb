{
  "nbformat": 4,
  "nbformat_minor": 0,
  "metadata": {
    "colab": {
      "provenance": [],
      "authorship_tag": "ABX9TyPFYvev7kxtWMm2JeXuHZb4",
      "include_colab_link": true
    },
    "kernelspec": {
      "name": "python3",
      "display_name": "Python 3"
    },
    "language_info": {
      "name": "python"
    }
  },
  "cells": [
    {
      "cell_type": "markdown",
      "metadata": {
        "id": "view-in-github",
        "colab_type": "text"
      },
      "source": [
        "<a href=\"https://colab.research.google.com/github/neysin/orm/blob/main/programmers_%EC%9E%85%EB%AC%B8_day13.ipynb\" target=\"_parent\"><img src=\"https://colab.research.google.com/assets/colab-badge.svg\" alt=\"Open In Colab\"/></a>"
      ]
    },
    {
      "cell_type": "code",
      "execution_count": 16,
      "metadata": {
        "colab": {
          "base_uri": "https://localhost:8080/"
        },
        "id": "QD8N5K1vGZ75",
        "outputId": "02feb829-80d0-4112-b76c-7f2adcc3c9d0"
      },
      "outputs": [
        {
          "output_type": "execute_result",
          "data": {
            "text/plain": [
              "1"
            ]
          },
          "metadata": {},
          "execution_count": 16
        }
      ],
      "source": [
        "# 컨트롤 제트\n",
        "# Z가 나오면 이전에 더했던 숫자 빼기\n",
        "def solution(s):\n",
        "    new_s = s.split()\n",
        "    while 'Z' in new_s:\n",
        "        for i in new_s:\n",
        "            if i == 'Z':\n",
        "                before_num = new_s.index(i) - 1\n",
        "                new_s.pop(before_num)\n",
        "                new_s.pop(before_num)\n",
        "\n",
        "    return sum(map(int, new_s))\n",
        "\n",
        "\n",
        "s = \"10 Z 20 Z 1\"\n",
        "solution(s)"
      ]
    },
    {
      "cell_type": "markdown",
      "source": [
        "배열 원소의 길이"
      ],
      "metadata": {
        "id": "hKAl6APnNDSu"
      }
    },
    {
      "cell_type": "code",
      "source": [
        "# 배열 원소의 길이\n",
        "def solution(strlist):\n",
        "    l = []\n",
        "    for i in strlist:\n",
        "        l.append(len(i))\n",
        "\n",
        "    return l\n",
        "\n",
        "strlist = [\"We\", \"are\", \"the\", \"world!\"]\n",
        "solution(strlist)"
      ],
      "metadata": {
        "colab": {
          "base_uri": "https://localhost:8080/"
        },
        "id": "tPvlUCgSG4Ho",
        "outputId": "3138b490-00e8-4fca-9aab-54bdfbc17af9"
      },
      "execution_count": 18,
      "outputs": [
        {
          "output_type": "execute_result",
          "data": {
            "text/plain": [
              "[2, 3, 3, 6]"
            ]
          },
          "metadata": {},
          "execution_count": 18
        }
      ]
    },
    {
      "cell_type": "code",
      "source": [
        "# map을 사용하여 한 줄로 정리\n",
        "def solution(strlist):\n",
        "    answer = list(map(len, strlist))\n",
        "    return answer"
      ],
      "metadata": {
        "id": "yFxwxwzlM5st"
      },
      "execution_count": null,
      "outputs": []
    },
    {
      "cell_type": "code",
      "source": [
        "# 중복된 문자 제거\n",
        "def solution(my_string):\n",
        "    result = []\n",
        "    for i in my_string:\n",
        "        if i not in result:\n",
        "            result.append(i)\n",
        "\n",
        "    return ''.join(result)\n",
        "\n",
        "my_string = \"people\"\n",
        "solution(my_string)"
      ],
      "metadata": {
        "colab": {
          "base_uri": "https://localhost:8080/",
          "height": 36
        },
        "id": "1HyTa9k3NGjp",
        "outputId": "e5ef2422-63e2-4cb5-b280-e5ece3bcb5f7"
      },
      "execution_count": 21,
      "outputs": [
        {
          "output_type": "execute_result",
          "data": {
            "text/plain": [
              "'peol'"
            ],
            "application/vnd.google.colaboratory.intrinsic+json": {
              "type": "string"
            }
          },
          "metadata": {},
          "execution_count": 21
        }
      ]
    },
    {
      "cell_type": "code",
      "source": [
        "# 삼각형의 완성조건(1)\n",
        "# 가장 긴 변의 길이는 다른 두 변의 길이의 합보다 작아야 함.\n",
        "# 만들 수 있다면 1, 안되면 2 반환\n",
        "def solution(sides):\n",
        "    sort_sides = sorted(sides)\n",
        "    x, y, z = sort_sides[0], sort_sides[1], sort_sides[2]\n",
        "    if x + y > z:\n",
        "        return 1\n",
        "    else:\n",
        "        return 2\n",
        "\n",
        "\n",
        "sides = [3, 6, 2]\n",
        "solution(sides)"
      ],
      "metadata": {
        "colab": {
          "base_uri": "https://localhost:8080/"
        },
        "id": "M0sPFJ6tNOKX",
        "outputId": "33b6962b-3132-49ab-e1a6-407f657b4a46"
      },
      "execution_count": 28,
      "outputs": [
        {
          "output_type": "execute_result",
          "data": {
            "text/plain": [
              "2"
            ]
          },
          "metadata": {},
          "execution_count": 28
        }
      ]
    }
  ]
}