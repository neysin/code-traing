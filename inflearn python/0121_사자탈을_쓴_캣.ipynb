{
  "nbformat": 4,
  "nbformat_minor": 0,
  "metadata": {
    "colab": {
      "provenance": [],
      "authorship_tag": "ABX9TyOMKLN752UzsCpzUmpqmzLX",
      "include_colab_link": true
    },
    "kernelspec": {
      "name": "python3",
      "display_name": "Python 3"
    },
    "language_info": {
      "name": "python"
    }
  },
  "cells": [
    {
      "cell_type": "markdown",
      "metadata": {
        "id": "view-in-github",
        "colab_type": "text"
      },
      "source": [
        "<a href=\"https://colab.research.google.com/github/neysin/orm/blob/main/0121_%EC%82%AC%EC%9E%90%ED%83%88%EC%9D%84_%EC%93%B4_%EC%BA%A3.ipynb\" target=\"_parent\"><img src=\"https://colab.research.google.com/assets/colab-badge.svg\" alt=\"Open In Colab\"/></a>"
      ]
    },
    {
      "cell_type": "code",
      "execution_count": 6,
      "metadata": {
        "colab": {
          "base_uri": "https://localhost:8080/"
        },
        "id": "bfLbPl1OfF8c",
        "outputId": "50361891-d676-4c63-fa3e-0e242b14fd7b"
      },
      "outputs": [
        {
          "output_type": "stream",
          "name": "stdout",
          "text": [
            "하: 1121\n",
            "코: 122\n",
            "코: 88\n",
            "기: 119\n",
            "독: 62\n",
            "고: 31\n",
            "1543\n"
          ]
        }
      ],
      "source": [
        "# 왕의 충성스런 신하는 아래와 같다. 왕의 신하가 총 몇 명인지 구하라.\n",
        "\n",
        "신하 = {\n",
        "    '하이애나': 1121,\n",
        "    '코뿔소': 122,\n",
        "    '코끼리': 88,\n",
        "    '기린': 119,\n",
        "    '독수리': 62,\n",
        "    '고양이': 31\n",
        "}\n",
        "\n",
        "모든_신하의_합 = 0\n",
        "\n",
        "for i in 신하:\n",
        "    print(f'{i[0]}: {신하[i]}')\n",
        "    모든_신하의_합 += 신하[i]\n",
        "\n",
        "print(모든_신하의_합)"
      ]
    },
    {
      "cell_type": "code",
      "source": [
        "# 100명 이상인 종은 출전을! 100이하인 종은 왕국을 수호한다.\n",
        "# 출전 신하는 몇 명이고, 왕국을 수호하는 신하는 몇 명인가?\n",
        "\n",
        "신하 = {\n",
        "    '하이애나': 1121,\n",
        "    '코뿔소': 122,\n",
        "    '코끼리': 88,\n",
        "    '기린': 119,\n",
        "    '독수리': 62,\n",
        "    '고양이': 31\n",
        "}\n",
        "\n",
        "모든_신하의_합 = 0\n",
        "출전하는_신하 = 0\n",
        "왕국을_수호하는_신하 = 0\n",
        "\n",
        "for i in 신하:\n",
        "    print(f'{i[0]}: {신하[i]}')\n",
        "    모든_신하의_합 += 신하[i]\n",
        "    if 신하[i] >= 100:\n",
        "        출전하는_신하 += 신하[i]\n",
        "    else:\n",
        "        왕국을_수호하는_신하 += 신하[i]\n",
        "\n",
        "print(f'모든_신하의_합: {모든_신하의_합}')\n",
        "print(f'출전하는_신하: {출전하는_신하}')\n",
        "print(f'왕국을_수호하는_신하: {왕국을_수호하는_신하}')\n",
        "print(모든_신하의_합 == 왕국을_수호하는_신하 + 출전하는_신하)"
      ],
      "metadata": {
        "colab": {
          "base_uri": "https://localhost:8080/"
        },
        "id": "L5ln0kprff5N",
        "outputId": "899421c3-6297-4041-9526-0a259af85681"
      },
      "execution_count": 8,
      "outputs": [
        {
          "output_type": "stream",
          "name": "stdout",
          "text": [
            "하: 1121\n",
            "코: 122\n",
            "코: 88\n",
            "기: 119\n",
            "독: 62\n",
            "고: 31\n",
            "모든_신하의_합: 1543\n",
            "출전하는_신하: 1362\n",
            "왕국을_수호하는_신하: 181\n",
            "True\n"
          ]
        }
      ]
    },
    {
      "cell_type": "code",
      "source": [
        "# 3. 침략을 방어하고, 출전했던 신하들은 각각 80%라는 큰 손실을 입었습니다.\n",
        "# 왕국을 수호하는 신하까지 총 얼마의 신하가 남아 있나요?\n",
        "\n",
        "신하 = {\n",
        "    '하이애나': 1121,\n",
        "    '코뿔소': 122,\n",
        "    '코끼리': 88,\n",
        "    '기린': 119,\n",
        "    '독수리': 62,\n",
        "    '고양이': 31\n",
        "}\n",
        "\n",
        "모든_신하의_합 = 0\n",
        "출전하는_신하 = 0\n",
        "왕국을_수호하는_신하 = 0\n",
        "출전_후_돌아온_신하 = 0\n",
        "\n",
        "\n",
        "for i in 신하:\n",
        "    print(f'{i[0]}: {신하[i]}')\n",
        "    모든_신하의_합 += 신하[i]\n",
        "    if 신하[i] >= 100:\n",
        "        출전하는_신하 += 신하[i]\n",
        "        출전_후_돌아온_신하 += 신하[i] * 0.2\n",
        "    else:\n",
        "        왕국을_수호하는_신하 += 신하[i]\n",
        "\n",
        "print(f'모든_신하의_합: {모든_신하의_합}')\n",
        "print(f'출전하는_신하: {출전하는_신하}')\n",
        "print(f'왕국을_수호하는_신하: {왕국을_수호하는_신하}')\n",
        "print(f'출전_후_돌아온_신하: {int(출전_후_돌아온_신하)}')\n",
        "print(f'사상자: {출전하는_신하-int(출전_후_돌아온_신하)}')\n",
        "print(모든_신하의_합 == 왕국을_수호하는_신하 + 출전하는_신하)"
      ],
      "metadata": {
        "colab": {
          "base_uri": "https://localhost:8080/"
        },
        "id": "_CpBsuWgg8fz",
        "outputId": "34a1e9ca-d1e6-4dff-8a20-bcca295273e5"
      },
      "execution_count": 9,
      "outputs": [
        {
          "output_type": "stream",
          "name": "stdout",
          "text": [
            "하: 1121\n",
            "코: 122\n",
            "코: 88\n",
            "기: 119\n",
            "독: 62\n",
            "고: 31\n",
            "모든_신하의_합: 1543\n",
            "출전하는_신하: 1362\n",
            "왕국을_수호하는_신하: 181\n",
            "출전_후_돌아온_신하: 272\n",
            "사상자: 1090\n",
            "True\n"
          ]
        }
      ]
    }
  ]
}