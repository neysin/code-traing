{
  "nbformat": 4,
  "nbformat_minor": 0,
  "metadata": {
    "colab": {
      "provenance": [],
      "authorship_tag": "ABX9TyPhBEMcrVYWMmDF2AASDd9m",
      "include_colab_link": true
    },
    "kernelspec": {
      "name": "python3",
      "display_name": "Python 3"
    },
    "language_info": {
      "name": "python"
    }
  },
  "cells": [
    {
      "cell_type": "markdown",
      "metadata": {
        "id": "view-in-github",
        "colab_type": "text"
      },
      "source": [
        "<a href=\"https://colab.research.google.com/github/neysin/orm/blob/main/0114_%ED%95%A8%EC%88%98.ipynb\" target=\"_parent\"><img src=\"https://colab.research.google.com/assets/colab-badge.svg\" alt=\"Open In Colab\"/></a>"
      ]
    },
    {
      "cell_type": "code",
      "execution_count": 1,
      "metadata": {
        "colab": {
          "base_uri": "https://localhost:8080/"
        },
        "id": "i4ls0GR_BPA8",
        "outputId": "100b323a-13ab-41fb-f7fb-dc19616de060"
      },
      "outputs": [
        {
          "output_type": "stream",
          "name": "stdout",
          "text": [
            "A등급 생선을 한 마리 잡았습니다.\n",
            "A등급 3마리, B등급 3마리, C등급 4마리를 잡았습니다.\n",
            "문어를 하나 잡았습니다.\n"
          ]
        }
      ],
      "source": [
        "def 낚시():\n",
        "    print('A등급 생선을 한 마리 잡았습니다.')\n",
        "\n",
        "def 그물():\n",
        "    print('A등급 3마리, B등급 3마리, C등급 4마리를 잡았습니다.')\n",
        "\n",
        "def 통발():\n",
        "    print('문어를 하나 잡았습니다.')\n",
        "\n",
        "# 함수 호출하기\n",
        "낚시()\n",
        "그물()\n",
        "통발()\n"
      ]
    },
    {
      "cell_type": "code",
      "source": [
        "def function(x,y):\n",
        "    z = x + y\n",
        "    return z\n",
        "\n",
        "# A등급 10마리, B등급 9마리\n",
        "print('오늘 잡은 생선 : ', function(10, 9))"
      ],
      "metadata": {
        "colab": {
          "base_uri": "https://localhost:8080/"
        },
        "id": "baWeYgerBvQQ",
        "outputId": "f5e1ef96-c2e9-4cd6-82f9-8492d772e873"
      },
      "execution_count": 2,
      "outputs": [
        {
          "output_type": "stream",
          "name": "stdout",
          "text": [
            "오늘 잡은 생선 :  19\n"
          ]
        }
      ]
    },
    {
      "cell_type": "code",
      "source": [
        "def 계산(가격, 개수):\n",
        "    return 가격 * 개수\n",
        "\n",
        "print(f'{계산(1000, 5)}입니다.')"
      ],
      "metadata": {
        "colab": {
          "base_uri": "https://localhost:8080/"
        },
        "id": "IkpBjYAKOU6q",
        "outputId": "972702fd-cfce-4400-d609-1a8b3cce09bf"
      },
      "execution_count": 5,
      "outputs": [
        {
          "output_type": "stream",
          "name": "stdout",
          "text": [
            "5000입니다.\n"
          ]
        }
      ]
    },
    {
      "cell_type": "code",
      "source": [
        "# A등급: 1000원, B등급: 500원, C등급: 100원\n",
        "\n",
        "def 계산(a,b,c):\n",
        "    합계 = a*1000 + b*500 + c*100\n",
        "    return 합계\n",
        "\n",
        "print(f'{계산(5,2,3)}원입니다.')"
      ],
      "metadata": {
        "colab": {
          "base_uri": "https://localhost:8080/"
        },
        "id": "T0h4VxCLO6Ik",
        "outputId": "2af17fef-0ad9-47aa-fc5b-5ed40eba3768"
      },
      "execution_count": 8,
      "outputs": [
        {
          "output_type": "stream",
          "name": "stdout",
          "text": [
            "6300원입니다.\n"
          ]
        }
      ]
    },
    {
      "cell_type": "code",
      "source": [
        "# A등급: 1000원, B등급: 500원, C등급: 100원\n",
        "\n",
        "def 계산(a,b,c):\n",
        "    가격 = {'A등급': 1000, 'B등급': 500, 'C등급': 100}\n",
        "    합계 = a*가격['A등급'] + b*가격['B등급'] + c*가격['C등급']\n",
        "    return 합계\n",
        "\n",
        "print(f'{계산(5,2,3)}원입니다.')"
      ],
      "metadata": {
        "colab": {
          "base_uri": "https://localhost:8080/"
        },
        "id": "_8WQzlM-PYQu",
        "outputId": "6a54342b-936b-4cd5-b43f-50db4d59fc7a"
      },
      "execution_count": 9,
      "outputs": [
        {
          "output_type": "stream",
          "name": "stdout",
          "text": [
            "6300원입니다.\n"
          ]
        }
      ]
    },
    {
      "cell_type": "code",
      "source": [
        "## 상수\n",
        "\n",
        "PI = 3.14\n",
        "def circle(r):\n",
        "    z = r * r * PI\n",
        "    return z\n",
        "result = circle(10)\n",
        "print(result)"
      ],
      "metadata": {
        "colab": {
          "base_uri": "https://localhost:8080/"
        },
        "id": "atY2s7NTPz6H",
        "outputId": "168b2d55-9392-4caf-865f-97e9dc7b5c38"
      },
      "execution_count": 12,
      "outputs": [
        {
          "output_type": "stream",
          "name": "stdout",
          "text": [
            "314.0\n"
          ]
        }
      ]
    },
    {
      "cell_type": "code",
      "source": [
        "## global, 전역변수\n",
        "\n",
        "A등급 = 0\n",
        "\n",
        "def 낚시(물고기):\n",
        "    물고기 +=1\n",
        "    return 물고기\n",
        "\n",
        "A등급 = 낚시(A등급)\n",
        "A등급 = 낚시(A등급)\n",
        "A등급 = 낚시(A등급)\n",
        "\n",
        "\n",
        "print(f'잡은 A등급 물고기는 {A등급}마리 입니다.')"
      ],
      "metadata": {
        "colab": {
          "base_uri": "https://localhost:8080/"
        },
        "id": "Qx9G1sKIQF2w",
        "outputId": "851ea98d-5388-464a-e964-2616949818b2"
      },
      "execution_count": 15,
      "outputs": [
        {
          "output_type": "stream",
          "name": "stdout",
          "text": [
            "잡은 A등급 물고기는 3마리 입니다.\n"
          ]
        }
      ]
    },
    {
      "cell_type": "code",
      "source": [
        "A등급 = 0\n",
        "\n",
        "def 낚시():\n",
        "    global A등급\n",
        "    A등급 += 1\n",
        "\n",
        "\n",
        "낚시()\n",
        "낚시()\n",
        "낚시()\n",
        "\n",
        "\n",
        "print(f'잡은 A등급 물고기는 {A등급}마리 입니다.')"
      ],
      "metadata": {
        "colab": {
          "base_uri": "https://localhost:8080/"
        },
        "id": "_hBnVTmmRt_z",
        "outputId": "2e105231-1844-4272-8255-405941c77cd0"
      },
      "execution_count": 17,
      "outputs": [
        {
          "output_type": "stream",
          "name": "stdout",
          "text": [
            "잡은 A등급 물고기는 3마리 입니다.\n"
          ]
        }
      ]
    },
    {
      "cell_type": "code",
      "source": [
        "## 함수 안에 함수 만들기\n",
        "\n",
        "def print_text():\n",
        "    text = '생선을 잡아보자!'\n",
        "    def txt():\n",
        "        print(text)\n",
        "    txt()\n",
        "\n",
        "print_text()"
      ],
      "metadata": {
        "colab": {
          "base_uri": "https://localhost:8080/"
        },
        "id": "hp3sXhaGRFyT",
        "outputId": "5e3ae356-6ead-43db-e82e-08e7755c5182"
      },
      "execution_count": 21,
      "outputs": [
        {
          "output_type": "stream",
          "name": "stdout",
          "text": [
            "생선을 잡아보자!\n"
          ]
        }
      ]
    },
    {
      "cell_type": "code",
      "source": [
        "def 생선잡기():\n",
        "    물고기 = {'A등급': 0, 'B등급': 0, 'C등급': 0}\n",
        "\n",
        "    def 낚시():\n",
        "        물고기['A등급'] += 1\n",
        "\n",
        "    def 그물():\n",
        "        물고기['A등급'] += 3\n",
        "        물고기['B등급'] += 3\n",
        "        물고기['C등급'] += 4\n",
        "\n",
        "    def 통발():\n",
        "        물고기['문어'] = 1\n",
        "\n",
        "    낚시()\n",
        "    그물()\n",
        "    통발()\n",
        "\n",
        "    return 물고기\n",
        "\n",
        "# sum(생선잡기().values())\n",
        "생선잡기()"
      ],
      "metadata": {
        "colab": {
          "base_uri": "https://localhost:8080/"
        },
        "id": "mzbIncpES2Lp",
        "outputId": "46f26eb0-73b4-4e62-85aa-fab9c0aa9d18"
      },
      "execution_count": 22,
      "outputs": [
        {
          "output_type": "execute_result",
          "data": {
            "text/plain": [
              "{'A등급': 4, 'B등급': 3, 'C등급': 4, '문어': 1}"
            ]
          },
          "metadata": {},
          "execution_count": 22
        }
      ]
    },
    {
      "cell_type": "markdown",
      "source": [
        "# 조건문\n"
      ],
      "metadata": {
        "id": "wYGNrT2TVSL1"
      }
    },
    {
      "cell_type": "code",
      "source": [
        "def 계산(a,b,c):\n",
        "    가격 = {'A등급': 1000, 'B등급': 500, 'C등급': 100}\n",
        "    합계 = a*가격['A등급'] + b*가격['B등급'] + c*가격['C등급']\n",
        "    return 합계\n",
        "\n",
        "총합 = 계산(5, 2, 3)\n",
        "\n",
        "if 총합 >= 10000:\n",
        "    print('할인을 해주겠다냥!')\n",
        "    print(f'총 {총합 * 0.9}노드를 내면 된다냥!') # 10% 할인\n",
        "else:\n",
        "    print(f'총 {총합}노드를 내면 된다냥!')"
      ],
      "metadata": {
        "colab": {
          "base_uri": "https://localhost:8080/"
        },
        "id": "oyNZYa_UT8AW",
        "outputId": "b7031e50-5c13-4c0a-fdeb-d4076765a029"
      },
      "execution_count": 23,
      "outputs": [
        {
          "output_type": "stream",
          "name": "stdout",
          "text": [
            "총 6300노드를 내면 된다냥!\n"
          ]
        }
      ]
    },
    {
      "cell_type": "code",
      "source": [
        "if False:\n",
        "    print('one')\n",
        "else:\n",
        "    print('two')"
      ],
      "metadata": {
        "colab": {
          "base_uri": "https://localhost:8080/"
        },
        "id": "CP8odokZVm0J",
        "outputId": "ecd90413-2c1a-483b-90bb-36938a5f07c0"
      },
      "execution_count": 25,
      "outputs": [
        {
          "output_type": "stream",
          "name": "stdout",
          "text": [
            "two\n"
          ]
        }
      ]
    },
    {
      "cell_type": "code",
      "source": [
        "# 캣의 직원 채용\n",
        "\n",
        "성실성 = int(input('성실성을 입력하세요: '))\n",
        "프로그래밍능력 = int(input('프로그래밍능력을 입력하세요: '))\n",
        "\n",
        "if 성실성 >= 80 and 프로그래밍능력 >= 70:\n",
        "    print('합격입니다.')\n",
        "    if 성실성 >= 90:\n",
        "        print('보너스를 드립니다.')\n",
        "else:\n",
        "    print('불합격입니다.')"
      ],
      "metadata": {
        "colab": {
          "base_uri": "https://localhost:8080/"
        },
        "id": "bLgjKMJFVtVM",
        "outputId": "91ca613e-60c3-4d8d-c176-3ed0ac494f94"
      },
      "execution_count": 26,
      "outputs": [
        {
          "output_type": "stream",
          "name": "stdout",
          "text": [
            "성실성을 입력하세요: 80\n",
            "프로그래밍능력을 입력하세요: 80\n",
            "합격입니다.\n"
          ]
        }
      ]
    },
    {
      "cell_type": "code",
      "source": [
        "# if, elif, else\n",
        "\n",
        "if True:\n",
        "    print('one')\n",
        "elif True:\n",
        "    print('one')\n",
        "elif True:\n",
        "    print('one')\n",
        "elif True:\n",
        "    print('one')\n",
        "elif True:\n",
        "    print('one')\n",
        "else:\n",
        "    print('two')"
      ],
      "metadata": {
        "id": "oTEidpTjWIdX"
      },
      "execution_count": null,
      "outputs": []
    },
    {
      "cell_type": "code",
      "source": [
        "# 거스름돈\n",
        "\n",
        "가격 = int(input('가격을 입력하세요: '))\n",
        "받은돈 = int(input('받은돈을 입력하세요: '))\n",
        "\n",
        "if 가격 < 받은돈:\n",
        "    print(f'여기 거스름돈 {받은돈-가격}입니다.')\n",
        "elif 가격 > 받은돈:\n",
        "    print(f'{가격-받은돈}원이 부족합니다.')\n",
        "else:\n",
        "    print('감사합니다.')"
      ],
      "metadata": {
        "colab": {
          "base_uri": "https://localhost:8080/"
        },
        "id": "ICzKPeKIWdAd",
        "outputId": "fe1ec97c-2882-4de4-ebd2-18691f23840c"
      },
      "execution_count": 29,
      "outputs": [
        {
          "output_type": "stream",
          "name": "stdout",
          "text": [
            "가격을 입력하세요: 100\n",
            "받은돈을 입력하세요: 100\n",
            "감사합니다.\n"
          ]
        }
      ]
    },
    {
      "cell_type": "code",
      "source": [
        "def 계산(a,b,c):\n",
        "    가격 = {'A등급': 1000, 'B등급': 500, 'C등급': 100}\n",
        "    합계 = a*가격['A등급'] + b*가격['B등급'] + c*가격['C등급']\n",
        "    return 합계\n",
        "\n",
        "총합 = 계산(20, 2, 3)\n",
        "print(총합)\n",
        "if 총합 >= 20000:\n",
        "    print('20% 할인을 해주겠다냥!')\n",
        "    print(f'총 {int(총합 * 0.8)}노드를 내면 된다냥!') # 20% 할인\n",
        "elif 총합 >= 10000:\n",
        "    print('10% 할인을 해주겠다냥!')\n",
        "    print(f'총 {int(총합 * 0.9)}노드를 내면 된다냥!') # 10% 할인\n",
        "elif 총합 >= 50000:\n",
        "    print('5% 할인을 해주겠다냥!')\n",
        "    print(f'총 {int(총합 * 0.95)}노드를 내면 된다냥!') # 5% 할인\n",
        "else:\n",
        "    print(f'총 {총합}노드를 내면 된다냥!')"
      ],
      "metadata": {
        "colab": {
          "base_uri": "https://localhost:8080/"
        },
        "id": "wm-B7vSiW0wY",
        "outputId": "5faa4bf1-e639-421d-f2dd-f8fc259c9337"
      },
      "execution_count": 32,
      "outputs": [
        {
          "output_type": "stream",
          "name": "stdout",
          "text": [
            "21300\n",
            "20% 할인을 해주겠다냥!\n",
            "총 17040노드를 내면 된다냥!\n"
          ]
        }
      ]
    }
  ]
}