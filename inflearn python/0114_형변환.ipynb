{
  "nbformat": 4,
  "nbformat_minor": 0,
  "metadata": {
    "colab": {
      "provenance": [],
      "authorship_tag": "ABX9TyPPBT2nUvrP5AAZtgGY2OAH",
      "include_colab_link": true
    },
    "kernelspec": {
      "name": "python3",
      "display_name": "Python 3"
    },
    "language_info": {
      "name": "python"
    }
  },
  "cells": [
    {
      "cell_type": "markdown",
      "metadata": {
        "id": "view-in-github",
        "colab_type": "text"
      },
      "source": [
        "<a href=\"https://colab.research.google.com/github/neysin/orm/blob/main/0114_%ED%98%95%EB%B3%80%ED%99%98.ipynb\" target=\"_parent\"><img src=\"https://colab.research.google.com/assets/colab-badge.svg\" alt=\"Open In Colab\"/></a>"
      ]
    },
    {
      "cell_type": "markdown",
      "source": [
        "# 형변환과 input, print"
      ],
      "metadata": {
        "id": "XDrcTsRVyXzs"
      }
    },
    {
      "cell_type": "code",
      "execution_count": 1,
      "metadata": {
        "colab": {
          "base_uri": "https://localhost:8080/",
          "height": 35
        },
        "id": "2pzf4YpMuJhD",
        "outputId": "ad8882ee-fb66-45e0-96a1-3fe69472ae66"
      },
      "outputs": [
        {
          "output_type": "execute_result",
          "data": {
            "text/plain": [
              "'1010'"
            ],
            "application/vnd.google.colaboratory.intrinsic+json": {
              "type": "string"
            }
          },
          "metadata": {},
          "execution_count": 1
        }
      ],
      "source": [
        "'10' + '10'"
      ]
    },
    {
      "cell_type": "code",
      "source": [
        "int('10') + int('10')"
      ],
      "metadata": {
        "colab": {
          "base_uri": "https://localhost:8080/"
        },
        "id": "z73LD5HxuhOE",
        "outputId": "84a648bd-dbfe-40e1-8dab-1eac5e9fdad2"
      },
      "execution_count": 2,
      "outputs": [
        {
          "output_type": "execute_result",
          "data": {
            "text/plain": [
              "20"
            ]
          },
          "metadata": {},
          "execution_count": 2
        }
      ]
    },
    {
      "cell_type": "code",
      "source": [
        "오늘_잡은_물고기_수 = '371'\n",
        "\n",
        "오늘_잡은_물고기_수 = int(오늘_잡은_물고기_수) + 10\n",
        "오늘_잡은_물고기_수\n"
      ],
      "metadata": {
        "colab": {
          "base_uri": "https://localhost:8080/"
        },
        "id": "P0s2EclXumND",
        "outputId": "0972b485-4425-4b88-f668-d7be0a6d35d1"
      },
      "execution_count": 4,
      "outputs": [
        {
          "output_type": "execute_result",
          "data": {
            "text/plain": [
              "381"
            ]
          },
          "metadata": {},
          "execution_count": 4
        }
      ]
    },
    {
      "cell_type": "code",
      "source": [
        "int('leehojun')"
      ],
      "metadata": {
        "colab": {
          "base_uri": "https://localhost:8080/",
          "height": 176
        },
        "id": "o5hOWvzzuz0s",
        "outputId": "02e23224-d687-4c1f-bffe-8eaf096bf05a"
      },
      "execution_count": 5,
      "outputs": [
        {
          "output_type": "error",
          "ename": "ValueError",
          "evalue": "invalid literal for int() with base 10: 'leehojun'",
          "traceback": [
            "\u001b[0;31m---------------------------------------------------------------------------\u001b[0m",
            "\u001b[0;31mValueError\u001b[0m                                Traceback (most recent call last)",
            "\u001b[0;32m<ipython-input-5-70cac3cca1b1>\u001b[0m in \u001b[0;36m<cell line: 1>\u001b[0;34m()\u001b[0m\n\u001b[0;32m----> 1\u001b[0;31m \u001b[0mint\u001b[0m\u001b[0;34m(\u001b[0m\u001b[0;34m'leehojun'\u001b[0m\u001b[0;34m)\u001b[0m\u001b[0;34m\u001b[0m\u001b[0;34m\u001b[0m\u001b[0m\n\u001b[0m",
            "\u001b[0;31mValueError\u001b[0m: invalid literal for int() with base 10: 'leehojun'"
          ]
        }
      ]
    },
    {
      "cell_type": "code",
      "source": [
        "s = '98710%'\n",
        "print(s[:-1] * 2)\n",
        "print(int(s[:-1]) * 2)"
      ],
      "metadata": {
        "colab": {
          "base_uri": "https://localhost:8080/"
        },
        "id": "cufIqpzbu5SM",
        "outputId": "d264397d-b76e-4c5f-fe97-0cbd42e262ca"
      },
      "execution_count": 9,
      "outputs": [
        {
          "output_type": "stream",
          "name": "stdout",
          "text": [
            "9871098710\n",
            "197420\n"
          ]
        }
      ]
    },
    {
      "cell_type": "code",
      "source": [
        "print(\"bool('test') : \", bool('test!!'))\n",
        "print(\"bool(1) : \", bool(1))\n",
        "print(\"bool(0) : \", bool(0))\n",
        "print(\"bool(-1) : \", bool(-1))\n",
        "print(\"bool(' ') : \", bool(' '))\n",
        "print(\"bool('') : \", bool(''))\n",
        "print(\"bool(None) : \", bool(None))"
      ],
      "metadata": {
        "colab": {
          "base_uri": "https://localhost:8080/"
        },
        "id": "UJNQsIavu_T8",
        "outputId": "f649ff2f-8b30-4181-bb6b-978507d42b75"
      },
      "execution_count": 10,
      "outputs": [
        {
          "output_type": "stream",
          "name": "stdout",
          "text": [
            "bool('test') :  True\n",
            "bool(1) :  True\n",
            "bool(0) :  False\n",
            "bool(-1) :  True\n",
            "bool(' ') :  True\n",
            "bool('') :  False\n",
            "bool(None) :  False\n"
          ]
        }
      ]
    },
    {
      "cell_type": "code",
      "source": [
        "print(f\"bool([1,2,3]) :  {bool([1, 2, 3])}\")\n",
        "print(f\"bool([]) :  {bool([])}\")"
      ],
      "metadata": {
        "colab": {
          "base_uri": "https://localhost:8080/"
        },
        "id": "uowyb6quvn8O",
        "outputId": "c8e4cd48-db55-4c3e-d685-5998b51671ed"
      },
      "execution_count": 13,
      "outputs": [
        {
          "output_type": "stream",
          "name": "stdout",
          "text": [
            "bool([1,2,3]) :  True\n",
            "bool([]) :  False\n"
          ]
        }
      ]
    },
    {
      "cell_type": "code",
      "source": [
        "tuple([1,2,3])"
      ],
      "metadata": {
        "colab": {
          "base_uri": "https://localhost:8080/"
        },
        "id": "qffTJQUzv3xU",
        "outputId": "d29bafce-4155-4393-8b1f-8425241b7263"
      },
      "execution_count": 14,
      "outputs": [
        {
          "output_type": "execute_result",
          "data": {
            "text/plain": [
              "(1, 2, 3)"
            ]
          },
          "metadata": {},
          "execution_count": 14
        }
      ]
    },
    {
      "cell_type": "code",
      "source": [
        "t = (1,2,3)\n",
        "list(t)"
      ],
      "metadata": {
        "colab": {
          "base_uri": "https://localhost:8080/"
        },
        "id": "TKeDJxfHwW9w",
        "outputId": "fd9a0b46-b1dc-4c47-8da4-d29aeccf189b"
      },
      "execution_count": 16,
      "outputs": [
        {
          "output_type": "execute_result",
          "data": {
            "text/plain": [
              "[1, 2, 3]"
            ]
          },
          "metadata": {},
          "execution_count": 16
        }
      ]
    },
    {
      "cell_type": "code",
      "source": [
        "dict([('key1', 'value1'), ('key2', 'value2'), ('key3', 'value3')])"
      ],
      "metadata": {
        "colab": {
          "base_uri": "https://localhost:8080/"
        },
        "id": "AIcYp4PPwYsY",
        "outputId": "7e3d19bf-2dba-4780-c1ca-402c08bbca24"
      },
      "execution_count": 18,
      "outputs": [
        {
          "output_type": "execute_result",
          "data": {
            "text/plain": [
              "{'key1': 'value1', 'key2': 'value2', 'key3': 'value3'}"
            ]
          },
          "metadata": {},
          "execution_count": 18
        }
      ]
    },
    {
      "cell_type": "code",
      "source": [
        "x = input('좋아하는 숫자를 입력하세요 : ')\n",
        "x\n",
        "print(type(x))"
      ],
      "metadata": {
        "colab": {
          "base_uri": "https://localhost:8080/"
        },
        "id": "tJXt2GNXwqO6",
        "outputId": "5b3a9985-0760-4384-be3a-4e0000b24218"
      },
      "execution_count": 20,
      "outputs": [
        {
          "output_type": "stream",
          "name": "stdout",
          "text": [
            "좋아하는 숫자를 입력하세요 : 10\n",
            "<class 'str'>\n"
          ]
        }
      ]
    },
    {
      "cell_type": "code",
      "source": [
        "이름 = '캣'\n",
        "나이 = 12\n",
        "\n",
        "print('1. 제 이름은', 이름, '입니다. 제 나이는', 나이, '입니다.')\n",
        "print(f'2. 제 이름은 {이름} 입니다. 제 나이는 {나이} 입니다.')\n",
        "print('3. 제 이름은 {} 입니다. 제 나이는 {} 입니다.'.format(이름, 나이))\n",
        "print('4. 제 이름은 %s입니다. 제 나이는 %d입니다.'%(이름, 나이))\n"
      ],
      "metadata": {
        "colab": {
          "base_uri": "https://localhost:8080/"
        },
        "id": "O6ggxqKAw4LS",
        "outputId": "becf0bda-04cf-47e0-88f7-0e470a4e7987"
      },
      "execution_count": 23,
      "outputs": [
        {
          "output_type": "stream",
          "name": "stdout",
          "text": [
            "1. 제 이름은 캣 입니다. 제 나이는 12 입니다.\n",
            "2. 제 이름은 캣 입니다. 제 나이는 12 입니다.\n",
            "3. 제 이름은 캣 입니다. 제 나이는 12 입니다.\n",
            "4. 제 이름은 캣입니다. 제 나이는 12입니다.\n"
          ]
        }
      ]
    },
    {
      "cell_type": "markdown",
      "source": [
        "# 산술연산과 할당연산"
      ],
      "metadata": {
        "id": "w336pdRvyb3H"
      }
    },
    {
      "cell_type": "code",
      "source": [
        "오늘_잡은_물고기 = 0\n",
        "오늘_판_물고기 = 0\n",
        "매출 = 0"
      ],
      "metadata": {
        "id": "_8UZ3ENFyErw"
      },
      "execution_count": 24,
      "outputs": []
    },
    {
      "cell_type": "code",
      "source": [
        "오늘_잡은_물고기 = 오늘_잡은_물고기 + 10\n",
        "오늘_판_물고기 = 오늘_잡은_물고기\n",
        "재고 = 오늘_잡은_물고기 - 오늘_판_물고기\n",
        "매출 = 오늘_판_물고기 * 100 # 모든 물고기는 100원입니다."
      ],
      "metadata": {
        "id": "xEVMjkAjym15"
      },
      "execution_count": 25,
      "outputs": []
    },
    {
      "cell_type": "code",
      "source": [
        "print(f'나는 오늘 {오늘_잡은_물고기}마리를 잡았고 {오늘_판_물고기} 마리를 팔았다냥')\n",
        "print(f'오늘 재고는 {재고} 마리다냥!')\n",
        "# 매일 2배씩 성장하는 것을 목표로 삼았습니다.\n",
        "print(f'오늘 {매출}원을 벌었으니 내일은 {매출*2}원을 벌테다!')\n",
        "print('오늘', 매출,'원을 벌었으니 내일은', 매출*2, '원을 벌테다!')"
      ],
      "metadata": {
        "colab": {
          "base_uri": "https://localhost:8080/"
        },
        "id": "xvLwYrHOy3CR",
        "outputId": "b5bd4f3c-d5bc-4ff7-8d9d-cc728010fb88"
      },
      "execution_count": 30,
      "outputs": [
        {
          "output_type": "stream",
          "name": "stdout",
          "text": [
            "나는 오늘 10마리를 잡았고 10 마리를 팔았다냥\n",
            "오늘 재고는 0 마리다냥!\n",
            "오늘 1000원을 벌었으니 내일은 2000원을 벌테다!\n",
            "오늘 1000 원을 벌었으니 내일은 2000 원을 벌테다!\n"
          ]
        }
      ]
    },
    {
      "cell_type": "code",
      "source": [
        "# A등급 : 1000원, B등급 : 500원, C등급 : 100원\n",
        "# 오늘 잡은 물고기 : A등급 5마리, B등급 7마리, C등급 10마리\n",
        "\n",
        "등급별_가격 = {'A등급': 1000, 'B등급': 500, 'C등급': 100}\n",
        "\n",
        "A등급 = 5\n",
        "B등급 = 7\n",
        "C등급 = 10\n",
        "매출 = 0"
      ],
      "metadata": {
        "id": "nQRXPHg7y82a"
      },
      "execution_count": 38,
      "outputs": []
    },
    {
      "cell_type": "code",
      "source": [
        "# 손님의 주문\n",
        "# A등급 2마리, B등급 3마리 주세요.\n",
        "# 받은 돈 = 4000\n",
        "\n",
        "A등급 = A등급 - 2\n",
        "B등급 = B등급 - 3\n",
        "합계 = 등급별_가격['A등급'] * 2 + 등급별_가격['B등급'] * 3\n",
        "받은_돈 = 4000\n",
        "\n",
        "print(f'감사합니다. 여기 거스름돈 {받은_돈 - 합계}원 입니다.')\n",
        "\n",
        "재고 = A등급 + B등급 + C등급\n",
        "매출 = 매출 + 합계\n",
        "\n",
        "print(f'현재 매출 : {매출}, 재고 : {재고}')"
      ],
      "metadata": {
        "colab": {
          "base_uri": "https://localhost:8080/"
        },
        "id": "75eoKcE7zrKd",
        "outputId": "a762a3f6-8c4f-4ef7-b376-46a88f931990"
      },
      "execution_count": 40,
      "outputs": [
        {
          "output_type": "stream",
          "name": "stdout",
          "text": [
            "감사합니다. 여기 거스름돈 500원 입니다.\n",
            "현재 매출 : 3500, 재고 : 12\n"
          ]
        }
      ]
    },
    {
      "cell_type": "code",
      "source": [
        "세금 = 매출/4\n",
        "순익 = 매출 - 세금\n",
        "\n",
        "매출, 세금, 순익"
      ],
      "metadata": {
        "colab": {
          "base_uri": "https://localhost:8080/"
        },
        "id": "zgH-_JnFz_Md",
        "outputId": "6434f2ea-afb1-4d03-ef45-d6afcf8e74ba"
      },
      "execution_count": 41,
      "outputs": [
        {
          "output_type": "execute_result",
          "data": {
            "text/plain": [
              "(3500, 875.0, 2625.0)"
            ]
          },
          "metadata": {},
          "execution_count": 41
        }
      ]
    },
    {
      "cell_type": "code",
      "source": [
        "# 산술연산자 정리\n",
        "\n",
        "10 + 10\n",
        "10 - 10\n",
        "10 / 3 # float\n",
        "10 // 3 # int\n",
        "10 * 3\n",
        "3 ** 3\n",
        "3 ** 2\n",
        "10 % 3\n",
        "10 % 2\n",
        "\n",
        "# ++a\n",
        "# --a"
      ],
      "metadata": {
        "id": "vL6K9tDn03IR"
      },
      "execution_count": null,
      "outputs": []
    },
    {
      "cell_type": "code",
      "source": [
        "오늘_잡은_물고기 += 10\n",
        "오늘_잡은_물고기"
      ],
      "metadata": {
        "colab": {
          "base_uri": "https://localhost:8080/"
        },
        "id": "8K3lcPWY1d-M",
        "outputId": "626887b7-eb84-41c1-ea28-11b4a1291612"
      },
      "execution_count": 44,
      "outputs": [
        {
          "output_type": "execute_result",
          "data": {
            "text/plain": [
              "40"
            ]
          },
          "metadata": {},
          "execution_count": 44
        }
      ]
    },
    {
      "cell_type": "code",
      "source": [
        "오늘_잡은_물고기\n",
        "오늘_판_물고기\n",
        "\n",
        "print(오늘_잡은_물고기 > 오늘_판_물고기)\n",
        "print(오늘_잡은_물고기 < 오늘_판_물고기)\n",
        "print(오늘_잡은_물고기 >= 오늘_판_물고기)\n",
        "print(오늘_잡은_물고기 <= 오늘_판_물고기)\n",
        "print(오늘_잡은_물고기 == 오늘_판_물고기) # python,값, 타입\n",
        "print(오늘_잡은_물고기 != 오늘_판_물고기)\n",
        "# print(오늘_잡은_물고기 === 오늘_판_물고기) # javascript, 값, 타입"
      ],
      "metadata": {
        "colab": {
          "base_uri": "https://localhost:8080/"
        },
        "id": "TSn--DRA1iHL",
        "outputId": "2eee523f-fd8f-40ce-c670-9467568e3d92"
      },
      "execution_count": 45,
      "outputs": [
        {
          "output_type": "stream",
          "name": "stdout",
          "text": [
            "True\n",
            "False\n",
            "True\n",
            "False\n",
            "False\n",
            "True\n"
          ]
        }
      ]
    },
    {
      "cell_type": "code",
      "source": [
        "if 오늘_잡은_물고기 > 오늘_판_물고기:\n",
        "    print('아직 물고기를 다 팔지 않았습니다.')"
      ],
      "metadata": {
        "colab": {
          "base_uri": "https://localhost:8080/"
        },
        "id": "Q6XdK2Ez11XU",
        "outputId": "cf7da127-286d-41a1-8679-15f5c73f8d39"
      },
      "execution_count": 46,
      "outputs": [
        {
          "output_type": "stream",
          "name": "stdout",
          "text": [
            "아직 물고기를 다 팔지 않았습니다.\n"
          ]
        }
      ]
    },
    {
      "cell_type": "code",
      "source": [
        "# 논리 연산자\n",
        "\n",
        "a = True\n",
        "b = False\n",
        "\n",
        "a and a # 논리 곱(*)\n",
        "a and b\n",
        "\n",
        "a or a # 논리 합(+)\n",
        "a or b\n",
        "\n",
        "not a"
      ],
      "metadata": {
        "id": "cwJ3guSs2IEb"
      },
      "execution_count": null,
      "outputs": []
    },
    {
      "cell_type": "code",
      "source": [
        "오늘_잡은_물고기 = 10\n",
        "오늘_판_물고기 = 10\n",
        "전날_매출 = 10000\n",
        "오늘_매출 = 20000\n",
        "\n",
        "if (오늘_잡은_물고기 == 오늘_판_물고기) and (전날_매출*2 <= 오늘_매출):\n",
        "    print('오늘 물고기 판매 끝!')\n",
        "    print('매출 목표 달성!')\n",
        "else:\n",
        "    print('오늘의 목표를 달성하지 못했습니다.')"
      ],
      "metadata": {
        "colab": {
          "base_uri": "https://localhost:8080/"
        },
        "id": "WHv-I2j-2mo1",
        "outputId": "d71063c6-103b-424b-80bd-c177c595705a"
      },
      "execution_count": 49,
      "outputs": [
        {
          "output_type": "stream",
          "name": "stdout",
          "text": [
            "오늘 물고기 판매 끝!\n",
            "매출 목표 달성!\n"
          ]
        }
      ]
    },
    {
      "cell_type": "code",
      "source": [
        "x = 15\n",
        "\n",
        "if x % 3 == 0 and x % 5 == 0:\n",
        "    print('3과 5의 공배수입니다.')\n",
        "else:\n",
        "    print('3과 5의 공배수입니다.')"
      ],
      "metadata": {
        "colab": {
          "base_uri": "https://localhost:8080/"
        },
        "id": "eAR0x4Ck2-HQ",
        "outputId": "6994de76-ff8c-4c59-cfd4-9870bd358780"
      },
      "execution_count": 50,
      "outputs": [
        {
          "output_type": "stream",
          "name": "stdout",
          "text": [
            "3과 5의 공배수입니다.\n"
          ]
        }
      ]
    },
    {
      "cell_type": "code",
      "source": [
        "# 비트 연산자\n",
        "\n",
        "a = 10\n",
        "b = 2\n",
        "\n",
        "print(a & b)"
      ],
      "metadata": {
        "colab": {
          "base_uri": "https://localhost:8080/"
        },
        "id": "tdVy6Mb13U90",
        "outputId": "1e8de606-91c5-469a-c4d4-dd7a5f1cac2c"
      },
      "execution_count": 51,
      "outputs": [
        {
          "output_type": "stream",
          "name": "stdout",
          "text": [
            "2\n"
          ]
        }
      ]
    },
    {
      "cell_type": "code",
      "source": [
        "bin(10), bin(2)"
      ],
      "metadata": {
        "colab": {
          "base_uri": "https://localhost:8080/"
        },
        "id": "Kg0Xuou73c-C",
        "outputId": "5e5120bf-8bc5-485c-b237-cdea32b482e7"
      },
      "execution_count": 52,
      "outputs": [
        {
          "output_type": "execute_result",
          "data": {
            "text/plain": [
              "('0b1010', '0b10')"
            ]
          },
          "metadata": {},
          "execution_count": 52
        }
      ]
    },
    {
      "cell_type": "code",
      "source": [
        "# 1010\n",
        "# 0010\n",
        "# ____\n",
        "# 0010 -> 2"
      ],
      "metadata": {
        "id": "mH-KUET23gjq"
      },
      "execution_count": null,
      "outputs": []
    },
    {
      "cell_type": "code",
      "source": [
        "print(b<<2)"
      ],
      "metadata": {
        "colab": {
          "base_uri": "https://localhost:8080/"
        },
        "id": "Vqlroeiv3q0V",
        "outputId": "756e51e7-2eef-45e6-8282-9fbcd84a26cb"
      },
      "execution_count": 53,
      "outputs": [
        {
          "output_type": "stream",
          "name": "stdout",
          "text": [
            "8\n"
          ]
        }
      ]
    },
    {
      "cell_type": "code",
      "source": [
        "# 10 -> 2\n",
        "# 1000 -> 8"
      ],
      "metadata": {
        "id": "rC_ifR-z3sDM"
      },
      "execution_count": 54,
      "outputs": []
    },
    {
      "cell_type": "code",
      "source": [
        "print(b>>1)"
      ],
      "metadata": {
        "colab": {
          "base_uri": "https://localhost:8080/"
        },
        "id": "DSAiQvmJ3vVS",
        "outputId": "f8c3a65c-cafc-4040-d459-f1d7f2b81966"
      },
      "execution_count": 55,
      "outputs": [
        {
          "output_type": "stream",
          "name": "stdout",
          "text": [
            "1\n"
          ]
        }
      ]
    },
    {
      "cell_type": "code",
      "source": [
        "# 10 -> 2\n",
        "# 1 -> 1"
      ],
      "metadata": {
        "id": "p8Nfb9Rx3wdj"
      },
      "execution_count": 56,
      "outputs": []
    },
    {
      "cell_type": "code",
      "source": [
        "print(3>>1)"
      ],
      "metadata": {
        "colab": {
          "base_uri": "https://localhost:8080/"
        },
        "id": "mlSLS32m30Fr",
        "outputId": "5e3276d3-9c8a-484e-97b1-018eb1ff6daf"
      },
      "execution_count": 57,
      "outputs": [
        {
          "output_type": "stream",
          "name": "stdout",
          "text": [
            "1\n"
          ]
        }
      ]
    },
    {
      "cell_type": "code",
      "source": [
        "a^b\n",
        "\n",
        "# 1010\n",
        "# 0010\n",
        "# ____\n",
        "# 1000 ---> 8\n",
        "\n",
        "a, b"
      ],
      "metadata": {
        "colab": {
          "base_uri": "https://localhost:8080/"
        },
        "id": "v1CvBgd831kL",
        "outputId": "53e3458e-cdd6-447c-f112-10c831ad3bf7"
      },
      "execution_count": 59,
      "outputs": [
        {
          "output_type": "execute_result",
          "data": {
            "text/plain": [
              "(10, 2)"
            ]
          },
          "metadata": {},
          "execution_count": 59
        }
      ]
    },
    {
      "cell_type": "code",
      "source": [
        "~a"
      ],
      "metadata": {
        "colab": {
          "base_uri": "https://localhost:8080/"
        },
        "id": "e18OGcTS357b",
        "outputId": "9a7e8af4-8d68-4374-9c91-eaf124cc9eda"
      },
      "execution_count": 60,
      "outputs": [
        {
          "output_type": "execute_result",
          "data": {
            "text/plain": [
              "-11"
            ]
          },
          "metadata": {},
          "execution_count": 60
        }
      ]
    },
    {
      "cell_type": "code",
      "source": [
        "bin(a), bin(~a) # 2의 보수 표현 방"
      ],
      "metadata": {
        "colab": {
          "base_uri": "https://localhost:8080/"
        },
        "id": "xbq_E8_14ELL",
        "outputId": "0c69e959-56d3-4187-abef-22872de150c7"
      },
      "execution_count": 61,
      "outputs": [
        {
          "output_type": "execute_result",
          "data": {
            "text/plain": [
              "('0b1010', '-0b1011')"
            ]
          },
          "metadata": {},
          "execution_count": 61
        }
      ]
    },
    {
      "cell_type": "code",
      "source": [
        "a = 40\n",
        "b = 14\n",
        "a & b # bit AND\n",
        "\n",
        "# 101000\n",
        "# 001110\n",
        "# 001000\n",
        "\n",
        "# bin(a), bin(b)"
      ],
      "metadata": {
        "colab": {
          "base_uri": "https://localhost:8080/"
        },
        "id": "zTgUQcAZ4GbL",
        "outputId": "16beb6f5-57f6-40e5-d0be-8f11f99f4f65"
      },
      "execution_count": 63,
      "outputs": [
        {
          "output_type": "execute_result",
          "data": {
            "text/plain": [
              "8"
            ]
          },
          "metadata": {},
          "execution_count": 63
        }
      ]
    },
    {
      "cell_type": "code",
      "source": [
        "a = 40\n",
        "b = 14\n",
        "a | b # bit OR\n",
        "\n",
        "# 101000\n",
        "# 001110\n",
        "# 001000\n",
        "\n",
        "# bin(a), bin(b)"
      ],
      "metadata": {
        "colab": {
          "base_uri": "https://localhost:8080/"
        },
        "id": "zXXixbak4xB2",
        "outputId": "333ab730-f13c-4fa6-ecd6-c77abab592b5"
      },
      "execution_count": 66,
      "outputs": [
        {
          "output_type": "execute_result",
          "data": {
            "text/plain": [
              "46"
            ]
          },
          "metadata": {},
          "execution_count": 66
        }
      ]
    },
    {
      "cell_type": "code",
      "source": [
        "a = 40\n",
        "b = 14\n",
        "a ^ b # bit XOR : 다를 때만 1, 같은 때에는 0\n",
        "\n",
        "# 101000\n",
        "# 001110\n",
        "# 001000\n",
        "\n",
        "# bin(a), bin(b)"
      ],
      "metadata": {
        "colab": {
          "base_uri": "https://localhost:8080/"
        },
        "id": "a3swZIC_40-L",
        "outputId": "38f794b6-c68a-4747-f2ee-1eff9d2693b9"
      },
      "execution_count": 67,
      "outputs": [
        {
          "output_type": "execute_result",
          "data": {
            "text/plain": [
              "38"
            ]
          },
          "metadata": {},
          "execution_count": 67
        }
      ]
    },
    {
      "cell_type": "code",
      "source": [
        "a = 40\n",
        "\n",
        "~ a# bit NOT\n",
        "\n",
        "# 101000\n",
        "# 010111 # 비트 단위를 뒤짚었음!\n",
        "# 011000 # 비트단위를 뒤짚고 +1 한 값\n",
        "\n",
        "# 1. 0을 2개로 표현하지 않아도 됨!\n",
        "# 2. 더했을 경우 올림수 하나만 버리면 됨!\n",
        "\n",
        "# bin(a), bin(b)"
      ],
      "metadata": {
        "colab": {
          "base_uri": "https://localhost:8080/"
        },
        "id": "7GWwN_t742Dm",
        "outputId": "6acf83a6-e4b7-406f-efac-db98600f8ea5"
      },
      "execution_count": 69,
      "outputs": [
        {
          "output_type": "execute_result",
          "data": {
            "text/plain": [
              "-41"
            ]
          },
          "metadata": {},
          "execution_count": 69
        }
      ]
    },
    {
      "cell_type": "code",
      "source": [
        "a = 40\n",
        "print(bin(a))\n",
        "print(a<<2)\n",
        "print(int('10100000', 2))\n",
        "\n",
        "print(bin(a))\n",
        "print(a>>2)\n",
        "print(int('1010', 2))"
      ],
      "metadata": {
        "colab": {
          "base_uri": "https://localhost:8080/"
        },
        "id": "mKaHu6Ip5DPf",
        "outputId": "44585d08-ff10-4e3e-a88a-07a20d2079e9"
      },
      "execution_count": 72,
      "outputs": [
        {
          "output_type": "stream",
          "name": "stdout",
          "text": [
            "0b101000\n",
            "160\n",
            "160\n",
            "0b101000\n",
            "10\n",
            "10\n"
          ]
        }
      ]
    },
    {
      "cell_type": "code",
      "source": [
        "### 연산자 우선순위\n",
        "\n",
        "1. 리스트, 튜플, 딕셔너리, 셋\n",
        "2. 인덱싱, 슬라이싱\n",
        "3. **\n",
        "4. *, @, /, //, %\n",
        "5. +, -\n",
        "6. 비트단위 연산\n",
        "7. in, not in, is , is not\n",
        "8. 논리연산(not, and, or)\n",
        "9. if, else\n",
        "10. lambda\n",
        "\n"
      ],
      "metadata": {
        "id": "NGefx2r_5cSh"
      },
      "execution_count": null,
      "outputs": []
    },
    {
      "cell_type": "code",
      "source": [
        "# 식별연산\n",
        "\n",
        "'leehojun' == 'leehojun'"
      ],
      "metadata": {
        "colab": {
          "base_uri": "https://localhost:8080/"
        },
        "id": "qrP8sXpE6JYU",
        "outputId": "105120b8-04cb-49d2-ac49-f09925053453"
      },
      "execution_count": 73,
      "outputs": [
        {
          "output_type": "execute_result",
          "data": {
            "text/plain": [
              "True"
            ]
          },
          "metadata": {},
          "execution_count": 73
        }
      ]
    },
    {
      "cell_type": "code",
      "source": [
        "'leehojun' is 'leehojun'"
      ],
      "metadata": {
        "colab": {
          "base_uri": "https://localhost:8080/"
        },
        "id": "yNxgzhqt6ODM",
        "outputId": "0b82686e-ab2b-4f9a-ac57-d9b1e0749456"
      },
      "execution_count": 74,
      "outputs": [
        {
          "output_type": "stream",
          "name": "stderr",
          "text": [
            "<>:1: SyntaxWarning: \"is\" with a literal. Did you mean \"==\"?\n",
            "<>:1: SyntaxWarning: \"is\" with a literal. Did you mean \"==\"?\n",
            "<ipython-input-74-8d5d56d37c6c>:1: SyntaxWarning: \"is\" with a literal. Did you mean \"==\"?\n",
            "  'leehojun' is 'leehojun'\n"
          ]
        },
        {
          "output_type": "execute_result",
          "data": {
            "text/plain": [
              "True"
            ]
          },
          "metadata": {},
          "execution_count": 74
        }
      ]
    },
    {
      "cell_type": "code",
      "source": [
        "a = [1,2,3,4]\n",
        "b = [1,2,3,4]\n",
        "\n",
        "a == b\n",
        "a is b\n",
        "\n",
        "id(a), id(b)"
      ],
      "metadata": {
        "colab": {
          "base_uri": "https://localhost:8080/"
        },
        "id": "Kzn4vG2r6QaD",
        "outputId": "d2ab681e-f6ed-46c7-eff1-d48fd634b7d6"
      },
      "execution_count": 80,
      "outputs": [
        {
          "output_type": "execute_result",
          "data": {
            "text/plain": [
              "(132176760446464, 132176759436992)"
            ]
          },
          "metadata": {},
          "execution_count": 80
        }
      ]
    },
    {
      "cell_type": "code",
      "source": [
        "a = 10000000\n",
        "b = 10000000\n",
        "\n",
        "a == b\n",
        "a is b"
      ],
      "metadata": {
        "colab": {
          "base_uri": "https://localhost:8080/"
        },
        "id": "xW8Lv6RJ6qon",
        "outputId": "0a932523-1cc7-4aa6-b751-c319d2cc3af1"
      },
      "execution_count": 78,
      "outputs": [
        {
          "output_type": "execute_result",
          "data": {
            "text/plain": [
              "False"
            ]
          },
          "metadata": {},
          "execution_count": 78
        }
      ]
    },
    {
      "cell_type": "code",
      "source": [
        "a = 100\n",
        "b = 100\n",
        "\n",
        "a == b\n",
        "a is b"
      ],
      "metadata": {
        "colab": {
          "base_uri": "https://localhost:8080/"
        },
        "id": "x7S06NOX6Ups",
        "outputId": "72d69cfd-15de-4d72-e352-2170eb53ae38"
      },
      "execution_count": 76,
      "outputs": [
        {
          "output_type": "execute_result",
          "data": {
            "text/plain": [
              "True"
            ]
          },
          "metadata": {},
          "execution_count": 76
        }
      ]
    },
    {
      "cell_type": "code",
      "source": [
        "a = 10\n",
        "b = a\n",
        "c = b\n",
        "\n",
        "a == c\n",
        "a is c"
      ],
      "metadata": {
        "colab": {
          "base_uri": "https://localhost:8080/"
        },
        "id": "q3wIsz9Y6Y_T",
        "outputId": "3bebbd7f-dd60-4885-ed8d-c38e395a85fc"
      },
      "execution_count": 77,
      "outputs": [
        {
          "output_type": "execute_result",
          "data": {
            "text/plain": [
              "True"
            ]
          },
          "metadata": {},
          "execution_count": 77
        }
      ]
    },
    {
      "cell_type": "code",
      "source": [
        "a = [1,2,3,4]\n",
        "b = [1,2,3,4]\n",
        "\n",
        "a == b, a is b, a in b"
      ],
      "metadata": {
        "colab": {
          "base_uri": "https://localhost:8080/"
        },
        "id": "UBhQ8gy76dSL",
        "outputId": "53bbe795-29f3-496f-fe9d-a1eb4541af1a"
      },
      "execution_count": 81,
      "outputs": [
        {
          "output_type": "execute_result",
          "data": {
            "text/plain": [
              "(True, False, False)"
            ]
          },
          "metadata": {},
          "execution_count": 81
        }
      ]
    },
    {
      "cell_type": "code",
      "source": [
        "a = [1,2,3,4]\n",
        "b = [1,2,3,4]\n",
        "\n",
        "2 in b, [2] in b, [1, 2] in b"
      ],
      "metadata": {
        "colab": {
          "base_uri": "https://localhost:8080/"
        },
        "id": "iPHbseCT69he",
        "outputId": "af5e22c0-f3d2-4bf6-8fb3-a8a6eced1c34"
      },
      "execution_count": 82,
      "outputs": [
        {
          "output_type": "execute_result",
          "data": {
            "text/plain": [
              "(True, False, False)"
            ]
          },
          "metadata": {},
          "execution_count": 82
        }
      ]
    },
    {
      "cell_type": "code",
      "source": [
        "'l' in 'leehojun'"
      ],
      "metadata": {
        "colab": {
          "base_uri": "https://localhost:8080/"
        },
        "id": "hdlRN4Fi7Blu",
        "outputId": "c255fcc7-8093-4488-dd83-8ea8c36825fe"
      },
      "execution_count": 83,
      "outputs": [
        {
          "output_type": "execute_result",
          "data": {
            "text/plain": [
              "True"
            ]
          },
          "metadata": {},
          "execution_count": 83
        }
      ]
    },
    {
      "cell_type": "code",
      "source": [
        "'lee' in 'leehojun'"
      ],
      "metadata": {
        "colab": {
          "base_uri": "https://localhost:8080/"
        },
        "id": "SSrdM_JP7HtX",
        "outputId": "0dcc4263-5182-4cb9-b862-206991047de4"
      },
      "execution_count": 84,
      "outputs": [
        {
          "output_type": "execute_result",
          "data": {
            "text/plain": [
              "True"
            ]
          },
          "metadata": {},
          "execution_count": 84
        }
      ]
    },
    {
      "cell_type": "code",
      "source": [
        "10 in (10, 20, 30), (2) in (10, 20, 30), (1, 2) in (10, 20, 30)"
      ],
      "metadata": {
        "colab": {
          "base_uri": "https://localhost:8080/"
        },
        "id": "rzNGnStP7Irv",
        "outputId": "6a2a1238-3e56-482e-be35-3878ff9205f9"
      },
      "execution_count": 85,
      "outputs": [
        {
          "output_type": "execute_result",
          "data": {
            "text/plain": [
              "(True, False, False)"
            ]
          },
          "metadata": {},
          "execution_count": 85
        }
      ]
    },
    {
      "cell_type": "code",
      "source": [
        "a = {10, 10, 20}\n",
        "10 in a, {10} in a, {10, 20} in a"
      ],
      "metadata": {
        "colab": {
          "base_uri": "https://localhost:8080/"
        },
        "id": "SbssZuG67Tav",
        "outputId": "572d5330-6a1f-4af9-f847-bc4ecf41bd63"
      },
      "execution_count": 86,
      "outputs": [
        {
          "output_type": "execute_result",
          "data": {
            "text/plain": [
              "(True, False, False)"
            ]
          },
          "metadata": {},
          "execution_count": 86
        }
      ]
    },
    {
      "cell_type": "code",
      "source": [
        "a = {'key': 'value', 'key2':'value'}\n",
        "'key' in a, 'value' in a, ('key', 'key2') in a\n",
        "\n",
        "# ('key': 'value') in a # error!"
      ],
      "metadata": {
        "colab": {
          "base_uri": "https://localhost:8080/"
        },
        "id": "VmW_cAHw7aHo",
        "outputId": "2c47ee18-7283-478c-8f47-03252c83acc4"
      },
      "execution_count": 88,
      "outputs": [
        {
          "output_type": "execute_result",
          "data": {
            "text/plain": [
              "(True, False, False)"
            ]
          },
          "metadata": {},
          "execution_count": 88
        }
      ]
    },
    {
      "cell_type": "code",
      "source": [],
      "metadata": {
        "id": "AJyQIENo7pgI"
      },
      "execution_count": null,
      "outputs": []
    }
  ]
}