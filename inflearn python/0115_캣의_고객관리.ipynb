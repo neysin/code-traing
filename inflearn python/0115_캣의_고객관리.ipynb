{
  "nbformat": 4,
  "nbformat_minor": 0,
  "metadata": {
    "colab": {
      "provenance": [],
      "authorship_tag": "ABX9TyNeo2ceKRMACCH1qcVGQHSv",
      "include_colab_link": true
    },
    "kernelspec": {
      "name": "python3",
      "display_name": "Python 3"
    },
    "language_info": {
      "name": "python"
    }
  },
  "cells": [
    {
      "cell_type": "markdown",
      "metadata": {
        "id": "view-in-github",
        "colab_type": "text"
      },
      "source": [
        "<a href=\"https://colab.research.google.com/github/neysin/orm/blob/main/0115_%EC%BA%A3%EC%9D%98_%EA%B3%A0%EA%B0%9D%EA%B4%80%EB%A6%AC.ipynb\" target=\"_parent\"><img src=\"https://colab.research.google.com/assets/colab-badge.svg\" alt=\"Open In Colab\"/></a>"
      ]
    },
    {
      "cell_type": "code",
      "execution_count": 1,
      "metadata": {
        "colab": {
          "base_uri": "https://localhost:8080/"
        },
        "id": "vd2_bxO0dVpN",
        "outputId": "7de43e52-f31c-4408-c840-a65999dcba8e"
      },
      "outputs": [
        {
          "output_type": "stream",
          "name": "stdout",
          "text": [
            "회원명을 입력하세요 : D캣\n",
            "['A캣', 'B캣', 'C캣', 'D캣']\n",
            "회원으로 등록되었습니다.\n"
          ]
        }
      ],
      "source": [
        "# 문제 1\n",
        "\n",
        "회원명 = input('회원명을 입력하세요 : ')\n",
        "회원 = ['A캣', 'B캣', 'C캣']\n",
        "\n",
        "def 회원등록(in_회원명):\n",
        "    회원.append(in_회원명)\n",
        "    print(회원)\n",
        "    print('회원으로 등록되었습니다.')\n",
        "\n",
        "if 회원명 in 회원:\n",
        "    print('이미 등록된 회원입니다.')\n",
        "else:\n",
        "    회원등록(회원명)"
      ]
    },
    {
      "cell_type": "code",
      "source": [
        "# 문제 2\n",
        "\n",
        "구매가격 = int(input('가격을 입력하세요 : '))\n",
        "회원명 = input('회원명을 입력하세요 :')\n",
        "\n",
        "회원 = ['씨-캣', '자바캣', '파이캣', '썬캣', '애옹']\n",
        "\n",
        "if 회원명 in 회원:\n",
        "    print('회원입니다.')\n",
        "    print(f'{구매가격}노드 중 {구매가격*0.1}노드가 적립니다.')\n",
        "else:\n",
        "    print('회원이 아닙니다. 회원가입을 해주시기 바랍니다.')"
      ],
      "metadata": {
        "colab": {
          "base_uri": "https://localhost:8080/"
        },
        "id": "mveRvBQkIFus",
        "outputId": "388cea39-1f2a-4446-bc8f-8ba16f22d6f6"
      },
      "execution_count": 2,
      "outputs": [
        {
          "output_type": "stream",
          "name": "stdout",
          "text": [
            "가격을 입력하세요 : 15000\n",
            "회원명을 입력하세요 :애옹\n",
            "회원입니다.\n",
            "15000노드 중 1500.0노드가 적립니다.\n"
          ]
        }
      ]
    },
    {
      "cell_type": "code",
      "source": [
        "# 문제 3\n",
        "\n",
        "구매가격 = int(input('가격을 입력하세요 : '))\n",
        "회원명 = input('회원명을 입력하세요 :')\n",
        "\n",
        "회원 = {'씨-캣': 5000, '자바캣': 3500,'파이캣': 15000, '썬캣': 7000}\n",
        "\n",
        "if 회원명 in 회원:\n",
        "    if 회원[회원명] >= 10000:\n",
        "        print(f'적립금을 사용할 수 있습니다. 현재 적립금은 {회원[회원명]}노드 입니다.')\n",
        "        사용할_적립금 = int(input('사용할 적립금 노드를 입력하세요 : '))\n",
        "        print(f'{사용할_적립금}노드를 사용하였습니다. 남은 적립금은 {int(회원[회원명] - 사용할_적립금)}노드 입니다.\\\n",
        " 결제금액은 {int(구매가격 - 사용할_적립금)}노드 입니다.')\n",
        "    else:\n",
        "        print(f'현재 적립금이 {회원[회원명]}노드이므로 아직 적립금을 사용할 수 없습니다.\\\n",
        "        결제금액은 {구매가격}노드이고, 적립포인트는 {int(구매가격)*0.1}, 합산포인트는 {int(구매가격*1.1)} 노드입니다.')\n",
        "else:\n",
        "    print('회원이 아닙니다. 회원가입을 해주시기 바랍니다.')"
      ],
      "metadata": {
        "colab": {
          "base_uri": "https://localhost:8080/"
        },
        "id": "e4HpiXClJbQC",
        "outputId": "b3224a58-27cd-44b3-c917-9a3add6d4139"
      },
      "execution_count": 7,
      "outputs": [
        {
          "output_type": "stream",
          "name": "stdout",
          "text": [
            "가격을 입력하세요 : 10000\n",
            "회원명을 입력하세요 :파이캣\n",
            "적립금을 사용할 수 있습니다. 현재 적립금은 15000노드 입니다.\n",
            "사용할 적립금 노드를 입력하세요 : 5000\n",
            "5000노드를 사용하였습니다. 남은 적립금은 10000노드 입니다.결제금액은 5000노드 입니다.\n"
          ]
        }
      ]
    },
    {
      "cell_type": "code",
      "source": [
        "# 문제 3\n",
        "# 수정된 버전\n",
        "\n",
        "구매가격 = int(input('가격을 입력하세요 : '))\n",
        "회원명 = input('회원명을 입력하세요 :')\n",
        "\n",
        "회원 = {'씨-캣': 5000, '자바캣': 3500,'파이캣': 15000, '썬캣': 7000}\n",
        "\n",
        "if 회원명 in 회원:\n",
        "    if 회원[회원명] >= 10000:\n",
        "        print(f'적립금을 사용할 수 있습니다. 현재 적립금은 {회원[회원명]}노드 입니다.')\n",
        "        사용할_포인트 = int(input('사용할 적립금 노드를 입력하세요 :'))\n",
        "        결제할_금액 = 구매가격 - 사용할_포인트\n",
        "        남은_적립금 = 회원[회원명] - 결제할_금액\n",
        "        회원[회원명] = 남은_적립금 + 결제할_금액 * 0.1\n",
        "        print(f'{사용할_포인트}노드를 사용하였습니다. 남은 적립금은 {남은_적립금}노드 입니다. 결제금액은 {결제할_금액}노드 입니다.')\n",
        "    else:\n",
        "        적립될_포인트 = 구매가격 * 0.1\n",
        "        print(f'현재 적립금이 {회원[회원명]}노드이므로 아직 적립금을 사용할 수 없습니다.\\\n",
        "        결제금액은 {구매가격}노드이고, 적립포인트는 {적립될_포인트}, 합산포인트는 {적립될_포인트 + 회원[회원명]} 노드입니다.')\n",
        "        회원[회원명] += 적립될 포인트\n",
        "else:\n",
        "    print('회원이 아닙니다. 회원가입을 해주시기 바랍니다.')"
      ],
      "metadata": {
        "colab": {
          "base_uri": "https://localhost:8080/"
        },
        "id": "tbMbmpmNLvbg",
        "outputId": "fefb2dfa-e8dc-4297-9b73-4a627697eaf7"
      },
      "execution_count": 9,
      "outputs": [
        {
          "output_type": "stream",
          "name": "stdout",
          "text": [
            "가격을 입력하세요 : 10000\n",
            "회원명을 입력하세요 :파이캣\n",
            "적립금을 사용할 수 있습니다. 현재 적립금은 15000노드 입니다.\n",
            "사용할 적립금 노드를 입력하세요 :5000\n",
            "5000노드를 사용하였습니다. 남은 적립금은 10000노드 입니다. 결제금액은 5000노드 입니다.\n"
          ]
        }
      ]
    },
    {
      "cell_type": "code",
      "source": [
        "# 문제 4\n",
        "\n",
        "def 배수(n):\n",
        "    def 적립(value):\n",
        "        return (value * 0.1) * n\n",
        "    return 적립\n",
        "\n",
        "Feb = 배수(2)\n",
        "Mar = 배수(3)\n",
        "\n",
        "print('2월 적립금 이벤트:', Feb(5000))\n",
        "print('3월 적립금 이벤트:', Mar(15000))"
      ],
      "metadata": {
        "colab": {
          "base_uri": "https://localhost:8080/"
        },
        "id": "l1_rZ3vHOxGN",
        "outputId": "d323236f-55da-4e17-b036-e1adf9694ca2"
      },
      "execution_count": 1,
      "outputs": [
        {
          "output_type": "stream",
          "name": "stdout",
          "text": [
            "2월 적립금 이벤트: 1000.0\n",
            "3월 적립금 이벤트: 4500.0\n"
          ]
        }
      ]
    }
  ]
}