{
  "nbformat": 4,
  "nbformat_minor": 0,
  "metadata": {
    "colab": {
      "provenance": [],
      "authorship_tag": "ABX9TyMp36BcGjqjQck9kZ2bQZdx",
      "include_colab_link": true
    },
    "kernelspec": {
      "name": "python3",
      "display_name": "Python 3"
    },
    "language_info": {
      "name": "python"
    }
  },
  "cells": [
    {
      "cell_type": "markdown",
      "metadata": {
        "id": "view-in-github",
        "colab_type": "text"
      },
      "source": [
        "<a href=\"https://colab.research.google.com/github/neysin/orm/blob/main/programmers_%EC%9E%85%EB%AC%B8_day14.ipynb\" target=\"_parent\"><img src=\"https://colab.research.google.com/assets/colab-badge.svg\" alt=\"Open In Colab\"/></a>"
      ]
    },
    {
      "cell_type": "markdown",
      "source": [
        "가까운 수"
      ],
      "metadata": {
        "id": "JB5a1oQQgQn0"
      }
    },
    {
      "cell_type": "code",
      "execution_count": 3,
      "metadata": {
        "colab": {
          "base_uri": "https://localhost:8080/"
        },
        "id": "u53-xhaWeOin",
        "outputId": "1ede79fd-6497-4576-8ee4-32d91ee112d5"
      },
      "outputs": [
        {
          "output_type": "execute_result",
          "data": {
            "text/plain": [
              "28"
            ]
          },
          "metadata": {},
          "execution_count": 3
        }
      ],
      "source": [
        "# 가까운 수\n",
        "def solution(array, n):\n",
        "    l = []\n",
        "    sort_array = sorted(array)\n",
        "    for i in sort_array:\n",
        "        l.append(abs(n - i))\n",
        "\n",
        "    min_index = l.index(min(l))\n",
        "    return sort_array[min_index]\n",
        "\n",
        "array = [3, 10, 28]\n",
        "n = 20\n",
        "solution(array, n)"
      ]
    },
    {
      "cell_type": "code",
      "source": [
        "# 정렬에 key 값을 줘서 절대값 순으로 정렬, 두 번째 정렬 규칙으로 절대값이 작을 경우\n",
        "# 값이 작은 순으로 정렬\n",
        "def solution(array, n):\n",
        "    array.sort(key = lambda x : (abs(x-n), x-n))\n",
        "    answer = array[0]\n",
        "    return answer"
      ],
      "metadata": {
        "id": "2Z4zjBF3fc0h"
      },
      "execution_count": null,
      "outputs": []
    },
    {
      "cell_type": "code",
      "source": [
        "# 369게임\n",
        "def solution(order):\n",
        "    count = 0\n",
        "    for i in str(order):\n",
        "        if i == '3' or i == '6' or i == '9':\n",
        "            count += 1\n",
        "\n",
        "    return count\n",
        "\n",
        "order = 3\n",
        "solution(order)"
      ],
      "metadata": {
        "colab": {
          "base_uri": "https://localhost:8080/"
        },
        "id": "1xttpNHlgTLX",
        "outputId": "c9e75e5e-5c59-4a75-9f0a-d812af8d8fef"
      },
      "execution_count": 5,
      "outputs": [
        {
          "output_type": "execute_result",
          "data": {
            "text/plain": [
              "1"
            ]
          },
          "metadata": {},
          "execution_count": 5
        }
      ]
    },
    {
      "cell_type": "code",
      "source": [
        "# 암호 해독\n",
        "def solution(cipher, code):\n",
        "    return cipher[code-1::code]\n",
        "\n",
        "cipher = \"dfjardstddetckdaccccdegk\"\n",
        "code = 4\n",
        "solution(cipher, code)"
      ],
      "metadata": {
        "colab": {
          "base_uri": "https://localhost:8080/",
          "height": 36
        },
        "id": "pvLlLnmCgnEd",
        "outputId": "ead5eed7-a25a-41a9-99f8-40a43e40190f"
      },
      "execution_count": 9,
      "outputs": [
        {
          "output_type": "execute_result",
          "data": {
            "text/plain": [
              "'attack'"
            ],
            "application/vnd.google.colaboratory.intrinsic+json": {
              "type": "string"
            }
          },
          "metadata": {},
          "execution_count": 9
        }
      ]
    },
    {
      "cell_type": "markdown",
      "source": [
        "대문자와 소문자"
      ],
      "metadata": {
        "id": "RQxlCPRciCiv"
      }
    },
    {
      "cell_type": "code",
      "source": [
        "# 대문자와 소문자\n",
        "def solution(my_string):\n",
        "    result = ''\n",
        "    for i in my_string:\n",
        "        if i == i.lower():\n",
        "            result += i.upper()\n",
        "        elif i == i.upper():\n",
        "            result += i.lower()\n",
        "\n",
        "    return result\n",
        "\n",
        "my_string = \"cccCCC\"\n",
        "solution(my_string)"
      ],
      "metadata": {
        "colab": {
          "base_uri": "https://localhost:8080/",
          "height": 36
        },
        "id": "BBQRSD2ahA9G",
        "outputId": "b6406573-cde3-4927-fd6d-2f258e034bab"
      },
      "execution_count": 11,
      "outputs": [
        {
          "output_type": "execute_result",
          "data": {
            "text/plain": [
              "'CCCccc'"
            ],
            "application/vnd.google.colaboratory.intrinsic+json": {
              "type": "string"
            }
          },
          "metadata": {},
          "execution_count": 11
        }
      ]
    },
    {
      "cell_type": "code",
      "source": [
        "# 대소문자를 스위칭해주는 swapcase\n",
        "def solution(my_string):\n",
        "    return my_string.swapcase()"
      ],
      "metadata": {
        "id": "lTJA_1O3h1yn"
      },
      "execution_count": null,
      "outputs": []
    }
  ]
}