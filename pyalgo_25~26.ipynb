{
  "nbformat": 4,
  "nbformat_minor": 0,
  "metadata": {
    "colab": {
      "provenance": [],
      "authorship_tag": "ABX9TyOwki7h18Sv7peCElDRdqG9",
      "include_colab_link": true
    },
    "kernelspec": {
      "name": "python3",
      "display_name": "Python 3"
    },
    "language_info": {
      "name": "python"
    }
  },
  "cells": [
    {
      "cell_type": "markdown",
      "metadata": {
        "id": "view-in-github",
        "colab_type": "text"
      },
      "source": [
        "<a href=\"https://colab.research.google.com/github/neysin/orm/blob/main/pyalgo_25~26.ipynb\" target=\"_parent\"><img src=\"https://colab.research.google.com/assets/colab-badge.svg\" alt=\"Open In Colab\"/></a>"
      ]
    },
    {
      "cell_type": "code",
      "execution_count": 21,
      "metadata": {
        "colab": {
          "base_uri": "https://localhost:8080/"
        },
        "id": "kXVSr0BRL4u6",
        "outputId": "94aeaf26-a8a7-409f-800f-68667d07ffdb"
      },
      "outputs": [
        {
          "output_type": "execute_result",
          "data": {
            "text/plain": [
              "4"
            ]
          },
          "metadata": {},
          "execution_count": 21
        }
      ],
      "source": [
        "# 문제 25번\n",
        "\n",
        "def solution(data):\n",
        "    '''\n",
        "    소수를 찾기 위해 조건으로 약수가 2개라는 조건을 사용\n",
        "    i에 주어진 수를 언패킹하고 n에 i이하의 숫자를 넣어줌\n",
        "    i를 나눌 수 있는 n을 리스트 l에 추가하고 l의 길이가 2개인 것들만 추출\n",
        "    '''\n",
        "    prime_num = []\n",
        "\n",
        "    for i in range(1, data+1):\n",
        "        l = []\n",
        "        for n in range(1, i+1):\n",
        "            if i % n == 0:\n",
        "                l.append(n)\n",
        "\n",
        "        if len(l) == 2:\n",
        "            prime_num.append(i)\n",
        "\n",
        "    return len(prime_num)\n",
        "\n",
        "data = 10\n",
        "solution(data)"
      ]
    },
    {
      "cell_type": "code",
      "source": [
        "# 위의 추출 과정을 filter 함수로 바꿈\n",
        "def solution(data):\n",
        "    prime_num = []\n",
        "\n",
        "    for i in range(1, data+1):\n",
        "        l = list(filter(lambda n: i % n == 0, range(1, i+1)))\n",
        "        if len(l) == 2:\n",
        "            prime_num.append(i)\n",
        "\n",
        "    return len(prime_num)\n",
        "\n",
        "data = 10\n",
        "solution(data)"
      ],
      "metadata": {
        "colab": {
          "base_uri": "https://localhost:8080/"
        },
        "id": "5m6Yj8ESWF06",
        "outputId": "8349f511-bcd6-4ee8-999a-03210e378933"
      },
      "execution_count": 26,
      "outputs": [
        {
          "output_type": "execute_result",
          "data": {
            "text/plain": [
              "4"
            ]
          },
          "metadata": {},
          "execution_count": 26
        }
      ]
    },
    {
      "cell_type": "code",
      "source": [
        "# 문제 26\n",
        "def solution(data):\n",
        "    data_list, window = data\n",
        "    l = []\n",
        "    for i in range(len(data_list) - window + 1):\n",
        "        slide = data_list[i:window + i]\n",
        "        l.append(sum(slide))\n",
        "\n",
        "    return max(l)\n",
        "\n",
        "data = ([1, 3, 2, 6, -1, 4, 1, 8, 2], 5)\n",
        "solution(data)"
      ],
      "metadata": {
        "colab": {
          "base_uri": "https://localhost:8080/"
        },
        "id": "p2yyPrqEYzXN",
        "outputId": "4e6c7952-65b7-4f97-9fd8-6f7db748b453"
      },
      "execution_count": 41,
      "outputs": [
        {
          "output_type": "execute_result",
          "data": {
            "text/plain": [
              "18"
            ]
          },
          "metadata": {},
          "execution_count": 41
        }
      ]
    }
  ]
}