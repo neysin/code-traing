{
  "nbformat": 4,
  "nbformat_minor": 0,
  "metadata": {
    "colab": {
      "provenance": [],
      "authorship_tag": "ABX9TyMyATSq0uc2KQVvModfF/rz",
      "include_colab_link": true
    },
    "kernelspec": {
      "name": "python3",
      "display_name": "Python 3"
    },
    "language_info": {
      "name": "python"
    }
  },
  "cells": [
    {
      "cell_type": "markdown",
      "metadata": {
        "id": "view-in-github",
        "colab_type": "text"
      },
      "source": [
        "<a href=\"https://colab.research.google.com/github/neysin/orm/blob/main/20240327_%EC%95%8C%EA%B3%A0%EB%A6%AC%EC%A6%98.ipynb\" target=\"_parent\"><img src=\"https://colab.research.google.com/assets/colab-badge.svg\" alt=\"Open In Colab\"/></a>"
      ]
    },
    {
      "cell_type": "markdown",
      "source": [
        "## 1.4.2 연결리스트"
      ],
      "metadata": {
        "id": "ulwVUl5Bl2HP"
      }
    },
    {
      "cell_type": "code",
      "execution_count": null,
      "metadata": {
        "id": "0ndNJR8DOmJ-"
      },
      "outputs": [],
      "source": [
        "class Node:\n",
        "    def __init__(self, data):\n",
        "        self.value = data\n",
        "        self.next = None\n",
        "\n",
        "node1 = Node(90)\n",
        "node2 = Node(2)\n",
        "node3 = Node(77)\n",
        "node4 = Node(35)\n",
        "\n",
        "node1.next = node2\n",
        "node2.next = node3\n",
        "node3.next = node4\n",
        "\n",
        "node1.next.next.value\n",
        "\n",
        "currentnode = node1\n",
        "while currentnode:\n",
        "    print(currentnode.value)\n",
        "    currentnode = currentnode.next"
      ]
    },
    {
      "cell_type": "markdown",
      "source": [
        "### iter, insert 기능 구현"
      ],
      "metadata": {
        "id": "e7AGq2NKl8Kw"
      }
    },
    {
      "cell_type": "code",
      "source": [
        "# iter, insert 기능 구현\n",
        "\n",
        "class Node:\n",
        "    def __init__(self, data):\n",
        "        self.data = data\n",
        "        self.next = None\n",
        "\n",
        "\n",
        "class LinkedList:\n",
        "    def __init__(self):\n",
        "        init = Node('init')\n",
        "        self.head = init\n",
        "        self.tail = init\n",
        "        self.count = 0\n",
        "\n",
        "    def __len__(self):\n",
        "        return self.count\n",
        "\n",
        "    def __repr__(self):\n",
        "        s = ''\n",
        "        currentnode = l.head.next\n",
        "        while currentnode:\n",
        "            s += f'{currentnode.data}, '\n",
        "            currentnode = currentnode.next\n",
        "        return f'<{s[:-2]}>'\n",
        "\n",
        "    def __str__(self):\n",
        "        s = ''\n",
        "        currentnode = l.head.next\n",
        "        while currentnode:\n",
        "            s += f'{currentnode.data}, '\n",
        "            currentnode = currentnode.next\n",
        "        return f'<{s[:-2]}>'\n",
        "\n",
        "    def __iter__(self):\n",
        "        currentnode = l.head.next\n",
        "        while currentnode:\n",
        "            yield currentnode.data\n",
        "            currentnode = currentnode.next\n",
        "\n",
        "    def append(self, data):\n",
        "        new_node = Node(data) # 새로운 노드 추가\n",
        "        self.tail.next = new_node # 끝에 추가함으로 기존의 tail의 next에 선언\n",
        "        self.tail = new_node # 그러므로 새로운 tail은 추가된 값이 됨.\n",
        "        self.count += 1 # 하나 추가 했으므로 count 하나 추가\n",
        "\n",
        "    def insert(self, index, data):\n",
        "        currentnode = l.head\n",
        "        for _ in range(index):\n",
        "            currentnode = currentnode.next\n",
        "\n",
        "        new_node = Node(data)\n",
        "        new_node.next = currentnode.next\n",
        "        currentnode.next = new_node\n",
        "\n",
        "l = LinkedList()\n",
        "l.append(10)\n",
        "l.append(20)\n",
        "l.append(30)\n",
        "l.append(40)\n",
        "l.append(50)\n",
        "\n",
        "l.insert(2, 10000)\n",
        "l"
      ],
      "metadata": {
        "colab": {
          "base_uri": "https://localhost:8080/"
        },
        "id": "cU7rdzBFVTVs",
        "outputId": "4587905f-4464-4913-8799-ef2b1a12f067"
      },
      "execution_count": 13,
      "outputs": [
        {
          "output_type": "execute_result",
          "data": {
            "text/plain": [
              "<10, 20, 10000, 30, 40, 50>"
            ]
          },
          "metadata": {},
          "execution_count": 13
        }
      ]
    },
    {
      "cell_type": "markdown",
      "source": [
        "### double linked list"
      ],
      "metadata": {
        "id": "diOTLUmamACX"
      }
    },
    {
      "cell_type": "code",
      "source": [
        "# double linked list\n",
        "\n",
        "node1 = {\n",
        "    'pre': None,\n",
        "    'data': 12,\n",
        "    'next': None\n",
        "}\n",
        "\n",
        "node2 = {\n",
        "    'pre': None,\n",
        "    'data': 99,\n",
        "    'next': None\n",
        "}\n",
        "\n",
        "node3 = {\n",
        "    'pre': None,\n",
        "    'data': 37,\n",
        "    'next': None\n",
        "}\n",
        "\n",
        "node1['next'] = node2\n",
        "node2['pre'] = node1\n",
        "\n",
        "node2['next'] = node3\n",
        "node3['pre'] = node2"
      ],
      "metadata": {
        "id": "6vivxofNkC0e"
      },
      "execution_count": null,
      "outputs": []
    },
    {
      "cell_type": "code",
      "source": [
        "# 쉬어가기 연습문제\n",
        "# 숫자가 똑같은지 판단\n",
        "def solution(num1, num2):\n",
        "    if num1 == num2:\n",
        "        return 1\n",
        "    else:\n",
        "        return -1"
      ],
      "metadata": {
        "id": "jBKC47VZpTkK"
      },
      "execution_count": null,
      "outputs": []
    },
    {
      "cell_type": "code",
      "source": [
        "def solution(num1, num2):\n",
        "    return 1 if num1 == num2 else -1"
      ],
      "metadata": {
        "id": "aSiI3QAXpdgE"
      },
      "execution_count": null,
      "outputs": []
    },
    {
      "cell_type": "code",
      "source": [
        "# 숫자 세기\n",
        "from collections import Counter\n",
        "\n",
        "Counter([1,1,1,1,2,2,2,2,3,3,3,3,3])"
      ],
      "metadata": {
        "colab": {
          "base_uri": "https://localhost:8080/"
        },
        "id": "vRL918Ugql3X",
        "outputId": "3c8e0c4f-0b24-49f5-ab18-3672cb7c5e02"
      },
      "execution_count": 14,
      "outputs": [
        {
          "output_type": "execute_result",
          "data": {
            "text/plain": [
              "Counter({1: 4, 2: 4, 3: 5})"
            ]
          },
          "metadata": {},
          "execution_count": 14
        }
      ]
    },
    {
      "cell_type": "code",
      "source": [
        "from collections import Counter\n",
        "\n",
        "Counter('hello wolrd')"
      ],
      "metadata": {
        "colab": {
          "base_uri": "https://localhost:8080/"
        },
        "id": "SqmkW9FQquin",
        "outputId": "602a4806-2213-4aed-8adc-ab307a8d7b9c"
      },
      "execution_count": 15,
      "outputs": [
        {
          "output_type": "execute_result",
          "data": {
            "text/plain": [
              "Counter({'h': 1, 'e': 1, 'l': 3, 'o': 2, ' ': 1, 'w': 1, 'r': 1, 'd': 1})"
            ]
          },
          "metadata": {},
          "execution_count": 15
        }
      ]
    },
    {
      "cell_type": "code",
      "source": [
        "from collections import Counter\n",
        "\n",
        "x = Counter('hello wolrd')\n",
        "\n",
        "Counter('hello world').get('o')"
      ],
      "metadata": {
        "colab": {
          "base_uri": "https://localhost:8080/"
        },
        "id": "EUq_Ea10q6_c",
        "outputId": "ab541699-9d02-496a-9efe-b1cdc2d37646"
      },
      "execution_count": 17,
      "outputs": [
        {
          "output_type": "execute_result",
          "data": {
            "text/plain": [
              "2"
            ]
          },
          "metadata": {},
          "execution_count": 17
        }
      ]
    },
    {
      "cell_type": "code",
      "source": [
        "from collections import Counter\n",
        "\n",
        "x = Counter('hello wolrd')\n",
        "\n",
        "Counter('hello world').most_common()"
      ],
      "metadata": {
        "colab": {
          "base_uri": "https://localhost:8080/"
        },
        "id": "sbuKL-YUq_j8",
        "outputId": "97b1aff9-6833-4fc2-aa2d-6f85058a0129"
      },
      "execution_count": 18,
      "outputs": [
        {
          "output_type": "execute_result",
          "data": {
            "text/plain": [
              "[('l', 3),\n",
              " ('o', 2),\n",
              " ('h', 1),\n",
              " ('e', 1),\n",
              " (' ', 1),\n",
              " ('w', 1),\n",
              " ('r', 1),\n",
              " ('d', 1)]"
            ]
          },
          "metadata": {},
          "execution_count": 18
        }
      ]
    },
    {
      "cell_type": "code",
      "source": [
        "from collections import Counter\n",
        "\n",
        "def solution(array, n):\n",
        "    value = Counter(array).get(n)\n",
        "    return 0 if value == None else value"
      ],
      "metadata": {
        "id": "duP21YL-rQHL"
      },
      "execution_count": null,
      "outputs": []
    },
    {
      "cell_type": "code",
      "source": [
        "# 주어진 수보다 큰 수 추출하기\n",
        "def solution(array, height):\n",
        "    return len(list(filter(lambda x: x > height, array)))\n",
        "\n",
        "\n",
        "solution([149, 180, 192, 170], 167)"
      ],
      "metadata": {
        "id": "9HRaDGNct27h"
      },
      "execution_count": null,
      "outputs": []
    },
    {
      "cell_type": "code",
      "source": [
        "def solution(array, height):\n",
        "    return len([i for i in array if i > height])\n",
        "\n",
        "\n",
        "solution([149, 180, 192, 170], 167)"
      ],
      "metadata": {
        "id": "aXsQXY4Yt6An"
      },
      "execution_count": null,
      "outputs": []
    },
    {
      "cell_type": "code",
      "source": [
        "# 배열 회전시키\n",
        "from collections import deque\n",
        "\n",
        "\n",
        "def solution(numbers, direction):\n",
        "    numbers = deque(numbers)\n",
        "    if direction == 'right':\n",
        "        numbers.rotate(1)\n",
        "    else:\n",
        "        numbers.rotate(-1)\n",
        "    return list(numbers)"
      ],
      "metadata": {
        "id": "RHYn3KUR6mWO"
      },
      "execution_count": null,
      "outputs": []
    },
    {
      "cell_type": "code",
      "source": [
        "# 문자열의 숫자만 뽑아 더하기\n",
        "my_string = 'aAb1B2cC34oOp'\n",
        "\n",
        "# 1. findall로 숫자만 뽑는다.\n",
        "# 2. sub로 문자를 지운다\n",
        "# 3. split으로 모든 문자를 split기준으로 삼고 sum한다."
      ],
      "metadata": {
        "id": "_vDUmRN56uGF"
      },
      "execution_count": null,
      "outputs": []
    },
    {
      "cell_type": "code",
      "source": [
        "import re\n",
        "\n",
        "s = 'aAb1B2cC34oOp'\n",
        "re.split('[a-zA-Z]', s)"
      ],
      "metadata": {
        "id": "2xD3VhC86vUz"
      },
      "execution_count": null,
      "outputs": []
    },
    {
      "cell_type": "code",
      "source": [
        "import re\n",
        "\n",
        "s = 'aAb1B2cC34oOp'\n",
        "re.sub('[a-zA-Z]', '-', s) # sub는 replace와 비슷한 기능"
      ],
      "metadata": {
        "id": "SKYYkbNR62Pd"
      },
      "execution_count": null,
      "outputs": []
    },
    {
      "cell_type": "code",
      "source": [
        "import re\n",
        "\n",
        "s = 'aAb1B2cC34oOp'\n",
        "re.findall('[0-9]+', s)"
      ],
      "metadata": {
        "id": "XfGi8iSu67qE"
      },
      "execution_count": null,
      "outputs": []
    },
    {
      "cell_type": "code",
      "source": [
        "# 문자 매\n",
        "import re\n",
        "\n",
        "def solution(babbling):\n",
        "    count = 0\n",
        "    p = [\"aya\", \"ye\", \"woo\", \"ma\"]\n",
        "    for i in babbling:\n",
        "        print('-------------')\n",
        "        print(i)\n",
        "        for pattern in p:\n",
        "            i = re.sub(pattern, ' ', i)\n",
        "            print('--p--')\n",
        "            print(i)\n",
        "        if i.replace(' ', '') == '':\n",
        "            count += 1\n",
        "    return count\n",
        "\n",
        "\n",
        "solution(['mayaa', \"ayaye\", \"uuuma\", \"ye\", \"yemawoo\", \"ayaa\"])\n",
        "\n",
        "\n",
        "# 'mayaa' => 'm a' => 카운트가 안됨"
      ],
      "metadata": {
        "id": "dmEOyW4wBaF9"
      },
      "execution_count": null,
      "outputs": []
    },
    {
      "cell_type": "code",
      "source": [
        "# ['mayaa', \"ayaye\", \"uuuma\", \"ye\", \"yemawoo\", \"ayaa\"]\n",
        "def solution(babbling):\n",
        "    possible_words = [\"aya\", \"ye\", \"woo\", \"ma\"]\n",
        "    answer = 0\n",
        "    for word in babbling:\n",
        "        stack = []\n",
        "        for char in word:\n",
        "            stack.append(char)\n",
        "            if ''.join(stack) in possible_words:\n",
        "                stack.clear()\n",
        "        if len(stack) == 0:\n",
        "            answer += 1\n",
        "    return answer"
      ],
      "metadata": {
        "id": "D-ThgO5KBiau"
      },
      "execution_count": null,
      "outputs": []
    },
    {
      "cell_type": "code",
      "source": [
        "import re\n",
        "def solution(babbling):\n",
        "    pattern = r'(aya|ye|woo|ma)+'\n",
        "\n",
        "    return sum(1 for word in babbling if re.fullmatch(pattern, word) is not None)"
      ],
      "metadata": {
        "id": "QmdLnPlhBiyW"
      },
      "execution_count": null,
      "outputs": []
    },
    {
      "cell_type": "markdown",
      "source": [
        "### 빅오표기법"
      ],
      "metadata": {
        "id": "ykZH29BUWorx"
      }
    },
    {
      "cell_type": "code",
      "source": [
        "# 빅오표기법\n",
        "# O(1)\n",
        "n = 100\n",
        "print((n + 1) * n) / 2\n",
        "\n",
        "\n",
        "# O(n)\n",
        "n = 100\n",
        "for i in range(n):\n",
        "    print(i)\n",
        "\n",
        "\n",
        "# O(n)\n",
        "n = 100\n",
        "x = 1\n",
        "z = 0\n",
        "for i in range(n):\n",
        "    print(i)\n",
        "    x = x + 100\n",
        "    z = 1 + i\n",
        "\n",
        "\n",
        "# O(n)\n",
        "n = 100\n",
        "for i in range(n):\n",
        "    for j in range(5):\n",
        "        print(j)\n",
        "\n",
        "\n",
        "# O(n^2)\n",
        "n = 100\n",
        "for i in range(n):\n",
        "    for j in range(n):\n",
        "        print(j)"
      ],
      "metadata": {
        "id": "479GpZL9Wm4O"
      },
      "execution_count": null,
      "outputs": []
    },
    {
      "cell_type": "markdown",
      "source": [
        "### 재귀함수"
      ],
      "metadata": {
        "id": "-MDOn88JcqNH"
      }
    },
    {
      "cell_type": "code",
      "source": [
        "# 피보나치 수\n",
        "def fib(n):\n",
        "    if n == 0:\n",
        "        return 0\n",
        "    elif n == 1 or n == 2:\n",
        "        return 1\n",
        "    else:\n",
        "        return fib(n - 1) + fib(n - 2)\n",
        "fib(5)"
      ],
      "metadata": {
        "id": "GXmuG4Jacq8y"
      },
      "execution_count": null,
      "outputs": []
    },
    {
      "cell_type": "code",
      "source": [
        "# 피보나치 수열 딕셔너리 사\n",
        "dic = {1:1, 2:1}\n",
        "def fib_memoization(n):\n",
        "    if n in dic:\n",
        "        return dic[n]\n",
        "\n",
        "    dic[n] = fib_memoization(n-1) + fib_memoization(n-2)\n",
        "    return dic[n]\n",
        "\n",
        "fib_memoization(5)"
      ],
      "metadata": {
        "id": "h3lpROqtgXvh"
      },
      "execution_count": null,
      "outputs": []
    },
    {
      "cell_type": "markdown",
      "source": [
        "### 트리"
      ],
      "metadata": {
        "id": "CLiYBc23nMX_"
      }
    },
    {
      "cell_type": "code",
      "source": [
        "node1 = {\n",
        "    'value': 55,\n",
        "    'left': None,\n",
        "    'right': None\n",
        "}\n",
        "\n",
        "node2 = {\n",
        "    'value': 30,\n",
        "    'left': None,\n",
        "    'right': None\n",
        "}\n",
        "\n",
        "node3 = {\n",
        "    'value': 70,\n",
        "    'left': None,\n",
        "    'right': None\n",
        "}\n",
        "\n",
        "node4 = {\n",
        "    'value': 25,\n",
        "    'left': None,\n",
        "    'right': None\n",
        "}\n",
        "\n",
        "node5 = {\n",
        "    'value': 37,\n",
        "    'left': None,\n",
        "    'right': None\n",
        "}\n",
        "\n",
        "node6 = {\n",
        "    'value': 77,\n",
        "    'left': None,\n",
        "    'right': None\n",
        "}\n",
        "\n",
        "node7 = {\n",
        "    'value': 21,\n",
        "    'left': None,\n",
        "    'right': None\n",
        "}\n",
        "\n",
        "node8 = {\n",
        "    'value': 80,\n",
        "    'left': None,\n",
        "    'right': None\n",
        "}\n",
        "\n",
        "node1['left'] = node2\n",
        "node1['right'] = node3\n",
        "node2['left'] = node4\n",
        "node2['right'] = node5\n",
        "node3['right'] = node6\n",
        "node4['left'] = node7\n",
        "node6['right'] = node8"
      ],
      "metadata": {
        "id": "3IIICEu3kyJ1"
      },
      "execution_count": null,
      "outputs": []
    },
    {
      "cell_type": "code",
      "source": [
        "class Node:\n",
        "    def __init__(self, data):\n",
        "        self.data = data\n",
        "        # self.child = [] 2진 트리가 아닌 경우 child를 사용할 수 있습니다.\n",
        "        self.left = None\n",
        "        self.right = None\n",
        "\n",
        "node1 = Node(55)\n",
        "node2 = Node(99)\n",
        "node3 = Node(53)\n",
        "node4 = Node(37)\n",
        "node5 = Node(54)\n",
        "\n",
        "node1.left = node3\n",
        "node1.right = node2\n",
        "node3.left = node4\n",
        "node3.right = node5\n",
        "\n",
        "node1.data\n",
        "# 55\n",
        "node1.right.data\n",
        "# 99\n",
        "node1.left.data\n",
        "# 53\n",
        "node1.left.left.data\n",
        "# 37"
      ],
      "metadata": {
        "id": "PpK7WtVbnOfU"
      },
      "execution_count": null,
      "outputs": []
    },
    {
      "cell_type": "code",
      "source": [
        "class Node:\n",
        "    def __init__(self, data):\n",
        "        self.data = data\n",
        "        self.left = None\n",
        "        self.right = None\n",
        "\n",
        "class Tree:\n",
        "    def __init__(self, data):\n",
        "        init = Node(data)\n",
        "        self.root = init\n",
        "        self.count = 0\n",
        "\n",
        "    def __len__(self):\n",
        "        return self.count\n",
        "\n",
        "    def insert(self, data):\n",
        ""
      ],
      "metadata": {
        "id": "EZfrv8skozaC"
      },
      "execution_count": null,
      "outputs": []
    }
  ]
}