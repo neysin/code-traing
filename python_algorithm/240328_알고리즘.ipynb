{
  "nbformat": 4,
  "nbformat_minor": 0,
  "metadata": {
    "colab": {
      "provenance": [],
      "authorship_tag": "ABX9TyOu20Y4euRbdA8DKSnQtut1",
      "include_colab_link": true
    },
    "kernelspec": {
      "name": "python3",
      "display_name": "Python 3"
    },
    "language_info": {
      "name": "python"
    }
  },
  "cells": [
    {
      "cell_type": "markdown",
      "metadata": {
        "id": "view-in-github",
        "colab_type": "text"
      },
      "source": [
        "<a href=\"https://colab.research.google.com/github/neysin/orm/blob/main/Untitled38.ipynb\" target=\"_parent\"><img src=\"https://colab.research.google.com/assets/colab-badge.svg\" alt=\"Open In Colab\"/></a>"
      ]
    },
    {
      "cell_type": "markdown",
      "source": [
        "### 트리"
      ],
      "metadata": {
        "id": "iR4W1zNFYL_-"
      }
    },
    {
      "cell_type": "code",
      "execution_count": 7,
      "metadata": {
        "colab": {
          "base_uri": "https://localhost:8080/"
        },
        "id": "Wq9gMKmSYD3_",
        "outputId": "04d69abc-0d5f-4c03-a41a-df0e4aa37917"
      },
      "outputs": [
        {
          "output_type": "execute_result",
          "data": {
            "text/plain": [
              "[5, 3, 8, 1, 4, 6, 9]"
            ]
          },
          "metadata": {},
          "execution_count": 7
        }
      ],
      "source": [
        "class Node:\n",
        "    def __init__(self, data):\n",
        "        self.data = data\n",
        "        self.left = None\n",
        "        self.right = None\n",
        "\n",
        "class Tree:\n",
        "    def __init__(self, data):\n",
        "        init = Node(data)\n",
        "        self.root = init\n",
        "        self.count = 0\n",
        "\n",
        "    def __len__(self):\n",
        "        return self.count\n",
        "\n",
        "    def insert(self, data):\n",
        "        new_node = Node(data)\n",
        "        current_node = self.root\n",
        "\n",
        "        while current_node:\n",
        "            if data == current_node.data:\n",
        "                return\n",
        "            elif data < current_node.data:\n",
        "                if not current_node.left:\n",
        "                    current_node.left = new_node\n",
        "                    self.count += 1\n",
        "                current_node = current_node.left\n",
        "            elif data > current_node.data:\n",
        "                if not current_node.right:\n",
        "                    current_node.right = new_node\n",
        "                    self.count += 1\n",
        "                current_node = current_node.right\n",
        "    # 깊스너큐(깊이 우선 탐색은 스택, 너비 우선 탐색은 큐)\n",
        "    def DFS(self):\n",
        "        result = []\n",
        "        stack = [self.root]\n",
        "\n",
        "        while stack:\n",
        "            current = stack.pop()\n",
        "            if current.right:\n",
        "                stack.append(current.right)\n",
        "            if current.left:\n",
        "                stack.append(current.left)\n",
        "            result.append(current.data)\n",
        "\n",
        "        return result\n",
        "\n",
        "    def BFS(self):\n",
        "        result = []\n",
        "        queue = [self.root]\n",
        "\n",
        "        while queue:\n",
        "            current = queue.pop(0)\n",
        "            if current.right:\n",
        "                queue.append(current.right)\n",
        "            if current.left:\n",
        "                queue.append(current.left)\n",
        "            result.append(current.data)\n",
        "\n",
        "        return result\n",
        "tree = Tree(5)\n",
        "tree.insert(3)\n",
        "tree.insert(8)\n",
        "tree.insert(1)\n",
        "tree.insert(4)\n",
        "tree.insert(6)\n",
        "tree.insert(9)\n",
        "\n",
        "tree.BFS()\n"
      ]
    },
    {
      "cell_type": "code",
      "source": [
        "# 퀵정렬\n",
        "def 퀵정렬(입력리스트):\n",
        "    입력리스트길이 = len(입력리스트)\n",
        "    if 입력리스트길이 <= 1:\n",
        "        return 입력리스트\n",
        "    기준값 = 입력리스트[-1]\n",
        "    그룹_하나 = []\n",
        "    그룹_둘 = []\n",
        "    for 증가값 in range(0 , 입력리스트길이-1):\n",
        "        if 입력리스트[증가값] < 기준값:\n",
        "            그룹_하나.append(입력리스트[증가값])\n",
        "        else:\n",
        "            그룹_둘.append(입력리스트[증가값])\n",
        "    return 퀵정렬(그룹_하나) + [기준값] + 퀵정렬(그룹_둘)\n",
        "\n",
        "주어진리스트 = [66, 77, 54, 32, 10, 5, 11, 15]\n",
        "\n",
        "\n",
        "def 퀵정렬(입력리스트):\n",
        "    입력리스트길이 = len(입력리스트)\n",
        "    if 입력리스트길이 <= 1:\n",
        "        return 입력리스트\n",
        "    기준값 = 입력리스트[-1]\n",
        "    그룹_하나 = []\n",
        "    그룹_둘 = []\n",
        "    for 증가값 in range(0 , 입력리스트길이-1):\n",
        "        if 입력리스트[증가값] < 기준값:\n",
        "            그룹_하나.append(입력리스트[증가값])\n",
        "        else:\n",
        "            그룹_둘.append(입력리스트[증가값])\n",
        "    return 퀵정렬(그룹_하나) + [기준값] + 퀵정렬(그룹_둘)\n",
        "\n",
        "주어진리스트 = [66, 77, 54, 32, 10, 5, 11, 15]\n",
        "\n",
        "print(퀵정렬(주어진리스트))"
      ],
      "metadata": {
        "id": "gKH1akBrrWxi"
      },
      "execution_count": null,
      "outputs": []
    },
    {
      "cell_type": "code",
      "source": [
        "from collections import deque\n",
        "\n",
        "def solution(cacheSize, cities):\n",
        "    answer = 0\n",
        "    l = [''] * 3\n",
        "    cache = deque(l, maxlen=cacheSize)\n",
        "    for city in cities:\n",
        "        city = city.lower()\n",
        "        if city in cache:\n",
        "            cache.remove(city)\n",
        "            cache.append(city)\n",
        "            answer += 1\n",
        "        else:\n",
        "            cache.append(city)\n",
        "            answer += 5\n",
        "    return answer"
      ],
      "metadata": {
        "id": "2M-HmX_IAVfg"
      },
      "execution_count": null,
      "outputs": []
    },
    {
      "cell_type": "code",
      "source": [
        "# 재귀 함수\n",
        "def reverse_string(s):\n",
        "    if len(s) == 1:\n",
        "        return s\n",
        "    return reverse_string(s[1:]) + s[0]\n",
        "\n",
        "reverse_string('hello world')\n",
        "\n",
        "# reverse_string('hello') => reverse_string('ello') + 'h' => 'olleh'\n",
        "# reverse_string('ello') => reverse_string('llo') + 'e' => 'olle'\n",
        "# reverse_string('llo') => reverse_string('lo') + 'l' => 'oll'\n",
        "# reverse_string('lo') => reverse_string('o') + 'l' => 'ol'\n",
        "# reverse_string('o') => 'o'"
      ],
      "metadata": {
        "id": "CarW5gfrHaDz"
      },
      "execution_count": null,
      "outputs": []
    },
    {
      "cell_type": "code",
      "source": [
        "# 데코레이터\n",
        "def one(custom_function):\n",
        "    def two():\n",
        "        print('전')\n",
        "        custom_function()\n",
        "    return two\n",
        "\n",
        "def f():\n",
        "    print('hello world')\n",
        "\n",
        "one(f)()"
      ],
      "metadata": {
        "id": "O5kCsYFWKewx"
      },
      "execution_count": null,
      "outputs": []
    },
    {
      "cell_type": "markdown",
      "source": [
        "### 카카오 2019 공채 문제 1번\n",
        "\n"
      ],
      "metadata": {
        "id": "ulDiGP1AiEtz"
      }
    },
    {
      "cell_type": "code",
      "source": [
        "def solution(record):\n",
        "    user = {}\n",
        "    answer = []\n",
        "\n",
        "    for log in record:\n",
        "        split_data = log.split(' ')\n",
        "\n",
        "        if split_data[0] == 'Enter':\n",
        "            user[split_data[1]] = split_data[2]\n",
        "            answer.append([split_data[1], '님이 들어왔습니다.'])\n",
        "        elif split_data[0] == 'Leave':\n",
        "            answer.append([split_data[1], '님이 나갔습니다.'])\n",
        "        elif split_data[0] == 'Change':\n",
        "            user[split_data[1]] = split_data[2]\n",
        "    print(user)\n",
        "\n",
        "    return answer\n",
        "\n",
        "solution([\"Enter uid1234 Muzi\", \"Enter uid4567 Prodo\",\"Leave uid1234\",\"Enter uid1234 Prodo\",\"Change uid4567 Ryan\"])"
      ],
      "metadata": {
        "id": "lWeqrxRAiGtY"
      },
      "execution_count": null,
      "outputs": []
    }
  ]
}