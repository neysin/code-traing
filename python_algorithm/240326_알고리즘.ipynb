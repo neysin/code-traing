{
  "nbformat": 4,
  "nbformat_minor": 0,
  "metadata": {
    "colab": {
      "provenance": [],
      "authorship_tag": "ABX9TyO1wt61D6ZmrbYSLNok9Pwz",
      "include_colab_link": true
    },
    "kernelspec": {
      "name": "python3",
      "display_name": "Python 3"
    },
    "language_info": {
      "name": "python"
    }
  },
  "cells": [
    {
      "cell_type": "markdown",
      "metadata": {
        "id": "view-in-github",
        "colab_type": "text"
      },
      "source": [
        "<a href=\"https://colab.research.google.com/github/neysin/orm/blob/main/240326_%EC%95%8C%EA%B3%A0%EB%A6%AC%EC%A6%98.ipynb\" target=\"_parent\"><img src=\"https://colab.research.google.com/assets/colab-badge.svg\" alt=\"Open In Colab\"/></a>"
      ]
    },
    {
      "cell_type": "markdown",
      "source": [
        "# 1.3 워밍업 문제"
      ],
      "metadata": {
        "id": "eto-J1j0L3lc"
      }
    },
    {
      "cell_type": "markdown",
      "source": [
        "## 1번 워밍업 문제(google)"
      ],
      "metadata": {
        "id": "G3VIMVOdLU9a"
      }
    },
    {
      "cell_type": "code",
      "execution_count": 1,
      "metadata": {
        "colab": {
          "base_uri": "https://localhost:8080/"
        },
        "id": "ti_NZYKxLHpG",
        "outputId": "73d91985-951e-4b0e-961a-bccf6749385e"
      },
      "outputs": [
        {
          "output_type": "execute_result",
          "data": {
            "text/plain": [
              "20"
            ]
          },
          "metadata": {},
          "execution_count": 1
        }
      ],
      "source": [
        "# 주어진 숫자 등장 횟수 세기\n",
        "str(list(range(1, 101)))\n",
        "str(list(range(1, 101))).count('8')"
      ]
    },
    {
      "cell_type": "markdown",
      "source": [
        "## 2번 워밍업 문제(daum)"
      ],
      "metadata": {
        "id": "1K_gMaGWMBYU"
      }
    },
    {
      "cell_type": "code",
      "source": [
        "# 최솟값 찾기\n",
        "data = [4, 3, 8, 1, 2, 8, 11]\n",
        "result = float('inf')\n",
        "\n",
        "for i in data:\n",
        "    if i < result:\n",
        "        result = i\n",
        "\n",
        "print(result)"
      ],
      "metadata": {
        "colab": {
          "base_uri": "https://localhost:8080/"
        },
        "id": "4BLoSx9pLeMB",
        "outputId": "198972a2-a9ef-4b45-fc1f-1cbe8f6cb488"
      },
      "execution_count": 3,
      "outputs": [
        {
          "output_type": "stream",
          "name": "stdout",
          "text": [
            "1\n"
          ]
        }
      ]
    },
    {
      "cell_type": "code",
      "source": [
        "# 최댓값 찾기\n",
        "data = [4, 3, 8, 1, 2, 8, 11]\n",
        "result = float('-inf')\n",
        "\n",
        "for i in data:\n",
        "    if i > result:\n",
        "        result = i\n",
        "\n",
        "print(result)"
      ],
      "metadata": {
        "colab": {
          "base_uri": "https://localhost:8080/"
        },
        "id": "1Sq1ce-4MTT1",
        "outputId": "6eab24bd-c767-4a98-fdb1-cbb275ba090f"
      },
      "execution_count": 4,
      "outputs": [
        {
          "output_type": "stream",
          "name": "stdout",
          "text": [
            "11\n"
          ]
        }
      ]
    },
    {
      "cell_type": "code",
      "source": [
        "# 1차원 점들 중 가장 거리가 짧은 쌍을 출력\n",
        "\n",
        "s = [1, 3, 4, 8, 13, 17, 20]\n",
        "result = float('inf')\n",
        "pair = [0, 0]\n",
        "\n",
        "for i in range(len(s) - 1):\n",
        "    if s[i+1] - s[i] < result:\n",
        "        result = s[i+1] - s[i]\n",
        "        pair[0] = s[i]\n",
        "        pair[1] = s[i+1]\n",
        "\n",
        "print(pair)"
      ],
      "metadata": {
        "colab": {
          "base_uri": "https://localhost:8080/"
        },
        "id": "kVysfjflMiFZ",
        "outputId": "09622b21-1583-4de0-a33a-d2ed35f9ec2b"
      },
      "execution_count": 9,
      "outputs": [
        {
          "output_type": "stream",
          "name": "stdout",
          "text": [
            "[3, 4]\n"
          ]
        }
      ]
    },
    {
      "cell_type": "code",
      "source": [
        "s = [1, 3, 4, 8, 13, 17, 20]\n",
        "result = float('inf')\n",
        "pair = [0, 0]\n",
        "\n",
        "for index, value in enumerate(s):\n",
        "    if index == len(s)-1: break\n",
        "    if s[index+1] - s[index] < result:\n",
        "        result = s[index+1] - s[index]\n",
        "        pair[0] = s[index]\n",
        "        pair[1] = s[index+1]\n",
        "\n",
        "print(pair)\n"
      ],
      "metadata": {
        "colab": {
          "base_uri": "https://localhost:8080/"
        },
        "id": "ojMrRlmBNiQe",
        "outputId": "b3d788e2-f2c7-45dd-bedd-b6bd68216921"
      },
      "execution_count": 10,
      "outputs": [
        {
          "output_type": "stream",
          "name": "stdout",
          "text": [
            "[3, 4]\n"
          ]
        }
      ]
    },
    {
      "cell_type": "code",
      "source": [
        "list(zip(s, s[1:]))\n",
        "sorted(zip(s, s[1:]), key=lambda x: x[1] - x[0])\n",
        "sorted(zip(s, s[1:]), key=lambda x: x[1] - x[0])[0]"
      ],
      "metadata": {
        "colab": {
          "base_uri": "https://localhost:8080/"
        },
        "id": "GWe1eCyyOFqh",
        "outputId": "7df9fa0f-74fc-411d-b5de-dd16ae6185e1"
      },
      "execution_count": 8,
      "outputs": [
        {
          "output_type": "execute_result",
          "data": {
            "text/plain": [
              "(3, 4)"
            ]
          },
          "metadata": {},
          "execution_count": 8
        }
      ]
    },
    {
      "cell_type": "markdown",
      "source": [
        "# 1.4 기본 자료구조 및 알고리즘\n",
        "1. 스택과 큐\n",
        "2. 연결리스트\n",
        "3. 트리와 그래프\n",
        "    * 3.1 트리 구현\n",
        "    * 3.2 트리의 순회\n",
        "4. 정렬 알고리즘\n",
        "    * 4.1 선택정렬\n",
        "    * 4.2 삽입정렬\n",
        "    * 4.3 병합정렬\n",
        "    * 4.4 퀵정렬\n",
        "5. 페이지 교체 알고리즘\n",
        "6. 슬라이딩 윈도우와 투 포인터 알고리즘"
      ],
      "metadata": {
        "id": "dzwq4QouPzUG"
      }
    },
    {
      "cell_type": "markdown",
      "source": [
        "## 1.4.1 스택과 큐"
      ],
      "metadata": {
        "id": "yg7qAZsaP2Pr"
      }
    },
    {
      "cell_type": "code",
      "source": [
        "# 스택 구현\n",
        "# 리스트, 튜플, 딕셔너리, 셋\n",
        "# 오른쪽에서 스택\n",
        "l = [10, 20, 30, 40]\n",
        "l.append(50)\n",
        "l.pop()"
      ],
      "metadata": {
        "id": "hxm74XNvP2r6"
      },
      "execution_count": null,
      "outputs": []
    },
    {
      "cell_type": "code",
      "source": [
        "# 왼쪽에서 스택\n",
        "l = [10, 20, 30, 40]\n",
        "l.insert(0, 50)\n",
        "l.pop(0)"
      ],
      "metadata": {
        "id": "BiAMR6vPRcOj"
      },
      "execution_count": null,
      "outputs": []
    },
    {
      "cell_type": "code",
      "source": [
        "# 연결리스트를 사용하여 구현하는 것이 일반적이지만\n",
        "# 연결리스트가 다음 챕터에 나오기 때문에 리스트로 구현하도록 하겠습니다.\n",
        "\n",
        "# 연결리스트가 뒤에 배치된 것은 의도한 것입니다.\n",
        "# 쉬운 접근 -> 어려운 접근으로 점진적 부하를 드리기 위함입니다.\n",
        "\n",
        "# https://ko.wikipedia.org/wiki/%EC%8A%A4%ED%83%9D 이러한 모습에\n",
        "# ADT를(Abstract Data Type, 추상자료형) 구현하면 되는 것입니다.\n",
        "class Stack:\n",
        "    def __init__(self):\n",
        "        self.배열 = []\n",
        "\n",
        "    def push(self, data):\n",
        "        self.배열.append(data)\n",
        "\n",
        "    def pop(self, index):\n",
        "        if (index > len(self.배열) - 1):\n",
        "            return self.배열.pop()\n",
        "        result = self.배열.pop(2)\n",
        "        return result\n",
        "\n",
        "    def top(self):\n",
        "        return self.배열[-1]\n",
        "\n",
        "    def bottom(self):\n",
        "        return self.배열[0]\n",
        "\n",
        "    def empty(self):\n",
        "        if not self.배열:\n",
        "            return 1\n",
        "        return 0"
      ],
      "metadata": {
        "id": "RhcLTmp_WsFb"
      },
      "execution_count": null,
      "outputs": []
    },
    {
      "cell_type": "code",
      "source": [
        "# 스택과 큐 문제\n",
        "''' 입출력 설명\n",
        "숫자로 된 리스트를 입력받습니다.\n",
        "샌드위치의 순서는 항상 1, 2, 3, 4, 1을 지켜야 합니다.\n",
        "재료는 순서를 바꿔 중간에서 빼내지 못합니다. 오로지 완성된 샌드위치만 입력 배열에서 빠질 수 있습니다.\n",
        "리스트 내에서 샌드위치가 만들어질 수 있는 개수를 결괏값으로 출력합니다. '''\n",
        "\n",
        "data = [1, 1, 1, 2, 3, 4, 1, 2, 3, 4, 1]\n",
        "stack = []\n",
        "count = 0\n",
        "\n",
        "for i in data:\n",
        "    stack.append(i)\n",
        "    if stack[-5:] == [1, 2, 3, 4, 1]:\n",
        "        for _ in range(5):\n",
        "            stack.pop()\n",
        "        count += 1\n",
        "\n",
        "print(count)"
      ],
      "metadata": {
        "colab": {
          "base_uri": "https://localhost:8080/"
        },
        "id": "kz2GkqfXX3hq",
        "outputId": "f7035865-6b29-4a56-91af-8279f6b7bf68"
      },
      "execution_count": 12,
      "outputs": [
        {
          "output_type": "stream",
          "name": "stdout",
          "text": [
            "2\n"
          ]
        }
      ]
    },
    {
      "cell_type": "markdown",
      "source": [
        "## 1.4.2 연결리스트\n",
        "* 연결리스트, 메모리 효율을 위해 사용되는 경우가 많음"
      ],
      "metadata": {
        "id": "LhVtAqXOalJI"
      }
    },
    {
      "cell_type": "code",
      "source": [
        "12, 99, 37\n",
        "\n",
        "연결리스트 = {\n",
        "    'head': {\n",
        "        'value': 12,\n",
        "        'next': {\n",
        "            'value': 99,\n",
        "            'next': {\n",
        "                'value': 37,\n",
        "                'next': None\n",
        "            }\n",
        "        }\n",
        "    }\n",
        "}\n",
        "\n",
        "연결리스트['head']['next']['next']['value']"
      ],
      "metadata": {
        "colab": {
          "base_uri": "https://localhost:8080/"
        },
        "id": "qtoy6aAOamNq",
        "outputId": "052f2e09-1275-4c7a-e957-7e34ad7d05fa"
      },
      "execution_count": 14,
      "outputs": [
        {
          "output_type": "execute_result",
          "data": {
            "text/plain": [
              "37"
            ]
          },
          "metadata": {},
          "execution_count": 14
        }
      ]
    },
    {
      "cell_type": "code",
      "source": [
        "node1 = {\n",
        "    'value': 12,\n",
        "    'next': None\n",
        "}\n",
        "\n",
        "node2 = {\n",
        "    'value': 99,\n",
        "    'next': None\n",
        "}\n",
        "\n",
        "node3 = {\n",
        "    'value': 37,\n",
        "    'next': None\n",
        "}\n",
        "\n",
        "node1['next'] = node2\n",
        "node2['next'] = node3\n",
        "\n",
        "node1['next']['next']['value']\n"
      ],
      "metadata": {
        "colab": {
          "base_uri": "https://localhost:8080/"
        },
        "id": "UbiQj4iCbWIN",
        "outputId": "a2415f5c-4d25-4365-d391-fe964e528bf0"
      },
      "execution_count": 15,
      "outputs": [
        {
          "output_type": "execute_result",
          "data": {
            "text/plain": [
              "37"
            ]
          },
          "metadata": {},
          "execution_count": 15
        }
      ]
    },
    {
      "cell_type": "code",
      "source": [
        "class Node:\n",
        "    def __init__(self, data):\n",
        "        self.value = data\n",
        "        self.next = None\n",
        "\n",
        "node1 = Node(90)\n",
        "node2 = Node(2)\n",
        "node3 = Node(77)\n",
        "node4 = Node(35)\n",
        "\n",
        "node1.next = node2\n",
        "node2.next = node3\n",
        "node3.next = node4\n",
        "\n",
        "node1.next.next.value\n",
        "\n",
        "currentnode = node1\n",
        "while currentnode:\n",
        "    print(currentnode.value)\n",
        "    currentnode = currentnode.next"
      ],
      "metadata": {
        "colab": {
          "base_uri": "https://localhost:8080/"
        },
        "id": "yDg6hVKVb1ae",
        "outputId": "7a6ab113-10c9-4464-a041-5baeec0f9068"
      },
      "execution_count": 18,
      "outputs": [
        {
          "output_type": "stream",
          "name": "stdout",
          "text": [
            "90\n",
            "2\n",
            "77\n",
            "35\n"
          ]
        }
      ]
    }
  ]
}