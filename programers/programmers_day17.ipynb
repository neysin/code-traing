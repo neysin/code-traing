{
  "nbformat": 4,
  "nbformat_minor": 0,
  "metadata": {
    "colab": {
      "provenance": [],
      "authorship_tag": "ABX9TyMwZMHWPKHleyn3vClSf7PN",
      "include_colab_link": true
    },
    "kernelspec": {
      "name": "python3",
      "display_name": "Python 3"
    },
    "language_info": {
      "name": "python"
    }
  },
  "cells": [
    {
      "cell_type": "markdown",
      "metadata": {
        "id": "view-in-github",
        "colab_type": "text"
      },
      "source": [
        "<a href=\"https://colab.research.google.com/github/neysin/orm/blob/main/programmers_day17.ipynb\" target=\"_parent\"><img src=\"https://colab.research.google.com/assets/colab-badge.svg\" alt=\"Open In Colab\"/></a>"
      ]
    },
    {
      "cell_type": "markdown",
      "source": [
        "특정 문자열로 끝나는 가장 긴 부분 문자열 찾기"
      ],
      "metadata": {
        "id": "a5z97l1wUJOd"
      }
    },
    {
      "cell_type": "code",
      "execution_count": 6,
      "metadata": {
        "colab": {
          "base_uri": "https://localhost:8080/",
          "height": 36
        },
        "id": "wcGc8FrNM9Yf",
        "outputId": "573fb6df-d11c-4ff6-a233-83e27bff7d30"
      },
      "outputs": [
        {
          "output_type": "execute_result",
          "data": {
            "text/plain": [
              "'AAAAaaaa'"
            ],
            "application/vnd.google.colaboratory.intrinsic+json": {
              "type": "string"
            }
          },
          "metadata": {},
          "execution_count": 6
        }
      ],
      "source": [
        "def solution(myString, pat):\n",
        "    rev_str = ''.join(reversed(myString))\n",
        "    rev_pat = ''.join(reversed(pat))\n",
        "    index_num = rev_str.index(rev_pat)\n",
        "    if index_num == 0:\n",
        "        return myString\n",
        "    else:\n",
        "        return myString[:-index_num]\n",
        "\n",
        "myString = \"AAAAaaaa\"\n",
        "pat = \"a\"\n",
        "solution(myString, pat)"
      ]
    },
    {
      "cell_type": "code",
      "source": [
        "# 위와 같이 문자열을 역순으로 돌려서 index를 찾지말고 rindex를 사용하면 오른쪽부터\n",
        "# index를 찾아줌.\n",
        "solution=lambda x,y:x[:x.rindex(y)+len(y)]\n",
        "x = \"AAAAaaaa\"\n",
        "y = \"a\"\n",
        "solution(x, y)"
      ],
      "metadata": {
        "colab": {
          "base_uri": "https://localhost:8080/",
          "height": 36
        },
        "id": "rDyum9WlNuTk",
        "outputId": "2bd27be0-eb75-4332-8ad0-bbab48203723"
      },
      "execution_count": 7,
      "outputs": [
        {
          "output_type": "execute_result",
          "data": {
            "text/plain": [
              "'AAAAaaaa'"
            ],
            "application/vnd.google.colaboratory.intrinsic+json": {
              "type": "string"
            }
          },
          "metadata": {},
          "execution_count": 7
        }
      ]
    },
    {
      "cell_type": "markdown",
      "source": [
        "문자열이 몇 번 등장하는지 세기"
      ],
      "metadata": {
        "id": "2v8pN2DzZPmz"
      }
    },
    {
      "cell_type": "code",
      "source": [
        "# 문자열이 몇 번 등장하는지 세기\n",
        "def solution(myString, pat):\n",
        "    start = 0\n",
        "    count = 0\n",
        "\n",
        "    while True:\n",
        "        idx = myString.find(pat, start)\n",
        "        if idx == -1:\n",
        "            break\n",
        "        count += 1\n",
        "        start = idx + 1\n",
        "\n",
        "    return count\n",
        "\n",
        "myString = \"banana\"\n",
        "pat = \"ana\"\n",
        "solution(myString, pat)"
      ],
      "metadata": {
        "colab": {
          "base_uri": "https://localhost:8080/"
        },
        "id": "jhx-dedKPuZe",
        "outputId": "336fd0bf-2a4b-4f46-a06b-ef54190b2440"
      },
      "execution_count": 17,
      "outputs": [
        {
          "output_type": "execute_result",
          "data": {
            "text/plain": [
              "2"
            ]
          },
          "metadata": {},
          "execution_count": 17
        }
      ]
    },
    {
      "cell_type": "code",
      "source": [
        "# 슬라이싱 위치를 한 칸 씩 옮기면서 패턴에 맞는 문자열을 찾으면 카운트를 올려주는 방식\n",
        "def solution(myString, pat):\n",
        "    answer=0\n",
        "    for i in range(len(myString)):\n",
        "        if myString[i:i+len(pat)]==pat:\n",
        "            answer+=1\n",
        "    return answer"
      ],
      "metadata": {
        "id": "Y4bp7jHkZGBc"
      },
      "execution_count": null,
      "outputs": []
    },
    {
      "cell_type": "code",
      "source": [
        "# ad 제거하기\n",
        "def solution(strArr):\n",
        "    l = []\n",
        "    for i in strArr:\n",
        "        if \"ad\" not in i:\n",
        "            l.append(i)\n",
        "\n",
        "    return l\n",
        "\n",
        "\n",
        "strArr = [\"and\",\"notad\",\"abcd\"]\n",
        "solution(strArr)"
      ],
      "metadata": {
        "colab": {
          "base_uri": "https://localhost:8080/"
        },
        "id": "9Iz1q4_6ZRMZ",
        "outputId": "52ef7619-2889-453e-c461-c3e86115439c"
      },
      "execution_count": 18,
      "outputs": [
        {
          "output_type": "execute_result",
          "data": {
            "text/plain": [
              "['and', 'abcd']"
            ]
          },
          "metadata": {},
          "execution_count": 18
        }
      ]
    },
    {
      "cell_type": "code",
      "source": [
        "# 공백으로 구분하기 1\n",
        "def solution(my_string):\n",
        "    return my_string.split()\n",
        "\n",
        "my_string = \"i love you\"\n",
        "solution(my_string)\n"
      ],
      "metadata": {
        "colab": {
          "base_uri": "https://localhost:8080/"
        },
        "id": "RdnAPPA_ZpkO",
        "outputId": "8bf61b8d-2c69-40b8-8b54-6970a2675298"
      },
      "execution_count": 19,
      "outputs": [
        {
          "output_type": "execute_result",
          "data": {
            "text/plain": [
              "['i', 'love', 'you']"
            ]
          },
          "metadata": {},
          "execution_count": 19
        }
      ]
    },
    {
      "cell_type": "code",
      "source": [
        "# 공백으로 구분하기 2\n",
        "def solution(my_string):\n",
        "    return my_string.strip().split()\n",
        "\n",
        "my_string = \" i    love  you\"\n",
        "solution(my_string)"
      ],
      "metadata": {
        "colab": {
          "base_uri": "https://localhost:8080/"
        },
        "id": "EKtLzX-qjQyM",
        "outputId": "6da4c121-1e93-41a5-b0cd-b36158056a08"
      },
      "execution_count": 20,
      "outputs": [
        {
          "output_type": "execute_result",
          "data": {
            "text/plain": [
              "['i', 'love', 'you']"
            ]
          },
          "metadata": {},
          "execution_count": 20
        }
      ]
    },
    {
      "cell_type": "code",
      "source": [],
      "metadata": {
        "id": "n6Pm_wVMj7Oc"
      },
      "execution_count": null,
      "outputs": []
    }
  ]
}