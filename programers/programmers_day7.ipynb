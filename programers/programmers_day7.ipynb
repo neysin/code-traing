{
  "nbformat": 4,
  "nbformat_minor": 0,
  "metadata": {
    "colab": {
      "provenance": [],
      "authorship_tag": "ABX9TyMM0YbMJp3pm6fhSknD7BXe",
      "include_colab_link": true
    },
    "kernelspec": {
      "name": "python3",
      "display_name": "Python 3"
    },
    "language_info": {
      "name": "python"
    }
  },
  "cells": [
    {
      "cell_type": "markdown",
      "metadata": {
        "id": "view-in-github",
        "colab_type": "text"
      },
      "source": [
        "<a href=\"https://colab.research.google.com/github/neysin/orm/blob/main/programers_day7.ipynb\" target=\"_parent\"><img src=\"https://colab.research.google.com/assets/colab-badge.svg\" alt=\"Open In Colab\"/></a>"
      ]
    },
    {
      "cell_type": "code",
      "execution_count": 3,
      "metadata": {
        "colab": {
          "base_uri": "https://localhost:8080/"
        },
        "id": "fR5AcDOcGEFa",
        "outputId": "601ca680-8973-4a52-900f-ac1d45e1b82f"
      },
      "outputs": [
        {
          "output_type": "execute_result",
          "data": {
            "text/plain": [
              "[3, 2, 4, 6, 4]"
            ]
          },
          "metadata": {},
          "execution_count": 3
        }
      ],
      "source": [
        "# 수열과 구간 쿼리 4\n",
        "\n",
        "def solution(arr, queries):\n",
        "    for query in queries:\n",
        "        s, e, k = query\n",
        "        for i in range(s, e+1):\n",
        "            if i % k == 0:\n",
        "                arr[i] += 1\n",
        "\n",
        "    return arr\n",
        "\n",
        "\n",
        "arr = [0, 1, 2, 4, 3]\n",
        "queries = [[0, 4, 1],[0, 3, 2],[0, 3, 3]]\n",
        "solution(arr, queries)"
      ]
    },
    {
      "cell_type": "markdown",
      "source": [
        "배열만들기\n",
        "* 배열만들기를 풀며 all 함수의 사용법에 대해 알았음.\n",
        "* or 을 통해 all 함수 안쪽 코드의 True 조건을 설정하는 점이 인상깊음.\n",
        "* 또한 bool은 순회를 하면 안되기 때문에 삼항연산자를 통해 표현하는 방법이 인상깊음.\n",
        "* 풀이 방법은 집합을 활용하는 풀이가 더 직관적이라 생각."
      ],
      "metadata": {
        "id": "fj_iHGR2hcBk"
      }
    },
    {
      "cell_type": "code",
      "source": [
        "# 배열 만들기\n",
        "\n",
        "def solution(l, r):\n",
        "    result = []\n",
        "    for i in range(l, r+1):\n",
        "        if all(digit == '0' or digit == '5' for digit in str(i)):\n",
        "            result.append(i)\n",
        "\n",
        "    if not result:\n",
        "        return [-1]\n",
        "\n",
        "    return sorted(result)\n",
        "\n",
        "l = 5\n",
        "r = 555\n",
        "solution(l,r)"
      ],
      "metadata": {
        "colab": {
          "base_uri": "https://localhost:8080/"
        },
        "id": "keLDHLgcJGHo",
        "outputId": "8301b5cc-725b-4dca-e8b0-b0ee45c053dd"
      },
      "execution_count": 41,
      "outputs": [
        {
          "output_type": "execute_result",
          "data": {
            "text/plain": [
              "[5, 50, 55, 500, 505, 550, 555]"
            ]
          },
          "metadata": {},
          "execution_count": 41
        }
      ]
    },
    {
      "cell_type": "code",
      "source": [
        "# 배열 만들기 (집합 set을 이용한 방법)\n",
        "def solution(l, r):\n",
        "    answer = []\n",
        "    for num in range(l, r+1):\n",
        "        if not set(str(num)) - {'0','5'}:\n",
        "            answer.append(num)\n",
        "    return answer if answer else [-1]\n",
        "\n",
        "l = 5\n",
        "r = 555\n",
        "solution(l,r)"
      ],
      "metadata": {
        "colab": {
          "base_uri": "https://localhost:8080/"
        },
        "id": "NOaGpol0UCDl",
        "outputId": "4abf05dc-b7c6-4734-d65e-d77595061b47"
      },
      "execution_count": 32,
      "outputs": [
        {
          "output_type": "execute_result",
          "data": {
            "text/plain": [
              "[5, 50, 55, 500, 505, 550, 555]"
            ]
          },
          "metadata": {},
          "execution_count": 32
        }
      ]
    },
    {
      "cell_type": "code",
      "source": [
        "# 카운트 업\n",
        "def solution(start_num, end_num):\n",
        "    return list(range(start_num, end_num + 1))\n",
        "\n",
        "\n",
        "solution(3, 10)"
      ],
      "metadata": {
        "id": "rlX6QRP3ZNSs"
      },
      "execution_count": null,
      "outputs": []
    },
    {
      "cell_type": "code",
      "source": [
        "# 콜라츠 수열 만들기\n",
        "\n",
        "def solution(n):\n",
        "    l = [n]\n",
        "    while n > 1:\n",
        "        if n % 2 == 0:\n",
        "            n /= 2\n",
        "            l.append(int(n))\n",
        "        else:\n",
        "            n = 3 * n + 1\n",
        "            l.append(int(n))\n",
        "    return l\n",
        "\n",
        "solution(10)"
      ],
      "metadata": {
        "colab": {
          "base_uri": "https://localhost:8080/"
        },
        "id": "_Gp652qqoPe0",
        "outputId": "fd31c7cc-4ac1-492b-b9e8-2a27db5e8290"
      },
      "execution_count": 52,
      "outputs": [
        {
          "output_type": "execute_result",
          "data": {
            "text/plain": [
              "[10, 5, 16, 8, 4, 2, 1]"
            ]
          },
          "metadata": {},
          "execution_count": 52
        }
      ]
    },
    {
      "cell_type": "code",
      "source": [
        "# 배열 만들기 4\n",
        "def solution(arr):\n",
        "    stk =[]\n",
        "    i = 0\n",
        "    while i < len(arr):\n",
        "        if stk == []:\n",
        "            stk.append(arr[i])\n",
        "            i += 1\n",
        "\n",
        "        elif stk[-1] < arr[i]:\n",
        "            stk.append(arr[i])\n",
        "            i += 1\n",
        "\n",
        "        else:\n",
        "            stk.pop()\n",
        "\n",
        "    return stk\n",
        "\n",
        "arr = [1, 4, 2, 5, 3]\n",
        "solution(arr)"
      ],
      "metadata": {
        "colab": {
          "base_uri": "https://localhost:8080/"
        },
        "id": "PGb3TZm-qzf4",
        "outputId": "a71f6c85-5f08-4a46-8430-bcd583169a1f"
      },
      "execution_count": 66,
      "outputs": [
        {
          "output_type": "execute_result",
          "data": {
            "text/plain": [
              "[1, 2, 3]"
            ]
          },
          "metadata": {},
          "execution_count": 66
        }
      ]
    }
  ]
}