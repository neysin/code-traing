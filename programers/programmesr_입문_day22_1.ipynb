{
  "nbformat": 4,
  "nbformat_minor": 0,
  "metadata": {
    "colab": {
      "provenance": [],
      "authorship_tag": "ABX9TyMg6r8PVFqp3NoNk1Xr9qw+",
      "include_colab_link": true
    },
    "kernelspec": {
      "name": "python3",
      "display_name": "Python 3"
    },
    "language_info": {
      "name": "python"
    }
  },
  "cells": [
    {
      "cell_type": "markdown",
      "metadata": {
        "id": "view-in-github",
        "colab_type": "text"
      },
      "source": [
        "<a href=\"https://colab.research.google.com/github/neysin/code-traing/blob/main/programmesr_%EC%9E%85%EB%AC%B8_day22_1.ipynb\" target=\"_parent\"><img src=\"https://colab.research.google.com/assets/colab-badge.svg\" alt=\"Open In Colab\"/></a>"
      ]
    },
    {
      "cell_type": "code",
      "execution_count": 7,
      "metadata": {
        "colab": {
          "base_uri": "https://localhost:8080/"
        },
        "id": "15MCB0PPCGZt",
        "outputId": "42c8eed5-38aa-419e-d989-1942912b5d25"
      },
      "outputs": [
        {
          "output_type": "execute_result",
          "data": {
            "text/plain": [
              "25"
            ]
          },
          "metadata": {},
          "execution_count": 7
        }
      ],
      "source": [
        "# 저주의 숫자 3\n",
        "def solution(n):\n",
        "    l = []\n",
        "    for i in range(1, 201):\n",
        "        if not i % 3 == 0 and not '3' in str(i):\n",
        "            l.append(i)\n",
        "\n",
        "    return l[n-1]\n",
        "\n",
        "n = 15\n",
        "solution(n)"
      ]
    },
    {
      "cell_type": "code",
      "source": [
        "# 평행\n",
        "from itertools import combinations\n",
        "\n",
        "def solution(dots):\n",
        "    a = []\n",
        "    for (x1,y1),(x2,y2) in combinations(dots,2):\n",
        "        a.append((y2-y1,x2-x1))\n",
        "\n",
        "    for (x1,y1),(x2,y2) in combinations(a,2):\n",
        "        if x1*y2==x2*y1:\n",
        "            return 1\n",
        "    return 0\n",
        "\n",
        "dots = [[1, 4], [9, 2], [3, 8], [11, 6]]\n",
        "solution(dots)"
      ],
      "metadata": {
        "colab": {
          "base_uri": "https://localhost:8080/"
        },
        "id": "GrswyetvEfB5",
        "outputId": "b319353d-cdd0-437f-8989-ad352cf786a9"
      },
      "execution_count": 1,
      "outputs": [
        {
          "output_type": "execute_result",
          "data": {
            "text/plain": [
              "1"
            ]
          },
          "metadata": {},
          "execution_count": 1
        }
      ]
    }
  ]
}