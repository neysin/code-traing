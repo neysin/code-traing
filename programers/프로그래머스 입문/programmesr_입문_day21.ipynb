{
  "nbformat": 4,
  "nbformat_minor": 0,
  "metadata": {
    "colab": {
      "provenance": [],
      "authorship_tag": "ABX9TyOoqWrxmAU8yIeTxiwwt4oK",
      "include_colab_link": true
    },
    "kernelspec": {
      "name": "python3",
      "display_name": "Python 3"
    },
    "language_info": {
      "name": "python"
    }
  },
  "cells": [
    {
      "cell_type": "markdown",
      "metadata": {
        "id": "view-in-github",
        "colab_type": "text"
      },
      "source": [
        "<a href=\"https://colab.research.google.com/github/neysin/code-traing/blob/main/programmesr_%EC%9E%85%EB%AC%B8_day21.ipynb\" target=\"_parent\"><img src=\"https://colab.research.google.com/assets/colab-badge.svg\" alt=\"Open In Colab\"/></a>"
      ]
    },
    {
      "cell_type": "code",
      "execution_count": 27,
      "metadata": {
        "colab": {
          "base_uri": "https://localhost:8080/"
        },
        "id": "6b5DPapWkM6m",
        "outputId": "33d4ca8f-edc8-45d9-c8c1-fbefab136e6e"
      },
      "outputs": [
        {
          "output_type": "execute_result",
          "data": {
            "text/plain": [
              "['1', '2', '34']"
            ]
          },
          "metadata": {},
          "execution_count": 27
        }
      ],
      "source": [
        "# 숨어있는 숫자의 덧셈(2)\n",
        "def solution(my_string):\n",
        "    l = []\n",
        "    for i in my_string:\n",
        "        if i.isalpha():\n",
        "           my_string = my_string.replace(i, ' ')\n",
        "    my_string = my_string.split()\n",
        "\n",
        "    return sum(list(map(int, my_string)))\n",
        "\n",
        "my_string = \"aAb1B2cC34oOp\"\n",
        "solution(my_string)"
      ]
    },
    {
      "cell_type": "code",
      "source": [
        "# 안전지대\n",
        "def solution(board):\n",
        "    rows = len(board)\n",
        "    cols = len(board[0])\n",
        "\n",
        "    l = []\n",
        "    for i in range(rows):\n",
        "        for j in range(cols):\n",
        "            if board[i][j] == 1:\n",
        "                l.append([i, j])\n",
        "\n",
        "    for point in l:\n",
        "        for row_offset in range(-1, 2):\n",
        "            for col_offset in range(-1, 2):\n",
        "                row_num = point[0] + row_offset\n",
        "                col_num = point[1] + col_offset\n",
        "                if 0 <= row_num < rows and 0 <= col_num < cols:\n",
        "                    board[row_num][col_num] = 1\n",
        "\n",
        "    num = 0\n",
        "    for row in board:\n",
        "        num += row.count(0)\n",
        "\n",
        "    return num\n",
        "\n",
        "\n",
        "board = [[0, 0, 0, 0, 0], [0, 0, 0, 0, 0], [0, 0, 0, 0, 0], [0, 0, 1, 1, 0], [0, 0, 0, 0, 0]]\n",
        "solution(board)"
      ],
      "metadata": {
        "colab": {
          "base_uri": "https://localhost:8080/"
        },
        "id": "4N1boRMDlO9I",
        "outputId": "4b493549-25ec-4a06-a770-a7e1e0c2c393"
      },
      "execution_count": 45,
      "outputs": [
        {
          "output_type": "execute_result",
          "data": {
            "text/plain": [
              "13"
            ]
          },
          "metadata": {},
          "execution_count": 45
        }
      ]
    },
    {
      "cell_type": "markdown",
      "source": [
        "삼각형의 완성조건(2)"
      ],
      "metadata": {
        "id": "_Bqy_cKfSsyE"
      }
    },
    {
      "cell_type": "code",
      "source": [
        "# 삼각형의 완성조건(2)\n",
        "# 가장 긴 변의 길이는 다른 두 변의 길이의 합보다 작아야 합니다.\n",
        "def solution(sides):\n",
        "    long_side = max(sides)\n",
        "    another_side = min(sides)\n",
        "    l = []\n",
        "    for i in range(long_side - another_side + 1, long_side + 1):\n",
        "        l.append(i)\n",
        "\n",
        "    another_long_sides = sum(sides)\n",
        "    for i in range(max(sides)+1, another_long_sides):\n",
        "        l.append(i)\n",
        "\n",
        "    return len(l)\n",
        "\n",
        "sides = [11, 7]\n",
        "solution(sides)"
      ],
      "metadata": {
        "colab": {
          "base_uri": "https://localhost:8080/"
        },
        "id": "5imlXtabs8eh",
        "outputId": "aaec8c92-c6f8-4d20-d30f-609d53ff368a"
      },
      "execution_count": 3,
      "outputs": [
        {
          "output_type": "execute_result",
          "data": {
            "text/plain": [
              "13"
            ]
          },
          "metadata": {},
          "execution_count": 3
        }
      ]
    },
    {
      "cell_type": "code",
      "source": [
        "# 수학적으로 정리하면 아래와 같은 결과 수식이 나옴. 수학 문제는 수학을 잘 알면 풀 때 수월함을 느낌...\n",
        "def solution(sides):\n",
        "    return 2 * min(sides) - 1"
      ],
      "metadata": {
        "id": "4vF-s6-BSPyr"
      },
      "execution_count": null,
      "outputs": []
    },
    {
      "cell_type": "code",
      "source": [
        "# 외계어 사전\n",
        "def solution(spell, dic):\n",
        "    for i in dic:\n",
        "        if not set(spell) - set(i):\n",
        "            return 1\n",
        "    return 2\n",
        "\n",
        "\n",
        "spell = [\"p\", \"o\", \"s\"]\n",
        "dic = [\"sod\", \"eocd\", \"qixm\", \"adio\", \"soo\"]\n",
        "solution(spell, dic)"
      ],
      "metadata": {
        "colab": {
          "base_uri": "https://localhost:8080/"
        },
        "id": "s0ZYyXDmSyP7",
        "outputId": "b0e2ec54-29b6-4665-f2d4-a844e1dc470e"
      },
      "execution_count": 11,
      "outputs": [
        {
          "output_type": "execute_result",
          "data": {
            "text/plain": [
              "2"
            ]
          },
          "metadata": {},
          "execution_count": 11
        }
      ]
    }
  ]
}