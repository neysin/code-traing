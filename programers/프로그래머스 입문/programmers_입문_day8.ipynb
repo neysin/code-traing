{
  "nbformat": 4,
  "nbformat_minor": 0,
  "metadata": {
    "colab": {
      "provenance": [],
      "authorship_tag": "ABX9TyOmnkTUufRkQFODxBGZo81n",
      "include_colab_link": true
    },
    "kernelspec": {
      "name": "python3",
      "display_name": "Python 3"
    },
    "language_info": {
      "name": "python"
    }
  },
  "cells": [
    {
      "cell_type": "markdown",
      "metadata": {
        "id": "view-in-github",
        "colab_type": "text"
      },
      "source": [
        "<a href=\"https://colab.research.google.com/github/neysin/orm/blob/main/programmers_%EC%9E%85%EB%AC%B8_day8.ipynb\" target=\"_parent\"><img src=\"https://colab.research.google.com/assets/colab-badge.svg\" alt=\"Open In Colab\"/></a>"
      ]
    },
    {
      "cell_type": "code",
      "execution_count": 1,
      "metadata": {
        "colab": {
          "base_uri": "https://localhost:8080/"
        },
        "id": "YfHFEm9lDtUx",
        "outputId": "e88a37d0-e566-4563-dcea-298f9d0096cd"
      },
      "outputs": [
        {
          "output_type": "execute_result",
          "data": {
            "text/plain": [
              "[2, 3, 4]"
            ]
          },
          "metadata": {},
          "execution_count": 1
        }
      ],
      "source": [
        "# 배열 자르기\n",
        "def solution(numbers, num1, num2):\n",
        "    return numbers[num1:num2+1]\n",
        "\n",
        "numbers = [1, 2, 3, 4, 5]\n",
        "num1 = 1\n",
        "num2 = 3\n",
        "solution(numbers, num1, num2)"
      ]
    },
    {
      "cell_type": "code",
      "source": [
        "# 외계행성의 나이\n",
        "def solution(age):\n",
        "    str_ = ['a', 'b', 'c', 'd', 'e', 'f', 'g', 'h', 'i', 'j']\n",
        "    result = ''\n",
        "    for i in str(age):\n",
        "        result += str_[int(i)]\n",
        "\n",
        "    return result\n",
        "\n",
        "age = 23\n",
        "solution(age)"
      ],
      "metadata": {
        "colab": {
          "base_uri": "https://localhost:8080/",
          "height": 36
        },
        "id": "G-BEiXsLEKvQ",
        "outputId": "8526fb5f-54eb-48c1-f0de-eb10a0b2fdf9"
      },
      "execution_count": 2,
      "outputs": [
        {
          "output_type": "execute_result",
          "data": {
            "text/plain": [
              "'cd'"
            ],
            "application/vnd.google.colaboratory.intrinsic+json": {
              "type": "string"
            }
          },
          "metadata": {},
          "execution_count": 2
        }
      ]
    },
    {
      "cell_type": "code",
      "source": [
        "# 진료순서 정하기\n",
        "def solution(emergency):\n",
        "    sort_emergency = sorted(emergency, reverse = True)\n",
        "    result = []\n",
        "    for i in emergency:\n",
        "        result.append(sort_emergency.index(i)+1)\n",
        "    return result\n",
        "\n",
        "emergency = [3, 76, 24]\n",
        "solution(emergency)"
      ],
      "metadata": {
        "colab": {
          "base_uri": "https://localhost:8080/"
        },
        "id": "zOcXae6_FE7-",
        "outputId": "f8eb9e25-baab-4b1a-d35a-852daa077e53"
      },
      "execution_count": 7,
      "outputs": [
        {
          "output_type": "execute_result",
          "data": {
            "text/plain": [
              "[3, 1, 2]"
            ]
          },
          "metadata": {},
          "execution_count": 7
        }
      ]
    },
    {
      "cell_type": "code",
      "source": [
        "# 순서쌍의 개수\n",
        "def solution(n):\n",
        "    l = []\n",
        "    for i in range(1, n+1):\n",
        "        if n % i == 0:\n",
        "            l.append((i, n//i))\n",
        "\n",
        "    return len(l)\n",
        "\n",
        "n = 20\n",
        "solution(n)"
      ],
      "metadata": {
        "colab": {
          "base_uri": "https://localhost:8080/"
        },
        "id": "DKvFfRYBFhCV",
        "outputId": "827eba48-769c-4437-cc60-97e83d48f562"
      },
      "execution_count": 11,
      "outputs": [
        {
          "output_type": "execute_result",
          "data": {
            "text/plain": [
              "6"
            ]
          },
          "metadata": {},
          "execution_count": 11
        }
      ]
    }
  ]
}