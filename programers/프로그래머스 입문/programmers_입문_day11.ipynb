{
  "nbformat": 4,
  "nbformat_minor": 0,
  "metadata": {
    "colab": {
      "provenance": [],
      "authorship_tag": "ABX9TyPNTp6jmDiyoKhSESRHp6fS",
      "include_colab_link": true
    },
    "kernelspec": {
      "name": "python3",
      "display_name": "Python 3"
    },
    "language_info": {
      "name": "python"
    }
  },
  "cells": [
    {
      "cell_type": "markdown",
      "metadata": {
        "id": "view-in-github",
        "colab_type": "text"
      },
      "source": [
        "<a href=\"https://colab.research.google.com/github/neysin/orm/blob/main/programmers_%EC%9E%85%EB%AC%B8_day11.ipynb\" target=\"_parent\"><img src=\"https://colab.research.google.com/assets/colab-badge.svg\" alt=\"Open In Colab\"/></a>"
      ]
    },
    {
      "cell_type": "code",
      "execution_count": 2,
      "metadata": {
        "colab": {
          "base_uri": "https://localhost:8080/"
        },
        "id": "j5zurmFj1e6C",
        "outputId": "b24af3e7-322e-4dee-d97a-42d186fc366c"
      },
      "outputs": [
        {
          "output_type": "execute_result",
          "data": {
            "text/plain": [
              "12"
            ]
          },
          "metadata": {},
          "execution_count": 2
        }
      ],
      "source": [
        "# 주사위의 개수\n",
        "def solution(box, n):\n",
        "    x, y, z = box[0], box[1], box[2]\n",
        "    n_z = z // n # 2\n",
        "    n_x = x // n\n",
        "    n_y = y // n\n",
        "    return n_z * n_x * n_y\n",
        "\n",
        "box = [10, 8, 6]\n",
        "n = 3\n",
        "solution(box, n)"
      ]
    },
    {
      "cell_type": "code",
      "source": [
        "# 합성수 찾기\n",
        "# 약수가 3개 이상인 합성수\n",
        "def solution(n):\n",
        "    result = []\n",
        "    for i in range(n+1):\n",
        "        l = []\n",
        "        for j in range(1, i+1):\n",
        "            if i % j == 0:\n",
        "                l.append(j)\n",
        "        if len(l) >= 3:\n",
        "            result.append(i)\n",
        "\n",
        "    return len(result)\n",
        "\n",
        "n = 10\n",
        "solution(n)"
      ],
      "metadata": {
        "colab": {
          "base_uri": "https://localhost:8080/"
        },
        "id": "wlay4eSY12e4",
        "outputId": "d4b7cc81-a1c7-46ee-c8ec-a327a4164cd9"
      },
      "execution_count": 6,
      "outputs": [
        {
          "output_type": "execute_result",
          "data": {
            "text/plain": [
              "[4, 6, 8, 9, 10]"
            ]
          },
          "metadata": {},
          "execution_count": 6
        }
      ]
    },
    {
      "cell_type": "code",
      "source": [
        "# 최댓값 만들기(1)\n",
        "# 원소 중 두 개를 곱해 만들 수 있는 최댓값 반환\n",
        "def solution(numbers):\n",
        "    sort_num = sorted(numbers, reverse = True)\n",
        "    return sort_num[0] * sort_num[1]\n",
        "\n",
        "numbers = [1, 2, 3, 4, 5]\n",
        "solution(numbers)"
      ],
      "metadata": {
        "colab": {
          "base_uri": "https://localhost:8080/"
        },
        "id": "TZf7BtGa3lkY",
        "outputId": "3c99e300-5227-4ad1-e2da-44a6184da29a"
      },
      "execution_count": 9,
      "outputs": [
        {
          "output_type": "execute_result",
          "data": {
            "text/plain": [
              "20"
            ]
          },
          "metadata": {},
          "execution_count": 9
        }
      ]
    },
    {
      "cell_type": "markdown",
      "source": [
        "팩토리얼"
      ],
      "metadata": {
        "id": "Ruwzmrv263ji"
      }
    },
    {
      "cell_type": "code",
      "source": [
        "# 팩토리얼\n",
        "def solution(n):\n",
        "    def fac(x):\n",
        "        result = 1\n",
        "        for i in range(1, x+1):\n",
        "            result *= i\n",
        "        return result\n",
        "\n",
        "    l = []\n",
        "    for i in range(1, 11):\n",
        "        if n >= fac(i):\n",
        "            l.append(i)\n",
        "\n",
        "    return l[-1]\n",
        "\n",
        "\n",
        "n = 7\n",
        "solution(n)"
      ],
      "metadata": {
        "colab": {
          "base_uri": "https://localhost:8080/"
        },
        "id": "b-n1a-HN4KwF",
        "outputId": "a40de42d-a78f-4af4-d677-dab3a7e220bc"
      },
      "execution_count": 19,
      "outputs": [
        {
          "output_type": "execute_result",
          "data": {
            "text/plain": [
              "3"
            ]
          },
          "metadata": {},
          "execution_count": 19
        }
      ]
    },
    {
      "cell_type": "code",
      "source": [
        "# factorial 이라는 모듈을 사용하여 반복문을 통해 주어진 n이 팩토리얼 k의 값보다\n",
        "# 작을 때마다 k 값을 하나씩 줄여 나가서 반환\n",
        "from math import factorial\n",
        "\n",
        "def solution(n):\n",
        "    k = 10\n",
        "    while n < factorial(k):\n",
        "        k -= 1\n",
        "    return k"
      ],
      "metadata": {
        "id": "ad6xuCdt6Bpg"
      },
      "execution_count": null,
      "outputs": []
    }
  ]
}