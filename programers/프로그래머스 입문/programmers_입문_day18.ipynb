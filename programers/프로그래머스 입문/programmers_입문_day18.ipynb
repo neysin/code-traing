{
  "nbformat": 4,
  "nbformat_minor": 0,
  "metadata": {
    "colab": {
      "provenance": [],
      "authorship_tag": "ABX9TyO+RgY2pwmwfev5kQonwsU9",
      "include_colab_link": true
    },
    "kernelspec": {
      "name": "python3",
      "display_name": "Python 3"
    },
    "language_info": {
      "name": "python"
    }
  },
  "cells": [
    {
      "cell_type": "markdown",
      "metadata": {
        "id": "view-in-github",
        "colab_type": "text"
      },
      "source": [
        "<a href=\"https://colab.research.google.com/github/neysin/orm/blob/main/programmers_%EC%9E%85%EB%AC%B8_day18.ipynb\" target=\"_parent\"><img src=\"https://colab.research.google.com/assets/colab-badge.svg\" alt=\"Open In Colab\"/></a>"
      ]
    },
    {
      "cell_type": "code",
      "execution_count": 2,
      "metadata": {
        "colab": {
          "base_uri": "https://localhost:8080/"
        },
        "id": "7SJ7GdBKPiLb",
        "outputId": "31d2e10f-d8d2-4d38-fee5-615b2b75e3b3"
      },
      "outputs": [
        {
          "output_type": "execute_result",
          "data": {
            "text/plain": [
              "1"
            ]
          },
          "metadata": {},
          "execution_count": 2
        }
      ],
      "source": [
        "# 문자열안에 문자\n",
        "def solution(str1, str2):\n",
        "    if str2 in str1:\n",
        "        return 1\n",
        "    else:\n",
        "        return 2\n",
        "\n",
        "str1 = \"ab6CDE443fgh22iJKlmn1o\"\n",
        "str2 = \"6CD\"\n",
        "solution(str1, str2)"
      ]
    },
    {
      "cell_type": "markdown",
      "source": [
        "제곱수 판별하기"
      ],
      "metadata": {
        "id": "zPHhP-68RQ8u"
      }
    },
    {
      "cell_type": "code",
      "source": [
        "# 제곱수 판별하기\n",
        "def solution(n):\n",
        "    l = []\n",
        "    for i in range(n // 10):\n",
        "        if i ** 2 == n:\n",
        "            l.append(i)\n",
        "\n",
        "    if len(l) >= 1:\n",
        "        return 1\n",
        "    else:\n",
        "        return 2\n",
        "\n",
        "n = 976\n",
        "solution(n)"
      ],
      "metadata": {
        "colab": {
          "base_uri": "https://localhost:8080/"
        },
        "id": "VgXaBtuIPyL_",
        "outputId": "dfb6d5c4-6e17-48fa-9118-5135bfaaf1e7"
      },
      "execution_count": 9,
      "outputs": [
        {
          "output_type": "execute_result",
          "data": {
            "text/plain": [
              "2"
            ]
          },
          "metadata": {},
          "execution_count": 9
        }
      ]
    },
    {
      "cell_type": "code",
      "source": [
        "# 제곱수가 존재하는지 물어봤으니 0.5승으로 계산해주면 됨.\n",
        "def solution(n):\n",
        "    return 1 if (n ** 0.5) % 1 == 0 else 2"
      ],
      "metadata": {
        "id": "CPZ4zBZ6QY_Z"
      },
      "execution_count": null,
      "outputs": []
    },
    {
      "cell_type": "code",
      "source": [
        "# 세균 증식\n",
        "def solution(n, t):\n",
        "    return n * 2**t\n",
        "\n",
        "n = 2\n",
        "t = 10\n",
        "solution(n, t)"
      ],
      "metadata": {
        "colab": {
          "base_uri": "https://localhost:8080/"
        },
        "id": "_2msulASRTkq",
        "outputId": "273edf52-e7c5-4374-8575-bdafb1de6f85"
      },
      "execution_count": 12,
      "outputs": [
        {
          "output_type": "execute_result",
          "data": {
            "text/plain": [
              "2048"
            ]
          },
          "metadata": {},
          "execution_count": 12
        }
      ]
    },
    {
      "cell_type": "code",
      "source": [
        "# 문자열 정렬하기(2)\n",
        "def solution(my_string):\n",
        "    return ''.join(sorted(my_string.lower()))\n",
        "\n",
        "my_string = \"Bcad\"\n",
        "solution(my_string)"
      ],
      "metadata": {
        "colab": {
          "base_uri": "https://localhost:8080/",
          "height": 36
        },
        "id": "2g886HpDRk5I",
        "outputId": "6c9b5045-4f96-4f14-f6b9-2abf1f99bd6c"
      },
      "execution_count": 15,
      "outputs": [
        {
          "output_type": "execute_result",
          "data": {
            "text/plain": [
              "'abcd'"
            ],
            "application/vnd.google.colaboratory.intrinsic+json": {
              "type": "string"
            }
          },
          "metadata": {},
          "execution_count": 15
        }
      ]
    }
  ]
}