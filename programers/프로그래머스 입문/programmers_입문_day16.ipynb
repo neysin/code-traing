{
  "nbformat": 4,
  "nbformat_minor": 0,
  "metadata": {
    "colab": {
      "provenance": [],
      "authorship_tag": "ABX9TyMcx+7/nJlnLFEmAPSnRqGd",
      "include_colab_link": true
    },
    "kernelspec": {
      "name": "python3",
      "display_name": "Python 3"
    },
    "language_info": {
      "name": "python"
    }
  },
  "cells": [
    {
      "cell_type": "markdown",
      "metadata": {
        "id": "view-in-github",
        "colab_type": "text"
      },
      "source": [
        "<a href=\"https://colab.research.google.com/github/neysin/orm/blob/main/programmers_%EC%9E%85%EB%AC%B8_day16.ipynb\" target=\"_parent\"><img src=\"https://colab.research.google.com/assets/colab-badge.svg\" alt=\"Open In Colab\"/></a>"
      ]
    },
    {
      "cell_type": "code",
      "execution_count": 1,
      "metadata": {
        "id": "diuBNlWzUnIX",
        "colab": {
          "base_uri": "https://localhost:8080/"
        },
        "outputId": "8b85a96c-1854-40ae-c56f-3d94afdc9c32"
      },
      "outputs": [
        {
          "output_type": "execute_result",
          "data": {
            "text/plain": [
              "30"
            ]
          },
          "metadata": {},
          "execution_count": 1
        }
      ],
      "source": [
        "# 편지\n",
        "# 한 글자에 2cm, 총 길이 구하기\n",
        "def solution(message):\n",
        "    return len(message)*2\n",
        "\n",
        "message = \"happy birthday!\"\n",
        "solution(message)"
      ]
    },
    {
      "cell_type": "code",
      "source": [
        "# 가장 큰 수 찾기\n",
        "def solution(array):\n",
        "    max_num = max(array)\n",
        "    max_num_index = array.index(max_num)\n",
        "    return [max_num, max_num_index]\n",
        "\n",
        "array = [1, 8, 3]\n",
        "solution(array)"
      ],
      "metadata": {
        "colab": {
          "base_uri": "https://localhost:8080/"
        },
        "id": "Gt_NrRKeBaE4",
        "outputId": "196ab0bd-d91e-4a85-8fe7-1f3b725693e1"
      },
      "execution_count": 3,
      "outputs": [
        {
          "output_type": "execute_result",
          "data": {
            "text/plain": [
              "[8, 1]"
            ]
          },
          "metadata": {},
          "execution_count": 3
        }
      ]
    },
    {
      "cell_type": "code",
      "source": [
        "# 문자열 계산하기\n",
        "def solution(my_string):\n",
        "    return eval(my_string)\n",
        "\n",
        "my_string = \"3 + 4\"\n",
        "solution(my_string)"
      ],
      "metadata": {
        "colab": {
          "base_uri": "https://localhost:8080/"
        },
        "id": "WU4CrNSUB9pp",
        "outputId": "ed7fd297-387a-4e0b-e176-89e8e4ba41ab"
      },
      "execution_count": 4,
      "outputs": [
        {
          "output_type": "execute_result",
          "data": {
            "text/plain": [
              "7"
            ]
          },
          "metadata": {},
          "execution_count": 4
        }
      ]
    },
    {
      "cell_type": "code",
      "source": [
        "# 배열의 유사도\n",
        "def solution(s1, s2):\n",
        "    count = 0\n",
        "    for i in s1:\n",
        "        if i in s2:\n",
        "            count += 1\n",
        "\n",
        "    return count\n",
        "\n",
        "s1 = [\"a\", \"b\", \"c\"]\n",
        "s2 = [\"com\", \"b\", \"d\", \"p\", \"c\"]\n",
        "solution(s1, s2)"
      ],
      "metadata": {
        "colab": {
          "base_uri": "https://localhost:8080/"
        },
        "id": "2l41J5RjCl4t",
        "outputId": "aec42997-629b-4f7c-afe6-edb695bd62ef"
      },
      "execution_count": 5,
      "outputs": [
        {
          "output_type": "execute_result",
          "data": {
            "text/plain": [
              "2"
            ]
          },
          "metadata": {},
          "execution_count": 5
        }
      ]
    }
  ]
}