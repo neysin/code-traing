{
  "nbformat": 4,
  "nbformat_minor": 0,
  "metadata": {
    "colab": {
      "provenance": [],
      "authorship_tag": "ABX9TyNvrmrxBlN39lPcWTHmRMGK",
      "include_colab_link": true
    },
    "kernelspec": {
      "name": "python3",
      "display_name": "Python 3"
    },
    "language_info": {
      "name": "python"
    }
  },
  "cells": [
    {
      "cell_type": "markdown",
      "metadata": {
        "id": "view-in-github",
        "colab_type": "text"
      },
      "source": [
        "<a href=\"https://colab.research.google.com/github/neysin/orm/blob/main/programmers_%EC%9E%85%EB%AC%B8_day3.ipynb\" target=\"_parent\"><img src=\"https://colab.research.google.com/assets/colab-badge.svg\" alt=\"Open In Colab\"/></a>"
      ]
    },
    {
      "cell_type": "code",
      "execution_count": 1,
      "metadata": {
        "colab": {
          "base_uri": "https://localhost:8080/"
        },
        "id": "F6nigKhDduY8",
        "outputId": "08c65deb-1786-4aa3-eed0-9b8ad90e527c"
      },
      "outputs": [
        {
          "output_type": "execute_result",
          "data": {
            "text/plain": [
              "1"
            ]
          },
          "metadata": {},
          "execution_count": 1
        }
      ],
      "source": [
        "# 나머지 구하기\n",
        "def solution(num1, num2):\n",
        "    return num1 % num2\n",
        "\n",
        "num1 = 3\n",
        "num2 = 2\n",
        "solution(num1, num2)"
      ]
    },
    {
      "cell_type": "code",
      "source": [
        "# 중앙값 구하기\n",
        "def solution(array):\n",
        "    array_sort = sorted(array)\n",
        "    return array_sort[int(len(array)/2)]\n",
        "\n",
        "array = [1, 2, 7, 10, 11]\n",
        "solution(array)"
      ],
      "metadata": {
        "colab": {
          "base_uri": "https://localhost:8080/"
        },
        "id": "00HVkbDhd4Vp",
        "outputId": "9afd924c-3df0-4606-8bae-0ee9508666a6"
      },
      "execution_count": 4,
      "outputs": [
        {
          "output_type": "execute_result",
          "data": {
            "text/plain": [
              "7"
            ]
          },
          "metadata": {},
          "execution_count": 4
        }
      ]
    },
    {
      "cell_type": "code",
      "source": [
        "# 최빈값 구하기\n",
        "def solution(array):\n",
        "    max_count = 0\n",
        "    most_count_num = None\n",
        "    set_array = set(array)\n",
        "\n",
        "    for i in set_array:\n",
        "        count = array.count(i)\n",
        "        if count > max_count:\n",
        "            max_count = count\n",
        "            most_count_num = i\n",
        "        elif max_count == count:\n",
        "            most_count_num = -1\n",
        "\n",
        "    return most_count_num\n",
        "\n",
        "array = [1, 2, 3, 3, 3, 4]\n",
        "solution(array)"
      ],
      "metadata": {
        "colab": {
          "base_uri": "https://localhost:8080/"
        },
        "id": "OewTuY1cean4",
        "outputId": "13b6ff58-46ff-4e34-b351-4b90b50122cd"
      },
      "execution_count": 10,
      "outputs": [
        {
          "output_type": "execute_result",
          "data": {
            "text/plain": [
              "3"
            ]
          },
          "metadata": {},
          "execution_count": 10
        }
      ]
    },
    {
      "cell_type": "code",
      "source": [
        "# 짝수는 싫어요\n",
        "def solution(n):\n",
        "    l = []\n",
        "    for i in range(n+1):\n",
        "        if i % 2 !=0:\n",
        "            l.append(i)\n",
        "\n",
        "    return sorted(l)\n",
        "\n",
        "n = 10\n",
        "solution(n)"
      ],
      "metadata": {
        "colab": {
          "base_uri": "https://localhost:8080/"
        },
        "id": "e5XUaAYKfZiM",
        "outputId": "8b32e501-943c-4ced-c21f-6911671072a9"
      },
      "execution_count": 11,
      "outputs": [
        {
          "output_type": "execute_result",
          "data": {
            "text/plain": [
              "[1, 3, 5, 7, 9]"
            ]
          },
          "metadata": {},
          "execution_count": 11
        }
      ]
    }
  ]
}