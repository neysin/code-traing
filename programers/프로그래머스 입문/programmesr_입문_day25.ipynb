{
  "nbformat": 4,
  "nbformat_minor": 0,
  "metadata": {
    "colab": {
      "provenance": [],
      "authorship_tag": "ABX9TyOFEesKDBwmgrP954K3Vb3r",
      "include_colab_link": true
    },
    "kernelspec": {
      "name": "python3",
      "display_name": "Python 3"
    },
    "language_info": {
      "name": "python"
    }
  },
  "cells": [
    {
      "cell_type": "markdown",
      "metadata": {
        "id": "view-in-github",
        "colab_type": "text"
      },
      "source": [
        "<a href=\"https://colab.research.google.com/github/neysin/code-traing/blob/main/programmesr_%EC%9E%85%EB%AC%B8_day25.ipynb\" target=\"_parent\"><img src=\"https://colab.research.google.com/assets/colab-badge.svg\" alt=\"Open In Colab\"/></a>"
      ]
    },
    {
      "cell_type": "markdown",
      "source": [
        "문자열 밀기"
      ],
      "metadata": {
        "id": "5NlVLAWN0woc"
      }
    },
    {
      "cell_type": "code",
      "execution_count": 4,
      "metadata": {
        "colab": {
          "base_uri": "https://localhost:8080/"
        },
        "id": "rpomwB-5vuCu",
        "outputId": "c9a40448-7fe3-4b8b-f4f6-ef614065d957"
      },
      "outputs": [
        {
          "output_type": "execute_result",
          "data": {
            "text/plain": [
              "1"
            ]
          },
          "metadata": {},
          "execution_count": 4
        }
      ],
      "source": [
        "# 문자열 밀기\n",
        "def solution(A, B):\n",
        "    if A == B:\n",
        "        return 0\n",
        "\n",
        "    for i in range(len(A)):\n",
        "        a = list(A).pop()\n",
        "        A = a + A[:-1]\n",
        "        if A == B:\n",
        "            return i + 1\n",
        "    return -1\n",
        "\n",
        "A = \"hello\"\n",
        "B = \"ohell\"\n",
        "solution(A, B)"
      ]
    },
    {
      "cell_type": "code",
      "source": [
        "# 밀었을 때 나오는 문자열을 두 배하여 이 때 find 함수를 통해 기존의 문자열이 있는 지를 찾아주는 형태\n",
        "# 이러한 형태로 풀이시 find 함수를 통해 찾은 수가 기존 문자열을 오른쪽으로 민 횟수와 같고 찾지 못했을 경우 -1을 반환\n",
        "solution=lambda a,b:(b*2).find(a)"
      ],
      "metadata": {
        "id": "oGJ9Snfiyc7v"
      },
      "execution_count": null,
      "outputs": []
    },
    {
      "cell_type": "code",
      "source": [
        "# 종이 자르기\n",
        "def solution(M, N):\n",
        "    return M * N -1\n",
        "\n",
        "M = 2\n",
        "N = 2\n",
        "solution(M, N)"
      ],
      "metadata": {
        "colab": {
          "base_uri": "https://localhost:8080/"
        },
        "id": "7TsAhzRJ01B4",
        "outputId": "f73e0d81-1444-4387-c9a2-abbc0bb7ba3a"
      },
      "execution_count": 5,
      "outputs": [
        {
          "output_type": "execute_result",
          "data": {
            "text/plain": [
              "3"
            ]
          },
          "metadata": {},
          "execution_count": 5
        }
      ]
    },
    {
      "cell_type": "code",
      "source": [
        "# 연속된 수의 합\n",
        "def solution(num, total):\n",
        "    def fac(a):\n",
        "        l = []\n",
        "        for i in range(a+1):\n",
        "            l.append(i)\n",
        "\n",
        "        return sum(l)\n",
        "\n",
        "    x = (total - fac(num-1)) // num\n",
        "\n",
        "    result = []\n",
        "    for i in range(x, x+num):\n",
        "        result.append(i)\n",
        "\n",
        "    return result\n",
        "\n",
        "num = 3\n",
        "total = 12\n",
        "solution(num, total)"
      ],
      "metadata": {
        "colab": {
          "base_uri": "https://localhost:8080/"
        },
        "id": "rzRSq93j1m8o",
        "outputId": "ef40db8b-fb02-4a42-b038-0106ef7b5e5e"
      },
      "execution_count": 11,
      "outputs": [
        {
          "output_type": "execute_result",
          "data": {
            "text/plain": [
              "[3, 4, 5]"
            ]
          },
          "metadata": {},
          "execution_count": 11
        }
      ]
    },
    {
      "cell_type": "code",
      "source": [
        "# 다음에 올 숫자\n",
        "def solution(common):\n",
        "    a = common[-1] - common[-2]\n",
        "    b = common[-2] - common[-3]\n",
        "\n",
        "    if a == b:\n",
        "        return common[-1] + a\n",
        "    else:\n",
        "        x = a / b\n",
        "        return common[-1] * x\n",
        "\n",
        "common = [1, 2, 3, 4]\n",
        "solution(common)"
      ],
      "metadata": {
        "colab": {
          "base_uri": "https://localhost:8080/"
        },
        "id": "e0j1RK-E6HHM",
        "outputId": "9b6a2d6a-b034-4747-9720-253b0a632b4d"
      },
      "execution_count": 13,
      "outputs": [
        {
          "output_type": "execute_result",
          "data": {
            "text/plain": [
              "5"
            ]
          },
          "metadata": {},
          "execution_count": 13
        }
      ]
    }
  ]
}