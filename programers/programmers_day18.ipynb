{
  "nbformat": 4,
  "nbformat_minor": 0,
  "metadata": {
    "colab": {
      "provenance": [],
      "authorship_tag": "ABX9TyO/aFWXg0fbEgFLCRtQbQTK",
      "include_colab_link": true
    },
    "kernelspec": {
      "name": "python3",
      "display_name": "Python 3"
    },
    "language_info": {
      "name": "python"
    }
  },
  "cells": [
    {
      "cell_type": "markdown",
      "metadata": {
        "id": "view-in-github",
        "colab_type": "text"
      },
      "source": [
        "<a href=\"https://colab.research.google.com/github/neysin/orm/blob/main/programmers_day18.ipynb\" target=\"_parent\"><img src=\"https://colab.research.google.com/assets/colab-badge.svg\" alt=\"Open In Colab\"/></a>"
      ]
    },
    {
      "cell_type": "code",
      "execution_count": 3,
      "metadata": {
        "colab": {
          "base_uri": "https://localhost:8080/"
        },
        "id": "jkfcKNuftmjj",
        "outputId": "cc2d0c03-260e-42be-ce54-2f9ff42fa608"
      },
      "outputs": [
        {
          "output_type": "execute_result",
          "data": {
            "text/plain": [
              "[1, 2, 1, 0, 1, 0]"
            ]
          },
          "metadata": {},
          "execution_count": 3
        }
      ],
      "source": [
        "# x사이의 개수\n",
        "def solution(myString):\n",
        "    str_l = myString.split('x')\n",
        "    l = []\n",
        "    for i in str_l:\n",
        "        l.append(len(i))\n",
        "    return l\n",
        "\n",
        "myString = \"oxooxoxxox\"\n",
        "solution(myString)\n"
      ]
    },
    {
      "cell_type": "markdown",
      "source": [
        "문자열 잘라서 정렬하기"
      ],
      "metadata": {
        "id": "ya5Eq6i0B62O"
      }
    },
    {
      "cell_type": "code",
      "source": [
        "# 문자열 잘라서 정렬하기\n",
        "def solution(myString):\n",
        "    str_l = myString.split('x')\n",
        "    while '' in str_l:\n",
        "        str_l.remove('')\n",
        "    sorted_l = sorted(str_l)\n",
        "    return sorted_l\n",
        "\n",
        "myString = \"axbxcxdx\"\n",
        "solution(myString)"
      ],
      "metadata": {
        "colab": {
          "base_uri": "https://localhost:8080/"
        },
        "id": "V0Trw7Vg51Jp",
        "outputId": "cb0948dd-45d9-44ba-e552-84bd1a445c6a"
      },
      "execution_count": 13,
      "outputs": [
        {
          "output_type": "execute_result",
          "data": {
            "text/plain": [
              "['a', 'b', 'c', 'd']"
            ]
          },
          "metadata": {},
          "execution_count": 13
        }
      ]
    },
    {
      "cell_type": "code",
      "source": [
        "# if 를 통해 split 함수를 사용했을 때 나오는 공백값을 제거하고 정렬함.\n",
        "def solution(myString):\n",
        "    return sorted(ch for ch in myString.split('x') if ch)"
      ],
      "metadata": {
        "id": "3braxR3q7Yvu"
      },
      "execution_count": null,
      "outputs": []
    },
    {
      "cell_type": "code",
      "source": [
        "# 간단한 식 계산하기\n",
        "def solution(binomial):\n",
        "    return eval(binomial)\n",
        "\n",
        "binomial = \"43 + 12\"\n",
        "solution(binomial)"
      ],
      "metadata": {
        "colab": {
          "base_uri": "https://localhost:8080/"
        },
        "id": "P7YR5DIICCWn",
        "outputId": "ad2f0d53-6919-4e17-b257-9018d854d208"
      },
      "execution_count": 16,
      "outputs": [
        {
          "output_type": "execute_result",
          "data": {
            "text/plain": [
              "55"
            ]
          },
          "metadata": {},
          "execution_count": 16
        }
      ]
    },
    {
      "cell_type": "markdown",
      "source": [
        "문자열 바꿔서 찾기"
      ],
      "metadata": {
        "id": "yLLr5TfhFc8k"
      }
    },
    {
      "cell_type": "code",
      "source": [
        "# 문자열 바꿔서 찾기\n",
        "def solution(myString, pat):\n",
        "    l = []\n",
        "    for i in myString:\n",
        "        if i == 'A':\n",
        "            l.append(i.replace('A', 'B'))\n",
        "        elif i == 'B':\n",
        "            l.append(i.replace('B', 'A'))\n",
        "\n",
        "    if pat in ''.join(l):\n",
        "        return 1\n",
        "    else:\n",
        "        return 0\n",
        "\n",
        "\n",
        "myString = \"ABBAA\"\n",
        "pat = \"AABB\"\n",
        "solution(myString, pat)"
      ],
      "metadata": {
        "colab": {
          "base_uri": "https://localhost:8080/"
        },
        "id": "ZHtUgM8lCTP3",
        "outputId": "52dc2338-1e69-483d-b6dd-062eca648923"
      },
      "execution_count": 18,
      "outputs": [
        {
          "output_type": "execute_result",
          "data": {
            "text/plain": [
              "1"
            ]
          },
          "metadata": {},
          "execution_count": 18
        }
      ]
    },
    {
      "cell_type": "code",
      "source": [
        "# pat을 건들여서 A와 B를 바꾸고 바로 bool값으로 1, 0 판단하는 방법\n",
        "def solution(myString, pat):\n",
        "    return int(''.join(['A' if i == 'B' else 'B' for i in pat]) in myString)"
      ],
      "metadata": {
        "id": "HgwFZyVAElxb"
      },
      "execution_count": null,
      "outputs": []
    },
    {
      "cell_type": "code",
      "source": [
        "# rny_string\n",
        "def solution(rny_string):\n",
        "    return rny_string.replace('m', 'rn')\n",
        "\n",
        "rny_string = 'masterpiece'\n",
        "solution(rny_string)"
      ],
      "metadata": {
        "colab": {
          "base_uri": "https://localhost:8080/",
          "height": 35
        },
        "id": "5h5NxOmUOF_R",
        "outputId": "6d85b658-7eeb-4f51-adc8-17696f124891"
      },
      "execution_count": 2,
      "outputs": [
        {
          "output_type": "execute_result",
          "data": {
            "text/plain": [
              "'rnasterpiece'"
            ],
            "application/vnd.google.colaboratory.intrinsic+json": {
              "type": "string"
            }
          },
          "metadata": {},
          "execution_count": 2
        }
      ]
    },
    {
      "cell_type": "code",
      "source": [],
      "metadata": {
        "id": "VJCwfSNFOcB9"
      },
      "execution_count": null,
      "outputs": []
    }
  ]
}