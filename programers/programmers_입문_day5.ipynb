{
  "nbformat": 4,
  "nbformat_minor": 0,
  "metadata": {
    "colab": {
      "provenance": [],
      "authorship_tag": "ABX9TyO4ryqc+Y4M+n9z8klHoblY",
      "include_colab_link": true
    },
    "kernelspec": {
      "name": "python3",
      "display_name": "Python 3"
    },
    "language_info": {
      "name": "python"
    }
  },
  "cells": [
    {
      "cell_type": "markdown",
      "metadata": {
        "id": "view-in-github",
        "colab_type": "text"
      },
      "source": [
        "<a href=\"https://colab.research.google.com/github/neysin/orm/blob/main/programmers_%EC%9E%85%EB%AC%B8_day5.ipynb\" target=\"_parent\"><img src=\"https://colab.research.google.com/assets/colab-badge.svg\" alt=\"Open In Colab\"/></a>"
      ]
    },
    {
      "cell_type": "code",
      "execution_count": 10,
      "metadata": {
        "colab": {
          "base_uri": "https://localhost:8080/"
        },
        "id": "umhigKa1isS1",
        "outputId": "16348ae1-a15b-4763-8514-09f6bcfd3b61"
      },
      "outputs": [
        {
          "output_type": "execute_result",
          "data": {
            "text/plain": [
              "464000"
            ]
          },
          "metadata": {},
          "execution_count": 10
        }
      ],
      "source": [
        "# 웃가게 할인 받기\n",
        "# 10만원 이상 5%, 30만원 이상 10%, 50만원 이상 20% 할인\n",
        "def solution(price):\n",
        "    if 100000 <= price < 300000:\n",
        "        return int(price - price * 0.05)\n",
        "    elif 300000 <=price < 500000:\n",
        "        return int(price - price * 0.1)\n",
        "    elif price >= 500000:\n",
        "        return int(price - price * 0.2)\n",
        "    else:\n",
        "        return int(price)\n",
        "\n",
        "price = 580000\n",
        "solution(price)"
      ]
    },
    {
      "cell_type": "markdown",
      "source": [
        "아이스 아메리카노"
      ],
      "metadata": {
        "id": "9LJrZN322sm5"
      }
    },
    {
      "cell_type": "code",
      "source": [
        "# 아이스 아메리카노\n",
        "# 한 잔에 5500\n",
        "# 가진 돈으로 최대한 마실 수 있는 잔 수, 남은 돈 반환\n",
        "def solution(money):\n",
        "    price = 5500\n",
        "    count = 0\n",
        "\n",
        "    while money >= price:\n",
        "        money -= price\n",
        "        count += 1\n",
        "\n",
        "    return [count, money]\n",
        "\n",
        "\n",
        "money = 5500\n",
        "solution(money)"
      ],
      "metadata": {
        "colab": {
          "base_uri": "https://localhost:8080/"
        },
        "id": "KMNNP5mr0hVQ",
        "outputId": "eb3ec312-1e45-4941-9b97-7a74b095311e"
      },
      "execution_count": 12,
      "outputs": [
        {
          "output_type": "execute_result",
          "data": {
            "text/plain": [
              "[0, 1]"
            ]
          },
          "metadata": {},
          "execution_count": 12
        }
      ]
    },
    {
      "cell_type": "code",
      "source": [
        "# 몫과 나머지를 잘 사용해서 작성\n",
        "def solution(money):\n",
        "\n",
        "    answer = [money // 5500, money % 5500]\n",
        "    return answer"
      ],
      "metadata": {
        "id": "NbdEquA52XFm"
      },
      "execution_count": null,
      "outputs": []
    },
    {
      "cell_type": "code",
      "source": [
        "# 나이 출력\n",
        "# 2022 년 기준 출생년도 반환\n",
        "def solution(age):\n",
        "    return 2022 - age + 1\n",
        "\n",
        "age = 40\n",
        "solution(age)"
      ],
      "metadata": {
        "colab": {
          "base_uri": "https://localhost:8080/"
        },
        "id": "_baXXVw12uLM",
        "outputId": "e6a5c27f-da87-402d-8ab6-94341275c793"
      },
      "execution_count": 14,
      "outputs": [
        {
          "output_type": "execute_result",
          "data": {
            "text/plain": [
              "1983"
            ]
          },
          "metadata": {},
          "execution_count": 14
        }
      ]
    },
    {
      "cell_type": "code",
      "source": [
        "# 배열 뒤집기\n",
        "def solution(num_list):\n",
        "    return list(reversed(num_list))\n",
        "\n",
        "num_list = [1, 2, 3, 4, 5]\n",
        "solution(num_list)"
      ],
      "metadata": {
        "colab": {
          "base_uri": "https://localhost:8080/"
        },
        "id": "r7DKgPGp26Cj",
        "outputId": "a1285071-134a-42e1-ecf0-a1eb4d0e9c42"
      },
      "execution_count": 16,
      "outputs": [
        {
          "output_type": "execute_result",
          "data": {
            "text/plain": [
              "[5, 4, 3, 2, 1]"
            ]
          },
          "metadata": {},
          "execution_count": 16
        }
      ]
    }
  ]
}