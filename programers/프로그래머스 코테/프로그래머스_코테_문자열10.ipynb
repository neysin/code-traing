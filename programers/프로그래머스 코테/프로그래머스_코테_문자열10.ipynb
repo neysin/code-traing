{
  "nbformat": 4,
  "nbformat_minor": 0,
  "metadata": {
    "colab": {
      "provenance": [],
      "authorship_tag": "ABX9TyMbLV5mPim7eFz9T7nCjTSf",
      "include_colab_link": true
    },
    "kernelspec": {
      "name": "python3",
      "display_name": "Python 3"
    },
    "language_info": {
      "name": "python"
    }
  },
  "cells": [
    {
      "cell_type": "markdown",
      "metadata": {
        "id": "view-in-github",
        "colab_type": "text"
      },
      "source": [
        "<a href=\"https://colab.research.google.com/github/neysin/code-traing/blob/main/%ED%94%84%EB%A1%9C%EA%B7%B8%EB%9E%98%EB%A8%B8%EC%8A%A4_%EC%BD%94%ED%85%8C_%EB%AC%B8%EC%9E%90%EC%97%B410.ipynb\" target=\"_parent\"><img src=\"https://colab.research.google.com/assets/colab-badge.svg\" alt=\"Open In Colab\"/></a>"
      ]
    },
    {
      "cell_type": "markdown",
      "source": [
        "문자열 - level1 \\\n",
        "핸드폰 번호 바꾸기"
      ],
      "metadata": {
        "id": "B7qTs60MpTWu"
      }
    },
    {
      "cell_type": "code",
      "execution_count": 12,
      "metadata": {
        "colab": {
          "base_uri": "https://localhost:8080/",
          "height": 35
        },
        "id": "nnUxvN_XpRDg",
        "outputId": "d7e90562-682b-4b30-da5f-6c79e17b71b6"
      },
      "outputs": [
        {
          "output_type": "execute_result",
          "data": {
            "text/plain": [
              "'*******4444'"
            ],
            "application/vnd.google.colaboratory.intrinsic+json": {
              "type": "string"
            }
          },
          "metadata": {},
          "execution_count": 12
        }
      ],
      "source": [
        "def solution(phone_number):\n",
        "    import re\n",
        "    return re.sub('\\d(?=\\d{4})', '*', phone_number) # 숫자 뒤에 숫자 4개가 붙어있는 숫자를 찾아 변환\n",
        "    # 위 정규표현식을 sub가 아닌 findall로 찾는다면 숫자 4개가 붙어있는 조건을 만족하는 숫자가 출력 => 0103333\n",
        "\n",
        "phone_number = \"01033334444\"\n",
        "solution(phone_number)"
      ]
    },
    {
      "cell_type": "markdown",
      "source": [
        "전방 탐색 (Lookahead): 현재 위치에서 특정 패턴이 뒤따르는지 확인합니다. \\\n",
        "\n",
        "긍정형: (?=...) \\\n",
        "부정형: (?!...) \\\n",
        "후방 탐색 (Lookbehind): 현재 위치에서 특정 패턴이 앞에 있는지 확인합니다. \\\n",
        "\n",
        "긍정형: (?<=...) \\\n",
        "부정형: (?<!...) \\\n"
      ],
      "metadata": {
        "id": "_xunIm0Atb4G"
      }
    },
    {
      "cell_type": "code",
      "source": [
        "def solution(phone_number):\n",
        "    num_len = len(phone_number) - 4\n",
        "    return num_len * '*' + phone_number[-4:] # 문자열 슬라이싱으로 필요한 부분만 잘라서 더해서 반환\n",
        "\n",
        "phone_number = \"01033334444\"\n",
        "solution(phone_number)"
      ],
      "metadata": {
        "colab": {
          "base_uri": "https://localhost:8080/",
          "height": 35
        },
        "id": "s1QkP_Zysxyl",
        "outputId": "1c5f9939-fd85-48e3-91b9-d77eaeb46806"
      },
      "execution_count": 16,
      "outputs": [
        {
          "output_type": "execute_result",
          "data": {
            "text/plain": [
              "'*******4444'"
            ],
            "application/vnd.google.colaboratory.intrinsic+json": {
              "type": "string"
            }
          },
          "metadata": {},
          "execution_count": 16
        }
      ]
    }
  ]
}