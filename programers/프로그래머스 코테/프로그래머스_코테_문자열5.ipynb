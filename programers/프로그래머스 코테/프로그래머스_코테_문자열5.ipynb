{
  "nbformat": 4,
  "nbformat_minor": 0,
  "metadata": {
    "colab": {
      "provenance": [],
      "authorship_tag": "ABX9TyPL5anrIgG8+cB7FQ2UYSoo",
      "include_colab_link": true
    },
    "kernelspec": {
      "name": "python3",
      "display_name": "Python 3"
    },
    "language_info": {
      "name": "python"
    }
  },
  "cells": [
    {
      "cell_type": "markdown",
      "metadata": {
        "id": "view-in-github",
        "colab_type": "text"
      },
      "source": [
        "<a href=\"https://colab.research.google.com/github/neysin/code-traing/blob/main/%ED%94%84%EB%A1%9C%EA%B7%B8%EB%9E%98%EB%A8%B8%EC%8A%A4_%EC%BD%94%ED%85%8C_%EB%AC%B8%EC%9E%90%EC%97%B45.ipynb\" target=\"_parent\"><img src=\"https://colab.research.google.com/assets/colab-badge.svg\" alt=\"Open In Colab\"/></a>"
      ]
    },
    {
      "cell_type": "markdown",
      "source": [
        "문자열 - level2 \\\n",
        "문자열 압축"
      ],
      "metadata": {
        "id": "vJtApK6yfhqv"
      }
    },
    {
      "cell_type": "code",
      "execution_count": 3,
      "metadata": {
        "colab": {
          "base_uri": "https://localhost:8080/"
        },
        "id": "daHvaBpEffl1",
        "outputId": "7fd18228-9b3c-4ba6-dd22-5dcf16def004"
      },
      "outputs": [
        {
          "output_type": "execute_result",
          "data": {
            "text/plain": [
              "7"
            ]
          },
          "metadata": {},
          "execution_count": 3
        }
      ],
      "source": [
        "def solution(s):\n",
        "    answer = len(s) # 주어진 s값의 문자열 길이를 기준으로 두고 이 보다 작을 시만 결과값을 출력하기 위해 주어주고 시작\n",
        "    for x in range(1, len(s) // 2 + 1): # x는 문자열의 간격, 문자열의 간격이 주어진 문자열의 길이의 절반 이상이 되는 것은 이상하니\n",
        "    # 간격의 범위는 주어진 문자열의 절반으로 정의\n",
        "        comp_len = 0 # 새로 압축할 문자열의 길이\n",
        "        comp = '' # 압출하여 나온 문자열\n",
        "        cnt = 1 # 압축되는 문자열의 압축되는 횟수\n",
        "        for i in range(0, len(s) + 1, x): # 0부터 주어진 s의 길이까지 x간격으로 반복\n",
        "            temp = s[i:i + x] # 슬라이싱을 통해 간격별로 문자열 분해\n",
        "            if comp == temp: # 현재 슬라이싱하는 문자열과 전에 슬라이싱한 문자열이 같은지를 판별\n",
        "                cnt += 1 # 같다면 카운트 횟수 증가\n",
        "            elif comp != temp:\n",
        "                comp_len += len(temp) # 다르다면 현재 슬라이싱한 문자열의 길이를 더해주고\n",
        "                comp = temp # 같은 문자열이 연속되는지를 판별하기 위해 기준 문자열을 현재 문자열로 바꿔줌.\n",
        "                #(comp가 a 였는데 temp 가 b로 할당되었다면 comp 와 temp가 다르니 이제부터 b를 comp로 할당하여 다음에 오는 문자열이 b와 같은지를 판별하기 위해)\n",
        "                if cnt > 1: # 이때 카운트가 1 초과였다면\n",
        "                    comp_len += len(str(cnt)) # cnt의 문자열 길이를 결과 comp_len에 더해줌. 왜냐하면 문제에서 1이라는 압축되는 문자열 수는 생략되기 때문에\n",
        "                    # 2부터 셈\n",
        "                    cnt = 1 # 다시 카운트는 1부터 시작\n",
        "        answer = min(answer, comp_len) # 간격의 수를 바꿔주며 하위 조건들을 계속 바꿔가며 만든 comp_len과 처음에 할당하고 시작한 answer의 값을 비교하여\n",
        "        # 압축이 되었다면 더 적은 값인 comp_len이, 아니라면 len(s)의 값이 나오도록 비교 출력.\n",
        "\n",
        "    return answer\n",
        "\n",
        "\n",
        "s = \"aabbaccc\"\n",
        "solution(s)"
      ]
    }
  ]
}