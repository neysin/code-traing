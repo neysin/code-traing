{
  "nbformat": 4,
  "nbformat_minor": 0,
  "metadata": {
    "colab": {
      "provenance": [],
      "authorship_tag": "ABX9TyOhBgifv7up6PaYWAA/V6pI",
      "include_colab_link": true
    },
    "kernelspec": {
      "name": "python3",
      "display_name": "Python 3"
    },
    "language_info": {
      "name": "python"
    }
  },
  "cells": [
    {
      "cell_type": "markdown",
      "metadata": {
        "id": "view-in-github",
        "colab_type": "text"
      },
      "source": [
        "<a href=\"https://colab.research.google.com/github/neysin/code-traing/blob/main/%ED%94%84%EB%A1%9C%EA%B7%B8%EB%9E%98%EB%A8%B8%EC%8A%A4_%EC%BD%94%ED%85%8C_%EC%A0%95%EB%A0%AC3.ipynb\" target=\"_parent\"><img src=\"https://colab.research.google.com/assets/colab-badge.svg\" alt=\"Open In Colab\"/></a>"
      ]
    },
    {
      "cell_type": "markdown",
      "source": [
        "정렬 - level1 \\\n",
        "문자열 내 마음대로 정렬하기"
      ],
      "metadata": {
        "id": "OyQIa4yb5KBH"
      }
    },
    {
      "cell_type": "code",
      "execution_count": 10,
      "metadata": {
        "colab": {
          "base_uri": "https://localhost:8080/"
        },
        "id": "QrbwtbbR5IMG",
        "outputId": "74db379c-d35a-4f31-d1aa-7b1f230eb791"
      },
      "outputs": [
        {
          "output_type": "execute_result",
          "data": {
            "text/plain": [
              "['abcd', 'abce', 'cdx']"
            ]
          },
          "metadata": {},
          "execution_count": 10
        }
      ],
      "source": [
        "# 각 문자열의 인덱스 n번째 글자를 기준으로 오름차순 정렬\n",
        "def solution(strings, n):\n",
        "    sorted_str = sorted(sorted(strings), key=lambda x: x[n]) # lambda함수를 통해 key 값으로 기준을 넣어준 후 정렬.\n",
        "    # 이 때 주의해야 할 점은 기준으로 주어진 n의 인덱스 값이 동일할 경우 사전순으로 정렬해야 하기 때문에 미리 사전순으로 정렬을 한 값을 다시 key 값을 기준으로 정렬해줌.\n",
        "    return sorted_str\n",
        "\n",
        "strings = [\"abce\", \"abcd\", \"cdx\"]\n",
        "n = 1\n",
        "solution(strings, n)"
      ]
    }
  ]
}