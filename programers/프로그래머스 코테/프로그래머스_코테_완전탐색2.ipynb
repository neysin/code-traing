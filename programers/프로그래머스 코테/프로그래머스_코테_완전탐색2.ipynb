{
  "nbformat": 4,
  "nbformat_minor": 0,
  "metadata": {
    "colab": {
      "provenance": [],
      "authorship_tag": "ABX9TyM7GRpyVFfQSKLq+Y2EEfy3",
      "include_colab_link": true
    },
    "kernelspec": {
      "name": "python3",
      "display_name": "Python 3"
    },
    "language_info": {
      "name": "python"
    }
  },
  "cells": [
    {
      "cell_type": "markdown",
      "metadata": {
        "id": "view-in-github",
        "colab_type": "text"
      },
      "source": [
        "<a href=\"https://colab.research.google.com/github/neysin/code-traing/blob/main/%ED%94%84%EB%A1%9C%EA%B7%B8%EB%9E%98%EB%A8%B8%EC%8A%A4_%EC%BD%94%ED%85%8C_%EC%99%84%EC%A0%84%ED%83%90%EC%83%892.ipynb\" target=\"_parent\"><img src=\"https://colab.research.google.com/assets/colab-badge.svg\" alt=\"Open In Colab\"/></a>"
      ]
    },
    {
      "cell_type": "markdown",
      "source": [
        "완전탐색 - level2 \\\n",
        "카펫"
      ],
      "metadata": {
        "id": "lOMCOpl0KOI8"
      }
    },
    {
      "cell_type": "code",
      "execution_count": 8,
      "metadata": {
        "colab": {
          "base_uri": "https://localhost:8080/"
        },
        "id": "BXEoZe1tKG_y",
        "outputId": "9d06ff90-ec2c-4d5b-d412-92e2c795fb49"
      },
      "outputs": [
        {
          "output_type": "execute_result",
          "data": {
            "text/plain": [
              "[3, 3]"
            ]
          },
          "metadata": {},
          "execution_count": 8
        }
      ],
      "source": [
        "def solution(brown, yellow):\n",
        "    grid = brown + yellow # 타일을 전부 더하여 전체 넓이를 구함\n",
        "    for n in range(3, grid // 3 + 1): # 세로의 범위를 값의 범위를 정하는데 노락색 타일의 최솟값은 1이므로 최소 세로 길이는 3임.\n",
        "    # 가로 또한 같은 의미로 최솟값이 3이므로 세로의 최대값은 전체 넓이를 3으로 나누어 나온 몫임.\n",
        "        if grid % n != 0: continue # 정수가 아니라면 넘어감\n",
        "        m = grid // n # 가로값은 전체 넓이를 세로값으로 나눈 거임.\n",
        "        if (n-2) * (m-2) == yellow: # 이 때 노락색 타일의 값은 갈색타일의 가로, 세로 길이에서 -2를 한 값이므로 맞아 떨어지는 숫자를 탐색.\n",
        "            return [m, n]\n",
        "\n",
        "brown = 8\n",
        "yellow = 1\n",
        "\n",
        "solution(brown, yellow)"
      ]
    }
  ]
}