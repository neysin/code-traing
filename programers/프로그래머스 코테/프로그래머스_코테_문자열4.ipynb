{
  "nbformat": 4,
  "nbformat_minor": 0,
  "metadata": {
    "colab": {
      "provenance": [],
      "authorship_tag": "ABX9TyM/vIxaDxdL8efptDDtSsN0",
      "include_colab_link": true
    },
    "kernelspec": {
      "name": "python3",
      "display_name": "Python 3"
    },
    "language_info": {
      "name": "python"
    }
  },
  "cells": [
    {
      "cell_type": "markdown",
      "metadata": {
        "id": "view-in-github",
        "colab_type": "text"
      },
      "source": [
        "<a href=\"https://colab.research.google.com/github/neysin/code-traing/blob/main/%ED%94%84%EB%A1%9C%EA%B7%B8%EB%9E%98%EB%A8%B8%EC%8A%A4_%EC%BD%94%ED%85%8C_%EB%AC%B8%EC%9E%90%EC%97%B44.ipynb\" target=\"_parent\"><img src=\"https://colab.research.google.com/assets/colab-badge.svg\" alt=\"Open In Colab\"/></a>"
      ]
    },
    {
      "cell_type": "markdown",
      "source": [
        "문자열 - level2 \\\n",
        "짝지어 제거하기"
      ],
      "metadata": {
        "id": "3m-enfvRtTRL"
      }
    },
    {
      "cell_type": "code",
      "execution_count": 11,
      "metadata": {
        "colab": {
          "base_uri": "https://localhost:8080/"
        },
        "id": "7vM70xswmrjw",
        "outputId": "bac9733a-7837-406c-cc20-3b7801a251af"
      },
      "outputs": [
        {
          "output_type": "execute_result",
          "data": {
            "text/plain": [
              "1"
            ]
          },
          "metadata": {},
          "execution_count": 11
        }
      ],
      "source": [
        "# 일반적으로 문자열을 생각해서 풀이한 방법\n",
        "# 정답처리 시 시간초과가 되는 케이스가 있음\n",
        "def solution(s):\n",
        "    while len(s) > 1: # s의 길이가 1보다 길면 반복\n",
        "        s = list(s) # 문자열을 리스트화\n",
        "        for i in range(len(s)-1): # s의 인덱스를 i에서 i+1까지를 사용하기 때문에 최대범위를 -1 해줌\n",
        "            if s[i] == s[i+1]: # 첫 번째 문자와 그 다음 문자가 같을 때 둘 다 공백처리\n",
        "                s[i] = s[i+1] = ''\n",
        "\n",
        "        new_s = ''.join(s) # 공백처리한 문자를 병합\n",
        "        if len(s) == len(new_s): # 만약 위의 반복문에서 공백처리가 된 문자가 없을 경우 맨 처음 넣은 문자와 길이가 같을 테니\n",
        "        # 더 이상 짝지어 지는 문자열이 없다는 뜻. 따라서 반복문(while)을 탈출.\n",
        "            break\n",
        "\n",
        "        s = new_s # 반복 시 s를 새로 만든 new_s로 계속 바꾸어 반복을 시행함.\n",
        "\n",
        "    return 1 if len(s) == 0 else 0\n",
        "\n",
        "\n",
        "s = 'baabaa'\n",
        "solution(s)"
      ]
    },
    {
      "cell_type": "code",
      "source": [
        "# 스택을 사용하여 풀이\n",
        "# 발상의 전환으로 훨씬 간편하게 풀이함.\n",
        "def solution(s):\n",
        "    stack = [] # 스택을 생성\n",
        "    for case in s: # 문자열 s를 반복\n",
        "        if stack and stack[-1] == case: # 스택에 자료가 들어있고 그 스택의 끝 요소가 현재 반복문에서 선택한 요소와 일치한다면\n",
        "            stack.pop() # 스택의 끝 요소를 제거\n",
        "        else:\n",
        "            stack.append(case) # 아니라면 현재 선택한 요소를 스택에 추가\n",
        "    # 이를 반복함으로써 문자열 s를 하나씩 떼어 스택에서 비교하는 방식의 연산이 진행됨.\n",
        "    return 0 if stack else 1\n",
        "\n",
        "\n",
        "s = 'baabaa'\n",
        "solution(s)"
      ],
      "metadata": {
        "colab": {
          "base_uri": "https://localhost:8080/"
        },
        "id": "ctgRibVqugWV",
        "outputId": "ab31b16f-e429-4d49-cddc-228872cbd210"
      },
      "execution_count": 13,
      "outputs": [
        {
          "output_type": "execute_result",
          "data": {
            "text/plain": [
              "1"
            ]
          },
          "metadata": {},
          "execution_count": 13
        }
      ]
    }
  ]
}