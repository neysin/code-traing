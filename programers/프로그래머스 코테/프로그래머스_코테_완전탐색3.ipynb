{
  "nbformat": 4,
  "nbformat_minor": 0,
  "metadata": {
    "colab": {
      "provenance": [],
      "authorship_tag": "ABX9TyNWFSIX9j+0nN5DwnSFKNfv",
      "include_colab_link": true
    },
    "kernelspec": {
      "name": "python3",
      "display_name": "Python 3"
    },
    "language_info": {
      "name": "python"
    }
  },
  "cells": [
    {
      "cell_type": "markdown",
      "metadata": {
        "id": "view-in-github",
        "colab_type": "text"
      },
      "source": [
        "<a href=\"https://colab.research.google.com/github/neysin/code-traing/blob/main/%ED%94%84%EB%A1%9C%EA%B7%B8%EB%9E%98%EB%A8%B8%EC%8A%A4_%EC%BD%94%ED%85%8C_%EC%99%84%EC%A0%84%ED%83%90%EC%83%893.ipynb\" target=\"_parent\"><img src=\"https://colab.research.google.com/assets/colab-badge.svg\" alt=\"Open In Colab\"/></a>"
      ]
    },
    {
      "cell_type": "markdown",
      "source": [
        "완전탐색 - level1 \\\n",
        "소수 찾기"
      ],
      "metadata": {
        "id": "0N8o95vJPvu5"
      }
    },
    {
      "cell_type": "code",
      "execution_count": null,
      "metadata": {
        "id": "FqVXlSlUPoaJ"
      },
      "outputs": [],
      "source": [
        "# 내가 생각했던 잘못된 코드\n",
        "def solution(n):\n",
        "    result = []\n",
        "    for i in range(2, n+1):\n",
        "        if i == 2 or i == 3:\n",
        "            result.append(i)\n",
        "        if i % 2 != 0 and i % 3 != 0:\n",
        "            result.append(i)\n",
        "\n",
        "    return len(result)\n",
        "\n",
        "n = 10\n",
        "solution(n)"
      ]
    },
    {
      "cell_type": "code",
      "source": [
        "# 에라토스테네스의 체를 활용한 소수 찾기 코드\n",
        "def solution(n):\n",
        "    if n < 2:\n",
        "        return 0\n",
        "\n",
        "    # 에라토스테네스의 체 초기화\n",
        "    is_prime = [True] * (n + 1)\n",
        "    is_prime[0], is_prime[1] = False, False  # 0과 1은 소수가 아님\n",
        "\n",
        "    p = 2\n",
        "    while p * p <= n:\n",
        "        if is_prime[p]:\n",
        "            # p의 배수들을 모두 소수가 아니라고 표시\n",
        "            for multiple in range(p * p, n + 1, p):\n",
        "                is_prime[multiple] = False\n",
        "        p += 1\n",
        "\n",
        "    # 소수 개수 세기\n",
        "    return sum(is_prime)\n",
        "\n",
        "# 예제 입력 및 출력 확인\n",
        "print(solution(10))  # 출력: 4\n",
        "print(solution(5))   # 출력: 3\n"
      ],
      "metadata": {
        "id": "sTx7x9wnRG6e"
      },
      "execution_count": null,
      "outputs": []
    },
    {
      "cell_type": "code",
      "source": [
        "# 더 간결한 코드\n",
        "def solution(n):\n",
        "    num=set(range(2,n+1))\n",
        "\n",
        "    for i in range(2,n+1):\n",
        "        if i in num:\n",
        "            num-=set(range(2*i,n+1,i))\n",
        "    return len(num)"
      ],
      "metadata": {
        "id": "a_PRDLPbTnUi"
      },
      "execution_count": null,
      "outputs": []
    }
  ]
}