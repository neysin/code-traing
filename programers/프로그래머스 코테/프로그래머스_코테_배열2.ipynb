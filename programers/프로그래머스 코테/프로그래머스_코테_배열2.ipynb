{
  "nbformat": 4,
  "nbformat_minor": 0,
  "metadata": {
    "colab": {
      "provenance": [],
      "authorship_tag": "ABX9TyOytXOm9VpMa67HRGB2mVOE",
      "include_colab_link": true
    },
    "kernelspec": {
      "name": "python3",
      "display_name": "Python 3"
    },
    "language_info": {
      "name": "python"
    }
  },
  "cells": [
    {
      "cell_type": "markdown",
      "metadata": {
        "id": "view-in-github",
        "colab_type": "text"
      },
      "source": [
        "<a href=\"https://colab.research.google.com/github/neysin/code-traing/blob/main/%ED%94%84%EB%A1%9C%EA%B7%B8%EB%9E%98%EB%A8%B8%EC%8A%A4_%EC%BD%94%ED%85%8C_%EB%B0%B0%EC%97%B42.ipynb\" target=\"_parent\"><img src=\"https://colab.research.google.com/assets/colab-badge.svg\" alt=\"Open In Colab\"/></a>"
      ]
    },
    {
      "cell_type": "markdown",
      "source": [
        "배열 - level2 \\\n",
        "행렬 테두리 회전하기"
      ],
      "metadata": {
        "id": "voDWxcpnAOrV"
      }
    },
    {
      "cell_type": "code",
      "source": [
        "def solution(rows, columns, queries):\n",
        "    '''\n",
        "    시계방향으로 회전하라고 문제에서 조건을 주어줬다고 눈에 보이는 대로 회전시킬려고 하면 문제가 어려움.\n",
        "    실제 반복문을 통해 값을 밀어낼때는 상하좌우의 밀어내는 순서를 정한 후 결과적으로 시계방향에 맞게 움직이게 하면 됨.\n",
        "    '''\n",
        "    # 배열 만들기\n",
        "    matrix = [[j + columns*i for j in range(1, columns+1)] for i in range(rows)]\n",
        "\n",
        "    # 배열 시계방향으로 돌리기\n",
        "    def rotate(x1, y1, x2, y2, matrix):\n",
        "        first = matrix[x1][y1]\n",
        "        min_value = first\n",
        "\n",
        "        # 왼쪽\n",
        "        for k in range(x1, x2):\n",
        "            matrix[k][y1] = matrix[k+1][y1]\n",
        "            min_value = min(min_value, matrix[k+1][y1])\n",
        "\n",
        "        # 아래\n",
        "        for k in range(y1, y2):\n",
        "            matrix[x2][k] = matrix[x2][k+1]\n",
        "            min_value = min(min_value, matrix[x2][k+1])\n",
        "\n",
        "        # 오른쪽\n",
        "        for k in range(x2, x1, -1):\n",
        "            matrix[k][y2] = matrix[k-1][y2]\n",
        "            min_value = min(min_value, matrix[k-1][y2])\n",
        "\n",
        "        # 위\n",
        "        for k in range(y2, y1+1, -1):\n",
        "            matrix[x1][k] = matrix[x1][k-1]\n",
        "            min_value = min(min_value, matrix[x1][k-1])\n",
        "\n",
        "        matrix[x1][y1+1] = first\n",
        "        return min_value\n",
        "\n",
        "    result = []\n",
        "    for x1, y1, x2, y2 in queries:\n",
        "        result.append(rotate(x1-1, y1-1, x2-1, y2-1, matrix))\n",
        "\n",
        "    return result\n",
        "\n",
        "\n",
        "\n",
        "rows = 6\n",
        "columns = 6\n",
        "queries = [[2,2,5,4],[3,3,6,6],[5,1,6,3]]\n",
        "solution(rows, columns, queries)"
      ],
      "metadata": {
        "colab": {
          "base_uri": "https://localhost:8080/"
        },
        "id": "5_4DhMMe1m5G",
        "outputId": "1e293eae-3996-420c-f7a9-e7c735dde1fd"
      },
      "execution_count": 12,
      "outputs": [
        {
          "output_type": "execute_result",
          "data": {
            "text/plain": [
              "[8, 10, 25]"
            ]
          },
          "metadata": {},
          "execution_count": 12
        }
      ]
    }
  ]
}