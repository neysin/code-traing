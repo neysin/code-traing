{
  "nbformat": 4,
  "nbformat_minor": 0,
  "metadata": {
    "colab": {
      "provenance": [],
      "authorship_tag": "ABX9TyMlnxLZfwnwtakMnQ8yvidW",
      "include_colab_link": true
    },
    "kernelspec": {
      "name": "python3",
      "display_name": "Python 3"
    },
    "language_info": {
      "name": "python"
    }
  },
  "cells": [
    {
      "cell_type": "markdown",
      "metadata": {
        "id": "view-in-github",
        "colab_type": "text"
      },
      "source": [
        "<a href=\"https://colab.research.google.com/github/neysin/code-traing/blob/main/%ED%94%84%EB%A1%9C%EA%B7%B8%EB%9E%98%EB%A8%B8%EC%8A%A4_%EC%BD%94%ED%85%8C_%EC%99%84%EC%A0%84%ED%83%90%EC%83%893_1.ipynb\" target=\"_parent\"><img src=\"https://colab.research.google.com/assets/colab-badge.svg\" alt=\"Open In Colab\"/></a>"
      ]
    },
    {
      "cell_type": "markdown",
      "source": [
        "완전탐색 - level2 \\\n",
        "소수 찾기"
      ],
      "metadata": {
        "id": "3pvXfbtXYWZv"
      }
    },
    {
      "cell_type": "code",
      "execution_count": 7,
      "metadata": {
        "colab": {
          "base_uri": "https://localhost:8080/"
        },
        "id": "c9RrILjKYUWE",
        "outputId": "8db8c18a-a8c4-47b1-a620-1503afb14b00"
      },
      "outputs": [
        {
          "output_type": "execute_result",
          "data": {
            "text/plain": [
              "2"
            ]
          },
          "metadata": {},
          "execution_count": 7
        }
      ],
      "source": [
        "def checkPrime(n): # 소수임을 체크하는 함수\n",
        "    if n < 2:\n",
        "        return False\n",
        "\n",
        "    for i in range(2, int(n ** 0.5) + 1): # 주어진 숫자의 제곱근까지 주어진 숫자의 약수인지를 체크\n",
        "        if n % i == 0:\n",
        "            return False\n",
        "    return True\n",
        "\n",
        "def solution(numbers):\n",
        "    from itertools import permutations # 순서를 고려한 순열을 만들어 주는 함수\n",
        "\n",
        "    answer = []\n",
        "    num = []\n",
        "    numbers = list(numbers)\n",
        "\n",
        "    for i in range(1, len(numbers) + 1):\n",
        "        num.append(list(permutations(numbers, i))) # permutations로 만들어진 순열은 튜플로 반환되므로 list로 변환\n",
        "\n",
        "    num = [int(''.join(y)) for x in num for y in x] # 2차원 배열로 num이 구성되어 있었으므로 평탄화\n",
        "\n",
        "    for i in num:\n",
        "        if checkPrime(i):\n",
        "            answer.append(i)\n",
        "\n",
        "    return len(set(answer)) # 순열을 만들시에 0이 맨 앞에 위치하는 순열이 만들어지므로 이러하면 중복되는 값이 생김. 따라서 set으로 제거.\n",
        "\n",
        "numbers = \"011\"\n",
        "solution(numbers)"
      ]
    }
  ]
}