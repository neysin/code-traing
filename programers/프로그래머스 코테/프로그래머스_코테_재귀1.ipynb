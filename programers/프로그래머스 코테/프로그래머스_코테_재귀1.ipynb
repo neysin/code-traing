{
  "nbformat": 4,
  "nbformat_minor": 0,
  "metadata": {
    "colab": {
      "provenance": [],
      "authorship_tag": "ABX9TyO+dAz1QJpiL/opLokZilG5",
      "include_colab_link": true
    },
    "kernelspec": {
      "name": "python3",
      "display_name": "Python 3"
    },
    "language_info": {
      "name": "python"
    }
  },
  "cells": [
    {
      "cell_type": "markdown",
      "metadata": {
        "id": "view-in-github",
        "colab_type": "text"
      },
      "source": [
        "<a href=\"https://colab.research.google.com/github/neysin/code-traing/blob/main/%ED%94%84%EB%A1%9C%EA%B7%B8%EB%9E%98%EB%A8%B8%EC%8A%A4_%EC%BD%94%ED%85%8C_%EC%9E%AC%EA%B7%801.ipynb\" target=\"_parent\"><img src=\"https://colab.research.google.com/assets/colab-badge.svg\" alt=\"Open In Colab\"/></a>"
      ]
    },
    {
      "cell_type": "markdown",
      "source": [
        "재귀 - level1 \\\n",
        "콜라츠 추측"
      ],
      "metadata": {
        "id": "iqCD9IIfm-IM"
      }
    },
    {
      "cell_type": "code",
      "execution_count": 5,
      "metadata": {
        "colab": {
          "base_uri": "https://localhost:8080/"
        },
        "id": "F2BYKGB-m2Ug",
        "outputId": "aca006cb-91e7-4ed4-eb71-6db5001d80eb"
      },
      "outputs": [
        {
          "output_type": "execute_result",
          "data": {
            "text/plain": [
              "8"
            ]
          },
          "metadata": {},
          "execution_count": 5
        }
      ],
      "source": [
        "# 재귀함수를 사용할 때는 조건을 수행할 함수를 따로 만드는 것이 좋아보임.\n",
        "def collatz(num, count):\n",
        "    if num == 1:\n",
        "        return count\n",
        "    elif count == 500:\n",
        "        return -1\n",
        "\n",
        "    if num % 2 == 0:\n",
        "        num = num // 2\n",
        "        return collatz(num, count + 1)\n",
        "    elif num % 2 != 0:\n",
        "        num = num * 3 + 1\n",
        "        return collatz(num, count + 1)\n",
        "\n",
        "def solution(num):\n",
        "    return collatz(num, 0)\n",
        "\n",
        "\n",
        "num = 6\n",
        "solution(num)"
      ]
    }
  ]
}