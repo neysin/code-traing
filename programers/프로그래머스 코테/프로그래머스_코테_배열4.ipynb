{
  "nbformat": 4,
  "nbformat_minor": 0,
  "metadata": {
    "colab": {
      "provenance": [],
      "authorship_tag": "ABX9TyPjQkE+i0OzPYBFpUW7gUlj",
      "include_colab_link": true
    },
    "kernelspec": {
      "name": "python3",
      "display_name": "Python 3"
    },
    "language_info": {
      "name": "python"
    }
  },
  "cells": [
    {
      "cell_type": "markdown",
      "metadata": {
        "id": "view-in-github",
        "colab_type": "text"
      },
      "source": [
        "<a href=\"https://colab.research.google.com/github/neysin/code-traing/blob/main/%ED%94%84%EB%A1%9C%EA%B7%B8%EB%9E%98%EB%A8%B8%EC%8A%A4_%EC%BD%94%ED%85%8C_%EB%B0%B0%EC%97%B44.ipynb\" target=\"_parent\"><img src=\"https://colab.research.google.com/assets/colab-badge.svg\" alt=\"Open In Colab\"/></a>"
      ]
    },
    {
      "cell_type": "markdown",
      "source": [
        "배열 - level2 \\\n",
        "거리두기 확인하기"
      ],
      "metadata": {
        "id": "hZ4NcLl08JOH"
      }
    },
    {
      "cell_type": "code",
      "execution_count": 3,
      "metadata": {
        "colab": {
          "base_uri": "https://localhost:8080/"
        },
        "id": "Xy8AROh375-n",
        "outputId": "c60176d3-3193-456e-ccb3-4c396a25b3b0"
      },
      "outputs": [
        {
          "output_type": "execute_result",
          "data": {
            "text/plain": [
              "[1, 0, 1, 1, 1]"
            ]
          },
          "metadata": {},
          "execution_count": 3
        }
      ],
      "source": [
        "def check(place):\n",
        "    # enumerate를 통해 행과 행의 번호를 매김\n",
        "    for idx_row, row in enumerate(place):\n",
        "        for idx_col, cell in enumerate(row):\n",
        "            # 요소가 P가 아니라면 다음 반복으로 넘김\n",
        "            if cell != 'P':\n",
        "                continue\n",
        "\n",
        "            if idx_row != 4: # 행 번호가 4가 아닐 때\n",
        "                Down = place[idx_row + 1][idx_col] # 아래 칸의 번호를 체크\n",
        "                if Down == 'P': # 아래 칸이 P라면 0 반환\n",
        "                    return 0\n",
        "\n",
        "                if idx_row < 3: # 행 번호가 3 미만일 때\n",
        "                    Down2 = place[idx_row + 2][idx_col] # 아래로 두번 내린 칸 체크\n",
        "                    if Down2 == 'P' and Down != 'X': # 아래로 두번 내린 칸이 P 이고 한번 내린 칸이 X가 아니라면 0 반환\n",
        "                        return 0\n",
        "\n",
        "                if idx_col != 4: # 열 번호가 4가 아닐 때\n",
        "                    Right = place[idx_row][idx_col + 1] # 오른쪽으로 한번 칸 체크\n",
        "                    Right_Down = place[idx_row + 1][idx_col + 1] # 오른쪽으로 한번, 아래로 한번 칸 체크\n",
        "                    if Right_Down == 'P' and (Down != 'X' or Right != 'X'):\n",
        "                    # 오른쪽으로 한번, 아래로 한번 칸이 P 이고 아래칸이 X가 아니거나 오른쪽 칸이 X가 아니면 0 반환\n",
        "                        return 0\n",
        "\n",
        "            if idx_col != 4: # 열 번호가 4가 아닐 때\n",
        "                Right = place[idx_row][idx_col + 1] # 오른쪽 칸 체크\n",
        "                if Right == 'P': # 오른쪽 칸이 P라면 0 반환\n",
        "                    return 0\n",
        "                if idx_col < 3: # 열 번호가 3 미만일 때\n",
        "                    Right2 = place[idx_row][idx_col + 2] # 오른쪽으로 두번 간 칸 체크\n",
        "                    if Right2 == 'P' and Right != 'X': # 오른쪽으로 두번 간 칸이 P이고 오른쪽 칸이 X가 아니라면 0반환\n",
        "                        return 0\n",
        "\n",
        "    return 1\n",
        "\n",
        "def solution(places): # 위 조건들을 리스트의 요소들에게 체크\n",
        "    return [check(place) for place in places]\n",
        "\n",
        "\n",
        "\n",
        "places = [[\"POOOP\", \"OXXOX\", \"OPXPX\", \"OOXOX\", \"POXXP\"], [\"POOPX\", \"OXPXP\", \"PXXXO\", \"OXXXO\", \"OOOPP\"], [\"PXOPX\", \"OXOXP\", \"OXPOX\", \"OXXOP\", \"PXPOX\"], [\"OOOXX\", \"XOOOX\", \"OOOXX\", \"OXOOX\", \"OOOOO\"], [\"PXPXP\", \"XPXPX\", \"PXPXP\", \"XPXPX\", \"PXPXP\"]]\n",
        "solution(places)"
      ]
    }
  ]
}