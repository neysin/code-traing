{
  "nbformat": 4,
  "nbformat_minor": 0,
  "metadata": {
    "colab": {
      "provenance": [],
      "authorship_tag": "ABX9TyNRffVjJJuaiJo3JHHdXPjK",
      "include_colab_link": true
    },
    "kernelspec": {
      "name": "python3",
      "display_name": "Python 3"
    },
    "language_info": {
      "name": "python"
    }
  },
  "cells": [
    {
      "cell_type": "markdown",
      "metadata": {
        "id": "view-in-github",
        "colab_type": "text"
      },
      "source": [
        "<a href=\"https://colab.research.google.com/github/neysin/code-traing/blob/main/%ED%94%84%EB%A1%9C%EA%B7%B8%EB%9E%98%EB%A8%B8%EC%8A%A4_%EC%BD%94%ED%85%8C_%EC%9D%B4%EC%A7%84%ED%83%90%EC%83%891.ipynb\" target=\"_parent\"><img src=\"https://colab.research.google.com/assets/colab-badge.svg\" alt=\"Open In Colab\"/></a>"
      ]
    },
    {
      "cell_type": "markdown",
      "source": [
        "이진 탐색 - level3 \\\n",
        "입국심사"
      ],
      "metadata": {
        "id": "JFtfaotDd-Cv"
      }
    },
    {
      "cell_type": "code",
      "execution_count": null,
      "metadata": {
        "id": "NUYo7CLud52c"
      },
      "outputs": [],
      "source": [
        "# 최대 소요 시간을 기준으로 잡기 위해 절반의 인원수로 시작하여 심사대 times에 인원수를 곱하여 더 적은 소요시간이 걸리는 결과값을 반환하려고 했음.\n",
        "# 허나 기준을 애초에 기준을 인원수로 시작한 바람에 심사대의 숫자가 늘어 났을 때의 상황을 캐치하지 못함.\n",
        "def solution(n, times):\n",
        "    start = 0\n",
        "    end = n\n",
        "    a, b = times[0], times[1]\n",
        "\n",
        "    while start < end:\n",
        "        mid = (start + end) // 2\n",
        "\n",
        "        if mid * a > mid * b:\n",
        "            return mid * a\n",
        "        elif\n",
        "\n",
        "n = 6\n",
        "times = [7, 10]"
      ]
    },
    {
      "cell_type": "code",
      "source": [
        "# 위의 코드에서 생각했던 것 처럼 최대 소요시간을 기준으로 잡아 이를 기준으로 탐색해야 한다는 관점을 맞음\n",
        "# 허나 최대 소요시간을 표현할 때 인원수를 바탕으로 표현한 것이 패착\n",
        "# 소요시간 자체를 중심적인 기준으로 생각하여 변수값을 할당하고 이를 기준으로 이진탐색을 해나가는 것이 문제를 깔끔하게 풀 수 있는 방법\n",
        "\n",
        "def solution(n, times):\n",
        "    answer = 0\n",
        "    left, right = 1, max(times) * n # 가장 적은 소요시간부터 최대 소요시간을 지정\n",
        "\n",
        "    while left <= right:\n",
        "        mid = (left + right) // 2 # 소요되는 시간의 중간값\n",
        "        people = 0\n",
        "\n",
        "        for time in times:\n",
        "            people += mid // time # 중간값의 시간으로 몇 명을 통과시킬 수 있는 지를 세는 과정\n",
        "            if people >= n: break # 요구되는 n의 숫자를 만족한다면 지금의 mid 값으로 사람들을 통과시키는데 몇 분이 걸리는지 아래 함수에서 체크\n",
        "\n",
        "        if people >= n: # 현재 정해진 mid 값으로 요구되는 사람들의 숫자를 전부 통과시킬 수 있음을 의미\n",
        "            answer = mid # 따라서 정답에 할당해준 뒤\n",
        "            right = mid - 1 # 최대 소요시간을 앞당겨줌\n",
        "\n",
        "        elif people < n: # 만약 정해진 mid 값으로 요구되는 사람들의 숫자를 전부 통과시킬 수 없으면\n",
        "            left = mid + 1 # 최소 소요시간을 더해줌\n",
        "\n",
        "        # 위 과정을 최소 소요시간이 최대 소요시간보다 커지기 전까지 반복하여 적절한 answer을 탐색함.\n",
        "\n",
        "\n",
        "n = 6\n",
        "times = [7, 10]"
      ],
      "metadata": {
        "id": "tjUB88cmg_mL"
      },
      "execution_count": null,
      "outputs": []
    }
  ]
}