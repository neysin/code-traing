{
  "nbformat": 4,
  "nbformat_minor": 0,
  "metadata": {
    "colab": {
      "provenance": [],
      "authorship_tag": "ABX9TyMK0xc0zLPq9hLAdzBcvvV6",
      "include_colab_link": true
    },
    "kernelspec": {
      "name": "python3",
      "display_name": "Python 3"
    },
    "language_info": {
      "name": "python"
    }
  },
  "cells": [
    {
      "cell_type": "markdown",
      "metadata": {
        "id": "view-in-github",
        "colab_type": "text"
      },
      "source": [
        "<a href=\"https://colab.research.google.com/github/neysin/code-traing/blob/main/%ED%94%84%EB%A1%9C%EA%B7%B8%EB%9E%98%EB%A8%B8%EC%8A%A4_%EC%BD%94%ED%85%8C_%EB%AC%B8%EC%9E%90%EC%97%B48.ipynb\" target=\"_parent\"><img src=\"https://colab.research.google.com/assets/colab-badge.svg\" alt=\"Open In Colab\"/></a>"
      ]
    },
    {
      "cell_type": "markdown",
      "source": [
        "문자열 - level1 \\\n",
        "신규 아이디 추천"
      ],
      "metadata": {
        "id": "STiQXCQiwetu"
      }
    },
    {
      "cell_type": "code",
      "execution_count": 18,
      "metadata": {
        "colab": {
          "base_uri": "https://localhost:8080/",
          "height": 35
        },
        "id": "46x8ZkXFoem8",
        "outputId": "b2257ea7-2489-4abb-a48c-8d7c1e489a60"
      },
      "outputs": [
        {
          "output_type": "execute_result",
          "data": {
            "text/plain": [
              "'abcdefghijklmn'"
            ],
            "application/vnd.google.colaboratory.intrinsic+json": {
              "type": "string"
            }
          },
          "metadata": {},
          "execution_count": 18
        }
      ],
      "source": [
        "def solution(new_id):\n",
        "    for _ in range(2): # 혹시 마지막 단계에서 위의 단계의 조건을 위배하는 결과가 발생할 수 있어 다시 한번 검토하는 느낌의 반복\n",
        "        # 1단계\n",
        "        new_id = new_id.lower()\n",
        "        # 2단계\n",
        "        l = []\n",
        "        for i in new_id:\n",
        "            if i == '-' or i == '_' or i == '.' or i.isdigit() or i.isalpha():\n",
        "                l.append(i)\n",
        "        new_id = ''.join(l)\n",
        "\n",
        "        # 3단계\n",
        "        new_id = new_id.split('.')\n",
        "        l2 = []\n",
        "        for i in new_id:\n",
        "            if i != '':\n",
        "                l2.append(i)\n",
        "        # 4단계\n",
        "        new_id = '.'.join(l2)\n",
        "\n",
        "        # 5단계\n",
        "        if new_id == '':\n",
        "            new_id = 'a'\n",
        "\n",
        "        # 6단계\n",
        "        if len(new_id) >= 16:\n",
        "            new_id = new_id[:15]\n",
        "\n",
        "        # 7단계\n",
        "        while len(new_id) < 3:\n",
        "            new_id += new_id[-1]\n",
        "\n",
        "    return new_id\n",
        "\n",
        "\n",
        "\n",
        "new_id = \"abcdefghijklmn.p\"\n",
        "solution(new_id)"
      ]
    },
    {
      "cell_type": "code",
      "source": [
        "def solution(new_id):\n",
        "    #1\n",
        "    answer = new_id.lower()\n",
        "    #2\n",
        "    filtered = []\n",
        "    for c in answer:\n",
        "        if c.isalpha() or c.isdigit() or c in ('-', '_', '.'):\n",
        "            filtered.append(c)\n",
        "    answer = ''.join(filtered)\n",
        "    #3\n",
        "    while '..' in answer:\n",
        "        answer = answer.replace('..', '.')\n",
        "    #4\n",
        "    answer = answer.strip('.') # strip함수를 사용하여 양쪽 끝에 아규먼트로 지정한 문자열을 삭제시킴. 여기서는 .\n",
        "    #5\n",
        "    if answer == '':\n",
        "        answer = 'a'\n",
        "    #6\n",
        "    if len(answer) > 15:\n",
        "        answer = answer[:15]\n",
        "    if answer[-1] == '.': # 내가 푼 위 코드에서는 혹시 이런 경우가 발생 시 다시 검토하는 느낌으로 반복문을 돌려줬다면\n",
        "    # 여기서는 이 경우만 if문을 통해 수정해주는 느낌.\n",
        "        answer = answer[:-1]\n",
        "    #7\n",
        "    while len(answer) < 3:\n",
        "        answer += answer[-1] # 문자열 더하기 비용이 높지 않으므로 이 정도는 가능\n",
        "\n",
        "    return answer\n",
        "\n",
        "\n",
        "new_id = \"abcdefghijklmn.p\"\n",
        "solution(new_id)"
      ],
      "metadata": {
        "colab": {
          "base_uri": "https://localhost:8080/",
          "height": 35
        },
        "id": "1_rmyY-rtu3L",
        "outputId": "8fc42d26-a119-46ed-cb12-3b88e5815c58"
      },
      "execution_count": 19,
      "outputs": [
        {
          "output_type": "execute_result",
          "data": {
            "text/plain": [
              "'abcdefghijklmn'"
            ],
            "application/vnd.google.colaboratory.intrinsic+json": {
              "type": "string"
            }
          },
          "metadata": {},
          "execution_count": 19
        }
      ]
    }
  ]
}