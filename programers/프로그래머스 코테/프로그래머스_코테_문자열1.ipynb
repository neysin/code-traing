{
  "nbformat": 4,
  "nbformat_minor": 0,
  "metadata": {
    "colab": {
      "provenance": [],
      "authorship_tag": "ABX9TyMDhX15xesvzDbUTdXTm5dC",
      "include_colab_link": true
    },
    "kernelspec": {
      "name": "python3",
      "display_name": "Python 3"
    },
    "language_info": {
      "name": "python"
    }
  },
  "cells": [
    {
      "cell_type": "markdown",
      "metadata": {
        "id": "view-in-github",
        "colab_type": "text"
      },
      "source": [
        "<a href=\"https://colab.research.google.com/github/neysin/code-traing/blob/main/%ED%94%84%EB%A1%9C%EA%B7%B8%EB%9E%98%EB%A8%B8%EC%8A%A4_%EC%BD%94%ED%85%8C_%EB%AC%B8%EC%9E%90%EC%97%B41.ipynb\" target=\"_parent\"><img src=\"https://colab.research.google.com/assets/colab-badge.svg\" alt=\"Open In Colab\"/></a>"
      ]
    },
    {
      "cell_type": "markdown",
      "source": [
        "배열 - level1 \\\n",
        "시저함호"
      ],
      "metadata": {
        "id": "G1ix9foxe4Hm"
      }
    },
    {
      "cell_type": "code",
      "execution_count": 6,
      "metadata": {
        "colab": {
          "base_uri": "https://localhost:8080/",
          "height": 35
        },
        "id": "sG8hvp6ddDLn",
        "outputId": "16474bfe-8187-438e-e4e9-3d609811a148"
      },
      "outputs": [
        {
          "output_type": "execute_result",
          "data": {
            "text/plain": [
              "'BC'"
            ],
            "application/vnd.google.colaboratory.intrinsic+json": {
              "type": "string"
            }
          },
          "metadata": {},
          "execution_count": 6
        }
      ],
      "source": [
        "def solution(s, n):\n",
        "    s = list(s) # 문자열의 리스트화\n",
        "    for i in range(len(s)):\n",
        "        if s[i] == ' ': # 리스트 s에 공백이 존재한다면 무시\n",
        "            continue\n",
        "        corr = ord('A') if s[i].isupper else ord('a') # 리스트 s에서 대문자라면 corr이 A의 유니코드값을, 소문자라면 a의 유니코드값을 가짐\n",
        "        s[i] = chr((ord(s[i]) - corr + n) % 26 + corr) # 리스트 s에서 선택한 문자열의 유니코드 값에서 위에서 선택한 corr 값을 빼주고\n",
        "        # 밀어줄 만큼의 숫자 n을 더함.\n",
        "        # 그리고 알파벳의 총 개수인 26으로 나누어 나머지를 통해 현재 주어진 알파벳의 위치를 파악.\n",
        "        # 그 후 corr을 더해줌으로써 유니코드로 변환이 가능하게 함.\n",
        "\n",
        "    return ''.join(s)\n",
        "\n",
        "s = \"AB\"\n",
        "n = 1\n",
        "solution(s, n)"
      ]
    }
  ]
}