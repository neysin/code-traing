{
  "nbformat": 4,
  "nbformat_minor": 0,
  "metadata": {
    "colab": {
      "provenance": [],
      "authorship_tag": "ABX9TyPB4J1El46jcv6qpDBSvWYR",
      "include_colab_link": true
    },
    "kernelspec": {
      "name": "python3",
      "display_name": "Python 3"
    },
    "language_info": {
      "name": "python"
    }
  },
  "cells": [
    {
      "cell_type": "markdown",
      "metadata": {
        "id": "view-in-github",
        "colab_type": "text"
      },
      "source": [
        "<a href=\"https://colab.research.google.com/github/neysin/code-traing/blob/main/%ED%94%84%EB%A1%9C%EA%B7%B8%EB%9E%98%EB%A8%B8%EC%8A%A4_%EC%BD%94%ED%85%8C_%EB%AC%B8%EC%9E%90%EC%97%B42.ipynb\" target=\"_parent\"><img src=\"https://colab.research.google.com/assets/colab-badge.svg\" alt=\"Open In Colab\"/></a>"
      ]
    },
    {
      "cell_type": "markdown",
      "source": [
        "문자열 - level1 \\\n",
        "이상한 문자 만들기"
      ],
      "metadata": {
        "id": "-QdG3vmP9NHu"
      }
    },
    {
      "cell_type": "code",
      "execution_count": 11,
      "metadata": {
        "colab": {
          "base_uri": "https://localhost:8080/",
          "height": 35
        },
        "id": "fk_kmkEw8sk5",
        "outputId": "de4dfc6b-a736-472d-9060-dcd5a63cdb91"
      },
      "outputs": [
        {
          "output_type": "execute_result",
          "data": {
            "text/plain": [
              "'TrY HeLlO WoRlD'"
            ],
            "application/vnd.google.colaboratory.intrinsic+json": {
              "type": "string"
            }
          },
          "metadata": {},
          "execution_count": 11
        }
      ],
      "source": [
        "# split을 통해 공백을 기준으로 문자열을 나눠 전개\n",
        "# 홀, 짝일 때를 구분하여 대소문자로 바꾸어 문자열을 새로 만들고 결과 리스트에 추가.\n",
        "# 아래 코드보다 계산할게 더 많아 속도는 더 느림.\n",
        "def solution(s):\n",
        "    list_s = s.split()\n",
        "    result = []\n",
        "    for i in list_s:\n",
        "        word = ''\n",
        "        for j in range(len(i)):\n",
        "            if j % 2 == 0:\n",
        "                word += i[j].upper()\n",
        "            else:\n",
        "                word += i[j].lower()\n",
        "        result.append(word)\n",
        "\n",
        "    return ' '.join(result)\n",
        "\n",
        "s = \"try hello world\"\n",
        "solution(s)"
      ]
    },
    {
      "cell_type": "code",
      "source": [
        "# 카운트를 세어 인덱스의 넘버를 조절함.\n",
        "# 카운트를 0부터 시작하여 1씩 증가시키며 홀, 짝을 구분.\n",
        "# 공백을 만날 시 0으로 초기화 후 다시 진행\n",
        "def solution(s):\n",
        "    s = list(s)\n",
        "    count = 0\n",
        "\n",
        "    for i in range(len(s)):\n",
        "        if s[i] == ' ':\n",
        "            count = 0\n",
        "            continue\n",
        "\n",
        "        if count % 2 == 0:\n",
        "            s[i] = s[i].upper()\n",
        "            count += 1\n",
        "        else:\n",
        "            s[i] = s[i].lower()\n",
        "            count += 1\n",
        "\n",
        "    return ''.join(s)\n",
        "\n",
        "s = \"try hello world\"\n",
        "solution(s)"
      ],
      "metadata": {
        "colab": {
          "base_uri": "https://localhost:8080/",
          "height": 35
        },
        "id": "KBvq1y9s9jez",
        "outputId": "21e129af-8131-49f9-de5c-efd35dd477f0"
      },
      "execution_count": 14,
      "outputs": [
        {
          "output_type": "execute_result",
          "data": {
            "text/plain": [
              "'TrY HeLlO WoRlD'"
            ],
            "application/vnd.google.colaboratory.intrinsic+json": {
              "type": "string"
            }
          },
          "metadata": {},
          "execution_count": 14
        }
      ]
    }
  ]
}