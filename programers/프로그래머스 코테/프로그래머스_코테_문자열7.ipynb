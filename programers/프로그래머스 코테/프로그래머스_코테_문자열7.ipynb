{
  "nbformat": 4,
  "nbformat_minor": 0,
  "metadata": {
    "colab": {
      "provenance": [],
      "authorship_tag": "ABX9TyPk6gj3MqSJx1Q7ac49srIm",
      "include_colab_link": true
    },
    "kernelspec": {
      "name": "python3",
      "display_name": "Python 3"
    },
    "language_info": {
      "name": "python"
    }
  },
  "cells": [
    {
      "cell_type": "markdown",
      "metadata": {
        "id": "view-in-github",
        "colab_type": "text"
      },
      "source": [
        "<a href=\"https://colab.research.google.com/github/neysin/code-traing/blob/main/%ED%94%84%EB%A1%9C%EA%B7%B8%EB%9E%98%EB%A8%B8%EC%8A%A4_%EC%BD%94%ED%85%8C_%EB%AC%B8%EC%9E%90%EC%97%B47.ipynb\" target=\"_parent\"><img src=\"https://colab.research.google.com/assets/colab-badge.svg\" alt=\"Open In Colab\"/></a>"
      ]
    },
    {
      "cell_type": "markdown",
      "source": [
        "문자열 - level2 \\\n",
        "이진 변환 반복하기"
      ],
      "metadata": {
        "id": "bPOtcPkPsXB1"
      }
    },
    {
      "cell_type": "code",
      "execution_count": 15,
      "metadata": {
        "colab": {
          "base_uri": "https://localhost:8080/"
        },
        "id": "QttYo7QTsUuO",
        "outputId": "a836b09f-26d2-4e3b-8ffc-d10ba50ae63f"
      },
      "outputs": [
        {
          "output_type": "execute_result",
          "data": {
            "text/plain": [
              "[3, 8]"
            ]
          },
          "metadata": {},
          "execution_count": 15
        }
      ],
      "source": [
        "def solution(s):\n",
        "    s_len = len(s)\n",
        "    rmv_zero_list = []\n",
        "    count = 0\n",
        "\n",
        "    while s_len > 1:\n",
        "        s_len = len(s)\n",
        "        new_s = s.replace('0', '')\n",
        "        new_s_len = len(new_s)\n",
        "\n",
        "        rmv_zero = s_len - new_s_len\n",
        "        rmv_zero_list.append(rmv_zero) # 여기까지 0제거 후 제거한 개수 리스트에 추가\n",
        "        count += 1\n",
        "\n",
        "        s = str(bin(new_s_len))[2:] # 0 제거 후 길이 -> 2진수로 변환\n",
        "        s_len = len(new_s)\n",
        "\n",
        "    return [count, sum(rmv_zero_list)]\n",
        "\n",
        "s = \"110010101001\"\n",
        "solution(s)"
      ]
    },
    {
      "cell_type": "code",
      "source": [
        "def solution(s):\n",
        "    a, b = 0, 0\n",
        "    while s != '1': # s가 1이 될때까지 반복\n",
        "        a += 1 # a는 반복 횟수\n",
        "        num = s.count('1') # 1을 셈으로서 0을 제거한 개수와 같은 연산\n",
        "        b += len(s) - num # 0의 개수를 계속 더해줌\n",
        "        s = bin(num)[2:]\n",
        "    return [a, b]"
      ],
      "metadata": {
        "id": "QKrpwcQRzn6p"
      },
      "execution_count": null,
      "outputs": []
    }
  ]
}