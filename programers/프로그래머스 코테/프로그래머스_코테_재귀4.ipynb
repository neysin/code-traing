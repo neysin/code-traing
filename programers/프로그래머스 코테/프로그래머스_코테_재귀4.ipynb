{
  "nbformat": 4,
  "nbformat_minor": 0,
  "metadata": {
    "colab": {
      "provenance": [],
      "authorship_tag": "ABX9TyOdAS+J22AkQmXZTjox+7Dp",
      "include_colab_link": true
    },
    "kernelspec": {
      "name": "python3",
      "display_name": "Python 3"
    },
    "language_info": {
      "name": "python"
    }
  },
  "cells": [
    {
      "cell_type": "markdown",
      "metadata": {
        "id": "view-in-github",
        "colab_type": "text"
      },
      "source": [
        "<a href=\"https://colab.research.google.com/github/neysin/code-traing/blob/main/%ED%94%84%EB%A1%9C%EA%B7%B8%EB%9E%98%EB%A8%B8%EC%8A%A4_%EC%BD%94%ED%85%8C_%EC%9E%AC%EA%B7%804.ipynb\" target=\"_parent\"><img src=\"https://colab.research.google.com/assets/colab-badge.svg\" alt=\"Open In Colab\"/></a>"
      ]
    },
    {
      "cell_type": "markdown",
      "source": [
        "재귀 - level4 \\\n",
        "호텔 방 배정"
      ],
      "metadata": {
        "id": "P_9SOOeMkytj"
      }
    },
    {
      "cell_type": "code",
      "execution_count": 3,
      "metadata": {
        "colab": {
          "base_uri": "https://localhost:8080/"
        },
        "id": "gAMFOq2Akuc9",
        "outputId": "0a4dd67c-7d26-4dd4-c679-be5ff2810c5b"
      },
      "outputs": [
        {
          "output_type": "execute_result",
          "data": {
            "text/plain": [
              "[1, 3, 4, 2, 5, 6]"
            ]
          },
          "metadata": {},
          "execution_count": 3
        }
      ],
      "source": [
        "import sys\n",
        "sys.setrecursionlimit(2000)\n",
        "\n",
        "def solution(k, room_number):\n",
        "    rooms = dict() # 딕셔너리 자료형으로 생성\n",
        "    for num in room_number: # 주어진 예약 목록을 반복\n",
        "        chk_in = find_emptyroom(num, rooms)\n",
        "    return list(rooms)\n",
        "\n",
        "def find_emptyroom(chk, rooms):\n",
        "    if chk not in rooms: # rooms 딕셔너리에 주어진 chk가 없을 때 실행\n",
        "        rooms[chk] = chk + 1 # 키값이 chk일 때 밸류는 chk + 1, chk에 체크인을 했을 경우 다음 탐색시에는 chk +1 부터 하기 위해\n",
        "        return chk\n",
        "    empty = find_emptyroom(rooms[chk], rooms) # 주어진 chk가 이미 rooms에 있을 경우 재귀형식으로 rooms에 넣어뒀던 chk+1이 들어감.\n",
        "    # 이렇게 코드를 구성함으로서 chk가 rooms에 들어있지 않는 숫자가 나올 때까지 재귀가 돌아가고 그 다음 탐색에서 사용될 시작위치인 chk +1 또한 계속 더해짐\n",
        "    rooms[chk] = empty + 1 # 재귀가 여러번 실행되었을 때를 상상해보자면 트리 형식으로 위에서 아래로 물고 내려오는 느낌의 재귀가 구성되어있을 것이다.\n",
        "    # 그렇다면 마지막 재귀가 실행되었을 때는 트리의 맨 하층에서 끝났을텐데 이 때의 부모노드들의 다음 시작위치 또한 업데이트를 해줘야 그 다음 탐색에서 똑같은 반복 작업을\n",
        "    # 하지 않을 것이다. 그렇기 때문에 반환값을 empty로 하고 rooms[chk] = empty + 1 을 해주어 모든 부모 노드들의 시작위치를 1씩 늘려나감.\n",
        "    return empty\n",
        "\n",
        "\n",
        "k = 10\n",
        "room_number = [1,3,4,1,3,1]\n",
        "solution(k, room_number)"
      ]
    },
    {
      "cell_type": "markdown",
      "source": [
        "반복문 안에 재귀를 넣어 돌리는 느낌.\\\n",
        "조건에 맞을 시 재귀를 끝내고 반복문을 통해 다음 주어진 숫자로 넘어감."
      ],
      "metadata": {
        "id": "WoRnKV_lweH_"
      }
    },
    {
      "cell_type": "code",
      "source": [
        "import sys\n",
        "sys.setrecursionlimit(2000)\n",
        "\n",
        "def solution(k, room_number):\n",
        "    rooms = dict()\n",
        "    for num in room_number:\n",
        "        chk_in = find_emptyroom(num, rooms)\n",
        "        print(f\"방 {num} 예약됨: {chk_in} 방으로 배정됨\")\n",
        "    return list(rooms)\n",
        "\n",
        "def find_emptyroom(chk, rooms):\n",
        "    if chk not in rooms:\n",
        "        rooms[chk] = chk + 1\n",
        "        return chk\n",
        "    empty = find_emptyroom(rooms[chk], rooms)\n",
        "    rooms[chk] = empty + 1\n",
        "    return empty\n",
        "\n",
        "k = 10\n",
        "room_number = [1, 3, 4, 1, 3, 1]\n",
        "print(\"최종 방 배정:\", solution(k, room_number))\n"
      ],
      "metadata": {
        "colab": {
          "base_uri": "https://localhost:8080/"
        },
        "id": "YaQhmicB1J9_",
        "outputId": "16a205b0-9599-4eb0-d04e-ad6958aef8cf"
      },
      "execution_count": 4,
      "outputs": [
        {
          "output_type": "stream",
          "name": "stdout",
          "text": [
            "방 1 예약됨: 1 방으로 배정됨\n",
            "방 3 예약됨: 3 방으로 배정됨\n",
            "방 4 예약됨: 4 방으로 배정됨\n",
            "방 1 예약됨: 2 방으로 배정됨\n",
            "방 3 예약됨: 5 방으로 배정됨\n",
            "방 1 예약됨: 6 방으로 배정됨\n",
            "최종 방 배정: [1, 3, 4, 2, 5, 6]\n"
          ]
        }
      ]
    }
  ]
}