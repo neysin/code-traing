{
  "nbformat": 4,
  "nbformat_minor": 0,
  "metadata": {
    "colab": {
      "provenance": [],
      "authorship_tag": "ABX9TyPxSTdelHsvUEn7QCmWy8we",
      "include_colab_link": true
    },
    "kernelspec": {
      "name": "python3",
      "display_name": "Python 3"
    },
    "language_info": {
      "name": "python"
    }
  },
  "cells": [
    {
      "cell_type": "markdown",
      "metadata": {
        "id": "view-in-github",
        "colab_type": "text"
      },
      "source": [
        "<a href=\"https://colab.research.google.com/github/neysin/code-traing/blob/main/%ED%94%84%EB%A1%9C%EA%B7%B8%EB%9E%98%EB%A8%B8%EC%8A%A4_%EC%BD%94%ED%85%8C_%EC%99%84%EC%A0%84%ED%83%90%EC%83%894.ipynb\" target=\"_parent\"><img src=\"https://colab.research.google.com/assets/colab-badge.svg\" alt=\"Open In Colab\"/></a>"
      ]
    },
    {
      "cell_type": "markdown",
      "source": [
        "완전탐색 - level3 \\\n",
        "불량 사용자"
      ],
      "metadata": {
        "id": "bg5iMAnzDHAD"
      }
    },
    {
      "cell_type": "code",
      "execution_count": 10,
      "metadata": {
        "colab": {
          "base_uri": "https://localhost:8080/"
        },
        "id": "rmoi5kAtDBX5",
        "outputId": "5ffe3744-300c-46c5-ece9-671c0007baac"
      },
      "outputs": [
        {
          "output_type": "execute_result",
          "data": {
            "text/plain": [
              "2"
            ]
          },
          "metadata": {},
          "execution_count": 10
        }
      ],
      "source": [
        "import re\n",
        "\n",
        "def search(idx, visit, user_id, answer, banPatterns):\n",
        "    if idx == len(banPatterns):\n",
        "        answer.add(visit)\n",
        "        return\n",
        "\n",
        "    for i in range(len(user_id)):\n",
        "        if (visit & (1 << i)) > 0 or not re.fullmatch(banPatterns[idx], user_id[i]):\n",
        "            continue\n",
        "        search(idx + 1, visit | (1 << i), user_id, answer, banPatterns)\n",
        "\n",
        "def solution(user_id, banned_id):\n",
        "    answer = set()\n",
        "    banPatterns = [x.replace('*', '.') for x in banned_id]\n",
        "    search(0, 0, user_id, answer, banPatterns)\n",
        "\n",
        "    return len(answer)\n",
        "\n",
        "user_id = [\"frodo\", \"fradi\", \"crodo\", \"abc123\", \"frodoc\"]\n",
        "banned_id = [\"fr*d*\", \"abc1**\"]\n",
        "solution(user_id, banned_id)"
      ]
    },
    {
      "cell_type": "markdown",
      "source": [
        "비트마스킹을 사용하여 배열이 아닌 방법으로 user_id에 순서를 배정하는 코드인데 이해가 잘 안됨. \\\n",
        "비트마스킹을 통해 배열의 순서를 이진법을 사용하여 비트 순서대로 01,10,100,1000 순으로 배치되는 느낌은 알겠음. 하지만 이 순서를 재귀적인 함수로 조건에 일치하는지를 체크하는 부분이 헷갈림. \\\n",
        "비트마스킹을 통해 요소의 순서를 정할 수 있다는 점은 배우고 감."
      ],
      "metadata": {
        "id": "7nFqCGttNT4B"
      }
    }
  ]
}