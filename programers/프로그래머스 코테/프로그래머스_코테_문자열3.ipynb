{
  "nbformat": 4,
  "nbformat_minor": 0,
  "metadata": {
    "colab": {
      "provenance": [],
      "authorship_tag": "ABX9TyNh8bseu/+xq7creCzQaWh9",
      "include_colab_link": true
    },
    "kernelspec": {
      "name": "python3",
      "display_name": "Python 3"
    },
    "language_info": {
      "name": "python"
    }
  },
  "cells": [
    {
      "cell_type": "markdown",
      "metadata": {
        "id": "view-in-github",
        "colab_type": "text"
      },
      "source": [
        "<a href=\"https://colab.research.google.com/github/neysin/code-traing/blob/main/%ED%94%84%EB%A1%9C%EA%B7%B8%EB%9E%98%EB%A8%B8%EC%8A%A4_%EC%BD%94%ED%85%8C_%EB%AC%B8%EC%9E%90%EC%97%B43.ipynb\" target=\"_parent\"><img src=\"https://colab.research.google.com/assets/colab-badge.svg\" alt=\"Open In Colab\"/></a>"
      ]
    },
    {
      "cell_type": "markdown",
      "source": [
        "문자열 - level2 \\\n",
        "튜플"
      ],
      "metadata": {
        "id": "kz91T_cukz7O"
      }
    },
    {
      "cell_type": "code",
      "execution_count": 21,
      "metadata": {
        "colab": {
          "base_uri": "https://localhost:8080/"
        },
        "id": "oLAcqiypkqS1",
        "outputId": "4bf53001-9c0a-48be-8380-61c80ddf590e"
      },
      "outputs": [
        {
          "output_type": "execute_result",
          "data": {
            "text/plain": [
              "[2, 1, 3, 4]"
            ]
          },
          "metadata": {},
          "execution_count": 21
        }
      ],
      "source": [
        "# 틀린 코드\n",
        "# 이 코드는 \"{{20,111},{111}}\" 와 같은 s 값을 대입 시 20, 111이 아닌 2,0,1,1,1로 인식함.\n",
        "# 문자열을 필요한 자료로 바꿀 때 조건이 잘못됬음\n",
        "def solution(s):\n",
        "    l = []\n",
        "    for i in s:\n",
        "        for j in i:\n",
        "            if j.isdigit() and j not in l:\n",
        "                l.append(int(j))\n",
        "\n",
        "    result = sorted(l, key=lambda x: l.count(x), reverse = True)\n",
        "    l2 = []\n",
        "\n",
        "    for i in result:\n",
        "        if i not in l2:\n",
        "            l2.append(i)\n",
        "\n",
        "    return l2\n",
        "\n",
        "s = \"{{2},{2,1},{2,1,3},{2,1,3,4}}\"\n",
        "solution(s)"
      ]
    },
    {
      "cell_type": "code",
      "source": [
        "def solution(s):\n",
        "    data = s[2:-2].split('},{') # 주어진 s를 },{ 를 기준으로 나눔.\n",
        "    data = sorted(data, key=lambda x: len(x)) # 나눈 s를 길이를 기준으로 오름차순으로 정렬\n",
        "\n",
        "    answer = []\n",
        "    for item in data:\n",
        "        item = list(map(int, item.split(','))) # 정렬한 data를 다시 한번 더 , 를 기준으로 나눔.\n",
        "        for value in item:\n",
        "            if value not in answer: # answer 리스트에 item에 들어있는 숫자들을 겹치지 않게 넣어줌.\n",
        "                answer.append(value)\n",
        "\n",
        "    return answer\n",
        "\n",
        "\n",
        "s = \"{{20,111},{111}}\"\n",
        "solution(s)"
      ],
      "metadata": {
        "colab": {
          "base_uri": "https://localhost:8080/"
        },
        "id": "jCE86sK-rCNi",
        "outputId": "b702704a-8613-4c64-9ec4-12694f20637a"
      },
      "execution_count": 31,
      "outputs": [
        {
          "output_type": "execute_result",
          "data": {
            "text/plain": [
              "[111, 20]"
            ]
          },
          "metadata": {},
          "execution_count": 31
        }
      ]
    },
    {
      "cell_type": "code",
      "source": [
        "# 리스트가 아닌 딕셔너리를 사용하여 배열을 검색하는 시간을 단축시킴\n",
        "# 중복검사 시간이 단축됨.\n",
        "def solution(s):\n",
        "    answer = {}\n",
        "    s = sorted(s[2:-2].split('},{'), key=len)\n",
        "    for tuples in s:\n",
        "        elements = tuples.split(',')\n",
        "        for element in elements:\n",
        "            number = int(element)\n",
        "            if number not in answer:\n",
        "                answer[number] = 1\n",
        "\n",
        "    return list(answer)\n",
        "\n",
        "s = \"{{20,111},{111}}\"\n",
        "solution(s)"
      ],
      "metadata": {
        "colab": {
          "base_uri": "https://localhost:8080/"
        },
        "id": "SzlnalTAr947",
        "outputId": "4ada451c-246d-423e-9c5c-b015f5a4c414"
      },
      "execution_count": 37,
      "outputs": [
        {
          "output_type": "execute_result",
          "data": {
            "text/plain": [
              "[111, 20]"
            ]
          },
          "metadata": {},
          "execution_count": 37
        }
      ]
    }
  ]
}