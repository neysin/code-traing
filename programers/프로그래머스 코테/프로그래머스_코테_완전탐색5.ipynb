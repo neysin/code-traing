{
  "nbformat": 4,
  "nbformat_minor": 0,
  "metadata": {
    "colab": {
      "provenance": [],
      "authorship_tag": "ABX9TyMxWsrIrVRFIMPf75IRq/1i",
      "include_colab_link": true
    },
    "kernelspec": {
      "name": "python3",
      "display_name": "Python 3"
    },
    "language_info": {
      "name": "python"
    }
  },
  "cells": [
    {
      "cell_type": "markdown",
      "metadata": {
        "id": "view-in-github",
        "colab_type": "text"
      },
      "source": [
        "<a href=\"https://colab.research.google.com/github/neysin/code-traing/blob/main/%ED%94%84%EB%A1%9C%EA%B7%B8%EB%9E%98%EB%A8%B8%EC%8A%A4_%EC%BD%94%ED%85%8C_%EC%99%84%EC%A0%84%ED%83%90%EC%83%895.ipynb\" target=\"_parent\"><img src=\"https://colab.research.google.com/assets/colab-badge.svg\" alt=\"Open In Colab\"/></a>"
      ]
    },
    {
      "cell_type": "markdown",
      "source": [
        "완전탐색 - level2 \\\n",
        "수식 최대화"
      ],
      "metadata": {
        "id": "gWWr00G-lE7D"
      }
    },
    {
      "cell_type": "code",
      "execution_count": 7,
      "metadata": {
        "colab": {
          "base_uri": "https://localhost:8080/"
        },
        "id": "eLHrOAUMlDWQ",
        "outputId": "e28f54b3-efdd-47df-89a8-5995352c3b0e"
      },
      "outputs": [
        {
          "output_type": "execute_result",
          "data": {
            "text/plain": [
              "60420"
            ]
          },
          "metadata": {},
          "execution_count": 7
        }
      ],
      "source": [
        "from itertools import permutations\n",
        "import re\n",
        "\n",
        "def toPostFix(tokens, priority):\n",
        "    stack = [] # 연산자 스택\n",
        "    postfix = [] # 문자열 리스트\n",
        "\n",
        "    for token in tokens:\n",
        "        if token.isdigit(): postfix.append(token) # 숫자라면 리스트로 추가\n",
        "        else:\n",
        "            if not stack: stack.append(token) # 숫자가 아닌데 스택이 비었으면 연산자 스택에 추가\n",
        "            else:\n",
        "                while stack: # 스택이 안비었으면\n",
        "                    if priority[token] <= priority[stack[-1]]: # 미리 정해놓은 연산자 우선순위에 따라\n",
        "                        postfix.append(stack.pop()) # 우선순위가 높은 연산자를 먼저 문자열 리스트에 추가해줌.\n",
        "                    else: break\n",
        "\n",
        "                stack.append(token) # 마지막에 남은 연산자를 추가\n",
        "\n",
        "    while stack: # 모든 식을 다 돌린 후 연산자가 남는다면\n",
        "        postfix.append(stack.pop()) # 문자열 리스트에 추가\n",
        "\n",
        "    return postfix\n",
        "\n",
        "def calc(tokens):\n",
        "    stack = []\n",
        "\n",
        "    for token in tokens:\n",
        "        if token.isdigit(): # 숫자라면\n",
        "            stack.append(int(token)) # 스택에 추가\n",
        "            continue\n",
        "\n",
        "        num1 = stack.pop() # 스택에 들어있는 숫자 두개를 지칭\n",
        "        num2 = stack.pop()\n",
        "        if token == '*': # 연산자에 맞는 계산 후 스택에 추가\n",
        "            stack.append(num2 * num1)\n",
        "        elif token == '+':\n",
        "            stack.append(num2 + num1)\n",
        "        elif token == '-':\n",
        "            stack.append(num2 - num1)\n",
        "\n",
        "    return stack.pop()\n",
        "\n",
        "def solution(expression):\n",
        "    tokens = re.split(r'([-+*/()]|\\s)', expression) # 정규표현식을 통해 문자열을 분해\n",
        "    # ['100', '-', '200', '*', '300', '-', '500', '+', '20']\n",
        "    operators = ['+', '-', '*']\n",
        "    answer = 0\n",
        "\n",
        "    for i in map(list, permutations(operators)): # 연산자를 permutations를 통해 순열로 조합\n",
        "        priority = {o: p for p, o in enumerate(list(i))} # 연산자의 우선순위를 정해줌. enumerate를 통해 연산자 마다 숫자를 딕셔너리 형태로 부여\n",
        "        postfix = toPostFix(tokens, priority)\n",
        "        answer = max(answer, abs(calc(postfix)))\n",
        "\n",
        "    return answer\n",
        "\n",
        "\n",
        "\n",
        "expression = \"100-200*300-500+20\"\n",
        "solution(expression)"
      ]
    },
    {
      "cell_type": "code",
      "source": [
        "# 어떠한 형태로 주어진 표현식이 나눠지고 연산자의 우선순위가 정해지는 지를 확인\n",
        "from itertools import permutations\n",
        "import re\n",
        "\n",
        "def solution(expression):\n",
        "    tokens = re.split(r'([-+*/()]|\\s)', expression)\n",
        "    operators = ['+', '-', '*']\n",
        "    answer = 0\n",
        "\n",
        "    for i in map(list, permutations(operators)):\n",
        "        priority = {o: p for p, o in enumerate(list(i))}\n",
        "\n",
        "    return tokens, priority\n",
        "\n",
        "\n",
        "\n",
        "expression = \"100-200*300-500+20\"\n",
        "solution(expression)"
      ],
      "metadata": {
        "colab": {
          "base_uri": "https://localhost:8080/"
        },
        "id": "AwSc3Hy9PwHq",
        "outputId": "139c427b-cc5d-428b-f93e-44bbb3a4c2ba"
      },
      "execution_count": 4,
      "outputs": [
        {
          "output_type": "execute_result",
          "data": {
            "text/plain": [
              "(['100', '-', '200', '*', '300', '-', '500', '+', '20'],\n",
              " {'*': 0, '-': 1, '+': 2})"
            ]
          },
          "metadata": {},
          "execution_count": 4
        }
      ]
    },
    {
      "cell_type": "markdown",
      "source": [
        "후위 표기법에 대한 이해도가 없다면 풀기 힘든 문제임을 깨달음. 기존에 사용하는 중위 표기법으로\\\n",
        "문제를 풀려고 한다면 스택을 사용하기 힘들어 코드의 짜임새가 더 이해하기 힘들었을 것 같음."
      ],
      "metadata": {
        "id": "cg8AIGVGU-Fu"
      }
    }
  ]
}