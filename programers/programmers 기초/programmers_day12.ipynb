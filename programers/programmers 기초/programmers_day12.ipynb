{
  "nbformat": 4,
  "nbformat_minor": 0,
  "metadata": {
    "colab": {
      "provenance": [],
      "authorship_tag": "ABX9TyMtTw9JwdSCU5me5bhue41N",
      "include_colab_link": true
    },
    "kernelspec": {
      "name": "python3",
      "display_name": "Python 3"
    },
    "language_info": {
      "name": "python"
    }
  },
  "cells": [
    {
      "cell_type": "markdown",
      "metadata": {
        "id": "view-in-github",
        "colab_type": "text"
      },
      "source": [
        "<a href=\"https://colab.research.google.com/github/neysin/orm/blob/main/programmers_day12.ipynb\" target=\"_parent\"><img src=\"https://colab.research.google.com/assets/colab-badge.svg\" alt=\"Open In Colab\"/></a>"
      ]
    },
    {
      "cell_type": "code",
      "execution_count": 3,
      "metadata": {
        "colab": {
          "base_uri": "https://localhost:8080/"
        },
        "id": "pFhcI9-rHReq",
        "outputId": "8d2d0fba-4fb9-4ede-d376-8dbf10999808"
      },
      "outputs": [
        {
          "output_type": "execute_result",
          "data": {
            "text/plain": [
              "[2, 3, 4, 5, 6]"
            ]
          },
          "metadata": {},
          "execution_count": 3
        }
      ],
      "source": [
        "# 리스트 자르기\n",
        "def solution(n, slicer, num_list):\n",
        "    a, b, c = slicer\n",
        "    if n == 1:\n",
        "        return num_list[:b+1]\n",
        "    elif n == 2:\n",
        "        return num_list[a:]\n",
        "    elif n == 3:\n",
        "        return num_list[a:b+1]\n",
        "    elif n == 4:\n",
        "        return num_list[a:b+1:c]\n",
        "\n",
        "n = 3\n",
        "slicer = [1, 5, 2]\n",
        "num_list = [1, 2, 3, 4, 5, 6, 7, 8, 9]\n",
        "solution(n, slicer, num_list)"
      ]
    },
    {
      "cell_type": "markdown",
      "source": [
        "첫 번째로 나오는 음수"
      ],
      "metadata": {
        "id": "qdjPaZxooGRH"
      }
    },
    {
      "cell_type": "code",
      "source": [
        "# 첫 번째로 나오는 음수\n",
        "def solution(num_list):\n",
        "    minus_list = []\n",
        "    for i in num_list:\n",
        "        if i < 0:\n",
        "            minus_list.append(i)\n",
        "    try:\n",
        "        return num_list.index(minus_list[0])\n",
        "    except:\n",
        "        return -1\n",
        "\n",
        "num_list = [12, 4, 15, 46, 38, -2, 15]\n",
        "solution(num_list)"
      ],
      "metadata": {
        "colab": {
          "base_uri": "https://localhost:8080/"
        },
        "id": "HC5RmaaTk8XM",
        "outputId": "145c8e8e-096b-4880-a434-21c8f1d7c646"
      },
      "execution_count": 12,
      "outputs": [
        {
          "output_type": "execute_result",
          "data": {
            "text/plain": [
              "5"
            ]
          },
          "metadata": {},
          "execution_count": 12
        }
      ]
    },
    {
      "cell_type": "code",
      "source": [
        "# 간단하게 풀 수 있는 방법을 생각해야 함.\n",
        "# range로 길이를 활용하여 인덱싱하는 법\n",
        "def solution(num_list):\n",
        "    for i in range(len(num_list)):\n",
        "        if num_list[i]<0:return i\n",
        "    return -1"
      ],
      "metadata": {
        "id": "gP6nvsgrmWa8"
      },
      "execution_count": null,
      "outputs": []
    },
    {
      "cell_type": "code",
      "source": [
        "# 배열 만들기 3\n",
        "def solution(arr, intervals):\n",
        "    a, b = intervals\n",
        "    return arr[a[0]:a[1]+1] + arr[b[0]:b[1]+1]\n",
        "\n",
        "arr = [1, 2, 3, 4, 5]\n",
        "intervals = [[1, 3], [0, 4]]\n",
        "solution(arr, intervals)"
      ],
      "metadata": {
        "colab": {
          "base_uri": "https://localhost:8080/"
        },
        "id": "MYsNVWdYoIa4",
        "outputId": "8ea6447f-9408-4d6d-e91a-66057f5fb3c7"
      },
      "execution_count": 16,
      "outputs": [
        {
          "output_type": "execute_result",
          "data": {
            "text/plain": [
              "[2, 3, 4, 1, 2, 3, 4, 5]"
            ]
          },
          "metadata": {},
          "execution_count": 16
        }
      ]
    },
    {
      "cell_type": "code",
      "source": [
        "# 2의 영역\n",
        "def solution(arr):\n",
        "    if 2 not in arr:\n",
        "        return [-1]\n",
        "    return arr[arr.index(2): len(arr) - arr[::-1].index(2)]\n",
        "arr = [1, 2, 1, 4, 5, 2, 9]\n",
        "solution(arr)"
      ],
      "metadata": {
        "colab": {
          "base_uri": "https://localhost:8080/"
        },
        "id": "ElvO-EBgoJj8",
        "outputId": "24924ce9-7eac-4eaf-8ba7-ec9e5b0b73aa"
      },
      "execution_count": 22,
      "outputs": [
        {
          "output_type": "execute_result",
          "data": {
            "text/plain": [
              "[2, 1, 4, 5, 2]"
            ]
          },
          "metadata": {},
          "execution_count": 22
        }
      ]
    },
    {
      "cell_type": "code",
      "source": [
        "# 배열 조각하기\n",
        "def solution(arr, query):\n",
        "    for i in range(len(query)):\n",
        "        if i % 2 == 0:\n",
        "            arr = arr[:query[i]+1]\n",
        "        else:\n",
        "            arr = arr[query[i]:]\n",
        "    return arr\n",
        "\n",
        "arr = [0, 1, 2, 3, 4, 5]\n",
        "query = [4, 1, 2]\n",
        "solution(arr, query)"
      ],
      "metadata": {
        "colab": {
          "base_uri": "https://localhost:8080/"
        },
        "id": "zUTMhJWrpZqr",
        "outputId": "8bbdfdb9-f472-4dde-ea1e-a96e868cb2e8"
      },
      "execution_count": 24,
      "outputs": [
        {
          "output_type": "execute_result",
          "data": {
            "text/plain": [
              "[1, 2, 3]"
            ]
          },
          "metadata": {},
          "execution_count": 24
        }
      ]
    },
    {
      "cell_type": "code",
      "source": [],
      "metadata": {
        "id": "upjiphAHty4C"
      },
      "execution_count": null,
      "outputs": []
    }
  ]
}