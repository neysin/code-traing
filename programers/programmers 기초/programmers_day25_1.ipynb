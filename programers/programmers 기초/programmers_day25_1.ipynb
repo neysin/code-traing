{
  "nbformat": 4,
  "nbformat_minor": 0,
  "metadata": {
    "colab": {
      "provenance": [],
      "authorship_tag": "ABX9TyNT9JG91ln/GU5kvR3cE4ie",
      "include_colab_link": true
    },
    "kernelspec": {
      "name": "python3",
      "display_name": "Python 3"
    },
    "language_info": {
      "name": "python"
    }
  },
  "cells": [
    {
      "cell_type": "markdown",
      "metadata": {
        "id": "view-in-github",
        "colab_type": "text"
      },
      "source": [
        "<a href=\"https://colab.research.google.com/github/neysin/orm/blob/main/programmers_day24.ipynb\" target=\"_parent\"><img src=\"https://colab.research.google.com/assets/colab-badge.svg\" alt=\"Open In Colab\"/></a>"
      ]
    },
    {
      "cell_type": "code",
      "execution_count": 2,
      "metadata": {
        "colab": {
          "base_uri": "https://localhost:8080/"
        },
        "id": "Or09ubnTqAsj",
        "outputId": "5cc8e93c-3503-407e-a37b-42ad0a01eb89"
      },
      "outputs": [
        {
          "output_type": "execute_result",
          "data": {
            "text/plain": [
              "[[1, 2, 3, 4], [12, 13, 14, 5], [11, 16, 15, 6], [10, 9, 8, 7]]"
            ]
          },
          "metadata": {},
          "execution_count": 2
        }
      ],
      "source": [
        "# 정수를 나선형으로 배치하기\n",
        "def solution(n):\n",
        "    arr = [[0]*n for _ in range(n)]\n",
        "    top, bottom, left, right = 0, n-1, 0, n-1\n",
        "    num = 1\n",
        "\n",
        "    while top <= bottom and left <= right: # top = 0, left = 0\n",
        "    # 0행\n",
        "        for i in range(left, right +1): # left = 0, right =3, range = 0,1,2,3\n",
        "            arr[top][i] = num # top = 0, i = 0,1,2,3, num =1\n",
        "            num += 1\n",
        "        top += 1\n",
        "\n",
        "        for i in range(top, bottom +1): # top = 1, bottom = 3 range = 1,2,3\n",
        "            arr[i][right] = num # i = 1,2,3 right = 3\n",
        "            num += 1\n",
        "        right -= 1\n",
        "\n",
        "        for i in range(right, left-1, -1): # right = 2, left = 0, range = 2,1,0\n",
        "            arr[bottom][i] = num\n",
        "            num += 1\n",
        "        bottom -= 1\n",
        "\n",
        "        for i in range(bottom, top-1, -1): # bottom = 2, top = 1, range = 2,1\n",
        "            arr[i][left] = num\n",
        "            num += 1\n",
        "        left += 1\n",
        "\n",
        "    return arr\n",
        "\n",
        "\n",
        "n = 4\n",
        "solution(n)\n"
      ]
    },
    {
      "cell_type": "code",
      "source": [
        "# 특별한 이차원 배열 2\n",
        "def solution(arr):\n",
        "    l = []\n",
        "    for i in range(len(arr)): # i = 0,1,2\n",
        "        for j in range(len(arr)): # j = 0,1,2\n",
        "            if arr[i][j] == arr[j][i]:\n",
        "                l.append(True)\n",
        "\n",
        "    if l.count(True) == len(arr)**2:\n",
        "        return 1\n",
        "    else:\n",
        "        return 0\n",
        "\n",
        "\n",
        "\n",
        "arr = [[5, 192, 33], [192, 72, 95], [33, 95, 999]]\n",
        "solution(arr)"
      ],
      "metadata": {
        "colab": {
          "base_uri": "https://localhost:8080/"
        },
        "id": "B7vfQKDj_3Fw",
        "outputId": "704f7f60-a990-4d88-a375-2a4bc939a1b3"
      },
      "execution_count": 4,
      "outputs": [
        {
          "output_type": "execute_result",
          "data": {
            "text/plain": [
              "1"
            ]
          },
          "metadata": {},
          "execution_count": 4
        }
      ]
    }
  ]
}