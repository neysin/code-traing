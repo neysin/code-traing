{
  "nbformat": 4,
  "nbformat_minor": 0,
  "metadata": {
    "colab": {
      "provenance": [],
      "authorship_tag": "ABX9TyMQXCe98QovWdoJ1V+c3I4x",
      "include_colab_link": true
    },
    "kernelspec": {
      "name": "python3",
      "display_name": "Python 3"
    },
    "language_info": {
      "name": "python"
    }
  },
  "cells": [
    {
      "cell_type": "markdown",
      "metadata": {
        "id": "view-in-github",
        "colab_type": "text"
      },
      "source": [
        "<a href=\"https://colab.research.google.com/github/neysin/orm/blob/main/programmers_day25_2.ipynb\" target=\"_parent\"><img src=\"https://colab.research.google.com/assets/colab-badge.svg\" alt=\"Open In Colab\"/></a>"
      ]
    },
    {
      "cell_type": "code",
      "execution_count": null,
      "metadata": {
        "colab": {
          "base_uri": "https://localhost:8080/"
        },
        "id": "KrpDrIYevmJW",
        "outputId": "564085d3-24cd-44fa-fcfe-de23aca4d4c8"
      },
      "outputs": [
        {
          "output_type": "execute_result",
          "data": {
            "text/plain": [
              "[[572, 22, 37, 0], [287, 726, 384, 0], [85, 137, 292, 0], [487, 13, 876, 0]]"
            ]
          },
          "metadata": {},
          "execution_count": 2
        }
      ],
      "source": [
        "# 정사각형으로 만들기\n",
        "def solution(arr):\n",
        "    row_len = len(arr)\n",
        "    col_len = len(arr[0])\n",
        "    result = []\n",
        "\n",
        "    if row_len > col_len:\n",
        "        for i in arr:\n",
        "            result.append(i + [0] * (row_len - col_len))\n",
        "\n",
        "    elif col_len > row_len:\n",
        "            for _ in range(col_len - row_len):\n",
        "                arr.append([0]* col_len)\n",
        "                result = arr\n",
        "\n",
        "    else:\n",
        "        return arr\n",
        "\n",
        "    return result\n",
        "\n",
        "arr = [[572, 22, 37], [287, 726, 384], [85, 137, 292], [487, 13, 876]]\n",
        "solution(arr)"
      ]
    },
    {
      "cell_type": "code",
      "source": [
        "# 이차원 배열 대각선 순회하기\n",
        "def solution(board, k):\n",
        "    row_len = len(board)\n",
        "    col_len = len(board[0])\n",
        "    l = []\n",
        "\n",
        "    for i in range(row_len):\n",
        "        for j in range(col_len):\n",
        "            if i + j <= k:\n",
        "                l.append(board[i][j])\n",
        "\n",
        "    return sum(l)\n",
        "\n",
        "board = [[0, 1, 2],[1, 2, 3],[2, 3, 4],[3, 4, 5]]\n",
        "k = 2\n",
        "solution(board, k)"
      ],
      "metadata": {
        "id": "D2-X7j8h0-o4",
        "colab": {
          "base_uri": "https://localhost:8080/"
        },
        "outputId": "f634f194-13bc-45af-a375-2342e7d1b624"
      },
      "execution_count": 2,
      "outputs": [
        {
          "output_type": "execute_result",
          "data": {
            "text/plain": [
              "8"
            ]
          },
          "metadata": {},
          "execution_count": 2
        }
      ]
    }
  ]
}