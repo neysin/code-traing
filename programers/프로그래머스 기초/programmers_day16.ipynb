{
  "nbformat": 4,
  "nbformat_minor": 0,
  "metadata": {
    "colab": {
      "provenance": [],
      "authorship_tag": "ABX9TyOJO6uf6XdQgH3KglWdPShl",
      "include_colab_link": true
    },
    "kernelspec": {
      "name": "python3",
      "display_name": "Python 3"
    },
    "language_info": {
      "name": "python"
    }
  },
  "cells": [
    {
      "cell_type": "markdown",
      "metadata": {
        "id": "view-in-github",
        "colab_type": "text"
      },
      "source": [
        "<a href=\"https://colab.research.google.com/github/neysin/orm/blob/main/programmers_day16.ipynb\" target=\"_parent\"><img src=\"https://colab.research.google.com/assets/colab-badge.svg\" alt=\"Open In Colab\"/></a>"
      ]
    },
    {
      "cell_type": "code",
      "execution_count": 1,
      "metadata": {
        "colab": {
          "base_uri": "https://localhost:8080/",
          "height": 36
        },
        "id": "xNbCFFeprLSP",
        "outputId": "d0867c50-e796-43ae-88df-554e8d7c93cb"
      },
      "outputs": [
        {
          "output_type": "execute_result",
          "data": {
            "text/plain": [
              "'ABCDEFG'"
            ],
            "application/vnd.google.colaboratory.intrinsic+json": {
              "type": "string"
            }
          },
          "metadata": {},
          "execution_count": 1
        }
      ],
      "source": [
        "# 대문자로 바꾸기\n",
        "def solution(myString):\n",
        "    return myString.upper()\n",
        "\n",
        "myString = \"aBcDeFg\"\n",
        "solution(myString)"
      ]
    },
    {
      "cell_type": "code",
      "source": [
        "# 소문자로 바꾸기\n",
        "def solution(myString):\n",
        "    return myString.lower()\n",
        "\n",
        "myString =\"aBcDeFg\"\n",
        "solution(myString)"
      ],
      "metadata": {
        "colab": {
          "base_uri": "https://localhost:8080/",
          "height": 36
        },
        "id": "hqozRDM7rb1W",
        "outputId": "0d36ee61-9734-4733-ce03-0df1bc95645e"
      },
      "execution_count": 2,
      "outputs": [
        {
          "output_type": "execute_result",
          "data": {
            "text/plain": [
              "'abcdefg'"
            ],
            "application/vnd.google.colaboratory.intrinsic+json": {
              "type": "string"
            }
          },
          "metadata": {},
          "execution_count": 2
        }
      ]
    },
    {
      "cell_type": "markdown",
      "source": [
        "배열에서 문자열 대소문자 변환하기"
      ],
      "metadata": {
        "id": "dL_3oAVo-wzN"
      }
    },
    {
      "cell_type": "code",
      "source": [
        "# 배열에서 문자열 대소문자 변환하기\n",
        "def solution(strArr):\n",
        "    l = []\n",
        "    for i in range(len(strArr)):\n",
        "        if i % 2 == 0:\n",
        "            l.append(strArr[i].lower())\n",
        "        else:\n",
        "            l.append(strArr[i].upper())\n",
        "\n",
        "    return l\n",
        "\n",
        "\n",
        "strArr = [\"AAA\",\"BBB\",\"CCC\",\"DDD\"]\n",
        "solution(strArr)"
      ],
      "metadata": {
        "colab": {
          "base_uri": "https://localhost:8080/"
        },
        "id": "uORAFBryrwNQ",
        "outputId": "c8ffd905-9a68-4a77-b38f-0910580ba48e"
      },
      "execution_count": 4,
      "outputs": [
        {
          "output_type": "execute_result",
          "data": {
            "text/plain": [
              "['aaa', 'BBB', 'ccc', 'DDD']"
            ]
          },
          "metadata": {},
          "execution_count": 4
        }
      ]
    },
    {
      "cell_type": "code",
      "source": [
        "# 복잡하게 range를 잡지 않고 enumerate를 사용해 순서를 메겨 짝수, 홀수를 판별\n",
        "def solution(strArr):\n",
        "    return [s.lower() if i % 2 == 0 else s.upper() for i, s in enumerate(strArr)]"
      ],
      "metadata": {
        "id": "rT2H87Zl-TNd"
      },
      "execution_count": null,
      "outputs": []
    },
    {
      "cell_type": "code",
      "source": [
        "# A 강조하기\n",
        "def solution(myString):\n",
        "    return myString.lower().replace('a', 'A')\n",
        "\n",
        "myString = \"abstract algebra\"\n",
        "solution(myString)"
      ],
      "metadata": {
        "colab": {
          "base_uri": "https://localhost:8080/",
          "height": 36
        },
        "id": "TK3agLti-zLT",
        "outputId": "56ab5ecf-e4aa-4172-f7f5-7092b1aa233d"
      },
      "execution_count": 6,
      "outputs": [
        {
          "output_type": "execute_result",
          "data": {
            "text/plain": [
              "'AbstrAct AlgebrA'"
            ],
            "application/vnd.google.colaboratory.intrinsic+json": {
              "type": "string"
            }
          },
          "metadata": {},
          "execution_count": 6
        }
      ]
    },
    {
      "cell_type": "code",
      "source": [
        "# 특정한 문자를 대문자로 바꾸기\n",
        "def solution(my_string, alp):\n",
        "    if alp in my_string:\n",
        "        return my_string.replace(alp, alp.upper())\n",
        "    else:\n",
        "        return my_string\n",
        "\n",
        "my_string = \"programmers\"\n",
        "alp = \"p\"\n",
        "\n",
        "solution(my_string, alp)"
      ],
      "metadata": {
        "colab": {
          "base_uri": "https://localhost:8080/",
          "height": 36
        },
        "id": "A8ETP3GEPn1p",
        "outputId": "3677c62e-d995-490e-9107-003d2fdcf78f"
      },
      "execution_count": 3,
      "outputs": [
        {
          "output_type": "execute_result",
          "data": {
            "text/plain": [
              "'Programmers'"
            ],
            "application/vnd.google.colaboratory.intrinsic+json": {
              "type": "string"
            }
          },
          "metadata": {},
          "execution_count": 3
        }
      ]
    }
  ]
}