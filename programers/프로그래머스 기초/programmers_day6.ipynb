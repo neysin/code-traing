{
  "nbformat": 4,
  "nbformat_minor": 0,
  "metadata": {
    "colab": {
      "provenance": [],
      "authorship_tag": "ABX9TyMzTf0eZbya7cw+nJy94Z/I",
      "include_colab_link": true
    },
    "kernelspec": {
      "name": "python3",
      "display_name": "Python 3"
    },
    "language_info": {
      "name": "python"
    }
  },
  "cells": [
    {
      "cell_type": "markdown",
      "metadata": {
        "id": "view-in-github",
        "colab_type": "text"
      },
      "source": [
        "<a href=\"https://colab.research.google.com/github/neysin/orm/blob/main/programers_day6.ipynb\" target=\"_parent\"><img src=\"https://colab.research.google.com/assets/colab-badge.svg\" alt=\"Open In Colab\"/></a>"
      ]
    },
    {
      "cell_type": "code",
      "execution_count": 1,
      "metadata": {
        "colab": {
          "base_uri": "https://localhost:8080/"
        },
        "id": "99T98Q-P94w7",
        "outputId": "122e316d-fd9e-4e25-fad0-4d3d79ec5bda"
      },
      "outputs": [
        {
          "output_type": "execute_result",
          "data": {
            "text/plain": [
              "[2, 1, 6, 5]"
            ]
          },
          "metadata": {},
          "execution_count": 1
        }
      ],
      "source": [
        "# 마지막 두 원소\n",
        "\n",
        "def solution(num_list):\n",
        "    if num_list[-1] > num_list[-2]:\n",
        "        num_list.append(num_list[-1] - num_list[-2])\n",
        "    else:\n",
        "        num_list.append(num_list[-1] * 2)\n",
        "\n",
        "    return num_list\n",
        "\n",
        "num_list = [2, 1, 6]\n",
        "solution(num_list)"
      ]
    },
    {
      "cell_type": "code",
      "source": [
        "# 수 조작하기 1\n",
        "\n",
        "def solution(n, control):\n",
        "    for i in control:\n",
        "        if i == 'w':\n",
        "            n += 1\n",
        "        elif i == 's':\n",
        "            n -= 1\n",
        "        elif i == 'd':\n",
        "            n += 10\n",
        "        elif i == 'a':\n",
        "            n -= 10\n",
        "\n",
        "    return n\n",
        "\n",
        "n = 0\n",
        "control = \"wsdawsdassw\"\n",
        "solution(n, control)"
      ],
      "metadata": {
        "colab": {
          "base_uri": "https://localhost:8080/"
        },
        "id": "9nsqk5gb-yQE",
        "outputId": "5168aa2e-5f75-431e-9c63-6a17981acce8"
      },
      "execution_count": 2,
      "outputs": [
        {
          "output_type": "execute_result",
          "data": {
            "text/plain": [
              "-1"
            ]
          },
          "metadata": {},
          "execution_count": 2
        }
      ]
    },
    {
      "cell_type": "code",
      "source": [
        "# 수 조작하기 2\n",
        "def solution(numLog):\n",
        "    n =''\n",
        "    for i in range(1, len(numLog)):\n",
        "        if numLog[i] - numLog[i-1] == 1:\n",
        "            n += 'w'\n",
        "        elif numLog[i] - numLog[i-1] == -1:\n",
        "            n += 's'\n",
        "        elif numLog[i] - numLog[i-1] == 10:\n",
        "            n += 'd'\n",
        "        elif numLog[i] - numLog[i-1] == -10:\n",
        "            n += 'a'\n",
        "\n",
        "    return n\n",
        "\n",
        "numLog = [0, 1, 0, 10, 0, 1, 0, 10, 0, -1, -2, -1]\n",
        "solution(numLog)"
      ],
      "metadata": {
        "colab": {
          "base_uri": "https://localhost:8080/",
          "height": 36
        },
        "id": "jye8Fcu4_-mA",
        "outputId": "feab3df4-8b42-470b-f413-1f8e3325f635"
      },
      "execution_count": 4,
      "outputs": [
        {
          "output_type": "execute_result",
          "data": {
            "text/plain": [
              "'wsdawsdassw'"
            ],
            "application/vnd.google.colaboratory.intrinsic+json": {
              "type": "string"
            }
          },
          "metadata": {},
          "execution_count": 4
        }
      ]
    },
    {
      "cell_type": "code",
      "source": [
        "# 수열과 구간 쿼리 3\n",
        "\n",
        "def solution(arr, queries):\n",
        "    for query in queries:\n",
        "        i, j = query\n",
        "\n",
        "        a = arr[i]\n",
        "        b = arr[j]\n",
        "        arr[i] = b\n",
        "        arr[j] = a\n",
        "\n",
        "    return arr\n",
        "\n",
        "arr = [0, 1, 2, 3, 4]\n",
        "queries = [[0, 3],[1, 2],[1, 4]]\n",
        "solution(arr, queries)"
      ],
      "metadata": {
        "colab": {
          "base_uri": "https://localhost:8080/"
        },
        "id": "FIUnjgwNCgyb",
        "outputId": "9744643b-9285-4b33-a284-ed444de0429d"
      },
      "execution_count": 7,
      "outputs": [
        {
          "output_type": "execute_result",
          "data": {
            "text/plain": [
              "[3, 4, 1, 0, 2]"
            ]
          },
          "metadata": {},
          "execution_count": 7
        }
      ]
    },
    {
      "cell_type": "code",
      "source": [
        "# 수열과 구간 쿼리 2\n",
        "\n",
        "def solution(arr, queries):\n",
        "    l2 = []\n",
        "    for s, e, k in queries:\n",
        "        new_arr = arr[s:e+1]\n",
        "        l = []\n",
        "        for i in new_arr:\n",
        "            if k < i:\n",
        "                l.append(i)\n",
        "\n",
        "        if l == []:\n",
        "            l.append(-1)\n",
        "\n",
        "        l2.append(min(l))\n",
        "\n",
        "    return l2\n",
        "\n",
        "arr = [0, 1, 2, 4, 3, 7, 8, 9]\n",
        "queries = [[0, 7, 2],[0, 5, 2],[0, 2, 2]]\n",
        "solution(arr, queries)"
      ],
      "metadata": {
        "colab": {
          "base_uri": "https://localhost:8080/"
        },
        "id": "Yav0Z-yXEI7f",
        "outputId": "ff5d53d6-eea4-4802-f180-6e8465da7d89"
      },
      "execution_count": 21,
      "outputs": [
        {
          "output_type": "execute_result",
          "data": {
            "text/plain": [
              "[3, 3, -1]"
            ]
          },
          "metadata": {},
          "execution_count": 21
        }
      ]
    }
  ]
}