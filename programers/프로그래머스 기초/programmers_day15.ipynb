{
  "nbformat": 4,
  "nbformat_minor": 0,
  "metadata": {
    "colab": {
      "provenance": [],
      "authorship_tag": "ABX9TyPiSAtQFu5A5Ld4gpKeNns4",
      "include_colab_link": true
    },
    "kernelspec": {
      "name": "python3",
      "display_name": "Python 3"
    },
    "language_info": {
      "name": "python"
    }
  },
  "cells": [
    {
      "cell_type": "markdown",
      "metadata": {
        "id": "view-in-github",
        "colab_type": "text"
      },
      "source": [
        "<a href=\"https://colab.research.google.com/github/neysin/orm/blob/main/programmers_day15.ipynb\" target=\"_parent\"><img src=\"https://colab.research.google.com/assets/colab-badge.svg\" alt=\"Open In Colab\"/></a>"
      ]
    },
    {
      "cell_type": "code",
      "execution_count": null,
      "metadata": {
        "id": "9FQtQTr6rSaC"
      },
      "outputs": [],
      "source": [
        "# 조건에 맞게 수열 변환하기 1\n",
        "def solution(arr):\n",
        "    l =[]\n",
        "    for i in arr:\n",
        "        if i % 2 ==0:\n",
        "            if i >= 50:\n",
        "                l.append(int(i/2))\n",
        "            else:\n",
        "                l.append(i)\n",
        "        else:\n",
        "            if i < 50:\n",
        "                l.append(i*2)\n",
        "            else:\n",
        "                l.append(i)\n",
        "    return l\n",
        "\n",
        "arr = [1, 2, 3, 100, 99, 98]\n",
        "solution(arr)"
      ]
    },
    {
      "cell_type": "code",
      "source": [
        "# 조건에 맞게 수열 변환하기 2\n",
        "def solution(arr):\n",
        "    a = 0\n",
        "    while True:\n",
        "        l = []\n",
        "        for i in arr:\n",
        "            if i % 2 == 0 and i >= 50:\n",
        "                l.append(int(i/2))\n",
        "            elif i % 2 != 0 and i < 50:\n",
        "                l.append(i*2 + 1)\n",
        "            else:\n",
        "                l.append(i)\n",
        "\n",
        "        if arr == l:\n",
        "            return a\n",
        "        else:\n",
        "            a += 1\n",
        "            arr = l\n",
        "\n",
        "    return a\n",
        "\n",
        "arr = [1, 2, 3, 100, 99, 98]\n",
        "solution(arr)"
      ],
      "metadata": {
        "colab": {
          "base_uri": "https://localhost:8080/"
        },
        "id": "B6fMpWPir3R9",
        "outputId": "9fa53a0b-1694-4d2a-ceaf-ed298db7497f"
      },
      "execution_count": 10,
      "outputs": [
        {
          "output_type": "execute_result",
          "data": {
            "text/plain": [
              "5"
            ]
          },
          "metadata": {},
          "execution_count": 10
        }
      ]
    },
    {
      "cell_type": "markdown",
      "source": [
        "1로 만들기"
      ],
      "metadata": {
        "id": "UFGtsqb64z7h"
      }
    },
    {
      "cell_type": "code",
      "source": [
        "# 1로 만들기\n",
        "def solution(num_list):\n",
        "    answer = 0\n",
        "    for i in num_list:\n",
        "        count = 0\n",
        "        while i != 1:\n",
        "            count += 1\n",
        "            if i % 2 == 0:\n",
        "                i = i / 2\n",
        "            else:\n",
        "                i = (i-1) / 2\n",
        "        answer += count\n",
        "\n",
        "    return answer\n",
        "\n",
        "\n",
        "\n",
        "\n",
        "num_list = [12, 4, 15, 1, 14]\n",
        "solution(num_list)"
      ],
      "metadata": {
        "colab": {
          "base_uri": "https://localhost:8080/"
        },
        "id": "O-Ydda-Is_tN",
        "outputId": "13d88c9c-4da3-4464-ba5d-409b10e9e000"
      },
      "execution_count": 12,
      "outputs": [
        {
          "output_type": "execute_result",
          "data": {
            "text/plain": [
              "11"
            ]
          },
          "metadata": {},
          "execution_count": 12
        }
      ]
    },
    {
      "cell_type": "code",
      "source": [
        "# 예를 들어 i=12 일때, bin(i) 를 하면 '0b1100' 이 됩니다.\n",
        "# 여기서 우리는 마지막으로 남겨야 하는 1; 즉 2^0인 맨끝의 '0'과\n",
        "# 이진수를 나타내는 앞의 '0b' 총 길이 3을 제외한 나머지 숫자들인 \"110\" 을\n",
        "# 없애는 것이 목표값이 되는데, 이는 각 자리마다 2를 나누는 횟수기 때문에\n",
        "# \"110\"의 길이인 3이 됩니다. 홀 수 일 때는 어차피 -1을 해서 짝수로 만들기 때문에\n",
        "# 가능합니다.\n",
        "def solution(num_list):\n",
        "    return sum(len(bin(i)) - 3 for i in num_list)"
      ],
      "metadata": {
        "id": "kLDyqNRc1Gxg"
      },
      "execution_count": null,
      "outputs": []
    },
    {
      "cell_type": "code",
      "source": [
        "def solution(num_list):\n",
        "    if len(num_list) >= 11:\n",
        "        return sum(num_list)\n",
        "    else:\n",
        "        a = 1\n",
        "        for i in num_list:\n",
        "            a *= i\n",
        "        return a\n",
        "\n",
        "\n",
        "num_list = [3, 4, 5, 2, 5, 4, 6, 7, 3, 7, 2, 2, 1]\n",
        "solution(num_list)"
      ],
      "metadata": {
        "colab": {
          "base_uri": "https://localhost:8080/"
        },
        "id": "MHb_96bY43mL",
        "outputId": "9c5040f6-9664-44ad-9de7-8eacc88b8201"
      },
      "execution_count": 14,
      "outputs": [
        {
          "output_type": "execute_result",
          "data": {
            "text/plain": [
              "51"
            ]
          },
          "metadata": {},
          "execution_count": 14
        }
      ]
    },
    {
      "cell_type": "code",
      "source": [
        "# prod는 순회가능한 객체들의 모든 곱을 구해주는 함수.\n",
        "from math import prod\n",
        "\n",
        "def solution(num_list):\n",
        "    return sum(num_list) if len(num_list)>=11 else prod(num_list)"
      ],
      "metadata": {
        "id": "8OUZCSTs5ekI"
      },
      "execution_count": null,
      "outputs": []
    },
    {
      "cell_type": "code",
      "source": [
        "# 원하는 문자열 찾기\n",
        "def solution(myString, pat):\n",
        "    if pat.lower() in myString.lower():\n",
        "        return 1\n",
        "    else:\n",
        "        return 0\n",
        "\n",
        "myString = \"AbCdEfG\"\n",
        "pat = \"aBc\"\n",
        "\n",
        "solution(myString, pat)"
      ],
      "metadata": {
        "colab": {
          "base_uri": "https://localhost:8080/"
        },
        "id": "9ZPGAYzZ6BTo",
        "outputId": "0a701e34-6cce-4554-b7cc-e14ee9aea3f5"
      },
      "execution_count": 16,
      "outputs": [
        {
          "output_type": "execute_result",
          "data": {
            "text/plain": [
              "1"
            ]
          },
          "metadata": {},
          "execution_count": 16
        }
      ]
    }
  ]
}