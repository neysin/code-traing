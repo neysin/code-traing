{
  "nbformat": 4,
  "nbformat_minor": 0,
  "metadata": {
    "colab": {
      "provenance": [],
      "authorship_tag": "ABX9TyMWDORzhds0jkoXWMBF1U/6",
      "include_colab_link": true
    },
    "kernelspec": {
      "name": "python3",
      "display_name": "Python 3"
    },
    "language_info": {
      "name": "python"
    }
  },
  "cells": [
    {
      "cell_type": "markdown",
      "metadata": {
        "id": "view-in-github",
        "colab_type": "text"
      },
      "source": [
        "<a href=\"https://colab.research.google.com/github/neysin/orm/blob/main/programmers_%EC%9E%85%EB%AC%B8_day20.ipynb\" target=\"_parent\"><img src=\"https://colab.research.google.com/assets/colab-badge.svg\" alt=\"Open In Colab\"/></a>"
      ]
    },
    {
      "cell_type": "markdown",
      "source": [
        "직사각형 넓이 구하기"
      ],
      "metadata": {
        "id": "BqRxaACQWH97"
      }
    },
    {
      "cell_type": "code",
      "execution_count": 4,
      "metadata": {
        "colab": {
          "base_uri": "https://localhost:8080/"
        },
        "id": "movFzNu1HTnA",
        "outputId": "597ea4e1-1838-4f87-8082-53839f88508e"
      },
      "outputs": [
        {
          "output_type": "execute_result",
          "data": {
            "text/plain": [
              "1"
            ]
          },
          "metadata": {},
          "execution_count": 4
        }
      ],
      "source": [
        "# 직사각형 넓이 구하기\n",
        "def solution(dots):\n",
        "    x = 0\n",
        "    y = 0\n",
        "    for i in range(len(dots)):\n",
        "        if dots[0][0] == dots[i][0]:\n",
        "            y += abs(dots[0][1] - dots[i][1])\n",
        "\n",
        "        if dots[0][1] == dots[i][1]:\n",
        "            x += abs(dots[0][0] - dots[i][0])\n",
        "\n",
        "    return x * y\n",
        "\n",
        "dots = [[1, 1], [2, 1], [2, 2], [1, 2]]\n",
        "solution(dots)"
      ]
    },
    {
      "cell_type": "code",
      "source": [
        "# max와 min을 통해 사각형을 기준 1시에 존재하는 점을 max로 찾고\n",
        "# 7시에 존재하는 점을 min으로 찾아 두 점의 x, y 의 차이를 계산 후 넓이 반환\n",
        "def solution(dots):\n",
        "    return (max(dots)[0] - min(dots)[0])*(max(dots)[1] - min(dots)[1])"
      ],
      "metadata": {
        "id": "s-JSpQDSVO-4"
      },
      "execution_count": null,
      "outputs": []
    },
    {
      "cell_type": "code",
      "source": [
        "# 캐릭터의 좌표\n",
        "def solution(keyinput, board):\n",
        "    start_xy = [0, 0]\n",
        "    for i in keyinput:\n",
        "        if i == \"left\":\n",
        "            if start_xy[0] > -(board[0] // 2):\n",
        "                start_xy[0] -= 1\n",
        "        elif i == \"right\":\n",
        "            if start_xy[0] < board[0] // 2:\n",
        "                start_xy[0] += 1\n",
        "        elif i == \"up\":\n",
        "            if start_xy[1] < board[1] // 2:\n",
        "                start_xy[1] += 1\n",
        "        elif i == \"down\":\n",
        "            if start_xy[1] > -(board[1] // 2):\n",
        "                start_xy[1] -= 1\n",
        "    return start_xy\n",
        "\n",
        "\n",
        "\n",
        "keyinput = [\"left\", \"right\", \"up\", \"right\", \"right\"]\n",
        "board = [11, 11]\n",
        "solution(keyinput, board)"
      ],
      "metadata": {
        "colab": {
          "base_uri": "https://localhost:8080/"
        },
        "id": "cR_6FfRQWKmy",
        "outputId": "114fe734-59e5-467b-8c48-52606c64340b"
      },
      "execution_count": 1,
      "outputs": [
        {
          "output_type": "execute_result",
          "data": {
            "text/plain": [
              "[2, 1]"
            ]
          },
          "metadata": {},
          "execution_count": 1
        }
      ]
    }
  ]
}