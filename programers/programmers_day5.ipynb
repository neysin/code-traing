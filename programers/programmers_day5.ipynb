{
  "nbformat": 4,
  "nbformat_minor": 0,
  "metadata": {
    "colab": {
      "provenance": [],
      "authorship_tag": "ABX9TyMmdXABtlQWj+//JpA3Q7MC",
      "include_colab_link": true
    },
    "kernelspec": {
      "name": "python3",
      "display_name": "Python 3"
    },
    "language_info": {
      "name": "python"
    }
  },
  "cells": [
    {
      "cell_type": "markdown",
      "metadata": {
        "id": "view-in-github",
        "colab_type": "text"
      },
      "source": [
        "<a href=\"https://colab.research.google.com/github/neysin/orm/blob/main/programers_day5.ipynb\" target=\"_parent\"><img src=\"https://colab.research.google.com/assets/colab-badge.svg\" alt=\"Open In Colab\"/></a>"
      ]
    },
    {
      "cell_type": "code",
      "execution_count": 11,
      "metadata": {
        "colab": {
          "base_uri": "https://localhost:8080/",
          "height": 36
        },
        "id": "nzqgvyqXxpP7",
        "outputId": "b9e859be-42f5-4825-e38b-c50c44ab2237"
      },
      "outputs": [
        {
          "output_type": "execute_result",
          "data": {
            "text/plain": [
              "'acbac'"
            ],
            "application/vnd.google.colaboratory.intrinsic+json": {
              "type": "string"
            }
          },
          "metadata": {},
          "execution_count": 11
        }
      ],
      "source": [
        "# 코드 처리하기\n",
        "\n",
        "def solution(code):\n",
        "    ret =[]\n",
        "    mode = 0\n",
        "\n",
        "    for i in range(len(code)):\n",
        "        if mode == 0:\n",
        "            if code[i] != '1' and  i % 2 ==0:\n",
        "                ret.append(code[i])\n",
        "            elif code[i] == '1':\n",
        "                mode = 1\n",
        "        else:\n",
        "            if code[i] != '1' and i % 2 != 0:\n",
        "                ret.append(code[i])\n",
        "            elif code[i] == '1':\n",
        "                mode = 0\n",
        "\n",
        "    if ret == []:\n",
        "        return 'EMPTY'\n",
        "\n",
        "    return ''.join(ret)\n",
        "\n",
        "code = \"abc1abc1abc\"\n",
        "solution(code)"
      ]
    },
    {
      "cell_type": "code",
      "source": [
        "# 등차수열의 특정한 항만 더하기\n",
        "\n",
        "def solution(a, d, included):\n",
        "    l = []\n",
        "    new_included = []\n",
        "    l2 = []\n",
        "\n",
        "    for n in included:\n",
        "        new_included.append(int(n))\n",
        "\n",
        "    for i in range(len(included)):\n",
        "        l.append(a + i * d)\n",
        "\n",
        "    for j in range(len(included)):\n",
        "        l2.append(new_included[j] * l[j])\n",
        "\n",
        "    return sum(l2)\n",
        "\n",
        "\n",
        "a = 3\n",
        "d = 4\n",
        "included = [True, False, False, True, True]\n",
        "solution(a,d,included)"
      ],
      "metadata": {
        "colab": {
          "base_uri": "https://localhost:8080/"
        },
        "id": "gRhha2CK2yH1",
        "outputId": "a405681b-85a2-401c-90a9-274ede3d0d38"
      },
      "execution_count": 28,
      "outputs": [
        {
          "output_type": "execute_result",
          "data": {
            "text/plain": [
              "37"
            ]
          },
          "metadata": {},
          "execution_count": 28
        }
      ]
    },
    {
      "cell_type": "code",
      "source": [
        "# 주사위 게임 2\n",
        "def solution(a, b, c):\n",
        "    if a != b and b != c and a != c:\n",
        "        return (a + b + c)\n",
        "\n",
        "    if a != b:\n",
        "        if c == a:\n",
        "            return (a + b + c) * (a**2 + b**2 + c**2)\n",
        "        elif c == b:\n",
        "            return (a + b + c) * (a**2 + b**2 + c**2)\n",
        "    elif a != c:\n",
        "        if b == a:\n",
        "            return (a + b + c) * (a**2 + b**2 + c**2)\n",
        "        elif b == c:\n",
        "            return (a + b + c) * (a**2 + b**2 + c**2)\n",
        "    elif b != c:\n",
        "        if a == b:\n",
        "            return (a + b + c) * (a**2 + b**2 + c**2)\n",
        "        elif a == c:\n",
        "            return (a + b + c) * (a**2 + b**2 + c**2)\n",
        "\n",
        "    if a == b == c:\n",
        "        return (a+b+c) * (a**2 + b**2 + c**2) *(a**3 + b**3 + c**3)\n",
        "\n",
        "\n",
        "solution(4,4,4)"
      ],
      "metadata": {
        "colab": {
          "base_uri": "https://localhost:8080/"
        },
        "id": "V-sZWJ8Q6P2a",
        "outputId": "633577f7-7136-4bf5-9139-1ca30cf62df8"
      },
      "execution_count": 41,
      "outputs": [
        {
          "output_type": "execute_result",
          "data": {
            "text/plain": [
              "110592"
            ]
          },
          "metadata": {},
          "execution_count": 41
        }
      ]
    },
    {
      "cell_type": "code",
      "source": [
        "# 원소들의 곱과 합\n",
        "def solution(num_list):\n",
        "    mul = 1\n",
        "    sum_num = sum(num_list)\n",
        "    for i in num_list:\n",
        "        mul *= i\n",
        "\n",
        "    if mul < sum_num**2:\n",
        "        return 1\n",
        "    else:\n",
        "        return 0\n",
        "\n",
        "num_list = [3, 4, 5, 2, 1]\n",
        "solution(num_list)"
      ],
      "metadata": {
        "colab": {
          "base_uri": "https://localhost:8080/"
        },
        "id": "iuoKWCQC__E_",
        "outputId": "4c3b17d1-51ca-4bf0-a462-4e46ac96a9c9"
      },
      "execution_count": 42,
      "outputs": [
        {
          "output_type": "execute_result",
          "data": {
            "text/plain": [
              "1"
            ]
          },
          "metadata": {},
          "execution_count": 42
        }
      ]
    },
    {
      "cell_type": "code",
      "source": [
        "# 이어 붙인 수\n",
        "def solution(num_list):\n",
        "    odd = ''\n",
        "    even = ''\n",
        "    for i in num_list:\n",
        "        if i % 2 != 0:\n",
        "            odd += str(i)\n",
        "        else:\n",
        "            even += str(i)\n",
        "    return int(odd) + int(even)\n",
        "\n",
        "num_list = [3, 4, 5, 2, 1]\n",
        "solution(num_list)"
      ],
      "metadata": {
        "colab": {
          "base_uri": "https://localhost:8080/"
        },
        "id": "awLN5dUrIuo3",
        "outputId": "09062476-c421-43c5-fe9c-0aa1fde5afa0"
      },
      "execution_count": 45,
      "outputs": [
        {
          "output_type": "execute_result",
          "data": {
            "text/plain": [
              "393"
            ]
          },
          "metadata": {},
          "execution_count": 45
        }
      ]
    }
  ]
}