{
  "nbformat": 4,
  "nbformat_minor": 0,
  "metadata": {
    "colab": {
      "provenance": [],
      "authorship_tag": "ABX9TyOuE/kW9Vd+lgLcHwekMZZU",
      "include_colab_link": true
    },
    "kernelspec": {
      "name": "python3",
      "display_name": "Python 3"
    },
    "language_info": {
      "name": "python"
    }
  },
  "cells": [
    {
      "cell_type": "markdown",
      "metadata": {
        "id": "view-in-github",
        "colab_type": "text"
      },
      "source": [
        "<a href=\"https://colab.research.google.com/github/neysin/orm/blob/main/programmers_day23.ipynb\" target=\"_parent\"><img src=\"https://colab.research.google.com/assets/colab-badge.svg\" alt=\"Open In Colab\"/></a>"
      ]
    },
    {
      "cell_type": "code",
      "execution_count": 1,
      "metadata": {
        "colab": {
          "base_uri": "https://localhost:8080/"
        },
        "id": "9FT0bhUfRFw2",
        "outputId": "e6d6e757-f890-4c1d-acfa-56fd260ad205"
      },
      "outputs": [
        {
          "output_type": "execute_result",
          "data": {
            "text/plain": [
              "1"
            ]
          },
          "metadata": {},
          "execution_count": 1
        }
      ],
      "source": [
        "# 부분 문자열\n",
        "def solution(str1, str2):\n",
        "    if str1 in str2:\n",
        "        return 1\n",
        "    else:\n",
        "        return 0\n",
        "\n",
        "str1 = \"abc\"\n",
        "str2 = \"aabcc\"\n",
        "solution(str1, str2)"
      ]
    },
    {
      "cell_type": "markdown",
      "source": [
        "꼬리 문자열"
      ],
      "metadata": {
        "id": "Mz0RWixeaVvr"
      }
    },
    {
      "cell_type": "code",
      "source": [
        "# 꼬리 문자열\n",
        "def solution(str_list, ex):\n",
        "    l = []\n",
        "    for i in str_list:\n",
        "        if ex not in i:\n",
        "            l.append(i)\n",
        "\n",
        "    return ''.join(l)\n",
        "\n",
        "str_list = [\"abc\", \"def\", \"ghi\"]\n",
        "ex = \"ef\"\n",
        "solution(str_list, ex)"
      ],
      "metadata": {
        "colab": {
          "base_uri": "https://localhost:8080/",
          "height": 36
        },
        "id": "YIVAc0OKRYOe",
        "outputId": "fb35ac0e-0262-4627-e4b8-7cbcc2089b74"
      },
      "execution_count": 6,
      "outputs": [
        {
          "output_type": "execute_result",
          "data": {
            "text/plain": [
              "'abcghi'"
            ],
            "application/vnd.google.colaboratory.intrinsic+json": {
              "type": "string"
            }
          },
          "metadata": {},
          "execution_count": 6
        }
      ]
    },
    {
      "cell_type": "code",
      "source": [
        "# 필터를 사용해서 조건함수를 기입해주고 결과값을 출력\n",
        "def solution(str_list, ex):\n",
        "    return ''.join(filter(lambda x: ex not in x, str_list))"
      ],
      "metadata": {
        "id": "trhqnvctR5xh"
      },
      "execution_count": 7,
      "outputs": []
    },
    {
      "cell_type": "code",
      "source": [
        "# 정수 찾기\n",
        "def solution(num_list, n):\n",
        "    if n in num_list:\n",
        "        return 1\n",
        "    else:\n",
        "        return 0\n",
        "\n",
        "num_list = [1, 2, 3, 4, 5]\n",
        "n = 3\n",
        "solution(num_list, n)"
      ],
      "metadata": {
        "colab": {
          "base_uri": "https://localhost:8080/"
        },
        "id": "WBzmA-BzSVrM",
        "outputId": "68ed1a52-14b7-4c8c-c201-f48a59258711"
      },
      "execution_count": 9,
      "outputs": [
        {
          "output_type": "execute_result",
          "data": {
            "text/plain": [
              "1"
            ]
          },
          "metadata": {},
          "execution_count": 9
        }
      ]
    },
    {
      "cell_type": "code",
      "source": [
        "# 주사위 게임1\n",
        "def solution(a, b):\n",
        "    if a % 2 != 0 and b % 2 != 0:\n",
        "        return a**2 + b**2\n",
        "    elif a % 2 != 0 or b % 2 != 0:\n",
        "        return 2 * (a + b)\n",
        "    else:\n",
        "        return abs(a-b)\n",
        "\n",
        "a = 3\n",
        "b = 5\n",
        "solution(a, b)"
      ],
      "metadata": {
        "colab": {
          "base_uri": "https://localhost:8080/"
        },
        "id": "hveTl0c3SzAM",
        "outputId": "f31aba3f-37b9-40ca-d600-7724e603f978"
      },
      "execution_count": 11,
      "outputs": [
        {
          "output_type": "execute_result",
          "data": {
            "text/plain": [
              "34"
            ]
          },
          "metadata": {},
          "execution_count": 11
        }
      ]
    },
    {
      "cell_type": "markdown",
      "source": [
        "날씨 비교하기"
      ],
      "metadata": {
        "id": "3e8t-weEaXsb"
      }
    },
    {
      "cell_type": "code",
      "source": [
        "# 날씨 비교하기\n",
        "def solution(date1, date2):\n",
        "    for i in range(3):\n",
        "        if date1[i] < date2[i]:\n",
        "            return 1\n",
        "        elif date1[i] > date2[i]:\n",
        "            return 0\n",
        "    return 0\n",
        "\n",
        "date1 = [2021, 12, 28]\n",
        "date2 = [2021, 12, 29]\n",
        "solution(date1, date2)"
      ],
      "metadata": {
        "colab": {
          "base_uri": "https://localhost:8080/"
        },
        "id": "JScS9T_vUIkr",
        "outputId": "eb44bc02-5a3f-4694-8f42-197565b821f6"
      },
      "execution_count": 16,
      "outputs": [
        {
          "output_type": "execute_result",
          "data": {
            "text/plain": [
              "1"
            ]
          },
          "metadata": {},
          "execution_count": 16
        }
      ]
    },
    {
      "cell_type": "code",
      "source": [
        "# 리스트 간 부등호 사용 시 각 리스트의 요소를 각각 비교함. 인덱스 위치별로.\n",
        "def solution(date1, date2):\n",
        "    return int(date1 < date2)"
      ],
      "metadata": {
        "id": "fW6tpEFkV9Ob"
      },
      "execution_count": null,
      "outputs": []
    }
  ]
}