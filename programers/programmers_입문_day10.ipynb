{
  "nbformat": 4,
  "nbformat_minor": 0,
  "metadata": {
    "colab": {
      "provenance": [],
      "authorship_tag": "ABX9TyNHBDXk8i1TivXM5eeC6qy+",
      "include_colab_link": true
    },
    "kernelspec": {
      "name": "python3",
      "display_name": "Python 3"
    },
    "language_info": {
      "name": "python"
    }
  },
  "cells": [
    {
      "cell_type": "markdown",
      "metadata": {
        "id": "view-in-github",
        "colab_type": "text"
      },
      "source": [
        "<a href=\"https://colab.research.google.com/github/neysin/orm/blob/main/programmers_%EC%9E%85%EB%AC%B8_day10.ipynb\" target=\"_parent\"><img src=\"https://colab.research.google.com/assets/colab-badge.svg\" alt=\"Open In Colab\"/></a>"
      ]
    },
    {
      "cell_type": "markdown",
      "source": [
        "점의 위치 구하기"
      ],
      "metadata": {
        "id": "RAc4039mTJW5"
      }
    },
    {
      "cell_type": "code",
      "execution_count": 1,
      "metadata": {
        "colab": {
          "base_uri": "https://localhost:8080/"
        },
        "id": "DQIRMe0wR-hm",
        "outputId": "17fd780e-32e0-4935-bc0d-b3772975c842"
      },
      "outputs": [
        {
          "output_type": "execute_result",
          "data": {
            "text/plain": [
              "1"
            ]
          },
          "metadata": {},
          "execution_count": 1
        }
      ],
      "source": [
        "# 점의 위치 구하기\n",
        "def solution(dot):\n",
        "    x, y = dot\n",
        "    if x > 0 and y > 0:\n",
        "        return 1\n",
        "    elif x > 0 and y < 0:\n",
        "        return 4\n",
        "    elif x < 0 and y > 0:\n",
        "        return 2\n",
        "    elif x <0 and y < 0:\n",
        "        return 3\n",
        "\n",
        "dot = [2, 4]\n",
        "solution(dot)"
      ]
    },
    {
      "cell_type": "code",
      "source": [
        "# 반환되는 값에서 True, False를 통해, quad 리스트에서 값을 인덱싱하여 반환\n",
        "def solution(dot):\n",
        "    quad = [(3,2),(4,1)]\n",
        "    return quad[dot[0] > 0][dot[1] > 0]"
      ],
      "metadata": {
        "id": "RTAbLG8bSqMj"
      },
      "execution_count": null,
      "outputs": []
    },
    {
      "cell_type": "markdown",
      "source": [
        "2차원으로 만들기"
      ],
      "metadata": {
        "id": "QZZDBapJXClb"
      }
    },
    {
      "cell_type": "code",
      "source": [
        "# 2차원으로 만들기\n",
        "def solution(num_list, n):\n",
        "    result = []\n",
        "    j = 0\n",
        "    for i in range(1, len(num_list)//n):\n",
        "        result.append(num_list[j:n*i])\n",
        "        j = n*i\n",
        "\n",
        "    result.append(num_list[-n:])\n",
        "\n",
        "    return result\n",
        "\n",
        "num_list = [1, 2, 3, 4, 5, 6, 7, 8]\n",
        "n = 2\n",
        "solution(num_list, n)"
      ],
      "metadata": {
        "colab": {
          "base_uri": "https://localhost:8080/"
        },
        "id": "JD0ixxfDTLfV",
        "outputId": "b71f90ee-8ab9-4317-f2d5-ee27d6dfb166"
      },
      "execution_count": 14,
      "outputs": [
        {
          "output_type": "execute_result",
          "data": {
            "text/plain": [
              "[[1, 2], [3, 4], [5, 6], [7, 8]]"
            ]
          },
          "metadata": {},
          "execution_count": 14
        }
      ]
    },
    {
      "cell_type": "code",
      "source": [
        "# range에 간격을 설정해서 슬라이싱할 위치를 정해준 후 요구한 n만큼 요소를 슬라이싱\n",
        "def solution(num_list, n):\n",
        "    answer = []\n",
        "    for i in range(0, len(num_list), n):\n",
        "        answer.append(num_list[i:i+n])\n",
        "    return answer"
      ],
      "metadata": {
        "id": "HbXurS2qVwzq"
      },
      "execution_count": null,
      "outputs": []
    },
    {
      "cell_type": "markdown",
      "source": [
        "공 던지기"
      ],
      "metadata": {
        "id": "FFJIwSiSb7cB"
      }
    },
    {
      "cell_type": "code",
      "source": [
        "# 공 던지기\n",
        "# 공은 1번부터 던짐, 한 명을 건너뛰고 다음 사람에게 전달.\n",
        "# k 번째로 공을 던지는 사람 번호 반환\n",
        "def solution(numbers, k):\n",
        "    if k * 3 > len(numbers):\n",
        "        new_num = numbers * k\n",
        "\n",
        "    l = [] # 1, 3\n",
        "    for i in range(0, len(new_num), 2):\n",
        "        l.append(new_num[i])\n",
        "\n",
        "    return l[k-1]\n",
        "\n",
        "numbers = [1, 2, 3, 4]\n",
        "k = 2\n",
        "solution(numbers, k)"
      ],
      "metadata": {
        "colab": {
          "base_uri": "https://localhost:8080/"
        },
        "id": "yfb9A5_mXEn3",
        "outputId": "45163d6a-0841-4c94-d987-9bbf92c86ff2"
      },
      "execution_count": 21,
      "outputs": [
        {
          "output_type": "execute_result",
          "data": {
            "text/plain": [
              "3"
            ]
          },
          "metadata": {},
          "execution_count": 21
        }
      ]
    },
    {
      "cell_type": "code",
      "source": [
        "# k-1 을 통해 인덱싱 번호를 정하고 2를 곱하므로서 간격을 나타냄.\n",
        "# 주어진 데이터의 길이를 넘을 수도 있으니 % len(num)을 통해 길이를 넘어간다면\n",
        "# 리스트 내에서 순환될 수 있게함.\n",
        "def solution(numbers, k):\n",
        "    return numbers[2 * (k - 1) % len(numbers)]"
      ],
      "metadata": {
        "id": "OcrQKr2tZ4v9"
      },
      "execution_count": null,
      "outputs": []
    },
    {
      "cell_type": "code",
      "source": [
        "# 배열 회전시키기\n",
        "def solution(numbers, direction):\n",
        "    if direction == \"left\":\n",
        "        num = numbers.pop(0)\n",
        "        numbers.append(num)\n",
        "\n",
        "    if direction == \"right\":\n",
        "        num = numbers.pop()\n",
        "        numbers.insert(0, num)\n",
        "\n",
        "    return numbers\n",
        "\n",
        "numbers = [1, 2, 3]\n",
        "direction = \"right\"\n",
        "solution(numbers, direction)"
      ],
      "metadata": {
        "colab": {
          "base_uri": "https://localhost:8080/"
        },
        "id": "I8p6cUMyb-P2",
        "outputId": "f6f3d5c6-95bd-415d-c8b1-30de5cf9d446"
      },
      "execution_count": 30,
      "outputs": [
        {
          "output_type": "execute_result",
          "data": {
            "text/plain": [
              "[3, 1, 2]"
            ]
          },
          "metadata": {},
          "execution_count": 30
        }
      ]
    }
  ]
}