{
  "nbformat": 4,
  "nbformat_minor": 0,
  "metadata": {
    "colab": {
      "provenance": [],
      "authorship_tag": "ABX9TyO/bgZ0Ht+uTU8lgjltFu0m",
      "include_colab_link": true
    },
    "kernelspec": {
      "name": "python3",
      "display_name": "Python 3"
    },
    "language_info": {
      "name": "python"
    }
  },
  "cells": [
    {
      "cell_type": "markdown",
      "metadata": {
        "id": "view-in-github",
        "colab_type": "text"
      },
      "source": [
        "<a href=\"https://colab.research.google.com/github/neysin/orm/blob/main/programers_day9.ipynb\" target=\"_parent\"><img src=\"https://colab.research.google.com/assets/colab-badge.svg\" alt=\"Open In Colab\"/></a>"
      ]
    },
    {
      "cell_type": "code",
      "execution_count": 1,
      "metadata": {
        "colab": {
          "base_uri": "https://localhost:8080/"
        },
        "id": "HHb6w1LsRl04",
        "outputId": "e1306527-2815-4cb0-d8c6-9299376620fa"
      },
      "outputs": [
        {
          "output_type": "execute_result",
          "data": {
            "text/plain": [
              "[56789, 99999]"
            ]
          },
          "metadata": {},
          "execution_count": 1
        }
      ],
      "source": [
        "# 배열 만들기 5\n",
        "def solution(intStrs, k, s, l):\n",
        "    ret = []\n",
        "    for i in intStrs:\n",
        "        if int(i[s:s+l]) > k:\n",
        "            ret.append(int(i[s:s+l]))\n",
        "\n",
        "    return ret\n",
        "\n",
        "intStrs = [\"0123456789\",\"9876543210\",\"9999999999999\"]\n",
        "k = 50000\n",
        "s = 5\n",
        "l = 5\n",
        "solution(intStrs, k, s, l)"
      ]
    },
    {
      "cell_type": "code",
      "source": [
        "# 부분 문자열 이어 붙여 문자열 만들기\n",
        "# range(len())을 사용해서 범위를 정하지 말고 i, (s, e) in enumerate(parts)를\n",
        "# 사용해서 정하면 더 깔끔함\n",
        "def solution(my_strings, parts):\n",
        "    result = ''\n",
        "    for k in range(len(my_strings)):\n",
        "        i, j = parts[k]\n",
        "        result += my_strings[k][i:j+1]\n",
        "\n",
        "    return result\n",
        "\n",
        "my_strings = [\"progressive\", \"hamburger\", \"hammer\", \"ahocorasick\"]\n",
        "parts = [[0, 4], [1, 2], [3, 5], [7, 7]]\n",
        "solution(my_strings, parts)"
      ],
      "metadata": {
        "colab": {
          "base_uri": "https://localhost:8080/",
          "height": 36
        },
        "id": "N5VtCDBiUUn5",
        "outputId": "a6923d13-d29b-4db5-c2a4-55607a639014"
      },
      "execution_count": 6,
      "outputs": [
        {
          "output_type": "execute_result",
          "data": {
            "text/plain": [
              "'programmers'"
            ],
            "application/vnd.google.colaboratory.intrinsic+json": {
              "type": "string"
            }
          },
          "metadata": {},
          "execution_count": 6
        }
      ]
    },
    {
      "cell_type": "code",
      "source": [
        "# 문자열의 뒤의 n글자\n",
        "def solution(my_string, n):\n",
        "    return my_string[-n:]\n",
        "\n",
        "my_string = \"ProgrammerS123\"\n",
        "n = 11\n",
        "solution(my_string, n)"
      ],
      "metadata": {
        "colab": {
          "base_uri": "https://localhost:8080/",
          "height": 36
        },
        "id": "g1nH-YNcVzON",
        "outputId": "78120e7f-957f-462b-9d5f-db21c34e95d2"
      },
      "execution_count": 7,
      "outputs": [
        {
          "output_type": "execute_result",
          "data": {
            "text/plain": [
              "'grammerS123'"
            ],
            "application/vnd.google.colaboratory.intrinsic+json": {
              "type": "string"
            }
          },
          "metadata": {},
          "execution_count": 7
        }
      ]
    },
    {
      "cell_type": "markdown",
      "source": [
        "접미사 배열"
      ],
      "metadata": {
        "id": "Foc_66ULZaEV"
      }
    },
    {
      "cell_type": "code",
      "source": [
        "# 접미사 배열\n",
        "def solution(my_string):\n",
        "    l = []\n",
        "    for i in range(len(my_string)):\n",
        "        l.append(my_string[i:])\n",
        "    return sorted(l)\n",
        "\n",
        "my_string = \"banana\"\n",
        "solution(my_string)"
      ],
      "metadata": {
        "colab": {
          "base_uri": "https://localhost:8080/"
        },
        "id": "m3kD8CgHX0db",
        "outputId": "0f966337-a2b5-4727-ac0a-f3a0c0733a51"
      },
      "execution_count": 9,
      "outputs": [
        {
          "output_type": "execute_result",
          "data": {
            "text/plain": [
              "['a', 'ana', 'anana', 'banana', 'na', 'nana']"
            ]
          },
          "metadata": {},
          "execution_count": 9
        }
      ]
    },
    {
      "cell_type": "code",
      "source": [
        "# for 문을 컴프리헨션을 사용해 코드 수를 줄인 것이 깔끔해 보임.\n",
        "def solution(my_string):\n",
        "    answer = [my_string[i:] for i in range(len(my_string))]\n",
        "    answer.sort()\n",
        "    return answer"
      ],
      "metadata": {
        "id": "aWtLtxhIZED0"
      },
      "execution_count": null,
      "outputs": []
    },
    {
      "cell_type": "markdown",
      "source": [
        "접미사인지 확인하기"
      ],
      "metadata": {
        "id": "7cdXU3sxawHr"
      }
    },
    {
      "cell_type": "code",
      "source": [
        "# 접미사인지 확인하기\n",
        "def solution(my_string, is_suffix):\n",
        "    l = [my_string[i:] for i in range(len(my_string))]\n",
        "    if is_suffix in l:\n",
        "        return 1\n",
        "    else:\n",
        "        return 0\n",
        "\n",
        "\n",
        "my_string = \"banana\"\n",
        "is_suffix = \"ana\"\n",
        "solution(my_string, is_suffix)"
      ],
      "metadata": {
        "colab": {
          "base_uri": "https://localhost:8080/"
        },
        "id": "Q0PwfVaEZfnt",
        "outputId": "1fc69028-0386-41d9-b3ba-e164a460fd0f"
      },
      "execution_count": 11,
      "outputs": [
        {
          "output_type": "execute_result",
          "data": {
            "text/plain": [
              "1"
            ]
          },
          "metadata": {},
          "execution_count": 11
        }
      ]
    },
    {
      "cell_type": "code",
      "source": [
        "# 어차피 비교할 두 대상의 문자열 위치는 길이를 통해 서로 같다는 것을 알 수 있기 때문에\n",
        "# 그것을 조건으로 비교하면 간단하게 나옴.\n",
        "\n",
        "def solution(m, s):\n",
        "    if m[-len(s):]==s: return 1\n",
        "    return 0"
      ],
      "metadata": {
        "id": "nFQjkiGyaadB"
      },
      "execution_count": null,
      "outputs": []
    },
    {
      "cell_type": "code",
      "source": [
        "# 주어진 접미사로 끝나는지를 확인하는 문자열메서드인 endswith를 사용하면 bool 형식으로\n",
        "# 판단을 해줌\n",
        "def solution(my_string, is_suffix):\n",
        "    return int(my_string.endswith(is_suffix))\n",
        "\n",
        "my_string = \"banana\"\n",
        "is_suffix = \"anan\"\n",
        "solution(my_string, is_suffix)"
      ],
      "metadata": {
        "colab": {
          "base_uri": "https://localhost:8080/"
        },
        "id": "9SQVG4iHaz36",
        "outputId": "c8278695-bfda-4191-e0d5-3bce9dec927e"
      },
      "execution_count": 16,
      "outputs": [
        {
          "output_type": "execute_result",
          "data": {
            "text/plain": [
              "0"
            ]
          },
          "metadata": {},
          "execution_count": 16
        }
      ]
    }
  ]
}