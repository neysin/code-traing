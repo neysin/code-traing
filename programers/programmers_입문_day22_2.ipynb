{
  "nbformat": 4,
  "nbformat_minor": 0,
  "metadata": {
    "colab": {
      "provenance": [],
      "authorship_tag": "ABX9TyMtLhLAemXPjRTCBcuVaH0T",
      "include_colab_link": true
    },
    "kernelspec": {
      "name": "python3",
      "display_name": "Python 3"
    },
    "language_info": {
      "name": "python"
    }
  },
  "cells": [
    {
      "cell_type": "markdown",
      "metadata": {
        "id": "view-in-github",
        "colab_type": "text"
      },
      "source": [
        "<a href=\"https://colab.research.google.com/github/neysin/code-traing/blob/main/programmers_%EC%9E%85%EB%AC%B8_day22_2.ipynb\" target=\"_parent\"><img src=\"https://colab.research.google.com/assets/colab-badge.svg\" alt=\"Open In Colab\"/></a>"
      ]
    },
    {
      "cell_type": "code",
      "execution_count": null,
      "metadata": {
        "id": "K4sTU5bG9UHR"
      },
      "outputs": [],
      "source": [
        "# 평행\n",
        "def solution(dots):\n",
        "    answer = 0\n",
        "    dots_idx = [[0, 1, 3, 2], [0, 2, 3, 1], [1, 2, 0, 3]]\n",
        "    for d1, d2, d3, d4 in dots_idx:\n",
        "        x1, y1 = dots[d1][0], dots[d1][1]\n",
        "        x2, y2= dots[d2][0], dots[d2][1]\n",
        "        x3, y3= dots[d3][0], dots[d3][1]\n",
        "        x4, y4= dots[d4][0], dots[d4][1]\n",
        "        if (y1-y2)*(x3-x4) == (y3-y4)*(x1-x2) :\n",
        "            answer = 1\n",
        "    return answer"
      ]
    }
  ]
}