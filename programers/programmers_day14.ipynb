{
  "nbformat": 4,
  "nbformat_minor": 0,
  "metadata": {
    "colab": {
      "provenance": [],
      "authorship_tag": "ABX9TyP4pP462uENIV2sx5RdDnql",
      "include_colab_link": true
    },
    "kernelspec": {
      "name": "python3",
      "display_name": "Python 3"
    },
    "language_info": {
      "name": "python"
    }
  },
  "cells": [
    {
      "cell_type": "markdown",
      "metadata": {
        "id": "view-in-github",
        "colab_type": "text"
      },
      "source": [
        "<a href=\"https://colab.research.google.com/github/neysin/orm/blob/main/programmers_day14.ipynb\" target=\"_parent\"><img src=\"https://colab.research.google.com/assets/colab-badge.svg\" alt=\"Open In Colab\"/></a>"
      ]
    },
    {
      "cell_type": "markdown",
      "source": [
        "홀수 vs 짝수"
      ],
      "metadata": {
        "id": "lvumlnmbP8iW"
      }
    },
    {
      "cell_type": "code",
      "execution_count": 3,
      "metadata": {
        "colab": {
          "base_uri": "https://localhost:8080/"
        },
        "id": "iAHcA8AANV8Z",
        "outputId": "99dda1f2-4fd4-46af-ddea-a9f2475898ab"
      },
      "outputs": [
        {
          "output_type": "execute_result",
          "data": {
            "text/plain": [
              "17"
            ]
          },
          "metadata": {},
          "execution_count": 3
        }
      ],
      "source": [
        "def solution(num_list):\n",
        "    a = 0\n",
        "    b = 0\n",
        "    for i in num_list[::2]:\n",
        "        a += i\n",
        "\n",
        "    for j in num_list[1::2]:\n",
        "        b += j\n",
        "\n",
        "    if a > b:\n",
        "        return a\n",
        "    else:\n",
        "        return b\n",
        "\n",
        "\n",
        "num_list = [4, 2, 6, 1, 7, 6]\n",
        "solution(num_list)"
      ]
    },
    {
      "cell_type": "code",
      "source": [
        "# max를 사용하는 게 간단하다.\n",
        "def solution(num_list):\n",
        "    return max(sum(num_list[::2]), sum(num_list[1::2]))"
      ],
      "metadata": {
        "id": "S4jySCClO9rk"
      },
      "execution_count": null,
      "outputs": []
    },
    {
      "cell_type": "code",
      "source": [
        "# 5명씩\n",
        "def solution(names):\n",
        "    return names[::5]\n",
        "\n",
        "names = [\"nami\", \"ahri\", \"jayce\", \"garen\", \"ivern\", \"vex\", \"jinx\"]\n",
        "solution(names)"
      ],
      "metadata": {
        "colab": {
          "base_uri": "https://localhost:8080/"
        },
        "id": "4zQhgwrhP-88",
        "outputId": "62b299ea-32f3-453a-ead2-73fb87801131"
      },
      "execution_count": 4,
      "outputs": [
        {
          "output_type": "execute_result",
          "data": {
            "text/plain": [
              "['nami', 'vex']"
            ]
          },
          "metadata": {},
          "execution_count": 4
        }
      ]
    },
    {
      "cell_type": "code",
      "source": [
        "# 할 일 목록\n",
        "def solution(todo_list, finished):\n",
        "    l = []\n",
        "    for i in range(len(todo_list)):\n",
        "        if finished[i] != True:\n",
        "            l.append(todo_list[i])\n",
        "\n",
        "    return l\n",
        "\n",
        "todo_list = [\"problemsolving\", \"practiceguitar\", \"swim\", \"studygraph\"]\n",
        "finished = [True, False, True, False]\n",
        "solution(todo_list, finished)"
      ],
      "metadata": {
        "colab": {
          "base_uri": "https://localhost:8080/"
        },
        "id": "2VuSBme6QREg",
        "outputId": "7aff4803-9351-4ee1-d8eb-bea72dbee5a7"
      },
      "execution_count": 10,
      "outputs": [
        {
          "output_type": "execute_result",
          "data": {
            "text/plain": [
              "['practiceguitar', 'studygraph']"
            ]
          },
          "metadata": {},
          "execution_count": 10
        }
      ]
    },
    {
      "cell_type": "code",
      "source": [
        "# zip을 사용해 묶고 not을 사용해 False만 반환되게 함.\n",
        "def solution(todo_list, finished):\n",
        "    return [x for x, b in zip(todo_list, finished) if not b]"
      ],
      "metadata": {
        "id": "YG1N8V79Spk3"
      },
      "execution_count": null,
      "outputs": []
    },
    {
      "cell_type": "code",
      "source": [
        "# n보다 커질 때까지 더하기\n",
        "def solution(numbers, n):\n",
        "    a = 0\n",
        "    for i in numbers:\n",
        "        a += i\n",
        "        if a > n:\n",
        "            return a\n",
        "\n",
        "\n",
        "\n",
        "numbers = [34, 5, 71, 29, 100, 34]\n",
        "n = 123\n",
        "solution(numbers, n)"
      ],
      "metadata": {
        "colab": {
          "base_uri": "https://localhost:8080/"
        },
        "id": "Oo8v7nSGR9F6",
        "outputId": "b5993666-03d7-473f-eeca-d2d7b041d9db"
      },
      "execution_count": 13,
      "outputs": [
        {
          "output_type": "execute_result",
          "data": {
            "text/plain": [
              "139"
            ]
          },
          "metadata": {},
          "execution_count": 13
        }
      ]
    },
    {
      "cell_type": "code",
      "source": [
        "# 수열과 구간 쿼리 1\n",
        "def solution(arr, queries):\n",
        "    for query in queries:\n",
        "        s, e = query\n",
        "        for i in range(s, e+1):\n",
        "            arr[i] += 1\n",
        "    return arr\n",
        "\n",
        "arr = [0, 1, 2, 3, 4]\n",
        "queries = [[0, 1],[1, 2],[2, 3]]\n",
        "solution(arr, queries)"
      ],
      "metadata": {
        "colab": {
          "base_uri": "https://localhost:8080/"
        },
        "id": "7TmweYvoTtU4",
        "outputId": "0885c37c-d021-4b70-ed25-b5207d065212"
      },
      "execution_count": 22,
      "outputs": [
        {
          "output_type": "execute_result",
          "data": {
            "text/plain": [
              "[1, 3, 4, 4, 4]"
            ]
          },
          "metadata": {},
          "execution_count": 22
        }
      ]
    },
    {
      "cell_type": "code",
      "source": [],
      "metadata": {
        "id": "GazYObtJbbHO"
      },
      "execution_count": null,
      "outputs": []
    }
  ]
}