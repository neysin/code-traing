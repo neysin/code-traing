{
  "nbformat": 4,
  "nbformat_minor": 0,
  "metadata": {
    "colab": {
      "provenance": [],
      "authorship_tag": "ABX9TyMkQHPXpJ3CNxkrFTaaM3x0",
      "include_colab_link": true
    },
    "kernelspec": {
      "name": "python3",
      "display_name": "Python 3"
    },
    "language_info": {
      "name": "python"
    }
  },
  "cells": [
    {
      "cell_type": "markdown",
      "metadata": {
        "id": "view-in-github",
        "colab_type": "text"
      },
      "source": [
        "<a href=\"https://colab.research.google.com/github/neysin/orm/blob/main/programmers_%EC%9E%85%EB%AC%B8_day12.ipynb\" target=\"_parent\"><img src=\"https://colab.research.google.com/assets/colab-badge.svg\" alt=\"Open In Colab\"/></a>"
      ]
    },
    {
      "cell_type": "code",
      "execution_count": 2,
      "metadata": {
        "colab": {
          "base_uri": "https://localhost:8080/",
          "height": 36
        },
        "id": "tUATl67bGtNt",
        "outputId": "219bd68f-f973-41b5-f230-60f541c7bfec"
      },
      "outputs": [
        {
          "output_type": "execute_result",
          "data": {
            "text/plain": [
              "'nc t mt y'"
            ],
            "application/vnd.google.colaboratory.intrinsic+json": {
              "type": "string"
            }
          },
          "metadata": {},
          "execution_count": 2
        }
      ],
      "source": [
        "# 모음 제거\n",
        "def solution(my_string):\n",
        "    vowels_list = ['a', 'e', 'i', 'o', 'u']\n",
        "    new_string = \"\"\n",
        "    for i in my_string:\n",
        "        if i.lower() not in vowels_list:\n",
        "            new_string += i\n",
        "\n",
        "    return new_string\n",
        "\n",
        "my_string = \"nice to meet you\"\n",
        "solution(my_string)"
      ]
    },
    {
      "cell_type": "code",
      "source": [
        "# 문자열 정렬하기(1)\n",
        "def solution(my_string):\n",
        "    l = []\n",
        "    for i in my_string:\n",
        "        if i.isdigit() == True:\n",
        "            l.append(int(i))\n",
        "\n",
        "    return sorted(l)\n",
        "\n",
        "my_string = \"hi12392\"\n",
        "solution(my_string)"
      ],
      "metadata": {
        "colab": {
          "base_uri": "https://localhost:8080/"
        },
        "id": "O_Su8AixG8yH",
        "outputId": "1e7bba66-9415-46a8-80e0-e90db9ffa8c3"
      },
      "execution_count": 7,
      "outputs": [
        {
          "output_type": "execute_result",
          "data": {
            "text/plain": [
              "[1, 2, 2, 3, 9]"
            ]
          },
          "metadata": {},
          "execution_count": 7
        }
      ]
    },
    {
      "cell_type": "code",
      "source": [
        "# 숨어있는 숫자의 덧셈(1)\n",
        "def solution(my_string):\n",
        "    l = []\n",
        "    for i in my_string:\n",
        "        if i.isdigit() == True:\n",
        "            l.append(int(i))\n",
        "\n",
        "    return sum(l)\n",
        "\n",
        "my_string = \"aAb1B2cC34oOp\"\n",
        "solution(my_string)"
      ],
      "metadata": {
        "colab": {
          "base_uri": "https://localhost:8080/"
        },
        "id": "G-JVuDGIHvyF",
        "outputId": "e3f4445f-41c0-44a5-a027-ea7e75ec23ab"
      },
      "execution_count": 8,
      "outputs": [
        {
          "output_type": "execute_result",
          "data": {
            "text/plain": [
              "10"
            ]
          },
          "metadata": {},
          "execution_count": 8
        }
      ]
    },
    {
      "cell_type": "code",
      "source": [
        "# 소인수분해\n",
        "def solution(n):\n",
        "    l = []\n",
        "    i = 2\n",
        "    while n > 1:\n",
        "        while n % i == 0:\n",
        "            l.append(i)\n",
        "            n = n // i\n",
        "        i += 1\n",
        "\n",
        "    return list(set(l))\n",
        "\n",
        "n = 12\n",
        "solution(n)"
      ],
      "metadata": {
        "colab": {
          "base_uri": "https://localhost:8080/"
        },
        "id": "KdVij6mGIMZm",
        "outputId": "3fde6682-beb3-4b76-8761-ad81f4a41e8f"
      },
      "execution_count": 17,
      "outputs": [
        {
          "output_type": "execute_result",
          "data": {
            "text/plain": [
              "[2, 3]"
            ]
          },
          "metadata": {},
          "execution_count": 17
        }
      ]
    }
  ]
}