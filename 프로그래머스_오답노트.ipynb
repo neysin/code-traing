{
  "nbformat": 4,
  "nbformat_minor": 0,
  "metadata": {
    "colab": {
      "provenance": [],
      "authorship_tag": "ABX9TyN9EHwR++Vm9P6bC1mmpIc9",
      "include_colab_link": true
    },
    "kernelspec": {
      "name": "python3",
      "display_name": "Python 3"
    },
    "language_info": {
      "name": "python"
    }
  },
  "cells": [
    {
      "cell_type": "markdown",
      "metadata": {
        "id": "view-in-github",
        "colab_type": "text"
      },
      "source": [
        "<a href=\"https://colab.research.google.com/github/neysin/orm/blob/main/%ED%94%84%EB%A1%9C%EA%B7%B8%EB%9E%98%EB%A8%B8%EC%8A%A4_%EC%98%A4%EB%8B%B5%EB%85%B8%ED%8A%B8.ipynb\" target=\"_parent\"><img src=\"https://colab.research.google.com/assets/colab-badge.svg\" alt=\"Open In Colab\"/></a>"
      ]
    },
    {
      "cell_type": "markdown",
      "source": [
        "# 1/31 기초코딩"
      ],
      "metadata": {
        "id": "iypnrg9enyf2"
      }
    },
    {
      "cell_type": "code",
      "source": [
        "# 특수문자 출력하기\n",
        "# 역슬래쉬를 잘 사용해야 ' or \" or \\ 같은 특수문자들을 출력할 수 있다.\n",
        "print('!@#$%^&*(\\\\\\'\"<>?:;')"
      ],
      "metadata": {
        "id": "CVF0yP_lnPm0"
      },
      "execution_count": null,
      "outputs": []
    },
    {
      "cell_type": "code",
      "source": [
        "# 대소문자 바꿔서 출력하기\n",
        "str = input()\n",
        "print(str.swapcase())"
      ],
      "metadata": {
        "id": "mcZ1cKtEnKl1"
      },
      "execution_count": null,
      "outputs": []
    },
    {
      "cell_type": "code",
      "source": [
        "# 문자열 돌리기\n",
        "str = input()\n",
        "for i in range(len(str)):\n",
        "    print(f'{str[i]}')"
      ],
      "metadata": {
        "id": "_jK0KFHjfA2t"
      },
      "execution_count": null,
      "outputs": []
    },
    {
      "cell_type": "code",
      "source": [
        "# 문자열 겹쳐쓰기\n",
        "def solution(my_string, overwrite_string, s):\n",
        "    new_string = my_string[0:s] + overwrite_string + my_string[s+len(overwrite_string):]\n",
        "    return(new_string)\n",
        "\n",
        "solution(\"He11oWor1d\", \"lloWorl\", 2)"
      ],
      "metadata": {
        "colab": {
          "base_uri": "https://localhost:8080/",
          "height": 36
        },
        "id": "AQccUza3mU_B",
        "outputId": "43c1a682-88b2-44c9-aeda-07689990da58"
      },
      "execution_count": null,
      "outputs": [
        {
          "output_type": "execute_result",
          "data": {
            "text/plain": [
              "'HelloWorld'"
            ],
            "application/vnd.google.colaboratory.intrinsic+json": {
              "type": "string"
            }
          },
          "metadata": {},
          "execution_count": 17
        }
      ]
    },
    {
      "cell_type": "code",
      "source": [
        "# 조건 문자열\n",
        "# eval => 안의 문자열을 쓴 그래도 연산을 해줌.\n",
        "# eq가 !와 = 의 다른 조건을 replace를 통해 해결해줌.\n",
        "\n",
        "def solution(ineq, eq, n, m):\n",
        "    return int(eval(str(n)+ineq+eq.replace('!', '')+str(m)))"
      ],
      "metadata": {
        "id": "nfNaRV9A8gpq"
      },
      "execution_count": null,
      "outputs": []
    }
  ]
}