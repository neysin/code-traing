{
  "nbformat": 4,
  "nbformat_minor": 0,
  "metadata": {
    "colab": {
      "provenance": [],
      "authorship_tag": "ABX9TyNwANRJZc96q4iBcsvbTz7j",
      "include_colab_link": true
    },
    "kernelspec": {
      "name": "python3",
      "display_name": "Python 3"
    },
    "language_info": {
      "name": "python"
    }
  },
  "cells": [
    {
      "cell_type": "markdown",
      "metadata": {
        "id": "view-in-github",
        "colab_type": "text"
      },
      "source": [
        "<a href=\"https://colab.research.google.com/github/neysin/orm/blob/main/pyalgo_61~64.ipynb\" target=\"_parent\"><img src=\"https://colab.research.google.com/assets/colab-badge.svg\" alt=\"Open In Colab\"/></a>"
      ]
    },
    {
      "cell_type": "code",
      "execution_count": 1,
      "metadata": {
        "colab": {
          "base_uri": "https://localhost:8080/"
        },
        "id": "2HQU4X9kNhlg",
        "outputId": "ef46a75a-0b0c-4b03-f52f-eb02220ed747"
      },
      "outputs": [
        {
          "output_type": "execute_result",
          "data": {
            "text/plain": [
              "[3, 4]"
            ]
          },
          "metadata": {},
          "execution_count": 1
        }
      ],
      "source": [
        "# 문제 61번\n",
        "from collections import deque\n",
        "def solution(data):\n",
        "    data_list, move = data\n",
        "    deque_list = deque(data_list)\n",
        "    for i in move:\n",
        "        direction, count = i\n",
        "        if direction == '왼쪽':\n",
        "            for _ in range(count):\n",
        "                deque_list.popleft()\n",
        "        elif direction == '오른쪽':\n",
        "            for _ in range(count):\n",
        "                deque_list.pop()\n",
        "    return list(deque_list)\n",
        "\n",
        "\n",
        "data = ([1, 2, 3, 4, 5], [('왼쪽', 2), ('오른쪽', 1)])\n",
        "solution(data)"
      ]
    },
    {
      "cell_type": "code",
      "source": [
        "# 문제 62번\n",
        "from collections import deque\n",
        "def solution(data):\n",
        "    data_len, data_list = data\n",
        "    dq_l = deque()\n",
        "    result = []\n",
        "\n",
        "    for i in data_list:\n",
        "        dq_l.append(i)\n",
        "        if len(dq_l) > data_len:\n",
        "            dq_l.popleft()\n",
        "        result.append(list(dq_l))\n",
        "\n",
        "    return result\n",
        "\n",
        "\n",
        "data = (3, [1, 2, 3, 4, 5])\n",
        "solution(data)"
      ],
      "metadata": {
        "id": "mcruFYiTQxXY",
        "outputId": "ec44b77e-f7f8-457d-e7b0-50e05ce6e8a2",
        "colab": {
          "base_uri": "https://localhost:8080/"
        }
      },
      "execution_count": 27,
      "outputs": [
        {
          "output_type": "execute_result",
          "data": {
            "text/plain": [
              "[[1], [1, 2], [1, 2, 3], [2, 3, 4], [3, 4, 5]]"
            ]
          },
          "metadata": {},
          "execution_count": 27
        }
      ]
    },
    {
      "cell_type": "code",
      "source": [
        "# 문제 63번\n",
        "from collections import deque\n",
        "\n",
        "def solution(data):\n",
        "    data_str, str_len = data\n",
        "    dq_str = deque(data_str)\n",
        "    result = []\n",
        "\n",
        "    while len(dq_str) >= str_len:\n",
        "        result.append(''.join(list(dq_str)[:str_len]))\n",
        "        dq_str.popleft()\n",
        "\n",
        "    return result\n",
        "\n",
        "data = (\"hello\", 2)\n",
        "solution(data)\n"
      ],
      "metadata": {
        "id": "tRQC_ufxi8xN",
        "outputId": "590e8f2e-8cef-4b10-b36e-1238184e4f5d",
        "colab": {
          "base_uri": "https://localhost:8080/"
        }
      },
      "execution_count": 41,
      "outputs": [
        {
          "output_type": "execute_result",
          "data": {
            "text/plain": [
              "['he', 'el', 'll', 'lo']"
            ]
          },
          "metadata": {},
          "execution_count": 41
        }
      ]
    },
    {
      "cell_type": "code",
      "source": [
        "# 문제 64번\n",
        "def solution(data):\n",
        "    str_list, pattern = data\n",
        "    count = 0\n",
        "    i = 0\n",
        "\n",
        "    while i <= len(str_list) - len(pattern):\n",
        "        if str_list[i:i + len(pattern)] == pattern:\n",
        "            count += 1\n",
        "        i += 1\n",
        "\n",
        "    return count\n",
        "\n",
        "data = (\"hellohellohello\", \"hello\")\n",
        "solution(data)"
      ],
      "metadata": {
        "id": "PLOQAiWFkq-j",
        "outputId": "4edade09-d17c-47c2-94e0-101822110248",
        "colab": {
          "base_uri": "https://localhost:8080/"
        }
      },
      "execution_count": 42,
      "outputs": [
        {
          "output_type": "execute_result",
          "data": {
            "text/plain": [
              "3"
            ]
          },
          "metadata": {},
          "execution_count": 42
        }
      ]
    },
    {
      "cell_type": "code",
      "source": [],
      "metadata": {
        "id": "eiJnjXzWq0cS"
      },
      "execution_count": null,
      "outputs": []
    }
  ]
}