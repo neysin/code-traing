{
  "nbformat": 4,
  "nbformat_minor": 0,
  "metadata": {
    "colab": {
      "provenance": [],
      "authorship_tag": "ABX9TyMOAZawUxU2+fPf/9LEm52r",
      "include_colab_link": true
    },
    "kernelspec": {
      "name": "python3",
      "display_name": "Python 3"
    },
    "language_info": {
      "name": "python"
    }
  },
  "cells": [
    {
      "cell_type": "markdown",
      "metadata": {
        "id": "view-in-github",
        "colab_type": "text"
      },
      "source": [
        "<a href=\"https://colab.research.google.com/github/neysin/orm/blob/main/0118_%EC%97%B0%EC%8A%B5%EB%AC%B8%EC%A0%9C.ipynb\" target=\"_parent\"><img src=\"https://colab.research.google.com/assets/colab-badge.svg\" alt=\"Open In Colab\"/></a>"
      ]
    },
    {
      "cell_type": "code",
      "execution_count": 10,
      "metadata": {
        "colab": {
          "base_uri": "https://localhost:8080/"
        },
        "id": "qVDG46bkfD0U",
        "outputId": "5f6693b3-e603-42df-8716-f98e94d9331c"
      },
      "outputs": [
        {
          "output_type": "stream",
          "name": "stdout",
          "text": [
            "저의 이메일 주소는 user@weniv.co.kr 입니다. 친구의 이메일 주소는 user@weniv.co.kr 입니다.\n"
          ]
        }
      ],
      "source": [
        "# 문제 1번\n",
        "import re\n",
        "\n",
        "print(re.sub(r'\\b[A-Za-z0-9._%+-]+@[A-Za-z0-9.-]+\\.[A-Z|a-z]{2,}\\b','user@weniv.co.kr','저의 이메일 주소는 kim123@gmail.com 입니다. 친구의 이메일 주소는 lee456@gmail.com 입니다.'))"
      ]
    },
    {
      "cell_type": "code",
      "source": [
        "# 문제 2번\n",
        "import re\n",
        "\n",
        "print(re.sub(r'<[^>]+>', '', '<p>이것은 <b>예시</b> 문장입니다.</p>'))"
      ],
      "metadata": {
        "colab": {
          "base_uri": "https://localhost:8080/"
        },
        "id": "OsoNjNYmjXjo",
        "outputId": "fd4671ac-915d-4b99-d152-39fef532bfd5"
      },
      "execution_count": 11,
      "outputs": [
        {
          "output_type": "stream",
          "name": "stdout",
          "text": [
            "이것은 예시 문장입니다.\n"
          ]
        }
      ]
    },
    {
      "cell_type": "code",
      "source": [],
      "metadata": {
        "id": "3cPn3u1Rj_lc"
      },
      "execution_count": null,
      "outputs": []
    }
  ]
}