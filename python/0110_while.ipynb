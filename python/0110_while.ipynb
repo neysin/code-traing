{
  "nbformat": 4,
  "nbformat_minor": 0,
  "metadata": {
    "colab": {
      "provenance": [],
      "authorship_tag": "ABX9TyNCbxttCSZ7/eDdPsWI4dYJ",
      "include_colab_link": true
    },
    "kernelspec": {
      "name": "python3",
      "display_name": "Python 3"
    },
    "language_info": {
      "name": "python"
    }
  },
  "cells": [
    {
      "cell_type": "markdown",
      "metadata": {
        "id": "view-in-github",
        "colab_type": "text"
      },
      "source": [
        "<a href=\"https://colab.research.google.com/github/neysin/orm/blob/main/0110_while.ipynb\" target=\"_parent\"><img src=\"https://colab.research.google.com/assets/colab-badge.svg\" alt=\"Open In Colab\"/></a>"
      ]
    },
    {
      "cell_type": "markdown",
      "source": [
        "# 1. while 문"
      ],
      "metadata": {
        "id": "g08oOZWsulUQ"
      }
    },
    {
      "cell_type": "code",
      "source": [
        "a = 1 # 연산자를 계산할 수 있는 변수 하나\n",
        "\n",
        "# while 문은 조건이 참이면 계속 수행 -> 무한루프(무한으로 프로그램이 돌아가게 됨.)\n",
        "\n",
        "while a < 10 : #1. for문과 차이점 - 조건이 있다. (for 문은 범위가 있다.)\n",
        "\tprint(a)\n",
        "\ta += 1 # (무한루프에 빠질 수 있기 때문에) -> 연산자를 계산해서 조건문을 강제로 flase로 만드는 구문이 있다."
      ],
      "metadata": {
        "id": "SEW-m5r2uyeI"
      },
      "execution_count": null,
      "outputs": []
    },
    {
      "cell_type": "code",
      "source": [
        "# colab에서도 작동되지만 가능하면 .py파일로 작성해서 실행해보세요.\n",
        "\n",
        "import os\n",
        "\n",
        "while True:\n",
        "    userinput = input('>')\n",
        "    if userinput == 'pwd':\n",
        "        # print('현재 위치 출력')\n",
        "        # print('\\\\'.join(__file__.split('\\\\')[:-1]))\n",
        "        print(os.getcwd())\n",
        "    elif userinput == 'dir' or userinput == 'ls':\n",
        "        # print('현재 폴더에 폴더와 파일명 출력')\n",
        "        print(os.listdir(os.getcwd()))\n",
        "    elif userinput == 'exit':\n",
        "        print('안녕히가세요.')\n",
        "        break"
      ],
      "metadata": {
        "colab": {
          "base_uri": "https://localhost:8080/"
        },
        "id": "3GJ1zjh1xRbl",
        "outputId": "a5fbeba7-af94-4676-8750-e075635c8714"
      },
      "execution_count": 1,
      "outputs": [
        {
          "output_type": "stream",
          "name": "stdout",
          "text": [
            ">pwd\n",
            "/content\n",
            ">exit\n",
            "안녕히가세요.\n"
          ]
        }
      ]
    },
    {
      "cell_type": "markdown",
      "source": [
        "# 2. break 와 continue\n",
        "\n",
        "* break는 반복문을 정지시킬 수 있음."
      ],
      "metadata": {
        "id": "XnvRvmwxxsAf"
      }
    },
    {
      "cell_type": "code",
      "source": [
        "# 전형적인 for 반복문!\n",
        "for i in range(10) :\n",
        "    print(i)\n",
        "# 이 코드는 0부터 4까지 출력하고, i가 5가 되었을 때 반복문을 정지"
      ],
      "metadata": {
        "id": "RhtEd56CzCB5"
      },
      "execution_count": null,
      "outputs": []
    },
    {
      "cell_type": "code",
      "source": [
        "for i in range(10) :\n",
        "    if i == 5 :\n",
        "        break\n",
        "    print(i)"
      ],
      "metadata": {
        "colab": {
          "base_uri": "https://localhost:8080/"
        },
        "id": "URHIrQvozSST",
        "outputId": "aa52a054-08d7-4300-bcf6-0a3c00c80960"
      },
      "execution_count": 2,
      "outputs": [
        {
          "output_type": "stream",
          "name": "stdout",
          "text": [
            "0\n",
            "1\n",
            "2\n",
            "3\n",
            "4\n"
          ]
        }
      ]
    },
    {
      "cell_type": "code",
      "source": [
        "for i in range(10) : # 0 부터 9까지\n",
        "    if i % 2 == 0 : # 짝수인 경우에 하단 코드블럭을 실행\n",
        "        continue # 짝수인 경우에 실행한 구문이 continue -> 짝수 일때 -> 다시 반복문 다음 순서로 이동!\n",
        "    print(i) # for 문안에 if 문 실행 된 후에 차례대로 print(i)"
      ],
      "metadata": {
        "colab": {
          "base_uri": "https://localhost:8080/"
        },
        "id": "io_FXJTCzWS0",
        "outputId": "14892381-4d59-40da-9f4e-ef6bbdb0e690"
      },
      "execution_count": 3,
      "outputs": [
        {
          "output_type": "stream",
          "name": "stdout",
          "text": [
            "1\n",
            "3\n",
            "5\n",
            "7\n",
            "9\n"
          ]
        }
      ]
    },
    {
      "cell_type": "code",
      "source": [
        "# 모든 반복문 한 번에 탈출하기\n",
        "\n",
        "switch = 0\n",
        "\n",
        "for i in range(5): # 5번 반복\n",
        "    if switch == 1: # switch가 1 일때 break\n",
        "        break\n",
        "    for j in range(5): # 5번 반복\n",
        "        if j == 3: # j가 3일때 switch 는 1\n",
        "            switch = 1\n",
        "            break\n",
        "        print(f'{i}, {j}')"
      ],
      "metadata": {
        "colab": {
          "base_uri": "https://localhost:8080/"
        },
        "id": "7VR6fg2oANYe",
        "outputId": "2b82a79b-12b2-4b0a-a8bd-9e40e6263acd"
      },
      "execution_count": 5,
      "outputs": [
        {
          "output_type": "stream",
          "name": "stdout",
          "text": [
            "0, 0\n",
            "0, 1\n",
            "0, 2\n"
          ]
        }
      ]
    },
    {
      "cell_type": "code",
      "source": [
        "import random\n",
        "\n",
        "answer = random.randint(1, 1000)\n",
        "while True:\n",
        "    userinput = int(input('숫자를 입력해주세요.'))\n",
        "    if userinput > answer:\n",
        "        print('Down')\n",
        "\n",
        "    elif userinput < answer:\n",
        "        print('Up')\n",
        "    else:\n",
        "        print('축하합니다! 맞추셨어요!')\n",
        "        break"
      ],
      "metadata": {
        "id": "EYmQfxaC0SDl"
      },
      "execution_count": null,
      "outputs": []
    },
    {
      "cell_type": "markdown",
      "source": [
        "# 3. 중첩 while 문"
      ],
      "metadata": {
        "id": "8snK48yg2D57"
      }
    },
    {
      "cell_type": "code",
      "source": [
        "# 중첩 while 문\n",
        "# 구구단\n",
        "\n",
        "i = 2 # 변수 값 선언\n",
        "while i < 10 : # 10 미만 까지 반복\n",
        "    j = 1 # 다시 밑의 조건으로 반복을 하기위해서 j를 1로 초기화\n",
        "    while j < 10: # 10 미만 까지 반복\n",
        "        print(f'{i} X {j} = {i * j}')\n",
        "        j += 1 # 1씩 중첩\n",
        "    i += 1 # 1씩 중첩"
      ],
      "metadata": {
        "id": "3IpCOMf98WEr"
      },
      "execution_count": null,
      "outputs": []
    },
    {
      "cell_type": "markdown",
      "source": [
        "# 4. 반복문 else"
      ],
      "metadata": {
        "id": "deniV5yLB9CC"
      }
    },
    {
      "cell_type": "code",
      "source": [],
      "metadata": {
        "id": "6obE1v68B-ZN"
      },
      "execution_count": null,
      "outputs": []
    },
    {
      "cell_type": "markdown",
      "source": [
        "# 5. 할일 목록 프로그램 만들기"
      ],
      "metadata": {
        "id": "hUwUMTqaG7-i"
      }
    },
    {
      "cell_type": "code",
      "source": [
        "to_do = []\n",
        "\n",
        "def add(task) :\n",
        "    task.append(task)\n",
        "    print(f\"'{task}'\")\n",
        "\n",
        "def remove(task) :\n",
        "    pass"
      ],
      "metadata": {
        "id": "_huBtyEPG-CX"
      },
      "execution_count": 6,
      "outputs": []
    },
    {
      "cell_type": "code",
      "source": [
        "todo_list = []\n",
        "\n",
        "# 할 일 목록을 표시하는 함수\n",
        "def display_todo_list():\n",
        "    print(\"현재 할 일 목록:\")\n",
        "    for task in todo_list:  # todo_list에 있는 모든 할 일을 순회\n",
        "        print(\"- \" + task)  # 각 할 일 앞에 '-'를 붙여서 출력\n",
        "\n",
        "# 할 일을 추가하는 함수\n",
        "def add_task(task):\n",
        "    todo_list.append(task)  # 리스트에 새 할 일 추가\n",
        "    print(f\"'{task}'가 할 일 목록에 추가되었습니다.\")\n",
        "\n",
        "# 할 일을 제거하는 함수\n",
        "def remove_task(task):\n",
        "    if task in todo_list:  # 할 일이 목록에 있는지 확인\n",
        "        todo_list.remove(task)  # 목록에서 할 일 제거\n",
        "        print(f\"'{task}'가 할 일 목록에서 제거되었습니다.\")\n",
        "    else:\n",
        "        print(f\"할 일 목록에 '{task}'가 없습니다.\")\n",
        "\n",
        "# 메인 루프\n",
        "while True:\n",
        "    print(\"\\n[1] 할 일 추가 [2] 할 일 삭제 [3] 목록 표시 [4] 종료\")\n",
        "    choice = input(\"선택: \")  # 사용자 입력 받기\n",
        "\n",
        "    if choice == '1':  # 할 일 추가\n",
        "        task = input(\"추가할 할 일: \")\n",
        "        add_task(task)\n",
        "    elif choice == '2':  # 할 일 삭제\n",
        "        task = input(\"삭제할 할 일: \")\n",
        "        remove_task(task)\n",
        "    elif choice == '3':  # 할 일 목록 표시\n",
        "        display_todo_list()\n",
        "    elif choice == '4':  # 프로그램 종료\n",
        "        print(\"프로그램을 종료합니다.\")\n",
        "        break  # while 루프 종료\n",
        "    else:\n",
        "        print(\"잘못된 선택입니다. 다시 입력하세요.\")"
      ],
      "metadata": {
        "id": "4x3qZLPTMV-V"
      },
      "execution_count": null,
      "outputs": []
    },
    {
      "cell_type": "code",
      "source": [
        "a = 1\n",
        "print(f'{a}')"
      ],
      "metadata": {
        "colab": {
          "base_uri": "https://localhost:8080/"
        },
        "id": "W7ZecUKXRMIZ",
        "outputId": "5c75b37a-bae6-4b17-c9bd-a72b7d7d8d73"
      },
      "execution_count": 9,
      "outputs": [
        {
          "output_type": "stream",
          "name": "stdout",
          "text": [
            "1\n"
          ]
        }
      ]
    },
    {
      "cell_type": "code",
      "source": [
        "tasks = []\n",
        "\n",
        "def add_task(task):\n",
        "    tasks.append({\"task\": task, \"completed\": False})\n",
        "    print(f'Task \"{task}\" added to the list.')\n",
        "\n",
        "def show_tasks():\n",
        "    if not tasks:\n",
        "        print(\"No tasks in the list.\")\n",
        "    else:\n",
        "        print(\"Tasks:\")\n",
        "        for index, task in enumerate(tasks, start=1):\n",
        "            status = \"[X]\" if task[\"completed\"] else \"[ ]\"\n",
        "            print(f'{index}. {status} {task[\"task\"]}')\n",
        "\n",
        "def mark_completed(task_number):\n",
        "    if 1 <= task_number <= len(tasks):\n",
        "        tasks[task_number - 1][\"completed\"] = True\n",
        "        print(f'Task \"{tasks[task_number - 1][\"task\"]}\" marked as completed.')\n",
        "    else:\n",
        "        print(\"Invalid task number.\")\n",
        "\n",
        "def main():\n",
        "    while True:\n",
        "        print(\"\\n===== Todo List =====\")\n",
        "        print(\"1. Add Task\")\n",
        "        print(\"2. Show Tasks\")\n",
        "        print(\"3. Mark Task as Completed\")\n",
        "        print(\"4. Quit\")\n",
        "\n",
        "        choice = input(\"Enter your choice (1-4): \")\n",
        "\n",
        "        if choice == \"1\":\n",
        "            task = input(\"Enter the task: \")\n",
        "            add_task(task)\n",
        "        elif choice == \"2\":\n",
        "            show_tasks()\n",
        "        elif choice == \"3\":\n",
        "            task_number = int(input(\"Enter the task number to mark as completed: \"))\n",
        "            mark_completed(task_number)\n",
        "        elif choice == \"4\":\n",
        "            print(\"Exiting the program. Goodbye!\")\n",
        "            break\n",
        "        else:\n",
        "            print(\"Invalid choice. Please enter a number between 1 and 4.\")\n",
        "\n",
        "if __name__ == \"__main__\":\n",
        "    main()\n"
      ],
      "metadata": {
        "id": "6I4gSMd2MWma"
      },
      "execution_count": null,
      "outputs": []
    }
  ]
}