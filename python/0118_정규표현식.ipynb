{
  "nbformat": 4,
  "nbformat_minor": 0,
  "metadata": {
    "colab": {
      "provenance": [],
      "authorship_tag": "ABX9TyNPzbk7wvSvVbzt9kxEKxSs",
      "include_colab_link": true
    },
    "kernelspec": {
      "name": "python3",
      "display_name": "Python 3"
    },
    "language_info": {
      "name": "python"
    }
  },
  "cells": [
    {
      "cell_type": "markdown",
      "metadata": {
        "id": "view-in-github",
        "colab_type": "text"
      },
      "source": [
        "<a href=\"https://colab.research.google.com/github/neysin/orm/blob/main/0118_%EC%A0%95%EA%B7%9C%ED%91%9C%ED%98%84%EC%8B%9D.ipynb\" target=\"_parent\"><img src=\"https://colab.research.google.com/assets/colab-badge.svg\" alt=\"Open In Colab\"/></a>"
      ]
    },
    {
      "cell_type": "markdown",
      "source": [
        "# 파이썬 버전별 변동사항"
      ],
      "metadata": {
        "id": "o4UyUc8jAK49"
      }
    },
    {
      "cell_type": "markdown",
      "source": [
        "* Python 3.5 : async await\n",
        "* Python 3.6 : Dict에 순서, f-string, 타입힌트\n",
        "* Python 3.7 : classes\n",
        "* Python 3.8 : 왈러스 연산자(:=)\n",
        "* Python 3.9 : 딕셔너리 결합 연산자\n",
        "* Python 3.10 : match"
      ],
      "metadata": {
        "id": "LvFUcWq183em"
      }
    },
    {
      "cell_type": "code",
      "source": [
        "# id, name, email이 각각 3번씩 반복\n",
        "# -> 이러한 현상을  보일러 플레이트(boiler-plate)라 함\n",
        "# -> print를 해도 필드값이 보이지 않아 불편\n",
        "class User:\n",
        "    def __init__(self, id, name, email):\n",
        "        self.id = id\n",
        "        self.name = name\n",
        "        self.email = email"
      ],
      "metadata": {
        "id": "APYO1iql_WBw"
      },
      "execution_count": null,
      "outputs": []
    },
    {
      "cell_type": "code",
      "source": [
        "# 실무에서 사용하시는 분을 본 적이 없습니다.\n",
        "# 그래서 복습 X\n",
        "# 정말 좋은 기능인데...\n",
        "from dataclasses import dataclass\n",
        "\n",
        "@dataclass\n",
        "class User:\n",
        "    id: int\n",
        "    name: str\n",
        "    email : str\n",
        "\n",
        "user = User(123, 'hojun', 'hojun@gmail')\n",
        "user"
      ],
      "metadata": {
        "id": "SsbpdeSl_Wsd"
      },
      "execution_count": null,
      "outputs": []
    },
    {
      "cell_type": "markdown",
      "source": [
        "# 파일 입출력"
      ],
      "metadata": {
        "id": "UTAre5e4ANrp"
      }
    },
    {
      "cell_type": "code",
      "source": [
        "# open(파일이름, 파일모드)\n",
        "f = open('python.txt', 'w') # 파일모드: r, w, a, r+,\n",
        "f.close()"
      ],
      "metadata": {
        "id": "gyIQqs_9AOrR"
      },
      "execution_count": null,
      "outputs": []
    },
    {
      "cell_type": "code",
      "source": [
        "# 파일은 열었으면 꼭 닫으셔야 합니다.\n",
        "# 닫지 않으면 메모리가 살아있습니다!\n",
        "f = open('python.txt', 'w') # 파일모드: r, w, a, r+,\n",
        "f.write('hello world')\n",
        "f.close()"
      ],
      "metadata": {
        "id": "VwfBvhS2Azhy"
      },
      "execution_count": null,
      "outputs": []
    },
    {
      "cell_type": "code",
      "source": [
        "with open('text.txt', 'w') as f:\n",
        "    f.write('hello world')"
      ],
      "metadata": {
        "id": "iDPBNu8eBCA9"
      },
      "execution_count": null,
      "outputs": []
    },
    {
      "cell_type": "code",
      "source": [
        "for i in range(10):\n",
        "    with open(f'test{i}.txt', 'w') as f:\n",
        "        f.write('hello world!')"
      ],
      "metadata": {
        "id": "CIhMDeCsBS9r"
      },
      "execution_count": null,
      "outputs": []
    },
    {
      "cell_type": "code",
      "source": [
        "db_data = [\n",
        "  {\n",
        "    \"_id\": \"7f5440ab-7e2f-4a42-Be13-89987fa65b32\",\n",
        "    \"index\": \"1\",\n",
        "    \"name\": \"등윤상\",\n",
        "    \"email\": \"user-qe89s09@ut.io\",\n",
        "    \"phone\": \"010-3542-7711\",\n",
        "    \"country\": \"키리바시\",\n",
        "    \"address\": \"방학로 74-9\",\n",
        "    \"job\": \"일러스트레이터\"\n",
        "  },\n",
        "  {\n",
        "    \"_id\": \"b4f7ade0-38bb-4e6f-B94a-18af1426eb30\",\n",
        "    \"index\": \"2\",\n",
        "    \"name\": \"노동규\",\n",
        "    \"email\": \"user-nyr5mqw@ornare.com\",\n",
        "    \"phone\": \"010-9743-6320\",\n",
        "    \"country\": \"베냉\",\n",
        "    \"address\": \"남부순환로 54-6\",\n",
        "    \"job\": \"애완동물미용사\"\n",
        "  },\n",
        "  {\n",
        "    \"_id\": \"5d788255-8d5e-4f03-B446-dbac6a147e37\",\n",
        "    \"index\": \"3\",\n",
        "    \"name\": \"경진아\",\n",
        "    \"email\": \"user-n7pey4v@Etiam.biz\",\n",
        "    \"phone\": \"010-4049-8718\",\n",
        "    \"country\": \"아르메니아\",\n",
        "    \"address\": \"강남대로 87-5\",\n",
        "    \"job\": \"플로리스트\"\n",
        "  },\n",
        "  {\n",
        "    \"_id\": \"083efce4-17ed-4e9f-Ad7c-f9aa0ac6cb79\",\n",
        "    \"index\": \"4\",\n",
        "    \"name\": \"복소유\",\n",
        "    \"email\": \"user-ohaz2is@nibh.biz\",\n",
        "    \"phone\": \"010-3400-5945\",\n",
        "    \"country\": \"페루\",\n",
        "    \"address\": \"양산로 78-1\",\n",
        "    \"job\": \"응급구조사\"\n",
        "  },\n",
        "  {\n",
        "    \"_id\": \"d54ce0fa-c025-4af6-Cd9a-b9d10aa8be5a\",\n",
        "    \"index\": \"5\",\n",
        "    \"name\": \"화예빈\",\n",
        "    \"email\": \"user-mnkpdlp@vel.net\",\n",
        "    \"phone\": \"010-3120-8720\",\n",
        "    \"country\": \"허드 및 맥도널드 제도\",\n",
        "    \"address\": \"한남대로 6-2\",\n",
        "    \"job\": \"전문의사\"\n",
        "  }\n",
        "]"
      ],
      "metadata": {
        "id": "yNNYhbVxBXzu"
      },
      "execution_count": null,
      "outputs": []
    },
    {
      "cell_type": "code",
      "source": [
        "# 미션 1\n",
        "# 각각의 회원 이름_info.txt 로 각각 정보 정리\n",
        "\n",
        "# 미션 2\n",
        "# 엑셀로 각각 정보 정리\n",
        "\n",
        "# 미션 3\n",
        "# html로 table로 정리하기 => table 클릭하면 정렬되게 하기(JS를 배우셨으면 했을텐데...)\n"
      ],
      "metadata": {
        "id": "Ot0EzOQ2Bylb"
      },
      "execution_count": null,
      "outputs": []
    },
    {
      "cell_type": "code",
      "source": [
        "# 미션 1\n",
        "# 각각의 회원 이름_info.txt 로 각각 정보 정리\n",
        "\n",
        "list(map(lambda x: x['name'], db_data)) # 보통 데이터를 뽑고 싶을 때 map을 사용\n",
        "\n",
        "for i, name in enumerate(map(lambda x: x['name'], db_data)):\n",
        "    with open(f'{name}_info.txt', 'w') as f:\n",
        "        f.write(str(db_data[i]))"
      ],
      "metadata": {
        "id": "JnyVsEQpDb2n"
      },
      "execution_count": null,
      "outputs": []
    },
    {
      "cell_type": "code",
      "source": [
        "# 미션 2\n",
        "# 엑셀로 각각 정보 정리\n",
        "\n",
        "with open('dada.csv', 'w') as f:\n",
        "    s = '아이디, 인덱스, 이름, 이메일, 휴대폰, 나라, 주소, 직업'\n",
        "    for i in db_data:\n",
        "        s += f'{i[\"_id\"]}, {i[\"index\"]}, {i[\"name\"]},{i[\"email\"]},{i[\"phone\"]},{i[\"country\"]},{i[\"address\"]}, {i[\"job\"]}'\n",
        "    f.write(s)"
      ],
      "metadata": {
        "id": "tKU4WfRjGQWM"
      },
      "execution_count": null,
      "outputs": []
    },
    {
      "cell_type": "code",
      "source": [
        "# 부록\n",
        "# 엑셀라이터\n",
        "# 복습 X"
      ],
      "metadata": {
        "id": "Vrr7AHUuJabd"
      },
      "execution_count": null,
      "outputs": []
    },
    {
      "cell_type": "code",
      "source": [
        "!pip install xlsxwriter"
      ],
      "metadata": {
        "colab": {
          "base_uri": "https://localhost:8080/"
        },
        "id": "sztgjM_zJe8r",
        "outputId": "75cb958c-f771-4b0d-8b85-ed3131c6379c"
      },
      "execution_count": null,
      "outputs": [
        {
          "output_type": "stream",
          "name": "stdout",
          "text": [
            "Collecting xlsxwriter\n",
            "  Downloading XlsxWriter-3.1.9-py3-none-any.whl (154 kB)\n",
            "\u001b[2K     \u001b[90m━━━━━━━━━━━━━━━━━━━━━━━━━━━━━━━━━━━━━━━━\u001b[0m \u001b[32m154.8/154.8 kB\u001b[0m \u001b[31m1.8 MB/s\u001b[0m eta \u001b[36m0:00:00\u001b[0m\n",
            "\u001b[?25hInstalling collected packages: xlsxwriter\n",
            "Successfully installed xlsxwriter-3.1.9\n"
          ]
        }
      ]
    },
    {
      "cell_type": "code",
      "source": [
        "# request나 bs4 기본 모듈 아닌데 colab에 깔려 있는 것입니다.\n",
        "# 데스크톱에서 깔려있는지 확인하시지 않고 실행시키면 모듈이 없다고 나옵니다."
      ],
      "metadata": {
        "id": "M6-oEga1JEtp"
      },
      "execution_count": null,
      "outputs": []
    },
    {
      "cell_type": "code",
      "source": [
        "# 워크북(엑셀파일 1개입니다.)\n",
        "# 워크시트(sheet이라고 아래 여러개의 sheet을 만들 수 있습니다.)\n",
        "# 셀(네모 칸 하나)"
      ],
      "metadata": {
        "id": "b9frFiP9J6FH"
      },
      "execution_count": null,
      "outputs": []
    },
    {
      "cell_type": "code",
      "source": [
        "import xlsxwriter\n",
        "\n",
        "workbook = xlsxwriter.Workbook('hello.xlsx')\n",
        "worksheet = workbook.add_worksheet('test')\n",
        "\n",
        "worksheet.write('A1', 'A')\n",
        "worksheet.write('B1', 'B')\n",
        "worksheet.write('C1', 'C')\n",
        "worksheet.write('A1', 'D')\n",
        "worksheet.write('B1', 'E')\n",
        "worksheet.write('C1', 'F')\n",
        "\n",
        "workbook.close()\n"
      ],
      "metadata": {
        "id": "6rap7gjoKKxt"
      },
      "execution_count": null,
      "outputs": []
    },
    {
      "cell_type": "code",
      "source": [
        "s = '''\n",
        "<style>\n",
        "    table {\n",
        "        border-collapse: collapse;\n",
        "        width: 100%;\n",
        "        border: 1px solid black;\n",
        "    }\n",
        "    tr, td, th {\n",
        "        border: 1px solid black;\n",
        "    }\n",
        "</style>\n",
        "<table>\n",
        "    <tr>\n",
        "        <th>아이디</th>\n",
        "        <th>인덱스</th>\n",
        "        <th>이름</th>\n",
        "        <th>이메일</th>\n",
        "        <th>휴대폰</th>\n",
        "        <th>나라</th>\n",
        "        <th>주소</th>\n",
        "        <th>직업</th>\n",
        "    </tr>\n",
        "'''\n",
        "\n",
        "for item in db_data:\n",
        "    s += f'''\n",
        "        <tr>\n",
        "                <td>{item[\"_id\"]}</td>\n",
        "                <td>{item[\"index\"]}</td>\n",
        "                <td>{item[\"name\"]}</td>\n",
        "                <td>{item[\"email\"]}</td>\n",
        "                <td>{item[\"phone\"]}</td>\n",
        "                <td>{item[\"country\"]}</td>\n",
        "                <td>{item[\"address\"]}</td>\n",
        "                <td>{item[\"job\"]}</td>\n",
        "        </tr>\n",
        "        '''\n",
        "\n",
        "s += '</table>'\n",
        "\n",
        "with open('test.html', 'w') as f:\n",
        "    f.write(s)"
      ],
      "metadata": {
        "id": "A6C1wfZ8KxZd"
      },
      "execution_count": null,
      "outputs": []
    },
    {
      "cell_type": "code",
      "source": [
        "f = open('test.html', 'r')\n",
        "while True:\n",
        "    line = f.readline()\n",
        "    if not line:\n",
        "        break\n",
        "    print(line, end='')\n",
        "f.close()"
      ],
      "metadata": {
        "id": "CABblprHXLIZ"
      },
      "execution_count": null,
      "outputs": []
    },
    {
      "cell_type": "code",
      "source": [
        "f = open('test.html', 'r')\n",
        "data = f.read()\n",
        "print(data)\n",
        "f.close()"
      ],
      "metadata": {
        "id": "BQOzmtLXXRGA"
      },
      "execution_count": null,
      "outputs": []
    },
    {
      "cell_type": "markdown",
      "source": [
        "# 비트연산"
      ],
      "metadata": {
        "id": "bhouUq0IYHsD"
      }
    },
    {
      "cell_type": "code",
      "source": [
        "# 실무에서 비트연산을 하는 경우가 거~~~의 없습니다.\n",
        "# 알고리즘 테스트에서 CS지식 정도를 테스트 하는 용도로 간혹 출제가 됩니다.\n",
        "# 진법: 수학 기초 상식\n",
        "\n",
        "# 10진법\n",
        "# 1542 == 1 * (10**3) + 5 * (10**2) + 4 * (10**1) + 2 * (10**0)\n",
        "# 0123456789 10\n",
        "\n",
        "# 16진법\n",
        "# 1542 == 1 * (16**3) + 5 * (16**2) + 4 * (16**1) + 2 * (16**0)\n",
        "# 0123456789abcdef 10\n",
        "\n",
        "# 8진법\n",
        "# 1542 == 1 * (8**3) + 5 * (8**2) + 4 * (8**1) + 2 * (8**0)\n",
        "# 01234567 10\n",
        "\n",
        "# 01 10\n"
      ],
      "metadata": {
        "id": "uCL62gI-YI0W"
      },
      "execution_count": null,
      "outputs": []
    },
    {
      "cell_type": "code",
      "source": [
        "# 진법 변환 팁\n",
        "\n",
        "bin(31) # 2진법 변환  '0b11111'\n",
        "oct(31) # 8진법 변환  '0o37'\n",
        "hex(31) # 16진법 변환 '0x1f'\n",
        "\n",
        "int('0b11111', 2) # 2진수를 10진수로 변환\n",
        "int('11111', 2) # 2진수를 10진수로 변환"
      ],
      "metadata": {
        "id": "aVm_qDmSZNiR"
      },
      "execution_count": null,
      "outputs": []
    },
    {
      "cell_type": "code",
      "source": [
        "#. f-string"
      ],
      "metadata": {
        "id": "PgrjY1s8Zevz"
      },
      "execution_count": null,
      "outputs": []
    },
    {
      "cell_type": "code",
      "source": [
        "# print에 들어가는 문자열 만들기\n",
        "\n",
        "name = '이호준'\n",
        "age = 10\n",
        "\n",
        "'제 이름은 %s이고 제 나이는 %d입니다.'%(name, age) # % 용법\n",
        "'제 이름은 {}이고 제 나이는 {}입니다'.format(name, age) # format 용법(이 문법도 아직 많이 사용합니다.)\n",
        "f'제 이름은 {name}이고 제 나이는 {age}입니다' # f-string 용법(권고합니다.)"
      ],
      "metadata": {
        "id": "ex3To1kmj7-R"
      },
      "execution_count": null,
      "outputs": []
    },
    {
      "cell_type": "code",
      "source": [
        "삼 = '짝'*3\n",
        "칠 = '짝'*7\n",
        "print('삼삼칠 박수 :  {0}!!! {0}!!! {1}!!! '.format(삼, 칠))\n",
        "print(f'삼삼칠 박수 :  {삼}!!! {삼}!!! {칠}!!! ')\n",
        "print(f'삼삼칠 박수 :  {삼*2}!!! {삼}!!! {칠}!!! ') # {}안에서 연산하는 것은 가독성을 해칠 우려가 있습니다."
      ],
      "metadata": {
        "id": "JoV708lDkK3g"
      },
      "execution_count": null,
      "outputs": []
    },
    {
      "cell_type": "code",
      "source": [
        "one_length = 5.343123123\n",
        "\n",
        "print(f'{one_length} 입니다.')\n",
        "print(f'{one_length:.1f} 입니다.')\n",
        "print('{0:.2f}'.format(one_length))\n",
        "print('{:.2f}'.format(one_length))"
      ],
      "metadata": {
        "id": "EjH5PWsYkiT5"
      },
      "execution_count": null,
      "outputs": []
    },
    {
      "cell_type": "markdown",
      "source": [
        "# 비동기와 코루틴"
      ],
      "metadata": {
        "id": "4xgjysmert20"
      }
    },
    {
      "cell_type": "code",
      "source": [
        "# 복습 X\n",
        "!pip install nest_asyncio"
      ],
      "metadata": {
        "colab": {
          "base_uri": "https://localhost:8080/"
        },
        "id": "Tw7221Q8wBZY",
        "outputId": "4745fd53-32e5-4c54-fd6a-67a315cb59ab"
      },
      "execution_count": 26,
      "outputs": [
        {
          "output_type": "stream",
          "name": "stdout",
          "text": [
            "Requirement already satisfied: nest_asyncio in /usr/local/lib/python3.10/dist-packages (1.5.8)\n"
          ]
        }
      ]
    },
    {
      "cell_type": "code",
      "source": [
        "import nest_asyncio\n",
        "\n",
        "nest_asyncio.apply()"
      ],
      "metadata": {
        "id": "KiBrwGe0wCpz"
      },
      "execution_count": 27,
      "outputs": []
    },
    {
      "cell_type": "code",
      "source": [
        "import time\n",
        "\n",
        "def job(number):\n",
        "    print(f\"Job {number} started\")\n",
        "    time.sleep(1)  # 매우 오래 걸리는 작업, 일반 sleep은 CPU를 쉬게 합니다.\n",
        "    print(f\"Job {number} completed\")\n",
        "\n",
        "job(1)\n",
        "job(2)\n",
        "job(3)"
      ],
      "metadata": {
        "colab": {
          "base_uri": "https://localhost:8080/"
        },
        "id": "XgbR8F5uwEjT",
        "outputId": "5f2b99e4-1dc2-434f-a79c-a79b27fb6ae7"
      },
      "execution_count": 28,
      "outputs": [
        {
          "output_type": "stream",
          "name": "stdout",
          "text": [
            "Job 1 started\n",
            "Job 1 completed\n",
            "Job 2 started\n",
            "Job 2 completed\n",
            "Job 3 started\n",
            "Job 3 completed\n"
          ]
        }
      ]
    },
    {
      "cell_type": "code",
      "source": [
        "# colab에서 작동하는 코드\n",
        "# 기본 base는 colab에서 작동하지 않습니다.\n",
        "import asyncio\n",
        "\n",
        "async def job(number):\n",
        "    print(f\"Job {number} started\")\n",
        "    await asyncio.sleep(1) # 매우 오래 걸리는 작업, asyncio.sleep은 비동기 처리를 할 수 있도록 합니다.(다른 작업이 가능합니다.)\n",
        "    print(f\"Job {number} completed\")\n",
        "\n",
        "async def main():\n",
        "    await asyncio.gather(job(1), job(2), job(3)) # await asyncio.wait([job(1), job(2), job(3)])\n",
        "\n",
        "asyncio.run(main())\n",
        "print('hello world')"
      ],
      "metadata": {
        "id": "Aqmfea-KwFEi"
      },
      "execution_count": null,
      "outputs": []
    },
    {
      "cell_type": "code",
      "source": [
        "async def job():\n",
        "    print('job')\n",
        "\n",
        "print(job) # <function job at 0x7fc8cb38ef80>\n",
        "job() # <coroutine object job at 0x7fc8cb32bc30>, print('job')이 실행되진 않습니다!"
      ],
      "metadata": {
        "id": "a0aMQi9XwHMh"
      },
      "execution_count": null,
      "outputs": []
    },
    {
      "cell_type": "code",
      "source": [
        "async def job():\n",
        "    print('job')\n",
        "\n",
        "async def main():\n",
        "    return await job()\n",
        "\n",
        "print(main) # <coroutine object main at 0x7fc8cb22bf40>\n",
        "print(await main()) # None"
      ],
      "metadata": {
        "id": "Ivdkk1fDwIOg"
      },
      "execution_count": null,
      "outputs": []
    },
    {
      "cell_type": "markdown",
      "source": [
        "# 정규표현식"
      ],
      "metadata": {
        "id": "L0J1Dw-u9OaE"
      }
    },
    {
      "cell_type": "code",
      "source": [
        "# 별 2개\n",
        "# 유효성 검증(validator), 문자열 처리, 코딩 테스트(1문제 필수)\n",
        "# 다른 언어에서도 사용할 수 있습니다."
      ],
      "metadata": {
        "id": "ohZInid-9Pha"
      },
      "execution_count": null,
      "outputs": []
    },
    {
      "cell_type": "code",
      "source": [
        "# https://regexr.com/5nvc2\n",
        "# 1번 일반 문자열 패턴\n",
        "# hello world\n",
        "# Hello\n",
        "# ^hello\n",
        "# hello$\n",
        "# ^hello$\n",
        "# .\n",
        "# .....\n",
        "# h[eao]llo\n",
        "# .[eao]llo\n",
        "# ^h[eao]llo$\n",
        "# h[a-zA-Z0-9]llo\n",
        "# h[a-zA-Z]llo\n",
        "# 010-[0-9][0-9][0-9][0-9]-[0-9][0-9][0-9][0-9]\n",
        "# 010.[0-9][0-9][0-9][0-9].[0-9][0-9][0-9][0-9]\n",
        "# 010[- .][0-9][0-9][0-9][0-9][- .][0-9][0-9][0-9][0-9]\n",
        "# [^a-zA-Z0-9]: 나머지 문자열을 찾음 # ^는 대괄호 안에서는 '부정'\n",
        "# _* : 앞에 있는 문자가 0개 ~ N개\n",
        "# _+ : 앞에 있는 문자가 1개 ~ N개\n",
        "# _? : 앞에 있는 문자가 0개 ~ 1개\n",
        "# 010[- .]?[0-9][0-9][0-9][0-9][- .]?[0-9][0-9][0-9][0-9]\n",
        "\n",
        "# {3} : 3개\n",
        "# {3,} : 3개 이상\n",
        "# {1,3} : 1개 ~ 3개\n",
        "# 010[- .]?[0-9]{4}[- .]?[0-9]{4}\n",
        "\n",
        "# _* : 앞에 있는 문자가 0개 ~ N개 ({0,})\n",
        "# _+ : 앞에 있는 문자가 1개 ~ N개({1,})\n",
        "# _? : 앞에 있는 문자가 0개 ~ 1개 ({0,1})\n",
        "\n",
        "# /[0-9]{3}[-.* ][0-9]{4}[-.* ][0-9]{4}/gm\n",
        "\n",
        "# 전화번호\n",
        "# /[0-9a-zA-Z]{2,3}[-.* ][0-9]{3,4}[-.* ][0-9]{4}/gm\n",
        "# /[0-9]{2,3}[-.* ][0-9]{3,4}[-.* ][0-9]{4}/gm\n",
        "\n",
        "# 이메일\n",
        "# /[0-9a-zA-Z]+@[0-9a-zA-Z]+.[a-zA-Z]+/gm\n",
        "# ^[a-zA-Z0-9+-_.]+@[a-zA-Z0-9-]+\\.[a-zA-Z0-9-.]+$\n",
        "# .....@----....\n",
        "\n",
        "\n",
        "# /\\w/gm : 워드 # 많이 사용\n",
        "# /\\w{5} /gm : 5개의 글자와 스페이스 하나\n",
        "# /\\W/gm : not 워드 # 많이 사용\n",
        "# /\\d/gm : 숫자 # 많이 사용\n",
        "# /\\D/gm : not 숫자\n",
        "# /\\s/gm : 스페이스\n",
        "# /\\S/gm : not 스페이스\n",
        "\n",
        "# ^\\d{3}[- .]?\\d{3,4}[- .]?\\d{4}$\n",
        "\n",
        "# /\\[.*]/gm : 대괄호([]) 안에 감싸여진 문자열\n",
        "# /\\(.*\\)/gm : 소괄호 안에 감싸여진 문자열\n",
        "# /\\\\.*\\//gm : 이미 사용되고 있는 특수문자로 감싸여진 문자열\n",
        "# /-.*-/gm : 이스케이프 문자를 사용할 필요가 없는 경우\n",
        "# /\\^\\^/gm : 이스케이프 문자가 필요한 경우\n",
        "# /:\\)/gm : 이스케이프 문자가 필요한 경우\n",
        "\n",
        "# \\[.*]\n",
        "# \\[.*\\], \\[.*\\]"
      ],
      "metadata": {
        "id": "RFUIbo-1-IKE"
      },
      "execution_count": null,
      "outputs": []
    },
    {
      "cell_type": "code",
      "source": [
        "# 사용되는 패턴\n",
        "# 1\n",
        "p = re.compile(r'([0-9]|10)([SDT])([\\*\\#]?)')\n",
        "p.findall('1S2D*3T')\n",
        "\n",
        "# 2\n",
        "re.findall(r'([0-9]|10)([SDT])([\\*\\#]?)', '1S2D*3T')\n",
        "\n",
        "# 자주 사용하는 메서드\n",
        "sub() : 매치된 부분을 치환 (str에 replace와 같은 역활) ## 매우 많이 사용함.\n",
        "findall() : 매치된 부분 모두 리스트 반환\n"
      ],
      "metadata": {
        "id": "xuQD9U2ZHwup"
      },
      "execution_count": null,
      "outputs": []
    },
    {
      "cell_type": "code",
      "source": [
        "# 1S // 2D* // 3T\n",
        "\n",
        "l = []\n",
        "for i in '1S2D*10T':\n",
        "    if i.isdigit():\n",
        "        l.append(int(i))\n",
        "    elif i == 'S':\n",
        "        l[-1] = l[-1] ** 1\n",
        "    elif i == 'D':\n",
        "        l[-1] = l[-1] ** 2\n",
        "    elif i == 'T':\n",
        "        l[-1] = l[-1] ** 3\n",
        "\n",
        "l"
      ],
      "metadata": {
        "colab": {
          "base_uri": "https://localhost:8080/"
        },
        "id": "pJJZg6i7LdNg",
        "outputId": "244f5f05-6178-45b2-81e0-2799b8a7e25d"
      },
      "execution_count": 32,
      "outputs": [
        {
          "output_type": "execute_result",
          "data": {
            "text/plain": [
              "[1, 4, 1, 0]"
            ]
          },
          "metadata": {},
          "execution_count": 32
        }
      ]
    },
    {
      "cell_type": "code",
      "source": [
        "import re\n",
        "\n",
        "list(re.findall(r'([0-9]|10)([SDT])([\\*\\#]?)', '1S2D*3T'))"
      ],
      "metadata": {
        "colab": {
          "base_uri": "https://localhost:8080/"
        },
        "id": "81MU55FIL8Qc",
        "outputId": "1e462380-43fd-4efe-9a45-45a21f1cb877"
      },
      "execution_count": 33,
      "outputs": [
        {
          "output_type": "execute_result",
          "data": {
            "text/plain": [
              "[('1', 'S', ''), ('2', 'D', '*'), ('3', 'T', '')]"
            ]
          },
          "metadata": {},
          "execution_count": 33
        }
      ]
    },
    {
      "cell_type": "code",
      "source": [
        "# 복습 X\n",
        "# dir(\"nice to meet you\")\n",
        "s = \"nice to meet you\"\n",
        "ch = s.maketrans(\"aeiou\", \"!!!!!\");\n",
        "\n",
        "print(s.translate(ch));"
      ],
      "metadata": {
        "id": "PNiwmcAuNUiJ"
      },
      "execution_count": null,
      "outputs": []
    },
    {
      "cell_type": "code",
      "source": [
        "def solution(my_string):\n",
        "    return my_string.replace('a', '').replace('e', '').replace('i', '').replace('o', '').replace('u', '')\n",
        "\n",
        "def solution(my_string):\n",
        "    string = 'aeiou'\n",
        "    for i in string:\n",
        "        my_string = my_string.replace(i, '')\n",
        "    return my_string"
      ],
      "metadata": {
        "id": "K5hj4MwnQ7W7"
      },
      "execution_count": null,
      "outputs": []
    },
    {
      "cell_type": "code",
      "source": [
        "# 문제 : 아래 문자열에서 모든 문자를 제거하고 숫자만 모두 더해주세요\n",
        "'hello1928ljwlie123slie21e1j3'"
      ],
      "metadata": {
        "id": "6ghWPwe1ROoY"
      },
      "execution_count": null,
      "outputs": []
    },
    {
      "cell_type": "code",
      "source": [
        "import re\n",
        "\n",
        "def solution(my_string):\n",
        "    return re.sub(r\"[a-zA-Z]\", \"\", my_string)\n",
        "\n",
        "solution('hello1928ljwlie123slie21e1j3')"
      ],
      "metadata": {
        "colab": {
          "base_uri": "https://localhost:8080/",
          "height": 36
        },
        "id": "P6FrKQgdQ868",
        "outputId": "35e78622-b4dc-4678-fa64-8eee31e188b3"
      },
      "execution_count": 34,
      "outputs": [
        {
          "output_type": "execute_result",
          "data": {
            "text/plain": [
              "'19281232113'"
            ],
            "application/vnd.google.colaboratory.intrinsic+json": {
              "type": "string"
            }
          },
          "metadata": {},
          "execution_count": 34
        }
      ]
    },
    {
      "cell_type": "code",
      "source": [
        "list(re.findall(r'[0-9]', 'hello1928ljwlie123slie21e1j3'))\n",
        "list(re.findall(r'[0-9]+', 'hello1928ljwlie123slie21e1j3'))"
      ],
      "metadata": {
        "colab": {
          "base_uri": "https://localhost:8080/"
        },
        "id": "TPAeRZ5HRdbS",
        "outputId": "748070a3-0c3a-4eec-c341-fc7b0c52f887"
      },
      "execution_count": 35,
      "outputs": [
        {
          "output_type": "execute_result",
          "data": {
            "text/plain": [
              "['1928', '123', '21', '1', '3']"
            ]
          },
          "metadata": {},
          "execution_count": 35
        }
      ]
    },
    {
      "cell_type": "code",
      "source": [
        "# 복습 X\n",
        "import re\n",
        "\n",
        "print(re.sub(r'([0-9]{3})-([0-9]{4})-([0-9]{4})', r'\\1!\\2!\\3', '010-5000-3000'))\n",
        "print(re.sub(r'([0-9]{3})-([0-9]{4})-([0-9]{4})', r'\\1/\\2/\\3', '010-5000-3000'))\n",
        "print(re.sub(r'([0-9]{3})-([0-9]{4})-([0-9]{4})', r'[\\1][\\2][\\3]', '010-5000-3000'))\n",
        "print(re.sub(r'([0-9]{3})-([0-9]{4})-([0-9]{4})', r'[\\1]-[\\2]-[\\3]', '010-5000-3000'))\n",
        "print(re.sub(r'([0-9]{3})-([0-9]{4})-([0-9]{4})', r'지역번호: \\1 전화번호: \\2\\3', '010-5000-3000'))"
      ],
      "metadata": {
        "colab": {
          "base_uri": "https://localhost:8080/"
        },
        "id": "zEt7hMoWSvvO",
        "outputId": "3b265608-6f53-43b0-99ec-8fa88de1f5a0"
      },
      "execution_count": 36,
      "outputs": [
        {
          "output_type": "stream",
          "name": "stdout",
          "text": [
            "010!5000!3000\n",
            "010/5000/3000\n",
            "[010][5000][3000]\n",
            "[010]-[5000]-[3000]\n",
            "지역번호: 010 전화번호: 50003000\n"
          ]
        }
      ]
    },
    {
      "cell_type": "code",
      "source": [
        "# 복습 XXX\n",
        "import re\n",
        "\n",
        "print(re.sub(r'(?P<one>[0-9]{3})-(?P<two>[0-9]{4})-(?P<three>[0-9]{4})', r'\\g<one>!!\\g<two>!!\\g<three>', '010-5000-3000'))"
      ],
      "metadata": {
        "colab": {
          "base_uri": "https://localhost:8080/"
        },
        "id": "FCZU9ceWZQvX",
        "outputId": "e8411866-77c5-44c1-fd64-d326e44d3b56"
      },
      "execution_count": 37,
      "outputs": [
        {
          "output_type": "stream",
          "name": "stdout",
          "text": [
            "010!!5000!!3000\n"
          ]
        }
      ]
    },
    {
      "cell_type": "code",
      "source": [
        "import re\n",
        "\n",
        "text = '''# This is a h1\n",
        "## This is a h2\n",
        "### This is a h3\n",
        "#### This is a h4\n",
        "##### This is a h5\n",
        "###### This is a h6\n",
        "\n",
        "* This is a bulleted list\n",
        "  * This is a nested bulleted list\n",
        "\n",
        "**This is bold text**\n",
        "\n",
        "_This is italic text_\n",
        "\n",
        "~~This text is strikethrough~~\n",
        "'''\n",
        "\n",
        "def markdown_to_html(markdown):\n",
        "    html = re.sub(r'# (.*)', r'<h1>\\1</h1>', markdown)\n",
        "    # html = re.sub(r'## (.*)', r'\\1', html)\n",
        "    # html = re.sub(r'### (.*)', r'\\1', html)\n",
        "    # html = re.sub(r'`(.*)`', r'\\1', html)\n",
        "    # html = re.sub(r'\\*\\*(.*)\\*\\*', r'\\1', html)\n",
        "    # html = re.sub(r'_(.*)_', r'\\1', html)\n",
        "    # html = re.sub(r'~~(.*)~~', r'\\1', html)\n",
        "    # html = re.sub(r'^(>+) (.*)', r'\\1\\2', html)\n",
        "    # html = re.sub(r'^\\* (.*)', r'\\1', html, flags=re.M+re.S)\n",
        "    return html\n",
        "\n",
        "print(markdown_to_html(text))"
      ],
      "metadata": {
        "id": "mPuvl1Q1aNYL"
      },
      "execution_count": null,
      "outputs": []
    }
  ]
}