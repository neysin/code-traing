{
  "nbformat": 4,
  "nbformat_minor": 0,
  "metadata": {
    "colab": {
      "provenance": [],
      "authorship_tag": "ABX9TyO3s4YkWumhDNZ7pQhs6+sF",
      "include_colab_link": true
    },
    "kernelspec": {
      "name": "python3",
      "display_name": "Python 3"
    },
    "language_info": {
      "name": "python"
    }
  },
  "cells": [
    {
      "cell_type": "markdown",
      "metadata": {
        "id": "view-in-github",
        "colab_type": "text"
      },
      "source": [
        "<a href=\"https://colab.research.google.com/github/neysin/orm/blob/main/Python_100%EC%A0%9C.ipynb\" target=\"_parent\"><img src=\"https://colab.research.google.com/assets/colab-badge.svg\" alt=\"Open In Colab\"/></a>"
      ]
    },
    {
      "cell_type": "markdown",
      "source": [
        "# 1. Python 100제"
      ],
      "metadata": {
        "id": "5kxMQdqiQOYL"
      }
    },
    {
      "cell_type": "code",
      "execution_count": 12,
      "metadata": {
        "colab": {
          "base_uri": "https://localhost:8080/"
        },
        "id": "xdN55godO26x",
        "outputId": "b896fdcd-051d-48a1-8fd1-d19ef6bc379b"
      },
      "outputs": [
        {
          "output_type": "stream",
          "name": "stdout",
          "text": [
            "2019/04/26 11:34:27\n"
          ]
        }
      ],
      "source": [
        "# 문제 9번\n",
        "\n",
        "# 변수 선언\n",
        "year = '2019'\n",
        "month = '04'\n",
        "day = '26'\n",
        "hour = '11'\n",
        "minute = '34'\n",
        "second = '27'\n",
        "\n",
        "print(year, month, day, sep=\"/\", end=\" \") # sep 을 통해 / 삽입, end 를 통해 뒷 문장과 연결\n",
        "print(hour, minute, second, sep=\":\")"
      ]
    },
    {
      "cell_type": "code",
      "source": [
        "# 문제 15번\n",
        "\n",
        "name = input() # 이름 입력\n",
        "\n",
        "print(f\"안녕하세요. 저는 {name}입니다.\") # 이름 출력"
      ],
      "metadata": {
        "colab": {
          "base_uri": "https://localhost:8080/"
        },
        "id": "defcCd4fPH-J",
        "outputId": "cd10cceb-3ab2-462e-da34-d3d64c811469"
      },
      "execution_count": 15,
      "outputs": [
        {
          "output_type": "stream",
          "name": "stdout",
          "text": [
            "김다정\n",
            "안녕하세요. 저는 김다정입니다.\n"
          ]
        }
      ]
    },
    {
      "cell_type": "code",
      "source": [
        "# 문제 23번\n",
        "\n",
        "print(10/2)"
      ],
      "metadata": {
        "colab": {
          "base_uri": "https://localhost:8080/"
        },
        "id": "ObRJvZ-4Qydc",
        "outputId": "2037bf64-6f10-41bb-bb1a-52002f3ff21f"
      },
      "execution_count": 23,
      "outputs": [
        {
          "output_type": "stream",
          "name": "stdout",
          "text": [
            "5.0\n"
          ]
        }
      ]
    },
    {
      "cell_type": "code",
      "source": [
        "# 문제 39번\n",
        "# 문제를 제대로 풀이하지 못함. 나중에 다시 풀어보길 바람.\n",
        "\n",
        "word1 = input()\n",
        "print(f\"입력 : {word1}\")\n",
        "word1 = word1.replace(\"q\",\"e\")\n",
        "print(f\"출력 : {word1}\")\n",
        "\n",
        "word2 = input()\n",
        "print(f\"입력 : {word2}\")\n",
        "word2 = word2.replace(\"b\",\"n\")\n",
        "word2 = word2.replace(\"q\",\"e\")\n",
        "print(f\"출력 : {word2}\")\n",
        "\n"
      ],
      "metadata": {
        "colab": {
          "base_uri": "https://localhost:8080/"
        },
        "id": "Nb9Rgd1uRyAa",
        "outputId": "fe26e119-051d-4724-e811-0ee71360bb34"
      },
      "execution_count": 33,
      "outputs": [
        {
          "output_type": "stream",
          "name": "stdout",
          "text": [
            "querty\n",
            "입력 : querty\n",
            "출력 : euerty\n",
            "hqllo my bamq is hyqwob\n",
            "입력 : hqllo my bamq is hyqwob\n",
            "출력 : hello my name is hyewon\n"
          ]
        }
      ]
    },
    {
      "cell_type": "code",
      "source": [],
      "metadata": {
        "id": "EpWMrfdEWLUw"
      },
      "execution_count": null,
      "outputs": []
    }
  ]
}