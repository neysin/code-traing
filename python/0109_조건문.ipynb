{
  "nbformat": 4,
  "nbformat_minor": 0,
  "metadata": {
    "colab": {
      "provenance": [],
      "authorship_tag": "ABX9TyOUjSXkvXwdsuy/wYaECpPR",
      "include_colab_link": true
    },
    "kernelspec": {
      "name": "python3",
      "display_name": "Python 3"
    },
    "language_info": {
      "name": "python"
    }
  },
  "cells": [
    {
      "cell_type": "markdown",
      "metadata": {
        "id": "view-in-github",
        "colab_type": "text"
      },
      "source": [
        "<a href=\"https://colab.research.google.com/github/neysin/orm/blob/main/0109_%EC%A1%B0%EA%B1%B4%EB%AC%B8.ipynb\" target=\"_parent\"><img src=\"https://colab.research.google.com/assets/colab-badge.svg\" alt=\"Open In Colab\"/></a>"
      ]
    },
    {
      "cell_type": "markdown",
      "source": [
        "# 1. 조건문"
      ],
      "metadata": {
        "id": "nqH5dmvHaM0s"
      }
    },
    {
      "cell_type": "code",
      "source": [
        "# 1.1 if문의 기본 구조\n",
        "\n",
        "# if 다음에 조건이 참인 경우에만 코드블록이 실행된다.\n",
        "\n",
        "# x = 2 일때\n",
        "# x = 1 일때\n",
        "# x = 0 일때\n",
        "\n",
        "x = 2 # 비교할 대상\n",
        "\n",
        "if x > 1 : # 비교식 -> 비교식이 참일 경우에 하단의 print('True')가 실행된다.\n",
        "    print('True') # 출력 : True\n",
        "\n",
        "# 조건식이 참일 경우에만 출력이 되고 아닐 때는 출력되지 않는다."
      ],
      "metadata": {
        "colab": {
          "base_uri": "https://localhost:8080/"
        },
        "id": "4m_BVCklpQY4",
        "outputId": "e7b89a9c-4539-4ffd-a59e-ff1e229493ec"
      },
      "execution_count": 4,
      "outputs": [
        {
          "output_type": "stream",
          "name": "stdout",
          "text": [
            "True\n"
          ]
        }
      ]
    },
    {
      "cell_type": "code",
      "source": [
        "# if 문 안에 있는 코드블럭과 바깥에 있는 코드블럭\n",
        "\n",
        "if -1: # 0을 제외한 모든 정수는 True 처리되기 때문에\n",
        "    print('hello') # 1번 출력\n",
        "print('end') # 2번 출력"
      ],
      "metadata": {
        "colab": {
          "base_uri": "https://localhost:8080/"
        },
        "id": "YpiNMaXRpnwe",
        "outputId": "cb177cb2-1c79-43e7-c69b-5d5f67093a51"
      },
      "execution_count": 5,
      "outputs": [
        {
          "output_type": "stream",
          "name": "stdout",
          "text": [
            "hello\n",
            "end\n"
          ]
        }
      ]
    },
    {
      "cell_type": "code",
      "source": [
        "# 공백이 있는 문자열\n",
        "\n",
        "if ' ':\n",
        "    print('hello') # 1번 출력\n",
        "print('end') # 2번 출력\n"
      ],
      "metadata": {
        "colab": {
          "base_uri": "https://localhost:8080/"
        },
        "id": "RY97ftZ8rXkd",
        "outputId": "a05a820b-6256-4f0f-afb2-0fc85767a71a"
      },
      "execution_count": 6,
      "outputs": [
        {
          "output_type": "stream",
          "name": "stdout",
          "text": [
            "hello\n",
            "end\n"
          ]
        }
      ]
    },
    {
      "cell_type": "code",
      "source": [
        "# 공백이 없는 문자열\n",
        "\n",
        "if '': # False\n",
        "    print('hello') # 출력되지 않음\n",
        "print('end') # 1번 출"
      ],
      "metadata": {
        "colab": {
          "base_uri": "https://localhost:8080/"
        },
        "id": "HYiuBMQcsKUo",
        "outputId": "d6e9707a-13dd-4355-9126-fd0733d78bdf"
      },
      "execution_count": 7,
      "outputs": [
        {
          "output_type": "stream",
          "name": "stdout",
          "text": [
            "end\n"
          ]
        }
      ]
    },
    {
      "cell_type": "code",
      "source": [
        "if not '': # not False 이기 때문에 True\n",
        "    print('hello') # 1번 출력\n",
        "print('end') # 2번 출력"
      ],
      "metadata": {
        "colab": {
          "base_uri": "https://localhost:8080/"
        },
        "id": "xlWA83pQsL8u",
        "outputId": "6daa90ac-fba8-47c4-bc63-4ca4e8b3654a"
      },
      "execution_count": 8,
      "outputs": [
        {
          "output_type": "stream",
          "name": "stdout",
          "text": [
            "hello\n",
            "end\n"
          ]
        }
      ]
    },
    {
      "cell_type": "code",
      "source": [
        "if None: # None은 False\n",
        "    print('hello') # 출력되지 않음\n",
        "print('end') # 1번 출력"
      ],
      "metadata": {
        "colab": {
          "base_uri": "https://localhost:8080/"
        },
        "id": "9JNtTddgsWh-",
        "outputId": "afaa2fa9-7d0c-4c23-f79b-6a93436831a0"
      },
      "execution_count": 9,
      "outputs": [
        {
          "output_type": "stream",
          "name": "stdout",
          "text": [
            "end\n"
          ]
        }
      ]
    },
    {
      "cell_type": "code",
      "source": [
        "if not None: # not None은 True\n",
        "    print('hello') # 1번 출력\n",
        "print('end') # 2번 출력"
      ],
      "metadata": {
        "colab": {
          "base_uri": "https://localhost:8080/"
        },
        "id": "iCcXZD1WsjGM",
        "outputId": "e58c3d14-5a0c-46f5-a811-405ea46cd935"
      },
      "execution_count": 10,
      "outputs": [
        {
          "output_type": "stream",
          "name": "stdout",
          "text": [
            "hello\n",
            "end\n"
          ]
        }
      ]
    },
    {
      "cell_type": "code",
      "source": [
        "def f(): # True 로 반환\n",
        "    return True\n",
        "\n",
        "def ff(): # error가 발생하므로 False\n",
        "    x = 100 / 0 # error\n",
        "    return 'hello'\n",
        "\n",
        "if f() or ff(): # True or False 이므로 True에서 단락평가가 이루어짐\n",
        "    print('hello') # 조건에서 f()가 True이므로 출력가능"
      ],
      "metadata": {
        "colab": {
          "base_uri": "https://localhost:8080/"
        },
        "id": "kaHy0CdOssr-",
        "outputId": "c8681125-d5f7-4394-d9dd-77d95f1807b0"
      },
      "execution_count": 12,
      "outputs": [
        {
          "output_type": "stream",
          "name": "stdout",
          "text": [
            "hello\n"
          ]
        }
      ]
    },
    {
      "cell_type": "code",
      "source": [
        "# 삼항 연산자\n",
        "'''\n",
        " x = 5\n",
        " y = 10\n",
        " if x > y :\n",
        "     print('x가 더 큽니다.')\n",
        " else :\n",
        "     print('y와 같거나 y가 더 큽니다.')\n",
        "'''\n",
        "# 위 조건문을 아래 조건문과 같이 간소하게 사용가능\n",
        "\n",
        "x = 5\n",
        "y = 10\n",
        "result = 'x가 더 큽니다' if x > y else 'y와 같거나 y가 더 큽니다.'\n",
        "# 조건문이 참일 경우 'x가 더 큽니다.' 출력, 거짓일 경우 'y와 같거나 y가 더 큽니다.\n",
        "print(result) # 출력: 'y와 같거나 y가 더 큽니다.'"
      ],
      "metadata": {
        "id": "kdyINxGlx5L6"
      },
      "execution_count": null,
      "outputs": []
    },
    {
      "cell_type": "markdown",
      "source": [
        "## 1.1 람다함수"
      ],
      "metadata": {
        "id": "oZ7gdcDA0fES"
      }
    },
    {
      "cell_type": "code",
      "source": [
        "# 두 숫자를 더하는 간단한 함수를 만든다.\n",
        "\n",
        "# def sum(x, y) :\n",
        "#     z = x + y\n",
        "#     return z\n",
        "# sum(5, 3)\n",
        "\n",
        "add = lambda x, y : x + y\n",
        "print(add(5, 3))\n"
      ],
      "metadata": {
        "colab": {
          "base_uri": "https://localhost:8080/"
        },
        "id": "UsaJi2T20iA1",
        "outputId": "333b831e-529e-481e-f91b-37905cb625e0"
      },
      "execution_count": 27,
      "outputs": [
        {
          "output_type": "stream",
          "name": "stdout",
          "text": [
            "8\n"
          ]
        }
      ]
    },
    {
      "cell_type": "code",
      "source": [
        "# 조건문과 람다함수\n",
        "\n",
        "my_function = lambda x: 'Even' if x % 2 == 0 else 'Odd'\n",
        "print(my_function(3))"
      ],
      "metadata": {
        "colab": {
          "base_uri": "https://localhost:8080/"
        },
        "id": "6fE__SnszkXr",
        "outputId": "0fa2326a-5f95-45f1-9cd7-02b1706dacdf"
      },
      "execution_count": 29,
      "outputs": [
        {
          "output_type": "stream",
          "name": "stdout",
          "text": [
            "Odd\n"
          ]
        }
      ]
    },
    {
      "cell_type": "markdown",
      "source": [
        "# 2. if, elif, else와 중첩 조건문"
      ],
      "metadata": {
        "id": "QS3AvVZV0Lrp"
      }
    },
    {
      "cell_type": "code",
      "source": [
        "# if, else문의 기본구조\n",
        "\n",
        "if 조건문: # 조건문을 확인해서 만약 '참'이면 if 문 다음에 문장들은 수행합니다.\n",
        "    pass\n",
        "\t  # 수행할 문장 1\n",
        "else: # if문의 조건이 거짓이면 else 문이 실행됩니다.\n",
        "    pass\n",
        "\t  # 수행할 문장 2"
      ],
      "metadata": {
        "id": "hdslgKnr1cEs"
      },
      "execution_count": null,
      "outputs": []
    },
    {
      "cell_type": "code",
      "source": [
        "# if, elif, else문의 기본구조\n",
        "\n",
        "if 조건문: # 조건문을 확인해서 만약 '참'이면 if 문 다음에 문장들은 수행합니다.\n",
        "\t  # 수행할 문장 1\n",
        "    pass\n",
        "elif: # if문의 조건이 '참'이 아니라면 elif 문의 조건문이 참이라면 수행한다.\n",
        "\t  # 수행할 문장 2\n",
        "    pass\n",
        "else: # 위 모든 if문, elif문의 조건이 '참'이 아니라면 수행합니다.\n",
        "\t  # 수행할 문장 3\n",
        "    pass"
      ],
      "metadata": {
        "id": "A2D7axpp3M4r"
      },
      "execution_count": null,
      "outputs": []
    },
    {
      "cell_type": "code",
      "source": [
        "score = int(input(\"성적을 입력하세요 (0-100): \"))\n",
        "\n",
        "if score >= 90:\n",
        "    print(\"A\")\n",
        "elif 90 > score >= 80:\n",
        "    print(\"B\")\n",
        "elif 80 > score >= 70:\n",
        "    print(\"C\")\n",
        "elif 70 > score >= 60:\n",
        "    print(\"D\")\n",
        "else:\n",
        "    print(\"F\")"
      ],
      "metadata": {
        "colab": {
          "base_uri": "https://localhost:8080/"
        },
        "id": "h7X0_4gy4DAp",
        "outputId": "3a4bbf9a-96fb-4204-8d82-600140cc6a47"
      },
      "execution_count": 31,
      "outputs": [
        {
          "output_type": "stream",
          "name": "stdout",
          "text": [
            "성적을 입력하세요 (0-100): 80\n",
            "B\n"
          ]
        }
      ]
    },
    {
      "cell_type": "code",
      "source": [
        "score = 81\n",
        "money = 0\n",
        "\n",
        "if score >= 90:\n",
        "    money += 1000000\n",
        "elif score >= 80:\n",
        "    money += 100000\n",
        "elif score >= 70:\n",
        "    money += 10000\n",
        "elif score >= 60:\n",
        "    money += 1000\n",
        "else:\n",
        "    money = 0\n",
        "print(money)"
      ],
      "metadata": {
        "colab": {
          "base_uri": "https://localhost:8080/"
        },
        "id": "gyf-h7g04Gi0",
        "outputId": "ce5f00fa-34ee-48b1-b7f4-746070829db7"
      },
      "execution_count": 32,
      "outputs": [
        {
          "output_type": "stream",
          "name": "stdout",
          "text": [
            "100000\n"
          ]
        }
      ]
    },
    {
      "cell_type": "code",
      "source": [
        "# 중첩 if-elif문 사용하기\n",
        "\n",
        "movie = {\n",
        "    '영화': '레미제라블',\n",
        "    '장르': '드라마',\n",
        "    '서비스': '디즈니',\n",
        "    '비용': 15000,\n",
        "    '평점': 4.9\n",
        "}\n",
        "\n",
        "if movie['장르'] == '드라마':\n",
        "    if movie['서비스'] == '디즈니' or movie['서비스'] == '넷플릭스':\n",
        "        if movie['평점'] >= 4.5:\n",
        "            if movie['비용'] <= 20000:\n",
        "                print('영화시청') # 출력: 영화시청"
      ],
      "metadata": {
        "colab": {
          "base_uri": "https://localhost:8080/"
        },
        "id": "S0RbCXcu-_nH",
        "outputId": "e7cfd657-c868-4737-dc01-ace775b39d09"
      },
      "execution_count": 33,
      "outputs": [
        {
          "output_type": "stream",
          "name": "stdout",
          "text": [
            "영화시청\n"
          ]
        }
      ]
    },
    {
      "cell_type": "code",
      "source": [
        "movie = {\n",
        "    '영화': '레미제라블',\n",
        "    '장르': 'SF',\n",
        "    '서비스': '왓챠',\n",
        "    '비용': 15000,\n",
        "    '평점': 4.9\n",
        "}\n",
        "\n",
        "if movie['장르'] == 'SF':\n",
        "    if movie['서비스'] == '디즈니' or movie['서비스'] == '넷플릭스':\n",
        "        if movie['평점'] >= 4.5 and movie['비용'] <= 20000:\n",
        "            print('영화시청')\n",
        "    else:\n",
        "\n",
        "        print(movie['서비스'] + ' 구독하기!') # 출력: 왓챠 구독하기!\n",
        "else:\n",
        "    print(movie['서비스'] + ' 구독하기!') # 출력: 왓챠 구독하기!"
      ],
      "metadata": {
        "colab": {
          "base_uri": "https://localhost:8080/"
        },
        "id": "Jxw9sHwABddg",
        "outputId": "44c07cf4-6c44-48b2-d54b-20349c66f26f"
      },
      "execution_count": 41,
      "outputs": [
        {
          "output_type": "stream",
          "name": "stdout",
          "text": [
            "왓챠 구독하기!\n"
          ]
        }
      ]
    }
  ]
}