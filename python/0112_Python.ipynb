{
  "nbformat": 4,
  "nbformat_minor": 0,
  "metadata": {
    "colab": {
      "provenance": [],
      "authorship_tag": "ABX9TyPq/lXpFaI7wdn/dreraGkt",
      "include_colab_link": true
    },
    "kernelspec": {
      "name": "python3",
      "display_name": "Python 3"
    },
    "language_info": {
      "name": "python"
    }
  },
  "cells": [
    {
      "cell_type": "markdown",
      "metadata": {
        "id": "view-in-github",
        "colab_type": "text"
      },
      "source": [
        "<a href=\"https://colab.research.google.com/github/neysin/orm/blob/main/0112_Python.ipynb\" target=\"_parent\"><img src=\"https://colab.research.google.com/assets/colab-badge.svg\" alt=\"Open In Colab\"/></a>"
      ]
    },
    {
      "cell_type": "code",
      "execution_count": 2,
      "metadata": {
        "colab": {
          "base_uri": "https://localhost:8080/"
        },
        "id": "6k2w1ntnaSlt",
        "outputId": "c1553b65-ca41-4aae-ff10-6864d02a409b"
      },
      "outputs": [
        {
          "output_type": "execute_result",
          "data": {
            "text/plain": [
              "30"
            ]
          },
          "metadata": {},
          "execution_count": 2
        }
      ],
      "source": [
        "l = [lambda x, y: x + y, lambda x, y: x - y, lambda x, y: x / y, lambda x, y: x * y]\n",
        "l[0](10, 20)"
      ]
    },
    {
      "cell_type": "code",
      "source": [
        "list(map(int, ['1', '11', 100, '77']))"
      ],
      "metadata": {
        "colab": {
          "base_uri": "https://localhost:8080/"
        },
        "id": "ZbZjcOfAcTRq",
        "outputId": "1a4e91a2-ae91-46df-d1ae-6e834f8a6e3e"
      },
      "execution_count": 4,
      "outputs": [
        {
          "output_type": "execute_result",
          "data": {
            "text/plain": [
              "[1, 11, 100, 77]"
            ]
          },
          "metadata": {},
          "execution_count": 4
        }
      ]
    },
    {
      "cell_type": "code",
      "source": [
        "list(map(str, ['1', 11, 100, '77']))"
      ],
      "metadata": {
        "colab": {
          "base_uri": "https://localhost:8080/"
        },
        "id": "uCfTJPfJen1d",
        "outputId": "fb9b5a9e-9aa4-48e5-d956-f9d4013d9b65"
      },
      "execution_count": 8,
      "outputs": [
        {
          "output_type": "execute_result",
          "data": {
            "text/plain": [
              "['1', '11', '100', '77']"
            ]
          },
          "metadata": {},
          "execution_count": 8
        }
      ]
    },
    {
      "cell_type": "code",
      "source": [
        "list(map(str.isdigit, 'he1llo w2orl3d'))"
      ],
      "metadata": {
        "colab": {
          "base_uri": "https://localhost:8080/"
        },
        "id": "7qmU2K61eQQX",
        "outputId": "93aa0a81-e1cb-41dc-ca7e-114c32ce362a"
      },
      "execution_count": 5,
      "outputs": [
        {
          "output_type": "execute_result",
          "data": {
            "text/plain": [
              "[False,\n",
              " False,\n",
              " True,\n",
              " False,\n",
              " False,\n",
              " False,\n",
              " False,\n",
              " False,\n",
              " True,\n",
              " False,\n",
              " False,\n",
              " False,\n",
              " True,\n",
              " False]"
            ]
          },
          "metadata": {},
          "execution_count": 5
        }
      ]
    },
    {
      "cell_type": "code",
      "source": [
        "list(filter(str.isdigit, 'he1llo w2orl3d'))"
      ],
      "metadata": {
        "colab": {
          "base_uri": "https://localhost:8080/"
        },
        "id": "IFbqMzrKecL3",
        "outputId": "09d78c71-2836-4cd9-f8f4-fc8720251975"
      },
      "execution_count": 9,
      "outputs": [
        {
          "output_type": "execute_result",
          "data": {
            "text/plain": [
              "['1', '2', '3']"
            ]
          },
          "metadata": {},
          "execution_count": 9
        }
      ]
    },
    {
      "cell_type": "code",
      "source": [
        "# 난이도가 있는 것을 해보겠습니다.\n",
        "# 복습 X (중요도는 좀 있음, 복습 시간에 가능하다면 복습 권유)\n",
        "요일 = {\n",
        "    0: '일요일',\n",
        "    1: '월요일',\n",
        "    2: '화요일',\n",
        "    3: '수요일',\n",
        "    4: '목요일',\n",
        "    5: '금요일',\n",
        "    6: '토요일',\n",
        "}\n",
        "\n",
        "def 함수(x):\n",
        "    return 요일.get(x, '요일없음')\n",
        "\n",
        "list(map(함수, [1, 5, 6, 3, 4]))\n",
        "\n"
      ],
      "metadata": {
        "colab": {
          "base_uri": "https://localhost:8080/"
        },
        "id": "lD6aANp0ef-m",
        "outputId": "a38fb39f-3dde-4b22-f2ff-5c348fa11a23"
      },
      "execution_count": 10,
      "outputs": [
        {
          "output_type": "execute_result",
          "data": {
            "text/plain": [
              "['월요일', '금요일', '토요일', '수요일', '목요일']"
            ]
          },
          "metadata": {},
          "execution_count": 10
        }
      ]
    },
    {
      "cell_type": "markdown",
      "source": [
        "# class 두번째 시간\n",
        "\n",
        "* class 클래스이름 => 인스턴스\n",
        "* class Post => 게시물1, 게시물2, 게시물3...\n",
        "* class Dot => 점1, 점2, 점3...\n",
        "* class Character => Licat(주인공), Lion(빌런), Mob1(몬스터)\n",
        "* class Matrix => 행렬1, 행렬2, 행렬3...\n",
        "* class User => 유저1, 유저2, 유저3...\n",
        "* class Cart(장바구니) => Cart1, Cart2, Cart3...\n",
        "* class Commnet(댓글) => 댓글1, 댓글2, 댓글3...\n",
        "* class Product => 상품1, 상품2, 상품3...\n",
        "* class Class_ => 강의1, 강의2, 강의3...\n",
        "* class Teacher => 강사1, 강사2, 강사3..."
      ],
      "metadata": {
        "id": "2PMBH7MegYGv"
      }
    },
    {
      "cell_type": "markdown",
      "source": [
        "## Character"
      ],
      "metadata": {
        "id": "CBCQFsm-ghcX"
      }
    },
    {
      "cell_type": "code",
      "source": [
        "class Character:\n",
        "    def __init__(self, name, skill, hp, mp, power, defence):\n",
        "        self.name = name\n",
        "        self.skill = skill\n",
        "        self.hp = hp\n",
        "        self.mp = mp\n",
        "        self.power = power\n",
        "        self.defence = defence\n",
        "\n",
        "    def attack(self, next):\n",
        "        next.hp -= self.power\n",
        "\n",
        "\n",
        "class Item:\n",
        "    엑스칼리버 = {'name': '엑스칼리버', 'power': 1000}\n",
        "    가죽갑옷 = {'name': '가죽갑옷', 'defence': 10}\n",
        "    철갑옷 = {'name': '철갑옷', 'defence': 100}\n",
        "    HP물약 = {'name': 'HP물약', 'hp': 10}\n",
        "    MP물약 = {'name': 'MP물약', 'mp': 10}\n",
        "\n",
        "    def repair(self):\n",
        "        print('수리합니다.')\n",
        "\n",
        "\n",
        "class Hero(Character, Item):\n",
        "    def __init__(self, name, skill, hp, mp, power, defence, level=1):\n",
        "        # self.name = name # 이렇게 일일이 하지 않고, 아래와 같이 하면 됩니다.\n",
        "        super().__init__(name, skill, hp, mp, power, defence)\n",
        "        self.level = level\n",
        "        self.item = []\n",
        "\n",
        "    def add_item(self, item):\n",
        "        self.item.append(item)\n",
        "        self.power += item.get('power', 0)\n",
        "        self.power += item.get('defence', 0)\n",
        "        self.power += item.get('hp', 0)\n",
        "        self.power += item.get('mp', 0)\n",
        "\n",
        "    def show_item(self):\n",
        "        print(self.item)\n",
        "\n",
        "\n",
        "class Mob(Character, Item):\n",
        "    pass\n",
        "\n",
        "\n",
        "주인공1 = Hero('licat', '질풍검', 100, 100, 10, 0)\n",
        "몹1 = Character('licat', '질풍검', 100, 100, 10, 0)\n",
        "\n",
        "주인공1.attack(몹1)\n",
        "몹1.hp\n",
        "\n",
        "주인공1.add_item(item.엑스칼리버)\n",
        "주인공1.repair()\n",
        "주인공1.show_item()"
      ],
      "metadata": {
        "colab": {
          "base_uri": "https://localhost:8080/"
        },
        "id": "eS-V03snxKjp",
        "outputId": "460e82c5-f592-4ad8-e1ba-0c3979ec4f26"
      },
      "execution_count": 40,
      "outputs": [
        {
          "output_type": "stream",
          "name": "stdout",
          "text": [
            "수리합니다.\n",
            "[{'power': 1000}]\n"
          ]
        }
      ]
    },
    {
      "cell_type": "markdown",
      "source": [
        "## Matrix"
      ],
      "metadata": {
        "id": "sfy7wRTXwjGV"
      }
    },
    {
      "cell_type": "code",
      "source": [
        "class Matrix:\n",
        "    def __init__(self, value):\n",
        "        self.value = value\n",
        "\n",
        "    def __add__(self, next):\n",
        "        result = []\n",
        "        for i, _ in enumerate(self.value):\n",
        "            result.append(self.value[i] + next.value[i])\n",
        "        return result\n",
        "\n",
        "    def __mul__(self, next):\n",
        "        for i, _ in enumerate(self.value):\n",
        "            self.value[i] *= next\n",
        "        return self.value\n",
        "\n",
        "    def __str__(self):\n",
        "        return str(self.value)\n",
        "\n",
        "    def __repr__(self):\n",
        "        return str(self.value)\n",
        "\n",
        "a = Matrix([1, 2, 3])\n",
        "b = Matrix([1, 2, 3])\n",
        "\n",
        "a*3\n",
        "print(a)\n",
        "# 파이썬에서 사용하지 않는 변수는 _로 할당합니다."
      ],
      "metadata": {
        "colab": {
          "base_uri": "https://localhost:8080/"
        },
        "id": "61SnllrehY8-",
        "outputId": "4631f5fe-8650-48c7-96b8-e9858ca997b5"
      },
      "execution_count": 23,
      "outputs": [
        {
          "output_type": "stream",
          "name": "stdout",
          "text": [
            "[3, 6, 9]\n"
          ]
        }
      ]
    },
    {
      "cell_type": "code",
      "source": [
        "# 한 번 더 호출?\n",
        "# 왜 0, 1, 2, 3, 4가 두 번 호출되지 않는가?\n",
        "class MyIterator:\n",
        "    def __init__(self, stop):\n",
        "        self.currentValue = 0\n",
        "        self.stop = stop\n",
        "\n",
        "    def __iter__(self):\n",
        "        return self\n",
        "\n",
        "    def __next__(self):\n",
        "        if self.currentValue >= self.stop:\n",
        "            raise StopIteration\n",
        "        result = self.currentValue\n",
        "        self.currentValue += 1\n",
        "        return result\n",
        "\n",
        "my_iterator = MyIterator(5)\n",
        "\n",
        "for i in my_iterator:\n",
        "    print(i)\n",
        "\n",
        "for i in my_iterator:\n",
        "    print(i)"
      ],
      "metadata": {
        "id": "EwedfMyWj9pX"
      },
      "execution_count": null,
      "outputs": []
    },
    {
      "cell_type": "code",
      "source": [
        "# 이거 한번만 실행됩니다.\n",
        "# 위와 같은 원리입니다.\n",
        "\n",
        "a = map(lambda x: x**2, [1, 2, 3, 4])\n",
        "\n",
        "for i in a:\n",
        "    print(i)\n",
        "\n",
        "for i in a:\n",
        "    print(i)"
      ],
      "metadata": {
        "id": "3VfydJhwrY52"
      },
      "execution_count": null,
      "outputs": []
    },
    {
      "cell_type": "code",
      "source": [
        "class Matrix:\n",
        "    def __init__(self, value):\n",
        "        self.index = 0\n",
        "        self.value = value\n",
        "\n",
        "    def __add__(self, next):\n",
        "        result = []\n",
        "        for i, _ in enumerate(self.value):\n",
        "            result.append(self.value[i] + next.value[i])\n",
        "        return result\n",
        "\n",
        "    def __mul__(self, next):\n",
        "        for i, _ in enumerate(self.value):\n",
        "            self.value[i] *= next\n",
        "        return self.value\n",
        "\n",
        "    def __str__(self):\n",
        "        return str(self.value)\n",
        "\n",
        "    def __repr__(self):\n",
        "        return str(self.value)\n",
        "\n",
        "    def __iter__(self):\n",
        "        return self\n",
        "\n",
        "    def __next__(self):\n",
        "        if self.index >= len(self.value):\n",
        "            raise StopIteration\n",
        "        idx = self.index\n",
        "        self.index += 1\n",
        "        return self.value[idx]\n",
        "\n",
        "a = Matrix([1, 2, 3])\n",
        "\n",
        "for i in a:\n",
        "    print(i)"
      ],
      "metadata": {
        "colab": {
          "base_uri": "https://localhost:8080/"
        },
        "id": "_CVU4FenuMAL",
        "outputId": "2efe9e3d-28f6-4af1-dd6e-e59e94d802eb"
      },
      "execution_count": 24,
      "outputs": [
        {
          "output_type": "stream",
          "name": "stdout",
          "text": [
            "1\n",
            "2\n",
            "3\n"
          ]
        }
      ]
    },
    {
      "cell_type": "code",
      "source": [
        "a = [1, 2, 3]\n",
        "b = ['a', 'b', 'c']\n",
        "\n",
        "z = zip(a, b)\n",
        "print(list(z)) # [(1, 'a'), (2, 'b'), (3, 'c')]\n",
        "\n",
        "# zip 객체는 한 번 사용되었으므로 빈 리스트가 반환됩니다.\n",
        "print(list(z)) # []"
      ],
      "metadata": {
        "colab": {
          "base_uri": "https://localhost:8080/"
        },
        "id": "D3TSL8UHv3IZ",
        "outputId": "4236f5aa-d3be-47cd-da40-1daba23b24dd"
      },
      "execution_count": 25,
      "outputs": [
        {
          "output_type": "stream",
          "name": "stdout",
          "text": [
            "[(1, 'a'), (2, 'b'), (3, 'c')]\n",
            "[]\n"
          ]
        }
      ]
    },
    {
      "cell_type": "code",
      "source": [
        "li = [1, 2, 3]\n",
        "st = ['a', 'b', 'c']\n",
        "z = zip(li, st)\n",
        "\n",
        "for i in z:\n",
        "    print(i)\n",
        "\n",
        "for i in z:\n",
        "    print(i)"
      ],
      "metadata": {
        "colab": {
          "base_uri": "https://localhost:8080/"
        },
        "id": "EdaYioC8v5is",
        "outputId": "e03217be-5bad-4299-a8fb-c2407adf024d"
      },
      "execution_count": 26,
      "outputs": [
        {
          "output_type": "stream",
          "name": "stdout",
          "text": [
            "(1, 'a')\n",
            "(2, 'b')\n",
            "(3, 'c')\n"
          ]
        }
      ]
    },
    {
      "cell_type": "code",
      "source": [
        "li = [1, 2, 3]\n",
        "st = ['a', 'b', 'c']\n",
        "i = iter(zip(li, st))\n",
        "next(i)\n",
        "next(i)\n",
        "next(i)\n",
        "next(i) # StopIteration\n",
        "\n",
        "# 대표적으로 zip, map, reversed, filter 가 동일하게 작동되며\n",
        "# `sorted`는 재순회 할 수 있습니다."
      ],
      "metadata": {
        "id": "b-krl2ROwI_N"
      },
      "execution_count": null,
      "outputs": []
    },
    {
      "cell_type": "code",
      "source": [],
      "metadata": {
        "id": "alC08Of7weEa"
      },
      "execution_count": null,
      "outputs": []
    },
    {
      "cell_type": "markdown",
      "source": [
        "# 클래스 상속"
      ],
      "metadata": {
        "id": "oyL8qC3ZHnXZ"
      }
    },
    {
      "cell_type": "code",
      "source": [
        "class Car(object):\n",
        "    maxSpeed = 300\n",
        "    maxPeople = 5\n",
        "\n",
        "    def move(self):\n",
        "        print('출발하였습니다.')\n",
        "\n",
        "    def stop(self):\n",
        "        print('멈췄습니다.')\n",
        "\n",
        "class HybridCar(Car):\n",
        "    battery = 1000\n",
        "    batteryKM = 300\n",
        "\n",
        "class ElectricCar(HybridCar):\n",
        "    battery = 2000\n",
        "    batteryKM = 600\n",
        "\n",
        "\n",
        "modelx = HybridCar()\n",
        "electricCarModely = ElectricCar()\n",
        "print(modelx.maxSpeed)\n",
        "print(electricCarModely.maxSpeed)\n",
        "print(electricCarModely.battery)\n",
        "electricCarModely.move()"
      ],
      "metadata": {
        "colab": {
          "base_uri": "https://localhost:8080/"
        },
        "id": "cH_Cc4A9HotJ",
        "outputId": "003d8b7b-c712-4151-92af-284e241779fc"
      },
      "execution_count": 41,
      "outputs": [
        {
          "output_type": "stream",
          "name": "stdout",
          "text": [
            "300\n",
            "300\n",
            "2000\n",
            "출발하였습니다.\n"
          ]
        }
      ]
    },
    {
      "cell_type": "markdown",
      "source": [
        "## 다중 상속"
      ],
      "metadata": {
        "id": "KseCFkATIZk6"
      }
    },
    {
      "cell_type": "code",
      "source": [
        "class A:\n",
        "    def method(self):\n",
        "        print(\"A method\")\n",
        "\n",
        "class B(A):\n",
        "    def method(self):\n",
        "        print(\"B method\")\n",
        "\n",
        "class C(A):\n",
        "    def method(self):\n",
        "        print(\"C method\")\n",
        "\n",
        "class D(B, C):\n",
        "    pass\n",
        "\n",
        "obj = D()\n",
        "print(D.mro()) # 출력: [<class '__main__.D'>, <class '__main__.B'>, <class '__main__.C'>, <class '__main__.A'>, <class 'object'>]\n",
        "obj.method()  # 출력: B method"
      ],
      "metadata": {
        "id": "AIjkRuEgH8QM"
      },
      "execution_count": null,
      "outputs": []
    },
    {
      "cell_type": "code",
      "source": [
        "# 부모의 메서드를 재구현 : 메서드 오버라이딩\n",
        "\n",
        "class A:\n",
        "    def hello(self):\n",
        "        print('hello world A')\n",
        "\n",
        "class B:\n",
        "    def hello(self):\n",
        "        print('hello world B')\n",
        "\n",
        "class C(A):\n",
        "    pass\n",
        "\n",
        "\n",
        "a = A()\n",
        "b = B()\n",
        "c = C()\n",
        "\n",
        "a.hello()\n",
        "b.hello()\n",
        "c.hello()"
      ],
      "metadata": {
        "colab": {
          "base_uri": "https://localhost:8080/"
        },
        "id": "LL9x5bY3IpDj",
        "outputId": "12ad7d54-2140-4939-f203-f6af414ebf3c"
      },
      "execution_count": 43,
      "outputs": [
        {
          "output_type": "stream",
          "name": "stdout",
          "text": [
            "hello world A\n",
            "hello world B\n",
            "hello world A\n"
          ]
        }
      ]
    },
    {
      "cell_type": "code",
      "source": [
        "# 파이썬은 오버로딩이 없습니다! 그럼에도 오버로딩이 무엇인지 설명은 해드리겠습니다.\n",
        "# 자주나오는 용어이니 설명해드리는 것이지 이해하실 필요는 없습니다.\n",
        "\n",
        "class A:\n",
        "    def hello(self, a):\n",
        "        return a ** 2\n",
        "\n",
        "    def hello(self, a, b):\n",
        "        return a + b\n",
        "\n",
        "a = A()\n",
        "print(a.hello(10)) # error!, JAVA는 이렇게 아규먼트의 갯수에 따라 호출되는 함수를 다르게 할 수 있습니다.\n",
        "print(a.hello(10, 20))"
      ],
      "metadata": {
        "id": "fcRWNwabJAhz"
      },
      "execution_count": null,
      "outputs": []
    },
    {
      "cell_type": "markdown",
      "source": [
        "## 클래스 대안 자료형태"
      ],
      "metadata": {
        "id": "_1yN1za0KzFH"
      }
    },
    {
      "cell_type": "code",
      "source": [
        "# 클로저\n",
        "# JavaScript에서 클로저 간혹 사용합니다.\n",
        "# Python에서는 거의 사용하지 않아요!\n",
        "\n",
        "def create_chracter(name, hp, mp, power):\n",
        "    data = {\n",
        "        'name': name,\n",
        "        'hp': hp,\n",
        "        'mp': mp,\n",
        "        'power': power,\n",
        "    }\n",
        "\n",
        "    def get_data(key):\n",
        "        return data[key]\n",
        "\n",
        "    def attack():\n",
        "        return f'{get_data(\"power\")}에 파워로 공격하였습니다.'\n",
        "\n",
        "    return {'attack': attack}\n",
        "\n",
        "hero = create_chracter('Jun', 100, 100, 30)\n",
        "print(hero['attack']())  # 출력: 30에 파워로 공격하였습니다."
      ],
      "metadata": {
        "id": "OkPOX4XJK0Rn"
      },
      "execution_count": null,
      "outputs": []
    },
    {
      "cell_type": "code",
      "source": [
        "# 딕셔너리\n",
        "hero = {\n",
        "    'name': 'Jun',\n",
        "    'hp': 100,\n",
        "    'mp': 100,\n",
        "    'power': 30,\n",
        "    'drop_rate': 0,\n",
        "    'attack': lambda: f'{hero[\"power\"]}에 파워로 공격하였습니다.',\n",
        "}\n",
        "\n",
        "print(hero['hp'])\n",
        "print(hero['attack']())  # 출력: 30에 파워로 공격하였습니다."
      ],
      "metadata": {
        "id": "4ImBIA4iK8QF"
      },
      "execution_count": null,
      "outputs": []
    },
    {
      "cell_type": "markdown",
      "source": [
        "## 메직메서드\n",
        "### 2.1. **생성자와 소멸자**\n",
        "\n",
        "- `__init__(self, ...)`: 객체가 생성될 때 호출되는 생성자 메서드.\n",
        "\n",
        "### 2.2. **문자열 표현**\n",
        "\n",
        "- `__str__(self)`: `str()` 함수 출력 결과와 같습니다. 이는 print로 출력되는 결과와도 동일합니다. 이 출력은 \"공식적이지 않은\" 또는 \"좋게 보이는\" 문자열 표현을 반환합니다. 객체의 공식적인 표현은 repr입니다.\n",
        "- `__repr__(self)`: `repr()` 함수에 출력 결과와 같습니다. 객체의 \"공식적인\" 문자열 표현을 반환합니다.\n",
        "\n",
        "### 2.3. **산술 연산**\n",
        "\n",
        "- `__add__(self, other)`: 덧셈 연산\n",
        "- `__mul__(self, other)`: 곱셈 연산\n",
        "\n",
        "### 2.4. **비교 연산**\n",
        "\n",
        "- `__eq__(self, other)`: 동등 연산 (==)\n",
        "- `__ne__(self, other)`: 부등 연산 (!=)\n",
        "- `__lt__(self, other)`: \"작다\" 연산 (<)\n",
        "- `__le__(self, other)`: \"작거나 같다\" 연산 (<=)\n",
        "- `__gt__(self, other)`: \"크다\" 연산 (>)\n",
        "- `__ge__(self, other)`: \"크거나 같다\" 연산 (>=)\n",
        "\n",
        "### 2.5. **컨테이너 타입 연산**\n",
        "\n",
        "- `__len__(self)`: `len()` 함수의 출력 결과와 같습니다.\n",
        "- `__getitem__(self, key)`: 인덱싱 연산 (obj[key])의 출력 결과와 같습니다.\n",
        "\n",
        "### 2.6. **호출 가능 객체**\n",
        "\n",
        "- `__call__(self, ...)`: 객체를 함수처럼 호출할 때 사용됩니다."
      ],
      "metadata": {
        "id": "nRme0ouiM6IE"
      }
    },
    {
      "cell_type": "code",
      "source": [
        "class Counter:\n",
        "    def __init__(self):\n",
        "        self.count = 0\n",
        "\n",
        "    def __call__(self):\n",
        "        self.count += 10\n",
        "        print(f'현재 count 값: {self.count}')\n",
        "\n",
        "    def __getitem__(self, key):\n",
        "        return key*10\n",
        "\n",
        "# 객체 생성\n",
        "counter = Counter()\n",
        "\n",
        "# 객체를 직접 호출합니다. 이때 __call__ 메서드가 실행됩니다.\n",
        "counter()  # 출력: 현재 count 값: 10\n",
        "counter()  # 출력: 현재 count 값: 20\n",
        "counter()  # 출력: 현재 count 값: 30\n",
        "\n",
        "counter[5] # 출력: 4"
      ],
      "metadata": {
        "id": "wvny3ojiM0et"
      },
      "execution_count": null,
      "outputs": []
    },
    {
      "cell_type": "markdown",
      "source": [
        "## 서비스 만들 때 실제로 필요한 메서드\n",
        "* 부담되시는 분들은 이 정도만 외워도 나쁘지 않다.\n",
        "- `__init__(self, ...)`: 객체가 생성될 때 호출되는 생성자 메서드.\n",
        "- `__str__(self)`: `str()` 함수 출력 결과와 같습니다. 이는 print로 출력되는 결과와도 동일합니다. 이 출력은 \"공식적이지 않은\" 또는 \"좋게 보이는\" 문자열 표현을 반환합니다. 객체의 공식적인 표현은 repr입니다.\n",
        "- `__repr__(self)`: `repr()` 함수에 출력 결과와 같습니다. 객체의 \"공식적인\" 문자열 표현을 반환합니다.\n",
        "- `__eq__(self, other)`: 동등 연산 (==)\n",
        "- `__len__(self)`: `len()` 함수의 출력 결과와 같습니다.\n",
        "\n"
      ],
      "metadata": {
        "id": "gDvsM6_XNim5"
      }
    },
    {
      "cell_type": "markdown",
      "source": [
        "## 분위기 환기 (크롤링 후 클래스에 저장하는 미션)"
      ],
      "metadata": {
        "id": "ceGqnL9lQ0c4"
      }
    },
    {
      "cell_type": "code",
      "source": [
        "import requests # 통신을 해서 서버에서 제공해주는 값을 가져올 수 있습니다.\n",
        "from bs4 import BeautifulSoup # 가져온 값을 '파싱'해주는 모듈입니다.\n",
        "\n",
        "response = requests.get('https://paullab.co.kr/bookservice/')\n",
        "soup = BeautifulSoup(response.text, 'html.parser')\n"
      ],
      "metadata": {
        "id": "lo7dusekN0eS"
      },
      "execution_count": 45,
      "outputs": []
    },
    {
      "cell_type": "code",
      "source": [
        "book_name = soup.select('.book_name')\n",
        "book_info = soup.select('.book_info')\n",
        "\n",
        "print(book_name[0].text)\n",
        "print(book_info[0].text)\n",
        "print(book_info[1].text)\n",
        "print(book_info[2].text)\n"
      ],
      "metadata": {
        "colab": {
          "base_uri": "https://localhost:8080/"
        },
        "id": "-bhBsRCCV9lu",
        "outputId": "7a1824bb-1cc1-4c37-8d42-551bb0d6faaf"
      },
      "execution_count": 54,
      "outputs": [
        {
          "output_type": "stream",
          "name": "stdout",
          "text": [
            "메모혁신 Notion(노션) 활용 가이드\n",
            "가격: 7,000원\n",
            "저자: 이호준, 이준호, 김혜원, 김유진, 차경림, 김진, 현지연, 정승한\n",
            "Notion의 기본 사용 방법부터 Notion을 활용한 홈페이지 제작 방법까지 다양하게 다루고 있으며 특히 개발자가 원하는 Notion의 활용 방법을 다루고 있습니다.\n"
          ]
        }
      ]
    },
    {
      "cell_type": "code",
      "source": [
        "print(book_name[1].text)\n",
        "print(book_info[3].text)\n",
        "print(book_info[4].text)\n",
        "print(book_info[5].text)\n",
        "\n",
        "books = []\n",
        "for i, _ in enumerate(book_name):\n",
        "    books.append({\n",
        "        '제목': book_name[i].text,\n",
        "        '가격': book_info[(i*3)].text,\n",
        "        '저자': book_info[(i*3)+1].text,\n",
        "        '설명': book_info[(i*3)+2].text,\n",
        "    })\n",
        "\n",
        "# 마음에 안드는 포인트들\n",
        "# 1. 가격이 int형이 아니다!\n",
        "# 2. 가격, 저자가 한 번 더 들어있다!\n",
        "# 3. 공백도 들어가 있다!\n",
        "\n",
        "books = []\n",
        "class Book:\n",
        "    def __init__(self, name, price, author, info):\n",
        "        self.name = name\n",
        "        self.price = price\n",
        "        self.author = author\n",
        "        self.info = info\n",
        "\n",
        "    def __str__(self):\n",
        "        return self.name\n",
        "\n",
        "    def __repr__(self):\n",
        "        return self.name\n",
        "\n",
        "for i, _ in enumerate(book_name):\n",
        "    books.append(Book(\n",
        "        book_name[i].text,\n",
        "        book_info[(i*3)].text,\n",
        "        book_info[(i*3)+1].text,\n",
        "        book_info[(i*3)+2].text\n",
        "    ))\n",
        "\n",
        "books\n",
        "books[0].name\n",
        "books[0].price\n",
        "books\n",
        "books[0]['가격'] # books[0].price\n",
        "\n",
        "# 마음에 안드는 포인트들\n",
        "# 1. 가격이 int형이 아니다!\n",
        "# 2. 가격, 저자가 한 번 더 들어있다!\n",
        "# 3. 공백도 들어가 있다!\n",
        "\n",
        "books\n",
        "# 마음에 안드는 포이트들\n",
        "# 1. 가격이 int형이 아니다!\n",
        "# 2. 가격, 저자가 한 번 더 들어가있다.\n",
        "\n"
      ],
      "metadata": {
        "id": "of0TqS0cWAyX"
      },
      "execution_count": null,
      "outputs": []
    },
    {
      "cell_type": "code",
      "source": [
        "import requests # 통신을 해서 서버에서 제공해주는 값을 가져올 수 있습니다.\n",
        "from bs4 import BeautifulSoup # 가져온 값을 '파싱' 해주는 모듈입니다.\n",
        "\n",
        "response = requests.get('https://search.naver.com/search.naver?where=nexearch&sm=top_hty&fbm=0&ie=utf8&query=%EC%B5%9C%EC%8B%A0%EC%98%81%ED%99%94')\n",
        "soup = BeautifulSoup(response.text, 'html.parser')"
      ],
      "metadata": {
        "id": "XfPGt355XPLD"
      },
      "execution_count": null,
      "outputs": []
    },
    {
      "cell_type": "code",
      "source": [
        "soup.select('.this_text')[0].text"
      ],
      "metadata": {
        "id": "O4BmuIC5boBG"
      },
      "execution_count": null,
      "outputs": []
    },
    {
      "cell_type": "code",
      "source": [
        "for i, j in enumerate(soup.select('.this_text'), 1):\n",
        "    print(i, j.text)"
      ],
      "metadata": {
        "id": "LOYXIvUibso2"
      },
      "execution_count": null,
      "outputs": []
    }
  ]
}