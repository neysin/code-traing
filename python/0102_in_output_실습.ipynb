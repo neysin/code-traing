{
  "nbformat": 4,
  "nbformat_minor": 0,
  "metadata": {
    "colab": {
      "provenance": [],
      "authorship_tag": "ABX9TyPhP9Zx76F9s9ueqM+Pw5Ly",
      "include_colab_link": true
    },
    "kernelspec": {
      "name": "python3",
      "display_name": "Python 3"
    },
    "language_info": {
      "name": "python"
    }
  },
  "cells": [
    {
      "cell_type": "markdown",
      "metadata": {
        "id": "view-in-github",
        "colab_type": "text"
      },
      "source": [
        "<a href=\"https://colab.research.google.com/github/neysin/orm/blob/main/01_02_in_output_%EC%8B%A4%EC%8A%B5.ipynb\" target=\"_parent\"><img src=\"https://colab.research.google.com/assets/colab-badge.svg\" alt=\"Open In Colab\"/></a>"
      ]
    },
    {
      "cell_type": "markdown",
      "source": [
        "#1. 2024년 계획적기\n",
        "\n",
        "2024년도 계획을 10문장으로 적고, 그에 따른 2024년도 계획에서 중요 부분을 변수로 받아서 Input으로 입력받아 출력하기"
      ],
      "metadata": {
        "id": "Mzv4oSspgitE"
      }
    },
    {
      "cell_type": "code",
      "source": [
        "#1. 2024년 계획 적기(최소 3가지 ~ 최대 10가지)\n",
        "\n",
        "1. 이번 해에는 __을 꾸준히 한다.\n",
        "2. 2024년의 목표는 ___언어를 배우는 것이다.\n",
        "3. 이번 해에는 ___로서 취업을 한다.\n",
        "4. 이번 해에는 __권의 책을 읽는다.\n"
      ],
      "metadata": {
        "id": "7YFIjcOGmGHB"
      },
      "execution_count": null,
      "outputs": []
    },
    {
      "cell_type": "markdown",
      "source": [
        "## 1.1 하나의 단어를 입력받아서 출력하기"
      ],
      "metadata": {
        "id": "zrGlAYgmsoeV"
      }
    },
    {
      "cell_type": "code",
      "source": [
        "sentence_1 = input(\"이번 해에는 매일 ___ 운동을 하기로 했다:\")"
      ],
      "metadata": {
        "colab": {
          "base_uri": "https://localhost:8080/"
        },
        "id": "XoWdXFodl3WW",
        "outputId": "ba6d7141-d46c-4c47-fc2b-c1ae22dec756"
      },
      "execution_count": 1,
      "outputs": [
        {
          "name": "stdout",
          "output_type": "stream",
          "text": [
            "이번 해에는 매일 ___ 운동을 하기로 했다:유산소\n"
          ]
        }
      ]
    },
    {
      "cell_type": "code",
      "source": [
        "print(f\"이번 해에는 매일 {sentence_1} 운동을 하기로 했다\")"
      ],
      "metadata": {
        "colab": {
          "base_uri": "https://localhost:8080/"
        },
        "id": "mgWj2moul8wm",
        "outputId": "058a48aa-98d8-4231-e2f2-540fcf5d1f75"
      },
      "execution_count": 3,
      "outputs": [
        {
          "output_type": "stream",
          "name": "stdout",
          "text": [
            "이번 해에는 매일 유산소 운동을 하기로 했다\n"
          ]
        }
      ]
    },
    {
      "cell_type": "code",
      "source": [
        "sentence_2 = input(\"2024년의 목표는 ___언어를 배우는 것이다:\")"
      ],
      "metadata": {
        "colab": {
          "base_uri": "https://localhost:8080/"
        },
        "id": "NlaIOokemcSA",
        "outputId": "673e0fe1-1a95-41e5-f0cb-5492c4b6c74e"
      },
      "execution_count": 4,
      "outputs": [
        {
          "name": "stdout",
          "output_type": "stream",
          "text": [
            "2024년의 목표는 ___언어를 배우는 것이다:파이썬\n"
          ]
        }
      ]
    },
    {
      "cell_type": "code",
      "source": [
        "print(f\"2024년의 목표는 {sentence_2} 언어를 배우는 것이다.\")"
      ],
      "metadata": {
        "colab": {
          "base_uri": "https://localhost:8080/"
        },
        "id": "I0jdqP7xm_7g",
        "outputId": "c249427f-ab08-4963-9f5d-2314eecc3a3a"
      },
      "execution_count": 5,
      "outputs": [
        {
          "output_type": "stream",
          "name": "stdout",
          "text": [
            "2024년의 목표는 파이썬 언어를 배우는 것이다.\n"
          ]
        }
      ]
    },
    {
      "cell_type": "code",
      "source": [
        "sentence_3 = input(\"이번 해에는 ___로서 취업을 한다:\")"
      ],
      "metadata": {
        "colab": {
          "base_uri": "https://localhost:8080/"
        },
        "id": "6kZD1bHtnTK4",
        "outputId": "16189b50-2af2-4098-8053-c5d69f166d52"
      },
      "execution_count": 8,
      "outputs": [
        {
          "name": "stdout",
          "output_type": "stream",
          "text": [
            "이번 해에는 ___로서 취업을 한다:개발자\n"
          ]
        }
      ]
    },
    {
      "cell_type": "code",
      "source": [
        "print(f\"이번 해에는 {sentence_3} 로서 취업을 한다.\")"
      ],
      "metadata": {
        "colab": {
          "base_uri": "https://localhost:8080/"
        },
        "id": "q1QL2_ceoZn-",
        "outputId": "fab062cb-4f48-4f48-d94d-28b11d1e92b2"
      },
      "execution_count": 7,
      "outputs": [
        {
          "output_type": "stream",
          "name": "stdout",
          "text": [
            "이번 해에는 개발자 로서 취업을 한다.\n"
          ]
        }
      ]
    },
    {
      "cell_type": "code",
      "source": [
        "sentence_4 = input(\"이번 해에는 __권의 책을 읽는다:\")"
      ],
      "metadata": {
        "colab": {
          "base_uri": "https://localhost:8080/"
        },
        "id": "Nat04CgDofPt",
        "outputId": "967e1389-9191-43db-e357-380cc8d4e216"
      },
      "execution_count": 10,
      "outputs": [
        {
          "name": "stdout",
          "output_type": "stream",
          "text": [
            "이번 해에는 __권의 책을 읽는다:5\n"
          ]
        }
      ]
    },
    {
      "cell_type": "code",
      "source": [
        "print(f\"이번 해에는 {sentence_4} 권의 책을 읽는다.\")"
      ],
      "metadata": {
        "colab": {
          "base_uri": "https://localhost:8080/"
        },
        "id": "BxPMDRQvpMN3",
        "outputId": "81485e41-a7ec-4955-bb0a-7941c083dbba"
      },
      "execution_count": 11,
      "outputs": [
        {
          "output_type": "stream",
          "name": "stdout",
          "text": [
            "이번 해에는 5 권의 책을 읽는다.\n"
          ]
        }
      ]
    },
    {
      "cell_type": "markdown",
      "source": [
        "## 2.1 두개의 단어를 받아서 출력하기"
      ],
      "metadata": {
        "id": "mOPHrljxvIpF"
      }
    },
    {
      "cell_type": "code",
      "source": [
        "# 2가지 input 받아보기\n",
        "\n",
        "word1 = input(\"올해는__와\")\n",
        "word2 = input(\"__에 집중하려고 한다.\")"
      ],
      "metadata": {
        "colab": {
          "base_uri": "https://localhost:8080/"
        },
        "id": "xuZUVtdkumgO",
        "outputId": "0c7ef1bf-2c26-4d88-bf9b-806eb94cf233"
      },
      "execution_count": 12,
      "outputs": [
        {
          "name": "stdout",
          "output_type": "stream",
          "text": [
            "올해는__와운동\n",
            "__에 집중하려고 한다.공부\n"
          ]
        }
      ]
    },
    {
      "cell_type": "code",
      "source": [
        "print(word1)"
      ],
      "metadata": {
        "colab": {
          "base_uri": "https://localhost:8080/"
        },
        "id": "oJ0QrD6AvDwC",
        "outputId": "23fe7c53-a153-412a-ff3b-79c5380ed780"
      },
      "execution_count": 14,
      "outputs": [
        {
          "output_type": "stream",
          "name": "stdout",
          "text": [
            "운동\n"
          ]
        }
      ]
    },
    {
      "cell_type": "code",
      "source": [
        "print(word2)"
      ],
      "metadata": {
        "colab": {
          "base_uri": "https://localhost:8080/"
        },
        "id": "sUjo1ZgvvGYQ",
        "outputId": "6ac2388f-7683-4cd1-d447-b9286cbcb969"
      },
      "execution_count": 15,
      "outputs": [
        {
          "output_type": "stream",
          "name": "stdout",
          "text": [
            "공부\n"
          ]
        }
      ]
    },
    {
      "cell_type": "code",
      "source": [
        "# 1. 한 문장 안에 word1, word2 출력하기(가장 기본적인 방법)\n",
        "\n",
        "print(f\"올해는 {word1}와 {word2}에 집중하려고 한다.\")"
      ],
      "metadata": {
        "colab": {
          "base_uri": "https://localhost:8080/"
        },
        "id": "ysxkpzIsux2d",
        "outputId": "60ac7767-fa6b-4fb8-ba3f-1a24d09ae798"
      },
      "execution_count": 13,
      "outputs": [
        {
          "output_type": "stream",
          "name": "stdout",
          "text": [
            "올해는 운동와 공부에 집중하려고 한다.\n"
          ]
        }
      ]
    },
    {
      "cell_type": "code",
      "source": [
        "# 2. end를 사용해서 다른 두 문장을 합치기\n",
        "\n",
        "print(f\"올해는 {word1}와\", end =\" \")\n",
        "print(f\"{word2}에 집중하려고 한다.\")"
      ],
      "metadata": {
        "colab": {
          "base_uri": "https://localhost:8080/"
        },
        "id": "nCC2EYN7u9-6",
        "outputId": "cdc4b08f-e8df-43c1-ddcf-0e7941b2944c"
      },
      "execution_count": 17,
      "outputs": [
        {
          "output_type": "stream",
          "name": "stdout",
          "text": [
            "올해는 운동와 공부에 집중하려고 한다.\n"
          ]
        }
      ]
    },
    {
      "cell_type": "markdown",
      "source": [
        "## 2.2 두개의 단어를 한번에 출력하기"
      ],
      "metadata": {
        "id": "gjGCT0N3v7a4"
      }
    },
    {
      "cell_type": "code",
      "source": [
        "sentence_2 = input(\"올해는 __와 __에 집중하려고 한다.\") # 운동와 공부 (필수) 중간을 띄어야함"
      ],
      "metadata": {
        "colab": {
          "base_uri": "https://localhost:8080/"
        },
        "id": "K1BcSdpxxURV",
        "outputId": "14a6f857-fb36-488d-eff4-cf1f8fa41b3a"
      },
      "execution_count": 20,
      "outputs": [
        {
          "name": "stdout",
          "output_type": "stream",
          "text": [
            "올해는 __와 __에 집중하려고 한다.운동 공부\n"
          ]
        }
      ]
    },
    {
      "cell_type": "code",
      "source": [
        "print(sentence_2)"
      ],
      "metadata": {
        "colab": {
          "base_uri": "https://localhost:8080/"
        },
        "id": "3UgBzXOpxdV8",
        "outputId": "5f158fa8-f2b9-4f34-f4b1-e3f6b2f3dc45"
      },
      "execution_count": 21,
      "outputs": [
        {
          "output_type": "stream",
          "name": "stdout",
          "text": [
            "운동 공부\n"
          ]
        }
      ]
    },
    {
      "cell_type": "code",
      "source": [
        "word_11, word_22 = sentence_2. split() # 두 단어를 입력받고 (필수) 공백을 기준으로 나눔"
      ],
      "metadata": {
        "id": "OVkQ3V2rxliO"
      },
      "execution_count": 24,
      "outputs": []
    },
    {
      "cell_type": "code",
      "source": [
        "print( f\"올해는 {word_11}와 {word_22}에 집중하려고 한다.\\n\")"
      ],
      "metadata": {
        "colab": {
          "base_uri": "https://localhost:8080/"
        },
        "id": "NxSPurVXx493",
        "outputId": "086f2955-5675-49d3-9d98-7ea30bd4e2ad"
      },
      "execution_count": 26,
      "outputs": [
        {
          "output_type": "stream",
          "name": "stdout",
          "text": [
            "올해는 운동와 공부에 집중하려고 한다.\n",
            "\n"
          ]
        }
      ]
    }
  ]
}