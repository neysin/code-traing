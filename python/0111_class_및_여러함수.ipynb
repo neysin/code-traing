{
  "nbformat": 4,
  "nbformat_minor": 0,
  "metadata": {
    "colab": {
      "provenance": [],
      "authorship_tag": "ABX9TyPQ5C68Ey9+Dqvjor7eTebo",
      "include_colab_link": true
    },
    "kernelspec": {
      "name": "python3",
      "display_name": "Python 3"
    },
    "language_info": {
      "name": "python"
    }
  },
  "cells": [
    {
      "cell_type": "markdown",
      "metadata": {
        "id": "view-in-github",
        "colab_type": "text"
      },
      "source": [
        "<a href=\"https://colab.research.google.com/github/neysin/orm/blob/main/0111_class_%EB%B0%8F_%EC%97%AC%EB%9F%AC%ED%95%A8%EC%88%98.ipynb\" target=\"_parent\"><img src=\"https://colab.research.google.com/assets/colab-badge.svg\" alt=\"Open In Colab\"/></a>"
      ]
    },
    {
      "cell_type": "markdown",
      "source": [
        "# 1. 함수의 이름은 변수다."
      ],
      "metadata": {
        "id": "80l9o-l37-H0"
      }
    },
    {
      "cell_type": "code",
      "execution_count": 1,
      "metadata": {
        "id": "6moOQSGLmxSy"
      },
      "outputs": [],
      "source": [
        "def hello():\n",
        "    '''\n",
        "    주석은 여기 답니다.\n",
        "    '''\n",
        "    pass\n"
      ]
    },
    {
      "cell_type": "code",
      "source": [
        "print(type(hello))"
      ],
      "metadata": {
        "colab": {
          "base_uri": "https://localhost:8080/"
        },
        "id": "Trt5UEPW5eI0",
        "outputId": "0467d95d-ce3c-484e-c4b7-146d94917c2e"
      },
      "execution_count": 2,
      "outputs": [
        {
          "output_type": "stream",
          "name": "stdout",
          "text": [
            "<class 'function'>\n"
          ]
        }
      ]
    },
    {
      "cell_type": "code",
      "source": [
        "a = 10\n",
        "# a는 무엇이죠?\n",
        "# a는 int에 인스턴스"
      ],
      "metadata": {
        "id": "3rzT4pBS5j39"
      },
      "execution_count": null,
      "outputs": []
    },
    {
      "cell_type": "code",
      "source": [],
      "metadata": {
        "id": "ZfUpvG_b6Nor"
      },
      "execution_count": null,
      "outputs": []
    },
    {
      "cell_type": "code",
      "source": [
        "print('hello world') # built - in fucntion"
      ],
      "metadata": {
        "id": "C2jL3J-x6A5w"
      },
      "execution_count": null,
      "outputs": []
    },
    {
      "cell_type": "code",
      "source": [
        "l = [print, print, print]\n",
        "l[2]('hello world')"
      ],
      "metadata": {
        "colab": {
          "base_uri": "https://localhost:8080/"
        },
        "id": "_YnlvooQ6XD-",
        "outputId": "f1630b4e-1784-41ba-f805-9f84e91464b5"
      },
      "execution_count": 6,
      "outputs": [
        {
          "output_type": "stream",
          "name": "stdout",
          "text": [
            "hello world\n"
          ]
        }
      ]
    },
    {
      "cell_type": "code",
      "source": [
        "hojun = print\n",
        "hojun('hello wolrd')\n"
      ],
      "metadata": {
        "colab": {
          "base_uri": "https://localhost:8080/"
        },
        "id": "DxC6HGa-6dYN",
        "outputId": "cedefac0-3b34-4580-8b47-24cdec4bc5ac"
      },
      "execution_count": 7,
      "outputs": [
        {
          "output_type": "stream",
          "name": "stdout",
          "text": [
            "hello wolrd\n"
          ]
        }
      ]
    },
    {
      "cell_type": "code",
      "source": [
        "id(hojun), id(print)"
      ],
      "metadata": {
        "colab": {
          "base_uri": "https://localhost:8080/"
        },
        "id": "q0isEvcV68Xm",
        "outputId": "3370469f-2f68-4248-dc9f-d2e515051e89"
      },
      "execution_count": 8,
      "outputs": [
        {
          "output_type": "execute_result",
          "data": {
            "text/plain": [
              "(140395636086064, 140395636086064)"
            ]
          },
          "metadata": {},
          "execution_count": 8
        }
      ]
    },
    {
      "cell_type": "code",
      "source": [
        "print = hojun"
      ],
      "metadata": {
        "id": "6ifbo9mh6_DL"
      },
      "execution_count": 9,
      "outputs": []
    },
    {
      "cell_type": "code",
      "source": [
        "id(print)"
      ],
      "metadata": {
        "colab": {
          "base_uri": "https://localhost:8080/"
        },
        "id": "VMTe1dvW7W9z",
        "outputId": "531f14b0-74cd-402d-dc60-798c1326aee3"
      },
      "execution_count": 10,
      "outputs": [
        {
          "output_type": "execute_result",
          "data": {
            "text/plain": [
              "140395636086064"
            ]
          },
          "metadata": {},
          "execution_count": 10
        }
      ]
    },
    {
      "cell_type": "markdown",
      "source": [
        "# 2. lambda 응용"
      ],
      "metadata": {
        "id": "bszaFXnD-AYu"
      }
    },
    {
      "cell_type": "markdown",
      "source": [
        "## Top 3 - 1. map 에서의 사용"
      ],
      "metadata": {
        "id": "1PWoQJeRITVA"
      }
    },
    {
      "cell_type": "code",
      "source": [
        "add = lambda x, y: x + y"
      ],
      "metadata": {
        "id": "ZJuazjZ-7YdN"
      },
      "execution_count": 11,
      "outputs": []
    },
    {
      "cell_type": "code",
      "source": [
        "# 코드가 이해가 안된다 => 이해할려고 노력하는 것 보다는\n",
        "# 예제를 30개 정도 만들어 보시는 것을 추천합니다.\n"
      ],
      "metadata": {
        "id": "IBz_Q38w8K00"
      },
      "execution_count": null,
      "outputs": []
    },
    {
      "cell_type": "code",
      "source": [
        "# lambda + 3항 연산자 많이 사용합니다.\n",
        "x = 10\n",
        "y = True if x % 2 == 0 else False"
      ],
      "metadata": {
        "id": "hGRNmPpZ85W-"
      },
      "execution_count": null,
      "outputs": []
    },
    {
      "cell_type": "code",
      "source": [
        "# 재사용 할 것이면 이렇게 함수로\n",
        "def 제곱(x):\n",
        "    return x ** 2\n",
        "\n",
        "list(map(제곱, [1, 2, 3, 4]))"
      ],
      "metadata": {
        "colab": {
          "base_uri": "https://localhost:8080/"
        },
        "id": "HXRrlEwN9fsB",
        "outputId": "fb6b56d2-3018-4196-ec78-4c2ad8555d96"
      },
      "execution_count": 12,
      "outputs": [
        {
          "output_type": "execute_result",
          "data": {
            "text/plain": [
              "[1, 4, 9, 16]"
            ]
          },
          "metadata": {},
          "execution_count": 12
        }
      ]
    },
    {
      "cell_type": "code",
      "source": [
        "# 재사용 하지 않을 것이면 이렇게 lambda로!\n",
        "# lambda가 실무에서 좀 더 많이 사용됩니다.\n",
        "# 수식이 복잡해지면 재사용과 별개로 lambda로 했을 경우 가독성이 떨어지는 경우도 발생합니다.\n",
        "# 이럴 때에는 함수로 빼기도 합니다.\n",
        "\n",
        "list(map(lambda x: x ** 2, [1, 2, 3, 4]))"
      ],
      "metadata": {
        "id": "193pbjJR91sM"
      },
      "execution_count": null,
      "outputs": []
    },
    {
      "cell_type": "code",
      "source": [
        "list(map(lambda x: True if x % 2 == 0 else False, [1, 2, 3, 4])) # 마스킹, 필터링"
      ],
      "metadata": {
        "colab": {
          "base_uri": "https://localhost:8080/"
        },
        "id": "lqrzbv90-vAy",
        "outputId": "d7262dfe-dd3d-4ffb-a801-8338101de5b3"
      },
      "execution_count": 13,
      "outputs": [
        {
          "output_type": "execute_result",
          "data": {
            "text/plain": [
              "[False, True, False, True]"
            ]
          },
          "metadata": {},
          "execution_count": 13
        }
      ]
    },
    {
      "cell_type": "code",
      "source": [
        "# 알고리즘 문제에서\n",
        "# 얼마나 효율적인지만 봐주시고, 이해 못해도 괜찮습니다.\n",
        "# [True, False, False, False, True]\n",
        "# 에라토스테네스의 체(얼마나 마스킹이 유용한지 알 수 있다.)\n",
        "[True,  True,   True,   True,   True,   True,   True,   True,   True,   True]\n",
        "[0,     1,      2,      3,      4,      5,      6,      7,      8,      9]"
      ],
      "metadata": {
        "id": "JQLVdSRk-4lB"
      },
      "execution_count": null,
      "outputs": []
    },
    {
      "cell_type": "code",
      "source": [
        "[False,  False,   True,   True,   True,   True,   True,   True,   True,   True]\n",
        "[0,      1,       2,      3,      4,      5,      6,      7,      8,      9]"
      ],
      "metadata": {
        "id": "GtOHayVvDPw-"
      },
      "execution_count": null,
      "outputs": []
    },
    {
      "cell_type": "code",
      "source": [
        "# 2가 소수가 되면 2의 배수들은 소수가 아닙니다. => 2의 배수들은 모두 False\n",
        "[False,  False,   True,   True,   False,   True,   False,   True,   False,   True]\n",
        "[0,      1,       2,      3,      4,       5,      6,       7,      8,       9]"
      ],
      "metadata": {
        "id": "hpj102sTDgxO"
      },
      "execution_count": null,
      "outputs": []
    },
    {
      "cell_type": "code",
      "source": [
        "# 30이 소수이냐?\n",
        "# 이해하지 않으셔도 됩니다.\n",
        "# 지금은 얼마나 마스킹한 값이 효율적인지를 말씀드리기 위한 코드일 뿐입니다.\n",
        "\n",
        "for i in range(2, 31):\n",
        "    if 101 % i == 0:\n",
        "        print('소수아님!')\n",
        "        break\n",
        "else: # else 대신 then으로 하자라는 논의가 활발했습니다. -> 그러나 else 승\n",
        "    print('소수임')\n"
      ],
      "metadata": {
        "id": "qTcr4olWD2Xv"
      },
      "execution_count": null,
      "outputs": []
    },
    {
      "cell_type": "markdown",
      "source": [
        "# top3 - 2. filter에서 사용!"
      ],
      "metadata": {
        "id": "p-s1tOp0IZpl"
      }
    },
    {
      "cell_type": "code",
      "source": [
        "#filter는 True인것만 출력합니다.\n",
        "list(filter(lambda x : x % 2 == 0, range(100)))"
      ],
      "metadata": {
        "id": "raaGFSp9Fie2"
      },
      "execution_count": null,
      "outputs": []
    },
    {
      "cell_type": "code",
      "source": [
        "list(filter(lambda x : x % 3 == 0, range(100)))"
      ],
      "metadata": {
        "id": "zosYja0mF_tE"
      },
      "execution_count": null,
      "outputs": []
    },
    {
      "cell_type": "code",
      "source": [
        "list(filter(lambda x : x > 50, range(100)))"
      ],
      "metadata": {
        "id": "qYJ4hxjCGNST"
      },
      "execution_count": null,
      "outputs": []
    },
    {
      "cell_type": "code",
      "source": [
        "list(filter(lambda x : x > 50 and x < 80, range(100)))"
      ],
      "metadata": {
        "id": "FgXdm_SBGabW"
      },
      "execution_count": null,
      "outputs": []
    },
    {
      "cell_type": "code",
      "source": [
        "list(filter(lambda x : True if x % 3 == 0 or x % 5 == 0 else False, range(100)))"
      ],
      "metadata": {
        "id": "G0cIb3BQGfh2"
      },
      "execution_count": null,
      "outputs": []
    },
    {
      "cell_type": "code",
      "source": [
        "# list(filter(lambda x : x % 2 == 0, range(100)))\n",
        "\n",
        "# [0, 1, 2, 3, 4, 5, 6, 7, 8, 9]\n",
        "# x == 0일 때 => lambda x: x % 2 => 0 => False로 평가\n",
        "# x == 1일 때 => lambda x: x % 2 => 1 => True로 평가\n",
        "# x == 2일 때 => lambda x: x % 2 => 0 => False로 평가\n",
        "# x == 3일 때 => lambda x: x % 2 => 1 => True로 평가\n",
        "# x == 4일 때 => lambda x: x % 2 => 0 => False로 평가\n",
        "# x == 5일 때 => lambda x: x % 2 => 1 => True로 평가\n",
        "# x == 6일 때 => lambda x: x % 2 => 0 => False로 평가\n",
        "\n",
        "list(filter(lambda x : x % 2, range(100)))"
      ],
      "metadata": {
        "id": "SDyFShqzG1BR"
      },
      "execution_count": null,
      "outputs": []
    },
    {
      "cell_type": "markdown",
      "source": [
        "# Top 3 - 3. sorted에서 사용!"
      ],
      "metadata": {
        "id": "LfU4ZYgoIhjD"
      }
    },
    {
      "cell_type": "code",
      "source": [
        "l = [10, 20, 5, 4, 22, 32, 5, 9, 11]\n",
        "l.sort() # sort를 자주 사용하진 않습니다. 원본을 변경시키기 때문입니다.\n",
        "l"
      ],
      "metadata": {
        "colab": {
          "base_uri": "https://localhost:8080/"
        },
        "id": "cjZlx2w7HOyS",
        "outputId": "722be2e7-aab3-4662-abc0-82f4028721c4"
      },
      "execution_count": 21,
      "outputs": [
        {
          "output_type": "execute_result",
          "data": {
            "text/plain": [
              "[4, 5, 5, 9, 10, 11, 20, 22, 32]"
            ]
          },
          "metadata": {},
          "execution_count": 21
        }
      ]
    },
    {
      "cell_type": "code",
      "source": [
        "l = [10, 20, 5, 4, 22, 32, 5, 9, 11]\n",
        "sorted(l) # sorted의 return값이 정렬된 값이죠!\n",
        "l # l은 그대로입니다! 그래서 많이 사용합니다."
      ],
      "metadata": {
        "colab": {
          "base_uri": "https://localhost:8080/"
        },
        "id": "iD9HkvWZIx7f",
        "outputId": "1c78c7fd-fdc8-4f87-b383-224c19045ac1"
      },
      "execution_count": 23,
      "outputs": [
        {
          "output_type": "execute_result",
          "data": {
            "text/plain": [
              "[10, 20, 5, 4, 22, 32, 5, 9, 11]"
            ]
          },
          "metadata": {},
          "execution_count": 23
        }
      ]
    },
    {
      "cell_type": "code",
      "source": [
        "sorted() # key, reverse 옵션을 정말 정말 많이 사용합니다!\n",
        "# 알고리즘 문제에서 단골 문제이고, sorted 문제는 1문제는 거의 출제된다고 보시면 됩니다.\n",
        "# 최댓값, 최솟값\n"
      ],
      "metadata": {
        "id": "E6NfnbJsI0tG"
      },
      "execution_count": null,
      "outputs": []
    },
    {
      "cell_type": "code",
      "source": [
        "반별점수 = [\n",
        "    ['이름', '국어', '영어', '수학']\n",
        "    ['이름', '국어', '영어', '수학']\n",
        "    ['이름', '국어', '영어', '수학']\n",
        "    ['이름', '국어', '영어', '수학']\n",
        "]"
      ],
      "metadata": {
        "id": "TjNx8pfMLOZn"
      },
      "execution_count": null,
      "outputs": []
    },
    {
      "cell_type": "code",
      "source": [
        "반별점수 = [\n",
        "    ['홍길동', 30, 55, 22],\n",
        "    ['홍춘향', 55, 60, 73],\n",
        "    ['이철수', 32, 65, 68],\n",
        "    ['이호준', 92, 11, 95],\n",
        "]"
      ],
      "metadata": {
        "id": "Eq22jscPLpN7"
      },
      "execution_count": 26,
      "outputs": []
    },
    {
      "cell_type": "code",
      "source": [
        "sorted(반별점수) # 값이나 0번째 값 기준으로 정렬합니다."
      ],
      "metadata": {
        "colab": {
          "base_uri": "https://localhost:8080/"
        },
        "id": "dy-omNBCMOB7",
        "outputId": "ee1472bc-4bc4-4ade-f5f2-f0229a56abfa"
      },
      "execution_count": 27,
      "outputs": [
        {
          "output_type": "execute_result",
          "data": {
            "text/plain": [
              "[['이철수', 32, 65, 68],\n",
              " ['이호준', 92, 11, 95],\n",
              " ['홍길동', 30, 55, 22],\n",
              " ['홍춘향', 55, 60, 73]]"
            ]
          },
          "metadata": {},
          "execution_count": 27
        }
      ]
    },
    {
      "cell_type": "code",
      "source": [
        "def 함수(x):\n",
        "    return x[3]\n",
        "\n",
        "sorted(반별점수, key = 함수) # 가장 중요한 것은 이 key 함수의 return 값대로 정렬한다는 것입니다.\n",
        "# 출력값을 보면 첫 번째 순서부터 22, 68, 73, 95 순으로 리스트의 [3]의 값대로 정렬되어 있다."
      ],
      "metadata": {
        "colab": {
          "base_uri": "https://localhost:8080/"
        },
        "id": "AghzQ8AZMUCp",
        "outputId": "585e5e83-1696-41ae-945f-ac2e8ca87e79"
      },
      "execution_count": 28,
      "outputs": [
        {
          "output_type": "execute_result",
          "data": {
            "text/plain": [
              "[['홍길동', 30, 55, 22],\n",
              " ['이철수', 32, 65, 68],\n",
              " ['홍춘향', 55, 60, 73],\n",
              " ['이호준', 92, 11, 95]]"
            ]
          },
          "metadata": {},
          "execution_count": 28
        }
      ]
    },
    {
      "cell_type": "code",
      "source": [
        "sorted(반별점수, key = lambda x: x[2]) # 영어점수를 기준으로 정렬"
      ],
      "metadata": {
        "colab": {
          "base_uri": "https://localhost:8080/"
        },
        "id": "4ppevHw-Mvwr",
        "outputId": "8d5e2be8-73d5-483f-c1e8-77020e36893e"
      },
      "execution_count": 29,
      "outputs": [
        {
          "output_type": "execute_result",
          "data": {
            "text/plain": [
              "[['이호준', 92, 11, 95],\n",
              " ['홍길동', 30, 55, 22],\n",
              " ['홍춘향', 55, 60, 73],\n",
              " ['이철수', 32, 65, 68]]"
            ]
          },
          "metadata": {},
          "execution_count": 29
        }
      ]
    },
    {
      "cell_type": "code",
      "source": [
        "sorted(반별점수, key = lambda x: x[1]+x[2]+x[3]) # 평균 점수대로 정렬"
      ],
      "metadata": {
        "colab": {
          "base_uri": "https://localhost:8080/"
        },
        "id": "BtF7c4-KOlfy",
        "outputId": "f862e3a6-d05d-4d21-ab16-9b0d5964bc23"
      },
      "execution_count": 32,
      "outputs": [
        {
          "output_type": "execute_result",
          "data": {
            "text/plain": [
              "[['홍길동', 30, 55, 22],\n",
              " ['이철수', 32, 65, 68],\n",
              " ['홍춘향', 55, 60, 73],\n",
              " ['이호준', 92, 11, 95]]"
            ]
          },
          "metadata": {},
          "execution_count": 32
        }
      ]
    },
    {
      "cell_type": "code",
      "source": [
        "# 동점자인 경우 수학점수를 우선순위로 두겠습니다.\n",
        "\n",
        "반별점수 = [\n",
        "    ['홍길동', 50, 50, 50],\n",
        "    ['홍춘향', 45, 50, 55],\n",
        "    ['이철수', 32, 65, 68],\n",
        "    ['이호준', 92, 11, 95],\n",
        "]\n",
        "\n",
        "'''\n",
        "step 1\n",
        "sorted(반별점수, key = lambda x: x[1]+x[2]+x[3], reverse = True)\n",
        "반별점수 = [\n",
        "    ['홍길동', 50, 50, 50],\n",
        "    ['홍춘향', 45, 50, 55],\n",
        "    ['이철수', 32, 65, 68],\n",
        "    ['이호준', 92, 11, 95],\n",
        "]\n",
        "\n",
        "step 2\n",
        "sorted(반별점수, key = lambda x: (x[1]+x[2]+x[3], x[3]), reverse = True)\n",
        "반별점수 = [\n",
        "    ['홍길동', 50, 50, 50],\n",
        "    ['홍춘향', 45, 50, 55],\n",
        "    ['이철수', 32, 65, 68],\n",
        "    ['이호준', 92, 11, 95],\n",
        "]\n",
        "'''\n",
        "\n",
        "# 평균이 같고 수학점수를 우선순위로 정렬할 경우\n",
        "sorted(반별점수, key = lambda x: (x[1]+ x[2]+ x[3], x[3]), reverse = True)\n",
        "\n",
        "# 만약 평균도 같고 수학점수도 같아 이름순으로 정렬할 경우\n",
        "sorted(반별점수, key = lambda x: (x[1]+ x[2]+ x[3], x[3], x[0]), reverse = True)\n",
        "\n",
        "# 정렬 조건이 추가될 경우 튜플로 감싸고 조건을 하나씩 추가해서 써나가면 됨"
      ],
      "metadata": {
        "colab": {
          "base_uri": "https://localhost:8080/"
        },
        "id": "0_3vZsOqQ7ly",
        "outputId": "14f58b46-302a-40b8-aa83-2fb9f5d44fea"
      },
      "execution_count": 36,
      "outputs": [
        {
          "output_type": "execute_result",
          "data": {
            "text/plain": [
              "[['이호준', 92, 11, 95],\n",
              " ['이철수', 32, 65, 68],\n",
              " ['홍춘향', 45, 50, 55],\n",
              " ['홍길동', 50, 50, 50]]"
            ]
          },
          "metadata": {},
          "execution_count": 36
        }
      ]
    },
    {
      "cell_type": "code",
      "source": [
        "우편번호 = [\n",
        "    {\n",
        "        '주소' : '경기도 용인시',\n",
        "        '우편번호' :321\n",
        "    },\n",
        "    {\n",
        "        '주소' : '경기도 수원시',\n",
        "        '우편번호' :355\n",
        "    },\n",
        "    {\n",
        "        '주소' : '제주특별자치도 제주시',\n",
        "        '우편번호' :333\n",
        "    }\n",
        "]\n",
        "# sorted(우편번호) # error, 비교를 할 수 없다?\n",
        "sorted(우편번호, key = lambda x: x['우편번호'])"
      ],
      "metadata": {
        "colab": {
          "base_uri": "https://localhost:8080/"
        },
        "id": "FVeTxVubTlBX",
        "outputId": "d8ada2ca-f5cf-4998-fde9-7d290fd7d8e1"
      },
      "execution_count": 41,
      "outputs": [
        {
          "output_type": "execute_result",
          "data": {
            "text/plain": [
              "[{'주소': '경기도 용인시', '우편번호': 321},\n",
              " {'주소': '제주특별자치도 제주시', '우편번호': 333},\n",
              " {'주소': '경기도 수원시', '우편번호': 355}]"
            ]
          },
          "metadata": {},
          "execution_count": 41
        }
      ]
    },
    {
      "cell_type": "code",
      "source": [
        "# 다음 입사문제\n",
        "# 직선에 있는 점의 좌표입니다.\n",
        "# 점과 점 사이가 가장 짧은 점의 쌍을 출력하세요\n",
        "\n",
        "# 입력값 : s =[1, 3, 4, 8, 13, 17, 20]\n",
        "# 출력값 : (3, 4)\n",
        "\n",
        "s =[1, 3, 4, 8, 13, 17, 20]\n",
        "s[1:]\n"
      ],
      "metadata": {
        "colab": {
          "base_uri": "https://localhost:8080/"
        },
        "id": "7GW3I9loU6wZ",
        "outputId": "7928273f-c2e4-417a-c257-fd7b74068a48"
      },
      "execution_count": 42,
      "outputs": [
        {
          "output_type": "execute_result",
          "data": {
            "text/plain": [
              "[3, 4, 8, 13, 17, 20]"
            ]
          },
          "metadata": {},
          "execution_count": 42
        }
      ]
    },
    {
      "cell_type": "code",
      "source": [
        "x = list(zip(s, s[1:]))\n",
        "x"
      ],
      "metadata": {
        "colab": {
          "base_uri": "https://localhost:8080/"
        },
        "id": "P20hY8_MWBZF",
        "outputId": "d211eb4f-a116-4a92-f1a7-98aaabdc2163"
      },
      "execution_count": 58,
      "outputs": [
        {
          "output_type": "execute_result",
          "data": {
            "text/plain": [
              "[(1, 3), (3, 4), (4, 8), (8, 13), (13, 17), (17, 20)]"
            ]
          },
          "metadata": {},
          "execution_count": 58
        }
      ]
    },
    {
      "cell_type": "code",
      "source": [
        "x = list(zip(s, s[1:]))\n",
        "sorted(x, key = lambda x: x[1] - x[0])"
      ],
      "metadata": {
        "colab": {
          "base_uri": "https://localhost:8080/"
        },
        "id": "7h1sp5DTZUG1",
        "outputId": "ec05c549-20b8-4f70-9fe6-d2301ab77452"
      },
      "execution_count": 56,
      "outputs": [
        {
          "output_type": "execute_result",
          "data": {
            "text/plain": [
              "[(3, 4), (1, 3), (17, 20), (4, 8), (13, 17), (8, 13)]"
            ]
          },
          "metadata": {},
          "execution_count": 56
        }
      ]
    },
    {
      "cell_type": "code",
      "source": [
        "# 이해를 하시진 마시고, 이해가 되시는 분들만 이해해주세요\n",
        "# 제가 자주 사용하는 코드입니다.\n",
        "# 복습 X\n",
        "\n",
        "list(zip('hello', 'wolrd'))"
      ],
      "metadata": {
        "colab": {
          "base_uri": "https://localhost:8080/"
        },
        "id": "IxLTbjxOWQSp",
        "outputId": "b3029548-a86e-4e29-e6e3-d60ff0b4be14"
      },
      "execution_count": 45,
      "outputs": [
        {
          "output_type": "execute_result",
          "data": {
            "text/plain": [
              "[('h', 'w'), ('e', 'o'), ('l', 'l'), ('l', 'r'), ('o', 'd')]"
            ]
          },
          "metadata": {},
          "execution_count": 45
        }
      ]
    },
    {
      "cell_type": "code",
      "source": [
        "# 제너레이터를 만듭니다.\n",
        "# 문법이 너무 어려워서 보여주기만 하는 코드\n",
        "# 복습 X\n",
        "def gen():\n",
        "    i = 1\n",
        "    while True:\n",
        "        yield i\n",
        "        i += 1\n",
        "\n",
        "list(zip(gen(),'hello', 'wolrd'))"
      ],
      "metadata": {
        "colab": {
          "base_uri": "https://localhost:8080/"
        },
        "id": "Xs2PDmG5WuZF",
        "outputId": "9f57c7fa-99fe-4bf9-c514-67288ffc9405"
      },
      "execution_count": 48,
      "outputs": [
        {
          "output_type": "execute_result",
          "data": {
            "text/plain": [
              "[(1, 'h', 'w'), (2, 'e', 'o'), (3, 'l', 'l'), (4, 'l', 'r'), (5, 'o', 'd')]"
            ]
          },
          "metadata": {},
          "execution_count": 48
        }
      ]
    },
    {
      "cell_type": "code",
      "source": [
        "# 이건 제가 자주 사용하는 코드 X\n",
        "# 복습 X\n",
        "list(enumerate(zip('hello', 'wolrd')))"
      ],
      "metadata": {
        "colab": {
          "base_uri": "https://localhost:8080/"
        },
        "id": "MLEbuKvrWcOE",
        "outputId": "20b33018-ce9b-49c6-cdd7-4cbe3e117459"
      },
      "execution_count": 46,
      "outputs": [
        {
          "output_type": "execute_result",
          "data": {
            "text/plain": [
              "[(0, ('h', 'w')),\n",
              " (1, ('e', 'o')),\n",
              " (2, ('l', 'l')),\n",
              " (3, ('l', 'r')),\n",
              " (4, ('o', 'd'))]"
            ]
          },
          "metadata": {},
          "execution_count": 46
        }
      ]
    },
    {
      "cell_type": "markdown",
      "source": [
        "# built-in-function 에서 하지 않은 것들"
      ],
      "metadata": {
        "id": "QLqUJSzhljph"
      }
    },
    {
      "cell_type": "code",
      "source": [
        "# 빌트인 함수 중요 순서 (위에서 아래로)\n",
        "'''\n",
        "map\n",
        "filter\n",
        "format\n",
        "zip\n",
        "len\n",
        "'''"
      ],
      "metadata": {
        "id": "pX-Rc_eGW76B"
      },
      "execution_count": null,
      "outputs": []
    },
    {
      "cell_type": "code",
      "source": [
        "sum([1,2,3],1)"
      ],
      "metadata": {
        "colab": {
          "base_uri": "https://localhost:8080/"
        },
        "id": "UsLoeRb9aRMy",
        "outputId": "c27777f9-941b-40fe-ae2a-c58409a96090"
      },
      "execution_count": 59,
      "outputs": [
        {
          "output_type": "execute_result",
          "data": {
            "text/plain": [
              "7"
            ]
          },
          "metadata": {},
          "execution_count": 59
        }
      ]
    },
    {
      "cell_type": "code",
      "source": [
        "sum([[1,2,3],[1,2,3]],[])"
      ],
      "metadata": {
        "colab": {
          "base_uri": "https://localhost:8080/"
        },
        "id": "r4bd2gTCaVl2",
        "outputId": "759d9c56-5283-4fd1-c043-686ecf1e9455"
      },
      "execution_count": 64,
      "outputs": [
        {
          "output_type": "execute_result",
          "data": {
            "text/plain": [
              "[1, 2, 3, 1, 2, 3]"
            ]
          },
          "metadata": {},
          "execution_count": 64
        }
      ]
    },
    {
      "cell_type": "code",
      "source": [
        "# 어디까지 이해하고 어디까지 암기해야할까?\n",
        "# 책 => 이런 내용이 안나옵니다. 실무에서 빈도가 많은지에 대해 나오지 않습니다.\n",
        "# 암기해야 할 것을 암기하고, 버릴 것은 버리면서 부지런히 가시면\n",
        "# 충분히 4 ~ 5개월 안에 여러분이 원하시는 수준으로 올라갈 수 있습니다"
      ],
      "metadata": {
        "id": "kO-S916uaawZ"
      },
      "execution_count": null,
      "outputs": []
    },
    {
      "cell_type": "code",
      "source": [
        "# 다른 값이 출력될 수 도 있다는 것을 기억해야 합니다.\n",
        "a = 10\n",
        "print(a) # a.__str__\n",
        "a # a.__repr__\n",
        "repr(a) # a.__reqr__"
      ],
      "metadata": {
        "colab": {
          "base_uri": "https://localhost:8080/",
          "height": 53
        },
        "id": "sh_u0E7TeyEg",
        "outputId": "75245086-0a77-475c-8457-4330ad7e702b"
      },
      "execution_count": 65,
      "outputs": [
        {
          "output_type": "stream",
          "name": "stdout",
          "text": [
            "10\n"
          ]
        },
        {
          "output_type": "execute_result",
          "data": {
            "text/plain": [
              "'10'"
            ],
            "application/vnd.google.colaboratory.intrinsic+json": {
              "type": "string"
            }
          },
          "metadata": {},
          "execution_count": 65
        }
      ]
    },
    {
      "cell_type": "code",
      "source": [
        "class Notice:\n",
        "    '''\n",
        "    게시물 클래스\n",
        "    '''\n",
        "    def __init__(self, title, contents):\n",
        "        self.title= title\n",
        "        self.contents = contents\n",
        "\n",
        "    def __str__(self):\n",
        "        '''\n",
        "        print를 사용시 객체가 str 메서드를 가지고 있으면 이 메서드를 호출하여 문자열을 얻음.\n",
        "        '''\n",
        "        return self.title\n",
        "\n",
        "    def __repr__(self):\n",
        "        '''\n",
        "        repr이라는 값은 제가 임의로 만든 값이 아닙니다!\n",
        "        정해져 있는 이름입니다.\n",
        "        객체가 repr 메서드를 가지고 있을 시 이 메서드를 호출하여 표현할 문자열을 얻음.\n",
        "        '''\n",
        "        return f'{self.title}, {self.contents}'\n",
        "\n",
        "게시물1 = Notice('파이썬 이렇게 어려운줄 몰랐다!', '내가 알던 파이썬이 아니야...')\n",
        "게시물2 = Notice('Django는 이렇게 재미있을 줄 몰랐다!', '파이썬을 잘 못해서 내가 할 수 있을까 생각이 들었는데...')\n"
      ],
      "metadata": {
        "id": "BRnVAK1UfAwY"
      },
      "execution_count": 67,
      "outputs": []
    },
    {
      "cell_type": "code",
      "source": [
        "print(게시물1) # print를 사용했으므로 __str__ 메서드 호출\n",
        "게시물1 # 객체를 호출했을 때 __repr__ 메서드가 있으므로 호출"
      ],
      "metadata": {
        "colab": {
          "base_uri": "https://localhost:8080/"
        },
        "id": "jUY9th6BgMr-",
        "outputId": "5e22171b-1299-49a0-9b71-aecf6665fc82"
      },
      "execution_count": 69,
      "outputs": [
        {
          "output_type": "stream",
          "name": "stdout",
          "text": [
            "파이썬 이렇게 어려운줄 몰랐다!\n"
          ]
        },
        {
          "output_type": "execute_result",
          "data": {
            "text/plain": [
              "파이썬 이렇게 어려운줄 몰랐다!, 내가 알던 파이썬이 아니야..."
            ]
          },
          "metadata": {},
          "execution_count": 69
        }
      ]
    },
    {
      "cell_type": "code",
      "source": [
        "# 현업에서 3.6 이상을 사용하면 참 다행입니다\n",
        "# 예를 들어서 서비스를 만든지 조금 오래된 'Y기업'같은 경우\n",
        "# Django를 2.x , 1.x\n",
        "# 실무에 가셨을 때 2.x 어느정도는 알고 있으셔야 합니다.\n",
        "# match 같은 문법은 아직 사용하지 못합니다. 2 ~ 3 년 뒤에는 사용가능 할 겁니다."
      ],
      "metadata": {
        "id": "RdehwJsTgY1Z"
      },
      "execution_count": null,
      "outputs": []
    },
    {
      "cell_type": "code",
      "source": [
        "type(range(10)) # range 라는 타입입니다."
      ],
      "metadata": {
        "colab": {
          "base_uri": "https://localhost:8080/"
        },
        "id": "-Rd-izYUhZSv",
        "outputId": "e5f81962-1565-47ec-cf82-d8b459ec05c9"
      },
      "execution_count": 70,
      "outputs": [
        {
          "output_type": "execute_result",
          "data": {
            "text/plain": [
              "range"
            ]
          },
          "metadata": {},
          "execution_count": 70
        }
      ]
    },
    {
      "cell_type": "code",
      "source": [
        "# 2.x\n",
        "# range(10) => [0, 1, 2, 3, 4, 5, 6, 7, 8, 9]\n",
        "# type(range(10)) => <type 'list'>\n",
        "\n",
        "# 문제 : range(100000000) => 메모리를 100000000 갯수만큼 한 번에 생성을 해야 합니다.\n",
        "# 이것을 개선하자는 얘기가 끊임없이 나왔습니다.\n",
        "# 2.x에서 나온 것이 xrange()입니다. 이것은 특이하게 현재값과 다음값만을 가지고 있어요.\n",
        "# 메모리 공간은 2칸(실제로는 더 잡아먹습니다.)이 되서 효율적이게 바뀐것입니다.\n",
        "\n",
        "\n",
        "# 3.x에서 range(100000000)\n",
        "# class range로 바뀌게 된 것입니다.\n",
        "# for i in range(1000): # 1000개의 메모리를 할당하는 것이 아닙니다."
      ],
      "metadata": {
        "id": "U3tnuncBhjsc"
      },
      "execution_count": null,
      "outputs": []
    },
    {
      "cell_type": "code",
      "source": [
        "list(range(1000)) # 메모리 큰 부하를 줍니다!!"
      ],
      "metadata": {
        "id": "g8wSD3ECjQo7"
      },
      "execution_count": null,
      "outputs": []
    },
    {
      "cell_type": "code",
      "source": [
        "sum(range(1000))"
      ],
      "metadata": {
        "colab": {
          "base_uri": "https://localhost:8080/"
        },
        "id": "oLJ9OkQIjWyu",
        "outputId": "4d8bc61e-4235-4012-a8c0-c7e28fd7ecaf"
      },
      "execution_count": 71,
      "outputs": [
        {
          "output_type": "execute_result",
          "data": {
            "text/plain": [
              "499500"
            ]
          },
          "metadata": {},
          "execution_count": 71
        }
      ]
    },
    {
      "cell_type": "code",
      "source": [
        "sum(list(range(1000))) # 메모리가 1000개 할당되었다가 더해야 하니 비효율적인 코드입니다."
      ],
      "metadata": {
        "colab": {
          "base_uri": "https://localhost:8080/"
        },
        "id": "TEWbH3KZjZjA",
        "outputId": "f597e993-3394-4378-e896-221bc9c0e731"
      },
      "execution_count": 72,
      "outputs": [
        {
          "output_type": "execute_result",
          "data": {
            "text/plain": [
              "499500"
            ]
          },
          "metadata": {},
          "execution_count": 72
        }
      ]
    },
    {
      "cell_type": "code",
      "source": [
        "values = ['A', 'B', 'C', 'D']\n",
        "print(list(enumerate(values)))\n",
        "print(list(enumerate(values, 1))) # 시작값 넣는 것 많이 사용합니다. 기억해두세요."
      ],
      "metadata": {
        "id": "ZZee1fLzjhB7"
      },
      "execution_count": null,
      "outputs": []
    },
    {
      "cell_type": "code",
      "source": [
        "reversed([1, 2, 3, 4, 5])"
      ],
      "metadata": {
        "colab": {
          "base_uri": "https://localhost:8080/"
        },
        "id": "_ZFGUkgTlQT9",
        "outputId": "687c971c-90f4-4832-dd0b-f2d3800b8ea6"
      },
      "execution_count": 74,
      "outputs": [
        {
          "output_type": "execute_result",
          "data": {
            "text/plain": [
              "<list_reverseiterator at 0x7fb01c4fbca0>"
            ]
          },
          "metadata": {},
          "execution_count": 74
        }
      ]
    },
    {
      "cell_type": "code",
      "source": [
        "list(reversed([1, 2, 3, 4, 5]))"
      ],
      "metadata": {
        "colab": {
          "base_uri": "https://localhost:8080/"
        },
        "id": "8p1rCcy6lUUY",
        "outputId": "51670857-9ea7-474f-9a74-3cba1ef2434b"
      },
      "execution_count": 75,
      "outputs": [
        {
          "output_type": "execute_result",
          "data": {
            "text/plain": [
              "[5, 4, 3, 2, 1]"
            ]
          },
          "metadata": {},
          "execution_count": 75
        }
      ]
    },
    {
      "cell_type": "code",
      "source": [
        "sorted([1, 2, 3, 4, 5])\n",
        "# 왜 sorted만 자료형으로 주나요?\n",
        "# reversed나 map, filter나 이런건 모두 메모리 주소를 가리키는데!?\n",
        "# 정답 : (추후에 심화과정에서 강의합니다.) 메모리의 효율성 때문입니다."
      ],
      "metadata": {
        "colab": {
          "base_uri": "https://localhost:8080/"
        },
        "id": "He6QFcf2k4vj",
        "outputId": "51608da1-e1db-46f4-cd5d-077f64261462"
      },
      "execution_count": 73,
      "outputs": [
        {
          "output_type": "execute_result",
          "data": {
            "text/plain": [
              "[1, 2, 3, 4, 5]"
            ]
          },
          "metadata": {},
          "execution_count": 73
        }
      ]
    },
    {
      "cell_type": "markdown",
      "source": [
        "# match\n",
        "\n",
        "* 3.10 버전에서 나온 문법이기 때문에 현업에서 거의 사용 못합니다.\n",
        "* 예를 들어 속도가 매우 빨라야 하는 프로젝트를 여러분이 하게 되었습니다. 그렇다면 prthon 최신 버전을 사용할텐데, 그러면 match 문법을 사용할 수는 있습니다. 다만 권고하지는 않습니다. match 문법이 동료들이 익숙하지 않기 때문입니다.\n",
        "* 2024년에는 중요도가 별표 0.5개 정도 되고\n",
        "* 2 ~ 3년 후에는 중요도가 3 ~ 4개 정도로 올라갈 것으로 보입니다."
      ],
      "metadata": {
        "id": "tEKfpLASlOiR"
      }
    },
    {
      "cell_type": "code",
      "source": [
        "# 제가 반대하는 이유\n",
        "# 타 언어에 비해서 불편한 점\n",
        "요일 = 3\n",
        "match 요일:\n",
        "    case 0:\n",
        "        print('일요일')\n",
        "    case 1:\n",
        "        print('월요일')\n",
        "    case 2:\n",
        "        print('화요일')\n",
        "    case 3:\n",
        "        print('수요일')\n",
        "    case 4:\n",
        "        print('목요일')\n",
        "    case 5:\n",
        "        print('금요일')\n",
        "    case 6:\n",
        "        print('토요일')"
      ],
      "metadata": {
        "id": "4SEZ78Gmn5NR"
      },
      "execution_count": null,
      "outputs": []
    },
    {
      "cell_type": "code",
      "source": [
        "# 요일 = 4\n",
        "# match 요일:\n",
        "#     case 0:\n",
        "#         print('일요일')\n",
        "#     case 1:\n",
        "#         print('월요일')\n",
        "#     case 2:\n",
        "#         print('화요일')\n",
        "#     case 3: # 다른 언어에서는 이 문법이 가용합니다.\n",
        "#     case 4:\n",
        "#         print('목요일')\n",
        "#     case 5:\n",
        "#         print('금요일')\n",
        "#     case 6:\n",
        "#         print('토요일')\n",
        "# 출력: error"
      ],
      "metadata": {
        "id": "FqdckWl0oHl1"
      },
      "execution_count": null,
      "outputs": []
    },
    {
      "cell_type": "code",
      "source": [
        "요일 = 100\n",
        "match 요일:\n",
        "    case 0:\n",
        "        print('일요일')\n",
        "    case 1:\n",
        "        print('월요일')\n",
        "    case 2:\n",
        "        print('화요일')\n",
        "    case 3:\n",
        "        print('수요일')\n",
        "    case 4:\n",
        "        print('목요일')\n",
        "    case 5:\n",
        "        print('금요일')\n",
        "    case 6:\n",
        "        print('토요일')\n",
        "    case _:\n",
        "        print('요일없음!')"
      ],
      "metadata": {
        "colab": {
          "base_uri": "https://localhost:8080/"
        },
        "id": "VIhhU-uyoPKJ",
        "outputId": "bfb68cf4-ee37-4bcb-8c7e-7236d21a92bc"
      },
      "execution_count": 77,
      "outputs": [
        {
          "output_type": "stream",
          "name": "stdout",
          "text": [
            "요일없음!\n"
          ]
        }
      ]
    },
    {
      "cell_type": "code",
      "source": [
        "text = '1'\n",
        "match text:\n",
        "    case '1' | '2':\n",
        "        print('1, 2')\n",
        "    case _:\n",
        "        print('No Match')"
      ],
      "metadata": {
        "colab": {
          "base_uri": "https://localhost:8080/"
        },
        "id": "D1xi8UKPocxO",
        "outputId": "89ec94d9-76eb-4127-c061-1081af07d89d"
      },
      "execution_count": 78,
      "outputs": [
        {
          "output_type": "stream",
          "name": "stdout",
          "text": [
            "1, 2\n"
          ]
        }
      ]
    },
    {
      "cell_type": "code",
      "source": [
        "# 여러분들은 오히려 이런 코드보다 아래 코드를 더 많이 만나게 되실겁니다.\n",
        "def 요일반환(요일):\n",
        "    return {\n",
        "        0: '일요일',\n",
        "        1: '월요일',\n",
        "        2: '화요일',\n",
        "        3: '수요일'\n",
        "    }.get(요일, '요일없음')\n",
        "print(요일반환(2))\n",
        "print(요일반환(100))"
      ],
      "metadata": {
        "colab": {
          "base_uri": "https://localhost:8080/"
        },
        "id": "16opiZcYov2n",
        "outputId": "05151b6f-d998-43a7-e4a5-967ba31e2b6a"
      },
      "execution_count": 82,
      "outputs": [
        {
          "output_type": "stream",
          "name": "stdout",
          "text": [
            "화요일\n",
            "요일없음\n"
          ]
        }
      ]
    },
    {
      "cell_type": "markdown",
      "source": [
        "# class\n",
        "\n",
        "* class 이론을 여러권 + ChatGPT + 유튜브를 보시는 것 보다는\n",
        "* 여러개를 만들어보세요. ChatGPT에게 여러개의 클래스를 추천받고, ChatGPT에게 짜달라고 해서 그것을 타이핑 해보는 것도 많은 도움이 될겁니다.\n",
        "* 결론: 많은 것을 만들어 보셔야 합니다."
      ],
      "metadata": {
        "id": "sOyou38i8VpT"
      }
    },
    {
      "cell_type": "markdown",
      "source": [
        "* class 클래스이름 => 인스턴스\n",
        "* class Post => 게시물1, 게시물2, 게시물3...\n",
        "* class Dot => 점1, 점2, 점3...\n",
        "* class Matrix => 행렬1, 행렬2, 행렬3...\n",
        "* class User => 유저1, 유저2, 유저3...\n",
        "* class Cart(장바구니) => Cart1, Cart2, Cart3\n",
        "* class Comment(댓글) => 댓글1, 댓글2, 댓글3\n",
        "* class Character => Licat(주인공), Lion(빌런), Mob(몬스터)\n",
        "* class Product => 상품1, 상품2, 상품3\n",
        "* class Class_ => 강의1, 강의2, 강의3\n",
        "* class Teacher => 강사1, 강사2, 강사3\n",
        "\n"
      ],
      "metadata": {
        "id": "wGxf3fKL8ppo"
      }
    },
    {
      "cell_type": "code",
      "source": [
        "# 0번: 기초상식\n",
        "# 0.0 __init__ 매직메서드는 없어도 되나요?\n",
        "class 우편번호:\n",
        "    제주도 = 100\n",
        "    경기도 = 101\n",
        "    전라북도 = 102\n",
        "    전라남도 = 103\n",
        "\n",
        "우편번호.제주도\n",
        "# 왜 이걸 딕셔너리로 만들지 않고 class로 만들었나요?\n",
        "# 재사용성 + 확장성\n",
        "\n",
        "# 0.1 클래스 꼭 사용해야 하나요?\n",
        "# 일부 자료형에서는 클래스는 꼭 사용해야 합니다.\n",
        "\n",
        "# 아래와 같이 저장한다고 해서 문제가 생기는가?\n",
        "# 데이터의 양, 확장성, 다양성\n",
        "# 기본 클래스(list, tuple, dict(속도 개선이 많이 되었음에요), set)는 속도가 많이 느리다.\n",
        "\n",
        "# 제목 : python 기초\n",
        "# 저자 : 이호준\n",
        "{'제목': 'python 기초', '저자': '이호준'}\n",
        "\n",
        "# 제목: html 기초\n",
        "# 저자: 한재현\n",
        "{'제목': 'html 기초', '저자': '한재현'}\n",
        "\n",
        "[{'제목': 'python 기초', '저자': '이호준'}, {'제목': 'html 기초', '저자': '한재현'}]"
      ],
      "metadata": {
        "colab": {
          "base_uri": "https://localhost:8080/"
        },
        "id": "ljdYpMkd6tzO",
        "outputId": "d906f0f1-26fb-405e-df15-db33c5a36e34"
      },
      "execution_count": 83,
      "outputs": [
        {
          "output_type": "execute_result",
          "data": {
            "text/plain": [
              "100"
            ]
          },
          "metadata": {},
          "execution_count": 83
        }
      ]
    },
    {
      "cell_type": "markdown",
      "source": [
        "## Post"
      ],
      "metadata": {
        "id": "VL_G6QMWNj4f"
      }
    },
    {
      "cell_type": "code",
      "source": [
        "# 1 번\n",
        "# 클래스를 설계하실 때\n",
        "# 첫 번째로 - 모든 인스턴스에서 공유해야할 변수(클래스 변수)나 메서드 설정\n",
        "# 두 번째로 - 인스턴스 고유의 영역\n",
        "# in_create_at(스네이크 표기법) - 파이썬\n",
        "# inCreatedAt(카멜 표기법) - 파이썬에서는 잘 사용하지 않습니다.(JavaScript에서는 많이 사용합니다.)\n",
        "# InCreatedAt(파스칼 표기법) - 파이썬 클래스\n",
        "class Post:\n",
        "    def __init__(\n",
        "            self,\n",
        "            in_title='',\n",
        "            in_contents='',\n",
        "            in_count=0,\n",
        "            in_create_at='',\n",
        "            in_updated_at='',\n",
        "            in_author=''\n",
        "        ):\n",
        "        self.title = in_title\n",
        "        self.contents = in_contents\n",
        "        self.count = in_count\n",
        "        self.created_at = in_create_at\n",
        "        self.updated_at = in_updated_at\n",
        "        self.author = in_author\n",
        "\n",
        "    def __add__(self, next):\n",
        "        return self.title + next.title\n",
        "\n",
        "    def __len__(self):\n",
        "        pass\n",
        "\n",
        "    def __str__(self):\n",
        "        return self.title\n",
        "\n",
        "    def __repr__(self):\n",
        "        return self.title\n",
        "\n",
        "    def update(self, in_contents):\n",
        "        '''\n",
        "        in_ 은 실무에서 사용하는 접두사가 아닙니다!\n",
        "        여러분에 이해를 돕기 위한 변수명입니다.\n",
        "        '''\n",
        "        self.contents = in_contents\n",
        "        return '게시물 수정에 성공했습니다! 200'\n",
        "\n",
        "    def delete(self):\n",
        "        pass\n",
        "\n",
        "게시물1 = Post(\n",
        "    '파이썬은 참 깊군요!',\n",
        "    '오늘은 파이썬 클래스를 배웠는데 너무 어렵기도 하고, 신기했습니다.',\n",
        "    0,\n",
        "    '2024-01-11',\n",
        "    '2024-01-11',\n",
        "    '이호준')\n",
        "\n",
        "게시물2 = Post('2', '22', 0, '2024-01-11', '2024-01-11', '이호준')\n",
        "\n",
        "print(게시물1)\n",
        "print(게시물1.title)\n",
        "print(게시물1 + 게시물2) # + 연산이 나오면 앞(게시물1)의 __add__가 실행됩니다.\n",
        "게시물1.update('hello wolrd')\n",
        "게시물1.contents"
      ],
      "metadata": {
        "colab": {
          "base_uri": "https://localhost:8080/",
          "height": 87
        },
        "id": "qqYGN-hOAlB6",
        "outputId": "f4acfbe1-d80e-4df8-c56a-d390cdadd1af"
      },
      "execution_count": 88,
      "outputs": [
        {
          "output_type": "stream",
          "name": "stdout",
          "text": [
            "파이썬은 참 깊군요!\n",
            "파이썬은 참 깊군요!\n",
            "파이썬은 참 깊군요!2\n"
          ]
        },
        {
          "output_type": "execute_result",
          "data": {
            "text/plain": [
              "'hello wolrd'"
            ],
            "application/vnd.google.colaboratory.intrinsic+json": {
              "type": "string"
            }
          },
          "metadata": {},
          "execution_count": 88
        }
      ]
    },
    {
      "cell_type": "markdown",
      "source": [
        "## Dot"
      ],
      "metadata": {
        "id": "ITD_Z3RwNm_g"
      }
    },
    {
      "cell_type": "code",
      "source": [
        "class Dot:\n",
        "    def __init__(self, x, y):\n",
        "        self.x = x\n",
        "        self.y = y\n",
        "\n",
        "    def __add__(self, next):\n",
        "        return (self.x + next.x, self.y + next.y)\n",
        "\n",
        "    def __mul__(self, next):\n",
        "        return (self.x * next.x, self.y * next.y)\n",
        "\n",
        "    def distance(self, next):\n",
        "        dx = self.x - next.x\n",
        "        dy = self.y - next.y\n",
        "        return (dx**2 + dy**2) **0.5 # root은 ** 0.5로 많이 사용합니다.\n",
        "\n",
        "dot1 = Dot(20, 10)\n",
        "dot2 = Dot(30, 5)\n",
        "\n",
        "dot1 + dot2\n",
        "dot1 * dot2\n",
        "dot1.distance(dot2)\n",
        "\n"
      ],
      "metadata": {
        "colab": {
          "base_uri": "https://localhost:8080/"
        },
        "id": "b1rOjYHFK8fa",
        "outputId": "9d904a13-4cf3-4a48-8c66-a809704c1ead"
      },
      "execution_count": 89,
      "outputs": [
        {
          "output_type": "execute_result",
          "data": {
            "text/plain": [
              "11.180339887498949"
            ]
          },
          "metadata": {},
          "execution_count": 89
        }
      ]
    },
    {
      "cell_type": "markdown",
      "source": [
        "# Character"
      ],
      "metadata": {
        "id": "ngtAzdr4QRxS"
      }
    },
    {
      "cell_type": "code",
      "source": [
        "class Character:\n",
        "    def __init__(self, name, skill, hp, mp, power, x):\n",
        "        self.name = name\n",
        "        self.skill = skill\n",
        "        self.hp = hp\n",
        "        self.mp = mp\n",
        "        self.power = power\n",
        "        self.x = x\n",
        "\n",
        "    def move(self):\n",
        "        self.x += 100\n",
        "\n",
        "    def attact(self, next):\n",
        "        next.hp -= self.power\n",
        "\n",
        "\n",
        "주인공1 = Character('licat', '질풍검', 100, 100, 10, 10)\n",
        "몹1 = Character('licat', '질풍검', 100, 100, 10, 10)\n",
        "\n",
        "주인공1.attact(몹1)\n",
        "몹1.hp\n"
      ],
      "metadata": {
        "colab": {
          "base_uri": "https://localhost:8080/"
        },
        "id": "GOgKTihWQQp4",
        "outputId": "152d1238-d2d6-493c-fdcb-bdc0949f05e8"
      },
      "execution_count": 90,
      "outputs": [
        {
          "output_type": "execute_result",
          "data": {
            "text/plain": [
              "90"
            ]
          },
          "metadata": {},
          "execution_count": 90
        }
      ]
    },
    {
      "cell_type": "code",
      "source": [],
      "metadata": {
        "id": "4m4oqFZuS3yW"
      },
      "execution_count": null,
      "outputs": []
    }
  ]
}