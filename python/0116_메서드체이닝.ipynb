{
  "nbformat": 4,
  "nbformat_minor": 0,
  "metadata": {
    "colab": {
      "provenance": [],
      "authorship_tag": "ABX9TyMgklP1qvdkuCPGl34cGJo/",
      "include_colab_link": true
    },
    "kernelspec": {
      "name": "python3",
      "display_name": "Python 3"
    },
    "language_info": {
      "name": "python"
    }
  },
  "cells": [
    {
      "cell_type": "markdown",
      "metadata": {
        "id": "view-in-github",
        "colab_type": "text"
      },
      "source": [
        "<a href=\"https://colab.research.google.com/github/neysin/orm/blob/main/0116_%EB%A9%94%EC%84%9C%EB%93%9C%EC%B2%B4%EC%9D%B4%EB%8B%9D.ipynb\" target=\"_parent\"><img src=\"https://colab.research.google.com/assets/colab-badge.svg\" alt=\"Open In Colab\"/></a>"
      ]
    },
    {
      "cell_type": "markdown",
      "source": [
        "# 메서드 체이닝"
      ],
      "metadata": {
        "id": "6NzRVCQedCXB"
      }
    },
    {
      "cell_type": "code",
      "source": [
        "'Hello World'.replace('Hello', 'hi').lower()\n",
        "# 그 메서드에 리턴된 값이 순처작으로 해소가 되는 방식\n",
        "\n",
        "# 'hello world'.a().b().c().d()\n",
        "# 'Hello World'.split().lower() # error!\n",
        "'Hello World'.split()[1].lower()"
      ],
      "metadata": {
        "colab": {
          "base_uri": "https://localhost:8080/",
          "height": 35
        },
        "id": "FiA8fT9MsKjo",
        "outputId": "b80a1066-456d-4fe3-b714-04fe3da3ab33"
      },
      "execution_count": 1,
      "outputs": [
        {
          "output_type": "execute_result",
          "data": {
            "text/plain": [
              "'world'"
            ],
            "application/vnd.google.colaboratory.intrinsic+json": {
              "type": "string"
            }
          },
          "metadata": {},
          "execution_count": 1
        }
      ]
    },
    {
      "cell_type": "code",
      "source": [
        "class Calculator:\n",
        "    def __init__(self, value):\n",
        "        self.value = value\n",
        "\n",
        "    def add(self, other):\n",
        "        self.value += other\n",
        "        return self\n",
        "\n",
        "    def subtract(self, other):\n",
        "        self.value -= other\n",
        "        return self\n",
        "\n",
        "    def multiply(self, other):\n",
        "        self.value *= other\n",
        "        return self\n",
        "\n",
        "    def get_value(self):\n",
        "        return self.value\n",
        "\n",
        "calc = Calculator(1)\n",
        "result = calc.add(2).subtract(1).multiply(3).get_value()\n",
        "print(result)  # 결과: 6"
      ],
      "metadata": {
        "colab": {
          "base_uri": "https://localhost:8080/"
        },
        "id": "rIKYq-bjtG6D",
        "outputId": "6a808bf3-0198-4741-ad8b-aecf8d889980"
      },
      "execution_count": 5,
      "outputs": [
        {
          "output_type": "stream",
          "name": "stdout",
          "text": [
            "6\n"
          ]
        }
      ]
    },
    {
      "cell_type": "code",
      "source": [
        "# int\n",
        "# float\n",
        "# complex\n",
        "a = 3\n",
        "b = 3.5\n",
        "c = 3j + 1\n",
        "\n",
        "dir(a)\n",
        "dir(b)\n",
        "dir(c)\n",
        "\n",
        "# 'imag' # 허수부\n",
        "# 'real' # 실수부"
      ],
      "metadata": {
        "id": "M4MqZBrMuLC3"
      },
      "execution_count": null,
      "outputs": []
    },
    {
      "cell_type": "markdown",
      "source": [
        "# 일급함수와 고차함수"
      ],
      "metadata": {
        "id": "e3-O7JwDwcaA"
      }
    },
    {
      "cell_type": "code",
      "source": [
        "# 일급 함수는 함수를 값으로 취급하는 것을 얘기합니다.\n",
        "\n",
        "def greet(name):\n",
        "    return f'Hello, {name}'\n",
        "\n",
        "say_hello = greet\n",
        "print(say_hello(\"World\"))  # 출력: Hello, World"
      ],
      "metadata": {
        "id": "L-MCnb6UwZ2I"
      },
      "execution_count": null,
      "outputs": []
    },
    {
      "cell_type": "code",
      "source": [
        "l = [10, 20, 30]\n",
        "# l.append(100)\n",
        "add = l.append\n",
        "add(10)\n",
        "add(20)\n",
        "# 이렇게 사용할 일은 거의 없어요.\n",
        "# 그런데 변수가 너무 길 때, 오타가 많이 생기는 변수 일때, 메서드 명도 길 때\n",
        "l"
      ],
      "metadata": {
        "id": "nAZb-PlPw2nY"
      },
      "execution_count": null,
      "outputs": []
    },
    {
      "cell_type": "code",
      "source": [
        "def add(x, y):\n",
        "    return x + y\n",
        "\n",
        "def subtract(x, y):\n",
        "    return x - y\n",
        "\n",
        "funcs = [add, subtract]\n",
        "print(funcs[0](2, 3))  # 출력: 5"
      ],
      "metadata": {
        "id": "14o6HK1-yENm"
      },
      "execution_count": null,
      "outputs": []
    },
    {
      "cell_type": "code",
      "source": [
        "class Operator:\n",
        "    def add(self, x, y):\n",
        "        return x + y\n",
        "\n",
        "    def sub(self, x, y):\n",
        "        return x - y\n",
        "\n",
        "    def mul(self, x, y):\n",
        "        return x * y\n",
        "\n",
        "    def div(self, x, y):\n",
        "        return x / y\n",
        "\n",
        "    def _and(self, x, y):\n",
        "        pass\n",
        "\n",
        "    def _or(self, x, y):\n",
        "        pass\n",
        "\n",
        "op = Operator()\n",
        "logical_op = {\n",
        "    'add': op.add,\n",
        "    'sub': op.sub,\n",
        "    'mul': op.mul,\n",
        "    'div': op.div,\n",
        "}\n",
        "arithmetic_op = {\n",
        "    '_and': op._and,\n",
        "    '_or': op._or,\n",
        "}\n",
        "\n",
        "print(logical_op['add'](2, 3)) # 출력: 5 # 마치 op.add(2, 3)인 것 처럼 사용할 수 있습니다.\n",
        "print(op.add(2, 3)) # 출력: 5\n",
        "\n",
        "for _, f in logical_op.items():\n",
        "    print(f(2, 3)) # 4칙연산 모두 계산"
      ],
      "metadata": {
        "id": "BxlJ2GcUysIo"
      },
      "execution_count": null,
      "outputs": []
    },
    {
      "cell_type": "code",
      "source": [
        "#별표 1개 => 데코레이터를 이해하기 위해 중요한 개념입니다.\n",
        "\n",
        "def say_hello(name):\n",
        "    return f'Hello, {name}'\n",
        "\n",
        "def greet(func, name):\n",
        "    return func(name)\n",
        "\n",
        "print(greet(say_hello, 'World'))  # 출력: Hello, World"
      ],
      "metadata": {
        "id": "KRDfJGqEzQ84"
      },
      "execution_count": null,
      "outputs": []
    },
    {
      "cell_type": "code",
      "source": [
        "# 함수를 리턴할 수 있다! (데코레이터에 핵심 개념)\n",
        "def create_adder(x):\n",
        "    def adder(y):\n",
        "        return x + y\n",
        "    return adder\n",
        "\n",
        "add_5 = create_adder(5)\n",
        "print(add_5(10))  # 출력: 15"
      ],
      "metadata": {
        "id": "EF-Lm4kM3xbT"
      },
      "execution_count": null,
      "outputs": []
    },
    {
      "cell_type": "markdown",
      "source": [
        "# 재귀함수"
      ],
      "metadata": {
        "id": "akepelaN31uR"
      }
    },
    {
      "cell_type": "code",
      "source": [
        "# 별표 0.3개 ==> 다만 실력이 올라가시면 별표 0.8개\n",
        "# 내가 나를 호출하는 함수.\n",
        "# 재귀는 내가 정말 재귀에 자신있다가 아니면 반복문을 사용하세요.\n",
        "# 재귀를 억지로 사용하려 하지 마세요.\n",
        "# 재귀를 잘못 사용하면 비효율의 끝판왕이 됩니다."
      ],
      "metadata": {
        "id": "VFjpZnK_8BOA"
      },
      "execution_count": null,
      "outputs": []
    },
    {
      "cell_type": "code",
      "source": [
        "def 숫자출력(count):\n",
        "    if count > 100:\n",
        "        return\n",
        "    print(count)\n",
        "    return 숫자출력(count+1) #값을 1부터 반복횟수 까지의 값을 출력\n",
        "\n",
        "숫자출력(1)"
      ],
      "metadata": {
        "id": "1aR4tQTt-U-X"
      },
      "execution_count": null,
      "outputs": []
    },
    {
      "cell_type": "code",
      "source": [
        "# 권장합니다!\n",
        "for i in range(1, 101):\n",
        "    print(i)"
      ],
      "metadata": {
        "id": "qtxpJSZF-WcV"
      },
      "execution_count": null,
      "outputs": []
    },
    {
      "cell_type": "code",
      "source": [
        "# 이런 코드를 연습해봄으로 재귀에 친숙해질 수 있습니다.\n",
        "# 분할 정복, 다이나믹 프로그래밍\n",
        "# f(5) => 5 * 4 * 3 * 2 * 1 == 120 == 5! (수학 공식으로는 5!로 표현합니다.)\n",
        "\n",
        "def f(n):\n",
        "    if n <= 1:\n",
        "        return n\n",
        "    return n * f(n-1)\n",
        "\n",
        "f(5)"
      ],
      "metadata": {
        "id": "lftMcuUi-XLW"
      },
      "execution_count": null,
      "outputs": []
    },
    {
      "cell_type": "code",
      "source": [
        "# 권장합니다!\n",
        "result = 1\n",
        "for i in range(1, 6):\n",
        "    result *= i\n",
        "result"
      ],
      "metadata": {
        "id": "QPYt0r7v-adf"
      },
      "execution_count": null,
      "outputs": []
    },
    {
      "cell_type": "code",
      "source": [
        "s = ''\n",
        "for i in 'hello':\n",
        "    s = i + s\n",
        "\n",
        "s\n",
        "\n",
        "# s = 'h' + ''\n",
        "# s = 'e' + 'h'\n",
        "# s = 'l' + 'eh'\n",
        "# s = 'l' + 'leh'\n",
        "# s = 'o' + 'lleh'\n",
        "# => 'olleh'"
      ],
      "metadata": {
        "id": "7kS3VrBw-1eS"
      },
      "execution_count": null,
      "outputs": []
    },
    {
      "cell_type": "code",
      "source": [
        "def f(s):\n",
        "    if len(s) <= 1:\n",
        "        return s\n",
        "    return f(s[1:]) + s[0]\n",
        "\n",
        "f('hello')"
      ],
      "metadata": {
        "id": "i47T8qFPBEzg"
      },
      "execution_count": null,
      "outputs": []
    }
  ]
}