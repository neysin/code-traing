{
  "nbformat": 4,
  "nbformat_minor": 0,
  "metadata": {
    "colab": {
      "provenance": [],
      "authorship_tag": "ABX9TyMYw7gYBZCH7GC/DindrSFe"
    },
    "kernelspec": {
      "name": "python3",
      "display_name": "Python 3"
    },
    "language_info": {
      "name": "python"
    }
  },
  "cells": [
    {
      "cell_type": "markdown",
      "source": [
        "# 1. 주석"
      ],
      "metadata": {
        "id": "YBJg-MrT7X7x"
      }
    },
    {
      "cell_type": "markdown",
      "source": [
        "## 1.1 한줄주석"
      ],
      "metadata": {
        "id": "ObYdChnzCu0U"
      }
    },
    {
      "cell_type": "code",
      "source": [
        "# 이것은 주석입니다.\n",
        "print('Hello, World 1!') # 이것도 주석입니다.\n",
        "print('Hello, World 2!')"
      ],
      "metadata": {
        "colab": {
          "base_uri": "https://localhost:8080/"
        },
        "id": "hYIRdgU9DsRR",
        "outputId": "54541d53-a897-45c8-9743-9474347612cf"
      },
      "execution_count": 1,
      "outputs": [
        {
          "output_type": "stream",
          "name": "stdout",
          "text": [
            "Hello, World 1!\n",
            "Hello, World 2!\n"
          ]
        }
      ]
    },
    {
      "cell_type": "markdown",
      "source": [
        "## 1.2 여러줄 주석"
      ],
      "metadata": {
        "id": "IUEQlFIVD9Bz"
      }
    },
    {
      "cell_type": "code",
      "source": [
        "'''\n",
        "# 이것은 주석입니다.\n",
        "print('Hello, World 1!')\n",
        "print('Hello, World 2!')\n",
        "print('Hello, World 3!')\n",
        "'''\n",
        "print('Real Hello World')"
      ],
      "metadata": {
        "colab": {
          "base_uri": "https://localhost:8080/"
        },
        "id": "cmSc9EVTE22_",
        "outputId": "77c43d22-90b3-4977-dca5-4fbb921e2eaa"
      },
      "execution_count": 3,
      "outputs": [
        {
          "output_type": "stream",
          "name": "stdout",
          "text": [
            "Real Hello World\n"
          ]
        }
      ]
    },
    {
      "cell_type": "code",
      "source": [
        "\"\"\"\n",
        "# 이것은 주석입니다.\n",
        "print('Hello, World 1!')\n",
        "print('Hello, World 2!')\n",
        "print('Hello, World 3!')\n",
        "\"\"\"\n",
        "print('Real Hello World')"
      ],
      "metadata": {
        "colab": {
          "base_uri": "https://localhost:8080/"
        },
        "id": "LX2hIZrsFDBk",
        "outputId": "cb7c293d-a57b-46a3-9720-f80ad5dcfe48"
      },
      "execution_count": 7,
      "outputs": [
        {
          "output_type": "stream",
          "name": "stdout",
          "text": [
            "Real Hello World\n"
          ]
        }
      ]
    },
    {
      "cell_type": "code",
      "source": [],
      "metadata": {
        "id": "T3o5lHa5FY5v"
      },
      "execution_count": 5,
      "outputs": []
    }
  ]
}