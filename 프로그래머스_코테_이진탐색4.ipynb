{
  "nbformat": 4,
  "nbformat_minor": 0,
  "metadata": {
    "colab": {
      "provenance": [],
      "authorship_tag": "ABX9TyP8iA7znkXOreploqQPZjGa",
      "include_colab_link": true
    },
    "kernelspec": {
      "name": "python3",
      "display_name": "Python 3"
    },
    "language_info": {
      "name": "python"
    }
  },
  "cells": [
    {
      "cell_type": "markdown",
      "metadata": {
        "id": "view-in-github",
        "colab_type": "text"
      },
      "source": [
        "<a href=\"https://colab.research.google.com/github/neysin/code-traing/blob/main/%ED%94%84%EB%A1%9C%EA%B7%B8%EB%9E%98%EB%A8%B8%EC%8A%A4_%EC%BD%94%ED%85%8C_%EC%9D%B4%EC%A7%84%ED%83%90%EC%83%894.ipynb\" target=\"_parent\"><img src=\"https://colab.research.google.com/assets/colab-badge.svg\" alt=\"Open In Colab\"/></a>"
      ]
    },
    {
      "cell_type": "markdown",
      "source": [
        "이진탐색 - level 3\\\n",
        "징검다리 건너기"
      ],
      "metadata": {
        "id": "WgFJFbfSmCFq"
      }
    },
    {
      "cell_type": "code",
      "execution_count": 1,
      "metadata": {
        "colab": {
          "base_uri": "https://localhost:8080/"
        },
        "id": "Ogeptt5jl_MN",
        "outputId": "f855f256-0ac8-41a4-dd4e-93e32ecf7318"
      },
      "outputs": [
        {
          "output_type": "execute_result",
          "data": {
            "text/plain": [
              "3"
            ]
          },
          "metadata": {},
          "execution_count": 1
        }
      ],
      "source": [
        "# 돌을 반복문을 통해 돌리고 밟은 돌의 숫자가 0 초과 일 경우 -1을 하여 밟았다고 표기\n",
        "# 0이 된 돌이 생기면 cnt를 +1 시켜 간격을 계산\n",
        "# 간격이 주어진 k이상이 되면 지금까지 통과한 사람의 숫자를 반환\n",
        "# 조건은 맞으나 시간이 초과하는 코드\n",
        "# 돌의 밟는 숫자가 커질수록 시간이 많이 걸리기 때문\n",
        "def solution(stones, k):\n",
        "    people = 0\n",
        "    while True:\n",
        "        cnt = 0\n",
        "\n",
        "        for i in range(len(stones)):\n",
        "            current = stones[i]\n",
        "            if current > 0:\n",
        "                cnt = 0\n",
        "                stones[i] -= 1\n",
        "            elif current == 0:\n",
        "                cnt += 1\n",
        "            if cnt >= k:\n",
        "                return people\n",
        "\n",
        "        people += 1\n",
        "\n",
        "stones = [2, 4, 5, 3, 2, 1, 4, 2, 5, 1]\n",
        "k = 3\n",
        "solution(stones, k)"
      ]
    },
    {
      "cell_type": "code",
      "source": [
        "# 따라서 밟을 수 있는 돌의 최대 횟수를 기준으로 건널 수 있는지를 세는 방법\n",
        "# 주어진 대입값이 큰 자료일수록 문제에서 요구하는 조건을 단순하게 대입하면 너무나 많은 반복을 해야한다.\n",
        "# 아래 코드와 같이 몇 명이 통과할 수 있느냐는 질문에 사람의 수를 직접 세는 것 보다 사람이 통과할 수 있는 조건을 세는 느낌의\n",
        "# 한 번 더 생각하는 방식의 접근이 이진탐색의 관점이라고 느껴졌다.\n",
        "def available(n, stones, k):\n",
        "    '''\n",
        "    밟을 수 없는 돌이 몇 번 연속되는지를 세는 함수\n",
        "    k번 이상 연속되면 False를 반환\n",
        "    아니라면 True를 반환\n",
        "    '''\n",
        "    skip = 0\n",
        "    for stone in stones:\n",
        "        if stone < n:\n",
        "            skip += 1\n",
        "            if skip >= k:\n",
        "                return False\n",
        "        else:\n",
        "            skip = 0\n",
        "    return True\n",
        "\n",
        "\n",
        "def solution(stones, k):\n",
        "    '''\n",
        "    돌의 밟을 수 있는 횟수를 0부터 최대값으로 설정하여 시작\n",
        "    중간값 mid가 주어졌을 때 k번 이상 돌을 skip하고 가지 않는다면 시작값을 mid + 1로 하여 다시 반복\n",
        "    이 때 정답값은 mid로 할당되고 이 값이 건널 수 있는 최대 사람의 수이다.\n",
        "    k번 이상의 돌을 skip한다면 최댓값 - 1 을 통해 시작값과 최댓값이 만나는 지점까지 반복\n",
        "    '''\n",
        "    start, end = 0, max(stones)\n",
        "    answer = 0\n",
        "\n",
        "    while start <= end:\n",
        "        mid = (start + end) // 2\n",
        "        if available(mid, stones, k):\n",
        "            start = mid + 1\n",
        "            answer = max(answer, mid)\n",
        "        else:\n",
        "            end = mid - 1\n",
        "\n",
        "    return answer\n",
        "\n",
        "\n",
        "\n",
        "stones = [2, 4, 5, 3, 2, 1, 4, 2, 5, 1]\n",
        "k = 3\n",
        "solution(stones, k)"
      ],
      "metadata": {
        "colab": {
          "base_uri": "https://localhost:8080/"
        },
        "id": "UkgtHq6TuZQD",
        "outputId": "5375c3f8-a5f9-45af-d811-322dcb064eac"
      },
      "execution_count": 4,
      "outputs": [
        {
          "output_type": "execute_result",
          "data": {
            "text/plain": [
              "3"
            ]
          },
          "metadata": {},
          "execution_count": 4
        }
      ]
    }
  ]
}