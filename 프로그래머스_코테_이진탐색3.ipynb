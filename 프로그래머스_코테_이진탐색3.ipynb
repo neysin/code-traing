{
  "nbformat": 4,
  "nbformat_minor": 0,
  "metadata": {
    "colab": {
      "provenance": [],
      "authorship_tag": "ABX9TyOVikQuYwtHAC3Eh8cmRfiM",
      "include_colab_link": true
    },
    "kernelspec": {
      "name": "python3",
      "display_name": "Python 3"
    },
    "language_info": {
      "name": "python"
    }
  },
  "cells": [
    {
      "cell_type": "markdown",
      "metadata": {
        "id": "view-in-github",
        "colab_type": "text"
      },
      "source": [
        "<a href=\"https://colab.research.google.com/github/neysin/code-traing/blob/main/%ED%94%84%EB%A1%9C%EA%B7%B8%EB%9E%98%EB%A8%B8%EC%8A%A4_%EC%BD%94%ED%85%8C_%EC%9D%B4%EC%A7%84%ED%83%90%EC%83%893.ipynb\" target=\"_parent\"><img src=\"https://colab.research.google.com/assets/colab-badge.svg\" alt=\"Open In Colab\"/></a>"
      ]
    },
    {
      "cell_type": "markdown",
      "source": [
        "이진탐색 - level4 \\\n",
        "징검다리"
      ],
      "metadata": {
        "id": "uPUb4chNbVOW"
      }
    },
    {
      "cell_type": "code",
      "execution_count": 1,
      "metadata": {
        "colab": {
          "base_uri": "https://localhost:8080/"
        },
        "id": "h_qnet1AO-if",
        "outputId": "1cf1c0bd-bb99-444f-fa79-49e8ffbd5aa7"
      },
      "outputs": [
        {
          "output_type": "execute_result",
          "data": {
            "text/plain": [
              "4"
            ]
          },
          "metadata": {},
          "execution_count": 1
        }
      ],
      "source": [
        "# 징검다리 바위의 삭제 개수를 기준으로 이진탐색을 진행\n",
        "# 어떤 느낌으로 진행하는지는 알겠지만 정확한 진행과 코드를 짜는 법을 잘 모름\n",
        "# 관점에 대한 영감만 얻은 상태\n",
        "def solution(distance, rocks, n):\n",
        "    answer = 0\n",
        "    start, end = 0, distance\n",
        "    rocks.sort()\n",
        "\n",
        "    while start <= end:\n",
        "        mid = (start + end) // 2 # 12\n",
        "        del_stones = 0\n",
        "        pre_stone = 0 # 14\n",
        "\n",
        "        for rock in rocks: # rocks = [2, 11, 14, 17, 21]\n",
        "            if rock - pre_stone < mid: # (2-0, 11-0, 14-0), (2-14, 11-14, 14-14, 17-14, 21-14)\n",
        "                del_stones += 1\n",
        "            else:\n",
        "                pre_stone = rock # 14\n",
        "\n",
        "            if del_stones > n: # 1>2, 2>2,\n",
        "                break\n",
        "\n",
        "        if del_stones > n:\n",
        "            end = mid - 1\n",
        "        else:\n",
        "            answer = mid\n",
        "            start = mid + 1\n",
        "\n",
        "    return answer\n",
        "\n",
        "\n",
        "distance = 25\n",
        "rocks = [2, 14, 11, 21, 17]\n",
        "n = 2\n",
        "solution(distance, rocks, n)"
      ]
    }
  ]
}