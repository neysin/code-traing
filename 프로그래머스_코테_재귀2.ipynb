{
  "nbformat": 4,
  "nbformat_minor": 0,
  "metadata": {
    "colab": {
      "provenance": [],
      "authorship_tag": "ABX9TyMqqxzPHAnbckfZO/SgwATE",
      "include_colab_link": true
    },
    "kernelspec": {
      "name": "python3",
      "display_name": "Python 3"
    },
    "language_info": {
      "name": "python"
    }
  },
  "cells": [
    {
      "cell_type": "markdown",
      "metadata": {
        "id": "view-in-github",
        "colab_type": "text"
      },
      "source": [
        "<a href=\"https://colab.research.google.com/github/neysin/code-traing/blob/main/%ED%94%84%EB%A1%9C%EA%B7%B8%EB%9E%98%EB%A8%B8%EC%8A%A4_%EC%BD%94%ED%85%8C_%EC%9E%AC%EA%B7%802.ipynb\" target=\"_parent\"><img src=\"https://colab.research.google.com/assets/colab-badge.svg\" alt=\"Open In Colab\"/></a>"
      ]
    },
    {
      "cell_type": "markdown",
      "source": [
        "재귀 - level3 \\\n",
        "하노이의 탑"
      ],
      "metadata": {
        "id": "8PqIl1kyzFfx"
      }
    },
    {
      "cell_type": "code",
      "execution_count": 9,
      "metadata": {
        "colab": {
          "base_uri": "https://localhost:8080/"
        },
        "id": "sHw8kisxzC5Z",
        "outputId": "c0504d48-7111-49c6-d92d-f9a8d65308f5"
      },
      "outputs": [
        {
          "output_type": "execute_result",
          "data": {
            "text/plain": [
              "[[1, 3], [1, 2], [3, 2], [1, 3], [2, 1], [2, 3], [1, 3]]"
            ]
          },
          "metadata": {},
          "execution_count": 9
        }
      ],
      "source": [
        "# 일의 순서를 논리적인 구조로 잘게 나타낸 후 순서에 맞게 코드를 배치하는 것이 중요해 보임.\n",
        "def hanoi(n, start, mid, to, answer): # 옮길 개수, 시작점, 경유지, 목적지, 정답\n",
        "    if n == 1:\n",
        "        return answer.append([start, to])\n",
        "    hanoi(n-1, start, to, mid, answer) # n-1개의 원판을 시작점에서 중간점으로 옮김.\n",
        "    answer.append([start, to]) # 시작점에 있는 가장 큰 원판을 목적지로 옮김.\n",
        "    hanoi(n-1, mid, start, to, answer) # n-1개의 원판을 중간점에서 목적지로 옮김.\n",
        "\n",
        "def solution(n):\n",
        "    answer = []\n",
        "    hanoi(n, 1, 2, 3, answer)\n",
        "    return answer\n",
        "\n",
        "n = 3\n",
        "solution(n)"
      ]
    }
  ]
}