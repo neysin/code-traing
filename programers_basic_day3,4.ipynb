{
  "nbformat": 4,
  "nbformat_minor": 0,
  "metadata": {
    "colab": {
      "provenance": [],
      "authorship_tag": "ABX9TyO72YeETwjUKLraEsFb2sJY",
      "include_colab_link": true
    },
    "kernelspec": {
      "name": "python3",
      "display_name": "Python 3"
    },
    "language_info": {
      "name": "python"
    }
  },
  "cells": [
    {
      "cell_type": "markdown",
      "metadata": {
        "id": "view-in-github",
        "colab_type": "text"
      },
      "source": [
        "<a href=\"https://colab.research.google.com/github/neysin/orm/blob/main/programers_basic_day3%2C4.ipynb\" target=\"_parent\"><img src=\"https://colab.research.google.com/assets/colab-badge.svg\" alt=\"Open In Colab\"/></a>"
      ]
    },
    {
      "cell_type": "code",
      "execution_count": 7,
      "metadata": {
        "colab": {
          "base_uri": "https://localhost:8080/",
          "height": 36
        },
        "id": "hV5F89wNEWuT",
        "outputId": "64b88c98-7101-4422-b89f-83526e3d34b5"
      },
      "outputs": [
        {
          "output_type": "execute_result",
          "data": {
            "text/plain": [
              "'ababababab'"
            ],
            "application/vnd.google.colaboratory.intrinsic+json": {
              "type": "string"
            }
          },
          "metadata": {},
          "execution_count": 7
        }
      ],
      "source": [
        "# 문자열 섞기\n",
        "def solution(str1, str2):\n",
        "    l = []\n",
        "    for i in range(len(str1)):\n",
        "        l.append(f'{str1[i]}{str2[i]}')\n",
        "\n",
        "    return ''.join(l)\n",
        "\n",
        "str1 = \"aaaaa\"\n",
        "str2 = \"bbbbb\"\n",
        "\n",
        "solution(str1, str2)"
      ]
    },
    {
      "cell_type": "code",
      "source": [
        "# 문자 리스트를 문자열로 변환하기\n",
        "def solution(arr):\n",
        "    answer = ''.join(arr)\n",
        "    return answer\n",
        "\n",
        "arr = [\"a\",\"b\",\"c\"]\n",
        "solution(arr)"
      ],
      "metadata": {
        "colab": {
          "base_uri": "https://localhost:8080/",
          "height": 36
        },
        "id": "4MBbX0QgFBG7",
        "outputId": "7579a2f0-eba1-4dcf-b95f-ccbde9e82e17"
      },
      "execution_count": 9,
      "outputs": [
        {
          "output_type": "execute_result",
          "data": {
            "text/plain": [
              "'abc'"
            ],
            "application/vnd.google.colaboratory.intrinsic+json": {
              "type": "string"
            }
          },
          "metadata": {},
          "execution_count": 9
        }
      ]
    },
    {
      "cell_type": "code",
      "source": [
        "# 문자열 곱하기\n",
        "def solution(my_string, k):\n",
        "    answer = my_string * k\n",
        "    return answer\n",
        "\n",
        "my_string = \"string\"\n",
        "k = 3\n",
        "solution(my_string,k)"
      ],
      "metadata": {
        "colab": {
          "base_uri": "https://localhost:8080/",
          "height": 36
        },
        "id": "XgrBA5kCH7kG",
        "outputId": "a3f3af7e-5a00-4d61-b14a-f4c4904924af"
      },
      "execution_count": 12,
      "outputs": [
        {
          "output_type": "execute_result",
          "data": {
            "text/plain": [
              "'stringstringstring'"
            ],
            "application/vnd.google.colaboratory.intrinsic+json": {
              "type": "string"
            }
          },
          "metadata": {},
          "execution_count": 12
        }
      ]
    },
    {
      "cell_type": "code",
      "source": [
        "# 더 크게 합치기\n",
        "def solution(a, b):\n",
        "    result = str(a) + str(b)\n",
        "    result2 = str(b) + str(a)\n",
        "    if int(result) >= int(result2):\n",
        "        return int(result)\n",
        "    else:\n",
        "        return int(result2)\n",
        "\n",
        "a = 9\n",
        "b = 91\n",
        "\n",
        "solution(a,b)"
      ],
      "metadata": {
        "colab": {
          "base_uri": "https://localhost:8080/"
        },
        "id": "-Dj0AQXuISRl",
        "outputId": "c6328ccb-ded3-40b5-d6fa-594591d9217f"
      },
      "execution_count": 15,
      "outputs": [
        {
          "output_type": "execute_result",
          "data": {
            "text/plain": [
              "991"
            ]
          },
          "metadata": {},
          "execution_count": 15
        }
      ]
    },
    {
      "cell_type": "code",
      "source": [
        "# 두 수의 연산값 비교하기\n",
        "def solution(a, b):\n",
        "    result = str(a) + str(b)\n",
        "    result2 = 2 * a * b\n",
        "    if int(result) >= result2:\n",
        "        return int(result)\n",
        "    else:\n",
        "        return result2\n",
        "\n",
        "\n",
        "a = 2\n",
        "b = 91"
      ],
      "metadata": {
        "id": "mlnRkvaNJH0W"
      },
      "execution_count": null,
      "outputs": []
    },
    {
      "cell_type": "code",
      "source": [
        "# n의 배수\n",
        "def solution(num, n):\n",
        "    if num % n == 0:\n",
        "        return 1\n",
        "    else:\n",
        "        return 0\n",
        "\n",
        "num = 92\n",
        "n = 2\n",
        "solution(num, n)"
      ],
      "metadata": {
        "colab": {
          "base_uri": "https://localhost:8080/"
        },
        "id": "1-hqaSeAKD7i",
        "outputId": "5cf76747-6b13-4e73-8682-3407a2f850c7"
      },
      "execution_count": 16,
      "outputs": [
        {
          "output_type": "execute_result",
          "data": {
            "text/plain": [
              "1"
            ]
          },
          "metadata": {},
          "execution_count": 16
        }
      ]
    },
    {
      "cell_type": "code",
      "source": [
        "# 공배수\n",
        "def solution(number, n, m):\n",
        "    if number % n == 0 and number % m == 0:\n",
        "        return 1\n",
        "    else:\n",
        "        return 0\n",
        "\n",
        "number = 60\n",
        "n = 2\n",
        "m = 3\n",
        "solution(number, n, m)"
      ],
      "metadata": {
        "colab": {
          "base_uri": "https://localhost:8080/"
        },
        "id": "qoVka3o9KTCy",
        "outputId": "497d879d-1d98-41c8-bb1f-d5db4afaa7c5"
      },
      "execution_count": 17,
      "outputs": [
        {
          "output_type": "execute_result",
          "data": {
            "text/plain": [
              "1"
            ]
          },
          "metadata": {},
          "execution_count": 17
        }
      ]
    },
    {
      "cell_type": "code",
      "source": [
        "# 홀짝에 따른 다른 값 반환하기\n",
        "def solution(n):\n",
        "    if n % 2 == 0:\n",
        "       even = [i for i in range(n+1) if i % 2 == 0]\n",
        "       return sum(map(lambda x: x**2, even))\n",
        "    else:\n",
        "        odd = [i for i in range(n+1) if i % 2 != 0]\n",
        "        return sum(odd)\n",
        "\n",
        "n = 10\n",
        "solution(n)"
      ],
      "metadata": {
        "colab": {
          "base_uri": "https://localhost:8080/"
        },
        "id": "7sV4dpkyKonq",
        "outputId": "82ba4efb-8b15-4510-8095-f90a3bc75b15"
      },
      "execution_count": 20,
      "outputs": [
        {
          "output_type": "execute_result",
          "data": {
            "text/plain": [
              "220"
            ]
          },
          "metadata": {},
          "execution_count": 20
        }
      ]
    },
    {
      "cell_type": "code",
      "source": [
        "# 조건 문자열\n",
        "def solution(ineq, eq, n, m):\n",
        "    if ineq == '<' and eq == '=':\n",
        "        return int(n <= m)\n",
        "    elif ineq == '<' and eq == '!':\n",
        "        return int(n < m)\n",
        "    elif ineq == '>' and eq == '=':\n",
        "        return int(n >= m)\n",
        "    elif ineq == '>' and eq == '!':\n",
        "        return int(n > m)\n",
        "\n",
        "ineq = '<'\n",
        "eq = '='\n",
        "n = 20\n",
        "m = 50\n",
        "solution(ineq, eq, n, m)"
      ],
      "metadata": {
        "colab": {
          "base_uri": "https://localhost:8080/"
        },
        "id": "MIi1GBUML1Hi",
        "outputId": "1984f748-8550-4e05-b13b-ba252c1206ec"
      },
      "execution_count": 32,
      "outputs": [
        {
          "output_type": "execute_result",
          "data": {
            "text/plain": [
              "1"
            ]
          },
          "metadata": {},
          "execution_count": 32
        }
      ]
    },
    {
      "cell_type": "code",
      "source": [
        "# falg에 따라 다른 값 반환하기\n",
        "def solution(a, b, flag):\n",
        "    if flag == True:\n",
        "        return a + b\n",
        "    else:\n",
        "        return a - b\n",
        "\n",
        "a= -4\n",
        "b = 7\n",
        "flag = True\n",
        "solution(a,b,flag)"
      ],
      "metadata": {
        "colab": {
          "base_uri": "https://localhost:8080/"
        },
        "id": "CX0CfE3BOPgE",
        "outputId": "5b879279-3358-4b83-daef-71bcacfd97df"
      },
      "execution_count": 3,
      "outputs": [
        {
          "output_type": "execute_result",
          "data": {
            "text/plain": [
              "3"
            ]
          },
          "metadata": {},
          "execution_count": 3
        }
      ]
    }
  ]
}