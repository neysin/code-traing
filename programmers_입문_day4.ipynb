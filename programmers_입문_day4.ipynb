{
  "nbformat": 4,
  "nbformat_minor": 0,
  "metadata": {
    "colab": {
      "provenance": [],
      "authorship_tag": "ABX9TyMBmWg1x6v3ikN1QMmGuLDW",
      "include_colab_link": true
    },
    "kernelspec": {
      "name": "python3",
      "display_name": "Python 3"
    },
    "language_info": {
      "name": "python"
    }
  },
  "cells": [
    {
      "cell_type": "markdown",
      "metadata": {
        "id": "view-in-github",
        "colab_type": "text"
      },
      "source": [
        "<a href=\"https://colab.research.google.com/github/neysin/orm/blob/main/programmers_%EC%9E%85%EB%AC%B8_day4.ipynb\" target=\"_parent\"><img src=\"https://colab.research.google.com/assets/colab-badge.svg\" alt=\"Open In Colab\"/></a>"
      ]
    },
    {
      "cell_type": "code",
      "execution_count": 2,
      "metadata": {
        "colab": {
          "base_uri": "https://localhost:8080/"
        },
        "id": "ODXCeDs2alks",
        "outputId": "4e84604a-8f2a-492c-e808-1f8359939894"
      },
      "outputs": [
        {
          "output_type": "execute_result",
          "data": {
            "text/plain": [
              "1"
            ]
          },
          "metadata": {},
          "execution_count": 2
        }
      ],
      "source": [
        "# 피자 나눠 먹기(1)\n",
        "# 먹을 사람 수 = n, 피자 한 판 조각 수 = 7\n",
        "def solution(n):\n",
        "    if n % 7 == 0:\n",
        "        return n // 7\n",
        "    else:\n",
        "        return n // 7 + 1\n",
        "\n",
        "n = 7\n",
        "solution(n)"
      ]
    },
    {
      "cell_type": "code",
      "source": [
        "# 피자 나눠 먹기(2)\n",
        "# 먹을 사람 수 = n, 피자 한 판 조각 수 = 6\n",
        "# 모두가 같은 수의 피자 조각을 먹어야 함\n",
        "def solution(n):\n",
        "    i = 1\n",
        "    while True:\n",
        "        if 6*i % n == 0:\n",
        "            return i\n",
        "        else:\n",
        "            i += 1\n",
        "\n",
        "n = 10\n",
        "solution(n)"
      ],
      "metadata": {
        "colab": {
          "base_uri": "https://localhost:8080/"
        },
        "id": "JYg-1nP9c9cO",
        "outputId": "03f69abb-9503-490c-cb77-fb2c8a26d173"
      },
      "execution_count": 18,
      "outputs": [
        {
          "output_type": "execute_result",
          "data": {
            "text/plain": [
              "5"
            ]
          },
          "metadata": {},
          "execution_count": 18
        }
      ]
    },
    {
      "cell_type": "code",
      "source": [
        "# 피자 나눠 먹기(3)\n",
        "# 먹을 사람 수 = n, 잘라주는 피자 조각 수 = slice, 2~10 조각\n",
        "# 모두 한 조각이상의 피자를 먹어야 함\n",
        "def solution(slice, n):\n",
        "    i = 1\n",
        "    while True:\n",
        "        if slice*i // n >= 1:\n",
        "            return i\n",
        "        else:\n",
        "            i += 1\n",
        "\n",
        "slice = 7\n",
        "n = 10\n",
        "solution(slice, n)"
      ],
      "metadata": {
        "colab": {
          "base_uri": "https://localhost:8080/"
        },
        "id": "ULvANf5Bfv3N",
        "outputId": "2e51c858-9141-42f8-8d08-d2227edf7989"
      },
      "execution_count": 19,
      "outputs": [
        {
          "output_type": "execute_result",
          "data": {
            "text/plain": [
              "2"
            ]
          },
          "metadata": {},
          "execution_count": 19
        }
      ]
    },
    {
      "cell_type": "code",
      "source": [
        "# 배열의 평균값\n",
        "def solution(numbers):\n",
        "    return sum(numbers) / len(numbers)\n",
        "\n",
        "numbers = [1, 2, 3, 4, 5, 6, 7, 8, 9, 10]\n",
        "solution(numbers)"
      ],
      "metadata": {
        "colab": {
          "base_uri": "https://localhost:8080/"
        },
        "id": "t9VR05kNn-zG",
        "outputId": "e0974991-59b8-4934-a5e9-5592ac48b831"
      },
      "execution_count": 20,
      "outputs": [
        {
          "output_type": "execute_result",
          "data": {
            "text/plain": [
              "5.5"
            ]
          },
          "metadata": {},
          "execution_count": 20
        }
      ]
    }
  ]
}