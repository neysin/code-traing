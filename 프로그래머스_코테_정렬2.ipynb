{
  "nbformat": 4,
  "nbformat_minor": 0,
  "metadata": {
    "colab": {
      "provenance": [],
      "authorship_tag": "ABX9TyMpQksi2x++YuwYZPnMNF29",
      "include_colab_link": true
    },
    "kernelspec": {
      "name": "python3",
      "display_name": "Python 3"
    },
    "language_info": {
      "name": "python"
    }
  },
  "cells": [
    {
      "cell_type": "markdown",
      "metadata": {
        "id": "view-in-github",
        "colab_type": "text"
      },
      "source": [
        "<a href=\"https://colab.research.google.com/github/neysin/code-traing/blob/main/%ED%94%84%EB%A1%9C%EA%B7%B8%EB%9E%98%EB%A8%B8%EC%8A%A4_%EC%BD%94%ED%85%8C_%EC%A0%95%EB%A0%AC2.ipynb\" target=\"_parent\"><img src=\"https://colab.research.google.com/assets/colab-badge.svg\" alt=\"Open In Colab\"/></a>"
      ]
    },
    {
      "cell_type": "markdown",
      "source": [
        "정렬 - level2 \\\n",
        "H-index"
      ],
      "metadata": {
        "id": "Ms4uJoG9FgaS"
      }
    },
    {
      "cell_type": "code",
      "execution_count": null,
      "metadata": {
        "id": "zST9fgrUFbHO"
      },
      "outputs": [],
      "source": [
        "# 틀린 코드\n",
        "# 중앙값을 기준으로 1씩 값을 올려 재귀적으로 답을 찾아보려함.\n",
        "def solution(citations):\n",
        "    # n편 중, h번 이상 인용된 논문이 h편 이상이고 나머지 논문이 h번 이하 이용되었다면 h의 최댓값\n",
        "    sorted_cia = sorted(citations)\n",
        "    middle_num = (len(sorted_cia) + 1) // 2\n",
        "\n",
        "    l = []\n",
        "    for i in sorted_cia:\n",
        "        if i >= middle_num:\n",
        "            l.append(i)\n",
        "\n",
        "    if len(l) >= middle_num:\n",
        "        return middle_num\n",
        "    else:\n",
        "        middle_num += 1\n",
        "        solution(citations)\n",
        "\n",
        "\n",
        "citations = [3, 0, 6, 1, 5]\n",
        "solution(citations)"
      ]
    },
    {
      "cell_type": "code",
      "source": [
        "# 정답 코드\n",
        "def solution(citations):\n",
        "    citations.sort() # 오름차순 정렬\n",
        "    for idx, citation in enumerate(citations): # 인덱스 숫자를 붙여서 돌림\n",
        "        if citation >= len(citations) - idx: # 오름차순으로 정렬된 리스트의 idx값을 전체 길이에서 뺌으로써 이는 h번 이상 인용된 논문의 개수를 뜻함\n",
        "            return len(citations) - idx\n",
        "    return 0\n",
        "\n",
        "\n",
        "citations = [3, 0, 6, 1, 5]\n",
        "solution(citations)"
      ],
      "metadata": {
        "id": "oqYcFwBXJyca"
      },
      "execution_count": null,
      "outputs": []
    }
  ]
}