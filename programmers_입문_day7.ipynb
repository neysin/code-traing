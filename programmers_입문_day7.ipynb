{
  "nbformat": 4,
  "nbformat_minor": 0,
  "metadata": {
    "colab": {
      "provenance": [],
      "authorship_tag": "ABX9TyNOwxtEyVca/m1fTa4d+lsz",
      "include_colab_link": true
    },
    "kernelspec": {
      "name": "python3",
      "display_name": "Python 3"
    },
    "language_info": {
      "name": "python"
    }
  },
  "cells": [
    {
      "cell_type": "markdown",
      "metadata": {
        "id": "view-in-github",
        "colab_type": "text"
      },
      "source": [
        "<a href=\"https://colab.research.google.com/github/neysin/orm/blob/main/programmers_%EC%9E%85%EB%AC%B8_day7.ipynb\" target=\"_parent\"><img src=\"https://colab.research.google.com/assets/colab-badge.svg\" alt=\"Open In Colab\"/></a>"
      ]
    },
    {
      "cell_type": "code",
      "execution_count": 14,
      "metadata": {
        "colab": {
          "base_uri": "https://localhost:8080/",
          "height": 36
        },
        "id": "HWW35SAnq2xX",
        "outputId": "09241ed4-125a-4d0d-f02c-6a390b33ff05"
      },
      "outputs": [
        {
          "output_type": "execute_result",
          "data": {
            "text/plain": [
              "'abcde'"
            ],
            "application/vnd.google.colaboratory.intrinsic+json": {
              "type": "string"
            }
          },
          "metadata": {},
          "execution_count": 14
        }
      ],
      "source": [
        "# 특정 문자 제거하기\n",
        "def solution(my_string, letter):\n",
        "    return my_string.replace(letter, '')\n",
        "\n",
        "my_string = \"abcdef\"\n",
        "letter = \"f\"\n",
        "solution(my_string, letter)"
      ]
    },
    {
      "cell_type": "code",
      "source": [
        "# 각도기\n",
        "def solution(angle):\n",
        "    if angle < 90:\n",
        "        return 1\n",
        "    elif angle == 90:\n",
        "        return 2\n",
        "    elif angle < 180:\n",
        "        return 3\n",
        "    elif angle == 180:\n",
        "        return 4\n",
        "\n",
        "angle = 70\n",
        "solution(angle)"
      ],
      "metadata": {
        "colab": {
          "base_uri": "https://localhost:8080/"
        },
        "id": "NuYhr9O9qXED",
        "outputId": "5d088bf0-83f6-4e41-cb8d-fb7a782cc022"
      },
      "execution_count": 15,
      "outputs": [
        {
          "output_type": "execute_result",
          "data": {
            "text/plain": [
              "1"
            ]
          },
          "metadata": {},
          "execution_count": 15
        }
      ]
    },
    {
      "cell_type": "code",
      "source": [
        "# 양꼬치\n",
        "# 10인분 먹으면 음료수 하나 무료\n",
        "# 1인분에 12000원, 음료수 하나에 2000원\n",
        "def solution(n, k):\n",
        "    free_drink = n // 10\n",
        "    return n * 12000 + (k - free_drink) * 2000\n",
        "\n",
        "\n",
        "n = 19\n",
        "k = 3\n",
        "solution(n, k)"
      ],
      "metadata": {
        "colab": {
          "base_uri": "https://localhost:8080/"
        },
        "id": "9e3NP9OFr6uF",
        "outputId": "55fe2de4-2525-4512-8cdd-40d9cdb30c52"
      },
      "execution_count": 16,
      "outputs": [
        {
          "output_type": "execute_result",
          "data": {
            "text/plain": [
              "232000"
            ]
          },
          "metadata": {},
          "execution_count": 16
        }
      ]
    },
    {
      "cell_type": "code",
      "source": [
        "# 짝수의 합\n",
        "def solution(n):\n",
        "    result = 0\n",
        "    for i in range(1, n+1):\n",
        "        if i % 2 == 0:\n",
        "            result += i\n",
        "\n",
        "    return result\n",
        "\n",
        "n = 10\n",
        "solution(n)"
      ],
      "metadata": {
        "colab": {
          "base_uri": "https://localhost:8080/"
        },
        "id": "I71Pi1d-s3dQ",
        "outputId": "3399f516-49fd-45c8-b22b-d3d3bc751bb8"
      },
      "execution_count": 18,
      "outputs": [
        {
          "output_type": "execute_result",
          "data": {
            "text/plain": [
              "30"
            ]
          },
          "metadata": {},
          "execution_count": 18
        }
      ]
    },
    {
      "cell_type": "code",
      "source": [
        "# range로 2의 간격을 준다면 짝수를 순회할 수 있으므로 간결하게 작성 가능\n",
        "def solution(n):\n",
        "    return sum(range(2, n + 1, 2))"
      ],
      "metadata": {
        "id": "g6GyqmEKtT2S"
      },
      "execution_count": null,
      "outputs": []
    }
  ]
}