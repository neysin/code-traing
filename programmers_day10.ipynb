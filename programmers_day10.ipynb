{
  "nbformat": 4,
  "nbformat_minor": 0,
  "metadata": {
    "colab": {
      "provenance": [],
      "authorship_tag": "ABX9TyOf6dgyGk+4bucEM4sPxQa1",
      "include_colab_link": true
    },
    "kernelspec": {
      "name": "python3",
      "display_name": "Python 3"
    },
    "language_info": {
      "name": "python"
    }
  },
  "cells": [
    {
      "cell_type": "markdown",
      "metadata": {
        "id": "view-in-github",
        "colab_type": "text"
      },
      "source": [
        "<a href=\"https://colab.research.google.com/github/neysin/orm/blob/main/programmers_day10.ipynb\" target=\"_parent\"><img src=\"https://colab.research.google.com/assets/colab-badge.svg\" alt=\"Open In Colab\"/></a>"
      ]
    },
    {
      "cell_type": "code",
      "execution_count": 3,
      "metadata": {
        "colab": {
          "base_uri": "https://localhost:8080/",
          "height": 36
        },
        "id": "wQYxxOKJhAm8",
        "outputId": "c9e7818d-d5b7-498f-81a3-f14114f5f134"
      },
      "outputs": [
        {
          "output_type": "execute_result",
          "data": {
            "text/plain": [
              "'ProgrammerS'"
            ],
            "application/vnd.google.colaboratory.intrinsic+json": {
              "type": "string"
            }
          },
          "metadata": {},
          "execution_count": 3
        }
      ],
      "source": [
        "# 문자열의 앞의 n글자\n",
        "def solution(my_string, n):\n",
        "    return my_string[:n]\n",
        "\n",
        "my_string = \"ProgrammerS123\"\n",
        "n = 11\n",
        "solution(my_string, n)"
      ]
    },
    {
      "cell_type": "markdown",
      "source": [
        "접두사인지 확인하기"
      ],
      "metadata": {
        "id": "dLgFhHTajTph"
      }
    },
    {
      "cell_type": "code",
      "source": [
        "# 접두사인지 확인하기\n",
        "def solution(my_string, is_prefix):\n",
        "    return 1 if my_string[:len(is_prefix)] == is_prefix else 0\n",
        "\n",
        "my_string = \"banana\"\n",
        "is_prefix = \"ban\"\n",
        "solution(my_string, is_prefix)"
      ],
      "metadata": {
        "colab": {
          "base_uri": "https://localhost:8080/"
        },
        "id": "9iuLn3NHhiEB",
        "outputId": "ee3c49c9-4576-44b6-cd93-e565bd5ca7c7"
      },
      "execution_count": 10,
      "outputs": [
        {
          "output_type": "execute_result",
          "data": {
            "text/plain": [
              "1"
            ]
          },
          "metadata": {},
          "execution_count": 10
        }
      ]
    },
    {
      "cell_type": "code",
      "source": [
        "# 접두사를 확인하는 함수 startswith를 사용\n",
        "# 접미사를 확인하는 함수로는 endswith가 있음\n",
        "def solution(my_string, is_prefix):\n",
        "    return int(my_string.startswith(is_prefix))"
      ],
      "metadata": {
        "id": "byeWKUsdjBD7"
      },
      "execution_count": null,
      "outputs": []
    },
    {
      "cell_type": "code",
      "source": [
        "# 문자열 뒤집기\n",
        "def solution(my_string, s, e):\n",
        "    return my_string[:s] + my_string[s:e+1][::-1] + my_string[e+1:]\n",
        "\n",
        "my_string = \"Progra21Sremm3\"\n",
        "s = 6\n",
        "e = 12\n",
        "solution(my_string, s, e)"
      ],
      "metadata": {
        "colab": {
          "base_uri": "https://localhost:8080/",
          "height": 36
        },
        "id": "Nn7GJQs9jfUk",
        "outputId": "118dde9c-2f97-4c8d-b9c4-35296f9dad4e"
      },
      "execution_count": 16,
      "outputs": [
        {
          "output_type": "execute_result",
          "data": {
            "text/plain": [
              "'ProgrammerS123'"
            ],
            "application/vnd.google.colaboratory.intrinsic+json": {
              "type": "string"
            }
          },
          "metadata": {},
          "execution_count": 16
        }
      ]
    },
    {
      "cell_type": "code",
      "source": [
        "# 세로 읽기\n",
        "# 생각해보니 리스트화 안시키고 문자열 자체에서 슬라이싱해도 똑같은 결과 나옴\n",
        "def solution(my_string, m, c):\n",
        "    return ''.join(list(my_string)[c-1::m])\n",
        "\n",
        "my_string = \"ihrhbakrfpndopljhygc\"\n",
        "m = 4\n",
        "c = 2\n",
        "solution(my_string, m, c)"
      ],
      "metadata": {
        "colab": {
          "base_uri": "https://localhost:8080/",
          "height": 36
        },
        "id": "9HNYkSYKj-im",
        "outputId": "14017202-c195-4aee-ad16-c0a111649ce9"
      },
      "execution_count": 20,
      "outputs": [
        {
          "output_type": "execute_result",
          "data": {
            "text/plain": [
              "'happy'"
            ],
            "application/vnd.google.colaboratory.intrinsic+json": {
              "type": "string"
            }
          },
          "metadata": {},
          "execution_count": 20
        }
      ]
    },
    {
      "cell_type": "markdown",
      "source": [
        "qr code"
      ],
      "metadata": {
        "id": "r6dht3G0o2Co"
      }
    },
    {
      "cell_type": "code",
      "source": [
        "# qr code\n",
        "def solution(q, r, code):\n",
        "    result =  [code[i] for i in range(len(code)) if i % q == r]\n",
        "    return ''.join(result)\n",
        "\n",
        "q = 3\n",
        "r = 1\n",
        "code = \"qjnwezgrpirldywt\"\n",
        "solution(q, r, code)"
      ],
      "metadata": {
        "colab": {
          "base_uri": "https://localhost:8080/",
          "height": 36
        },
        "id": "CICqRwiWl2Fk",
        "outputId": "1a6bbedd-70b3-4dd2-a781-12999fc0a8fd"
      },
      "execution_count": 23,
      "outputs": [
        {
          "output_type": "execute_result",
          "data": {
            "text/plain": [
              "'jerry'"
            ],
            "application/vnd.google.colaboratory.intrinsic+json": {
              "type": "string"
            }
          },
          "metadata": {},
          "execution_count": 23
        }
      ]
    },
    {
      "cell_type": "code",
      "source": [
        "# 나머지를 찾는 문제긴 하지만 결국은 나머지가 같은 인덱스의 위치는\n",
        "# 같은 간격마다 나오기 때문에 간격만 잘 생각해서 슬라이싱하면 됨.\n",
        "def solution(q, r, code):\n",
        "    return code[r::q]"
      ],
      "metadata": {
        "id": "x-udxA3toUzR"
      },
      "execution_count": null,
      "outputs": []
    }
  ]
}